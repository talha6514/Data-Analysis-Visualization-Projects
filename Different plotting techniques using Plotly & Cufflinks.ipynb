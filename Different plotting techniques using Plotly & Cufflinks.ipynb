{
 "cells": [
  {
   "cell_type": "code",
   "execution_count": 1,
   "id": "bbd598a1",
   "metadata": {},
   "outputs": [],
   "source": [
    "import numpy as np\n",
    "import pandas as pd\n",
    "%matplotlib inline"
   ]
  },
  {
   "cell_type": "code",
   "execution_count": 2,
   "id": "5357710d",
   "metadata": {},
   "outputs": [],
   "source": [
    "from plotly import __version__"
   ]
  },
  {
   "cell_type": "code",
   "execution_count": 3,
   "id": "d5fc4bd4",
   "metadata": {},
   "outputs": [
    {
     "name": "stdout",
     "output_type": "stream",
     "text": [
      "5.5.0\n"
     ]
    }
   ],
   "source": [
    "print(__version__)\n",
    "import cufflinks as cf"
   ]
  },
  {
   "cell_type": "code",
   "execution_count": 4,
   "id": "00019dbf",
   "metadata": {},
   "outputs": [
    {
     "data": {
      "text/html": [
       "        <script type=\"text/javascript\">\n",
       "        window.PlotlyConfig = {MathJaxConfig: 'local'};\n",
       "        if (window.MathJax) {MathJax.Hub.Config({SVG: {font: \"STIX-Web\"}});}\n",
       "        if (typeof require !== 'undefined') {\n",
       "        require.undef(\"plotly\");\n",
       "        requirejs.config({\n",
       "            paths: {\n",
       "                'plotly': ['https://cdn.plot.ly/plotly-2.8.3.min']\n",
       "            }\n",
       "        });\n",
       "        require(['plotly'], function(Plotly) {\n",
       "            window._Plotly = Plotly;\n",
       "        });\n",
       "        }\n",
       "        </script>\n",
       "        "
      ]
     },
     "metadata": {},
     "output_type": "display_data"
    },
    {
     "data": {
      "text/html": [
       "        <script type=\"text/javascript\">\n",
       "        window.PlotlyConfig = {MathJaxConfig: 'local'};\n",
       "        if (window.MathJax) {MathJax.Hub.Config({SVG: {font: \"STIX-Web\"}});}\n",
       "        if (typeof require !== 'undefined') {\n",
       "        require.undef(\"plotly\");\n",
       "        requirejs.config({\n",
       "            paths: {\n",
       "                'plotly': ['https://cdn.plot.ly/plotly-2.8.3.min']\n",
       "            }\n",
       "        });\n",
       "        require(['plotly'], function(Plotly) {\n",
       "            window._Plotly = Plotly;\n",
       "        });\n",
       "        }\n",
       "        </script>\n",
       "        "
      ]
     },
     "metadata": {},
     "output_type": "display_data"
    }
   ],
   "source": [
    "from plotly.offline import download_plotlyjs, init_notebook_mode, plot, iplot\n",
    "init_notebook_mode(connected=True)\n",
    "cf.go_offline()"
   ]
  },
  {
   "cell_type": "code",
   "execution_count": 5,
   "id": "7c835013",
   "metadata": {},
   "outputs": [],
   "source": [
    "df1 = pd.DataFrame(np.random.randn(100,4), columns = 'A B C D'.split())"
   ]
  },
  {
   "cell_type": "code",
   "execution_count": 6,
   "id": "fe9bf153",
   "metadata": {},
   "outputs": [
    {
     "data": {
      "text/html": [
       "<div>\n",
       "<style scoped>\n",
       "    .dataframe tbody tr th:only-of-type {\n",
       "        vertical-align: middle;\n",
       "    }\n",
       "\n",
       "    .dataframe tbody tr th {\n",
       "        vertical-align: top;\n",
       "    }\n",
       "\n",
       "    .dataframe thead th {\n",
       "        text-align: right;\n",
       "    }\n",
       "</style>\n",
       "<table border=\"1\" class=\"dataframe\">\n",
       "  <thead>\n",
       "    <tr style=\"text-align: right;\">\n",
       "      <th></th>\n",
       "      <th>A</th>\n",
       "      <th>B</th>\n",
       "      <th>C</th>\n",
       "      <th>D</th>\n",
       "    </tr>\n",
       "  </thead>\n",
       "  <tbody>\n",
       "    <tr>\n",
       "      <th>0</th>\n",
       "      <td>-0.656474</td>\n",
       "      <td>0.758031</td>\n",
       "      <td>-0.423284</td>\n",
       "      <td>-0.107167</td>\n",
       "    </tr>\n",
       "    <tr>\n",
       "      <th>1</th>\n",
       "      <td>-0.442460</td>\n",
       "      <td>-0.862517</td>\n",
       "      <td>1.035347</td>\n",
       "      <td>0.947945</td>\n",
       "    </tr>\n",
       "    <tr>\n",
       "      <th>2</th>\n",
       "      <td>-1.421053</td>\n",
       "      <td>-1.636664</td>\n",
       "      <td>-0.029441</td>\n",
       "      <td>1.370450</td>\n",
       "    </tr>\n",
       "    <tr>\n",
       "      <th>3</th>\n",
       "      <td>2.138913</td>\n",
       "      <td>-0.026789</td>\n",
       "      <td>-1.308078</td>\n",
       "      <td>-0.348662</td>\n",
       "    </tr>\n",
       "    <tr>\n",
       "      <th>4</th>\n",
       "      <td>0.255783</td>\n",
       "      <td>0.231612</td>\n",
       "      <td>0.257114</td>\n",
       "      <td>1.759547</td>\n",
       "    </tr>\n",
       "  </tbody>\n",
       "</table>\n",
       "</div>"
      ],
      "text/plain": [
       "          A         B         C         D\n",
       "0 -0.656474  0.758031 -0.423284 -0.107167\n",
       "1 -0.442460 -0.862517  1.035347  0.947945\n",
       "2 -1.421053 -1.636664 -0.029441  1.370450\n",
       "3  2.138913 -0.026789 -1.308078 -0.348662\n",
       "4  0.255783  0.231612  0.257114  1.759547"
      ]
     },
     "execution_count": 6,
     "metadata": {},
     "output_type": "execute_result"
    }
   ],
   "source": [
    "df1.head()"
   ]
  },
  {
   "cell_type": "code",
   "execution_count": 7,
   "id": "f4e594ee",
   "metadata": {},
   "outputs": [],
   "source": [
    "df2 = pd.DataFrame({'Category':['A','B','C'],'Values':[32,43,50]})"
   ]
  },
  {
   "cell_type": "code",
   "execution_count": 8,
   "id": "7cd2aef6",
   "metadata": {},
   "outputs": [
    {
     "data": {
      "text/html": [
       "<div>\n",
       "<style scoped>\n",
       "    .dataframe tbody tr th:only-of-type {\n",
       "        vertical-align: middle;\n",
       "    }\n",
       "\n",
       "    .dataframe tbody tr th {\n",
       "        vertical-align: top;\n",
       "    }\n",
       "\n",
       "    .dataframe thead th {\n",
       "        text-align: right;\n",
       "    }\n",
       "</style>\n",
       "<table border=\"1\" class=\"dataframe\">\n",
       "  <thead>\n",
       "    <tr style=\"text-align: right;\">\n",
       "      <th></th>\n",
       "      <th>Category</th>\n",
       "      <th>Values</th>\n",
       "    </tr>\n",
       "  </thead>\n",
       "  <tbody>\n",
       "    <tr>\n",
       "      <th>0</th>\n",
       "      <td>A</td>\n",
       "      <td>32</td>\n",
       "    </tr>\n",
       "    <tr>\n",
       "      <th>1</th>\n",
       "      <td>B</td>\n",
       "      <td>43</td>\n",
       "    </tr>\n",
       "    <tr>\n",
       "      <th>2</th>\n",
       "      <td>C</td>\n",
       "      <td>50</td>\n",
       "    </tr>\n",
       "  </tbody>\n",
       "</table>\n",
       "</div>"
      ],
      "text/plain": [
       "  Category  Values\n",
       "0        A      32\n",
       "1        B      43\n",
       "2        C      50"
      ]
     },
     "execution_count": 8,
     "metadata": {},
     "output_type": "execute_result"
    }
   ],
   "source": [
    "df2"
   ]
  },
  {
   "cell_type": "markdown",
   "id": "6c04e10a",
   "metadata": {},
   "source": [
    "### Line Plot (Default)"
   ]
  },
  {
   "cell_type": "code",
   "execution_count": 9,
   "id": "68dbe830",
   "metadata": {},
   "outputs": [
    {
     "data": {
      "text/plain": [
       "<AxesSubplot:>"
      ]
     },
     "execution_count": 9,
     "metadata": {},
     "output_type": "execute_result"
    },
    {
     "data": {
      "image/png": "[encoded data removed]",
      "text/plain": [
       "<Figure size 864x216 with 1 Axes>"
      ]
     },
     "metadata": {
      "needs_background": "light"
     },
     "output_type": "display_data"
    }
   ],
   "source": [
    "df1.plot(figsize = (12,3))"
   ]
  },
  {
   "cell_type": "code",
   "execution_count": 10,
   "id": "2317cd72",
   "metadata": {},
   "outputs": [
    {
     "data": {
      "application/vnd.plotly.v1+json": {
       "config": {
        "linkText": "Export to plot.ly",
        "plotlyServerURL": "https://plot.ly",
        "showLink": true
       },
       "data": [
        {
         "line": {
          "color": "rgba(255, 153, 51, 1.0)",
          "dash": "solid",
          "shape": "linear",
          "width": 1.3
         },
         "mode": "lines",
         "name": "A",
         "text": "",
         "type": "scatter",
         "x": [
          0,
          1,
          2,
          3,
          4,
          5,
          6,
          7,
          8,
          9,
          10,
          11,
          12,
          13,
          14,
          15,
          16,
          17,
          18,
          19,
          20,
          21,
          22,
          23,
          24,
          25,
          26,
          27,
          28,
          29,
          30,
          31,
          32,
          33,
          34,
          35,
          36,
          37,
          38,
          39,
          40,
          41,
          42,
          43,
          44,
          45,
          46,
          47,
          48,
          49,
          50,
          51,
          52,
          53,
          54,
          55,
          56,
          57,
          58,
          59,
          60,
          61,
          62,
          63,
          64,
          65,
          66,
          67,
          68,
          69,
          70,
          71,
          72,
          73,
          74,
          75,
          76,
          77,
          78,
          79,
          80,
          81,
          82,
          83,
          84,
          85,
          86,
          87,
          88,
          89,
          90,
          91,
          92,
          93,
          94,
          95,
          96,
          97,
          98,
          99
         ],
         "y": [
          -0.6564744824764208,
          -0.44246018622678035,
          -1.4210529165487331,
          2.138912840106512,
          0.25578258692089706,
          0.39805143783044833,
          -0.12701603877964637,
          -0.7336425614675899,
          0.17166378867506915,
          0.2710840189785207,
          0.8534092997086261,
          -0.28423806801324436,
          0.680442831707899,
          1.0056126864042327,
          0.22345415383044398,
          1.3471504835508696,
          0.4868772969639054,
          -0.8560743163392702,
          0.2437582614308069,
          0.13615747280918256,
          1.7766279162229373,
          -0.047392212385020574,
          -1.478739271543873,
          0.6674437983342687,
          -1.0518729658163994,
          1.1450743950503413,
          0.45312446388413863,
          -2.247532593483744,
          -0.9380816730886774,
          0.5747550876841555,
          0.7445251795288704,
          -1.1397301094244776,
          -0.7330965447959531,
          0.0011163348157742902,
          -0.4384112915386252,
          -0.5103765163837336,
          0.2572701355520642,
          -0.2672705429298812,
          -0.3152386136033564,
          0.1641860318298152,
          -0.6148004002051985,
          0.07205002157098324,
          -2.3569799035568906,
          1.0536881549659127,
          0.026917841374375365,
          -1.5516053705251112,
          -0.37391562462327005,
          0.16636832151140332,
          2.1868099430258554,
          -0.41916960443056883,
          0.10496423203936313,
          0.6279926573009582,
          -0.6471640572249683,
          0.30945396871171144,
          -0.4692873864786442,
          -1.090176869362269,
          -0.4143546663277241,
          -0.9027350183105727,
          0.469359002390997,
          -1.4219684339163654,
          0.820847128917743,
          0.05483278813128337,
          1.2392518808560637,
          1.545366633263906,
          0.41934477765089295,
          0.8240554271196706,
          0.8649157101002072,
          -2.1965301978204814,
          0.3476863183989522,
          -0.12640063221688605,
          -1.1095799572682512,
          -0.7608133813357494,
          -2.2044745973693805,
          -2.0304273169011986,
          1.2711060359943978,
          0.13692317269969045,
          -0.0583827092739993,
          2.4115580112408193,
          -2.0777630091319015,
          0.9344928525053398,
          0.3953105866307476,
          -1.0128314490635355,
          1.3925168200064224,
          -0.2746806087720305,
          -0.15873804270543176,
          -1.2063378835963559,
          1.4659391526336598,
          0.7259062288360807,
          -0.018616086991251776,
          -1.0972073757865193,
          -1.0458427688984127,
          0.6742520113874113,
          -0.9688805187614103,
          -2.606590225991158,
          0.2665069685897831,
          0.08035808638610199,
          -1.019013237251515,
          -0.4491197717632893,
          0.9587565600232877,
          -1.2542926097550613
         ]
        },
        {
         "line": {
          "color": "rgba(55, 128, 191, 1.0)",
          "dash": "solid",
          "shape": "linear",
          "width": 1.3
         },
         "mode": "lines",
         "name": "B",
         "text": "",
         "type": "scatter",
         "x": [
          0,
          1,
          2,
          3,
          4,
          5,
          6,
          7,
          8,
          9,
          10,
          11,
          12,
          13,
          14,
          15,
          16,
          17,
          18,
          19,
          20,
          21,
          22,
          23,
          24,
          25,
          26,
          27,
          28,
          29,
          30,
          31,
          32,
          33,
          34,
          35,
          36,
          37,
          38,
          39,
          40,
          41,
          42,
          43,
          44,
          45,
          46,
          47,
          48,
          49,
          50,
          51,
          52,
          53,
          54,
          55,
          56,
          57,
          58,
          59,
          60,
          61,
          62,
          63,
          64,
          65,
          66,
          67,
          68,
          69,
          70,
          71,
          72,
          73,
          74,
          75,
          76,
          77,
          78,
          79,
          80,
          81,
          82,
          83,
          84,
          85,
          86,
          87,
          88,
          89,
          90,
          91,
          92,
          93,
          94,
          95,
          96,
          97,
          98,
          99
         ],
         "y": [
          0.7580307738992594,
          -0.8625173585817463,
          -1.6366635579880784,
          -0.026788812721112613,
          0.23161175849466448,
          1.2199293002623273,
          -0.7827188654461145,
          -0.7798390650913686,
          -0.12947907683514331,
          1.0712209025603268,
          -1.6383769059706026,
          0.25328144466334795,
          1.742638202990484,
          -0.056327495806758165,
          0.9437057933647285,
          2.8831757257521318,
          -0.4852972323833704,
          -0.4567365046026048,
          1.751431838705155,
          -2.406015038199109,
          0.7666963809140104,
          0.5834452650619113,
          -0.8810627750669326,
          -0.036135506573511146,
          0.31705001021648394,
          -0.7061871317069055,
          -0.3159150502367156,
          0.08679183834852548,
          -0.8773079487843657,
          0.34059428566701344,
          1.0117894523788795,
          -1.4223713004706713,
          0.3673575618258237,
          0.7994209827176314,
          -1.1402490848522213,
          -0.3098259650285641,
          0.44816075628217805,
          0.49225862230469863,
          -0.3198429663090066,
          0.7535928972424636,
          0.4062231366911554,
          -1.08852071659089,
          1.1932699862276017,
          -0.046812403925451065,
          -0.6242289885758998,
          0.47350489169255794,
          1.3140622219608786,
          0.7095495168694461,
          0.9399012385745007,
          -0.5384307148443165,
          -0.40173779338780424,
          0.8825797641438177,
          0.6310546479945338,
          -1.4908672034369301,
          1.105551235508307,
          -1.0855229769921029,
          1.8267336788316682,
          -1.4570122535225705,
          1.0784279389579425,
          -0.23609493119741587,
          -1.4518345771106087,
          -0.936347192855875,
          -0.516520118557937,
          1.9069306637372558,
          1.662383470919966,
          0.9539323596162675,
          -1.4309045262582105,
          0.13734272360761482,
          0.9725589422670315,
          0.19749937583635072,
          0.74497483397035,
          0.13798664679425274,
          -0.15382944980659588,
          0.42496202557755824,
          0.9446417743242981,
          1.4187557504647668,
          0.6373039613528989,
          1.0420549704138093,
          0.7428217879179443,
          -0.5985146435300484,
          1.3981806462267188,
          -0.6561336730020627,
          -0.4070023977511638,
          -0.452667589405772,
          -0.20514059006008803,
          0.011753641259448565,
          0.18499711275591785,
          0.44806318398005307,
          -0.7264420958566794,
          0.2040679431299117,
          -1.001927548621951,
          -1.2416331719420421,
          -1.6536030828556114,
          0.04634236549350992,
          -0.4952910163578565,
          0.22935390509840975,
          -0.9281710976792457,
          0.5036946030081555,
          -0.43453838988986104,
          -0.9682049615136412
         ]
        },
        {
         "line": {
          "color": "rgba(50, 171, 96, 1.0)",
          "dash": "solid",
          "shape": "linear",
          "width": 1.3
         },
         "mode": "lines",
         "name": "C",
         "text": "",
         "type": "scatter",
         "x": [
          0,
          1,
          2,
          3,
          4,
          5,
          6,
          7,
          8,
          9,
          10,
          11,
          12,
          13,
          14,
          15,
          16,
          17,
          18,
          19,
          20,
          21,
          22,
          23,
          24,
          25,
          26,
          27,
          28,
          29,
          30,
          31,
          32,
          33,
          34,
          35,
          36,
          37,
          38,
          39,
          40,
          41,
          42,
          43,
          44,
          45,
          46,
          47,
          48,
          49,
          50,
          51,
          52,
          53,
          54,
          55,
          56,
          57,
          58,
          59,
          60,
          61,
          62,
          63,
          64,
          65,
          66,
          67,
          68,
          69,
          70,
          71,
          72,
          73,
          74,
          75,
          76,
          77,
          78,
          79,
          80,
          81,
          82,
          83,
          84,
          85,
          86,
          87,
          88,
          89,
          90,
          91,
          92,
          93,
          94,
          95,
          96,
          97,
          98,
          99
         ],
         "y": [
          -0.42328414092118744,
          1.0353472703466378,
          -0.0294408149925103,
          -1.3080779107417164,
          0.25711409791473455,
          0.44151315445685657,
          -0.3195050000927743,
          -0.0782500400354517,
          0.3676051961488906,
          -0.2978329257209743,
          -0.2766171637298272,
          -0.24694369601875368,
          -0.10309387266580315,
          0.7002446278340115,
          0.6308102905466025,
          2.0903240423469898,
          -0.2317200157760494,
          -0.5234257695437491,
          1.8548080260680004,
          0.4462577324476635,
          0.16869572021215656,
          -0.2016134910168743,
          1.136302564871149,
          0.09046804222624254,
          0.09604573434310844,
          0.7101795501867115,
          -2.2211369990891976,
          0.9989208680144112,
          -1.9128529841297661,
          -0.23169876192442396,
          1.5039552670839198,
          0.07453974564807933,
          1.6458237555562663,
          -1.1306690961320491,
          1.8809855537953806,
          1.132954840145376,
          1.896604275133463,
          0.5134515307830606,
          0.24846752386668378,
          -1.2813358260908256,
          -1.010521716642204,
          -2.3311459813542825,
          -0.6680178594950927,
          -0.816257723324524,
          -0.31215073260909865,
          0.2896328233261768,
          -0.2942037452702574,
          -1.024219271919298,
          -1.401699272632873,
          -0.5209246285045438,
          0.7320320730304343,
          0.5283941356938554,
          -1.1817292342895411,
          -1.3859581339557363,
          0.8237850642318686,
          0.9257312630709252,
          -1.599339160178483,
          -2.161194784895461,
          0.6964050088817003,
          1.5000282089604031,
          0.08725442825022327,
          0.20878016257964457,
          0.05873282026572182,
          0.6161988103482395,
          1.834148373840194,
          -1.2540834843384059,
          0.6871027942149779,
          0.026056859698059952,
          -0.4923515756312518,
          -0.5927746585197166,
          1.3610770586776446,
          0.47391091683380754,
          -1.043306889443504,
          -0.9509116911101757,
          -1.259416192419341,
          0.9921273537989724,
          0.987622646571816,
          -1.3342156202755444,
          0.619427880375424,
          -1.6728984990220959,
          -0.2707463551132399,
          -1.2529502080559582,
          -0.7971115155360949,
          1.5541975949074123,
          -1.1773786977491547,
          0.5423811266351756,
          0.24605744005141958,
          0.6004666442151226,
          0.07809251506709225,
          0.2266454844784491,
          1.6991242708513101,
          0.06415258070870512,
          -1.0142989668442808,
          -0.2768891447723133,
          0.2815421718642755,
          -0.8970518215859872,
          -1.408365328601296,
          -0.7172290558737238,
          -0.9120682724390551,
          -0.3758549478690623
         ]
        },
        {
         "line": {
          "color": "rgba(128, 0, 128, 1.0)",
          "dash": "solid",
          "shape": "linear",
          "width": 1.3
         },
         "mode": "lines",
         "name": "D",
         "text": "",
         "type": "scatter",
         "x": [
          0,
          1,
          2,
          3,
          4,
          5,
          6,
          7,
          8,
          9,
          10,
          11,
          12,
          13,
          14,
          15,
          16,
          17,
          18,
          19,
          20,
          21,
          22,
          23,
          24,
          25,
          26,
          27,
          28,
          29,
          30,
          31,
          32,
          33,
          34,
          35,
          36,
          37,
          38,
          39,
          40,
          41,
          42,
          43,
          44,
          45,
          46,
          47,
          48,
          49,
          50,
          51,
          52,
          53,
          54,
          55,
          56,
          57,
          58,
          59,
          60,
          61,
          62,
          63,
          64,
          65,
          66,
          67,
          68,
          69,
          70,
          71,
          72,
          73,
          74,
          75,
          76,
          77,
          78,
          79,
          80,
          81,
          82,
          83,
          84,
          85,
          86,
          87,
          88,
          89,
          90,
          91,
          92,
          93,
          94,
          95,
          96,
          97,
          98,
          99
         ],
         "y": [
          -0.10716739297592093,
          0.9479447284269172,
          1.370449958759234,
          -0.3486615965666615,
          1.7595465505714352,
          1.2108974389734368,
          -0.2558252394530886,
          -0.3260742183018137,
          -1.0322519522885203,
          0.16297492715093576,
          -1.4054321746177054,
          -0.00698178770017601,
          2.061329468159568,
          0.9141131146417977,
          0.8540937334668862,
          -0.2863489155732238,
          -0.5347005786338509,
          0.890134217321711,
          -0.950323074305132,
          -0.13587532077936681,
          -0.12484544447554184,
          -0.9370911689176806,
          1.3146357722090332,
          -0.979263981063374,
          1.6873436206550463,
          0.025813178944782612,
          0.504914906087867,
          -0.6052362964597082,
          -1.066220133411954,
          1.1234871186905926,
          0.846274540328193,
          -1.0831796372168665,
          1.06996558045424,
          -0.5118601253884535,
          0.10609320920173515,
          0.535557285109827,
          -0.3984491458827878,
          0.05999073369188505,
          -0.0074878011174125784,
          0.4670072811114906,
          0.3457846756450776,
          -0.06540687218194201,
          0.3344504087283477,
          -0.36236153907488633,
          0.12095079414114726,
          -0.2864767074860481,
          -0.9504952195194385,
          -0.08660523507889167,
          -0.10925485119560914,
          -0.8138806328071769,
          -1.1545992931889217,
          0.9980930558710237,
          0.9183716149515965,
          0.6686252676065014,
          0.11654882546394174,
          0.7979385777603432,
          0.08313121585625391,
          -0.06228743418704124,
          1.6011316341757469,
          -0.3155469149620852,
          0.33716677390464384,
          0.7654842236614688,
          0.609143054712147,
          0.2542674371087768,
          0.38922056390307846,
          -1.3521129363192337,
          -0.4146807398899897,
          -0.6601327716673171,
          0.05342590961294951,
          0.03553851069847322,
          -0.05992784857539338,
          -1.046987014575927,
          0.619076819809439,
          -0.043419863957865255,
          -0.8376319917789405,
          -0.7475893747085525,
          -1.1474612757784273,
          -0.4437291270075998,
          0.7188952225519313,
          1.2749955498757781,
          0.6180104532009417,
          1.1040970559403493,
          -0.6904557848469052,
          0.9700683280446663,
          -2.615923999858738,
          0.20587985862580907,
          -1.2747922174592787,
          0.04425500071520386,
          -0.6111696155178268,
          -1.8934406758301399,
          0.3125770370371499,
          1.993201331082072,
          0.47292052826578557,
          1.758906521973015,
          1.2655394276257803,
          0.9414468603637745,
          0.7297611658319217,
          -0.29012638219263476,
          -0.581399645596098,
          0.7532369215612564
         ]
        }
       ],
       "layout": {
        "legend": {
         "bgcolor": "#F5F6F9",
         "font": {
          "color": "#4D5663"
         }
        },
        "paper_bgcolor": "#F5F6F9",
        "plot_bgcolor": "#F5F6F9",
        "template": {
         "data": {
          "bar": [
           {
            "error_x": {
             "color": "#2a3f5f"
            },
            "error_y": {
             "color": "#2a3f5f"
            },
            "marker": {
             "line": {
              "color": "#E5ECF6",
              "width": 0.5
             },
             "pattern": {
              "fillmode": "overlay",
              "size": 10,
              "solidity": 0.2
             }
            },
            "type": "bar"
           }
          ],
          "barpolar": [
           {
            "marker": {
             "line": {
              "color": "#E5ECF6",
              "width": 0.5
             },
             "pattern": {
              "fillmode": "overlay",
              "size": 10,
              "solidity": 0.2
             }
            },
            "type": "barpolar"
           }
          ],
          "carpet": [
           {
            "aaxis": {
             "endlinecolor": "#2a3f5f",
             "gridcolor": "white",
             "linecolor": "white",
             "minorgridcolor": "white",
             "startlinecolor": "#2a3f5f"
            },
            "baxis": {
             "endlinecolor": "#2a3f5f",
             "gridcolor": "white",
             "linecolor": "white",
             "minorgridcolor": "white",
             "startlinecolor": "#2a3f5f"
            },
            "type": "carpet"
           }
          ],
          "choropleth": [
           {
            "colorbar": {
             "outlinewidth": 0,
             "ticks": ""
            },
            "type": "choropleth"
           }
          ],
          "contour": [
           {
            "colorbar": {
             "outlinewidth": 0,
             "ticks": ""
            },
            "colorscale": [
             [
              0,
              "#0d0887"
             ],
             [
              0.1111111111111111,
              "#46039f"
             ],
             [
              0.2222222222222222,
              "#7201a8"
             ],
             [
              0.3333333333333333,
              "#9c179e"
             ],
             [
              0.4444444444444444,
              "#bd3786"
             ],
             [
              0.5555555555555556,
              "#d8576b"
             ],
             [
              0.6666666666666666,
              "#ed7953"
             ],
             [
              0.7777777777777778,
              "#fb9f3a"
             ],
             [
              0.8888888888888888,
              "#fdca26"
             ],
             [
              1,
              "#f0f921"
             ]
            ],
            "type": "contour"
           }
          ],
          "contourcarpet": [
           {
            "colorbar": {
             "outlinewidth": 0,
             "ticks": ""
            },
            "type": "contourcarpet"
           }
          ],
          "heatmap": [
           {
            "colorbar": {
             "outlinewidth": 0,
             "ticks": ""
            },
            "colorscale": [
             [
              0,
              "#0d0887"
             ],
             [
              0.1111111111111111,
              "#46039f"
             ],
             [
              0.2222222222222222,
              "#7201a8"
             ],
             [
              0.3333333333333333,
              "#9c179e"
             ],
             [
              0.4444444444444444,
              "#bd3786"
             ],
             [
              0.5555555555555556,
              "#d8576b"
             ],
             [
              0.6666666666666666,
              "#ed7953"
             ],
             [
              0.7777777777777778,
              "#fb9f3a"
             ],
             [
              0.8888888888888888,
              "#fdca26"
             ],
             [
              1,
              "#f0f921"
             ]
            ],
            "type": "heatmap"
           }
          ],
          "heatmapgl": [
           {
            "colorbar": {
             "outlinewidth": 0,
             "ticks": ""
            },
            "colorscale": [
             [
              0,
              "#0d0887"
             ],
             [
              0.1111111111111111,
              "#46039f"
             ],
             [
              0.2222222222222222,
              "#7201a8"
             ],
             [
              0.3333333333333333,
              "#9c179e"
             ],
             [
              0.4444444444444444,
              "#bd3786"
             ],
             [
              0.5555555555555556,
              "#d8576b"
             ],
             [
              0.6666666666666666,
              "#ed7953"
             ],
             [
              0.7777777777777778,
              "#fb9f3a"
             ],
             [
              0.8888888888888888,
              "#fdca26"
             ],
             [
              1,
              "#f0f921"
             ]
            ],
            "type": "heatmapgl"
           }
          ],
          "histogram": [
           {
            "marker": {
             "pattern": {
              "fillmode": "overlay",
              "size": 10,
              "solidity": 0.2
             }
            },
            "type": "histogram"
           }
          ],
          "histogram2d": [
           {
            "colorbar": {
             "outlinewidth": 0,
             "ticks": ""
            },
            "colorscale": [
             [
              0,
              "#0d0887"
             ],
             [
              0.1111111111111111,
              "#46039f"
             ],
             [
              0.2222222222222222,
              "#7201a8"
             ],
             [
              0.3333333333333333,
              "#9c179e"
             ],
             [
              0.4444444444444444,
              "#bd3786"
             ],
             [
              0.5555555555555556,
              "#d8576b"
             ],
             [
              0.6666666666666666,
              "#ed7953"
             ],
             [
              0.7777777777777778,
              "#fb9f3a"
             ],
             [
              0.8888888888888888,
              "#fdca26"
             ],
             [
              1,
              "#f0f921"
             ]
            ],
            "type": "histogram2d"
           }
          ],
          "histogram2dcontour": [
           {
            "colorbar": {
             "outlinewidth": 0,
             "ticks": ""
            },
            "colorscale": [
             [
              0,
              "#0d0887"
             ],
             [
              0.1111111111111111,
              "#46039f"
             ],
             [
              0.2222222222222222,
              "#7201a8"
             ],
             [
              0.3333333333333333,
              "#9c179e"
             ],
             [
              0.4444444444444444,
              "#bd3786"
             ],
             [
              0.5555555555555556,
              "#d8576b"
             ],
             [
              0.6666666666666666,
              "#ed7953"
             ],
             [
              0.7777777777777778,
              "#fb9f3a"
             ],
             [
              0.8888888888888888,
              "#fdca26"
             ],
             [
              1,
              "#f0f921"
             ]
            ],
            "type": "histogram2dcontour"
           }
          ],
          "mesh3d": [
           {
            "colorbar": {
             "outlinewidth": 0,
             "ticks": ""
            },
            "type": "mesh3d"
           }
          ],
          "parcoords": [
           {
            "line": {
             "colorbar": {
              "outlinewidth": 0,
              "ticks": ""
             }
            },
            "type": "parcoords"
           }
          ],
          "pie": [
           {
            "automargin": true,
            "type": "pie"
           }
          ],
          "scatter": [
           {
            "marker": {
             "colorbar": {
              "outlinewidth": 0,
              "ticks": ""
             }
            },
            "type": "scatter"
           }
          ],
          "scatter3d": [
           {
            "line": {
             "colorbar": {
              "outlinewidth": 0,
              "ticks": ""
             }
            },
            "marker": {
             "colorbar": {
              "outlinewidth": 0,
              "ticks": ""
             }
            },
            "type": "scatter3d"
           }
          ],
          "scattercarpet": [
           {
            "marker": {
             "colorbar": {
              "outlinewidth": 0,
              "ticks": ""
             }
            },
            "type": "scattercarpet"
           }
          ],
          "scattergeo": [
           {
            "marker": {
             "colorbar": {
              "outlinewidth": 0,
              "ticks": ""
             }
            },
            "type": "scattergeo"
           }
          ],
          "scattergl": [
           {
            "marker": {
             "colorbar": {
              "outlinewidth": 0,
              "ticks": ""
             }
            },
            "type": "scattergl"
           }
          ],
          "scattermapbox": [
           {
            "marker": {
             "colorbar": {
              "outlinewidth": 0,
              "ticks": ""
             }
            },
            "type": "scattermapbox"
           }
          ],
          "scatterpolar": [
           {
            "marker": {
             "colorbar": {
              "outlinewidth": 0,
              "ticks": ""
             }
            },
            "type": "scatterpolar"
           }
          ],
          "scatterpolargl": [
           {
            "marker": {
             "colorbar": {
              "outlinewidth": 0,
              "ticks": ""
             }
            },
            "type": "scatterpolargl"
           }
          ],
          "scatterternary": [
           {
            "marker": {
             "colorbar": {
              "outlinewidth": 0,
              "ticks": ""
             }
            },
            "type": "scatterternary"
           }
          ],
          "surface": [
           {
            "colorbar": {
             "outlinewidth": 0,
             "ticks": ""
            },
            "colorscale": [
             [
              0,
              "#0d0887"
             ],
             [
              0.1111111111111111,
              "#46039f"
             ],
             [
              0.2222222222222222,
              "#7201a8"
             ],
             [
              0.3333333333333333,
              "#9c179e"
             ],
             [
              0.4444444444444444,
              "#bd3786"
             ],
             [
              0.5555555555555556,
              "#d8576b"
             ],
             [
              0.6666666666666666,
              "#ed7953"
             ],
             [
              0.7777777777777778,
              "#fb9f3a"
             ],
             [
              0.8888888888888888,
              "#fdca26"
             ],
             [
              1,
              "#f0f921"
             ]
            ],
            "type": "surface"
           }
          ],
          "table": [
           {
            "cells": {
             "fill": {
              "color": "#EBF0F8"
             },
             "line": {
              "color": "white"
             }
            },
            "header": {
             "fill": {
              "color": "#C8D4E3"
             },
             "line": {
              "color": "white"
             }
            },
            "type": "table"
           }
          ]
         },
         "layout": {
          "annotationdefaults": {
           "arrowcolor": "#2a3f5f",
           "arrowhead": 0,
           "arrowwidth": 1
          },
          "autotypenumbers": "strict",
          "coloraxis": {
           "colorbar": {
            "outlinewidth": 0,
            "ticks": ""
           }
          },
          "colorscale": {
           "diverging": [
            [
             0,
             "#8e0152"
            ],
            [
             0.1,
             "#c51b7d"
            ],
            [
             0.2,
             "#de77ae"
            ],
            [
             0.3,
             "#f1b6da"
            ],
            [
             0.4,
             "#fde0ef"
            ],
            [
             0.5,
             "#f7f7f7"
            ],
            [
             0.6,
             "#e6f5d0"
            ],
            [
             0.7,
             "#b8e186"
            ],
            [
             0.8,
             "#7fbc41"
            ],
            [
             0.9,
             "#4d9221"
            ],
            [
             1,
             "#276419"
            ]
           ],
           "sequential": [
            [
             0,
             "#0d0887"
            ],
            [
             0.1111111111111111,
             "#46039f"
            ],
            [
             0.2222222222222222,
             "#7201a8"
            ],
            [
             0.3333333333333333,
             "#9c179e"
            ],
            [
             0.4444444444444444,
             "#bd3786"
            ],
            [
             0.5555555555555556,
             "#d8576b"
            ],
            [
             0.6666666666666666,
             "#ed7953"
            ],
            [
             0.7777777777777778,
             "#fb9f3a"
            ],
            [
             0.8888888888888888,
             "#fdca26"
            ],
            [
             1,
             "#f0f921"
            ]
           ],
           "sequentialminus": [
            [
             0,
             "#0d0887"
            ],
            [
             0.1111111111111111,
             "#46039f"
            ],
            [
             0.2222222222222222,
             "#7201a8"
            ],
            [
             0.3333333333333333,
             "#9c179e"
            ],
            [
             0.4444444444444444,
             "#bd3786"
            ],
            [
             0.5555555555555556,
             "#d8576b"
            ],
            [
             0.6666666666666666,
             "#ed7953"
            ],
            [
             0.7777777777777778,
             "#fb9f3a"
            ],
            [
             0.8888888888888888,
             "#fdca26"
            ],
            [
             1,
             "#f0f921"
            ]
           ]
          },
          "colorway": [
           "#636efa",
           "#EF553B",
           "#00cc96",
           "#ab63fa",
           "#FFA15A",
           "#19d3f3",
           "#FF6692",
           "#B6E880",
           "#FF97FF",
           "#FECB52"
          ],
          "font": {
           "color": "#2a3f5f"
          },
          "geo": {
           "bgcolor": "white",
           "lakecolor": "white",
           "landcolor": "#E5ECF6",
           "showlakes": true,
           "showland": true,
           "subunitcolor": "white"
          },
          "hoverlabel": {
           "align": "left"
          },
          "hovermode": "closest",
          "mapbox": {
           "style": "light"
          },
          "paper_bgcolor": "white",
          "plot_bgcolor": "#E5ECF6",
          "polar": {
           "angularaxis": {
            "gridcolor": "white",
            "linecolor": "white",
            "ticks": ""
           },
           "bgcolor": "#E5ECF6",
           "radialaxis": {
            "gridcolor": "white",
            "linecolor": "white",
            "ticks": ""
           }
          },
          "scene": {
           "xaxis": {
            "backgroundcolor": "#E5ECF6",
            "gridcolor": "white",
            "gridwidth": 2,
            "linecolor": "white",
            "showbackground": true,
            "ticks": "",
            "zerolinecolor": "white"
           },
           "yaxis": {
            "backgroundcolor": "#E5ECF6",
            "gridcolor": "white",
            "gridwidth": 2,
            "linecolor": "white",
            "showbackground": true,
            "ticks": "",
            "zerolinecolor": "white"
           },
           "zaxis": {
            "backgroundcolor": "#E5ECF6",
            "gridcolor": "white",
            "gridwidth": 2,
            "linecolor": "white",
            "showbackground": true,
            "ticks": "",
            "zerolinecolor": "white"
           }
          },
          "shapedefaults": {
           "line": {
            "color": "#2a3f5f"
           }
          },
          "ternary": {
           "aaxis": {
            "gridcolor": "white",
            "linecolor": "white",
            "ticks": ""
           },
           "baxis": {
            "gridcolor": "white",
            "linecolor": "white",
            "ticks": ""
           },
           "bgcolor": "#E5ECF6",
           "caxis": {
            "gridcolor": "white",
            "linecolor": "white",
            "ticks": ""
           }
          },
          "title": {
           "x": 0.05
          },
          "xaxis": {
           "automargin": true,
           "gridcolor": "white",
           "linecolor": "white",
           "ticks": "",
           "title": {
            "standoff": 15
           },
           "zerolinecolor": "white",
           "zerolinewidth": 2
          },
          "yaxis": {
           "automargin": true,
           "gridcolor": "white",
           "linecolor": "white",
           "ticks": "",
           "title": {
            "standoff": 15
           },
           "zerolinecolor": "white",
           "zerolinewidth": 2
          }
         }
        },
        "title": {
         "font": {
          "color": "#4D5663"
         }
        },
        "xaxis": {
         "gridcolor": "#E1E5ED",
         "showgrid": true,
         "tickfont": {
          "color": "#4D5663"
         },
         "title": {
          "font": {
           "color": "#4D5663"
          },
          "text": ""
         },
         "zerolinecolor": "#E1E5ED"
        },
        "yaxis": {
         "gridcolor": "#E1E5ED",
         "showgrid": true,
         "tickfont": {
          "color": "#4D5663"
         },
         "title": {
          "font": {
           "color": "#4D5663"
          },
          "text": ""
         },
         "zerolinecolor": "#E1E5ED"
        }
       }
      },
      "text/html": [
       "<div>                            <div id=\"291188c7-35e0-4bb4-92bb-3fb8d46bb510\" class=\"plotly-graph-div\" style=\"height:525px; width:100%;\"></div>            <script type=\"text/javascript\">                require([\"plotly\"], function(Plotly) {                    window.PLOTLYENV=window.PLOTLYENV || {};\n",
       "                    window.PLOTLYENV.BASE_URL='https://plot.ly';                                    if (document.getElementById(\"291188c7-35e0-4bb4-92bb-3fb8d46bb510\")) {                    Plotly.newPlot(                        \"291188c7-35e0-4bb4-92bb-3fb8d46bb510\",                        [{\"line\":{\"color\":\"rgba(255, 153, 51, 1.0)\",\"dash\":\"solid\",\"shape\":\"linear\",\"width\":1.3},\"mode\":\"lines\",\"name\":\"A\",\"text\":\"\",\"x\":[0,1,2,3,4,5,6,7,8,9,10,11,12,13,14,15,16,17,18,19,20,21,22,23,24,25,26,27,28,29,30,31,32,33,34,35,36,37,38,39,40,41,42,43,44,45,46,47,48,49,50,51,52,53,54,55,56,57,58,59,60,61,62,63,64,65,66,67,68,69,70,71,72,73,74,75,76,77,78,79,80,81,82,83,84,85,86,87,88,89,90,91,92,93,94,95,96,97,98,99],\"y\":[-0.6564744824764208,-0.44246018622678035,-1.4210529165487331,2.138912840106512,0.25578258692089706,0.39805143783044833,-0.12701603877964637,-0.7336425614675899,0.17166378867506915,0.2710840189785207,0.8534092997086261,-0.28423806801324436,0.680442831707899,1.0056126864042327,0.22345415383044398,1.3471504835508696,0.4868772969639054,-0.8560743163392702,0.2437582614308069,0.13615747280918256,1.7766279162229373,-0.047392212385020574,-1.478739271543873,0.6674437983342687,-1.0518729658163994,1.1450743950503413,0.45312446388413863,-2.247532593483744,-0.9380816730886774,0.5747550876841555,0.7445251795288704,-1.1397301094244776,-0.7330965447959531,0.0011163348157742902,-0.4384112915386252,-0.5103765163837336,0.2572701355520642,-0.2672705429298812,-0.3152386136033564,0.1641860318298152,-0.6148004002051985,0.07205002157098324,-2.3569799035568906,1.0536881549659127,0.026917841374375365,-1.5516053705251112,-0.37391562462327005,0.16636832151140332,2.1868099430258554,-0.41916960443056883,0.10496423203936313,0.6279926573009582,-0.6471640572249683,0.30945396871171144,-0.4692873864786442,-1.090176869362269,-0.4143546663277241,-0.9027350183105727,0.469359002390997,-1.4219684339163654,0.820847128917743,0.05483278813128337,1.2392518808560637,1.545366633263906,0.41934477765089295,0.8240554271196706,0.8649157101002072,-2.1965301978204814,0.3476863183989522,-0.12640063221688605,-1.1095799572682512,-0.7608133813357494,-2.2044745973693805,-2.0304273169011986,1.2711060359943978,0.13692317269969045,-0.0583827092739993,2.4115580112408193,-2.0777630091319015,0.9344928525053398,0.3953105866307476,-1.0128314490635355,1.3925168200064224,-0.2746806087720305,-0.15873804270543176,-1.2063378835963559,1.4659391526336598,0.7259062288360807,-0.018616086991251776,-1.0972073757865193,-1.0458427688984127,0.6742520113874113,-0.9688805187614103,-2.606590225991158,0.2665069685897831,0.08035808638610199,-1.019013237251515,-0.4491197717632893,0.9587565600232877,-1.2542926097550613],\"type\":\"scatter\"},{\"line\":{\"color\":\"rgba(55, 128, 191, 1.0)\",\"dash\":\"solid\",\"shape\":\"linear\",\"width\":1.3},\"mode\":\"lines\",\"name\":\"B\",\"text\":\"\",\"x\":[0,1,2,3,4,5,6,7,8,9,10,11,12,13,14,15,16,17,18,19,20,21,22,23,24,25,26,27,28,29,30,31,32,33,34,35,36,37,38,39,40,41,42,43,44,45,46,47,48,49,50,51,52,53,54,55,56,57,58,59,60,61,62,63,64,65,66,67,68,69,70,71,72,73,74,75,76,77,78,79,80,81,82,83,84,85,86,87,88,89,90,91,92,93,94,95,96,97,98,99],\"y\":[0.7580307738992594,-0.8625173585817463,-1.6366635579880784,-0.026788812721112613,0.23161175849466448,1.2199293002623273,-0.7827188654461145,-0.7798390650913686,-0.12947907683514331,1.0712209025603268,-1.6383769059706026,0.25328144466334795,1.742638202990484,-0.056327495806758165,0.9437057933647285,2.8831757257521318,-0.4852972323833704,-0.4567365046026048,1.751431838705155,-2.406015038199109,0.7666963809140104,0.5834452650619113,-0.8810627750669326,-0.036135506573511146,0.31705001021648394,-0.7061871317069055,-0.3159150502367156,0.08679183834852548,-0.8773079487843657,0.34059428566701344,1.0117894523788795,-1.4223713004706713,0.3673575618258237,0.7994209827176314,-1.1402490848522213,-0.3098259650285641,0.44816075628217805,0.49225862230469863,-0.3198429663090066,0.7535928972424636,0.4062231366911554,-1.08852071659089,1.1932699862276017,-0.046812403925451065,-0.6242289885758998,0.47350489169255794,1.3140622219608786,0.7095495168694461,0.9399012385745007,-0.5384307148443165,-0.40173779338780424,0.8825797641438177,0.6310546479945338,-1.4908672034369301,1.105551235508307,-1.0855229769921029,1.8267336788316682,-1.4570122535225705,1.0784279389579425,-0.23609493119741587,-1.4518345771106087,-0.936347192855875,-0.516520118557937,1.9069306637372558,1.662383470919966,0.9539323596162675,-1.4309045262582105,0.13734272360761482,0.9725589422670315,0.19749937583635072,0.74497483397035,0.13798664679425274,-0.15382944980659588,0.42496202557755824,0.9446417743242981,1.4187557504647668,0.6373039613528989,1.0420549704138093,0.7428217879179443,-0.5985146435300484,1.3981806462267188,-0.6561336730020627,-0.4070023977511638,-0.452667589405772,-0.20514059006008803,0.011753641259448565,0.18499711275591785,0.44806318398005307,-0.7264420958566794,0.2040679431299117,-1.001927548621951,-1.2416331719420421,-1.6536030828556114,0.04634236549350992,-0.4952910163578565,0.22935390509840975,-0.9281710976792457,0.5036946030081555,-0.43453838988986104,-0.9682049615136412],\"type\":\"scatter\"},{\"line\":{\"color\":\"rgba(50, 171, 96, 1.0)\",\"dash\":\"solid\",\"shape\":\"linear\",\"width\":1.3},\"mode\":\"lines\",\"name\":\"C\",\"text\":\"\",\"x\":[0,1,2,3,4,5,6,7,8,9,10,11,12,13,14,15,16,17,18,19,20,21,22,23,24,25,26,27,28,29,30,31,32,33,34,35,36,37,38,39,40,41,42,43,44,45,46,47,48,49,50,51,52,53,54,55,56,57,58,59,60,61,62,63,64,65,66,67,68,69,70,71,72,73,74,75,76,77,78,79,80,81,82,83,84,85,86,87,88,89,90,91,92,93,94,95,96,97,98,99],\"y\":[-0.42328414092118744,1.0353472703466378,-0.0294408149925103,-1.3080779107417164,0.25711409791473455,0.44151315445685657,-0.3195050000927743,-0.0782500400354517,0.3676051961488906,-0.2978329257209743,-0.2766171637298272,-0.24694369601875368,-0.10309387266580315,0.7002446278340115,0.6308102905466025,2.0903240423469898,-0.2317200157760494,-0.5234257695437491,1.8548080260680004,0.4462577324476635,0.16869572021215656,-0.2016134910168743,1.136302564871149,0.09046804222624254,0.09604573434310844,0.7101795501867115,-2.2211369990891976,0.9989208680144112,-1.9128529841297661,-0.23169876192442396,1.5039552670839198,0.07453974564807933,1.6458237555562663,-1.1306690961320491,1.8809855537953806,1.132954840145376,1.896604275133463,0.5134515307830606,0.24846752386668378,-1.2813358260908256,-1.010521716642204,-2.3311459813542825,-0.6680178594950927,-0.816257723324524,-0.31215073260909865,0.2896328233261768,-0.2942037452702574,-1.024219271919298,-1.401699272632873,-0.5209246285045438,0.7320320730304343,0.5283941356938554,-1.1817292342895411,-1.3859581339557363,0.8237850642318686,0.9257312630709252,-1.599339160178483,-2.161194784895461,0.6964050088817003,1.5000282089604031,0.08725442825022327,0.20878016257964457,0.05873282026572182,0.6161988103482395,1.834148373840194,-1.2540834843384059,0.6871027942149779,0.026056859698059952,-0.4923515756312518,-0.5927746585197166,1.3610770586776446,0.47391091683380754,-1.043306889443504,-0.9509116911101757,-1.259416192419341,0.9921273537989724,0.987622646571816,-1.3342156202755444,0.619427880375424,-1.6728984990220959,-0.2707463551132399,-1.2529502080559582,-0.7971115155360949,1.5541975949074123,-1.1773786977491547,0.5423811266351756,0.24605744005141958,0.6004666442151226,0.07809251506709225,0.2266454844784491,1.6991242708513101,0.06415258070870512,-1.0142989668442808,-0.2768891447723133,0.2815421718642755,-0.8970518215859872,-1.408365328601296,-0.7172290558737238,-0.9120682724390551,-0.3758549478690623],\"type\":\"scatter\"},{\"line\":{\"color\":\"rgba(128, 0, 128, 1.0)\",\"dash\":\"solid\",\"shape\":\"linear\",\"width\":1.3},\"mode\":\"lines\",\"name\":\"D\",\"text\":\"\",\"x\":[0,1,2,3,4,5,6,7,8,9,10,11,12,13,14,15,16,17,18,19,20,21,22,23,24,25,26,27,28,29,30,31,32,33,34,35,36,37,38,39,40,41,42,43,44,45,46,47,48,49,50,51,52,53,54,55,56,57,58,59,60,61,62,63,64,65,66,67,68,69,70,71,72,73,74,75,76,77,78,79,80,81,82,83,84,85,86,87,88,89,90,91,92,93,94,95,96,97,98,99],\"y\":[-0.10716739297592093,0.9479447284269172,1.370449958759234,-0.3486615965666615,1.7595465505714352,1.2108974389734368,-0.2558252394530886,-0.3260742183018137,-1.0322519522885203,0.16297492715093576,-1.4054321746177054,-0.00698178770017601,2.061329468159568,0.9141131146417977,0.8540937334668862,-0.2863489155732238,-0.5347005786338509,0.890134217321711,-0.950323074305132,-0.13587532077936681,-0.12484544447554184,-0.9370911689176806,1.3146357722090332,-0.979263981063374,1.6873436206550463,0.025813178944782612,0.504914906087867,-0.6052362964597082,-1.066220133411954,1.1234871186905926,0.846274540328193,-1.0831796372168665,1.06996558045424,-0.5118601253884535,0.10609320920173515,0.535557285109827,-0.3984491458827878,0.05999073369188505,-0.0074878011174125784,0.4670072811114906,0.3457846756450776,-0.06540687218194201,0.3344504087283477,-0.36236153907488633,0.12095079414114726,-0.2864767074860481,-0.9504952195194385,-0.08660523507889167,-0.10925485119560914,-0.8138806328071769,-1.1545992931889217,0.9980930558710237,0.9183716149515965,0.6686252676065014,0.11654882546394174,0.7979385777603432,0.08313121585625391,-0.06228743418704124,1.6011316341757469,-0.3155469149620852,0.33716677390464384,0.7654842236614688,0.609143054712147,0.2542674371087768,0.38922056390307846,-1.3521129363192337,-0.4146807398899897,-0.6601327716673171,0.05342590961294951,0.03553851069847322,-0.05992784857539338,-1.046987014575927,0.619076819809439,-0.043419863957865255,-0.8376319917789405,-0.7475893747085525,-1.1474612757784273,-0.4437291270075998,0.7188952225519313,1.2749955498757781,0.6180104532009417,1.1040970559403493,-0.6904557848469052,0.9700683280446663,-2.615923999858738,0.20587985862580907,-1.2747922174592787,0.04425500071520386,-0.6111696155178268,-1.8934406758301399,0.3125770370371499,1.993201331082072,0.47292052826578557,1.758906521973015,1.2655394276257803,0.9414468603637745,0.7297611658319217,-0.29012638219263476,-0.581399645596098,0.7532369215612564],\"type\":\"scatter\"}],                        {\"legend\":{\"bgcolor\":\"#F5F6F9\",\"font\":{\"color\":\"#4D5663\"}},\"paper_bgcolor\":\"#F5F6F9\",\"plot_bgcolor\":\"#F5F6F9\",\"template\":{\"data\":{\"barpolar\":[{\"marker\":{\"line\":{\"color\":\"#E5ECF6\",\"width\":0.5},\"pattern\":{\"fillmode\":\"overlay\",\"size\":10,\"solidity\":0.2}},\"type\":\"barpolar\"}],\"bar\":[{\"error_x\":{\"color\":\"#2a3f5f\"},\"error_y\":{\"color\":\"#2a3f5f\"},\"marker\":{\"line\":{\"color\":\"#E5ECF6\",\"width\":0.5},\"pattern\":{\"fillmode\":\"overlay\",\"size\":10,\"solidity\":0.2}},\"type\":\"bar\"}],\"carpet\":[{\"aaxis\":{\"endlinecolor\":\"#2a3f5f\",\"gridcolor\":\"white\",\"linecolor\":\"white\",\"minorgridcolor\":\"white\",\"startlinecolor\":\"#2a3f5f\"},\"baxis\":{\"endlinecolor\":\"#2a3f5f\",\"gridcolor\":\"white\",\"linecolor\":\"white\",\"minorgridcolor\":\"white\",\"startlinecolor\":\"#2a3f5f\"},\"type\":\"carpet\"}],\"choropleth\":[{\"colorbar\":{\"outlinewidth\":0,\"ticks\":\"\"},\"type\":\"choropleth\"}],\"contourcarpet\":[{\"colorbar\":{\"outlinewidth\":0,\"ticks\":\"\"},\"type\":\"contourcarpet\"}],\"contour\":[{\"colorbar\":{\"outlinewidth\":0,\"ticks\":\"\"},\"colorscale\":[[0.0,\"#0d0887\"],[0.1111111111111111,\"#46039f\"],[0.2222222222222222,\"#7201a8\"],[0.3333333333333333,\"#9c179e\"],[0.4444444444444444,\"#bd3786\"],[0.5555555555555556,\"#d8576b\"],[0.6666666666666666,\"#ed7953\"],[0.7777777777777778,\"#fb9f3a\"],[0.8888888888888888,\"#fdca26\"],[1.0,\"#f0f921\"]],\"type\":\"contour\"}],\"heatmapgl\":[{\"colorbar\":{\"outlinewidth\":0,\"ticks\":\"\"},\"colorscale\":[[0.0,\"#0d0887\"],[0.1111111111111111,\"#46039f\"],[0.2222222222222222,\"#7201a8\"],[0.3333333333333333,\"#9c179e\"],[0.4444444444444444,\"#bd3786\"],[0.5555555555555556,\"#d8576b\"],[0.6666666666666666,\"#ed7953\"],[0.7777777777777778,\"#fb9f3a\"],[0.8888888888888888,\"#fdca26\"],[1.0,\"#f0f921\"]],\"type\":\"heatmapgl\"}],\"heatmap\":[{\"colorbar\":{\"outlinewidth\":0,\"ticks\":\"\"},\"colorscale\":[[0.0,\"#0d0887\"],[0.1111111111111111,\"#46039f\"],[0.2222222222222222,\"#7201a8\"],[0.3333333333333333,\"#9c179e\"],[0.4444444444444444,\"#bd3786\"],[0.5555555555555556,\"#d8576b\"],[0.6666666666666666,\"#ed7953\"],[0.7777777777777778,\"#fb9f3a\"],[0.8888888888888888,\"#fdca26\"],[1.0,\"#f0f921\"]],\"type\":\"heatmap\"}],\"histogram2dcontour\":[{\"colorbar\":{\"outlinewidth\":0,\"ticks\":\"\"},\"colorscale\":[[0.0,\"#0d0887\"],[0.1111111111111111,\"#46039f\"],[0.2222222222222222,\"#7201a8\"],[0.3333333333333333,\"#9c179e\"],[0.4444444444444444,\"#bd3786\"],[0.5555555555555556,\"#d8576b\"],[0.6666666666666666,\"#ed7953\"],[0.7777777777777778,\"#fb9f3a\"],[0.8888888888888888,\"#fdca26\"],[1.0,\"#f0f921\"]],\"type\":\"histogram2dcontour\"}],\"histogram2d\":[{\"colorbar\":{\"outlinewidth\":0,\"ticks\":\"\"},\"colorscale\":[[0.0,\"#0d0887\"],[0.1111111111111111,\"#46039f\"],[0.2222222222222222,\"#7201a8\"],[0.3333333333333333,\"#9c179e\"],[0.4444444444444444,\"#bd3786\"],[0.5555555555555556,\"#d8576b\"],[0.6666666666666666,\"#ed7953\"],[0.7777777777777778,\"#fb9f3a\"],[0.8888888888888888,\"#fdca26\"],[1.0,\"#f0f921\"]],\"type\":\"histogram2d\"}],\"histogram\":[{\"marker\":{\"pattern\":{\"fillmode\":\"overlay\",\"size\":10,\"solidity\":0.2}},\"type\":\"histogram\"}],\"mesh3d\":[{\"colorbar\":{\"outlinewidth\":0,\"ticks\":\"\"},\"type\":\"mesh3d\"}],\"parcoords\":[{\"line\":{\"colorbar\":{\"outlinewidth\":0,\"ticks\":\"\"}},\"type\":\"parcoords\"}],\"pie\":[{\"automargin\":true,\"type\":\"pie\"}],\"scatter3d\":[{\"line\":{\"colorbar\":{\"outlinewidth\":0,\"ticks\":\"\"}},\"marker\":{\"colorbar\":{\"outlinewidth\":0,\"ticks\":\"\"}},\"type\":\"scatter3d\"}],\"scattercarpet\":[{\"marker\":{\"colorbar\":{\"outlinewidth\":0,\"ticks\":\"\"}},\"type\":\"scattercarpet\"}],\"scattergeo\":[{\"marker\":{\"colorbar\":{\"outlinewidth\":0,\"ticks\":\"\"}},\"type\":\"scattergeo\"}],\"scattergl\":[{\"marker\":{\"colorbar\":{\"outlinewidth\":0,\"ticks\":\"\"}},\"type\":\"scattergl\"}],\"scattermapbox\":[{\"marker\":{\"colorbar\":{\"outlinewidth\":0,\"ticks\":\"\"}},\"type\":\"scattermapbox\"}],\"scatterpolargl\":[{\"marker\":{\"colorbar\":{\"outlinewidth\":0,\"ticks\":\"\"}},\"type\":\"scatterpolargl\"}],\"scatterpolar\":[{\"marker\":{\"colorbar\":{\"outlinewidth\":0,\"ticks\":\"\"}},\"type\":\"scatterpolar\"}],\"scatter\":[{\"marker\":{\"colorbar\":{\"outlinewidth\":0,\"ticks\":\"\"}},\"type\":\"scatter\"}],\"scatterternary\":[{\"marker\":{\"colorbar\":{\"outlinewidth\":0,\"ticks\":\"\"}},\"type\":\"scatterternary\"}],\"surface\":[{\"colorbar\":{\"outlinewidth\":0,\"ticks\":\"\"},\"colorscale\":[[0.0,\"#0d0887\"],[0.1111111111111111,\"#46039f\"],[0.2222222222222222,\"#7201a8\"],[0.3333333333333333,\"#9c179e\"],[0.4444444444444444,\"#bd3786\"],[0.5555555555555556,\"#d8576b\"],[0.6666666666666666,\"#ed7953\"],[0.7777777777777778,\"#fb9f3a\"],[0.8888888888888888,\"#fdca26\"],[1.0,\"#f0f921\"]],\"type\":\"surface\"}],\"table\":[{\"cells\":{\"fill\":{\"color\":\"#EBF0F8\"},\"line\":{\"color\":\"white\"}},\"header\":{\"fill\":{\"color\":\"#C8D4E3\"},\"line\":{\"color\":\"white\"}},\"type\":\"table\"}]},\"layout\":{\"annotationdefaults\":{\"arrowcolor\":\"#2a3f5f\",\"arrowhead\":0,\"arrowwidth\":1},\"autotypenumbers\":\"strict\",\"coloraxis\":{\"colorbar\":{\"outlinewidth\":0,\"ticks\":\"\"}},\"colorscale\":{\"diverging\":[[0,\"#8e0152\"],[0.1,\"#c51b7d\"],[0.2,\"#de77ae\"],[0.3,\"#f1b6da\"],[0.4,\"#fde0ef\"],[0.5,\"#f7f7f7\"],[0.6,\"#e6f5d0\"],[0.7,\"#b8e186\"],[0.8,\"#7fbc41\"],[0.9,\"#4d9221\"],[1,\"#276419\"]],\"sequential\":[[0.0,\"#0d0887\"],[0.1111111111111111,\"#46039f\"],[0.2222222222222222,\"#7201a8\"],[0.3333333333333333,\"#9c179e\"],[0.4444444444444444,\"#bd3786\"],[0.5555555555555556,\"#d8576b\"],[0.6666666666666666,\"#ed7953\"],[0.7777777777777778,\"#fb9f3a\"],[0.8888888888888888,\"#fdca26\"],[1.0,\"#f0f921\"]],\"sequentialminus\":[[0.0,\"#0d0887\"],[0.1111111111111111,\"#46039f\"],[0.2222222222222222,\"#7201a8\"],[0.3333333333333333,\"#9c179e\"],[0.4444444444444444,\"#bd3786\"],[0.5555555555555556,\"#d8576b\"],[0.6666666666666666,\"#ed7953\"],[0.7777777777777778,\"#fb9f3a\"],[0.8888888888888888,\"#fdca26\"],[1.0,\"#f0f921\"]]},\"colorway\":[\"#636efa\",\"#EF553B\",\"#00cc96\",\"#ab63fa\",\"#FFA15A\",\"#19d3f3\",\"#FF6692\",\"#B6E880\",\"#FF97FF\",\"#FECB52\"],\"font\":{\"color\":\"#2a3f5f\"},\"geo\":{\"bgcolor\":\"white\",\"lakecolor\":\"white\",\"landcolor\":\"#E5ECF6\",\"showlakes\":true,\"showland\":true,\"subunitcolor\":\"white\"},\"hoverlabel\":{\"align\":\"left\"},\"hovermode\":\"closest\",\"mapbox\":{\"style\":\"light\"},\"paper_bgcolor\":\"white\",\"plot_bgcolor\":\"#E5ECF6\",\"polar\":{\"angularaxis\":{\"gridcolor\":\"white\",\"linecolor\":\"white\",\"ticks\":\"\"},\"bgcolor\":\"#E5ECF6\",\"radialaxis\":{\"gridcolor\":\"white\",\"linecolor\":\"white\",\"ticks\":\"\"}},\"scene\":{\"xaxis\":{\"backgroundcolor\":\"#E5ECF6\",\"gridcolor\":\"white\",\"gridwidth\":2,\"linecolor\":\"white\",\"showbackground\":true,\"ticks\":\"\",\"zerolinecolor\":\"white\"},\"yaxis\":{\"backgroundcolor\":\"#E5ECF6\",\"gridcolor\":\"white\",\"gridwidth\":2,\"linecolor\":\"white\",\"showbackground\":true,\"ticks\":\"\",\"zerolinecolor\":\"white\"},\"zaxis\":{\"backgroundcolor\":\"#E5ECF6\",\"gridcolor\":\"white\",\"gridwidth\":2,\"linecolor\":\"white\",\"showbackground\":true,\"ticks\":\"\",\"zerolinecolor\":\"white\"}},\"shapedefaults\":{\"line\":{\"color\":\"#2a3f5f\"}},\"ternary\":{\"aaxis\":{\"gridcolor\":\"white\",\"linecolor\":\"white\",\"ticks\":\"\"},\"baxis\":{\"gridcolor\":\"white\",\"linecolor\":\"white\",\"ticks\":\"\"},\"bgcolor\":\"#E5ECF6\",\"caxis\":{\"gridcolor\":\"white\",\"linecolor\":\"white\",\"ticks\":\"\"}},\"title\":{\"x\":0.05},\"xaxis\":{\"automargin\":true,\"gridcolor\":\"white\",\"linecolor\":\"white\",\"ticks\":\"\",\"title\":{\"standoff\":15},\"zerolinecolor\":\"white\",\"zerolinewidth\":2},\"yaxis\":{\"automargin\":true,\"gridcolor\":\"white\",\"linecolor\":\"white\",\"ticks\":\"\",\"title\":{\"standoff\":15},\"zerolinecolor\":\"white\",\"zerolinewidth\":2}}},\"title\":{\"font\":{\"color\":\"#4D5663\"}},\"xaxis\":{\"gridcolor\":\"#E1E5ED\",\"showgrid\":true,\"tickfont\":{\"color\":\"#4D5663\"},\"title\":{\"font\":{\"color\":\"#4D5663\"},\"text\":\"\"},\"zerolinecolor\":\"#E1E5ED\"},\"yaxis\":{\"gridcolor\":\"#E1E5ED\",\"showgrid\":true,\"tickfont\":{\"color\":\"#4D5663\"},\"title\":{\"font\":{\"color\":\"#4D5663\"},\"text\":\"\"},\"zerolinecolor\":\"#E1E5ED\"}},                        {\"showLink\": true, \"linkText\": \"Export to plot.ly\", \"plotlyServerURL\": \"https://plot.ly\", \"responsive\": true}                    ).then(function(){\n",
       "                            \n",
       "var gd = document.getElementById('291188c7-35e0-4bb4-92bb-3fb8d46bb510');\n",
       "var x = new MutationObserver(function (mutations, observer) {{\n",
       "        var display = window.getComputedStyle(gd).display;\n",
       "        if (!display || display === 'none') {{\n",
       "            console.log([gd, 'removed!']);\n",
       "            Plotly.purge(gd);\n",
       "            observer.disconnect();\n",
       "        }}\n",
       "}});\n",
       "\n",
       "// Listen for the removal of the full notebook cells\n",
       "var notebookContainer = gd.closest('#notebook-container');\n",
       "if (notebookContainer) {{\n",
       "    x.observe(notebookContainer, {childList: true});\n",
       "}}\n",
       "\n",
       "// Listen for the clearing of the current output cell\n",
       "var outputEl = gd.closest('.output');\n",
       "if (outputEl) {{\n",
       "    x.observe(outputEl, {childList: true});\n",
       "}}\n",
       "\n",
       "                        })                };                });            </script>        </div>"
      ]
     },
     "metadata": {},
     "output_type": "display_data"
    }
   ],
   "source": [
    "df1.iplot()"
   ]
  },
  {
   "cell_type": "markdown",
   "id": "f675134f",
   "metadata": {},
   "source": [
    "### Scatter Plot"
   ]
  },
  {
   "cell_type": "code",
   "execution_count": 11,
   "id": "5f417f8a",
   "metadata": {},
   "outputs": [
    {
     "data": {
      "application/vnd.plotly.v1+json": {
       "config": {
        "linkText": "Export to plot.ly",
        "plotlyServerURL": "https://plot.ly",
        "showLink": true
       },
       "data": [
        {
         "line": {
          "color": "rgba(255, 153, 51, 1.0)",
          "dash": "solid",
          "shape": "linear",
          "width": 1.3
         },
         "mode": "lines",
         "name": "B",
         "text": "",
         "type": "scatter",
         "x": [
          -0.6564744824764208,
          -0.44246018622678035,
          -1.4210529165487331,
          2.138912840106512,
          0.25578258692089706,
          0.39805143783044833,
          -0.12701603877964637,
          -0.7336425614675899,
          0.17166378867506915,
          0.2710840189785207,
          0.8534092997086261,
          -0.28423806801324436,
          0.680442831707899,
          1.0056126864042327,
          0.22345415383044398,
          1.3471504835508696,
          0.4868772969639054,
          -0.8560743163392702,
          0.2437582614308069,
          0.13615747280918256,
          1.7766279162229373,
          -0.047392212385020574,
          -1.478739271543873,
          0.6674437983342687,
          -1.0518729658163994,
          1.1450743950503413,
          0.45312446388413863,
          -2.247532593483744,
          -0.9380816730886774,
          0.5747550876841555,
          0.7445251795288704,
          -1.1397301094244776,
          -0.7330965447959531,
          0.0011163348157742902,
          -0.4384112915386252,
          -0.5103765163837336,
          0.2572701355520642,
          -0.2672705429298812,
          -0.3152386136033564,
          0.1641860318298152,
          -0.6148004002051985,
          0.07205002157098324,
          -2.3569799035568906,
          1.0536881549659127,
          0.026917841374375365,
          -1.5516053705251112,
          -0.37391562462327005,
          0.16636832151140332,
          2.1868099430258554,
          -0.41916960443056883,
          0.10496423203936313,
          0.6279926573009582,
          -0.6471640572249683,
          0.30945396871171144,
          -0.4692873864786442,
          -1.090176869362269,
          -0.4143546663277241,
          -0.9027350183105727,
          0.469359002390997,
          -1.4219684339163654,
          0.820847128917743,
          0.05483278813128337,
          1.2392518808560637,
          1.545366633263906,
          0.41934477765089295,
          0.8240554271196706,
          0.8649157101002072,
          -2.1965301978204814,
          0.3476863183989522,
          -0.12640063221688605,
          -1.1095799572682512,
          -0.7608133813357494,
          -2.2044745973693805,
          -2.0304273169011986,
          1.2711060359943978,
          0.13692317269969045,
          -0.0583827092739993,
          2.4115580112408193,
          -2.0777630091319015,
          0.9344928525053398,
          0.3953105866307476,
          -1.0128314490635355,
          1.3925168200064224,
          -0.2746806087720305,
          -0.15873804270543176,
          -1.2063378835963559,
          1.4659391526336598,
          0.7259062288360807,
          -0.018616086991251776,
          -1.0972073757865193,
          -1.0458427688984127,
          0.6742520113874113,
          -0.9688805187614103,
          -2.606590225991158,
          0.2665069685897831,
          0.08035808638610199,
          -1.019013237251515,
          -0.4491197717632893,
          0.9587565600232877,
          -1.2542926097550613
         ],
         "y": [
          0.7580307738992594,
          -0.8625173585817463,
          -1.6366635579880784,
          -0.026788812721112613,
          0.23161175849466448,
          1.2199293002623273,
          -0.7827188654461145,
          -0.7798390650913686,
          -0.12947907683514331,
          1.0712209025603268,
          -1.6383769059706026,
          0.25328144466334795,
          1.742638202990484,
          -0.056327495806758165,
          0.9437057933647285,
          2.8831757257521318,
          -0.4852972323833704,
          -0.4567365046026048,
          1.751431838705155,
          -2.406015038199109,
          0.7666963809140104,
          0.5834452650619113,
          -0.8810627750669326,
          -0.036135506573511146,
          0.31705001021648394,
          -0.7061871317069055,
          -0.3159150502367156,
          0.08679183834852548,
          -0.8773079487843657,
          0.34059428566701344,
          1.0117894523788795,
          -1.4223713004706713,
          0.3673575618258237,
          0.7994209827176314,
          -1.1402490848522213,
          -0.3098259650285641,
          0.44816075628217805,
          0.49225862230469863,
          -0.3198429663090066,
          0.7535928972424636,
          0.4062231366911554,
          -1.08852071659089,
          1.1932699862276017,
          -0.046812403925451065,
          -0.6242289885758998,
          0.47350489169255794,
          1.3140622219608786,
          0.7095495168694461,
          0.9399012385745007,
          -0.5384307148443165,
          -0.40173779338780424,
          0.8825797641438177,
          0.6310546479945338,
          -1.4908672034369301,
          1.105551235508307,
          -1.0855229769921029,
          1.8267336788316682,
          -1.4570122535225705,
          1.0784279389579425,
          -0.23609493119741587,
          -1.4518345771106087,
          -0.936347192855875,
          -0.516520118557937,
          1.9069306637372558,
          1.662383470919966,
          0.9539323596162675,
          -1.4309045262582105,
          0.13734272360761482,
          0.9725589422670315,
          0.19749937583635072,
          0.74497483397035,
          0.13798664679425274,
          -0.15382944980659588,
          0.42496202557755824,
          0.9446417743242981,
          1.4187557504647668,
          0.6373039613528989,
          1.0420549704138093,
          0.7428217879179443,
          -0.5985146435300484,
          1.3981806462267188,
          -0.6561336730020627,
          -0.4070023977511638,
          -0.452667589405772,
          -0.20514059006008803,
          0.011753641259448565,
          0.18499711275591785,
          0.44806318398005307,
          -0.7264420958566794,
          0.2040679431299117,
          -1.001927548621951,
          -1.2416331719420421,
          -1.6536030828556114,
          0.04634236549350992,
          -0.4952910163578565,
          0.22935390509840975,
          -0.9281710976792457,
          0.5036946030081555,
          -0.43453838988986104,
          -0.9682049615136412
         ]
        }
       ],
       "layout": {
        "legend": {
         "bgcolor": "#F5F6F9",
         "font": {
          "color": "#4D5663"
         }
        },
        "paper_bgcolor": "#F5F6F9",
        "plot_bgcolor": "#F5F6F9",
        "template": {
         "data": {
          "bar": [
           {
            "error_x": {
             "color": "#2a3f5f"
            },
            "error_y": {
             "color": "#2a3f5f"
            },
            "marker": {
             "line": {
              "color": "#E5ECF6",
              "width": 0.5
             },
             "pattern": {
              "fillmode": "overlay",
              "size": 10,
              "solidity": 0.2
             }
            },
            "type": "bar"
           }
          ],
          "barpolar": [
           {
            "marker": {
             "line": {
              "color": "#E5ECF6",
              "width": 0.5
             },
             "pattern": {
              "fillmode": "overlay",
              "size": 10,
              "solidity": 0.2
             }
            },
            "type": "barpolar"
           }
          ],
          "carpet": [
           {
            "aaxis": {
             "endlinecolor": "#2a3f5f",
             "gridcolor": "white",
             "linecolor": "white",
             "minorgridcolor": "white",
             "startlinecolor": "#2a3f5f"
            },
            "baxis": {
             "endlinecolor": "#2a3f5f",
             "gridcolor": "white",
             "linecolor": "white",
             "minorgridcolor": "white",
             "startlinecolor": "#2a3f5f"
            },
            "type": "carpet"
           }
          ],
          "choropleth": [
           {
            "colorbar": {
             "outlinewidth": 0,
             "ticks": ""
            },
            "type": "choropleth"
           }
          ],
          "contour": [
           {
            "colorbar": {
             "outlinewidth": 0,
             "ticks": ""
            },
            "colorscale": [
             [
              0,
              "#0d0887"
             ],
             [
              0.1111111111111111,
              "#46039f"
             ],
             [
              0.2222222222222222,
              "#7201a8"
             ],
             [
              0.3333333333333333,
              "#9c179e"
             ],
             [
              0.4444444444444444,
              "#bd3786"
             ],
             [
              0.5555555555555556,
              "#d8576b"
             ],
             [
              0.6666666666666666,
              "#ed7953"
             ],
             [
              0.7777777777777778,
              "#fb9f3a"
             ],
             [
              0.8888888888888888,
              "#fdca26"
             ],
             [
              1,
              "#f0f921"
             ]
            ],
            "type": "contour"
           }
          ],
          "contourcarpet": [
           {
            "colorbar": {
             "outlinewidth": 0,
             "ticks": ""
            },
            "type": "contourcarpet"
           }
          ],
          "heatmap": [
           {
            "colorbar": {
             "outlinewidth": 0,
             "ticks": ""
            },
            "colorscale": [
             [
              0,
              "#0d0887"
             ],
             [
              0.1111111111111111,
              "#46039f"
             ],
             [
              0.2222222222222222,
              "#7201a8"
             ],
             [
              0.3333333333333333,
              "#9c179e"
             ],
             [
              0.4444444444444444,
              "#bd3786"
             ],
             [
              0.5555555555555556,
              "#d8576b"
             ],
             [
              0.6666666666666666,
              "#ed7953"
             ],
             [
              0.7777777777777778,
              "#fb9f3a"
             ],
             [
              0.8888888888888888,
              "#fdca26"
             ],
             [
              1,
              "#f0f921"
             ]
            ],
            "type": "heatmap"
           }
          ],
          "heatmapgl": [
           {
            "colorbar": {
             "outlinewidth": 0,
             "ticks": ""
            },
            "colorscale": [
             [
              0,
              "#0d0887"
             ],
             [
              0.1111111111111111,
              "#46039f"
             ],
             [
              0.2222222222222222,
              "#7201a8"
             ],
             [
              0.3333333333333333,
              "#9c179e"
             ],
             [
              0.4444444444444444,
              "#bd3786"
             ],
             [
              0.5555555555555556,
              "#d8576b"
             ],
             [
              0.6666666666666666,
              "#ed7953"
             ],
             [
              0.7777777777777778,
              "#fb9f3a"
             ],
             [
              0.8888888888888888,
              "#fdca26"
             ],
             [
              1,
              "#f0f921"
             ]
            ],
            "type": "heatmapgl"
           }
          ],
          "histogram": [
           {
            "marker": {
             "pattern": {
              "fillmode": "overlay",
              "size": 10,
              "solidity": 0.2
             }
            },
            "type": "histogram"
           }
          ],
          "histogram2d": [
           {
            "colorbar": {
             "outlinewidth": 0,
             "ticks": ""
            },
            "colorscale": [
             [
              0,
              "#0d0887"
             ],
             [
              0.1111111111111111,
              "#46039f"
             ],
             [
              0.2222222222222222,
              "#7201a8"
             ],
             [
              0.3333333333333333,
              "#9c179e"
             ],
             [
              0.4444444444444444,
              "#bd3786"
             ],
             [
              0.5555555555555556,
              "#d8576b"
             ],
             [
              0.6666666666666666,
              "#ed7953"
             ],
             [
              0.7777777777777778,
              "#fb9f3a"
             ],
             [
              0.8888888888888888,
              "#fdca26"
             ],
             [
              1,
              "#f0f921"
             ]
            ],
            "type": "histogram2d"
           }
          ],
          "histogram2dcontour": [
           {
            "colorbar": {
             "outlinewidth": 0,
             "ticks": ""
            },
            "colorscale": [
             [
              0,
              "#0d0887"
             ],
             [
              0.1111111111111111,
              "#46039f"
             ],
             [
              0.2222222222222222,
              "#7201a8"
             ],
             [
              0.3333333333333333,
              "#9c179e"
             ],
             [
              0.4444444444444444,
              "#bd3786"
             ],
             [
              0.5555555555555556,
              "#d8576b"
             ],
             [
              0.6666666666666666,
              "#ed7953"
             ],
             [
              0.7777777777777778,
              "#fb9f3a"
             ],
             [
              0.8888888888888888,
              "#fdca26"
             ],
             [
              1,
              "#f0f921"
             ]
            ],
            "type": "histogram2dcontour"
           }
          ],
          "mesh3d": [
           {
            "colorbar": {
             "outlinewidth": 0,
             "ticks": ""
            },
            "type": "mesh3d"
           }
          ],
          "parcoords": [
           {
            "line": {
             "colorbar": {
              "outlinewidth": 0,
              "ticks": ""
             }
            },
            "type": "parcoords"
           }
          ],
          "pie": [
           {
            "automargin": true,
            "type": "pie"
           }
          ],
          "scatter": [
           {
            "marker": {
             "colorbar": {
              "outlinewidth": 0,
              "ticks": ""
             }
            },
            "type": "scatter"
           }
          ],
          "scatter3d": [
           {
            "line": {
             "colorbar": {
              "outlinewidth": 0,
              "ticks": ""
             }
            },
            "marker": {
             "colorbar": {
              "outlinewidth": 0,
              "ticks": ""
             }
            },
            "type": "scatter3d"
           }
          ],
          "scattercarpet": [
           {
            "marker": {
             "colorbar": {
              "outlinewidth": 0,
              "ticks": ""
             }
            },
            "type": "scattercarpet"
           }
          ],
          "scattergeo": [
           {
            "marker": {
             "colorbar": {
              "outlinewidth": 0,
              "ticks": ""
             }
            },
            "type": "scattergeo"
           }
          ],
          "scattergl": [
           {
            "marker": {
             "colorbar": {
              "outlinewidth": 0,
              "ticks": ""
             }
            },
            "type": "scattergl"
           }
          ],
          "scattermapbox": [
           {
            "marker": {
             "colorbar": {
              "outlinewidth": 0,
              "ticks": ""
             }
            },
            "type": "scattermapbox"
           }
          ],
          "scatterpolar": [
           {
            "marker": {
             "colorbar": {
              "outlinewidth": 0,
              "ticks": ""
             }
            },
            "type": "scatterpolar"
           }
          ],
          "scatterpolargl": [
           {
            "marker": {
             "colorbar": {
              "outlinewidth": 0,
              "ticks": ""
             }
            },
            "type": "scatterpolargl"
           }
          ],
          "scatterternary": [
           {
            "marker": {
             "colorbar": {
              "outlinewidth": 0,
              "ticks": ""
             }
            },
            "type": "scatterternary"
           }
          ],
          "surface": [
           {
            "colorbar": {
             "outlinewidth": 0,
             "ticks": ""
            },
            "colorscale": [
             [
              0,
              "#0d0887"
             ],
             [
              0.1111111111111111,
              "#46039f"
             ],
             [
              0.2222222222222222,
              "#7201a8"
             ],
             [
              0.3333333333333333,
              "#9c179e"
             ],
             [
              0.4444444444444444,
              "#bd3786"
             ],
             [
              0.5555555555555556,
              "#d8576b"
             ],
             [
              0.6666666666666666,
              "#ed7953"
             ],
             [
              0.7777777777777778,
              "#fb9f3a"
             ],
             [
              0.8888888888888888,
              "#fdca26"
             ],
             [
              1,
              "#f0f921"
             ]
            ],
            "type": "surface"
           }
          ],
          "table": [
           {
            "cells": {
             "fill": {
              "color": "#EBF0F8"
             },
             "line": {
              "color": "white"
             }
            },
            "header": {
             "fill": {
              "color": "#C8D4E3"
             },
             "line": {
              "color": "white"
             }
            },
            "type": "table"
           }
          ]
         },
         "layout": {
          "annotationdefaults": {
           "arrowcolor": "#2a3f5f",
           "arrowhead": 0,
           "arrowwidth": 1
          },
          "autotypenumbers": "strict",
          "coloraxis": {
           "colorbar": {
            "outlinewidth": 0,
            "ticks": ""
           }
          },
          "colorscale": {
           "diverging": [
            [
             0,
             "#8e0152"
            ],
            [
             0.1,
             "#c51b7d"
            ],
            [
             0.2,
             "#de77ae"
            ],
            [
             0.3,
             "#f1b6da"
            ],
            [
             0.4,
             "#fde0ef"
            ],
            [
             0.5,
             "#f7f7f7"
            ],
            [
             0.6,
             "#e6f5d0"
            ],
            [
             0.7,
             "#b8e186"
            ],
            [
             0.8,
             "#7fbc41"
            ],
            [
             0.9,
             "#4d9221"
            ],
            [
             1,
             "#276419"
            ]
           ],
           "sequential": [
            [
             0,
             "#0d0887"
            ],
            [
             0.1111111111111111,
             "#46039f"
            ],
            [
             0.2222222222222222,
             "#7201a8"
            ],
            [
             0.3333333333333333,
             "#9c179e"
            ],
            [
             0.4444444444444444,
             "#bd3786"
            ],
            [
             0.5555555555555556,
             "#d8576b"
            ],
            [
             0.6666666666666666,
             "#ed7953"
            ],
            [
             0.7777777777777778,
             "#fb9f3a"
            ],
            [
             0.8888888888888888,
             "#fdca26"
            ],
            [
             1,
             "#f0f921"
            ]
           ],
           "sequentialminus": [
            [
             0,
             "#0d0887"
            ],
            [
             0.1111111111111111,
             "#46039f"
            ],
            [
             0.2222222222222222,
             "#7201a8"
            ],
            [
             0.3333333333333333,
             "#9c179e"
            ],
            [
             0.4444444444444444,
             "#bd3786"
            ],
            [
             0.5555555555555556,
             "#d8576b"
            ],
            [
             0.6666666666666666,
             "#ed7953"
            ],
            [
             0.7777777777777778,
             "#fb9f3a"
            ],
            [
             0.8888888888888888,
             "#fdca26"
            ],
            [
             1,
             "#f0f921"
            ]
           ]
          },
          "colorway": [
           "#636efa",
           "#EF553B",
           "#00cc96",
           "#ab63fa",
           "#FFA15A",
           "#19d3f3",
           "#FF6692",
           "#B6E880",
           "#FF97FF",
           "#FECB52"
          ],
          "font": {
           "color": "#2a3f5f"
          },
          "geo": {
           "bgcolor": "white",
           "lakecolor": "white",
           "landcolor": "#E5ECF6",
           "showlakes": true,
           "showland": true,
           "subunitcolor": "white"
          },
          "hoverlabel": {
           "align": "left"
          },
          "hovermode": "closest",
          "mapbox": {
           "style": "light"
          },
          "paper_bgcolor": "white",
          "plot_bgcolor": "#E5ECF6",
          "polar": {
           "angularaxis": {
            "gridcolor": "white",
            "linecolor": "white",
            "ticks": ""
           },
           "bgcolor": "#E5ECF6",
           "radialaxis": {
            "gridcolor": "white",
            "linecolor": "white",
            "ticks": ""
           }
          },
          "scene": {
           "xaxis": {
            "backgroundcolor": "#E5ECF6",
            "gridcolor": "white",
            "gridwidth": 2,
            "linecolor": "white",
            "showbackground": true,
            "ticks": "",
            "zerolinecolor": "white"
           },
           "yaxis": {
            "backgroundcolor": "#E5ECF6",
            "gridcolor": "white",
            "gridwidth": 2,
            "linecolor": "white",
            "showbackground": true,
            "ticks": "",
            "zerolinecolor": "white"
           },
           "zaxis": {
            "backgroundcolor": "#E5ECF6",
            "gridcolor": "white",
            "gridwidth": 2,
            "linecolor": "white",
            "showbackground": true,
            "ticks": "",
            "zerolinecolor": "white"
           }
          },
          "shapedefaults": {
           "line": {
            "color": "#2a3f5f"
           }
          },
          "ternary": {
           "aaxis": {
            "gridcolor": "white",
            "linecolor": "white",
            "ticks": ""
           },
           "baxis": {
            "gridcolor": "white",
            "linecolor": "white",
            "ticks": ""
           },
           "bgcolor": "#E5ECF6",
           "caxis": {
            "gridcolor": "white",
            "linecolor": "white",
            "ticks": ""
           }
          },
          "title": {
           "x": 0.05
          },
          "xaxis": {
           "automargin": true,
           "gridcolor": "white",
           "linecolor": "white",
           "ticks": "",
           "title": {
            "standoff": 15
           },
           "zerolinecolor": "white",
           "zerolinewidth": 2
          },
          "yaxis": {
           "automargin": true,
           "gridcolor": "white",
           "linecolor": "white",
           "ticks": "",
           "title": {
            "standoff": 15
           },
           "zerolinecolor": "white",
           "zerolinewidth": 2
          }
         }
        },
        "title": {
         "font": {
          "color": "#4D5663"
         }
        },
        "xaxis": {
         "gridcolor": "#E1E5ED",
         "showgrid": true,
         "tickfont": {
          "color": "#4D5663"
         },
         "title": {
          "font": {
           "color": "#4D5663"
          },
          "text": ""
         },
         "zerolinecolor": "#E1E5ED"
        },
        "yaxis": {
         "gridcolor": "#E1E5ED",
         "showgrid": true,
         "tickfont": {
          "color": "#4D5663"
         },
         "title": {
          "font": {
           "color": "#4D5663"
          },
          "text": ""
         },
         "zerolinecolor": "#E1E5ED"
        }
       }
      },
      "text/html": [
       "<div>                            <div id=\"578bd195-f46d-4205-92c5-139c5cc8e674\" class=\"plotly-graph-div\" style=\"height:525px; width:100%;\"></div>            <script type=\"text/javascript\">                require([\"plotly\"], function(Plotly) {                    window.PLOTLYENV=window.PLOTLYENV || {};\n",
       "                    window.PLOTLYENV.BASE_URL='https://plot.ly';                                    if (document.getElementById(\"578bd195-f46d-4205-92c5-139c5cc8e674\")) {                    Plotly.newPlot(                        \"578bd195-f46d-4205-92c5-139c5cc8e674\",                        [{\"line\":{\"color\":\"rgba(255, 153, 51, 1.0)\",\"dash\":\"solid\",\"shape\":\"linear\",\"width\":1.3},\"mode\":\"lines\",\"name\":\"B\",\"text\":\"\",\"x\":[-0.6564744824764208,-0.44246018622678035,-1.4210529165487331,2.138912840106512,0.25578258692089706,0.39805143783044833,-0.12701603877964637,-0.7336425614675899,0.17166378867506915,0.2710840189785207,0.8534092997086261,-0.28423806801324436,0.680442831707899,1.0056126864042327,0.22345415383044398,1.3471504835508696,0.4868772969639054,-0.8560743163392702,0.2437582614308069,0.13615747280918256,1.7766279162229373,-0.047392212385020574,-1.478739271543873,0.6674437983342687,-1.0518729658163994,1.1450743950503413,0.45312446388413863,-2.247532593483744,-0.9380816730886774,0.5747550876841555,0.7445251795288704,-1.1397301094244776,-0.7330965447959531,0.0011163348157742902,-0.4384112915386252,-0.5103765163837336,0.2572701355520642,-0.2672705429298812,-0.3152386136033564,0.1641860318298152,-0.6148004002051985,0.07205002157098324,-2.3569799035568906,1.0536881549659127,0.026917841374375365,-1.5516053705251112,-0.37391562462327005,0.16636832151140332,2.1868099430258554,-0.41916960443056883,0.10496423203936313,0.6279926573009582,-0.6471640572249683,0.30945396871171144,-0.4692873864786442,-1.090176869362269,-0.4143546663277241,-0.9027350183105727,0.469359002390997,-1.4219684339163654,0.820847128917743,0.05483278813128337,1.2392518808560637,1.545366633263906,0.41934477765089295,0.8240554271196706,0.8649157101002072,-2.1965301978204814,0.3476863183989522,-0.12640063221688605,-1.1095799572682512,-0.7608133813357494,-2.2044745973693805,-2.0304273169011986,1.2711060359943978,0.13692317269969045,-0.0583827092739993,2.4115580112408193,-2.0777630091319015,0.9344928525053398,0.3953105866307476,-1.0128314490635355,1.3925168200064224,-0.2746806087720305,-0.15873804270543176,-1.2063378835963559,1.4659391526336598,0.7259062288360807,-0.018616086991251776,-1.0972073757865193,-1.0458427688984127,0.6742520113874113,-0.9688805187614103,-2.606590225991158,0.2665069685897831,0.08035808638610199,-1.019013237251515,-0.4491197717632893,0.9587565600232877,-1.2542926097550613],\"y\":[0.7580307738992594,-0.8625173585817463,-1.6366635579880784,-0.026788812721112613,0.23161175849466448,1.2199293002623273,-0.7827188654461145,-0.7798390650913686,-0.12947907683514331,1.0712209025603268,-1.6383769059706026,0.25328144466334795,1.742638202990484,-0.056327495806758165,0.9437057933647285,2.8831757257521318,-0.4852972323833704,-0.4567365046026048,1.751431838705155,-2.406015038199109,0.7666963809140104,0.5834452650619113,-0.8810627750669326,-0.036135506573511146,0.31705001021648394,-0.7061871317069055,-0.3159150502367156,0.08679183834852548,-0.8773079487843657,0.34059428566701344,1.0117894523788795,-1.4223713004706713,0.3673575618258237,0.7994209827176314,-1.1402490848522213,-0.3098259650285641,0.44816075628217805,0.49225862230469863,-0.3198429663090066,0.7535928972424636,0.4062231366911554,-1.08852071659089,1.1932699862276017,-0.046812403925451065,-0.6242289885758998,0.47350489169255794,1.3140622219608786,0.7095495168694461,0.9399012385745007,-0.5384307148443165,-0.40173779338780424,0.8825797641438177,0.6310546479945338,-1.4908672034369301,1.105551235508307,-1.0855229769921029,1.8267336788316682,-1.4570122535225705,1.0784279389579425,-0.23609493119741587,-1.4518345771106087,-0.936347192855875,-0.516520118557937,1.9069306637372558,1.662383470919966,0.9539323596162675,-1.4309045262582105,0.13734272360761482,0.9725589422670315,0.19749937583635072,0.74497483397035,0.13798664679425274,-0.15382944980659588,0.42496202557755824,0.9446417743242981,1.4187557504647668,0.6373039613528989,1.0420549704138093,0.7428217879179443,-0.5985146435300484,1.3981806462267188,-0.6561336730020627,-0.4070023977511638,-0.452667589405772,-0.20514059006008803,0.011753641259448565,0.18499711275591785,0.44806318398005307,-0.7264420958566794,0.2040679431299117,-1.001927548621951,-1.2416331719420421,-1.6536030828556114,0.04634236549350992,-0.4952910163578565,0.22935390509840975,-0.9281710976792457,0.5036946030081555,-0.43453838988986104,-0.9682049615136412],\"type\":\"scatter\"}],                        {\"legend\":{\"bgcolor\":\"#F5F6F9\",\"font\":{\"color\":\"#4D5663\"}},\"paper_bgcolor\":\"#F5F6F9\",\"plot_bgcolor\":\"#F5F6F9\",\"template\":{\"data\":{\"barpolar\":[{\"marker\":{\"line\":{\"color\":\"#E5ECF6\",\"width\":0.5},\"pattern\":{\"fillmode\":\"overlay\",\"size\":10,\"solidity\":0.2}},\"type\":\"barpolar\"}],\"bar\":[{\"error_x\":{\"color\":\"#2a3f5f\"},\"error_y\":{\"color\":\"#2a3f5f\"},\"marker\":{\"line\":{\"color\":\"#E5ECF6\",\"width\":0.5},\"pattern\":{\"fillmode\":\"overlay\",\"size\":10,\"solidity\":0.2}},\"type\":\"bar\"}],\"carpet\":[{\"aaxis\":{\"endlinecolor\":\"#2a3f5f\",\"gridcolor\":\"white\",\"linecolor\":\"white\",\"minorgridcolor\":\"white\",\"startlinecolor\":\"#2a3f5f\"},\"baxis\":{\"endlinecolor\":\"#2a3f5f\",\"gridcolor\":\"white\",\"linecolor\":\"white\",\"minorgridcolor\":\"white\",\"startlinecolor\":\"#2a3f5f\"},\"type\":\"carpet\"}],\"choropleth\":[{\"colorbar\":{\"outlinewidth\":0,\"ticks\":\"\"},\"type\":\"choropleth\"}],\"contourcarpet\":[{\"colorbar\":{\"outlinewidth\":0,\"ticks\":\"\"},\"type\":\"contourcarpet\"}],\"contour\":[{\"colorbar\":{\"outlinewidth\":0,\"ticks\":\"\"},\"colorscale\":[[0.0,\"#0d0887\"],[0.1111111111111111,\"#46039f\"],[0.2222222222222222,\"#7201a8\"],[0.3333333333333333,\"#9c179e\"],[0.4444444444444444,\"#bd3786\"],[0.5555555555555556,\"#d8576b\"],[0.6666666666666666,\"#ed7953\"],[0.7777777777777778,\"#fb9f3a\"],[0.8888888888888888,\"#fdca26\"],[1.0,\"#f0f921\"]],\"type\":\"contour\"}],\"heatmapgl\":[{\"colorbar\":{\"outlinewidth\":0,\"ticks\":\"\"},\"colorscale\":[[0.0,\"#0d0887\"],[0.1111111111111111,\"#46039f\"],[0.2222222222222222,\"#7201a8\"],[0.3333333333333333,\"#9c179e\"],[0.4444444444444444,\"#bd3786\"],[0.5555555555555556,\"#d8576b\"],[0.6666666666666666,\"#ed7953\"],[0.7777777777777778,\"#fb9f3a\"],[0.8888888888888888,\"#fdca26\"],[1.0,\"#f0f921\"]],\"type\":\"heatmapgl\"}],\"heatmap\":[{\"colorbar\":{\"outlinewidth\":0,\"ticks\":\"\"},\"colorscale\":[[0.0,\"#0d0887\"],[0.1111111111111111,\"#46039f\"],[0.2222222222222222,\"#7201a8\"],[0.3333333333333333,\"#9c179e\"],[0.4444444444444444,\"#bd3786\"],[0.5555555555555556,\"#d8576b\"],[0.6666666666666666,\"#ed7953\"],[0.7777777777777778,\"#fb9f3a\"],[0.8888888888888888,\"#fdca26\"],[1.0,\"#f0f921\"]],\"type\":\"heatmap\"}],\"histogram2dcontour\":[{\"colorbar\":{\"outlinewidth\":0,\"ticks\":\"\"},\"colorscale\":[[0.0,\"#0d0887\"],[0.1111111111111111,\"#46039f\"],[0.2222222222222222,\"#7201a8\"],[0.3333333333333333,\"#9c179e\"],[0.4444444444444444,\"#bd3786\"],[0.5555555555555556,\"#d8576b\"],[0.6666666666666666,\"#ed7953\"],[0.7777777777777778,\"#fb9f3a\"],[0.8888888888888888,\"#fdca26\"],[1.0,\"#f0f921\"]],\"type\":\"histogram2dcontour\"}],\"histogram2d\":[{\"colorbar\":{\"outlinewidth\":0,\"ticks\":\"\"},\"colorscale\":[[0.0,\"#0d0887\"],[0.1111111111111111,\"#46039f\"],[0.2222222222222222,\"#7201a8\"],[0.3333333333333333,\"#9c179e\"],[0.4444444444444444,\"#bd3786\"],[0.5555555555555556,\"#d8576b\"],[0.6666666666666666,\"#ed7953\"],[0.7777777777777778,\"#fb9f3a\"],[0.8888888888888888,\"#fdca26\"],[1.0,\"#f0f921\"]],\"type\":\"histogram2d\"}],\"histogram\":[{\"marker\":{\"pattern\":{\"fillmode\":\"overlay\",\"size\":10,\"solidity\":0.2}},\"type\":\"histogram\"}],\"mesh3d\":[{\"colorbar\":{\"outlinewidth\":0,\"ticks\":\"\"},\"type\":\"mesh3d\"}],\"parcoords\":[{\"line\":{\"colorbar\":{\"outlinewidth\":0,\"ticks\":\"\"}},\"type\":\"parcoords\"}],\"pie\":[{\"automargin\":true,\"type\":\"pie\"}],\"scatter3d\":[{\"line\":{\"colorbar\":{\"outlinewidth\":0,\"ticks\":\"\"}},\"marker\":{\"colorbar\":{\"outlinewidth\":0,\"ticks\":\"\"}},\"type\":\"scatter3d\"}],\"scattercarpet\":[{\"marker\":{\"colorbar\":{\"outlinewidth\":0,\"ticks\":\"\"}},\"type\":\"scattercarpet\"}],\"scattergeo\":[{\"marker\":{\"colorbar\":{\"outlinewidth\":0,\"ticks\":\"\"}},\"type\":\"scattergeo\"}],\"scattergl\":[{\"marker\":{\"colorbar\":{\"outlinewidth\":0,\"ticks\":\"\"}},\"type\":\"scattergl\"}],\"scattermapbox\":[{\"marker\":{\"colorbar\":{\"outlinewidth\":0,\"ticks\":\"\"}},\"type\":\"scattermapbox\"}],\"scatterpolargl\":[{\"marker\":{\"colorbar\":{\"outlinewidth\":0,\"ticks\":\"\"}},\"type\":\"scatterpolargl\"}],\"scatterpolar\":[{\"marker\":{\"colorbar\":{\"outlinewidth\":0,\"ticks\":\"\"}},\"type\":\"scatterpolar\"}],\"scatter\":[{\"marker\":{\"colorbar\":{\"outlinewidth\":0,\"ticks\":\"\"}},\"type\":\"scatter\"}],\"scatterternary\":[{\"marker\":{\"colorbar\":{\"outlinewidth\":0,\"ticks\":\"\"}},\"type\":\"scatterternary\"}],\"surface\":[{\"colorbar\":{\"outlinewidth\":0,\"ticks\":\"\"},\"colorscale\":[[0.0,\"#0d0887\"],[0.1111111111111111,\"#46039f\"],[0.2222222222222222,\"#7201a8\"],[0.3333333333333333,\"#9c179e\"],[0.4444444444444444,\"#bd3786\"],[0.5555555555555556,\"#d8576b\"],[0.6666666666666666,\"#ed7953\"],[0.7777777777777778,\"#fb9f3a\"],[0.8888888888888888,\"#fdca26\"],[1.0,\"#f0f921\"]],\"type\":\"surface\"}],\"table\":[{\"cells\":{\"fill\":{\"color\":\"#EBF0F8\"},\"line\":{\"color\":\"white\"}},\"header\":{\"fill\":{\"color\":\"#C8D4E3\"},\"line\":{\"color\":\"white\"}},\"type\":\"table\"}]},\"layout\":{\"annotationdefaults\":{\"arrowcolor\":\"#2a3f5f\",\"arrowhead\":0,\"arrowwidth\":1},\"autotypenumbers\":\"strict\",\"coloraxis\":{\"colorbar\":{\"outlinewidth\":0,\"ticks\":\"\"}},\"colorscale\":{\"diverging\":[[0,\"#8e0152\"],[0.1,\"#c51b7d\"],[0.2,\"#de77ae\"],[0.3,\"#f1b6da\"],[0.4,\"#fde0ef\"],[0.5,\"#f7f7f7\"],[0.6,\"#e6f5d0\"],[0.7,\"#b8e186\"],[0.8,\"#7fbc41\"],[0.9,\"#4d9221\"],[1,\"#276419\"]],\"sequential\":[[0.0,\"#0d0887\"],[0.1111111111111111,\"#46039f\"],[0.2222222222222222,\"#7201a8\"],[0.3333333333333333,\"#9c179e\"],[0.4444444444444444,\"#bd3786\"],[0.5555555555555556,\"#d8576b\"],[0.6666666666666666,\"#ed7953\"],[0.7777777777777778,\"#fb9f3a\"],[0.8888888888888888,\"#fdca26\"],[1.0,\"#f0f921\"]],\"sequentialminus\":[[0.0,\"#0d0887\"],[0.1111111111111111,\"#46039f\"],[0.2222222222222222,\"#7201a8\"],[0.3333333333333333,\"#9c179e\"],[0.4444444444444444,\"#bd3786\"],[0.5555555555555556,\"#d8576b\"],[0.6666666666666666,\"#ed7953\"],[0.7777777777777778,\"#fb9f3a\"],[0.8888888888888888,\"#fdca26\"],[1.0,\"#f0f921\"]]},\"colorway\":[\"#636efa\",\"#EF553B\",\"#00cc96\",\"#ab63fa\",\"#FFA15A\",\"#19d3f3\",\"#FF6692\",\"#B6E880\",\"#FF97FF\",\"#FECB52\"],\"font\":{\"color\":\"#2a3f5f\"},\"geo\":{\"bgcolor\":\"white\",\"lakecolor\":\"white\",\"landcolor\":\"#E5ECF6\",\"showlakes\":true,\"showland\":true,\"subunitcolor\":\"white\"},\"hoverlabel\":{\"align\":\"left\"},\"hovermode\":\"closest\",\"mapbox\":{\"style\":\"light\"},\"paper_bgcolor\":\"white\",\"plot_bgcolor\":\"#E5ECF6\",\"polar\":{\"angularaxis\":{\"gridcolor\":\"white\",\"linecolor\":\"white\",\"ticks\":\"\"},\"bgcolor\":\"#E5ECF6\",\"radialaxis\":{\"gridcolor\":\"white\",\"linecolor\":\"white\",\"ticks\":\"\"}},\"scene\":{\"xaxis\":{\"backgroundcolor\":\"#E5ECF6\",\"gridcolor\":\"white\",\"gridwidth\":2,\"linecolor\":\"white\",\"showbackground\":true,\"ticks\":\"\",\"zerolinecolor\":\"white\"},\"yaxis\":{\"backgroundcolor\":\"#E5ECF6\",\"gridcolor\":\"white\",\"gridwidth\":2,\"linecolor\":\"white\",\"showbackground\":true,\"ticks\":\"\",\"zerolinecolor\":\"white\"},\"zaxis\":{\"backgroundcolor\":\"#E5ECF6\",\"gridcolor\":\"white\",\"gridwidth\":2,\"linecolor\":\"white\",\"showbackground\":true,\"ticks\":\"\",\"zerolinecolor\":\"white\"}},\"shapedefaults\":{\"line\":{\"color\":\"#2a3f5f\"}},\"ternary\":{\"aaxis\":{\"gridcolor\":\"white\",\"linecolor\":\"white\",\"ticks\":\"\"},\"baxis\":{\"gridcolor\":\"white\",\"linecolor\":\"white\",\"ticks\":\"\"},\"bgcolor\":\"#E5ECF6\",\"caxis\":{\"gridcolor\":\"white\",\"linecolor\":\"white\",\"ticks\":\"\"}},\"title\":{\"x\":0.05},\"xaxis\":{\"automargin\":true,\"gridcolor\":\"white\",\"linecolor\":\"white\",\"ticks\":\"\",\"title\":{\"standoff\":15},\"zerolinecolor\":\"white\",\"zerolinewidth\":2},\"yaxis\":{\"automargin\":true,\"gridcolor\":\"white\",\"linecolor\":\"white\",\"ticks\":\"\",\"title\":{\"standoff\":15},\"zerolinecolor\":\"white\",\"zerolinewidth\":2}}},\"title\":{\"font\":{\"color\":\"#4D5663\"}},\"xaxis\":{\"gridcolor\":\"#E1E5ED\",\"showgrid\":true,\"tickfont\":{\"color\":\"#4D5663\"},\"title\":{\"font\":{\"color\":\"#4D5663\"},\"text\":\"\"},\"zerolinecolor\":\"#E1E5ED\"},\"yaxis\":{\"gridcolor\":\"#E1E5ED\",\"showgrid\":true,\"tickfont\":{\"color\":\"#4D5663\"},\"title\":{\"font\":{\"color\":\"#4D5663\"},\"text\":\"\"},\"zerolinecolor\":\"#E1E5ED\"}},                        {\"showLink\": true, \"linkText\": \"Export to plot.ly\", \"plotlyServerURL\": \"https://plot.ly\", \"responsive\": true}                    ).then(function(){\n",
       "                            \n",
       "var gd = document.getElementById('578bd195-f46d-4205-92c5-139c5cc8e674');\n",
       "var x = new MutationObserver(function (mutations, observer) {{\n",
       "        var display = window.getComputedStyle(gd).display;\n",
       "        if (!display || display === 'none') {{\n",
       "            console.log([gd, 'removed!']);\n",
       "            Plotly.purge(gd);\n",
       "            observer.disconnect();\n",
       "        }}\n",
       "}});\n",
       "\n",
       "// Listen for the removal of the full notebook cells\n",
       "var notebookContainer = gd.closest('#notebook-container');\n",
       "if (notebookContainer) {{\n",
       "    x.observe(notebookContainer, {childList: true});\n",
       "}}\n",
       "\n",
       "// Listen for the clearing of the current output cell\n",
       "var outputEl = gd.closest('.output');\n",
       "if (outputEl) {{\n",
       "    x.observe(outputEl, {childList: true});\n",
       "}}\n",
       "\n",
       "                        })                };                });            </script>        </div>"
      ]
     },
     "metadata": {},
     "output_type": "display_data"
    }
   ],
   "source": [
    "df1.iplot(kind = 'scatter', x = 'A', y = 'B')"
   ]
  },
  {
   "cell_type": "code",
   "execution_count": 12,
   "id": "920491d6",
   "metadata": {},
   "outputs": [
    {
     "data": {
      "application/vnd.plotly.v1+json": {
       "config": {
        "linkText": "Export to plot.ly",
        "plotlyServerURL": "https://plot.ly",
        "showLink": true
       },
       "data": [
        {
         "line": {
          "color": "rgba(255, 153, 51, 1.0)",
          "dash": "solid",
          "shape": "linear",
          "width": 1.3
         },
         "marker": {
          "size": 12,
          "symbol": "circle"
         },
         "mode": "markers",
         "name": "B",
         "text": "",
         "type": "scatter",
         "x": [
          -0.6564744824764208,
          -0.44246018622678035,
          -1.4210529165487331,
          2.138912840106512,
          0.25578258692089706,
          0.39805143783044833,
          -0.12701603877964637,
          -0.7336425614675899,
          0.17166378867506915,
          0.2710840189785207,
          0.8534092997086261,
          -0.28423806801324436,
          0.680442831707899,
          1.0056126864042327,
          0.22345415383044398,
          1.3471504835508696,
          0.4868772969639054,
          -0.8560743163392702,
          0.2437582614308069,
          0.13615747280918256,
          1.7766279162229373,
          -0.047392212385020574,
          -1.478739271543873,
          0.6674437983342687,
          -1.0518729658163994,
          1.1450743950503413,
          0.45312446388413863,
          -2.247532593483744,
          -0.9380816730886774,
          0.5747550876841555,
          0.7445251795288704,
          -1.1397301094244776,
          -0.7330965447959531,
          0.0011163348157742902,
          -0.4384112915386252,
          -0.5103765163837336,
          0.2572701355520642,
          -0.2672705429298812,
          -0.3152386136033564,
          0.1641860318298152,
          -0.6148004002051985,
          0.07205002157098324,
          -2.3569799035568906,
          1.0536881549659127,
          0.026917841374375365,
          -1.5516053705251112,
          -0.37391562462327005,
          0.16636832151140332,
          2.1868099430258554,
          -0.41916960443056883,
          0.10496423203936313,
          0.6279926573009582,
          -0.6471640572249683,
          0.30945396871171144,
          -0.4692873864786442,
          -1.090176869362269,
          -0.4143546663277241,
          -0.9027350183105727,
          0.469359002390997,
          -1.4219684339163654,
          0.820847128917743,
          0.05483278813128337,
          1.2392518808560637,
          1.545366633263906,
          0.41934477765089295,
          0.8240554271196706,
          0.8649157101002072,
          -2.1965301978204814,
          0.3476863183989522,
          -0.12640063221688605,
          -1.1095799572682512,
          -0.7608133813357494,
          -2.2044745973693805,
          -2.0304273169011986,
          1.2711060359943978,
          0.13692317269969045,
          -0.0583827092739993,
          2.4115580112408193,
          -2.0777630091319015,
          0.9344928525053398,
          0.3953105866307476,
          -1.0128314490635355,
          1.3925168200064224,
          -0.2746806087720305,
          -0.15873804270543176,
          -1.2063378835963559,
          1.4659391526336598,
          0.7259062288360807,
          -0.018616086991251776,
          -1.0972073757865193,
          -1.0458427688984127,
          0.6742520113874113,
          -0.9688805187614103,
          -2.606590225991158,
          0.2665069685897831,
          0.08035808638610199,
          -1.019013237251515,
          -0.4491197717632893,
          0.9587565600232877,
          -1.2542926097550613
         ],
         "y": [
          0.7580307738992594,
          -0.8625173585817463,
          -1.6366635579880784,
          -0.026788812721112613,
          0.23161175849466448,
          1.2199293002623273,
          -0.7827188654461145,
          -0.7798390650913686,
          -0.12947907683514331,
          1.0712209025603268,
          -1.6383769059706026,
          0.25328144466334795,
          1.742638202990484,
          -0.056327495806758165,
          0.9437057933647285,
          2.8831757257521318,
          -0.4852972323833704,
          -0.4567365046026048,
          1.751431838705155,
          -2.406015038199109,
          0.7666963809140104,
          0.5834452650619113,
          -0.8810627750669326,
          -0.036135506573511146,
          0.31705001021648394,
          -0.7061871317069055,
          -0.3159150502367156,
          0.08679183834852548,
          -0.8773079487843657,
          0.34059428566701344,
          1.0117894523788795,
          -1.4223713004706713,
          0.3673575618258237,
          0.7994209827176314,
          -1.1402490848522213,
          -0.3098259650285641,
          0.44816075628217805,
          0.49225862230469863,
          -0.3198429663090066,
          0.7535928972424636,
          0.4062231366911554,
          -1.08852071659089,
          1.1932699862276017,
          -0.046812403925451065,
          -0.6242289885758998,
          0.47350489169255794,
          1.3140622219608786,
          0.7095495168694461,
          0.9399012385745007,
          -0.5384307148443165,
          -0.40173779338780424,
          0.8825797641438177,
          0.6310546479945338,
          -1.4908672034369301,
          1.105551235508307,
          -1.0855229769921029,
          1.8267336788316682,
          -1.4570122535225705,
          1.0784279389579425,
          -0.23609493119741587,
          -1.4518345771106087,
          -0.936347192855875,
          -0.516520118557937,
          1.9069306637372558,
          1.662383470919966,
          0.9539323596162675,
          -1.4309045262582105,
          0.13734272360761482,
          0.9725589422670315,
          0.19749937583635072,
          0.74497483397035,
          0.13798664679425274,
          -0.15382944980659588,
          0.42496202557755824,
          0.9446417743242981,
          1.4187557504647668,
          0.6373039613528989,
          1.0420549704138093,
          0.7428217879179443,
          -0.5985146435300484,
          1.3981806462267188,
          -0.6561336730020627,
          -0.4070023977511638,
          -0.452667589405772,
          -0.20514059006008803,
          0.011753641259448565,
          0.18499711275591785,
          0.44806318398005307,
          -0.7264420958566794,
          0.2040679431299117,
          -1.001927548621951,
          -1.2416331719420421,
          -1.6536030828556114,
          0.04634236549350992,
          -0.4952910163578565,
          0.22935390509840975,
          -0.9281710976792457,
          0.5036946030081555,
          -0.43453838988986104,
          -0.9682049615136412
         ]
        }
       ],
       "layout": {
        "legend": {
         "bgcolor": "#F5F6F9",
         "font": {
          "color": "#4D5663"
         }
        },
        "paper_bgcolor": "#F5F6F9",
        "plot_bgcolor": "#F5F6F9",
        "template": {
         "data": {
          "bar": [
           {
            "error_x": {
             "color": "#2a3f5f"
            },
            "error_y": {
             "color": "#2a3f5f"
            },
            "marker": {
             "line": {
              "color": "#E5ECF6",
              "width": 0.5
             },
             "pattern": {
              "fillmode": "overlay",
              "size": 10,
              "solidity": 0.2
             }
            },
            "type": "bar"
           }
          ],
          "barpolar": [
           {
            "marker": {
             "line": {
              "color": "#E5ECF6",
              "width": 0.5
             },
             "pattern": {
              "fillmode": "overlay",
              "size": 10,
              "solidity": 0.2
             }
            },
            "type": "barpolar"
           }
          ],
          "carpet": [
           {
            "aaxis": {
             "endlinecolor": "#2a3f5f",
             "gridcolor": "white",
             "linecolor": "white",
             "minorgridcolor": "white",
             "startlinecolor": "#2a3f5f"
            },
            "baxis": {
             "endlinecolor": "#2a3f5f",
             "gridcolor": "white",
             "linecolor": "white",
             "minorgridcolor": "white",
             "startlinecolor": "#2a3f5f"
            },
            "type": "carpet"
           }
          ],
          "choropleth": [
           {
            "colorbar": {
             "outlinewidth": 0,
             "ticks": ""
            },
            "type": "choropleth"
           }
          ],
          "contour": [
           {
            "colorbar": {
             "outlinewidth": 0,
             "ticks": ""
            },
            "colorscale": [
             [
              0,
              "#0d0887"
             ],
             [
              0.1111111111111111,
              "#46039f"
             ],
             [
              0.2222222222222222,
              "#7201a8"
             ],
             [
              0.3333333333333333,
              "#9c179e"
             ],
             [
              0.4444444444444444,
              "#bd3786"
             ],
             [
              0.5555555555555556,
              "#d8576b"
             ],
             [
              0.6666666666666666,
              "#ed7953"
             ],
             [
              0.7777777777777778,
              "#fb9f3a"
             ],
             [
              0.8888888888888888,
              "#fdca26"
             ],
             [
              1,
              "#f0f921"
             ]
            ],
            "type": "contour"
           }
          ],
          "contourcarpet": [
           {
            "colorbar": {
             "outlinewidth": 0,
             "ticks": ""
            },
            "type": "contourcarpet"
           }
          ],
          "heatmap": [
           {
            "colorbar": {
             "outlinewidth": 0,
             "ticks": ""
            },
            "colorscale": [
             [
              0,
              "#0d0887"
             ],
             [
              0.1111111111111111,
              "#46039f"
             ],
             [
              0.2222222222222222,
              "#7201a8"
             ],
             [
              0.3333333333333333,
              "#9c179e"
             ],
             [
              0.4444444444444444,
              "#bd3786"
             ],
             [
              0.5555555555555556,
              "#d8576b"
             ],
             [
              0.6666666666666666,
              "#ed7953"
             ],
             [
              0.7777777777777778,
              "#fb9f3a"
             ],
             [
              0.8888888888888888,
              "#fdca26"
             ],
             [
              1,
              "#f0f921"
             ]
            ],
            "type": "heatmap"
           }
          ],
          "heatmapgl": [
           {
            "colorbar": {
             "outlinewidth": 0,
             "ticks": ""
            },
            "colorscale": [
             [
              0,
              "#0d0887"
             ],
             [
              0.1111111111111111,
              "#46039f"
             ],
             [
              0.2222222222222222,
              "#7201a8"
             ],
             [
              0.3333333333333333,
              "#9c179e"
             ],
             [
              0.4444444444444444,
              "#bd3786"
             ],
             [
              0.5555555555555556,
              "#d8576b"
             ],
             [
              0.6666666666666666,
              "#ed7953"
             ],
             [
              0.7777777777777778,
              "#fb9f3a"
             ],
             [
              0.8888888888888888,
              "#fdca26"
             ],
             [
              1,
              "#f0f921"
             ]
            ],
            "type": "heatmapgl"
           }
          ],
          "histogram": [
           {
            "marker": {
             "pattern": {
              "fillmode": "overlay",
              "size": 10,
              "solidity": 0.2
             }
            },
            "type": "histogram"
           }
          ],
          "histogram2d": [
           {
            "colorbar": {
             "outlinewidth": 0,
             "ticks": ""
            },
            "colorscale": [
             [
              0,
              "#0d0887"
             ],
             [
              0.1111111111111111,
              "#46039f"
             ],
             [
              0.2222222222222222,
              "#7201a8"
             ],
             [
              0.3333333333333333,
              "#9c179e"
             ],
             [
              0.4444444444444444,
              "#bd3786"
             ],
             [
              0.5555555555555556,
              "#d8576b"
             ],
             [
              0.6666666666666666,
              "#ed7953"
             ],
             [
              0.7777777777777778,
              "#fb9f3a"
             ],
             [
              0.8888888888888888,
              "#fdca26"
             ],
             [
              1,
              "#f0f921"
             ]
            ],
            "type": "histogram2d"
           }
          ],
          "histogram2dcontour": [
           {
            "colorbar": {
             "outlinewidth": 0,
             "ticks": ""
            },
            "colorscale": [
             [
              0,
              "#0d0887"
             ],
             [
              0.1111111111111111,
              "#46039f"
             ],
             [
              0.2222222222222222,
              "#7201a8"
             ],
             [
              0.3333333333333333,
              "#9c179e"
             ],
             [
              0.4444444444444444,
              "#bd3786"
             ],
             [
              0.5555555555555556,
              "#d8576b"
             ],
             [
              0.6666666666666666,
              "#ed7953"
             ],
             [
              0.7777777777777778,
              "#fb9f3a"
             ],
             [
              0.8888888888888888,
              "#fdca26"
             ],
             [
              1,
              "#f0f921"
             ]
            ],
            "type": "histogram2dcontour"
           }
          ],
          "mesh3d": [
           {
            "colorbar": {
             "outlinewidth": 0,
             "ticks": ""
            },
            "type": "mesh3d"
           }
          ],
          "parcoords": [
           {
            "line": {
             "colorbar": {
              "outlinewidth": 0,
              "ticks": ""
             }
            },
            "type": "parcoords"
           }
          ],
          "pie": [
           {
            "automargin": true,
            "type": "pie"
           }
          ],
          "scatter": [
           {
            "marker": {
             "colorbar": {
              "outlinewidth": 0,
              "ticks": ""
             }
            },
            "type": "scatter"
           }
          ],
          "scatter3d": [
           {
            "line": {
             "colorbar": {
              "outlinewidth": 0,
              "ticks": ""
             }
            },
            "marker": {
             "colorbar": {
              "outlinewidth": 0,
              "ticks": ""
             }
            },
            "type": "scatter3d"
           }
          ],
          "scattercarpet": [
           {
            "marker": {
             "colorbar": {
              "outlinewidth": 0,
              "ticks": ""
             }
            },
            "type": "scattercarpet"
           }
          ],
          "scattergeo": [
           {
            "marker": {
             "colorbar": {
              "outlinewidth": 0,
              "ticks": ""
             }
            },
            "type": "scattergeo"
           }
          ],
          "scattergl": [
           {
            "marker": {
             "colorbar": {
              "outlinewidth": 0,
              "ticks": ""
             }
            },
            "type": "scattergl"
           }
          ],
          "scattermapbox": [
           {
            "marker": {
             "colorbar": {
              "outlinewidth": 0,
              "ticks": ""
             }
            },
            "type": "scattermapbox"
           }
          ],
          "scatterpolar": [
           {
            "marker": {
             "colorbar": {
              "outlinewidth": 0,
              "ticks": ""
             }
            },
            "type": "scatterpolar"
           }
          ],
          "scatterpolargl": [
           {
            "marker": {
             "colorbar": {
              "outlinewidth": 0,
              "ticks": ""
             }
            },
            "type": "scatterpolargl"
           }
          ],
          "scatterternary": [
           {
            "marker": {
             "colorbar": {
              "outlinewidth": 0,
              "ticks": ""
             }
            },
            "type": "scatterternary"
           }
          ],
          "surface": [
           {
            "colorbar": {
             "outlinewidth": 0,
             "ticks": ""
            },
            "colorscale": [
             [
              0,
              "#0d0887"
             ],
             [
              0.1111111111111111,
              "#46039f"
             ],
             [
              0.2222222222222222,
              "#7201a8"
             ],
             [
              0.3333333333333333,
              "#9c179e"
             ],
             [
              0.4444444444444444,
              "#bd3786"
             ],
             [
              0.5555555555555556,
              "#d8576b"
             ],
             [
              0.6666666666666666,
              "#ed7953"
             ],
             [
              0.7777777777777778,
              "#fb9f3a"
             ],
             [
              0.8888888888888888,
              "#fdca26"
             ],
             [
              1,
              "#f0f921"
             ]
            ],
            "type": "surface"
           }
          ],
          "table": [
           {
            "cells": {
             "fill": {
              "color": "#EBF0F8"
             },
             "line": {
              "color": "white"
             }
            },
            "header": {
             "fill": {
              "color": "#C8D4E3"
             },
             "line": {
              "color": "white"
             }
            },
            "type": "table"
           }
          ]
         },
         "layout": {
          "annotationdefaults": {
           "arrowcolor": "#2a3f5f",
           "arrowhead": 0,
           "arrowwidth": 1
          },
          "autotypenumbers": "strict",
          "coloraxis": {
           "colorbar": {
            "outlinewidth": 0,
            "ticks": ""
           }
          },
          "colorscale": {
           "diverging": [
            [
             0,
             "#8e0152"
            ],
            [
             0.1,
             "#c51b7d"
            ],
            [
             0.2,
             "#de77ae"
            ],
            [
             0.3,
             "#f1b6da"
            ],
            [
             0.4,
             "#fde0ef"
            ],
            [
             0.5,
             "#f7f7f7"
            ],
            [
             0.6,
             "#e6f5d0"
            ],
            [
             0.7,
             "#b8e186"
            ],
            [
             0.8,
             "#7fbc41"
            ],
            [
             0.9,
             "#4d9221"
            ],
            [
             1,
             "#276419"
            ]
           ],
           "sequential": [
            [
             0,
             "#0d0887"
            ],
            [
             0.1111111111111111,
             "#46039f"
            ],
            [
             0.2222222222222222,
             "#7201a8"
            ],
            [
             0.3333333333333333,
             "#9c179e"
            ],
            [
             0.4444444444444444,
             "#bd3786"
            ],
            [
             0.5555555555555556,
             "#d8576b"
            ],
            [
             0.6666666666666666,
             "#ed7953"
            ],
            [
             0.7777777777777778,
             "#fb9f3a"
            ],
            [
             0.8888888888888888,
             "#fdca26"
            ],
            [
             1,
             "#f0f921"
            ]
           ],
           "sequentialminus": [
            [
             0,
             "#0d0887"
            ],
            [
             0.1111111111111111,
             "#46039f"
            ],
            [
             0.2222222222222222,
             "#7201a8"
            ],
            [
             0.3333333333333333,
             "#9c179e"
            ],
            [
             0.4444444444444444,
             "#bd3786"
            ],
            [
             0.5555555555555556,
             "#d8576b"
            ],
            [
             0.6666666666666666,
             "#ed7953"
            ],
            [
             0.7777777777777778,
             "#fb9f3a"
            ],
            [
             0.8888888888888888,
             "#fdca26"
            ],
            [
             1,
             "#f0f921"
            ]
           ]
          },
          "colorway": [
           "#636efa",
           "#EF553B",
           "#00cc96",
           "#ab63fa",
           "#FFA15A",
           "#19d3f3",
           "#FF6692",
           "#B6E880",
           "#FF97FF",
           "#FECB52"
          ],
          "font": {
           "color": "#2a3f5f"
          },
          "geo": {
           "bgcolor": "white",
           "lakecolor": "white",
           "landcolor": "#E5ECF6",
           "showlakes": true,
           "showland": true,
           "subunitcolor": "white"
          },
          "hoverlabel": {
           "align": "left"
          },
          "hovermode": "closest",
          "mapbox": {
           "style": "light"
          },
          "paper_bgcolor": "white",
          "plot_bgcolor": "#E5ECF6",
          "polar": {
           "angularaxis": {
            "gridcolor": "white",
            "linecolor": "white",
            "ticks": ""
           },
           "bgcolor": "#E5ECF6",
           "radialaxis": {
            "gridcolor": "white",
            "linecolor": "white",
            "ticks": ""
           }
          },
          "scene": {
           "xaxis": {
            "backgroundcolor": "#E5ECF6",
            "gridcolor": "white",
            "gridwidth": 2,
            "linecolor": "white",
            "showbackground": true,
            "ticks": "",
            "zerolinecolor": "white"
           },
           "yaxis": {
            "backgroundcolor": "#E5ECF6",
            "gridcolor": "white",
            "gridwidth": 2,
            "linecolor": "white",
            "showbackground": true,
            "ticks": "",
            "zerolinecolor": "white"
           },
           "zaxis": {
            "backgroundcolor": "#E5ECF6",
            "gridcolor": "white",
            "gridwidth": 2,
            "linecolor": "white",
            "showbackground": true,
            "ticks": "",
            "zerolinecolor": "white"
           }
          },
          "shapedefaults": {
           "line": {
            "color": "#2a3f5f"
           }
          },
          "ternary": {
           "aaxis": {
            "gridcolor": "white",
            "linecolor": "white",
            "ticks": ""
           },
           "baxis": {
            "gridcolor": "white",
            "linecolor": "white",
            "ticks": ""
           },
           "bgcolor": "#E5ECF6",
           "caxis": {
            "gridcolor": "white",
            "linecolor": "white",
            "ticks": ""
           }
          },
          "title": {
           "x": 0.05
          },
          "xaxis": {
           "automargin": true,
           "gridcolor": "white",
           "linecolor": "white",
           "ticks": "",
           "title": {
            "standoff": 15
           },
           "zerolinecolor": "white",
           "zerolinewidth": 2
          },
          "yaxis": {
           "automargin": true,
           "gridcolor": "white",
           "linecolor": "white",
           "ticks": "",
           "title": {
            "standoff": 15
           },
           "zerolinecolor": "white",
           "zerolinewidth": 2
          }
         }
        },
        "title": {
         "font": {
          "color": "#4D5663"
         }
        },
        "xaxis": {
         "gridcolor": "#E1E5ED",
         "showgrid": true,
         "tickfont": {
          "color": "#4D5663"
         },
         "title": {
          "font": {
           "color": "#4D5663"
          },
          "text": ""
         },
         "zerolinecolor": "#E1E5ED"
        },
        "yaxis": {
         "gridcolor": "#E1E5ED",
         "showgrid": true,
         "tickfont": {
          "color": "#4D5663"
         },
         "title": {
          "font": {
           "color": "#4D5663"
          },
          "text": ""
         },
         "zerolinecolor": "#E1E5ED"
        }
       }
      },
      "text/html": [
       "<div>                            <div id=\"9eb5ffb3-f41e-4113-830e-b7511271dbc6\" class=\"plotly-graph-div\" style=\"height:525px; width:100%;\"></div>            <script type=\"text/javascript\">                require([\"plotly\"], function(Plotly) {                    window.PLOTLYENV=window.PLOTLYENV || {};\n",
       "                    window.PLOTLYENV.BASE_URL='https://plot.ly';                                    if (document.getElementById(\"9eb5ffb3-f41e-4113-830e-b7511271dbc6\")) {                    Plotly.newPlot(                        \"9eb5ffb3-f41e-4113-830e-b7511271dbc6\",                        [{\"line\":{\"color\":\"rgba(255, 153, 51, 1.0)\",\"dash\":\"solid\",\"shape\":\"linear\",\"width\":1.3},\"marker\":{\"size\":12,\"symbol\":\"circle\"},\"mode\":\"markers\",\"name\":\"B\",\"text\":\"\",\"x\":[-0.6564744824764208,-0.44246018622678035,-1.4210529165487331,2.138912840106512,0.25578258692089706,0.39805143783044833,-0.12701603877964637,-0.7336425614675899,0.17166378867506915,0.2710840189785207,0.8534092997086261,-0.28423806801324436,0.680442831707899,1.0056126864042327,0.22345415383044398,1.3471504835508696,0.4868772969639054,-0.8560743163392702,0.2437582614308069,0.13615747280918256,1.7766279162229373,-0.047392212385020574,-1.478739271543873,0.6674437983342687,-1.0518729658163994,1.1450743950503413,0.45312446388413863,-2.247532593483744,-0.9380816730886774,0.5747550876841555,0.7445251795288704,-1.1397301094244776,-0.7330965447959531,0.0011163348157742902,-0.4384112915386252,-0.5103765163837336,0.2572701355520642,-0.2672705429298812,-0.3152386136033564,0.1641860318298152,-0.6148004002051985,0.07205002157098324,-2.3569799035568906,1.0536881549659127,0.026917841374375365,-1.5516053705251112,-0.37391562462327005,0.16636832151140332,2.1868099430258554,-0.41916960443056883,0.10496423203936313,0.6279926573009582,-0.6471640572249683,0.30945396871171144,-0.4692873864786442,-1.090176869362269,-0.4143546663277241,-0.9027350183105727,0.469359002390997,-1.4219684339163654,0.820847128917743,0.05483278813128337,1.2392518808560637,1.545366633263906,0.41934477765089295,0.8240554271196706,0.8649157101002072,-2.1965301978204814,0.3476863183989522,-0.12640063221688605,-1.1095799572682512,-0.7608133813357494,-2.2044745973693805,-2.0304273169011986,1.2711060359943978,0.13692317269969045,-0.0583827092739993,2.4115580112408193,-2.0777630091319015,0.9344928525053398,0.3953105866307476,-1.0128314490635355,1.3925168200064224,-0.2746806087720305,-0.15873804270543176,-1.2063378835963559,1.4659391526336598,0.7259062288360807,-0.018616086991251776,-1.0972073757865193,-1.0458427688984127,0.6742520113874113,-0.9688805187614103,-2.606590225991158,0.2665069685897831,0.08035808638610199,-1.019013237251515,-0.4491197717632893,0.9587565600232877,-1.2542926097550613],\"y\":[0.7580307738992594,-0.8625173585817463,-1.6366635579880784,-0.026788812721112613,0.23161175849466448,1.2199293002623273,-0.7827188654461145,-0.7798390650913686,-0.12947907683514331,1.0712209025603268,-1.6383769059706026,0.25328144466334795,1.742638202990484,-0.056327495806758165,0.9437057933647285,2.8831757257521318,-0.4852972323833704,-0.4567365046026048,1.751431838705155,-2.406015038199109,0.7666963809140104,0.5834452650619113,-0.8810627750669326,-0.036135506573511146,0.31705001021648394,-0.7061871317069055,-0.3159150502367156,0.08679183834852548,-0.8773079487843657,0.34059428566701344,1.0117894523788795,-1.4223713004706713,0.3673575618258237,0.7994209827176314,-1.1402490848522213,-0.3098259650285641,0.44816075628217805,0.49225862230469863,-0.3198429663090066,0.7535928972424636,0.4062231366911554,-1.08852071659089,1.1932699862276017,-0.046812403925451065,-0.6242289885758998,0.47350489169255794,1.3140622219608786,0.7095495168694461,0.9399012385745007,-0.5384307148443165,-0.40173779338780424,0.8825797641438177,0.6310546479945338,-1.4908672034369301,1.105551235508307,-1.0855229769921029,1.8267336788316682,-1.4570122535225705,1.0784279389579425,-0.23609493119741587,-1.4518345771106087,-0.936347192855875,-0.516520118557937,1.9069306637372558,1.662383470919966,0.9539323596162675,-1.4309045262582105,0.13734272360761482,0.9725589422670315,0.19749937583635072,0.74497483397035,0.13798664679425274,-0.15382944980659588,0.42496202557755824,0.9446417743242981,1.4187557504647668,0.6373039613528989,1.0420549704138093,0.7428217879179443,-0.5985146435300484,1.3981806462267188,-0.6561336730020627,-0.4070023977511638,-0.452667589405772,-0.20514059006008803,0.011753641259448565,0.18499711275591785,0.44806318398005307,-0.7264420958566794,0.2040679431299117,-1.001927548621951,-1.2416331719420421,-1.6536030828556114,0.04634236549350992,-0.4952910163578565,0.22935390509840975,-0.9281710976792457,0.5036946030081555,-0.43453838988986104,-0.9682049615136412],\"type\":\"scatter\"}],                        {\"legend\":{\"bgcolor\":\"#F5F6F9\",\"font\":{\"color\":\"#4D5663\"}},\"paper_bgcolor\":\"#F5F6F9\",\"plot_bgcolor\":\"#F5F6F9\",\"template\":{\"data\":{\"barpolar\":[{\"marker\":{\"line\":{\"color\":\"#E5ECF6\",\"width\":0.5},\"pattern\":{\"fillmode\":\"overlay\",\"size\":10,\"solidity\":0.2}},\"type\":\"barpolar\"}],\"bar\":[{\"error_x\":{\"color\":\"#2a3f5f\"},\"error_y\":{\"color\":\"#2a3f5f\"},\"marker\":{\"line\":{\"color\":\"#E5ECF6\",\"width\":0.5},\"pattern\":{\"fillmode\":\"overlay\",\"size\":10,\"solidity\":0.2}},\"type\":\"bar\"}],\"carpet\":[{\"aaxis\":{\"endlinecolor\":\"#2a3f5f\",\"gridcolor\":\"white\",\"linecolor\":\"white\",\"minorgridcolor\":\"white\",\"startlinecolor\":\"#2a3f5f\"},\"baxis\":{\"endlinecolor\":\"#2a3f5f\",\"gridcolor\":\"white\",\"linecolor\":\"white\",\"minorgridcolor\":\"white\",\"startlinecolor\":\"#2a3f5f\"},\"type\":\"carpet\"}],\"choropleth\":[{\"colorbar\":{\"outlinewidth\":0,\"ticks\":\"\"},\"type\":\"choropleth\"}],\"contourcarpet\":[{\"colorbar\":{\"outlinewidth\":0,\"ticks\":\"\"},\"type\":\"contourcarpet\"}],\"contour\":[{\"colorbar\":{\"outlinewidth\":0,\"ticks\":\"\"},\"colorscale\":[[0.0,\"#0d0887\"],[0.1111111111111111,\"#46039f\"],[0.2222222222222222,\"#7201a8\"],[0.3333333333333333,\"#9c179e\"],[0.4444444444444444,\"#bd3786\"],[0.5555555555555556,\"#d8576b\"],[0.6666666666666666,\"#ed7953\"],[0.7777777777777778,\"#fb9f3a\"],[0.8888888888888888,\"#fdca26\"],[1.0,\"#f0f921\"]],\"type\":\"contour\"}],\"heatmapgl\":[{\"colorbar\":{\"outlinewidth\":0,\"ticks\":\"\"},\"colorscale\":[[0.0,\"#0d0887\"],[0.1111111111111111,\"#46039f\"],[0.2222222222222222,\"#7201a8\"],[0.3333333333333333,\"#9c179e\"],[0.4444444444444444,\"#bd3786\"],[0.5555555555555556,\"#d8576b\"],[0.6666666666666666,\"#ed7953\"],[0.7777777777777778,\"#fb9f3a\"],[0.8888888888888888,\"#fdca26\"],[1.0,\"#f0f921\"]],\"type\":\"heatmapgl\"}],\"heatmap\":[{\"colorbar\":{\"outlinewidth\":0,\"ticks\":\"\"},\"colorscale\":[[0.0,\"#0d0887\"],[0.1111111111111111,\"#46039f\"],[0.2222222222222222,\"#7201a8\"],[0.3333333333333333,\"#9c179e\"],[0.4444444444444444,\"#bd3786\"],[0.5555555555555556,\"#d8576b\"],[0.6666666666666666,\"#ed7953\"],[0.7777777777777778,\"#fb9f3a\"],[0.8888888888888888,\"#fdca26\"],[1.0,\"#f0f921\"]],\"type\":\"heatmap\"}],\"histogram2dcontour\":[{\"colorbar\":{\"outlinewidth\":0,\"ticks\":\"\"},\"colorscale\":[[0.0,\"#0d0887\"],[0.1111111111111111,\"#46039f\"],[0.2222222222222222,\"#7201a8\"],[0.3333333333333333,\"#9c179e\"],[0.4444444444444444,\"#bd3786\"],[0.5555555555555556,\"#d8576b\"],[0.6666666666666666,\"#ed7953\"],[0.7777777777777778,\"#fb9f3a\"],[0.8888888888888888,\"#fdca26\"],[1.0,\"#f0f921\"]],\"type\":\"histogram2dcontour\"}],\"histogram2d\":[{\"colorbar\":{\"outlinewidth\":0,\"ticks\":\"\"},\"colorscale\":[[0.0,\"#0d0887\"],[0.1111111111111111,\"#46039f\"],[0.2222222222222222,\"#7201a8\"],[0.3333333333333333,\"#9c179e\"],[0.4444444444444444,\"#bd3786\"],[0.5555555555555556,\"#d8576b\"],[0.6666666666666666,\"#ed7953\"],[0.7777777777777778,\"#fb9f3a\"],[0.8888888888888888,\"#fdca26\"],[1.0,\"#f0f921\"]],\"type\":\"histogram2d\"}],\"histogram\":[{\"marker\":{\"pattern\":{\"fillmode\":\"overlay\",\"size\":10,\"solidity\":0.2}},\"type\":\"histogram\"}],\"mesh3d\":[{\"colorbar\":{\"outlinewidth\":0,\"ticks\":\"\"},\"type\":\"mesh3d\"}],\"parcoords\":[{\"line\":{\"colorbar\":{\"outlinewidth\":0,\"ticks\":\"\"}},\"type\":\"parcoords\"}],\"pie\":[{\"automargin\":true,\"type\":\"pie\"}],\"scatter3d\":[{\"line\":{\"colorbar\":{\"outlinewidth\":0,\"ticks\":\"\"}},\"marker\":{\"colorbar\":{\"outlinewidth\":0,\"ticks\":\"\"}},\"type\":\"scatter3d\"}],\"scattercarpet\":[{\"marker\":{\"colorbar\":{\"outlinewidth\":0,\"ticks\":\"\"}},\"type\":\"scattercarpet\"}],\"scattergeo\":[{\"marker\":{\"colorbar\":{\"outlinewidth\":0,\"ticks\":\"\"}},\"type\":\"scattergeo\"}],\"scattergl\":[{\"marker\":{\"colorbar\":{\"outlinewidth\":0,\"ticks\":\"\"}},\"type\":\"scattergl\"}],\"scattermapbox\":[{\"marker\":{\"colorbar\":{\"outlinewidth\":0,\"ticks\":\"\"}},\"type\":\"scattermapbox\"}],\"scatterpolargl\":[{\"marker\":{\"colorbar\":{\"outlinewidth\":0,\"ticks\":\"\"}},\"type\":\"scatterpolargl\"}],\"scatterpolar\":[{\"marker\":{\"colorbar\":{\"outlinewidth\":0,\"ticks\":\"\"}},\"type\":\"scatterpolar\"}],\"scatter\":[{\"marker\":{\"colorbar\":{\"outlinewidth\":0,\"ticks\":\"\"}},\"type\":\"scatter\"}],\"scatterternary\":[{\"marker\":{\"colorbar\":{\"outlinewidth\":0,\"ticks\":\"\"}},\"type\":\"scatterternary\"}],\"surface\":[{\"colorbar\":{\"outlinewidth\":0,\"ticks\":\"\"},\"colorscale\":[[0.0,\"#0d0887\"],[0.1111111111111111,\"#46039f\"],[0.2222222222222222,\"#7201a8\"],[0.3333333333333333,\"#9c179e\"],[0.4444444444444444,\"#bd3786\"],[0.5555555555555556,\"#d8576b\"],[0.6666666666666666,\"#ed7953\"],[0.7777777777777778,\"#fb9f3a\"],[0.8888888888888888,\"#fdca26\"],[1.0,\"#f0f921\"]],\"type\":\"surface\"}],\"table\":[{\"cells\":{\"fill\":{\"color\":\"#EBF0F8\"},\"line\":{\"color\":\"white\"}},\"header\":{\"fill\":{\"color\":\"#C8D4E3\"},\"line\":{\"color\":\"white\"}},\"type\":\"table\"}]},\"layout\":{\"annotationdefaults\":{\"arrowcolor\":\"#2a3f5f\",\"arrowhead\":0,\"arrowwidth\":1},\"autotypenumbers\":\"strict\",\"coloraxis\":{\"colorbar\":{\"outlinewidth\":0,\"ticks\":\"\"}},\"colorscale\":{\"diverging\":[[0,\"#8e0152\"],[0.1,\"#c51b7d\"],[0.2,\"#de77ae\"],[0.3,\"#f1b6da\"],[0.4,\"#fde0ef\"],[0.5,\"#f7f7f7\"],[0.6,\"#e6f5d0\"],[0.7,\"#b8e186\"],[0.8,\"#7fbc41\"],[0.9,\"#4d9221\"],[1,\"#276419\"]],\"sequential\":[[0.0,\"#0d0887\"],[0.1111111111111111,\"#46039f\"],[0.2222222222222222,\"#7201a8\"],[0.3333333333333333,\"#9c179e\"],[0.4444444444444444,\"#bd3786\"],[0.5555555555555556,\"#d8576b\"],[0.6666666666666666,\"#ed7953\"],[0.7777777777777778,\"#fb9f3a\"],[0.8888888888888888,\"#fdca26\"],[1.0,\"#f0f921\"]],\"sequentialminus\":[[0.0,\"#0d0887\"],[0.1111111111111111,\"#46039f\"],[0.2222222222222222,\"#7201a8\"],[0.3333333333333333,\"#9c179e\"],[0.4444444444444444,\"#bd3786\"],[0.5555555555555556,\"#d8576b\"],[0.6666666666666666,\"#ed7953\"],[0.7777777777777778,\"#fb9f3a\"],[0.8888888888888888,\"#fdca26\"],[1.0,\"#f0f921\"]]},\"colorway\":[\"#636efa\",\"#EF553B\",\"#00cc96\",\"#ab63fa\",\"#FFA15A\",\"#19d3f3\",\"#FF6692\",\"#B6E880\",\"#FF97FF\",\"#FECB52\"],\"font\":{\"color\":\"#2a3f5f\"},\"geo\":{\"bgcolor\":\"white\",\"lakecolor\":\"white\",\"landcolor\":\"#E5ECF6\",\"showlakes\":true,\"showland\":true,\"subunitcolor\":\"white\"},\"hoverlabel\":{\"align\":\"left\"},\"hovermode\":\"closest\",\"mapbox\":{\"style\":\"light\"},\"paper_bgcolor\":\"white\",\"plot_bgcolor\":\"#E5ECF6\",\"polar\":{\"angularaxis\":{\"gridcolor\":\"white\",\"linecolor\":\"white\",\"ticks\":\"\"},\"bgcolor\":\"#E5ECF6\",\"radialaxis\":{\"gridcolor\":\"white\",\"linecolor\":\"white\",\"ticks\":\"\"}},\"scene\":{\"xaxis\":{\"backgroundcolor\":\"#E5ECF6\",\"gridcolor\":\"white\",\"gridwidth\":2,\"linecolor\":\"white\",\"showbackground\":true,\"ticks\":\"\",\"zerolinecolor\":\"white\"},\"yaxis\":{\"backgroundcolor\":\"#E5ECF6\",\"gridcolor\":\"white\",\"gridwidth\":2,\"linecolor\":\"white\",\"showbackground\":true,\"ticks\":\"\",\"zerolinecolor\":\"white\"},\"zaxis\":{\"backgroundcolor\":\"#E5ECF6\",\"gridcolor\":\"white\",\"gridwidth\":2,\"linecolor\":\"white\",\"showbackground\":true,\"ticks\":\"\",\"zerolinecolor\":\"white\"}},\"shapedefaults\":{\"line\":{\"color\":\"#2a3f5f\"}},\"ternary\":{\"aaxis\":{\"gridcolor\":\"white\",\"linecolor\":\"white\",\"ticks\":\"\"},\"baxis\":{\"gridcolor\":\"white\",\"linecolor\":\"white\",\"ticks\":\"\"},\"bgcolor\":\"#E5ECF6\",\"caxis\":{\"gridcolor\":\"white\",\"linecolor\":\"white\",\"ticks\":\"\"}},\"title\":{\"x\":0.05},\"xaxis\":{\"automargin\":true,\"gridcolor\":\"white\",\"linecolor\":\"white\",\"ticks\":\"\",\"title\":{\"standoff\":15},\"zerolinecolor\":\"white\",\"zerolinewidth\":2},\"yaxis\":{\"automargin\":true,\"gridcolor\":\"white\",\"linecolor\":\"white\",\"ticks\":\"\",\"title\":{\"standoff\":15},\"zerolinecolor\":\"white\",\"zerolinewidth\":2}}},\"title\":{\"font\":{\"color\":\"#4D5663\"}},\"xaxis\":{\"gridcolor\":\"#E1E5ED\",\"showgrid\":true,\"tickfont\":{\"color\":\"#4D5663\"},\"title\":{\"font\":{\"color\":\"#4D5663\"},\"text\":\"\"},\"zerolinecolor\":\"#E1E5ED\"},\"yaxis\":{\"gridcolor\":\"#E1E5ED\",\"showgrid\":true,\"tickfont\":{\"color\":\"#4D5663\"},\"title\":{\"font\":{\"color\":\"#4D5663\"},\"text\":\"\"},\"zerolinecolor\":\"#E1E5ED\"}},                        {\"showLink\": true, \"linkText\": \"Export to plot.ly\", \"plotlyServerURL\": \"https://plot.ly\", \"responsive\": true}                    ).then(function(){\n",
       "                            \n",
       "var gd = document.getElementById('9eb5ffb3-f41e-4113-830e-b7511271dbc6');\n",
       "var x = new MutationObserver(function (mutations, observer) {{\n",
       "        var display = window.getComputedStyle(gd).display;\n",
       "        if (!display || display === 'none') {{\n",
       "            console.log([gd, 'removed!']);\n",
       "            Plotly.purge(gd);\n",
       "            observer.disconnect();\n",
       "        }}\n",
       "}});\n",
       "\n",
       "// Listen for the removal of the full notebook cells\n",
       "var notebookContainer = gd.closest('#notebook-container');\n",
       "if (notebookContainer) {{\n",
       "    x.observe(notebookContainer, {childList: true});\n",
       "}}\n",
       "\n",
       "// Listen for the clearing of the current output cell\n",
       "var outputEl = gd.closest('.output');\n",
       "if (outputEl) {{\n",
       "    x.observe(outputEl, {childList: true});\n",
       "}}\n",
       "\n",
       "                        })                };                });            </script>        </div>"
      ]
     },
     "metadata": {},
     "output_type": "display_data"
    }
   ],
   "source": [
    "df1.iplot(kind = 'scatter', x = 'A', y = 'B', mode = 'markers')"
   ]
  },
  {
   "cell_type": "markdown",
   "id": "dbf1e239",
   "metadata": {},
   "source": [
    "### Bar Plot"
   ]
  },
  {
   "cell_type": "code",
   "execution_count": 13,
   "id": "e398cb79",
   "metadata": {},
   "outputs": [
    {
     "data": {
      "application/vnd.plotly.v1+json": {
       "config": {
        "linkText": "Export to plot.ly",
        "plotlyServerURL": "https://plot.ly",
        "showLink": true
       },
       "data": [
        {
         "marker": {
          "color": "rgba(255, 153, 51, 0.6)",
          "line": {
           "color": "rgba(255, 153, 51, 1.0)",
           "width": 1
          }
         },
         "name": "Values",
         "orientation": "v",
         "text": "",
         "type": "bar",
         "x": [
          "A",
          "B",
          "C"
         ],
         "y": [
          32,
          43,
          50
         ]
        }
       ],
       "layout": {
        "legend": {
         "bgcolor": "#F5F6F9",
         "font": {
          "color": "#4D5663"
         }
        },
        "paper_bgcolor": "#F5F6F9",
        "plot_bgcolor": "#F5F6F9",
        "template": {
         "data": {
          "bar": [
           {
            "error_x": {
             "color": "#2a3f5f"
            },
            "error_y": {
             "color": "#2a3f5f"
            },
            "marker": {
             "line": {
              "color": "#E5ECF6",
              "width": 0.5
             },
             "pattern": {
              "fillmode": "overlay",
              "size": 10,
              "solidity": 0.2
             }
            },
            "type": "bar"
           }
          ],
          "barpolar": [
           {
            "marker": {
             "line": {
              "color": "#E5ECF6",
              "width": 0.5
             },
             "pattern": {
              "fillmode": "overlay",
              "size": 10,
              "solidity": 0.2
             }
            },
            "type": "barpolar"
           }
          ],
          "carpet": [
           {
            "aaxis": {
             "endlinecolor": "#2a3f5f",
             "gridcolor": "white",
             "linecolor": "white",
             "minorgridcolor": "white",
             "startlinecolor": "#2a3f5f"
            },
            "baxis": {
             "endlinecolor": "#2a3f5f",
             "gridcolor": "white",
             "linecolor": "white",
             "minorgridcolor": "white",
             "startlinecolor": "#2a3f5f"
            },
            "type": "carpet"
           }
          ],
          "choropleth": [
           {
            "colorbar": {
             "outlinewidth": 0,
             "ticks": ""
            },
            "type": "choropleth"
           }
          ],
          "contour": [
           {
            "colorbar": {
             "outlinewidth": 0,
             "ticks": ""
            },
            "colorscale": [
             [
              0,
              "#0d0887"
             ],
             [
              0.1111111111111111,
              "#46039f"
             ],
             [
              0.2222222222222222,
              "#7201a8"
             ],
             [
              0.3333333333333333,
              "#9c179e"
             ],
             [
              0.4444444444444444,
              "#bd3786"
             ],
             [
              0.5555555555555556,
              "#d8576b"
             ],
             [
              0.6666666666666666,
              "#ed7953"
             ],
             [
              0.7777777777777778,
              "#fb9f3a"
             ],
             [
              0.8888888888888888,
              "#fdca26"
             ],
             [
              1,
              "#f0f921"
             ]
            ],
            "type": "contour"
           }
          ],
          "contourcarpet": [
           {
            "colorbar": {
             "outlinewidth": 0,
             "ticks": ""
            },
            "type": "contourcarpet"
           }
          ],
          "heatmap": [
           {
            "colorbar": {
             "outlinewidth": 0,
             "ticks": ""
            },
            "colorscale": [
             [
              0,
              "#0d0887"
             ],
             [
              0.1111111111111111,
              "#46039f"
             ],
             [
              0.2222222222222222,
              "#7201a8"
             ],
             [
              0.3333333333333333,
              "#9c179e"
             ],
             [
              0.4444444444444444,
              "#bd3786"
             ],
             [
              0.5555555555555556,
              "#d8576b"
             ],
             [
              0.6666666666666666,
              "#ed7953"
             ],
             [
              0.7777777777777778,
              "#fb9f3a"
             ],
             [
              0.8888888888888888,
              "#fdca26"
             ],
             [
              1,
              "#f0f921"
             ]
            ],
            "type": "heatmap"
           }
          ],
          "heatmapgl": [
           {
            "colorbar": {
             "outlinewidth": 0,
             "ticks": ""
            },
            "colorscale": [
             [
              0,
              "#0d0887"
             ],
             [
              0.1111111111111111,
              "#46039f"
             ],
             [
              0.2222222222222222,
              "#7201a8"
             ],
             [
              0.3333333333333333,
              "#9c179e"
             ],
             [
              0.4444444444444444,
              "#bd3786"
             ],
             [
              0.5555555555555556,
              "#d8576b"
             ],
             [
              0.6666666666666666,
              "#ed7953"
             ],
             [
              0.7777777777777778,
              "#fb9f3a"
             ],
             [
              0.8888888888888888,
              "#fdca26"
             ],
             [
              1,
              "#f0f921"
             ]
            ],
            "type": "heatmapgl"
           }
          ],
          "histogram": [
           {
            "marker": {
             "pattern": {
              "fillmode": "overlay",
              "size": 10,
              "solidity": 0.2
             }
            },
            "type": "histogram"
           }
          ],
          "histogram2d": [
           {
            "colorbar": {
             "outlinewidth": 0,
             "ticks": ""
            },
            "colorscale": [
             [
              0,
              "#0d0887"
             ],
             [
              0.1111111111111111,
              "#46039f"
             ],
             [
              0.2222222222222222,
              "#7201a8"
             ],
             [
              0.3333333333333333,
              "#9c179e"
             ],
             [
              0.4444444444444444,
              "#bd3786"
             ],
             [
              0.5555555555555556,
              "#d8576b"
             ],
             [
              0.6666666666666666,
              "#ed7953"
             ],
             [
              0.7777777777777778,
              "#fb9f3a"
             ],
             [
              0.8888888888888888,
              "#fdca26"
             ],
             [
              1,
              "#f0f921"
             ]
            ],
            "type": "histogram2d"
           }
          ],
          "histogram2dcontour": [
           {
            "colorbar": {
             "outlinewidth": 0,
             "ticks": ""
            },
            "colorscale": [
             [
              0,
              "#0d0887"
             ],
             [
              0.1111111111111111,
              "#46039f"
             ],
             [
              0.2222222222222222,
              "#7201a8"
             ],
             [
              0.3333333333333333,
              "#9c179e"
             ],
             [
              0.4444444444444444,
              "#bd3786"
             ],
             [
              0.5555555555555556,
              "#d8576b"
             ],
             [
              0.6666666666666666,
              "#ed7953"
             ],
             [
              0.7777777777777778,
              "#fb9f3a"
             ],
             [
              0.8888888888888888,
              "#fdca26"
             ],
             [
              1,
              "#f0f921"
             ]
            ],
            "type": "histogram2dcontour"
           }
          ],
          "mesh3d": [
           {
            "colorbar": {
             "outlinewidth": 0,
             "ticks": ""
            },
            "type": "mesh3d"
           }
          ],
          "parcoords": [
           {
            "line": {
             "colorbar": {
              "outlinewidth": 0,
              "ticks": ""
             }
            },
            "type": "parcoords"
           }
          ],
          "pie": [
           {
            "automargin": true,
            "type": "pie"
           }
          ],
          "scatter": [
           {
            "marker": {
             "colorbar": {
              "outlinewidth": 0,
              "ticks": ""
             }
            },
            "type": "scatter"
           }
          ],
          "scatter3d": [
           {
            "line": {
             "colorbar": {
              "outlinewidth": 0,
              "ticks": ""
             }
            },
            "marker": {
             "colorbar": {
              "outlinewidth": 0,
              "ticks": ""
             }
            },
            "type": "scatter3d"
           }
          ],
          "scattercarpet": [
           {
            "marker": {
             "colorbar": {
              "outlinewidth": 0,
              "ticks": ""
             }
            },
            "type": "scattercarpet"
           }
          ],
          "scattergeo": [
           {
            "marker": {
             "colorbar": {
              "outlinewidth": 0,
              "ticks": ""
             }
            },
            "type": "scattergeo"
           }
          ],
          "scattergl": [
           {
            "marker": {
             "colorbar": {
              "outlinewidth": 0,
              "ticks": ""
             }
            },
            "type": "scattergl"
           }
          ],
          "scattermapbox": [
           {
            "marker": {
             "colorbar": {
              "outlinewidth": 0,
              "ticks": ""
             }
            },
            "type": "scattermapbox"
           }
          ],
          "scatterpolar": [
           {
            "marker": {
             "colorbar": {
              "outlinewidth": 0,
              "ticks": ""
             }
            },
            "type": "scatterpolar"
           }
          ],
          "scatterpolargl": [
           {
            "marker": {
             "colorbar": {
              "outlinewidth": 0,
              "ticks": ""
             }
            },
            "type": "scatterpolargl"
           }
          ],
          "scatterternary": [
           {
            "marker": {
             "colorbar": {
              "outlinewidth": 0,
              "ticks": ""
             }
            },
            "type": "scatterternary"
           }
          ],
          "surface": [
           {
            "colorbar": {
             "outlinewidth": 0,
             "ticks": ""
            },
            "colorscale": [
             [
              0,
              "#0d0887"
             ],
             [
              0.1111111111111111,
              "#46039f"
             ],
             [
              0.2222222222222222,
              "#7201a8"
             ],
             [
              0.3333333333333333,
              "#9c179e"
             ],
             [
              0.4444444444444444,
              "#bd3786"
             ],
             [
              0.5555555555555556,
              "#d8576b"
             ],
             [
              0.6666666666666666,
              "#ed7953"
             ],
             [
              0.7777777777777778,
              "#fb9f3a"
             ],
             [
              0.8888888888888888,
              "#fdca26"
             ],
             [
              1,
              "#f0f921"
             ]
            ],
            "type": "surface"
           }
          ],
          "table": [
           {
            "cells": {
             "fill": {
              "color": "#EBF0F8"
             },
             "line": {
              "color": "white"
             }
            },
            "header": {
             "fill": {
              "color": "#C8D4E3"
             },
             "line": {
              "color": "white"
             }
            },
            "type": "table"
           }
          ]
         },
         "layout": {
          "annotationdefaults": {
           "arrowcolor": "#2a3f5f",
           "arrowhead": 0,
           "arrowwidth": 1
          },
          "autotypenumbers": "strict",
          "coloraxis": {
           "colorbar": {
            "outlinewidth": 0,
            "ticks": ""
           }
          },
          "colorscale": {
           "diverging": [
            [
             0,
             "#8e0152"
            ],
            [
             0.1,
             "#c51b7d"
            ],
            [
             0.2,
             "#de77ae"
            ],
            [
             0.3,
             "#f1b6da"
            ],
            [
             0.4,
             "#fde0ef"
            ],
            [
             0.5,
             "#f7f7f7"
            ],
            [
             0.6,
             "#e6f5d0"
            ],
            [
             0.7,
             "#b8e186"
            ],
            [
             0.8,
             "#7fbc41"
            ],
            [
             0.9,
             "#4d9221"
            ],
            [
             1,
             "#276419"
            ]
           ],
           "sequential": [
            [
             0,
             "#0d0887"
            ],
            [
             0.1111111111111111,
             "#46039f"
            ],
            [
             0.2222222222222222,
             "#7201a8"
            ],
            [
             0.3333333333333333,
             "#9c179e"
            ],
            [
             0.4444444444444444,
             "#bd3786"
            ],
            [
             0.5555555555555556,
             "#d8576b"
            ],
            [
             0.6666666666666666,
             "#ed7953"
            ],
            [
             0.7777777777777778,
             "#fb9f3a"
            ],
            [
             0.8888888888888888,
             "#fdca26"
            ],
            [
             1,
             "#f0f921"
            ]
           ],
           "sequentialminus": [
            [
             0,
             "#0d0887"
            ],
            [
             0.1111111111111111,
             "#46039f"
            ],
            [
             0.2222222222222222,
             "#7201a8"
            ],
            [
             0.3333333333333333,
             "#9c179e"
            ],
            [
             0.4444444444444444,
             "#bd3786"
            ],
            [
             0.5555555555555556,
             "#d8576b"
            ],
            [
             0.6666666666666666,
             "#ed7953"
            ],
            [
             0.7777777777777778,
             "#fb9f3a"
            ],
            [
             0.8888888888888888,
             "#fdca26"
            ],
            [
             1,
             "#f0f921"
            ]
           ]
          },
          "colorway": [
           "#636efa",
           "#EF553B",
           "#00cc96",
           "#ab63fa",
           "#FFA15A",
           "#19d3f3",
           "#FF6692",
           "#B6E880",
           "#FF97FF",
           "#FECB52"
          ],
          "font": {
           "color": "#2a3f5f"
          },
          "geo": {
           "bgcolor": "white",
           "lakecolor": "white",
           "landcolor": "#E5ECF6",
           "showlakes": true,
           "showland": true,
           "subunitcolor": "white"
          },
          "hoverlabel": {
           "align": "left"
          },
          "hovermode": "closest",
          "mapbox": {
           "style": "light"
          },
          "paper_bgcolor": "white",
          "plot_bgcolor": "#E5ECF6",
          "polar": {
           "angularaxis": {
            "gridcolor": "white",
            "linecolor": "white",
            "ticks": ""
           },
           "bgcolor": "#E5ECF6",
           "radialaxis": {
            "gridcolor": "white",
            "linecolor": "white",
            "ticks": ""
           }
          },
          "scene": {
           "xaxis": {
            "backgroundcolor": "#E5ECF6",
            "gridcolor": "white",
            "gridwidth": 2,
            "linecolor": "white",
            "showbackground": true,
            "ticks": "",
            "zerolinecolor": "white"
           },
           "yaxis": {
            "backgroundcolor": "#E5ECF6",
            "gridcolor": "white",
            "gridwidth": 2,
            "linecolor": "white",
            "showbackground": true,
            "ticks": "",
            "zerolinecolor": "white"
           },
           "zaxis": {
            "backgroundcolor": "#E5ECF6",
            "gridcolor": "white",
            "gridwidth": 2,
            "linecolor": "white",
            "showbackground": true,
            "ticks": "",
            "zerolinecolor": "white"
           }
          },
          "shapedefaults": {
           "line": {
            "color": "#2a3f5f"
           }
          },
          "ternary": {
           "aaxis": {
            "gridcolor": "white",
            "linecolor": "white",
            "ticks": ""
           },
           "baxis": {
            "gridcolor": "white",
            "linecolor": "white",
            "ticks": ""
           },
           "bgcolor": "#E5ECF6",
           "caxis": {
            "gridcolor": "white",
            "linecolor": "white",
            "ticks": ""
           }
          },
          "title": {
           "x": 0.05
          },
          "xaxis": {
           "automargin": true,
           "gridcolor": "white",
           "linecolor": "white",
           "ticks": "",
           "title": {
            "standoff": 15
           },
           "zerolinecolor": "white",
           "zerolinewidth": 2
          },
          "yaxis": {
           "automargin": true,
           "gridcolor": "white",
           "linecolor": "white",
           "ticks": "",
           "title": {
            "standoff": 15
           },
           "zerolinecolor": "white",
           "zerolinewidth": 2
          }
         }
        },
        "title": {
         "font": {
          "color": "#4D5663"
         }
        },
        "xaxis": {
         "gridcolor": "#E1E5ED",
         "showgrid": true,
         "tickfont": {
          "color": "#4D5663"
         },
         "title": {
          "font": {
           "color": "#4D5663"
          },
          "text": ""
         },
         "zerolinecolor": "#E1E5ED"
        },
        "yaxis": {
         "gridcolor": "#E1E5ED",
         "showgrid": true,
         "tickfont": {
          "color": "#4D5663"
         },
         "title": {
          "font": {
           "color": "#4D5663"
          },
          "text": ""
         },
         "zerolinecolor": "#E1E5ED"
        }
       }
      },
      "text/html": [
       "<div>                            <div id=\"73ecbbd1-ca56-4858-a06f-8bead951957d\" class=\"plotly-graph-div\" style=\"height:525px; width:100%;\"></div>            <script type=\"text/javascript\">                require([\"plotly\"], function(Plotly) {                    window.PLOTLYENV=window.PLOTLYENV || {};\n",
       "                    window.PLOTLYENV.BASE_URL='https://plot.ly';                                    if (document.getElementById(\"73ecbbd1-ca56-4858-a06f-8bead951957d\")) {                    Plotly.newPlot(                        \"73ecbbd1-ca56-4858-a06f-8bead951957d\",                        [{\"marker\":{\"color\":\"rgba(255, 153, 51, 0.6)\",\"line\":{\"color\":\"rgba(255, 153, 51, 1.0)\",\"width\":1}},\"name\":\"Values\",\"orientation\":\"v\",\"text\":\"\",\"x\":[\"A\",\"B\",\"C\"],\"y\":[32,43,50],\"type\":\"bar\"}],                        {\"legend\":{\"bgcolor\":\"#F5F6F9\",\"font\":{\"color\":\"#4D5663\"}},\"paper_bgcolor\":\"#F5F6F9\",\"plot_bgcolor\":\"#F5F6F9\",\"template\":{\"data\":{\"barpolar\":[{\"marker\":{\"line\":{\"color\":\"#E5ECF6\",\"width\":0.5},\"pattern\":{\"fillmode\":\"overlay\",\"size\":10,\"solidity\":0.2}},\"type\":\"barpolar\"}],\"bar\":[{\"error_x\":{\"color\":\"#2a3f5f\"},\"error_y\":{\"color\":\"#2a3f5f\"},\"marker\":{\"line\":{\"color\":\"#E5ECF6\",\"width\":0.5},\"pattern\":{\"fillmode\":\"overlay\",\"size\":10,\"solidity\":0.2}},\"type\":\"bar\"}],\"carpet\":[{\"aaxis\":{\"endlinecolor\":\"#2a3f5f\",\"gridcolor\":\"white\",\"linecolor\":\"white\",\"minorgridcolor\":\"white\",\"startlinecolor\":\"#2a3f5f\"},\"baxis\":{\"endlinecolor\":\"#2a3f5f\",\"gridcolor\":\"white\",\"linecolor\":\"white\",\"minorgridcolor\":\"white\",\"startlinecolor\":\"#2a3f5f\"},\"type\":\"carpet\"}],\"choropleth\":[{\"colorbar\":{\"outlinewidth\":0,\"ticks\":\"\"},\"type\":\"choropleth\"}],\"contourcarpet\":[{\"colorbar\":{\"outlinewidth\":0,\"ticks\":\"\"},\"type\":\"contourcarpet\"}],\"contour\":[{\"colorbar\":{\"outlinewidth\":0,\"ticks\":\"\"},\"colorscale\":[[0.0,\"#0d0887\"],[0.1111111111111111,\"#46039f\"],[0.2222222222222222,\"#7201a8\"],[0.3333333333333333,\"#9c179e\"],[0.4444444444444444,\"#bd3786\"],[0.5555555555555556,\"#d8576b\"],[0.6666666666666666,\"#ed7953\"],[0.7777777777777778,\"#fb9f3a\"],[0.8888888888888888,\"#fdca26\"],[1.0,\"#f0f921\"]],\"type\":\"contour\"}],\"heatmapgl\":[{\"colorbar\":{\"outlinewidth\":0,\"ticks\":\"\"},\"colorscale\":[[0.0,\"#0d0887\"],[0.1111111111111111,\"#46039f\"],[0.2222222222222222,\"#7201a8\"],[0.3333333333333333,\"#9c179e\"],[0.4444444444444444,\"#bd3786\"],[0.5555555555555556,\"#d8576b\"],[0.6666666666666666,\"#ed7953\"],[0.7777777777777778,\"#fb9f3a\"],[0.8888888888888888,\"#fdca26\"],[1.0,\"#f0f921\"]],\"type\":\"heatmapgl\"}],\"heatmap\":[{\"colorbar\":{\"outlinewidth\":0,\"ticks\":\"\"},\"colorscale\":[[0.0,\"#0d0887\"],[0.1111111111111111,\"#46039f\"],[0.2222222222222222,\"#7201a8\"],[0.3333333333333333,\"#9c179e\"],[0.4444444444444444,\"#bd3786\"],[0.5555555555555556,\"#d8576b\"],[0.6666666666666666,\"#ed7953\"],[0.7777777777777778,\"#fb9f3a\"],[0.8888888888888888,\"#fdca26\"],[1.0,\"#f0f921\"]],\"type\":\"heatmap\"}],\"histogram2dcontour\":[{\"colorbar\":{\"outlinewidth\":0,\"ticks\":\"\"},\"colorscale\":[[0.0,\"#0d0887\"],[0.1111111111111111,\"#46039f\"],[0.2222222222222222,\"#7201a8\"],[0.3333333333333333,\"#9c179e\"],[0.4444444444444444,\"#bd3786\"],[0.5555555555555556,\"#d8576b\"],[0.6666666666666666,\"#ed7953\"],[0.7777777777777778,\"#fb9f3a\"],[0.8888888888888888,\"#fdca26\"],[1.0,\"#f0f921\"]],\"type\":\"histogram2dcontour\"}],\"histogram2d\":[{\"colorbar\":{\"outlinewidth\":0,\"ticks\":\"\"},\"colorscale\":[[0.0,\"#0d0887\"],[0.1111111111111111,\"#46039f\"],[0.2222222222222222,\"#7201a8\"],[0.3333333333333333,\"#9c179e\"],[0.4444444444444444,\"#bd3786\"],[0.5555555555555556,\"#d8576b\"],[0.6666666666666666,\"#ed7953\"],[0.7777777777777778,\"#fb9f3a\"],[0.8888888888888888,\"#fdca26\"],[1.0,\"#f0f921\"]],\"type\":\"histogram2d\"}],\"histogram\":[{\"marker\":{\"pattern\":{\"fillmode\":\"overlay\",\"size\":10,\"solidity\":0.2}},\"type\":\"histogram\"}],\"mesh3d\":[{\"colorbar\":{\"outlinewidth\":0,\"ticks\":\"\"},\"type\":\"mesh3d\"}],\"parcoords\":[{\"line\":{\"colorbar\":{\"outlinewidth\":0,\"ticks\":\"\"}},\"type\":\"parcoords\"}],\"pie\":[{\"automargin\":true,\"type\":\"pie\"}],\"scatter3d\":[{\"line\":{\"colorbar\":{\"outlinewidth\":0,\"ticks\":\"\"}},\"marker\":{\"colorbar\":{\"outlinewidth\":0,\"ticks\":\"\"}},\"type\":\"scatter3d\"}],\"scattercarpet\":[{\"marker\":{\"colorbar\":{\"outlinewidth\":0,\"ticks\":\"\"}},\"type\":\"scattercarpet\"}],\"scattergeo\":[{\"marker\":{\"colorbar\":{\"outlinewidth\":0,\"ticks\":\"\"}},\"type\":\"scattergeo\"}],\"scattergl\":[{\"marker\":{\"colorbar\":{\"outlinewidth\":0,\"ticks\":\"\"}},\"type\":\"scattergl\"}],\"scattermapbox\":[{\"marker\":{\"colorbar\":{\"outlinewidth\":0,\"ticks\":\"\"}},\"type\":\"scattermapbox\"}],\"scatterpolargl\":[{\"marker\":{\"colorbar\":{\"outlinewidth\":0,\"ticks\":\"\"}},\"type\":\"scatterpolargl\"}],\"scatterpolar\":[{\"marker\":{\"colorbar\":{\"outlinewidth\":0,\"ticks\":\"\"}},\"type\":\"scatterpolar\"}],\"scatter\":[{\"marker\":{\"colorbar\":{\"outlinewidth\":0,\"ticks\":\"\"}},\"type\":\"scatter\"}],\"scatterternary\":[{\"marker\":{\"colorbar\":{\"outlinewidth\":0,\"ticks\":\"\"}},\"type\":\"scatterternary\"}],\"surface\":[{\"colorbar\":{\"outlinewidth\":0,\"ticks\":\"\"},\"colorscale\":[[0.0,\"#0d0887\"],[0.1111111111111111,\"#46039f\"],[0.2222222222222222,\"#7201a8\"],[0.3333333333333333,\"#9c179e\"],[0.4444444444444444,\"#bd3786\"],[0.5555555555555556,\"#d8576b\"],[0.6666666666666666,\"#ed7953\"],[0.7777777777777778,\"#fb9f3a\"],[0.8888888888888888,\"#fdca26\"],[1.0,\"#f0f921\"]],\"type\":\"surface\"}],\"table\":[{\"cells\":{\"fill\":{\"color\":\"#EBF0F8\"},\"line\":{\"color\":\"white\"}},\"header\":{\"fill\":{\"color\":\"#C8D4E3\"},\"line\":{\"color\":\"white\"}},\"type\":\"table\"}]},\"layout\":{\"annotationdefaults\":{\"arrowcolor\":\"#2a3f5f\",\"arrowhead\":0,\"arrowwidth\":1},\"autotypenumbers\":\"strict\",\"coloraxis\":{\"colorbar\":{\"outlinewidth\":0,\"ticks\":\"\"}},\"colorscale\":{\"diverging\":[[0,\"#8e0152\"],[0.1,\"#c51b7d\"],[0.2,\"#de77ae\"],[0.3,\"#f1b6da\"],[0.4,\"#fde0ef\"],[0.5,\"#f7f7f7\"],[0.6,\"#e6f5d0\"],[0.7,\"#b8e186\"],[0.8,\"#7fbc41\"],[0.9,\"#4d9221\"],[1,\"#276419\"]],\"sequential\":[[0.0,\"#0d0887\"],[0.1111111111111111,\"#46039f\"],[0.2222222222222222,\"#7201a8\"],[0.3333333333333333,\"#9c179e\"],[0.4444444444444444,\"#bd3786\"],[0.5555555555555556,\"#d8576b\"],[0.6666666666666666,\"#ed7953\"],[0.7777777777777778,\"#fb9f3a\"],[0.8888888888888888,\"#fdca26\"],[1.0,\"#f0f921\"]],\"sequentialminus\":[[0.0,\"#0d0887\"],[0.1111111111111111,\"#46039f\"],[0.2222222222222222,\"#7201a8\"],[0.3333333333333333,\"#9c179e\"],[0.4444444444444444,\"#bd3786\"],[0.5555555555555556,\"#d8576b\"],[0.6666666666666666,\"#ed7953\"],[0.7777777777777778,\"#fb9f3a\"],[0.8888888888888888,\"#fdca26\"],[1.0,\"#f0f921\"]]},\"colorway\":[\"#636efa\",\"#EF553B\",\"#00cc96\",\"#ab63fa\",\"#FFA15A\",\"#19d3f3\",\"#FF6692\",\"#B6E880\",\"#FF97FF\",\"#FECB52\"],\"font\":{\"color\":\"#2a3f5f\"},\"geo\":{\"bgcolor\":\"white\",\"lakecolor\":\"white\",\"landcolor\":\"#E5ECF6\",\"showlakes\":true,\"showland\":true,\"subunitcolor\":\"white\"},\"hoverlabel\":{\"align\":\"left\"},\"hovermode\":\"closest\",\"mapbox\":{\"style\":\"light\"},\"paper_bgcolor\":\"white\",\"plot_bgcolor\":\"#E5ECF6\",\"polar\":{\"angularaxis\":{\"gridcolor\":\"white\",\"linecolor\":\"white\",\"ticks\":\"\"},\"bgcolor\":\"#E5ECF6\",\"radialaxis\":{\"gridcolor\":\"white\",\"linecolor\":\"white\",\"ticks\":\"\"}},\"scene\":{\"xaxis\":{\"backgroundcolor\":\"#E5ECF6\",\"gridcolor\":\"white\",\"gridwidth\":2,\"linecolor\":\"white\",\"showbackground\":true,\"ticks\":\"\",\"zerolinecolor\":\"white\"},\"yaxis\":{\"backgroundcolor\":\"#E5ECF6\",\"gridcolor\":\"white\",\"gridwidth\":2,\"linecolor\":\"white\",\"showbackground\":true,\"ticks\":\"\",\"zerolinecolor\":\"white\"},\"zaxis\":{\"backgroundcolor\":\"#E5ECF6\",\"gridcolor\":\"white\",\"gridwidth\":2,\"linecolor\":\"white\",\"showbackground\":true,\"ticks\":\"\",\"zerolinecolor\":\"white\"}},\"shapedefaults\":{\"line\":{\"color\":\"#2a3f5f\"}},\"ternary\":{\"aaxis\":{\"gridcolor\":\"white\",\"linecolor\":\"white\",\"ticks\":\"\"},\"baxis\":{\"gridcolor\":\"white\",\"linecolor\":\"white\",\"ticks\":\"\"},\"bgcolor\":\"#E5ECF6\",\"caxis\":{\"gridcolor\":\"white\",\"linecolor\":\"white\",\"ticks\":\"\"}},\"title\":{\"x\":0.05},\"xaxis\":{\"automargin\":true,\"gridcolor\":\"white\",\"linecolor\":\"white\",\"ticks\":\"\",\"title\":{\"standoff\":15},\"zerolinecolor\":\"white\",\"zerolinewidth\":2},\"yaxis\":{\"automargin\":true,\"gridcolor\":\"white\",\"linecolor\":\"white\",\"ticks\":\"\",\"title\":{\"standoff\":15},\"zerolinecolor\":\"white\",\"zerolinewidth\":2}}},\"title\":{\"font\":{\"color\":\"#4D5663\"}},\"xaxis\":{\"gridcolor\":\"#E1E5ED\",\"showgrid\":true,\"tickfont\":{\"color\":\"#4D5663\"},\"title\":{\"font\":{\"color\":\"#4D5663\"},\"text\":\"\"},\"zerolinecolor\":\"#E1E5ED\"},\"yaxis\":{\"gridcolor\":\"#E1E5ED\",\"showgrid\":true,\"tickfont\":{\"color\":\"#4D5663\"},\"title\":{\"font\":{\"color\":\"#4D5663\"},\"text\":\"\"},\"zerolinecolor\":\"#E1E5ED\"}},                        {\"showLink\": true, \"linkText\": \"Export to plot.ly\", \"plotlyServerURL\": \"https://plot.ly\", \"responsive\": true}                    ).then(function(){\n",
       "                            \n",
       "var gd = document.getElementById('73ecbbd1-ca56-4858-a06f-8bead951957d');\n",
       "var x = new MutationObserver(function (mutations, observer) {{\n",
       "        var display = window.getComputedStyle(gd).display;\n",
       "        if (!display || display === 'none') {{\n",
       "            console.log([gd, 'removed!']);\n",
       "            Plotly.purge(gd);\n",
       "            observer.disconnect();\n",
       "        }}\n",
       "}});\n",
       "\n",
       "// Listen for the removal of the full notebook cells\n",
       "var notebookContainer = gd.closest('#notebook-container');\n",
       "if (notebookContainer) {{\n",
       "    x.observe(notebookContainer, {childList: true});\n",
       "}}\n",
       "\n",
       "// Listen for the clearing of the current output cell\n",
       "var outputEl = gd.closest('.output');\n",
       "if (outputEl) {{\n",
       "    x.observe(outputEl, {childList: true});\n",
       "}}\n",
       "\n",
       "                        })                };                });            </script>        </div>"
      ]
     },
     "metadata": {},
     "output_type": "display_data"
    }
   ],
   "source": [
    "df2.iplot(kind = 'bar',x = 'Category',y ='Values')"
   ]
  },
  {
   "cell_type": "code",
   "execution_count": 14,
   "id": "6f055db4",
   "metadata": {},
   "outputs": [
    {
     "data": {
      "text/html": [
       "<div>\n",
       "<style scoped>\n",
       "    .dataframe tbody tr th:only-of-type {\n",
       "        vertical-align: middle;\n",
       "    }\n",
       "\n",
       "    .dataframe tbody tr th {\n",
       "        vertical-align: top;\n",
       "    }\n",
       "\n",
       "    .dataframe thead th {\n",
       "        text-align: right;\n",
       "    }\n",
       "</style>\n",
       "<table border=\"1\" class=\"dataframe\">\n",
       "  <thead>\n",
       "    <tr style=\"text-align: right;\">\n",
       "      <th></th>\n",
       "      <th>A</th>\n",
       "      <th>B</th>\n",
       "      <th>C</th>\n",
       "      <th>D</th>\n",
       "    </tr>\n",
       "  </thead>\n",
       "  <tbody>\n",
       "    <tr>\n",
       "      <th>0</th>\n",
       "      <td>-0.656474</td>\n",
       "      <td>0.758031</td>\n",
       "      <td>-0.423284</td>\n",
       "      <td>-0.107167</td>\n",
       "    </tr>\n",
       "    <tr>\n",
       "      <th>1</th>\n",
       "      <td>-0.442460</td>\n",
       "      <td>-0.862517</td>\n",
       "      <td>1.035347</td>\n",
       "      <td>0.947945</td>\n",
       "    </tr>\n",
       "    <tr>\n",
       "      <th>2</th>\n",
       "      <td>-1.421053</td>\n",
       "      <td>-1.636664</td>\n",
       "      <td>-0.029441</td>\n",
       "      <td>1.370450</td>\n",
       "    </tr>\n",
       "    <tr>\n",
       "      <th>3</th>\n",
       "      <td>2.138913</td>\n",
       "      <td>-0.026789</td>\n",
       "      <td>-1.308078</td>\n",
       "      <td>-0.348662</td>\n",
       "    </tr>\n",
       "    <tr>\n",
       "      <th>4</th>\n",
       "      <td>0.255783</td>\n",
       "      <td>0.231612</td>\n",
       "      <td>0.257114</td>\n",
       "      <td>1.759547</td>\n",
       "    </tr>\n",
       "    <tr>\n",
       "      <th>...</th>\n",
       "      <td>...</td>\n",
       "      <td>...</td>\n",
       "      <td>...</td>\n",
       "      <td>...</td>\n",
       "    </tr>\n",
       "    <tr>\n",
       "      <th>95</th>\n",
       "      <td>0.080358</td>\n",
       "      <td>0.229354</td>\n",
       "      <td>-0.897052</td>\n",
       "      <td>0.941447</td>\n",
       "    </tr>\n",
       "    <tr>\n",
       "      <th>96</th>\n",
       "      <td>-1.019013</td>\n",
       "      <td>-0.928171</td>\n",
       "      <td>-1.408365</td>\n",
       "      <td>0.729761</td>\n",
       "    </tr>\n",
       "    <tr>\n",
       "      <th>97</th>\n",
       "      <td>-0.449120</td>\n",
       "      <td>0.503695</td>\n",
       "      <td>-0.717229</td>\n",
       "      <td>-0.290126</td>\n",
       "    </tr>\n",
       "    <tr>\n",
       "      <th>98</th>\n",
       "      <td>0.958757</td>\n",
       "      <td>-0.434538</td>\n",
       "      <td>-0.912068</td>\n",
       "      <td>-0.581400</td>\n",
       "    </tr>\n",
       "    <tr>\n",
       "      <th>99</th>\n",
       "      <td>-1.254293</td>\n",
       "      <td>-0.968205</td>\n",
       "      <td>-0.375855</td>\n",
       "      <td>0.753237</td>\n",
       "    </tr>\n",
       "  </tbody>\n",
       "</table>\n",
       "<p>100 rows × 4 columns</p>\n",
       "</div>"
      ],
      "text/plain": [
       "           A         B         C         D\n",
       "0  -0.656474  0.758031 -0.423284 -0.107167\n",
       "1  -0.442460 -0.862517  1.035347  0.947945\n",
       "2  -1.421053 -1.636664 -0.029441  1.370450\n",
       "3   2.138913 -0.026789 -1.308078 -0.348662\n",
       "4   0.255783  0.231612  0.257114  1.759547\n",
       "..       ...       ...       ...       ...\n",
       "95  0.080358  0.229354 -0.897052  0.941447\n",
       "96 -1.019013 -0.928171 -1.408365  0.729761\n",
       "97 -0.449120  0.503695 -0.717229 -0.290126\n",
       "98  0.958757 -0.434538 -0.912068 -0.581400\n",
       "99 -1.254293 -0.968205 -0.375855  0.753237\n",
       "\n",
       "[100 rows x 4 columns]"
      ]
     },
     "execution_count": 14,
     "metadata": {},
     "output_type": "execute_result"
    }
   ],
   "source": [
    "df1"
   ]
  },
  {
   "cell_type": "markdown",
   "id": "13a3b450",
   "metadata": {},
   "source": [
    "###### To get a bar plot your data must be properly categorized otherwise you cannot call a Bar plot from it. So we use a aggregate or group by function to make it in that form. If we call a bar plot from the data above we are going to get just bunch of bar plots."
   ]
  },
  {
   "cell_type": "code",
   "execution_count": 15,
   "id": "e3c34e5d",
   "metadata": {},
   "outputs": [
    {
     "data": {
      "application/vnd.plotly.v1+json": {
       "config": {
        "linkText": "Export to plot.ly",
        "plotlyServerURL": "https://plot.ly",
        "showLink": true
       },
       "data": [
        {
         "marker": {
          "color": "rgba(255, 153, 51, 0.6)",
          "line": {
           "color": "rgba(255, 153, 51, 1.0)",
           "width": 1
          }
         },
         "name": "A",
         "orientation": "v",
         "text": "",
         "type": "bar",
         "x": [
          0,
          1,
          2,
          3,
          4,
          5,
          6,
          7,
          8,
          9,
          10,
          11,
          12,
          13,
          14,
          15,
          16,
          17,
          18,
          19,
          20,
          21,
          22,
          23,
          24,
          25,
          26,
          27,
          28,
          29,
          30,
          31,
          32,
          33,
          34,
          35,
          36,
          37,
          38,
          39,
          40,
          41,
          42,
          43,
          44,
          45,
          46,
          47,
          48,
          49,
          50,
          51,
          52,
          53,
          54,
          55,
          56,
          57,
          58,
          59,
          60,
          61,
          62,
          63,
          64,
          65,
          66,
          67,
          68,
          69,
          70,
          71,
          72,
          73,
          74,
          75,
          76,
          77,
          78,
          79,
          80,
          81,
          82,
          83,
          84,
          85,
          86,
          87,
          88,
          89,
          90,
          91,
          92,
          93,
          94,
          95,
          96,
          97,
          98,
          99
         ],
         "y": [
          -0.6564744824764208,
          -0.44246018622678035,
          -1.4210529165487331,
          2.138912840106512,
          0.25578258692089706,
          0.39805143783044833,
          -0.12701603877964637,
          -0.7336425614675899,
          0.17166378867506915,
          0.2710840189785207,
          0.8534092997086261,
          -0.28423806801324436,
          0.680442831707899,
          1.0056126864042327,
          0.22345415383044398,
          1.3471504835508696,
          0.4868772969639054,
          -0.8560743163392702,
          0.2437582614308069,
          0.13615747280918256,
          1.7766279162229373,
          -0.047392212385020574,
          -1.478739271543873,
          0.6674437983342687,
          -1.0518729658163994,
          1.1450743950503413,
          0.45312446388413863,
          -2.247532593483744,
          -0.9380816730886774,
          0.5747550876841555,
          0.7445251795288704,
          -1.1397301094244776,
          -0.7330965447959531,
          0.0011163348157742902,
          -0.4384112915386252,
          -0.5103765163837336,
          0.2572701355520642,
          -0.2672705429298812,
          -0.3152386136033564,
          0.1641860318298152,
          -0.6148004002051985,
          0.07205002157098324,
          -2.3569799035568906,
          1.0536881549659127,
          0.026917841374375365,
          -1.5516053705251112,
          -0.37391562462327005,
          0.16636832151140332,
          2.1868099430258554,
          -0.41916960443056883,
          0.10496423203936313,
          0.6279926573009582,
          -0.6471640572249683,
          0.30945396871171144,
          -0.4692873864786442,
          -1.090176869362269,
          -0.4143546663277241,
          -0.9027350183105727,
          0.469359002390997,
          -1.4219684339163654,
          0.820847128917743,
          0.05483278813128337,
          1.2392518808560637,
          1.545366633263906,
          0.41934477765089295,
          0.8240554271196706,
          0.8649157101002072,
          -2.1965301978204814,
          0.3476863183989522,
          -0.12640063221688605,
          -1.1095799572682512,
          -0.7608133813357494,
          -2.2044745973693805,
          -2.0304273169011986,
          1.2711060359943978,
          0.13692317269969045,
          -0.0583827092739993,
          2.4115580112408193,
          -2.0777630091319015,
          0.9344928525053398,
          0.3953105866307476,
          -1.0128314490635355,
          1.3925168200064224,
          -0.2746806087720305,
          -0.15873804270543176,
          -1.2063378835963559,
          1.4659391526336598,
          0.7259062288360807,
          -0.018616086991251776,
          -1.0972073757865193,
          -1.0458427688984127,
          0.6742520113874113,
          -0.9688805187614103,
          -2.606590225991158,
          0.2665069685897831,
          0.08035808638610199,
          -1.019013237251515,
          -0.4491197717632893,
          0.9587565600232877,
          -1.2542926097550613
         ]
        },
        {
         "marker": {
          "color": "rgba(55, 128, 191, 0.6)",
          "line": {
           "color": "rgba(55, 128, 191, 1.0)",
           "width": 1
          }
         },
         "name": "B",
         "orientation": "v",
         "text": "",
         "type": "bar",
         "x": [
          0,
          1,
          2,
          3,
          4,
          5,
          6,
          7,
          8,
          9,
          10,
          11,
          12,
          13,
          14,
          15,
          16,
          17,
          18,
          19,
          20,
          21,
          22,
          23,
          24,
          25,
          26,
          27,
          28,
          29,
          30,
          31,
          32,
          33,
          34,
          35,
          36,
          37,
          38,
          39,
          40,
          41,
          42,
          43,
          44,
          45,
          46,
          47,
          48,
          49,
          50,
          51,
          52,
          53,
          54,
          55,
          56,
          57,
          58,
          59,
          60,
          61,
          62,
          63,
          64,
          65,
          66,
          67,
          68,
          69,
          70,
          71,
          72,
          73,
          74,
          75,
          76,
          77,
          78,
          79,
          80,
          81,
          82,
          83,
          84,
          85,
          86,
          87,
          88,
          89,
          90,
          91,
          92,
          93,
          94,
          95,
          96,
          97,
          98,
          99
         ],
         "y": [
          0.7580307738992594,
          -0.8625173585817463,
          -1.6366635579880784,
          -0.026788812721112613,
          0.23161175849466448,
          1.2199293002623273,
          -0.7827188654461145,
          -0.7798390650913686,
          -0.12947907683514331,
          1.0712209025603268,
          -1.6383769059706026,
          0.25328144466334795,
          1.742638202990484,
          -0.056327495806758165,
          0.9437057933647285,
          2.8831757257521318,
          -0.4852972323833704,
          -0.4567365046026048,
          1.751431838705155,
          -2.406015038199109,
          0.7666963809140104,
          0.5834452650619113,
          -0.8810627750669326,
          -0.036135506573511146,
          0.31705001021648394,
          -0.7061871317069055,
          -0.3159150502367156,
          0.08679183834852548,
          -0.8773079487843657,
          0.34059428566701344,
          1.0117894523788795,
          -1.4223713004706713,
          0.3673575618258237,
          0.7994209827176314,
          -1.1402490848522213,
          -0.3098259650285641,
          0.44816075628217805,
          0.49225862230469863,
          -0.3198429663090066,
          0.7535928972424636,
          0.4062231366911554,
          -1.08852071659089,
          1.1932699862276017,
          -0.046812403925451065,
          -0.6242289885758998,
          0.47350489169255794,
          1.3140622219608786,
          0.7095495168694461,
          0.9399012385745007,
          -0.5384307148443165,
          -0.40173779338780424,
          0.8825797641438177,
          0.6310546479945338,
          -1.4908672034369301,
          1.105551235508307,
          -1.0855229769921029,
          1.8267336788316682,
          -1.4570122535225705,
          1.0784279389579425,
          -0.23609493119741587,
          -1.4518345771106087,
          -0.936347192855875,
          -0.516520118557937,
          1.9069306637372558,
          1.662383470919966,
          0.9539323596162675,
          -1.4309045262582105,
          0.13734272360761482,
          0.9725589422670315,
          0.19749937583635072,
          0.74497483397035,
          0.13798664679425274,
          -0.15382944980659588,
          0.42496202557755824,
          0.9446417743242981,
          1.4187557504647668,
          0.6373039613528989,
          1.0420549704138093,
          0.7428217879179443,
          -0.5985146435300484,
          1.3981806462267188,
          -0.6561336730020627,
          -0.4070023977511638,
          -0.452667589405772,
          -0.20514059006008803,
          0.011753641259448565,
          0.18499711275591785,
          0.44806318398005307,
          -0.7264420958566794,
          0.2040679431299117,
          -1.001927548621951,
          -1.2416331719420421,
          -1.6536030828556114,
          0.04634236549350992,
          -0.4952910163578565,
          0.22935390509840975,
          -0.9281710976792457,
          0.5036946030081555,
          -0.43453838988986104,
          -0.9682049615136412
         ]
        },
        {
         "marker": {
          "color": "rgba(50, 171, 96, 0.6)",
          "line": {
           "color": "rgba(50, 171, 96, 1.0)",
           "width": 1
          }
         },
         "name": "C",
         "orientation": "v",
         "text": "",
         "type": "bar",
         "x": [
          0,
          1,
          2,
          3,
          4,
          5,
          6,
          7,
          8,
          9,
          10,
          11,
          12,
          13,
          14,
          15,
          16,
          17,
          18,
          19,
          20,
          21,
          22,
          23,
          24,
          25,
          26,
          27,
          28,
          29,
          30,
          31,
          32,
          33,
          34,
          35,
          36,
          37,
          38,
          39,
          40,
          41,
          42,
          43,
          44,
          45,
          46,
          47,
          48,
          49,
          50,
          51,
          52,
          53,
          54,
          55,
          56,
          57,
          58,
          59,
          60,
          61,
          62,
          63,
          64,
          65,
          66,
          67,
          68,
          69,
          70,
          71,
          72,
          73,
          74,
          75,
          76,
          77,
          78,
          79,
          80,
          81,
          82,
          83,
          84,
          85,
          86,
          87,
          88,
          89,
          90,
          91,
          92,
          93,
          94,
          95,
          96,
          97,
          98,
          99
         ],
         "y": [
          -0.42328414092118744,
          1.0353472703466378,
          -0.0294408149925103,
          -1.3080779107417164,
          0.25711409791473455,
          0.44151315445685657,
          -0.3195050000927743,
          -0.0782500400354517,
          0.3676051961488906,
          -0.2978329257209743,
          -0.2766171637298272,
          -0.24694369601875368,
          -0.10309387266580315,
          0.7002446278340115,
          0.6308102905466025,
          2.0903240423469898,
          -0.2317200157760494,
          -0.5234257695437491,
          1.8548080260680004,
          0.4462577324476635,
          0.16869572021215656,
          -0.2016134910168743,
          1.136302564871149,
          0.09046804222624254,
          0.09604573434310844,
          0.7101795501867115,
          -2.2211369990891976,
          0.9989208680144112,
          -1.9128529841297661,
          -0.23169876192442396,
          1.5039552670839198,
          0.07453974564807933,
          1.6458237555562663,
          -1.1306690961320491,
          1.8809855537953806,
          1.132954840145376,
          1.896604275133463,
          0.5134515307830606,
          0.24846752386668378,
          -1.2813358260908256,
          -1.010521716642204,
          -2.3311459813542825,
          -0.6680178594950927,
          -0.816257723324524,
          -0.31215073260909865,
          0.2896328233261768,
          -0.2942037452702574,
          -1.024219271919298,
          -1.401699272632873,
          -0.5209246285045438,
          0.7320320730304343,
          0.5283941356938554,
          -1.1817292342895411,
          -1.3859581339557363,
          0.8237850642318686,
          0.9257312630709252,
          -1.599339160178483,
          -2.161194784895461,
          0.6964050088817003,
          1.5000282089604031,
          0.08725442825022327,
          0.20878016257964457,
          0.05873282026572182,
          0.6161988103482395,
          1.834148373840194,
          -1.2540834843384059,
          0.6871027942149779,
          0.026056859698059952,
          -0.4923515756312518,
          -0.5927746585197166,
          1.3610770586776446,
          0.47391091683380754,
          -1.043306889443504,
          -0.9509116911101757,
          -1.259416192419341,
          0.9921273537989724,
          0.987622646571816,
          -1.3342156202755444,
          0.619427880375424,
          -1.6728984990220959,
          -0.2707463551132399,
          -1.2529502080559582,
          -0.7971115155360949,
          1.5541975949074123,
          -1.1773786977491547,
          0.5423811266351756,
          0.24605744005141958,
          0.6004666442151226,
          0.07809251506709225,
          0.2266454844784491,
          1.6991242708513101,
          0.06415258070870512,
          -1.0142989668442808,
          -0.2768891447723133,
          0.2815421718642755,
          -0.8970518215859872,
          -1.408365328601296,
          -0.7172290558737238,
          -0.9120682724390551,
          -0.3758549478690623
         ]
        },
        {
         "marker": {
          "color": "rgba(128, 0, 128, 0.6)",
          "line": {
           "color": "rgba(128, 0, 128, 1.0)",
           "width": 1
          }
         },
         "name": "D",
         "orientation": "v",
         "text": "",
         "type": "bar",
         "x": [
          0,
          1,
          2,
          3,
          4,
          5,
          6,
          7,
          8,
          9,
          10,
          11,
          12,
          13,
          14,
          15,
          16,
          17,
          18,
          19,
          20,
          21,
          22,
          23,
          24,
          25,
          26,
          27,
          28,
          29,
          30,
          31,
          32,
          33,
          34,
          35,
          36,
          37,
          38,
          39,
          40,
          41,
          42,
          43,
          44,
          45,
          46,
          47,
          48,
          49,
          50,
          51,
          52,
          53,
          54,
          55,
          56,
          57,
          58,
          59,
          60,
          61,
          62,
          63,
          64,
          65,
          66,
          67,
          68,
          69,
          70,
          71,
          72,
          73,
          74,
          75,
          76,
          77,
          78,
          79,
          80,
          81,
          82,
          83,
          84,
          85,
          86,
          87,
          88,
          89,
          90,
          91,
          92,
          93,
          94,
          95,
          96,
          97,
          98,
          99
         ],
         "y": [
          -0.10716739297592093,
          0.9479447284269172,
          1.370449958759234,
          -0.3486615965666615,
          1.7595465505714352,
          1.2108974389734368,
          -0.2558252394530886,
          -0.3260742183018137,
          -1.0322519522885203,
          0.16297492715093576,
          -1.4054321746177054,
          -0.00698178770017601,
          2.061329468159568,
          0.9141131146417977,
          0.8540937334668862,
          -0.2863489155732238,
          -0.5347005786338509,
          0.890134217321711,
          -0.950323074305132,
          -0.13587532077936681,
          -0.12484544447554184,
          -0.9370911689176806,
          1.3146357722090332,
          -0.979263981063374,
          1.6873436206550463,
          0.025813178944782612,
          0.504914906087867,
          -0.6052362964597082,
          -1.066220133411954,
          1.1234871186905926,
          0.846274540328193,
          -1.0831796372168665,
          1.06996558045424,
          -0.5118601253884535,
          0.10609320920173515,
          0.535557285109827,
          -0.3984491458827878,
          0.05999073369188505,
          -0.0074878011174125784,
          0.4670072811114906,
          0.3457846756450776,
          -0.06540687218194201,
          0.3344504087283477,
          -0.36236153907488633,
          0.12095079414114726,
          -0.2864767074860481,
          -0.9504952195194385,
          -0.08660523507889167,
          -0.10925485119560914,
          -0.8138806328071769,
          -1.1545992931889217,
          0.9980930558710237,
          0.9183716149515965,
          0.6686252676065014,
          0.11654882546394174,
          0.7979385777603432,
          0.08313121585625391,
          -0.06228743418704124,
          1.6011316341757469,
          -0.3155469149620852,
          0.33716677390464384,
          0.7654842236614688,
          0.609143054712147,
          0.2542674371087768,
          0.38922056390307846,
          -1.3521129363192337,
          -0.4146807398899897,
          -0.6601327716673171,
          0.05342590961294951,
          0.03553851069847322,
          -0.05992784857539338,
          -1.046987014575927,
          0.619076819809439,
          -0.043419863957865255,
          -0.8376319917789405,
          -0.7475893747085525,
          -1.1474612757784273,
          -0.4437291270075998,
          0.7188952225519313,
          1.2749955498757781,
          0.6180104532009417,
          1.1040970559403493,
          -0.6904557848469052,
          0.9700683280446663,
          -2.615923999858738,
          0.20587985862580907,
          -1.2747922174592787,
          0.04425500071520386,
          -0.6111696155178268,
          -1.8934406758301399,
          0.3125770370371499,
          1.993201331082072,
          0.47292052826578557,
          1.758906521973015,
          1.2655394276257803,
          0.9414468603637745,
          0.7297611658319217,
          -0.29012638219263476,
          -0.581399645596098,
          0.7532369215612564
         ]
        }
       ],
       "layout": {
        "legend": {
         "bgcolor": "#F5F6F9",
         "font": {
          "color": "#4D5663"
         }
        },
        "paper_bgcolor": "#F5F6F9",
        "plot_bgcolor": "#F5F6F9",
        "template": {
         "data": {
          "bar": [
           {
            "error_x": {
             "color": "#2a3f5f"
            },
            "error_y": {
             "color": "#2a3f5f"
            },
            "marker": {
             "line": {
              "color": "#E5ECF6",
              "width": 0.5
             },
             "pattern": {
              "fillmode": "overlay",
              "size": 10,
              "solidity": 0.2
             }
            },
            "type": "bar"
           }
          ],
          "barpolar": [
           {
            "marker": {
             "line": {
              "color": "#E5ECF6",
              "width": 0.5
             },
             "pattern": {
              "fillmode": "overlay",
              "size": 10,
              "solidity": 0.2
             }
            },
            "type": "barpolar"
           }
          ],
          "carpet": [
           {
            "aaxis": {
             "endlinecolor": "#2a3f5f",
             "gridcolor": "white",
             "linecolor": "white",
             "minorgridcolor": "white",
             "startlinecolor": "#2a3f5f"
            },
            "baxis": {
             "endlinecolor": "#2a3f5f",
             "gridcolor": "white",
             "linecolor": "white",
             "minorgridcolor": "white",
             "startlinecolor": "#2a3f5f"
            },
            "type": "carpet"
           }
          ],
          "choropleth": [
           {
            "colorbar": {
             "outlinewidth": 0,
             "ticks": ""
            },
            "type": "choropleth"
           }
          ],
          "contour": [
           {
            "colorbar": {
             "outlinewidth": 0,
             "ticks": ""
            },
            "colorscale": [
             [
              0,
              "#0d0887"
             ],
             [
              0.1111111111111111,
              "#46039f"
             ],
             [
              0.2222222222222222,
              "#7201a8"
             ],
             [
              0.3333333333333333,
              "#9c179e"
             ],
             [
              0.4444444444444444,
              "#bd3786"
             ],
             [
              0.5555555555555556,
              "#d8576b"
             ],
             [
              0.6666666666666666,
              "#ed7953"
             ],
             [
              0.7777777777777778,
              "#fb9f3a"
             ],
             [
              0.8888888888888888,
              "#fdca26"
             ],
             [
              1,
              "#f0f921"
             ]
            ],
            "type": "contour"
           }
          ],
          "contourcarpet": [
           {
            "colorbar": {
             "outlinewidth": 0,
             "ticks": ""
            },
            "type": "contourcarpet"
           }
          ],
          "heatmap": [
           {
            "colorbar": {
             "outlinewidth": 0,
             "ticks": ""
            },
            "colorscale": [
             [
              0,
              "#0d0887"
             ],
             [
              0.1111111111111111,
              "#46039f"
             ],
             [
              0.2222222222222222,
              "#7201a8"
             ],
             [
              0.3333333333333333,
              "#9c179e"
             ],
             [
              0.4444444444444444,
              "#bd3786"
             ],
             [
              0.5555555555555556,
              "#d8576b"
             ],
             [
              0.6666666666666666,
              "#ed7953"
             ],
             [
              0.7777777777777778,
              "#fb9f3a"
             ],
             [
              0.8888888888888888,
              "#fdca26"
             ],
             [
              1,
              "#f0f921"
             ]
            ],
            "type": "heatmap"
           }
          ],
          "heatmapgl": [
           {
            "colorbar": {
             "outlinewidth": 0,
             "ticks": ""
            },
            "colorscale": [
             [
              0,
              "#0d0887"
             ],
             [
              0.1111111111111111,
              "#46039f"
             ],
             [
              0.2222222222222222,
              "#7201a8"
             ],
             [
              0.3333333333333333,
              "#9c179e"
             ],
             [
              0.4444444444444444,
              "#bd3786"
             ],
             [
              0.5555555555555556,
              "#d8576b"
             ],
             [
              0.6666666666666666,
              "#ed7953"
             ],
             [
              0.7777777777777778,
              "#fb9f3a"
             ],
             [
              0.8888888888888888,
              "#fdca26"
             ],
             [
              1,
              "#f0f921"
             ]
            ],
            "type": "heatmapgl"
           }
          ],
          "histogram": [
           {
            "marker": {
             "pattern": {
              "fillmode": "overlay",
              "size": 10,
              "solidity": 0.2
             }
            },
            "type": "histogram"
           }
          ],
          "histogram2d": [
           {
            "colorbar": {
             "outlinewidth": 0,
             "ticks": ""
            },
            "colorscale": [
             [
              0,
              "#0d0887"
             ],
             [
              0.1111111111111111,
              "#46039f"
             ],
             [
              0.2222222222222222,
              "#7201a8"
             ],
             [
              0.3333333333333333,
              "#9c179e"
             ],
             [
              0.4444444444444444,
              "#bd3786"
             ],
             [
              0.5555555555555556,
              "#d8576b"
             ],
             [
              0.6666666666666666,
              "#ed7953"
             ],
             [
              0.7777777777777778,
              "#fb9f3a"
             ],
             [
              0.8888888888888888,
              "#fdca26"
             ],
             [
              1,
              "#f0f921"
             ]
            ],
            "type": "histogram2d"
           }
          ],
          "histogram2dcontour": [
           {
            "colorbar": {
             "outlinewidth": 0,
             "ticks": ""
            },
            "colorscale": [
             [
              0,
              "#0d0887"
             ],
             [
              0.1111111111111111,
              "#46039f"
             ],
             [
              0.2222222222222222,
              "#7201a8"
             ],
             [
              0.3333333333333333,
              "#9c179e"
             ],
             [
              0.4444444444444444,
              "#bd3786"
             ],
             [
              0.5555555555555556,
              "#d8576b"
             ],
             [
              0.6666666666666666,
              "#ed7953"
             ],
             [
              0.7777777777777778,
              "#fb9f3a"
             ],
             [
              0.8888888888888888,
              "#fdca26"
             ],
             [
              1,
              "#f0f921"
             ]
            ],
            "type": "histogram2dcontour"
           }
          ],
          "mesh3d": [
           {
            "colorbar": {
             "outlinewidth": 0,
             "ticks": ""
            },
            "type": "mesh3d"
           }
          ],
          "parcoords": [
           {
            "line": {
             "colorbar": {
              "outlinewidth": 0,
              "ticks": ""
             }
            },
            "type": "parcoords"
           }
          ],
          "pie": [
           {
            "automargin": true,
            "type": "pie"
           }
          ],
          "scatter": [
           {
            "marker": {
             "colorbar": {
              "outlinewidth": 0,
              "ticks": ""
             }
            },
            "type": "scatter"
           }
          ],
          "scatter3d": [
           {
            "line": {
             "colorbar": {
              "outlinewidth": 0,
              "ticks": ""
             }
            },
            "marker": {
             "colorbar": {
              "outlinewidth": 0,
              "ticks": ""
             }
            },
            "type": "scatter3d"
           }
          ],
          "scattercarpet": [
           {
            "marker": {
             "colorbar": {
              "outlinewidth": 0,
              "ticks": ""
             }
            },
            "type": "scattercarpet"
           }
          ],
          "scattergeo": [
           {
            "marker": {
             "colorbar": {
              "outlinewidth": 0,
              "ticks": ""
             }
            },
            "type": "scattergeo"
           }
          ],
          "scattergl": [
           {
            "marker": {
             "colorbar": {
              "outlinewidth": 0,
              "ticks": ""
             }
            },
            "type": "scattergl"
           }
          ],
          "scattermapbox": [
           {
            "marker": {
             "colorbar": {
              "outlinewidth": 0,
              "ticks": ""
             }
            },
            "type": "scattermapbox"
           }
          ],
          "scatterpolar": [
           {
            "marker": {
             "colorbar": {
              "outlinewidth": 0,
              "ticks": ""
             }
            },
            "type": "scatterpolar"
           }
          ],
          "scatterpolargl": [
           {
            "marker": {
             "colorbar": {
              "outlinewidth": 0,
              "ticks": ""
             }
            },
            "type": "scatterpolargl"
           }
          ],
          "scatterternary": [
           {
            "marker": {
             "colorbar": {
              "outlinewidth": 0,
              "ticks": ""
             }
            },
            "type": "scatterternary"
           }
          ],
          "surface": [
           {
            "colorbar": {
             "outlinewidth": 0,
             "ticks": ""
            },
            "colorscale": [
             [
              0,
              "#0d0887"
             ],
             [
              0.1111111111111111,
              "#46039f"
             ],
             [
              0.2222222222222222,
              "#7201a8"
             ],
             [
              0.3333333333333333,
              "#9c179e"
             ],
             [
              0.4444444444444444,
              "#bd3786"
             ],
             [
              0.5555555555555556,
              "#d8576b"
             ],
             [
              0.6666666666666666,
              "#ed7953"
             ],
             [
              0.7777777777777778,
              "#fb9f3a"
             ],
             [
              0.8888888888888888,
              "#fdca26"
             ],
             [
              1,
              "#f0f921"
             ]
            ],
            "type": "surface"
           }
          ],
          "table": [
           {
            "cells": {
             "fill": {
              "color": "#EBF0F8"
             },
             "line": {
              "color": "white"
             }
            },
            "header": {
             "fill": {
              "color": "#C8D4E3"
             },
             "line": {
              "color": "white"
             }
            },
            "type": "table"
           }
          ]
         },
         "layout": {
          "annotationdefaults": {
           "arrowcolor": "#2a3f5f",
           "arrowhead": 0,
           "arrowwidth": 1
          },
          "autotypenumbers": "strict",
          "coloraxis": {
           "colorbar": {
            "outlinewidth": 0,
            "ticks": ""
           }
          },
          "colorscale": {
           "diverging": [
            [
             0,
             "#8e0152"
            ],
            [
             0.1,
             "#c51b7d"
            ],
            [
             0.2,
             "#de77ae"
            ],
            [
             0.3,
             "#f1b6da"
            ],
            [
             0.4,
             "#fde0ef"
            ],
            [
             0.5,
             "#f7f7f7"
            ],
            [
             0.6,
             "#e6f5d0"
            ],
            [
             0.7,
             "#b8e186"
            ],
            [
             0.8,
             "#7fbc41"
            ],
            [
             0.9,
             "#4d9221"
            ],
            [
             1,
             "#276419"
            ]
           ],
           "sequential": [
            [
             0,
             "#0d0887"
            ],
            [
             0.1111111111111111,
             "#46039f"
            ],
            [
             0.2222222222222222,
             "#7201a8"
            ],
            [
             0.3333333333333333,
             "#9c179e"
            ],
            [
             0.4444444444444444,
             "#bd3786"
            ],
            [
             0.5555555555555556,
             "#d8576b"
            ],
            [
             0.6666666666666666,
             "#ed7953"
            ],
            [
             0.7777777777777778,
             "#fb9f3a"
            ],
            [
             0.8888888888888888,
             "#fdca26"
            ],
            [
             1,
             "#f0f921"
            ]
           ],
           "sequentialminus": [
            [
             0,
             "#0d0887"
            ],
            [
             0.1111111111111111,
             "#46039f"
            ],
            [
             0.2222222222222222,
             "#7201a8"
            ],
            [
             0.3333333333333333,
             "#9c179e"
            ],
            [
             0.4444444444444444,
             "#bd3786"
            ],
            [
             0.5555555555555556,
             "#d8576b"
            ],
            [
             0.6666666666666666,
             "#ed7953"
            ],
            [
             0.7777777777777778,
             "#fb9f3a"
            ],
            [
             0.8888888888888888,
             "#fdca26"
            ],
            [
             1,
             "#f0f921"
            ]
           ]
          },
          "colorway": [
           "#636efa",
           "#EF553B",
           "#00cc96",
           "#ab63fa",
           "#FFA15A",
           "#19d3f3",
           "#FF6692",
           "#B6E880",
           "#FF97FF",
           "#FECB52"
          ],
          "font": {
           "color": "#2a3f5f"
          },
          "geo": {
           "bgcolor": "white",
           "lakecolor": "white",
           "landcolor": "#E5ECF6",
           "showlakes": true,
           "showland": true,
           "subunitcolor": "white"
          },
          "hoverlabel": {
           "align": "left"
          },
          "hovermode": "closest",
          "mapbox": {
           "style": "light"
          },
          "paper_bgcolor": "white",
          "plot_bgcolor": "#E5ECF6",
          "polar": {
           "angularaxis": {
            "gridcolor": "white",
            "linecolor": "white",
            "ticks": ""
           },
           "bgcolor": "#E5ECF6",
           "radialaxis": {
            "gridcolor": "white",
            "linecolor": "white",
            "ticks": ""
           }
          },
          "scene": {
           "xaxis": {
            "backgroundcolor": "#E5ECF6",
            "gridcolor": "white",
            "gridwidth": 2,
            "linecolor": "white",
            "showbackground": true,
            "ticks": "",
            "zerolinecolor": "white"
           },
           "yaxis": {
            "backgroundcolor": "#E5ECF6",
            "gridcolor": "white",
            "gridwidth": 2,
            "linecolor": "white",
            "showbackground": true,
            "ticks": "",
            "zerolinecolor": "white"
           },
           "zaxis": {
            "backgroundcolor": "#E5ECF6",
            "gridcolor": "white",
            "gridwidth": 2,
            "linecolor": "white",
            "showbackground": true,
            "ticks": "",
            "zerolinecolor": "white"
           }
          },
          "shapedefaults": {
           "line": {
            "color": "#2a3f5f"
           }
          },
          "ternary": {
           "aaxis": {
            "gridcolor": "white",
            "linecolor": "white",
            "ticks": ""
           },
           "baxis": {
            "gridcolor": "white",
            "linecolor": "white",
            "ticks": ""
           },
           "bgcolor": "#E5ECF6",
           "caxis": {
            "gridcolor": "white",
            "linecolor": "white",
            "ticks": ""
           }
          },
          "title": {
           "x": 0.05
          },
          "xaxis": {
           "automargin": true,
           "gridcolor": "white",
           "linecolor": "white",
           "ticks": "",
           "title": {
            "standoff": 15
           },
           "zerolinecolor": "white",
           "zerolinewidth": 2
          },
          "yaxis": {
           "automargin": true,
           "gridcolor": "white",
           "linecolor": "white",
           "ticks": "",
           "title": {
            "standoff": 15
           },
           "zerolinecolor": "white",
           "zerolinewidth": 2
          }
         }
        },
        "title": {
         "font": {
          "color": "#4D5663"
         }
        },
        "xaxis": {
         "gridcolor": "#E1E5ED",
         "showgrid": true,
         "tickfont": {
          "color": "#4D5663"
         },
         "title": {
          "font": {
           "color": "#4D5663"
          },
          "text": ""
         },
         "zerolinecolor": "#E1E5ED"
        },
        "yaxis": {
         "gridcolor": "#E1E5ED",
         "showgrid": true,
         "tickfont": {
          "color": "#4D5663"
         },
         "title": {
          "font": {
           "color": "#4D5663"
          },
          "text": ""
         },
         "zerolinecolor": "#E1E5ED"
        }
       }
      },
      "text/html": [
       "<div>                            <div id=\"592ec17a-7ddf-4aa7-b6f0-dd1b6e8d5787\" class=\"plotly-graph-div\" style=\"height:525px; width:100%;\"></div>            <script type=\"text/javascript\">                require([\"plotly\"], function(Plotly) {                    window.PLOTLYENV=window.PLOTLYENV || {};\n",
       "                    window.PLOTLYENV.BASE_URL='https://plot.ly';                                    if (document.getElementById(\"592ec17a-7ddf-4aa7-b6f0-dd1b6e8d5787\")) {                    Plotly.newPlot(                        \"592ec17a-7ddf-4aa7-b6f0-dd1b6e8d5787\",                        [{\"marker\":{\"color\":\"rgba(255, 153, 51, 0.6)\",\"line\":{\"color\":\"rgba(255, 153, 51, 1.0)\",\"width\":1}},\"name\":\"A\",\"orientation\":\"v\",\"text\":\"\",\"x\":[0,1,2,3,4,5,6,7,8,9,10,11,12,13,14,15,16,17,18,19,20,21,22,23,24,25,26,27,28,29,30,31,32,33,34,35,36,37,38,39,40,41,42,43,44,45,46,47,48,49,50,51,52,53,54,55,56,57,58,59,60,61,62,63,64,65,66,67,68,69,70,71,72,73,74,75,76,77,78,79,80,81,82,83,84,85,86,87,88,89,90,91,92,93,94,95,96,97,98,99],\"y\":[-0.6564744824764208,-0.44246018622678035,-1.4210529165487331,2.138912840106512,0.25578258692089706,0.39805143783044833,-0.12701603877964637,-0.7336425614675899,0.17166378867506915,0.2710840189785207,0.8534092997086261,-0.28423806801324436,0.680442831707899,1.0056126864042327,0.22345415383044398,1.3471504835508696,0.4868772969639054,-0.8560743163392702,0.2437582614308069,0.13615747280918256,1.7766279162229373,-0.047392212385020574,-1.478739271543873,0.6674437983342687,-1.0518729658163994,1.1450743950503413,0.45312446388413863,-2.247532593483744,-0.9380816730886774,0.5747550876841555,0.7445251795288704,-1.1397301094244776,-0.7330965447959531,0.0011163348157742902,-0.4384112915386252,-0.5103765163837336,0.2572701355520642,-0.2672705429298812,-0.3152386136033564,0.1641860318298152,-0.6148004002051985,0.07205002157098324,-2.3569799035568906,1.0536881549659127,0.026917841374375365,-1.5516053705251112,-0.37391562462327005,0.16636832151140332,2.1868099430258554,-0.41916960443056883,0.10496423203936313,0.6279926573009582,-0.6471640572249683,0.30945396871171144,-0.4692873864786442,-1.090176869362269,-0.4143546663277241,-0.9027350183105727,0.469359002390997,-1.4219684339163654,0.820847128917743,0.05483278813128337,1.2392518808560637,1.545366633263906,0.41934477765089295,0.8240554271196706,0.8649157101002072,-2.1965301978204814,0.3476863183989522,-0.12640063221688605,-1.1095799572682512,-0.7608133813357494,-2.2044745973693805,-2.0304273169011986,1.2711060359943978,0.13692317269969045,-0.0583827092739993,2.4115580112408193,-2.0777630091319015,0.9344928525053398,0.3953105866307476,-1.0128314490635355,1.3925168200064224,-0.2746806087720305,-0.15873804270543176,-1.2063378835963559,1.4659391526336598,0.7259062288360807,-0.018616086991251776,-1.0972073757865193,-1.0458427688984127,0.6742520113874113,-0.9688805187614103,-2.606590225991158,0.2665069685897831,0.08035808638610199,-1.019013237251515,-0.4491197717632893,0.9587565600232877,-1.2542926097550613],\"type\":\"bar\"},{\"marker\":{\"color\":\"rgba(55, 128, 191, 0.6)\",\"line\":{\"color\":\"rgba(55, 128, 191, 1.0)\",\"width\":1}},\"name\":\"B\",\"orientation\":\"v\",\"text\":\"\",\"x\":[0,1,2,3,4,5,6,7,8,9,10,11,12,13,14,15,16,17,18,19,20,21,22,23,24,25,26,27,28,29,30,31,32,33,34,35,36,37,38,39,40,41,42,43,44,45,46,47,48,49,50,51,52,53,54,55,56,57,58,59,60,61,62,63,64,65,66,67,68,69,70,71,72,73,74,75,76,77,78,79,80,81,82,83,84,85,86,87,88,89,90,91,92,93,94,95,96,97,98,99],\"y\":[0.7580307738992594,-0.8625173585817463,-1.6366635579880784,-0.026788812721112613,0.23161175849466448,1.2199293002623273,-0.7827188654461145,-0.7798390650913686,-0.12947907683514331,1.0712209025603268,-1.6383769059706026,0.25328144466334795,1.742638202990484,-0.056327495806758165,0.9437057933647285,2.8831757257521318,-0.4852972323833704,-0.4567365046026048,1.751431838705155,-2.406015038199109,0.7666963809140104,0.5834452650619113,-0.8810627750669326,-0.036135506573511146,0.31705001021648394,-0.7061871317069055,-0.3159150502367156,0.08679183834852548,-0.8773079487843657,0.34059428566701344,1.0117894523788795,-1.4223713004706713,0.3673575618258237,0.7994209827176314,-1.1402490848522213,-0.3098259650285641,0.44816075628217805,0.49225862230469863,-0.3198429663090066,0.7535928972424636,0.4062231366911554,-1.08852071659089,1.1932699862276017,-0.046812403925451065,-0.6242289885758998,0.47350489169255794,1.3140622219608786,0.7095495168694461,0.9399012385745007,-0.5384307148443165,-0.40173779338780424,0.8825797641438177,0.6310546479945338,-1.4908672034369301,1.105551235508307,-1.0855229769921029,1.8267336788316682,-1.4570122535225705,1.0784279389579425,-0.23609493119741587,-1.4518345771106087,-0.936347192855875,-0.516520118557937,1.9069306637372558,1.662383470919966,0.9539323596162675,-1.4309045262582105,0.13734272360761482,0.9725589422670315,0.19749937583635072,0.74497483397035,0.13798664679425274,-0.15382944980659588,0.42496202557755824,0.9446417743242981,1.4187557504647668,0.6373039613528989,1.0420549704138093,0.7428217879179443,-0.5985146435300484,1.3981806462267188,-0.6561336730020627,-0.4070023977511638,-0.452667589405772,-0.20514059006008803,0.011753641259448565,0.18499711275591785,0.44806318398005307,-0.7264420958566794,0.2040679431299117,-1.001927548621951,-1.2416331719420421,-1.6536030828556114,0.04634236549350992,-0.4952910163578565,0.22935390509840975,-0.9281710976792457,0.5036946030081555,-0.43453838988986104,-0.9682049615136412],\"type\":\"bar\"},{\"marker\":{\"color\":\"rgba(50, 171, 96, 0.6)\",\"line\":{\"color\":\"rgba(50, 171, 96, 1.0)\",\"width\":1}},\"name\":\"C\",\"orientation\":\"v\",\"text\":\"\",\"x\":[0,1,2,3,4,5,6,7,8,9,10,11,12,13,14,15,16,17,18,19,20,21,22,23,24,25,26,27,28,29,30,31,32,33,34,35,36,37,38,39,40,41,42,43,44,45,46,47,48,49,50,51,52,53,54,55,56,57,58,59,60,61,62,63,64,65,66,67,68,69,70,71,72,73,74,75,76,77,78,79,80,81,82,83,84,85,86,87,88,89,90,91,92,93,94,95,96,97,98,99],\"y\":[-0.42328414092118744,1.0353472703466378,-0.0294408149925103,-1.3080779107417164,0.25711409791473455,0.44151315445685657,-0.3195050000927743,-0.0782500400354517,0.3676051961488906,-0.2978329257209743,-0.2766171637298272,-0.24694369601875368,-0.10309387266580315,0.7002446278340115,0.6308102905466025,2.0903240423469898,-0.2317200157760494,-0.5234257695437491,1.8548080260680004,0.4462577324476635,0.16869572021215656,-0.2016134910168743,1.136302564871149,0.09046804222624254,0.09604573434310844,0.7101795501867115,-2.2211369990891976,0.9989208680144112,-1.9128529841297661,-0.23169876192442396,1.5039552670839198,0.07453974564807933,1.6458237555562663,-1.1306690961320491,1.8809855537953806,1.132954840145376,1.896604275133463,0.5134515307830606,0.24846752386668378,-1.2813358260908256,-1.010521716642204,-2.3311459813542825,-0.6680178594950927,-0.816257723324524,-0.31215073260909865,0.2896328233261768,-0.2942037452702574,-1.024219271919298,-1.401699272632873,-0.5209246285045438,0.7320320730304343,0.5283941356938554,-1.1817292342895411,-1.3859581339557363,0.8237850642318686,0.9257312630709252,-1.599339160178483,-2.161194784895461,0.6964050088817003,1.5000282089604031,0.08725442825022327,0.20878016257964457,0.05873282026572182,0.6161988103482395,1.834148373840194,-1.2540834843384059,0.6871027942149779,0.026056859698059952,-0.4923515756312518,-0.5927746585197166,1.3610770586776446,0.47391091683380754,-1.043306889443504,-0.9509116911101757,-1.259416192419341,0.9921273537989724,0.987622646571816,-1.3342156202755444,0.619427880375424,-1.6728984990220959,-0.2707463551132399,-1.2529502080559582,-0.7971115155360949,1.5541975949074123,-1.1773786977491547,0.5423811266351756,0.24605744005141958,0.6004666442151226,0.07809251506709225,0.2266454844784491,1.6991242708513101,0.06415258070870512,-1.0142989668442808,-0.2768891447723133,0.2815421718642755,-0.8970518215859872,-1.408365328601296,-0.7172290558737238,-0.9120682724390551,-0.3758549478690623],\"type\":\"bar\"},{\"marker\":{\"color\":\"rgba(128, 0, 128, 0.6)\",\"line\":{\"color\":\"rgba(128, 0, 128, 1.0)\",\"width\":1}},\"name\":\"D\",\"orientation\":\"v\",\"text\":\"\",\"x\":[0,1,2,3,4,5,6,7,8,9,10,11,12,13,14,15,16,17,18,19,20,21,22,23,24,25,26,27,28,29,30,31,32,33,34,35,36,37,38,39,40,41,42,43,44,45,46,47,48,49,50,51,52,53,54,55,56,57,58,59,60,61,62,63,64,65,66,67,68,69,70,71,72,73,74,75,76,77,78,79,80,81,82,83,84,85,86,87,88,89,90,91,92,93,94,95,96,97,98,99],\"y\":[-0.10716739297592093,0.9479447284269172,1.370449958759234,-0.3486615965666615,1.7595465505714352,1.2108974389734368,-0.2558252394530886,-0.3260742183018137,-1.0322519522885203,0.16297492715093576,-1.4054321746177054,-0.00698178770017601,2.061329468159568,0.9141131146417977,0.8540937334668862,-0.2863489155732238,-0.5347005786338509,0.890134217321711,-0.950323074305132,-0.13587532077936681,-0.12484544447554184,-0.9370911689176806,1.3146357722090332,-0.979263981063374,1.6873436206550463,0.025813178944782612,0.504914906087867,-0.6052362964597082,-1.066220133411954,1.1234871186905926,0.846274540328193,-1.0831796372168665,1.06996558045424,-0.5118601253884535,0.10609320920173515,0.535557285109827,-0.3984491458827878,0.05999073369188505,-0.0074878011174125784,0.4670072811114906,0.3457846756450776,-0.06540687218194201,0.3344504087283477,-0.36236153907488633,0.12095079414114726,-0.2864767074860481,-0.9504952195194385,-0.08660523507889167,-0.10925485119560914,-0.8138806328071769,-1.1545992931889217,0.9980930558710237,0.9183716149515965,0.6686252676065014,0.11654882546394174,0.7979385777603432,0.08313121585625391,-0.06228743418704124,1.6011316341757469,-0.3155469149620852,0.33716677390464384,0.7654842236614688,0.609143054712147,0.2542674371087768,0.38922056390307846,-1.3521129363192337,-0.4146807398899897,-0.6601327716673171,0.05342590961294951,0.03553851069847322,-0.05992784857539338,-1.046987014575927,0.619076819809439,-0.043419863957865255,-0.8376319917789405,-0.7475893747085525,-1.1474612757784273,-0.4437291270075998,0.7188952225519313,1.2749955498757781,0.6180104532009417,1.1040970559403493,-0.6904557848469052,0.9700683280446663,-2.615923999858738,0.20587985862580907,-1.2747922174592787,0.04425500071520386,-0.6111696155178268,-1.8934406758301399,0.3125770370371499,1.993201331082072,0.47292052826578557,1.758906521973015,1.2655394276257803,0.9414468603637745,0.7297611658319217,-0.29012638219263476,-0.581399645596098,0.7532369215612564],\"type\":\"bar\"}],                        {\"legend\":{\"bgcolor\":\"#F5F6F9\",\"font\":{\"color\":\"#4D5663\"}},\"paper_bgcolor\":\"#F5F6F9\",\"plot_bgcolor\":\"#F5F6F9\",\"template\":{\"data\":{\"barpolar\":[{\"marker\":{\"line\":{\"color\":\"#E5ECF6\",\"width\":0.5},\"pattern\":{\"fillmode\":\"overlay\",\"size\":10,\"solidity\":0.2}},\"type\":\"barpolar\"}],\"bar\":[{\"error_x\":{\"color\":\"#2a3f5f\"},\"error_y\":{\"color\":\"#2a3f5f\"},\"marker\":{\"line\":{\"color\":\"#E5ECF6\",\"width\":0.5},\"pattern\":{\"fillmode\":\"overlay\",\"size\":10,\"solidity\":0.2}},\"type\":\"bar\"}],\"carpet\":[{\"aaxis\":{\"endlinecolor\":\"#2a3f5f\",\"gridcolor\":\"white\",\"linecolor\":\"white\",\"minorgridcolor\":\"white\",\"startlinecolor\":\"#2a3f5f\"},\"baxis\":{\"endlinecolor\":\"#2a3f5f\",\"gridcolor\":\"white\",\"linecolor\":\"white\",\"minorgridcolor\":\"white\",\"startlinecolor\":\"#2a3f5f\"},\"type\":\"carpet\"}],\"choropleth\":[{\"colorbar\":{\"outlinewidth\":0,\"ticks\":\"\"},\"type\":\"choropleth\"}],\"contourcarpet\":[{\"colorbar\":{\"outlinewidth\":0,\"ticks\":\"\"},\"type\":\"contourcarpet\"}],\"contour\":[{\"colorbar\":{\"outlinewidth\":0,\"ticks\":\"\"},\"colorscale\":[[0.0,\"#0d0887\"],[0.1111111111111111,\"#46039f\"],[0.2222222222222222,\"#7201a8\"],[0.3333333333333333,\"#9c179e\"],[0.4444444444444444,\"#bd3786\"],[0.5555555555555556,\"#d8576b\"],[0.6666666666666666,\"#ed7953\"],[0.7777777777777778,\"#fb9f3a\"],[0.8888888888888888,\"#fdca26\"],[1.0,\"#f0f921\"]],\"type\":\"contour\"}],\"heatmapgl\":[{\"colorbar\":{\"outlinewidth\":0,\"ticks\":\"\"},\"colorscale\":[[0.0,\"#0d0887\"],[0.1111111111111111,\"#46039f\"],[0.2222222222222222,\"#7201a8\"],[0.3333333333333333,\"#9c179e\"],[0.4444444444444444,\"#bd3786\"],[0.5555555555555556,\"#d8576b\"],[0.6666666666666666,\"#ed7953\"],[0.7777777777777778,\"#fb9f3a\"],[0.8888888888888888,\"#fdca26\"],[1.0,\"#f0f921\"]],\"type\":\"heatmapgl\"}],\"heatmap\":[{\"colorbar\":{\"outlinewidth\":0,\"ticks\":\"\"},\"colorscale\":[[0.0,\"#0d0887\"],[0.1111111111111111,\"#46039f\"],[0.2222222222222222,\"#7201a8\"],[0.3333333333333333,\"#9c179e\"],[0.4444444444444444,\"#bd3786\"],[0.5555555555555556,\"#d8576b\"],[0.6666666666666666,\"#ed7953\"],[0.7777777777777778,\"#fb9f3a\"],[0.8888888888888888,\"#fdca26\"],[1.0,\"#f0f921\"]],\"type\":\"heatmap\"}],\"histogram2dcontour\":[{\"colorbar\":{\"outlinewidth\":0,\"ticks\":\"\"},\"colorscale\":[[0.0,\"#0d0887\"],[0.1111111111111111,\"#46039f\"],[0.2222222222222222,\"#7201a8\"],[0.3333333333333333,\"#9c179e\"],[0.4444444444444444,\"#bd3786\"],[0.5555555555555556,\"#d8576b\"],[0.6666666666666666,\"#ed7953\"],[0.7777777777777778,\"#fb9f3a\"],[0.8888888888888888,\"#fdca26\"],[1.0,\"#f0f921\"]],\"type\":\"histogram2dcontour\"}],\"histogram2d\":[{\"colorbar\":{\"outlinewidth\":0,\"ticks\":\"\"},\"colorscale\":[[0.0,\"#0d0887\"],[0.1111111111111111,\"#46039f\"],[0.2222222222222222,\"#7201a8\"],[0.3333333333333333,\"#9c179e\"],[0.4444444444444444,\"#bd3786\"],[0.5555555555555556,\"#d8576b\"],[0.6666666666666666,\"#ed7953\"],[0.7777777777777778,\"#fb9f3a\"],[0.8888888888888888,\"#fdca26\"],[1.0,\"#f0f921\"]],\"type\":\"histogram2d\"}],\"histogram\":[{\"marker\":{\"pattern\":{\"fillmode\":\"overlay\",\"size\":10,\"solidity\":0.2}},\"type\":\"histogram\"}],\"mesh3d\":[{\"colorbar\":{\"outlinewidth\":0,\"ticks\":\"\"},\"type\":\"mesh3d\"}],\"parcoords\":[{\"line\":{\"colorbar\":{\"outlinewidth\":0,\"ticks\":\"\"}},\"type\":\"parcoords\"}],\"pie\":[{\"automargin\":true,\"type\":\"pie\"}],\"scatter3d\":[{\"line\":{\"colorbar\":{\"outlinewidth\":0,\"ticks\":\"\"}},\"marker\":{\"colorbar\":{\"outlinewidth\":0,\"ticks\":\"\"}},\"type\":\"scatter3d\"}],\"scattercarpet\":[{\"marker\":{\"colorbar\":{\"outlinewidth\":0,\"ticks\":\"\"}},\"type\":\"scattercarpet\"}],\"scattergeo\":[{\"marker\":{\"colorbar\":{\"outlinewidth\":0,\"ticks\":\"\"}},\"type\":\"scattergeo\"}],\"scattergl\":[{\"marker\":{\"colorbar\":{\"outlinewidth\":0,\"ticks\":\"\"}},\"type\":\"scattergl\"}],\"scattermapbox\":[{\"marker\":{\"colorbar\":{\"outlinewidth\":0,\"ticks\":\"\"}},\"type\":\"scattermapbox\"}],\"scatterpolargl\":[{\"marker\":{\"colorbar\":{\"outlinewidth\":0,\"ticks\":\"\"}},\"type\":\"scatterpolargl\"}],\"scatterpolar\":[{\"marker\":{\"colorbar\":{\"outlinewidth\":0,\"ticks\":\"\"}},\"type\":\"scatterpolar\"}],\"scatter\":[{\"marker\":{\"colorbar\":{\"outlinewidth\":0,\"ticks\":\"\"}},\"type\":\"scatter\"}],\"scatterternary\":[{\"marker\":{\"colorbar\":{\"outlinewidth\":0,\"ticks\":\"\"}},\"type\":\"scatterternary\"}],\"surface\":[{\"colorbar\":{\"outlinewidth\":0,\"ticks\":\"\"},\"colorscale\":[[0.0,\"#0d0887\"],[0.1111111111111111,\"#46039f\"],[0.2222222222222222,\"#7201a8\"],[0.3333333333333333,\"#9c179e\"],[0.4444444444444444,\"#bd3786\"],[0.5555555555555556,\"#d8576b\"],[0.6666666666666666,\"#ed7953\"],[0.7777777777777778,\"#fb9f3a\"],[0.8888888888888888,\"#fdca26\"],[1.0,\"#f0f921\"]],\"type\":\"surface\"}],\"table\":[{\"cells\":{\"fill\":{\"color\":\"#EBF0F8\"},\"line\":{\"color\":\"white\"}},\"header\":{\"fill\":{\"color\":\"#C8D4E3\"},\"line\":{\"color\":\"white\"}},\"type\":\"table\"}]},\"layout\":{\"annotationdefaults\":{\"arrowcolor\":\"#2a3f5f\",\"arrowhead\":0,\"arrowwidth\":1},\"autotypenumbers\":\"strict\",\"coloraxis\":{\"colorbar\":{\"outlinewidth\":0,\"ticks\":\"\"}},\"colorscale\":{\"diverging\":[[0,\"#8e0152\"],[0.1,\"#c51b7d\"],[0.2,\"#de77ae\"],[0.3,\"#f1b6da\"],[0.4,\"#fde0ef\"],[0.5,\"#f7f7f7\"],[0.6,\"#e6f5d0\"],[0.7,\"#b8e186\"],[0.8,\"#7fbc41\"],[0.9,\"#4d9221\"],[1,\"#276419\"]],\"sequential\":[[0.0,\"#0d0887\"],[0.1111111111111111,\"#46039f\"],[0.2222222222222222,\"#7201a8\"],[0.3333333333333333,\"#9c179e\"],[0.4444444444444444,\"#bd3786\"],[0.5555555555555556,\"#d8576b\"],[0.6666666666666666,\"#ed7953\"],[0.7777777777777778,\"#fb9f3a\"],[0.8888888888888888,\"#fdca26\"],[1.0,\"#f0f921\"]],\"sequentialminus\":[[0.0,\"#0d0887\"],[0.1111111111111111,\"#46039f\"],[0.2222222222222222,\"#7201a8\"],[0.3333333333333333,\"#9c179e\"],[0.4444444444444444,\"#bd3786\"],[0.5555555555555556,\"#d8576b\"],[0.6666666666666666,\"#ed7953\"],[0.7777777777777778,\"#fb9f3a\"],[0.8888888888888888,\"#fdca26\"],[1.0,\"#f0f921\"]]},\"colorway\":[\"#636efa\",\"#EF553B\",\"#00cc96\",\"#ab63fa\",\"#FFA15A\",\"#19d3f3\",\"#FF6692\",\"#B6E880\",\"#FF97FF\",\"#FECB52\"],\"font\":{\"color\":\"#2a3f5f\"},\"geo\":{\"bgcolor\":\"white\",\"lakecolor\":\"white\",\"landcolor\":\"#E5ECF6\",\"showlakes\":true,\"showland\":true,\"subunitcolor\":\"white\"},\"hoverlabel\":{\"align\":\"left\"},\"hovermode\":\"closest\",\"mapbox\":{\"style\":\"light\"},\"paper_bgcolor\":\"white\",\"plot_bgcolor\":\"#E5ECF6\",\"polar\":{\"angularaxis\":{\"gridcolor\":\"white\",\"linecolor\":\"white\",\"ticks\":\"\"},\"bgcolor\":\"#E5ECF6\",\"radialaxis\":{\"gridcolor\":\"white\",\"linecolor\":\"white\",\"ticks\":\"\"}},\"scene\":{\"xaxis\":{\"backgroundcolor\":\"#E5ECF6\",\"gridcolor\":\"white\",\"gridwidth\":2,\"linecolor\":\"white\",\"showbackground\":true,\"ticks\":\"\",\"zerolinecolor\":\"white\"},\"yaxis\":{\"backgroundcolor\":\"#E5ECF6\",\"gridcolor\":\"white\",\"gridwidth\":2,\"linecolor\":\"white\",\"showbackground\":true,\"ticks\":\"\",\"zerolinecolor\":\"white\"},\"zaxis\":{\"backgroundcolor\":\"#E5ECF6\",\"gridcolor\":\"white\",\"gridwidth\":2,\"linecolor\":\"white\",\"showbackground\":true,\"ticks\":\"\",\"zerolinecolor\":\"white\"}},\"shapedefaults\":{\"line\":{\"color\":\"#2a3f5f\"}},\"ternary\":{\"aaxis\":{\"gridcolor\":\"white\",\"linecolor\":\"white\",\"ticks\":\"\"},\"baxis\":{\"gridcolor\":\"white\",\"linecolor\":\"white\",\"ticks\":\"\"},\"bgcolor\":\"#E5ECF6\",\"caxis\":{\"gridcolor\":\"white\",\"linecolor\":\"white\",\"ticks\":\"\"}},\"title\":{\"x\":0.05},\"xaxis\":{\"automargin\":true,\"gridcolor\":\"white\",\"linecolor\":\"white\",\"ticks\":\"\",\"title\":{\"standoff\":15},\"zerolinecolor\":\"white\",\"zerolinewidth\":2},\"yaxis\":{\"automargin\":true,\"gridcolor\":\"white\",\"linecolor\":\"white\",\"ticks\":\"\",\"title\":{\"standoff\":15},\"zerolinecolor\":\"white\",\"zerolinewidth\":2}}},\"title\":{\"font\":{\"color\":\"#4D5663\"}},\"xaxis\":{\"gridcolor\":\"#E1E5ED\",\"showgrid\":true,\"tickfont\":{\"color\":\"#4D5663\"},\"title\":{\"font\":{\"color\":\"#4D5663\"},\"text\":\"\"},\"zerolinecolor\":\"#E1E5ED\"},\"yaxis\":{\"gridcolor\":\"#E1E5ED\",\"showgrid\":true,\"tickfont\":{\"color\":\"#4D5663\"},\"title\":{\"font\":{\"color\":\"#4D5663\"},\"text\":\"\"},\"zerolinecolor\":\"#E1E5ED\"}},                        {\"showLink\": true, \"linkText\": \"Export to plot.ly\", \"plotlyServerURL\": \"https://plot.ly\", \"responsive\": true}                    ).then(function(){\n",
       "                            \n",
       "var gd = document.getElementById('592ec17a-7ddf-4aa7-b6f0-dd1b6e8d5787');\n",
       "var x = new MutationObserver(function (mutations, observer) {{\n",
       "        var display = window.getComputedStyle(gd).display;\n",
       "        if (!display || display === 'none') {{\n",
       "            console.log([gd, 'removed!']);\n",
       "            Plotly.purge(gd);\n",
       "            observer.disconnect();\n",
       "        }}\n",
       "}});\n",
       "\n",
       "// Listen for the removal of the full notebook cells\n",
       "var notebookContainer = gd.closest('#notebook-container');\n",
       "if (notebookContainer) {{\n",
       "    x.observe(notebookContainer, {childList: true});\n",
       "}}\n",
       "\n",
       "// Listen for the clearing of the current output cell\n",
       "var outputEl = gd.closest('.output');\n",
       "if (outputEl) {{\n",
       "    x.observe(outputEl, {childList: true});\n",
       "}}\n",
       "\n",
       "                        })                };                });            </script>        </div>"
      ]
     },
     "metadata": {},
     "output_type": "display_data"
    }
   ],
   "source": [
    "df1.iplot(kind = 'bar')"
   ]
  },
  {
   "cell_type": "markdown",
   "id": "b032d0ce",
   "metadata": {},
   "source": [
    "###### Using some aggregate functions on the Data Frame."
   ]
  },
  {
   "cell_type": "code",
   "execution_count": 16,
   "id": "63484567",
   "metadata": {},
   "outputs": [
    {
     "data": {
      "application/vnd.plotly.v1+json": {
       "config": {
        "linkText": "Export to plot.ly",
        "plotlyServerURL": "https://plot.ly",
        "showLink": true
       },
       "data": [
        {
         "marker": {
          "color": "rgba(255, 153, 51, 0.6)",
          "line": {
           "color": "rgba(255, 153, 51, 1.0)",
           "width": 1
          }
         },
         "name": "None",
         "orientation": "v",
         "text": "",
         "type": "bar",
         "x": [
          "A",
          "B",
          "C",
          "D"
         ],
         "y": [
          100,
          100,
          100,
          100
         ]
        }
       ],
       "layout": {
        "legend": {
         "bgcolor": "#F5F6F9",
         "font": {
          "color": "#4D5663"
         }
        },
        "paper_bgcolor": "#F5F6F9",
        "plot_bgcolor": "#F5F6F9",
        "template": {
         "data": {
          "bar": [
           {
            "error_x": {
             "color": "#2a3f5f"
            },
            "error_y": {
             "color": "#2a3f5f"
            },
            "marker": {
             "line": {
              "color": "#E5ECF6",
              "width": 0.5
             },
             "pattern": {
              "fillmode": "overlay",
              "size": 10,
              "solidity": 0.2
             }
            },
            "type": "bar"
           }
          ],
          "barpolar": [
           {
            "marker": {
             "line": {
              "color": "#E5ECF6",
              "width": 0.5
             },
             "pattern": {
              "fillmode": "overlay",
              "size": 10,
              "solidity": 0.2
             }
            },
            "type": "barpolar"
           }
          ],
          "carpet": [
           {
            "aaxis": {
             "endlinecolor": "#2a3f5f",
             "gridcolor": "white",
             "linecolor": "white",
             "minorgridcolor": "white",
             "startlinecolor": "#2a3f5f"
            },
            "baxis": {
             "endlinecolor": "#2a3f5f",
             "gridcolor": "white",
             "linecolor": "white",
             "minorgridcolor": "white",
             "startlinecolor": "#2a3f5f"
            },
            "type": "carpet"
           }
          ],
          "choropleth": [
           {
            "colorbar": {
             "outlinewidth": 0,
             "ticks": ""
            },
            "type": "choropleth"
           }
          ],
          "contour": [
           {
            "colorbar": {
             "outlinewidth": 0,
             "ticks": ""
            },
            "colorscale": [
             [
              0,
              "#0d0887"
             ],
             [
              0.1111111111111111,
              "#46039f"
             ],
             [
              0.2222222222222222,
              "#7201a8"
             ],
             [
              0.3333333333333333,
              "#9c179e"
             ],
             [
              0.4444444444444444,
              "#bd3786"
             ],
             [
              0.5555555555555556,
              "#d8576b"
             ],
             [
              0.6666666666666666,
              "#ed7953"
             ],
             [
              0.7777777777777778,
              "#fb9f3a"
             ],
             [
              0.8888888888888888,
              "#fdca26"
             ],
             [
              1,
              "#f0f921"
             ]
            ],
            "type": "contour"
           }
          ],
          "contourcarpet": [
           {
            "colorbar": {
             "outlinewidth": 0,
             "ticks": ""
            },
            "type": "contourcarpet"
           }
          ],
          "heatmap": [
           {
            "colorbar": {
             "outlinewidth": 0,
             "ticks": ""
            },
            "colorscale": [
             [
              0,
              "#0d0887"
             ],
             [
              0.1111111111111111,
              "#46039f"
             ],
             [
              0.2222222222222222,
              "#7201a8"
             ],
             [
              0.3333333333333333,
              "#9c179e"
             ],
             [
              0.4444444444444444,
              "#bd3786"
             ],
             [
              0.5555555555555556,
              "#d8576b"
             ],
             [
              0.6666666666666666,
              "#ed7953"
             ],
             [
              0.7777777777777778,
              "#fb9f3a"
             ],
             [
              0.8888888888888888,
              "#fdca26"
             ],
             [
              1,
              "#f0f921"
             ]
            ],
            "type": "heatmap"
           }
          ],
          "heatmapgl": [
           {
            "colorbar": {
             "outlinewidth": 0,
             "ticks": ""
            },
            "colorscale": [
             [
              0,
              "#0d0887"
             ],
             [
              0.1111111111111111,
              "#46039f"
             ],
             [
              0.2222222222222222,
              "#7201a8"
             ],
             [
              0.3333333333333333,
              "#9c179e"
             ],
             [
              0.4444444444444444,
              "#bd3786"
             ],
             [
              0.5555555555555556,
              "#d8576b"
             ],
             [
              0.6666666666666666,
              "#ed7953"
             ],
             [
              0.7777777777777778,
              "#fb9f3a"
             ],
             [
              0.8888888888888888,
              "#fdca26"
             ],
             [
              1,
              "#f0f921"
             ]
            ],
            "type": "heatmapgl"
           }
          ],
          "histogram": [
           {
            "marker": {
             "pattern": {
              "fillmode": "overlay",
              "size": 10,
              "solidity": 0.2
             }
            },
            "type": "histogram"
           }
          ],
          "histogram2d": [
           {
            "colorbar": {
             "outlinewidth": 0,
             "ticks": ""
            },
            "colorscale": [
             [
              0,
              "#0d0887"
             ],
             [
              0.1111111111111111,
              "#46039f"
             ],
             [
              0.2222222222222222,
              "#7201a8"
             ],
             [
              0.3333333333333333,
              "#9c179e"
             ],
             [
              0.4444444444444444,
              "#bd3786"
             ],
             [
              0.5555555555555556,
              "#d8576b"
             ],
             [
              0.6666666666666666,
              "#ed7953"
             ],
             [
              0.7777777777777778,
              "#fb9f3a"
             ],
             [
              0.8888888888888888,
              "#fdca26"
             ],
             [
              1,
              "#f0f921"
             ]
            ],
            "type": "histogram2d"
           }
          ],
          "histogram2dcontour": [
           {
            "colorbar": {
             "outlinewidth": 0,
             "ticks": ""
            },
            "colorscale": [
             [
              0,
              "#0d0887"
             ],
             [
              0.1111111111111111,
              "#46039f"
             ],
             [
              0.2222222222222222,
              "#7201a8"
             ],
             [
              0.3333333333333333,
              "#9c179e"
             ],
             [
              0.4444444444444444,
              "#bd3786"
             ],
             [
              0.5555555555555556,
              "#d8576b"
             ],
             [
              0.6666666666666666,
              "#ed7953"
             ],
             [
              0.7777777777777778,
              "#fb9f3a"
             ],
             [
              0.8888888888888888,
              "#fdca26"
             ],
             [
              1,
              "#f0f921"
             ]
            ],
            "type": "histogram2dcontour"
           }
          ],
          "mesh3d": [
           {
            "colorbar": {
             "outlinewidth": 0,
             "ticks": ""
            },
            "type": "mesh3d"
           }
          ],
          "parcoords": [
           {
            "line": {
             "colorbar": {
              "outlinewidth": 0,
              "ticks": ""
             }
            },
            "type": "parcoords"
           }
          ],
          "pie": [
           {
            "automargin": true,
            "type": "pie"
           }
          ],
          "scatter": [
           {
            "marker": {
             "colorbar": {
              "outlinewidth": 0,
              "ticks": ""
             }
            },
            "type": "scatter"
           }
          ],
          "scatter3d": [
           {
            "line": {
             "colorbar": {
              "outlinewidth": 0,
              "ticks": ""
             }
            },
            "marker": {
             "colorbar": {
              "outlinewidth": 0,
              "ticks": ""
             }
            },
            "type": "scatter3d"
           }
          ],
          "scattercarpet": [
           {
            "marker": {
             "colorbar": {
              "outlinewidth": 0,
              "ticks": ""
             }
            },
            "type": "scattercarpet"
           }
          ],
          "scattergeo": [
           {
            "marker": {
             "colorbar": {
              "outlinewidth": 0,
              "ticks": ""
             }
            },
            "type": "scattergeo"
           }
          ],
          "scattergl": [
           {
            "marker": {
             "colorbar": {
              "outlinewidth": 0,
              "ticks": ""
             }
            },
            "type": "scattergl"
           }
          ],
          "scattermapbox": [
           {
            "marker": {
             "colorbar": {
              "outlinewidth": 0,
              "ticks": ""
             }
            },
            "type": "scattermapbox"
           }
          ],
          "scatterpolar": [
           {
            "marker": {
             "colorbar": {
              "outlinewidth": 0,
              "ticks": ""
             }
            },
            "type": "scatterpolar"
           }
          ],
          "scatterpolargl": [
           {
            "marker": {
             "colorbar": {
              "outlinewidth": 0,
              "ticks": ""
             }
            },
            "type": "scatterpolargl"
           }
          ],
          "scatterternary": [
           {
            "marker": {
             "colorbar": {
              "outlinewidth": 0,
              "ticks": ""
             }
            },
            "type": "scatterternary"
           }
          ],
          "surface": [
           {
            "colorbar": {
             "outlinewidth": 0,
             "ticks": ""
            },
            "colorscale": [
             [
              0,
              "#0d0887"
             ],
             [
              0.1111111111111111,
              "#46039f"
             ],
             [
              0.2222222222222222,
              "#7201a8"
             ],
             [
              0.3333333333333333,
              "#9c179e"
             ],
             [
              0.4444444444444444,
              "#bd3786"
             ],
             [
              0.5555555555555556,
              "#d8576b"
             ],
             [
              0.6666666666666666,
              "#ed7953"
             ],
             [
              0.7777777777777778,
              "#fb9f3a"
             ],
             [
              0.8888888888888888,
              "#fdca26"
             ],
             [
              1,
              "#f0f921"
             ]
            ],
            "type": "surface"
           }
          ],
          "table": [
           {
            "cells": {
             "fill": {
              "color": "#EBF0F8"
             },
             "line": {
              "color": "white"
             }
            },
            "header": {
             "fill": {
              "color": "#C8D4E3"
             },
             "line": {
              "color": "white"
             }
            },
            "type": "table"
           }
          ]
         },
         "layout": {
          "annotationdefaults": {
           "arrowcolor": "#2a3f5f",
           "arrowhead": 0,
           "arrowwidth": 1
          },
          "autotypenumbers": "strict",
          "coloraxis": {
           "colorbar": {
            "outlinewidth": 0,
            "ticks": ""
           }
          },
          "colorscale": {
           "diverging": [
            [
             0,
             "#8e0152"
            ],
            [
             0.1,
             "#c51b7d"
            ],
            [
             0.2,
             "#de77ae"
            ],
            [
             0.3,
             "#f1b6da"
            ],
            [
             0.4,
             "#fde0ef"
            ],
            [
             0.5,
             "#f7f7f7"
            ],
            [
             0.6,
             "#e6f5d0"
            ],
            [
             0.7,
             "#b8e186"
            ],
            [
             0.8,
             "#7fbc41"
            ],
            [
             0.9,
             "#4d9221"
            ],
            [
             1,
             "#276419"
            ]
           ],
           "sequential": [
            [
             0,
             "#0d0887"
            ],
            [
             0.1111111111111111,
             "#46039f"
            ],
            [
             0.2222222222222222,
             "#7201a8"
            ],
            [
             0.3333333333333333,
             "#9c179e"
            ],
            [
             0.4444444444444444,
             "#bd3786"
            ],
            [
             0.5555555555555556,
             "#d8576b"
            ],
            [
             0.6666666666666666,
             "#ed7953"
            ],
            [
             0.7777777777777778,
             "#fb9f3a"
            ],
            [
             0.8888888888888888,
             "#fdca26"
            ],
            [
             1,
             "#f0f921"
            ]
           ],
           "sequentialminus": [
            [
             0,
             "#0d0887"
            ],
            [
             0.1111111111111111,
             "#46039f"
            ],
            [
             0.2222222222222222,
             "#7201a8"
            ],
            [
             0.3333333333333333,
             "#9c179e"
            ],
            [
             0.4444444444444444,
             "#bd3786"
            ],
            [
             0.5555555555555556,
             "#d8576b"
            ],
            [
             0.6666666666666666,
             "#ed7953"
            ],
            [
             0.7777777777777778,
             "#fb9f3a"
            ],
            [
             0.8888888888888888,
             "#fdca26"
            ],
            [
             1,
             "#f0f921"
            ]
           ]
          },
          "colorway": [
           "#636efa",
           "#EF553B",
           "#00cc96",
           "#ab63fa",
           "#FFA15A",
           "#19d3f3",
           "#FF6692",
           "#B6E880",
           "#FF97FF",
           "#FECB52"
          ],
          "font": {
           "color": "#2a3f5f"
          },
          "geo": {
           "bgcolor": "white",
           "lakecolor": "white",
           "landcolor": "#E5ECF6",
           "showlakes": true,
           "showland": true,
           "subunitcolor": "white"
          },
          "hoverlabel": {
           "align": "left"
          },
          "hovermode": "closest",
          "mapbox": {
           "style": "light"
          },
          "paper_bgcolor": "white",
          "plot_bgcolor": "#E5ECF6",
          "polar": {
           "angularaxis": {
            "gridcolor": "white",
            "linecolor": "white",
            "ticks": ""
           },
           "bgcolor": "#E5ECF6",
           "radialaxis": {
            "gridcolor": "white",
            "linecolor": "white",
            "ticks": ""
           }
          },
          "scene": {
           "xaxis": {
            "backgroundcolor": "#E5ECF6",
            "gridcolor": "white",
            "gridwidth": 2,
            "linecolor": "white",
            "showbackground": true,
            "ticks": "",
            "zerolinecolor": "white"
           },
           "yaxis": {
            "backgroundcolor": "#E5ECF6",
            "gridcolor": "white",
            "gridwidth": 2,
            "linecolor": "white",
            "showbackground": true,
            "ticks": "",
            "zerolinecolor": "white"
           },
           "zaxis": {
            "backgroundcolor": "#E5ECF6",
            "gridcolor": "white",
            "gridwidth": 2,
            "linecolor": "white",
            "showbackground": true,
            "ticks": "",
            "zerolinecolor": "white"
           }
          },
          "shapedefaults": {
           "line": {
            "color": "#2a3f5f"
           }
          },
          "ternary": {
           "aaxis": {
            "gridcolor": "white",
            "linecolor": "white",
            "ticks": ""
           },
           "baxis": {
            "gridcolor": "white",
            "linecolor": "white",
            "ticks": ""
           },
           "bgcolor": "#E5ECF6",
           "caxis": {
            "gridcolor": "white",
            "linecolor": "white",
            "ticks": ""
           }
          },
          "title": {
           "x": 0.05
          },
          "xaxis": {
           "automargin": true,
           "gridcolor": "white",
           "linecolor": "white",
           "ticks": "",
           "title": {
            "standoff": 15
           },
           "zerolinecolor": "white",
           "zerolinewidth": 2
          },
          "yaxis": {
           "automargin": true,
           "gridcolor": "white",
           "linecolor": "white",
           "ticks": "",
           "title": {
            "standoff": 15
           },
           "zerolinecolor": "white",
           "zerolinewidth": 2
          }
         }
        },
        "title": {
         "font": {
          "color": "#4D5663"
         }
        },
        "xaxis": {
         "gridcolor": "#E1E5ED",
         "showgrid": true,
         "tickfont": {
          "color": "#4D5663"
         },
         "title": {
          "font": {
           "color": "#4D5663"
          },
          "text": ""
         },
         "zerolinecolor": "#E1E5ED"
        },
        "yaxis": {
         "gridcolor": "#E1E5ED",
         "showgrid": true,
         "tickfont": {
          "color": "#4D5663"
         },
         "title": {
          "font": {
           "color": "#4D5663"
          },
          "text": ""
         },
         "zerolinecolor": "#E1E5ED"
        }
       }
      },
      "text/html": [
       "<div>                            <div id=\"7a211b78-fbae-44d2-b741-40fd7b7e49ff\" class=\"plotly-graph-div\" style=\"height:525px; width:100%;\"></div>            <script type=\"text/javascript\">                require([\"plotly\"], function(Plotly) {                    window.PLOTLYENV=window.PLOTLYENV || {};\n",
       "                    window.PLOTLYENV.BASE_URL='https://plot.ly';                                    if (document.getElementById(\"7a211b78-fbae-44d2-b741-40fd7b7e49ff\")) {                    Plotly.newPlot(                        \"7a211b78-fbae-44d2-b741-40fd7b7e49ff\",                        [{\"marker\":{\"color\":\"rgba(255, 153, 51, 0.6)\",\"line\":{\"color\":\"rgba(255, 153, 51, 1.0)\",\"width\":1}},\"name\":\"None\",\"orientation\":\"v\",\"text\":\"\",\"x\":[\"A\",\"B\",\"C\",\"D\"],\"y\":[100,100,100,100],\"type\":\"bar\"}],                        {\"legend\":{\"bgcolor\":\"#F5F6F9\",\"font\":{\"color\":\"#4D5663\"}},\"paper_bgcolor\":\"#F5F6F9\",\"plot_bgcolor\":\"#F5F6F9\",\"template\":{\"data\":{\"barpolar\":[{\"marker\":{\"line\":{\"color\":\"#E5ECF6\",\"width\":0.5},\"pattern\":{\"fillmode\":\"overlay\",\"size\":10,\"solidity\":0.2}},\"type\":\"barpolar\"}],\"bar\":[{\"error_x\":{\"color\":\"#2a3f5f\"},\"error_y\":{\"color\":\"#2a3f5f\"},\"marker\":{\"line\":{\"color\":\"#E5ECF6\",\"width\":0.5},\"pattern\":{\"fillmode\":\"overlay\",\"size\":10,\"solidity\":0.2}},\"type\":\"bar\"}],\"carpet\":[{\"aaxis\":{\"endlinecolor\":\"#2a3f5f\",\"gridcolor\":\"white\",\"linecolor\":\"white\",\"minorgridcolor\":\"white\",\"startlinecolor\":\"#2a3f5f\"},\"baxis\":{\"endlinecolor\":\"#2a3f5f\",\"gridcolor\":\"white\",\"linecolor\":\"white\",\"minorgridcolor\":\"white\",\"startlinecolor\":\"#2a3f5f\"},\"type\":\"carpet\"}],\"choropleth\":[{\"colorbar\":{\"outlinewidth\":0,\"ticks\":\"\"},\"type\":\"choropleth\"}],\"contourcarpet\":[{\"colorbar\":{\"outlinewidth\":0,\"ticks\":\"\"},\"type\":\"contourcarpet\"}],\"contour\":[{\"colorbar\":{\"outlinewidth\":0,\"ticks\":\"\"},\"colorscale\":[[0.0,\"#0d0887\"],[0.1111111111111111,\"#46039f\"],[0.2222222222222222,\"#7201a8\"],[0.3333333333333333,\"#9c179e\"],[0.4444444444444444,\"#bd3786\"],[0.5555555555555556,\"#d8576b\"],[0.6666666666666666,\"#ed7953\"],[0.7777777777777778,\"#fb9f3a\"],[0.8888888888888888,\"#fdca26\"],[1.0,\"#f0f921\"]],\"type\":\"contour\"}],\"heatmapgl\":[{\"colorbar\":{\"outlinewidth\":0,\"ticks\":\"\"},\"colorscale\":[[0.0,\"#0d0887\"],[0.1111111111111111,\"#46039f\"],[0.2222222222222222,\"#7201a8\"],[0.3333333333333333,\"#9c179e\"],[0.4444444444444444,\"#bd3786\"],[0.5555555555555556,\"#d8576b\"],[0.6666666666666666,\"#ed7953\"],[0.7777777777777778,\"#fb9f3a\"],[0.8888888888888888,\"#fdca26\"],[1.0,\"#f0f921\"]],\"type\":\"heatmapgl\"}],\"heatmap\":[{\"colorbar\":{\"outlinewidth\":0,\"ticks\":\"\"},\"colorscale\":[[0.0,\"#0d0887\"],[0.1111111111111111,\"#46039f\"],[0.2222222222222222,\"#7201a8\"],[0.3333333333333333,\"#9c179e\"],[0.4444444444444444,\"#bd3786\"],[0.5555555555555556,\"#d8576b\"],[0.6666666666666666,\"#ed7953\"],[0.7777777777777778,\"#fb9f3a\"],[0.8888888888888888,\"#fdca26\"],[1.0,\"#f0f921\"]],\"type\":\"heatmap\"}],\"histogram2dcontour\":[{\"colorbar\":{\"outlinewidth\":0,\"ticks\":\"\"},\"colorscale\":[[0.0,\"#0d0887\"],[0.1111111111111111,\"#46039f\"],[0.2222222222222222,\"#7201a8\"],[0.3333333333333333,\"#9c179e\"],[0.4444444444444444,\"#bd3786\"],[0.5555555555555556,\"#d8576b\"],[0.6666666666666666,\"#ed7953\"],[0.7777777777777778,\"#fb9f3a\"],[0.8888888888888888,\"#fdca26\"],[1.0,\"#f0f921\"]],\"type\":\"histogram2dcontour\"}],\"histogram2d\":[{\"colorbar\":{\"outlinewidth\":0,\"ticks\":\"\"},\"colorscale\":[[0.0,\"#0d0887\"],[0.1111111111111111,\"#46039f\"],[0.2222222222222222,\"#7201a8\"],[0.3333333333333333,\"#9c179e\"],[0.4444444444444444,\"#bd3786\"],[0.5555555555555556,\"#d8576b\"],[0.6666666666666666,\"#ed7953\"],[0.7777777777777778,\"#fb9f3a\"],[0.8888888888888888,\"#fdca26\"],[1.0,\"#f0f921\"]],\"type\":\"histogram2d\"}],\"histogram\":[{\"marker\":{\"pattern\":{\"fillmode\":\"overlay\",\"size\":10,\"solidity\":0.2}},\"type\":\"histogram\"}],\"mesh3d\":[{\"colorbar\":{\"outlinewidth\":0,\"ticks\":\"\"},\"type\":\"mesh3d\"}],\"parcoords\":[{\"line\":{\"colorbar\":{\"outlinewidth\":0,\"ticks\":\"\"}},\"type\":\"parcoords\"}],\"pie\":[{\"automargin\":true,\"type\":\"pie\"}],\"scatter3d\":[{\"line\":{\"colorbar\":{\"outlinewidth\":0,\"ticks\":\"\"}},\"marker\":{\"colorbar\":{\"outlinewidth\":0,\"ticks\":\"\"}},\"type\":\"scatter3d\"}],\"scattercarpet\":[{\"marker\":{\"colorbar\":{\"outlinewidth\":0,\"ticks\":\"\"}},\"type\":\"scattercarpet\"}],\"scattergeo\":[{\"marker\":{\"colorbar\":{\"outlinewidth\":0,\"ticks\":\"\"}},\"type\":\"scattergeo\"}],\"scattergl\":[{\"marker\":{\"colorbar\":{\"outlinewidth\":0,\"ticks\":\"\"}},\"type\":\"scattergl\"}],\"scattermapbox\":[{\"marker\":{\"colorbar\":{\"outlinewidth\":0,\"ticks\":\"\"}},\"type\":\"scattermapbox\"}],\"scatterpolargl\":[{\"marker\":{\"colorbar\":{\"outlinewidth\":0,\"ticks\":\"\"}},\"type\":\"scatterpolargl\"}],\"scatterpolar\":[{\"marker\":{\"colorbar\":{\"outlinewidth\":0,\"ticks\":\"\"}},\"type\":\"scatterpolar\"}],\"scatter\":[{\"marker\":{\"colorbar\":{\"outlinewidth\":0,\"ticks\":\"\"}},\"type\":\"scatter\"}],\"scatterternary\":[{\"marker\":{\"colorbar\":{\"outlinewidth\":0,\"ticks\":\"\"}},\"type\":\"scatterternary\"}],\"surface\":[{\"colorbar\":{\"outlinewidth\":0,\"ticks\":\"\"},\"colorscale\":[[0.0,\"#0d0887\"],[0.1111111111111111,\"#46039f\"],[0.2222222222222222,\"#7201a8\"],[0.3333333333333333,\"#9c179e\"],[0.4444444444444444,\"#bd3786\"],[0.5555555555555556,\"#d8576b\"],[0.6666666666666666,\"#ed7953\"],[0.7777777777777778,\"#fb9f3a\"],[0.8888888888888888,\"#fdca26\"],[1.0,\"#f0f921\"]],\"type\":\"surface\"}],\"table\":[{\"cells\":{\"fill\":{\"color\":\"#EBF0F8\"},\"line\":{\"color\":\"white\"}},\"header\":{\"fill\":{\"color\":\"#C8D4E3\"},\"line\":{\"color\":\"white\"}},\"type\":\"table\"}]},\"layout\":{\"annotationdefaults\":{\"arrowcolor\":\"#2a3f5f\",\"arrowhead\":0,\"arrowwidth\":1},\"autotypenumbers\":\"strict\",\"coloraxis\":{\"colorbar\":{\"outlinewidth\":0,\"ticks\":\"\"}},\"colorscale\":{\"diverging\":[[0,\"#8e0152\"],[0.1,\"#c51b7d\"],[0.2,\"#de77ae\"],[0.3,\"#f1b6da\"],[0.4,\"#fde0ef\"],[0.5,\"#f7f7f7\"],[0.6,\"#e6f5d0\"],[0.7,\"#b8e186\"],[0.8,\"#7fbc41\"],[0.9,\"#4d9221\"],[1,\"#276419\"]],\"sequential\":[[0.0,\"#0d0887\"],[0.1111111111111111,\"#46039f\"],[0.2222222222222222,\"#7201a8\"],[0.3333333333333333,\"#9c179e\"],[0.4444444444444444,\"#bd3786\"],[0.5555555555555556,\"#d8576b\"],[0.6666666666666666,\"#ed7953\"],[0.7777777777777778,\"#fb9f3a\"],[0.8888888888888888,\"#fdca26\"],[1.0,\"#f0f921\"]],\"sequentialminus\":[[0.0,\"#0d0887\"],[0.1111111111111111,\"#46039f\"],[0.2222222222222222,\"#7201a8\"],[0.3333333333333333,\"#9c179e\"],[0.4444444444444444,\"#bd3786\"],[0.5555555555555556,\"#d8576b\"],[0.6666666666666666,\"#ed7953\"],[0.7777777777777778,\"#fb9f3a\"],[0.8888888888888888,\"#fdca26\"],[1.0,\"#f0f921\"]]},\"colorway\":[\"#636efa\",\"#EF553B\",\"#00cc96\",\"#ab63fa\",\"#FFA15A\",\"#19d3f3\",\"#FF6692\",\"#B6E880\",\"#FF97FF\",\"#FECB52\"],\"font\":{\"color\":\"#2a3f5f\"},\"geo\":{\"bgcolor\":\"white\",\"lakecolor\":\"white\",\"landcolor\":\"#E5ECF6\",\"showlakes\":true,\"showland\":true,\"subunitcolor\":\"white\"},\"hoverlabel\":{\"align\":\"left\"},\"hovermode\":\"closest\",\"mapbox\":{\"style\":\"light\"},\"paper_bgcolor\":\"white\",\"plot_bgcolor\":\"#E5ECF6\",\"polar\":{\"angularaxis\":{\"gridcolor\":\"white\",\"linecolor\":\"white\",\"ticks\":\"\"},\"bgcolor\":\"#E5ECF6\",\"radialaxis\":{\"gridcolor\":\"white\",\"linecolor\":\"white\",\"ticks\":\"\"}},\"scene\":{\"xaxis\":{\"backgroundcolor\":\"#E5ECF6\",\"gridcolor\":\"white\",\"gridwidth\":2,\"linecolor\":\"white\",\"showbackground\":true,\"ticks\":\"\",\"zerolinecolor\":\"white\"},\"yaxis\":{\"backgroundcolor\":\"#E5ECF6\",\"gridcolor\":\"white\",\"gridwidth\":2,\"linecolor\":\"white\",\"showbackground\":true,\"ticks\":\"\",\"zerolinecolor\":\"white\"},\"zaxis\":{\"backgroundcolor\":\"#E5ECF6\",\"gridcolor\":\"white\",\"gridwidth\":2,\"linecolor\":\"white\",\"showbackground\":true,\"ticks\":\"\",\"zerolinecolor\":\"white\"}},\"shapedefaults\":{\"line\":{\"color\":\"#2a3f5f\"}},\"ternary\":{\"aaxis\":{\"gridcolor\":\"white\",\"linecolor\":\"white\",\"ticks\":\"\"},\"baxis\":{\"gridcolor\":\"white\",\"linecolor\":\"white\",\"ticks\":\"\"},\"bgcolor\":\"#E5ECF6\",\"caxis\":{\"gridcolor\":\"white\",\"linecolor\":\"white\",\"ticks\":\"\"}},\"title\":{\"x\":0.05},\"xaxis\":{\"automargin\":true,\"gridcolor\":\"white\",\"linecolor\":\"white\",\"ticks\":\"\",\"title\":{\"standoff\":15},\"zerolinecolor\":\"white\",\"zerolinewidth\":2},\"yaxis\":{\"automargin\":true,\"gridcolor\":\"white\",\"linecolor\":\"white\",\"ticks\":\"\",\"title\":{\"standoff\":15},\"zerolinecolor\":\"white\",\"zerolinewidth\":2}}},\"title\":{\"font\":{\"color\":\"#4D5663\"}},\"xaxis\":{\"gridcolor\":\"#E1E5ED\",\"showgrid\":true,\"tickfont\":{\"color\":\"#4D5663\"},\"title\":{\"font\":{\"color\":\"#4D5663\"},\"text\":\"\"},\"zerolinecolor\":\"#E1E5ED\"},\"yaxis\":{\"gridcolor\":\"#E1E5ED\",\"showgrid\":true,\"tickfont\":{\"color\":\"#4D5663\"},\"title\":{\"font\":{\"color\":\"#4D5663\"},\"text\":\"\"},\"zerolinecolor\":\"#E1E5ED\"}},                        {\"showLink\": true, \"linkText\": \"Export to plot.ly\", \"plotlyServerURL\": \"https://plot.ly\", \"responsive\": true}                    ).then(function(){\n",
       "                            \n",
       "var gd = document.getElementById('7a211b78-fbae-44d2-b741-40fd7b7e49ff');\n",
       "var x = new MutationObserver(function (mutations, observer) {{\n",
       "        var display = window.getComputedStyle(gd).display;\n",
       "        if (!display || display === 'none') {{\n",
       "            console.log([gd, 'removed!']);\n",
       "            Plotly.purge(gd);\n",
       "            observer.disconnect();\n",
       "        }}\n",
       "}});\n",
       "\n",
       "// Listen for the removal of the full notebook cells\n",
       "var notebookContainer = gd.closest('#notebook-container');\n",
       "if (notebookContainer) {{\n",
       "    x.observe(notebookContainer, {childList: true});\n",
       "}}\n",
       "\n",
       "// Listen for the clearing of the current output cell\n",
       "var outputEl = gd.closest('.output');\n",
       "if (outputEl) {{\n",
       "    x.observe(outputEl, {childList: true});\n",
       "}}\n",
       "\n",
       "                        })                };                });            </script>        </div>"
      ]
     },
     "metadata": {},
     "output_type": "display_data"
    }
   ],
   "source": [
    "df1.count().iplot(kind = 'bar')"
   ]
  },
  {
   "cell_type": "code",
   "execution_count": 17,
   "id": "e3aff099",
   "metadata": {},
   "outputs": [
    {
     "data": {
      "application/vnd.plotly.v1+json": {
       "config": {
        "linkText": "Export to plot.ly",
        "plotlyServerURL": "https://plot.ly",
        "showLink": true
       },
       "data": [
        {
         "marker": {
          "color": "rgba(255, 153, 51, 0.6)",
          "line": {
           "color": "rgba(255, 153, 51, 1.0)",
           "width": 1
          }
         },
         "name": "None",
         "orientation": "v",
         "text": "",
         "type": "bar",
         "x": [
          "A",
          "B",
          "C",
          "D"
         ],
         "y": [
          -9.78336882437703,
          5.8360529906734095,
          -4.562235757488086,
          10.103536039890853
         ]
        }
       ],
       "layout": {
        "legend": {
         "bgcolor": "#F5F6F9",
         "font": {
          "color": "#4D5663"
         }
        },
        "paper_bgcolor": "#F5F6F9",
        "plot_bgcolor": "#F5F6F9",
        "template": {
         "data": {
          "bar": [
           {
            "error_x": {
             "color": "#2a3f5f"
            },
            "error_y": {
             "color": "#2a3f5f"
            },
            "marker": {
             "line": {
              "color": "#E5ECF6",
              "width": 0.5
             },
             "pattern": {
              "fillmode": "overlay",
              "size": 10,
              "solidity": 0.2
             }
            },
            "type": "bar"
           }
          ],
          "barpolar": [
           {
            "marker": {
             "line": {
              "color": "#E5ECF6",
              "width": 0.5
             },
             "pattern": {
              "fillmode": "overlay",
              "size": 10,
              "solidity": 0.2
             }
            },
            "type": "barpolar"
           }
          ],
          "carpet": [
           {
            "aaxis": {
             "endlinecolor": "#2a3f5f",
             "gridcolor": "white",
             "linecolor": "white",
             "minorgridcolor": "white",
             "startlinecolor": "#2a3f5f"
            },
            "baxis": {
             "endlinecolor": "#2a3f5f",
             "gridcolor": "white",
             "linecolor": "white",
             "minorgridcolor": "white",
             "startlinecolor": "#2a3f5f"
            },
            "type": "carpet"
           }
          ],
          "choropleth": [
           {
            "colorbar": {
             "outlinewidth": 0,
             "ticks": ""
            },
            "type": "choropleth"
           }
          ],
          "contour": [
           {
            "colorbar": {
             "outlinewidth": 0,
             "ticks": ""
            },
            "colorscale": [
             [
              0,
              "#0d0887"
             ],
             [
              0.1111111111111111,
              "#46039f"
             ],
             [
              0.2222222222222222,
              "#7201a8"
             ],
             [
              0.3333333333333333,
              "#9c179e"
             ],
             [
              0.4444444444444444,
              "#bd3786"
             ],
             [
              0.5555555555555556,
              "#d8576b"
             ],
             [
              0.6666666666666666,
              "#ed7953"
             ],
             [
              0.7777777777777778,
              "#fb9f3a"
             ],
             [
              0.8888888888888888,
              "#fdca26"
             ],
             [
              1,
              "#f0f921"
             ]
            ],
            "type": "contour"
           }
          ],
          "contourcarpet": [
           {
            "colorbar": {
             "outlinewidth": 0,
             "ticks": ""
            },
            "type": "contourcarpet"
           }
          ],
          "heatmap": [
           {
            "colorbar": {
             "outlinewidth": 0,
             "ticks": ""
            },
            "colorscale": [
             [
              0,
              "#0d0887"
             ],
             [
              0.1111111111111111,
              "#46039f"
             ],
             [
              0.2222222222222222,
              "#7201a8"
             ],
             [
              0.3333333333333333,
              "#9c179e"
             ],
             [
              0.4444444444444444,
              "#bd3786"
             ],
             [
              0.5555555555555556,
              "#d8576b"
             ],
             [
              0.6666666666666666,
              "#ed7953"
             ],
             [
              0.7777777777777778,
              "#fb9f3a"
             ],
             [
              0.8888888888888888,
              "#fdca26"
             ],
             [
              1,
              "#f0f921"
             ]
            ],
            "type": "heatmap"
           }
          ],
          "heatmapgl": [
           {
            "colorbar": {
             "outlinewidth": 0,
             "ticks": ""
            },
            "colorscale": [
             [
              0,
              "#0d0887"
             ],
             [
              0.1111111111111111,
              "#46039f"
             ],
             [
              0.2222222222222222,
              "#7201a8"
             ],
             [
              0.3333333333333333,
              "#9c179e"
             ],
             [
              0.4444444444444444,
              "#bd3786"
             ],
             [
              0.5555555555555556,
              "#d8576b"
             ],
             [
              0.6666666666666666,
              "#ed7953"
             ],
             [
              0.7777777777777778,
              "#fb9f3a"
             ],
             [
              0.8888888888888888,
              "#fdca26"
             ],
             [
              1,
              "#f0f921"
             ]
            ],
            "type": "heatmapgl"
           }
          ],
          "histogram": [
           {
            "marker": {
             "pattern": {
              "fillmode": "overlay",
              "size": 10,
              "solidity": 0.2
             }
            },
            "type": "histogram"
           }
          ],
          "histogram2d": [
           {
            "colorbar": {
             "outlinewidth": 0,
             "ticks": ""
            },
            "colorscale": [
             [
              0,
              "#0d0887"
             ],
             [
              0.1111111111111111,
              "#46039f"
             ],
             [
              0.2222222222222222,
              "#7201a8"
             ],
             [
              0.3333333333333333,
              "#9c179e"
             ],
             [
              0.4444444444444444,
              "#bd3786"
             ],
             [
              0.5555555555555556,
              "#d8576b"
             ],
             [
              0.6666666666666666,
              "#ed7953"
             ],
             [
              0.7777777777777778,
              "#fb9f3a"
             ],
             [
              0.8888888888888888,
              "#fdca26"
             ],
             [
              1,
              "#f0f921"
             ]
            ],
            "type": "histogram2d"
           }
          ],
          "histogram2dcontour": [
           {
            "colorbar": {
             "outlinewidth": 0,
             "ticks": ""
            },
            "colorscale": [
             [
              0,
              "#0d0887"
             ],
             [
              0.1111111111111111,
              "#46039f"
             ],
             [
              0.2222222222222222,
              "#7201a8"
             ],
             [
              0.3333333333333333,
              "#9c179e"
             ],
             [
              0.4444444444444444,
              "#bd3786"
             ],
             [
              0.5555555555555556,
              "#d8576b"
             ],
             [
              0.6666666666666666,
              "#ed7953"
             ],
             [
              0.7777777777777778,
              "#fb9f3a"
             ],
             [
              0.8888888888888888,
              "#fdca26"
             ],
             [
              1,
              "#f0f921"
             ]
            ],
            "type": "histogram2dcontour"
           }
          ],
          "mesh3d": [
           {
            "colorbar": {
             "outlinewidth": 0,
             "ticks": ""
            },
            "type": "mesh3d"
           }
          ],
          "parcoords": [
           {
            "line": {
             "colorbar": {
              "outlinewidth": 0,
              "ticks": ""
             }
            },
            "type": "parcoords"
           }
          ],
          "pie": [
           {
            "automargin": true,
            "type": "pie"
           }
          ],
          "scatter": [
           {
            "marker": {
             "colorbar": {
              "outlinewidth": 0,
              "ticks": ""
             }
            },
            "type": "scatter"
           }
          ],
          "scatter3d": [
           {
            "line": {
             "colorbar": {
              "outlinewidth": 0,
              "ticks": ""
             }
            },
            "marker": {
             "colorbar": {
              "outlinewidth": 0,
              "ticks": ""
             }
            },
            "type": "scatter3d"
           }
          ],
          "scattercarpet": [
           {
            "marker": {
             "colorbar": {
              "outlinewidth": 0,
              "ticks": ""
             }
            },
            "type": "scattercarpet"
           }
          ],
          "scattergeo": [
           {
            "marker": {
             "colorbar": {
              "outlinewidth": 0,
              "ticks": ""
             }
            },
            "type": "scattergeo"
           }
          ],
          "scattergl": [
           {
            "marker": {
             "colorbar": {
              "outlinewidth": 0,
              "ticks": ""
             }
            },
            "type": "scattergl"
           }
          ],
          "scattermapbox": [
           {
            "marker": {
             "colorbar": {
              "outlinewidth": 0,
              "ticks": ""
             }
            },
            "type": "scattermapbox"
           }
          ],
          "scatterpolar": [
           {
            "marker": {
             "colorbar": {
              "outlinewidth": 0,
              "ticks": ""
             }
            },
            "type": "scatterpolar"
           }
          ],
          "scatterpolargl": [
           {
            "marker": {
             "colorbar": {
              "outlinewidth": 0,
              "ticks": ""
             }
            },
            "type": "scatterpolargl"
           }
          ],
          "scatterternary": [
           {
            "marker": {
             "colorbar": {
              "outlinewidth": 0,
              "ticks": ""
             }
            },
            "type": "scatterternary"
           }
          ],
          "surface": [
           {
            "colorbar": {
             "outlinewidth": 0,
             "ticks": ""
            },
            "colorscale": [
             [
              0,
              "#0d0887"
             ],
             [
              0.1111111111111111,
              "#46039f"
             ],
             [
              0.2222222222222222,
              "#7201a8"
             ],
             [
              0.3333333333333333,
              "#9c179e"
             ],
             [
              0.4444444444444444,
              "#bd3786"
             ],
             [
              0.5555555555555556,
              "#d8576b"
             ],
             [
              0.6666666666666666,
              "#ed7953"
             ],
             [
              0.7777777777777778,
              "#fb9f3a"
             ],
             [
              0.8888888888888888,
              "#fdca26"
             ],
             [
              1,
              "#f0f921"
             ]
            ],
            "type": "surface"
           }
          ],
          "table": [
           {
            "cells": {
             "fill": {
              "color": "#EBF0F8"
             },
             "line": {
              "color": "white"
             }
            },
            "header": {
             "fill": {
              "color": "#C8D4E3"
             },
             "line": {
              "color": "white"
             }
            },
            "type": "table"
           }
          ]
         },
         "layout": {
          "annotationdefaults": {
           "arrowcolor": "#2a3f5f",
           "arrowhead": 0,
           "arrowwidth": 1
          },
          "autotypenumbers": "strict",
          "coloraxis": {
           "colorbar": {
            "outlinewidth": 0,
            "ticks": ""
           }
          },
          "colorscale": {
           "diverging": [
            [
             0,
             "#8e0152"
            ],
            [
             0.1,
             "#c51b7d"
            ],
            [
             0.2,
             "#de77ae"
            ],
            [
             0.3,
             "#f1b6da"
            ],
            [
             0.4,
             "#fde0ef"
            ],
            [
             0.5,
             "#f7f7f7"
            ],
            [
             0.6,
             "#e6f5d0"
            ],
            [
             0.7,
             "#b8e186"
            ],
            [
             0.8,
             "#7fbc41"
            ],
            [
             0.9,
             "#4d9221"
            ],
            [
             1,
             "#276419"
            ]
           ],
           "sequential": [
            [
             0,
             "#0d0887"
            ],
            [
             0.1111111111111111,
             "#46039f"
            ],
            [
             0.2222222222222222,
             "#7201a8"
            ],
            [
             0.3333333333333333,
             "#9c179e"
            ],
            [
             0.4444444444444444,
             "#bd3786"
            ],
            [
             0.5555555555555556,
             "#d8576b"
            ],
            [
             0.6666666666666666,
             "#ed7953"
            ],
            [
             0.7777777777777778,
             "#fb9f3a"
            ],
            [
             0.8888888888888888,
             "#fdca26"
            ],
            [
             1,
             "#f0f921"
            ]
           ],
           "sequentialminus": [
            [
             0,
             "#0d0887"
            ],
            [
             0.1111111111111111,
             "#46039f"
            ],
            [
             0.2222222222222222,
             "#7201a8"
            ],
            [
             0.3333333333333333,
             "#9c179e"
            ],
            [
             0.4444444444444444,
             "#bd3786"
            ],
            [
             0.5555555555555556,
             "#d8576b"
            ],
            [
             0.6666666666666666,
             "#ed7953"
            ],
            [
             0.7777777777777778,
             "#fb9f3a"
            ],
            [
             0.8888888888888888,
             "#fdca26"
            ],
            [
             1,
             "#f0f921"
            ]
           ]
          },
          "colorway": [
           "#636efa",
           "#EF553B",
           "#00cc96",
           "#ab63fa",
           "#FFA15A",
           "#19d3f3",
           "#FF6692",
           "#B6E880",
           "#FF97FF",
           "#FECB52"
          ],
          "font": {
           "color": "#2a3f5f"
          },
          "geo": {
           "bgcolor": "white",
           "lakecolor": "white",
           "landcolor": "#E5ECF6",
           "showlakes": true,
           "showland": true,
           "subunitcolor": "white"
          },
          "hoverlabel": {
           "align": "left"
          },
          "hovermode": "closest",
          "mapbox": {
           "style": "light"
          },
          "paper_bgcolor": "white",
          "plot_bgcolor": "#E5ECF6",
          "polar": {
           "angularaxis": {
            "gridcolor": "white",
            "linecolor": "white",
            "ticks": ""
           },
           "bgcolor": "#E5ECF6",
           "radialaxis": {
            "gridcolor": "white",
            "linecolor": "white",
            "ticks": ""
           }
          },
          "scene": {
           "xaxis": {
            "backgroundcolor": "#E5ECF6",
            "gridcolor": "white",
            "gridwidth": 2,
            "linecolor": "white",
            "showbackground": true,
            "ticks": "",
            "zerolinecolor": "white"
           },
           "yaxis": {
            "backgroundcolor": "#E5ECF6",
            "gridcolor": "white",
            "gridwidth": 2,
            "linecolor": "white",
            "showbackground": true,
            "ticks": "",
            "zerolinecolor": "white"
           },
           "zaxis": {
            "backgroundcolor": "#E5ECF6",
            "gridcolor": "white",
            "gridwidth": 2,
            "linecolor": "white",
            "showbackground": true,
            "ticks": "",
            "zerolinecolor": "white"
           }
          },
          "shapedefaults": {
           "line": {
            "color": "#2a3f5f"
           }
          },
          "ternary": {
           "aaxis": {
            "gridcolor": "white",
            "linecolor": "white",
            "ticks": ""
           },
           "baxis": {
            "gridcolor": "white",
            "linecolor": "white",
            "ticks": ""
           },
           "bgcolor": "#E5ECF6",
           "caxis": {
            "gridcolor": "white",
            "linecolor": "white",
            "ticks": ""
           }
          },
          "title": {
           "x": 0.05
          },
          "xaxis": {
           "automargin": true,
           "gridcolor": "white",
           "linecolor": "white",
           "ticks": "",
           "title": {
            "standoff": 15
           },
           "zerolinecolor": "white",
           "zerolinewidth": 2
          },
          "yaxis": {
           "automargin": true,
           "gridcolor": "white",
           "linecolor": "white",
           "ticks": "",
           "title": {
            "standoff": 15
           },
           "zerolinecolor": "white",
           "zerolinewidth": 2
          }
         }
        },
        "title": {
         "font": {
          "color": "#4D5663"
         }
        },
        "xaxis": {
         "gridcolor": "#E1E5ED",
         "showgrid": true,
         "tickfont": {
          "color": "#4D5663"
         },
         "title": {
          "font": {
           "color": "#4D5663"
          },
          "text": ""
         },
         "zerolinecolor": "#E1E5ED"
        },
        "yaxis": {
         "gridcolor": "#E1E5ED",
         "showgrid": true,
         "tickfont": {
          "color": "#4D5663"
         },
         "title": {
          "font": {
           "color": "#4D5663"
          },
          "text": ""
         },
         "zerolinecolor": "#E1E5ED"
        }
       }
      },
      "text/html": [
       "<div>                            <div id=\"9dc7f60d-44b4-47aa-93b3-2e140fd1c834\" class=\"plotly-graph-div\" style=\"height:525px; width:100%;\"></div>            <script type=\"text/javascript\">                require([\"plotly\"], function(Plotly) {                    window.PLOTLYENV=window.PLOTLYENV || {};\n",
       "                    window.PLOTLYENV.BASE_URL='https://plot.ly';                                    if (document.getElementById(\"9dc7f60d-44b4-47aa-93b3-2e140fd1c834\")) {                    Plotly.newPlot(                        \"9dc7f60d-44b4-47aa-93b3-2e140fd1c834\",                        [{\"marker\":{\"color\":\"rgba(255, 153, 51, 0.6)\",\"line\":{\"color\":\"rgba(255, 153, 51, 1.0)\",\"width\":1}},\"name\":\"None\",\"orientation\":\"v\",\"text\":\"\",\"x\":[\"A\",\"B\",\"C\",\"D\"],\"y\":[-9.78336882437703,5.8360529906734095,-4.562235757488086,10.103536039890853],\"type\":\"bar\"}],                        {\"legend\":{\"bgcolor\":\"#F5F6F9\",\"font\":{\"color\":\"#4D5663\"}},\"paper_bgcolor\":\"#F5F6F9\",\"plot_bgcolor\":\"#F5F6F9\",\"template\":{\"data\":{\"barpolar\":[{\"marker\":{\"line\":{\"color\":\"#E5ECF6\",\"width\":0.5},\"pattern\":{\"fillmode\":\"overlay\",\"size\":10,\"solidity\":0.2}},\"type\":\"barpolar\"}],\"bar\":[{\"error_x\":{\"color\":\"#2a3f5f\"},\"error_y\":{\"color\":\"#2a3f5f\"},\"marker\":{\"line\":{\"color\":\"#E5ECF6\",\"width\":0.5},\"pattern\":{\"fillmode\":\"overlay\",\"size\":10,\"solidity\":0.2}},\"type\":\"bar\"}],\"carpet\":[{\"aaxis\":{\"endlinecolor\":\"#2a3f5f\",\"gridcolor\":\"white\",\"linecolor\":\"white\",\"minorgridcolor\":\"white\",\"startlinecolor\":\"#2a3f5f\"},\"baxis\":{\"endlinecolor\":\"#2a3f5f\",\"gridcolor\":\"white\",\"linecolor\":\"white\",\"minorgridcolor\":\"white\",\"startlinecolor\":\"#2a3f5f\"},\"type\":\"carpet\"}],\"choropleth\":[{\"colorbar\":{\"outlinewidth\":0,\"ticks\":\"\"},\"type\":\"choropleth\"}],\"contourcarpet\":[{\"colorbar\":{\"outlinewidth\":0,\"ticks\":\"\"},\"type\":\"contourcarpet\"}],\"contour\":[{\"colorbar\":{\"outlinewidth\":0,\"ticks\":\"\"},\"colorscale\":[[0.0,\"#0d0887\"],[0.1111111111111111,\"#46039f\"],[0.2222222222222222,\"#7201a8\"],[0.3333333333333333,\"#9c179e\"],[0.4444444444444444,\"#bd3786\"],[0.5555555555555556,\"#d8576b\"],[0.6666666666666666,\"#ed7953\"],[0.7777777777777778,\"#fb9f3a\"],[0.8888888888888888,\"#fdca26\"],[1.0,\"#f0f921\"]],\"type\":\"contour\"}],\"heatmapgl\":[{\"colorbar\":{\"outlinewidth\":0,\"ticks\":\"\"},\"colorscale\":[[0.0,\"#0d0887\"],[0.1111111111111111,\"#46039f\"],[0.2222222222222222,\"#7201a8\"],[0.3333333333333333,\"#9c179e\"],[0.4444444444444444,\"#bd3786\"],[0.5555555555555556,\"#d8576b\"],[0.6666666666666666,\"#ed7953\"],[0.7777777777777778,\"#fb9f3a\"],[0.8888888888888888,\"#fdca26\"],[1.0,\"#f0f921\"]],\"type\":\"heatmapgl\"}],\"heatmap\":[{\"colorbar\":{\"outlinewidth\":0,\"ticks\":\"\"},\"colorscale\":[[0.0,\"#0d0887\"],[0.1111111111111111,\"#46039f\"],[0.2222222222222222,\"#7201a8\"],[0.3333333333333333,\"#9c179e\"],[0.4444444444444444,\"#bd3786\"],[0.5555555555555556,\"#d8576b\"],[0.6666666666666666,\"#ed7953\"],[0.7777777777777778,\"#fb9f3a\"],[0.8888888888888888,\"#fdca26\"],[1.0,\"#f0f921\"]],\"type\":\"heatmap\"}],\"histogram2dcontour\":[{\"colorbar\":{\"outlinewidth\":0,\"ticks\":\"\"},\"colorscale\":[[0.0,\"#0d0887\"],[0.1111111111111111,\"#46039f\"],[0.2222222222222222,\"#7201a8\"],[0.3333333333333333,\"#9c179e\"],[0.4444444444444444,\"#bd3786\"],[0.5555555555555556,\"#d8576b\"],[0.6666666666666666,\"#ed7953\"],[0.7777777777777778,\"#fb9f3a\"],[0.8888888888888888,\"#fdca26\"],[1.0,\"#f0f921\"]],\"type\":\"histogram2dcontour\"}],\"histogram2d\":[{\"colorbar\":{\"outlinewidth\":0,\"ticks\":\"\"},\"colorscale\":[[0.0,\"#0d0887\"],[0.1111111111111111,\"#46039f\"],[0.2222222222222222,\"#7201a8\"],[0.3333333333333333,\"#9c179e\"],[0.4444444444444444,\"#bd3786\"],[0.5555555555555556,\"#d8576b\"],[0.6666666666666666,\"#ed7953\"],[0.7777777777777778,\"#fb9f3a\"],[0.8888888888888888,\"#fdca26\"],[1.0,\"#f0f921\"]],\"type\":\"histogram2d\"}],\"histogram\":[{\"marker\":{\"pattern\":{\"fillmode\":\"overlay\",\"size\":10,\"solidity\":0.2}},\"type\":\"histogram\"}],\"mesh3d\":[{\"colorbar\":{\"outlinewidth\":0,\"ticks\":\"\"},\"type\":\"mesh3d\"}],\"parcoords\":[{\"line\":{\"colorbar\":{\"outlinewidth\":0,\"ticks\":\"\"}},\"type\":\"parcoords\"}],\"pie\":[{\"automargin\":true,\"type\":\"pie\"}],\"scatter3d\":[{\"line\":{\"colorbar\":{\"outlinewidth\":0,\"ticks\":\"\"}},\"marker\":{\"colorbar\":{\"outlinewidth\":0,\"ticks\":\"\"}},\"type\":\"scatter3d\"}],\"scattercarpet\":[{\"marker\":{\"colorbar\":{\"outlinewidth\":0,\"ticks\":\"\"}},\"type\":\"scattercarpet\"}],\"scattergeo\":[{\"marker\":{\"colorbar\":{\"outlinewidth\":0,\"ticks\":\"\"}},\"type\":\"scattergeo\"}],\"scattergl\":[{\"marker\":{\"colorbar\":{\"outlinewidth\":0,\"ticks\":\"\"}},\"type\":\"scattergl\"}],\"scattermapbox\":[{\"marker\":{\"colorbar\":{\"outlinewidth\":0,\"ticks\":\"\"}},\"type\":\"scattermapbox\"}],\"scatterpolargl\":[{\"marker\":{\"colorbar\":{\"outlinewidth\":0,\"ticks\":\"\"}},\"type\":\"scatterpolargl\"}],\"scatterpolar\":[{\"marker\":{\"colorbar\":{\"outlinewidth\":0,\"ticks\":\"\"}},\"type\":\"scatterpolar\"}],\"scatter\":[{\"marker\":{\"colorbar\":{\"outlinewidth\":0,\"ticks\":\"\"}},\"type\":\"scatter\"}],\"scatterternary\":[{\"marker\":{\"colorbar\":{\"outlinewidth\":0,\"ticks\":\"\"}},\"type\":\"scatterternary\"}],\"surface\":[{\"colorbar\":{\"outlinewidth\":0,\"ticks\":\"\"},\"colorscale\":[[0.0,\"#0d0887\"],[0.1111111111111111,\"#46039f\"],[0.2222222222222222,\"#7201a8\"],[0.3333333333333333,\"#9c179e\"],[0.4444444444444444,\"#bd3786\"],[0.5555555555555556,\"#d8576b\"],[0.6666666666666666,\"#ed7953\"],[0.7777777777777778,\"#fb9f3a\"],[0.8888888888888888,\"#fdca26\"],[1.0,\"#f0f921\"]],\"type\":\"surface\"}],\"table\":[{\"cells\":{\"fill\":{\"color\":\"#EBF0F8\"},\"line\":{\"color\":\"white\"}},\"header\":{\"fill\":{\"color\":\"#C8D4E3\"},\"line\":{\"color\":\"white\"}},\"type\":\"table\"}]},\"layout\":{\"annotationdefaults\":{\"arrowcolor\":\"#2a3f5f\",\"arrowhead\":0,\"arrowwidth\":1},\"autotypenumbers\":\"strict\",\"coloraxis\":{\"colorbar\":{\"outlinewidth\":0,\"ticks\":\"\"}},\"colorscale\":{\"diverging\":[[0,\"#8e0152\"],[0.1,\"#c51b7d\"],[0.2,\"#de77ae\"],[0.3,\"#f1b6da\"],[0.4,\"#fde0ef\"],[0.5,\"#f7f7f7\"],[0.6,\"#e6f5d0\"],[0.7,\"#b8e186\"],[0.8,\"#7fbc41\"],[0.9,\"#4d9221\"],[1,\"#276419\"]],\"sequential\":[[0.0,\"#0d0887\"],[0.1111111111111111,\"#46039f\"],[0.2222222222222222,\"#7201a8\"],[0.3333333333333333,\"#9c179e\"],[0.4444444444444444,\"#bd3786\"],[0.5555555555555556,\"#d8576b\"],[0.6666666666666666,\"#ed7953\"],[0.7777777777777778,\"#fb9f3a\"],[0.8888888888888888,\"#fdca26\"],[1.0,\"#f0f921\"]],\"sequentialminus\":[[0.0,\"#0d0887\"],[0.1111111111111111,\"#46039f\"],[0.2222222222222222,\"#7201a8\"],[0.3333333333333333,\"#9c179e\"],[0.4444444444444444,\"#bd3786\"],[0.5555555555555556,\"#d8576b\"],[0.6666666666666666,\"#ed7953\"],[0.7777777777777778,\"#fb9f3a\"],[0.8888888888888888,\"#fdca26\"],[1.0,\"#f0f921\"]]},\"colorway\":[\"#636efa\",\"#EF553B\",\"#00cc96\",\"#ab63fa\",\"#FFA15A\",\"#19d3f3\",\"#FF6692\",\"#B6E880\",\"#FF97FF\",\"#FECB52\"],\"font\":{\"color\":\"#2a3f5f\"},\"geo\":{\"bgcolor\":\"white\",\"lakecolor\":\"white\",\"landcolor\":\"#E5ECF6\",\"showlakes\":true,\"showland\":true,\"subunitcolor\":\"white\"},\"hoverlabel\":{\"align\":\"left\"},\"hovermode\":\"closest\",\"mapbox\":{\"style\":\"light\"},\"paper_bgcolor\":\"white\",\"plot_bgcolor\":\"#E5ECF6\",\"polar\":{\"angularaxis\":{\"gridcolor\":\"white\",\"linecolor\":\"white\",\"ticks\":\"\"},\"bgcolor\":\"#E5ECF6\",\"radialaxis\":{\"gridcolor\":\"white\",\"linecolor\":\"white\",\"ticks\":\"\"}},\"scene\":{\"xaxis\":{\"backgroundcolor\":\"#E5ECF6\",\"gridcolor\":\"white\",\"gridwidth\":2,\"linecolor\":\"white\",\"showbackground\":true,\"ticks\":\"\",\"zerolinecolor\":\"white\"},\"yaxis\":{\"backgroundcolor\":\"#E5ECF6\",\"gridcolor\":\"white\",\"gridwidth\":2,\"linecolor\":\"white\",\"showbackground\":true,\"ticks\":\"\",\"zerolinecolor\":\"white\"},\"zaxis\":{\"backgroundcolor\":\"#E5ECF6\",\"gridcolor\":\"white\",\"gridwidth\":2,\"linecolor\":\"white\",\"showbackground\":true,\"ticks\":\"\",\"zerolinecolor\":\"white\"}},\"shapedefaults\":{\"line\":{\"color\":\"#2a3f5f\"}},\"ternary\":{\"aaxis\":{\"gridcolor\":\"white\",\"linecolor\":\"white\",\"ticks\":\"\"},\"baxis\":{\"gridcolor\":\"white\",\"linecolor\":\"white\",\"ticks\":\"\"},\"bgcolor\":\"#E5ECF6\",\"caxis\":{\"gridcolor\":\"white\",\"linecolor\":\"white\",\"ticks\":\"\"}},\"title\":{\"x\":0.05},\"xaxis\":{\"automargin\":true,\"gridcolor\":\"white\",\"linecolor\":\"white\",\"ticks\":\"\",\"title\":{\"standoff\":15},\"zerolinecolor\":\"white\",\"zerolinewidth\":2},\"yaxis\":{\"automargin\":true,\"gridcolor\":\"white\",\"linecolor\":\"white\",\"ticks\":\"\",\"title\":{\"standoff\":15},\"zerolinecolor\":\"white\",\"zerolinewidth\":2}}},\"title\":{\"font\":{\"color\":\"#4D5663\"}},\"xaxis\":{\"gridcolor\":\"#E1E5ED\",\"showgrid\":true,\"tickfont\":{\"color\":\"#4D5663\"},\"title\":{\"font\":{\"color\":\"#4D5663\"},\"text\":\"\"},\"zerolinecolor\":\"#E1E5ED\"},\"yaxis\":{\"gridcolor\":\"#E1E5ED\",\"showgrid\":true,\"tickfont\":{\"color\":\"#4D5663\"},\"title\":{\"font\":{\"color\":\"#4D5663\"},\"text\":\"\"},\"zerolinecolor\":\"#E1E5ED\"}},                        {\"showLink\": true, \"linkText\": \"Export to plot.ly\", \"plotlyServerURL\": \"https://plot.ly\", \"responsive\": true}                    ).then(function(){\n",
       "                            \n",
       "var gd = document.getElementById('9dc7f60d-44b4-47aa-93b3-2e140fd1c834');\n",
       "var x = new MutationObserver(function (mutations, observer) {{\n",
       "        var display = window.getComputedStyle(gd).display;\n",
       "        if (!display || display === 'none') {{\n",
       "            console.log([gd, 'removed!']);\n",
       "            Plotly.purge(gd);\n",
       "            observer.disconnect();\n",
       "        }}\n",
       "}});\n",
       "\n",
       "// Listen for the removal of the full notebook cells\n",
       "var notebookContainer = gd.closest('#notebook-container');\n",
       "if (notebookContainer) {{\n",
       "    x.observe(notebookContainer, {childList: true});\n",
       "}}\n",
       "\n",
       "// Listen for the clearing of the current output cell\n",
       "var outputEl = gd.closest('.output');\n",
       "if (outputEl) {{\n",
       "    x.observe(outputEl, {childList: true});\n",
       "}}\n",
       "\n",
       "                        })                };                });            </script>        </div>"
      ]
     },
     "metadata": {},
     "output_type": "display_data"
    }
   ],
   "source": [
    "df1.sum().iplot(kind = 'bar')"
   ]
  },
  {
   "cell_type": "markdown",
   "id": "8f6dba24",
   "metadata": {},
   "source": [
    "### Box Plot"
   ]
  },
  {
   "cell_type": "markdown",
   "id": "2c4f22c4",
   "metadata": {},
   "source": [
    "###### For box plot we don't need to aggregate the data it will automatically do it."
   ]
  },
  {
   "cell_type": "code",
   "execution_count": 18,
   "id": "322248e5",
   "metadata": {},
   "outputs": [
    {
     "data": {
      "application/vnd.plotly.v1+json": {
       "config": {
        "linkText": "Export to plot.ly",
        "plotlyServerURL": "https://plot.ly",
        "showLink": true
       },
       "data": [
        {
         "boxpoints": false,
         "line": {
          "width": 1.3
         },
         "marker": {
          "color": "rgba(255, 153, 51, 1.0)"
         },
         "name": "A",
         "orientation": "v",
         "type": "box",
         "y": [
          -0.6564744824764208,
          -0.44246018622678035,
          -1.4210529165487331,
          2.138912840106512,
          0.25578258692089706,
          0.39805143783044833,
          -0.12701603877964637,
          -0.7336425614675899,
          0.17166378867506915,
          0.2710840189785207,
          0.8534092997086261,
          -0.28423806801324436,
          0.680442831707899,
          1.0056126864042327,
          0.22345415383044398,
          1.3471504835508696,
          0.4868772969639054,
          -0.8560743163392702,
          0.2437582614308069,
          0.13615747280918256,
          1.7766279162229373,
          -0.047392212385020574,
          -1.478739271543873,
          0.6674437983342687,
          -1.0518729658163994,
          1.1450743950503413,
          0.45312446388413863,
          -2.247532593483744,
          -0.9380816730886774,
          0.5747550876841555,
          0.7445251795288704,
          -1.1397301094244776,
          -0.7330965447959531,
          0.0011163348157742902,
          -0.4384112915386252,
          -0.5103765163837336,
          0.2572701355520642,
          -0.2672705429298812,
          -0.3152386136033564,
          0.1641860318298152,
          -0.6148004002051985,
          0.07205002157098324,
          -2.3569799035568906,
          1.0536881549659127,
          0.026917841374375365,
          -1.5516053705251112,
          -0.37391562462327005,
          0.16636832151140332,
          2.1868099430258554,
          -0.41916960443056883,
          0.10496423203936313,
          0.6279926573009582,
          -0.6471640572249683,
          0.30945396871171144,
          -0.4692873864786442,
          -1.090176869362269,
          -0.4143546663277241,
          -0.9027350183105727,
          0.469359002390997,
          -1.4219684339163654,
          0.820847128917743,
          0.05483278813128337,
          1.2392518808560637,
          1.545366633263906,
          0.41934477765089295,
          0.8240554271196706,
          0.8649157101002072,
          -2.1965301978204814,
          0.3476863183989522,
          -0.12640063221688605,
          -1.1095799572682512,
          -0.7608133813357494,
          -2.2044745973693805,
          -2.0304273169011986,
          1.2711060359943978,
          0.13692317269969045,
          -0.0583827092739993,
          2.4115580112408193,
          -2.0777630091319015,
          0.9344928525053398,
          0.3953105866307476,
          -1.0128314490635355,
          1.3925168200064224,
          -0.2746806087720305,
          -0.15873804270543176,
          -1.2063378835963559,
          1.4659391526336598,
          0.7259062288360807,
          -0.018616086991251776,
          -1.0972073757865193,
          -1.0458427688984127,
          0.6742520113874113,
          -0.9688805187614103,
          -2.606590225991158,
          0.2665069685897831,
          0.08035808638610199,
          -1.019013237251515,
          -0.4491197717632893,
          0.9587565600232877,
          -1.2542926097550613
         ]
        },
        {
         "boxpoints": false,
         "line": {
          "width": 1.3
         },
         "marker": {
          "color": "rgba(55, 128, 191, 1.0)"
         },
         "name": "B",
         "orientation": "v",
         "type": "box",
         "y": [
          0.7580307738992594,
          -0.8625173585817463,
          -1.6366635579880784,
          -0.026788812721112613,
          0.23161175849466448,
          1.2199293002623273,
          -0.7827188654461145,
          -0.7798390650913686,
          -0.12947907683514331,
          1.0712209025603268,
          -1.6383769059706026,
          0.25328144466334795,
          1.742638202990484,
          -0.056327495806758165,
          0.9437057933647285,
          2.8831757257521318,
          -0.4852972323833704,
          -0.4567365046026048,
          1.751431838705155,
          -2.406015038199109,
          0.7666963809140104,
          0.5834452650619113,
          -0.8810627750669326,
          -0.036135506573511146,
          0.31705001021648394,
          -0.7061871317069055,
          -0.3159150502367156,
          0.08679183834852548,
          -0.8773079487843657,
          0.34059428566701344,
          1.0117894523788795,
          -1.4223713004706713,
          0.3673575618258237,
          0.7994209827176314,
          -1.1402490848522213,
          -0.3098259650285641,
          0.44816075628217805,
          0.49225862230469863,
          -0.3198429663090066,
          0.7535928972424636,
          0.4062231366911554,
          -1.08852071659089,
          1.1932699862276017,
          -0.046812403925451065,
          -0.6242289885758998,
          0.47350489169255794,
          1.3140622219608786,
          0.7095495168694461,
          0.9399012385745007,
          -0.5384307148443165,
          -0.40173779338780424,
          0.8825797641438177,
          0.6310546479945338,
          -1.4908672034369301,
          1.105551235508307,
          -1.0855229769921029,
          1.8267336788316682,
          -1.4570122535225705,
          1.0784279389579425,
          -0.23609493119741587,
          -1.4518345771106087,
          -0.936347192855875,
          -0.516520118557937,
          1.9069306637372558,
          1.662383470919966,
          0.9539323596162675,
          -1.4309045262582105,
          0.13734272360761482,
          0.9725589422670315,
          0.19749937583635072,
          0.74497483397035,
          0.13798664679425274,
          -0.15382944980659588,
          0.42496202557755824,
          0.9446417743242981,
          1.4187557504647668,
          0.6373039613528989,
          1.0420549704138093,
          0.7428217879179443,
          -0.5985146435300484,
          1.3981806462267188,
          -0.6561336730020627,
          -0.4070023977511638,
          -0.452667589405772,
          -0.20514059006008803,
          0.011753641259448565,
          0.18499711275591785,
          0.44806318398005307,
          -0.7264420958566794,
          0.2040679431299117,
          -1.001927548621951,
          -1.2416331719420421,
          -1.6536030828556114,
          0.04634236549350992,
          -0.4952910163578565,
          0.22935390509840975,
          -0.9281710976792457,
          0.5036946030081555,
          -0.43453838988986104,
          -0.9682049615136412
         ]
        },
        {
         "boxpoints": false,
         "line": {
          "width": 1.3
         },
         "marker": {
          "color": "rgba(50, 171, 96, 1.0)"
         },
         "name": "C",
         "orientation": "v",
         "type": "box",
         "y": [
          -0.42328414092118744,
          1.0353472703466378,
          -0.0294408149925103,
          -1.3080779107417164,
          0.25711409791473455,
          0.44151315445685657,
          -0.3195050000927743,
          -0.0782500400354517,
          0.3676051961488906,
          -0.2978329257209743,
          -0.2766171637298272,
          -0.24694369601875368,
          -0.10309387266580315,
          0.7002446278340115,
          0.6308102905466025,
          2.0903240423469898,
          -0.2317200157760494,
          -0.5234257695437491,
          1.8548080260680004,
          0.4462577324476635,
          0.16869572021215656,
          -0.2016134910168743,
          1.136302564871149,
          0.09046804222624254,
          0.09604573434310844,
          0.7101795501867115,
          -2.2211369990891976,
          0.9989208680144112,
          -1.9128529841297661,
          -0.23169876192442396,
          1.5039552670839198,
          0.07453974564807933,
          1.6458237555562663,
          -1.1306690961320491,
          1.8809855537953806,
          1.132954840145376,
          1.896604275133463,
          0.5134515307830606,
          0.24846752386668378,
          -1.2813358260908256,
          -1.010521716642204,
          -2.3311459813542825,
          -0.6680178594950927,
          -0.816257723324524,
          -0.31215073260909865,
          0.2896328233261768,
          -0.2942037452702574,
          -1.024219271919298,
          -1.401699272632873,
          -0.5209246285045438,
          0.7320320730304343,
          0.5283941356938554,
          -1.1817292342895411,
          -1.3859581339557363,
          0.8237850642318686,
          0.9257312630709252,
          -1.599339160178483,
          -2.161194784895461,
          0.6964050088817003,
          1.5000282089604031,
          0.08725442825022327,
          0.20878016257964457,
          0.05873282026572182,
          0.6161988103482395,
          1.834148373840194,
          -1.2540834843384059,
          0.6871027942149779,
          0.026056859698059952,
          -0.4923515756312518,
          -0.5927746585197166,
          1.3610770586776446,
          0.47391091683380754,
          -1.043306889443504,
          -0.9509116911101757,
          -1.259416192419341,
          0.9921273537989724,
          0.987622646571816,
          -1.3342156202755444,
          0.619427880375424,
          -1.6728984990220959,
          -0.2707463551132399,
          -1.2529502080559582,
          -0.7971115155360949,
          1.5541975949074123,
          -1.1773786977491547,
          0.5423811266351756,
          0.24605744005141958,
          0.6004666442151226,
          0.07809251506709225,
          0.2266454844784491,
          1.6991242708513101,
          0.06415258070870512,
          -1.0142989668442808,
          -0.2768891447723133,
          0.2815421718642755,
          -0.8970518215859872,
          -1.408365328601296,
          -0.7172290558737238,
          -0.9120682724390551,
          -0.3758549478690623
         ]
        },
        {
         "boxpoints": false,
         "line": {
          "width": 1.3
         },
         "marker": {
          "color": "rgba(128, 0, 128, 1.0)"
         },
         "name": "D",
         "orientation": "v",
         "type": "box",
         "y": [
          -0.10716739297592093,
          0.9479447284269172,
          1.370449958759234,
          -0.3486615965666615,
          1.7595465505714352,
          1.2108974389734368,
          -0.2558252394530886,
          -0.3260742183018137,
          -1.0322519522885203,
          0.16297492715093576,
          -1.4054321746177054,
          -0.00698178770017601,
          2.061329468159568,
          0.9141131146417977,
          0.8540937334668862,
          -0.2863489155732238,
          -0.5347005786338509,
          0.890134217321711,
          -0.950323074305132,
          -0.13587532077936681,
          -0.12484544447554184,
          -0.9370911689176806,
          1.3146357722090332,
          -0.979263981063374,
          1.6873436206550463,
          0.025813178944782612,
          0.504914906087867,
          -0.6052362964597082,
          -1.066220133411954,
          1.1234871186905926,
          0.846274540328193,
          -1.0831796372168665,
          1.06996558045424,
          -0.5118601253884535,
          0.10609320920173515,
          0.535557285109827,
          -0.3984491458827878,
          0.05999073369188505,
          -0.0074878011174125784,
          0.4670072811114906,
          0.3457846756450776,
          -0.06540687218194201,
          0.3344504087283477,
          -0.36236153907488633,
          0.12095079414114726,
          -0.2864767074860481,
          -0.9504952195194385,
          -0.08660523507889167,
          -0.10925485119560914,
          -0.8138806328071769,
          -1.1545992931889217,
          0.9980930558710237,
          0.9183716149515965,
          0.6686252676065014,
          0.11654882546394174,
          0.7979385777603432,
          0.08313121585625391,
          -0.06228743418704124,
          1.6011316341757469,
          -0.3155469149620852,
          0.33716677390464384,
          0.7654842236614688,
          0.609143054712147,
          0.2542674371087768,
          0.38922056390307846,
          -1.3521129363192337,
          -0.4146807398899897,
          -0.6601327716673171,
          0.05342590961294951,
          0.03553851069847322,
          -0.05992784857539338,
          -1.046987014575927,
          0.619076819809439,
          -0.043419863957865255,
          -0.8376319917789405,
          -0.7475893747085525,
          -1.1474612757784273,
          -0.4437291270075998,
          0.7188952225519313,
          1.2749955498757781,
          0.6180104532009417,
          1.1040970559403493,
          -0.6904557848469052,
          0.9700683280446663,
          -2.615923999858738,
          0.20587985862580907,
          -1.2747922174592787,
          0.04425500071520386,
          -0.6111696155178268,
          -1.8934406758301399,
          0.3125770370371499,
          1.993201331082072,
          0.47292052826578557,
          1.758906521973015,
          1.2655394276257803,
          0.9414468603637745,
          0.7297611658319217,
          -0.29012638219263476,
          -0.581399645596098,
          0.7532369215612564
         ]
        }
       ],
       "layout": {
        "legend": {
         "bgcolor": "#F5F6F9",
         "font": {
          "color": "#4D5663"
         }
        },
        "paper_bgcolor": "#F5F6F9",
        "plot_bgcolor": "#F5F6F9",
        "template": {
         "data": {
          "bar": [
           {
            "error_x": {
             "color": "#2a3f5f"
            },
            "error_y": {
             "color": "#2a3f5f"
            },
            "marker": {
             "line": {
              "color": "#E5ECF6",
              "width": 0.5
             },
             "pattern": {
              "fillmode": "overlay",
              "size": 10,
              "solidity": 0.2
             }
            },
            "type": "bar"
           }
          ],
          "barpolar": [
           {
            "marker": {
             "line": {
              "color": "#E5ECF6",
              "width": 0.5
             },
             "pattern": {
              "fillmode": "overlay",
              "size": 10,
              "solidity": 0.2
             }
            },
            "type": "barpolar"
           }
          ],
          "carpet": [
           {
            "aaxis": {
             "endlinecolor": "#2a3f5f",
             "gridcolor": "white",
             "linecolor": "white",
             "minorgridcolor": "white",
             "startlinecolor": "#2a3f5f"
            },
            "baxis": {
             "endlinecolor": "#2a3f5f",
             "gridcolor": "white",
             "linecolor": "white",
             "minorgridcolor": "white",
             "startlinecolor": "#2a3f5f"
            },
            "type": "carpet"
           }
          ],
          "choropleth": [
           {
            "colorbar": {
             "outlinewidth": 0,
             "ticks": ""
            },
            "type": "choropleth"
           }
          ],
          "contour": [
           {
            "colorbar": {
             "outlinewidth": 0,
             "ticks": ""
            },
            "colorscale": [
             [
              0,
              "#0d0887"
             ],
             [
              0.1111111111111111,
              "#46039f"
             ],
             [
              0.2222222222222222,
              "#7201a8"
             ],
             [
              0.3333333333333333,
              "#9c179e"
             ],
             [
              0.4444444444444444,
              "#bd3786"
             ],
             [
              0.5555555555555556,
              "#d8576b"
             ],
             [
              0.6666666666666666,
              "#ed7953"
             ],
             [
              0.7777777777777778,
              "#fb9f3a"
             ],
             [
              0.8888888888888888,
              "#fdca26"
             ],
             [
              1,
              "#f0f921"
             ]
            ],
            "type": "contour"
           }
          ],
          "contourcarpet": [
           {
            "colorbar": {
             "outlinewidth": 0,
             "ticks": ""
            },
            "type": "contourcarpet"
           }
          ],
          "heatmap": [
           {
            "colorbar": {
             "outlinewidth": 0,
             "ticks": ""
            },
            "colorscale": [
             [
              0,
              "#0d0887"
             ],
             [
              0.1111111111111111,
              "#46039f"
             ],
             [
              0.2222222222222222,
              "#7201a8"
             ],
             [
              0.3333333333333333,
              "#9c179e"
             ],
             [
              0.4444444444444444,
              "#bd3786"
             ],
             [
              0.5555555555555556,
              "#d8576b"
             ],
             [
              0.6666666666666666,
              "#ed7953"
             ],
             [
              0.7777777777777778,
              "#fb9f3a"
             ],
             [
              0.8888888888888888,
              "#fdca26"
             ],
             [
              1,
              "#f0f921"
             ]
            ],
            "type": "heatmap"
           }
          ],
          "heatmapgl": [
           {
            "colorbar": {
             "outlinewidth": 0,
             "ticks": ""
            },
            "colorscale": [
             [
              0,
              "#0d0887"
             ],
             [
              0.1111111111111111,
              "#46039f"
             ],
             [
              0.2222222222222222,
              "#7201a8"
             ],
             [
              0.3333333333333333,
              "#9c179e"
             ],
             [
              0.4444444444444444,
              "#bd3786"
             ],
             [
              0.5555555555555556,
              "#d8576b"
             ],
             [
              0.6666666666666666,
              "#ed7953"
             ],
             [
              0.7777777777777778,
              "#fb9f3a"
             ],
             [
              0.8888888888888888,
              "#fdca26"
             ],
             [
              1,
              "#f0f921"
             ]
            ],
            "type": "heatmapgl"
           }
          ],
          "histogram": [
           {
            "marker": {
             "pattern": {
              "fillmode": "overlay",
              "size": 10,
              "solidity": 0.2
             }
            },
            "type": "histogram"
           }
          ],
          "histogram2d": [
           {
            "colorbar": {
             "outlinewidth": 0,
             "ticks": ""
            },
            "colorscale": [
             [
              0,
              "#0d0887"
             ],
             [
              0.1111111111111111,
              "#46039f"
             ],
             [
              0.2222222222222222,
              "#7201a8"
             ],
             [
              0.3333333333333333,
              "#9c179e"
             ],
             [
              0.4444444444444444,
              "#bd3786"
             ],
             [
              0.5555555555555556,
              "#d8576b"
             ],
             [
              0.6666666666666666,
              "#ed7953"
             ],
             [
              0.7777777777777778,
              "#fb9f3a"
             ],
             [
              0.8888888888888888,
              "#fdca26"
             ],
             [
              1,
              "#f0f921"
             ]
            ],
            "type": "histogram2d"
           }
          ],
          "histogram2dcontour": [
           {
            "colorbar": {
             "outlinewidth": 0,
             "ticks": ""
            },
            "colorscale": [
             [
              0,
              "#0d0887"
             ],
             [
              0.1111111111111111,
              "#46039f"
             ],
             [
              0.2222222222222222,
              "#7201a8"
             ],
             [
              0.3333333333333333,
              "#9c179e"
             ],
             [
              0.4444444444444444,
              "#bd3786"
             ],
             [
              0.5555555555555556,
              "#d8576b"
             ],
             [
              0.6666666666666666,
              "#ed7953"
             ],
             [
              0.7777777777777778,
              "#fb9f3a"
             ],
             [
              0.8888888888888888,
              "#fdca26"
             ],
             [
              1,
              "#f0f921"
             ]
            ],
            "type": "histogram2dcontour"
           }
          ],
          "mesh3d": [
           {
            "colorbar": {
             "outlinewidth": 0,
             "ticks": ""
            },
            "type": "mesh3d"
           }
          ],
          "parcoords": [
           {
            "line": {
             "colorbar": {
              "outlinewidth": 0,
              "ticks": ""
             }
            },
            "type": "parcoords"
           }
          ],
          "pie": [
           {
            "automargin": true,
            "type": "pie"
           }
          ],
          "scatter": [
           {
            "marker": {
             "colorbar": {
              "outlinewidth": 0,
              "ticks": ""
             }
            },
            "type": "scatter"
           }
          ],
          "scatter3d": [
           {
            "line": {
             "colorbar": {
              "outlinewidth": 0,
              "ticks": ""
             }
            },
            "marker": {
             "colorbar": {
              "outlinewidth": 0,
              "ticks": ""
             }
            },
            "type": "scatter3d"
           }
          ],
          "scattercarpet": [
           {
            "marker": {
             "colorbar": {
              "outlinewidth": 0,
              "ticks": ""
             }
            },
            "type": "scattercarpet"
           }
          ],
          "scattergeo": [
           {
            "marker": {
             "colorbar": {
              "outlinewidth": 0,
              "ticks": ""
             }
            },
            "type": "scattergeo"
           }
          ],
          "scattergl": [
           {
            "marker": {
             "colorbar": {
              "outlinewidth": 0,
              "ticks": ""
             }
            },
            "type": "scattergl"
           }
          ],
          "scattermapbox": [
           {
            "marker": {
             "colorbar": {
              "outlinewidth": 0,
              "ticks": ""
             }
            },
            "type": "scattermapbox"
           }
          ],
          "scatterpolar": [
           {
            "marker": {
             "colorbar": {
              "outlinewidth": 0,
              "ticks": ""
             }
            },
            "type": "scatterpolar"
           }
          ],
          "scatterpolargl": [
           {
            "marker": {
             "colorbar": {
              "outlinewidth": 0,
              "ticks": ""
             }
            },
            "type": "scatterpolargl"
           }
          ],
          "scatterternary": [
           {
            "marker": {
             "colorbar": {
              "outlinewidth": 0,
              "ticks": ""
             }
            },
            "type": "scatterternary"
           }
          ],
          "surface": [
           {
            "colorbar": {
             "outlinewidth": 0,
             "ticks": ""
            },
            "colorscale": [
             [
              0,
              "#0d0887"
             ],
             [
              0.1111111111111111,
              "#46039f"
             ],
             [
              0.2222222222222222,
              "#7201a8"
             ],
             [
              0.3333333333333333,
              "#9c179e"
             ],
             [
              0.4444444444444444,
              "#bd3786"
             ],
             [
              0.5555555555555556,
              "#d8576b"
             ],
             [
              0.6666666666666666,
              "#ed7953"
             ],
             [
              0.7777777777777778,
              "#fb9f3a"
             ],
             [
              0.8888888888888888,
              "#fdca26"
             ],
             [
              1,
              "#f0f921"
             ]
            ],
            "type": "surface"
           }
          ],
          "table": [
           {
            "cells": {
             "fill": {
              "color": "#EBF0F8"
             },
             "line": {
              "color": "white"
             }
            },
            "header": {
             "fill": {
              "color": "#C8D4E3"
             },
             "line": {
              "color": "white"
             }
            },
            "type": "table"
           }
          ]
         },
         "layout": {
          "annotationdefaults": {
           "arrowcolor": "#2a3f5f",
           "arrowhead": 0,
           "arrowwidth": 1
          },
          "autotypenumbers": "strict",
          "coloraxis": {
           "colorbar": {
            "outlinewidth": 0,
            "ticks": ""
           }
          },
          "colorscale": {
           "diverging": [
            [
             0,
             "#8e0152"
            ],
            [
             0.1,
             "#c51b7d"
            ],
            [
             0.2,
             "#de77ae"
            ],
            [
             0.3,
             "#f1b6da"
            ],
            [
             0.4,
             "#fde0ef"
            ],
            [
             0.5,
             "#f7f7f7"
            ],
            [
             0.6,
             "#e6f5d0"
            ],
            [
             0.7,
             "#b8e186"
            ],
            [
             0.8,
             "#7fbc41"
            ],
            [
             0.9,
             "#4d9221"
            ],
            [
             1,
             "#276419"
            ]
           ],
           "sequential": [
            [
             0,
             "#0d0887"
            ],
            [
             0.1111111111111111,
             "#46039f"
            ],
            [
             0.2222222222222222,
             "#7201a8"
            ],
            [
             0.3333333333333333,
             "#9c179e"
            ],
            [
             0.4444444444444444,
             "#bd3786"
            ],
            [
             0.5555555555555556,
             "#d8576b"
            ],
            [
             0.6666666666666666,
             "#ed7953"
            ],
            [
             0.7777777777777778,
             "#fb9f3a"
            ],
            [
             0.8888888888888888,
             "#fdca26"
            ],
            [
             1,
             "#f0f921"
            ]
           ],
           "sequentialminus": [
            [
             0,
             "#0d0887"
            ],
            [
             0.1111111111111111,
             "#46039f"
            ],
            [
             0.2222222222222222,
             "#7201a8"
            ],
            [
             0.3333333333333333,
             "#9c179e"
            ],
            [
             0.4444444444444444,
             "#bd3786"
            ],
            [
             0.5555555555555556,
             "#d8576b"
            ],
            [
             0.6666666666666666,
             "#ed7953"
            ],
            [
             0.7777777777777778,
             "#fb9f3a"
            ],
            [
             0.8888888888888888,
             "#fdca26"
            ],
            [
             1,
             "#f0f921"
            ]
           ]
          },
          "colorway": [
           "#636efa",
           "#EF553B",
           "#00cc96",
           "#ab63fa",
           "#FFA15A",
           "#19d3f3",
           "#FF6692",
           "#B6E880",
           "#FF97FF",
           "#FECB52"
          ],
          "font": {
           "color": "#2a3f5f"
          },
          "geo": {
           "bgcolor": "white",
           "lakecolor": "white",
           "landcolor": "#E5ECF6",
           "showlakes": true,
           "showland": true,
           "subunitcolor": "white"
          },
          "hoverlabel": {
           "align": "left"
          },
          "hovermode": "closest",
          "mapbox": {
           "style": "light"
          },
          "paper_bgcolor": "white",
          "plot_bgcolor": "#E5ECF6",
          "polar": {
           "angularaxis": {
            "gridcolor": "white",
            "linecolor": "white",
            "ticks": ""
           },
           "bgcolor": "#E5ECF6",
           "radialaxis": {
            "gridcolor": "white",
            "linecolor": "white",
            "ticks": ""
           }
          },
          "scene": {
           "xaxis": {
            "backgroundcolor": "#E5ECF6",
            "gridcolor": "white",
            "gridwidth": 2,
            "linecolor": "white",
            "showbackground": true,
            "ticks": "",
            "zerolinecolor": "white"
           },
           "yaxis": {
            "backgroundcolor": "#E5ECF6",
            "gridcolor": "white",
            "gridwidth": 2,
            "linecolor": "white",
            "showbackground": true,
            "ticks": "",
            "zerolinecolor": "white"
           },
           "zaxis": {
            "backgroundcolor": "#E5ECF6",
            "gridcolor": "white",
            "gridwidth": 2,
            "linecolor": "white",
            "showbackground": true,
            "ticks": "",
            "zerolinecolor": "white"
           }
          },
          "shapedefaults": {
           "line": {
            "color": "#2a3f5f"
           }
          },
          "ternary": {
           "aaxis": {
            "gridcolor": "white",
            "linecolor": "white",
            "ticks": ""
           },
           "baxis": {
            "gridcolor": "white",
            "linecolor": "white",
            "ticks": ""
           },
           "bgcolor": "#E5ECF6",
           "caxis": {
            "gridcolor": "white",
            "linecolor": "white",
            "ticks": ""
           }
          },
          "title": {
           "x": 0.05
          },
          "xaxis": {
           "automargin": true,
           "gridcolor": "white",
           "linecolor": "white",
           "ticks": "",
           "title": {
            "standoff": 15
           },
           "zerolinecolor": "white",
           "zerolinewidth": 2
          },
          "yaxis": {
           "automargin": true,
           "gridcolor": "white",
           "linecolor": "white",
           "ticks": "",
           "title": {
            "standoff": 15
           },
           "zerolinecolor": "white",
           "zerolinewidth": 2
          }
         }
        },
        "title": {
         "font": {
          "color": "#4D5663"
         }
        },
        "xaxis": {
         "gridcolor": "#E1E5ED",
         "showgrid": true,
         "tickfont": {
          "color": "#4D5663"
         },
         "title": {
          "font": {
           "color": "#4D5663"
          },
          "text": ""
         },
         "zerolinecolor": "#E1E5ED"
        },
        "yaxis": {
         "gridcolor": "#E1E5ED",
         "showgrid": true,
         "tickfont": {
          "color": "#4D5663"
         },
         "title": {
          "font": {
           "color": "#4D5663"
          },
          "text": ""
         },
         "zerolinecolor": "#E1E5ED"
        }
       }
      },
      "text/html": [
       "<div>                            <div id=\"058c0ded-4616-4a46-81ba-6effb1ee1ff6\" class=\"plotly-graph-div\" style=\"height:525px; width:100%;\"></div>            <script type=\"text/javascript\">                require([\"plotly\"], function(Plotly) {                    window.PLOTLYENV=window.PLOTLYENV || {};\n",
       "                    window.PLOTLYENV.BASE_URL='https://plot.ly';                                    if (document.getElementById(\"058c0ded-4616-4a46-81ba-6effb1ee1ff6\")) {                    Plotly.newPlot(                        \"058c0ded-4616-4a46-81ba-6effb1ee1ff6\",                        [{\"boxpoints\":false,\"line\":{\"width\":1.3},\"marker\":{\"color\":\"rgba(255, 153, 51, 1.0)\"},\"name\":\"A\",\"orientation\":\"v\",\"y\":[-0.6564744824764208,-0.44246018622678035,-1.4210529165487331,2.138912840106512,0.25578258692089706,0.39805143783044833,-0.12701603877964637,-0.7336425614675899,0.17166378867506915,0.2710840189785207,0.8534092997086261,-0.28423806801324436,0.680442831707899,1.0056126864042327,0.22345415383044398,1.3471504835508696,0.4868772969639054,-0.8560743163392702,0.2437582614308069,0.13615747280918256,1.7766279162229373,-0.047392212385020574,-1.478739271543873,0.6674437983342687,-1.0518729658163994,1.1450743950503413,0.45312446388413863,-2.247532593483744,-0.9380816730886774,0.5747550876841555,0.7445251795288704,-1.1397301094244776,-0.7330965447959531,0.0011163348157742902,-0.4384112915386252,-0.5103765163837336,0.2572701355520642,-0.2672705429298812,-0.3152386136033564,0.1641860318298152,-0.6148004002051985,0.07205002157098324,-2.3569799035568906,1.0536881549659127,0.026917841374375365,-1.5516053705251112,-0.37391562462327005,0.16636832151140332,2.1868099430258554,-0.41916960443056883,0.10496423203936313,0.6279926573009582,-0.6471640572249683,0.30945396871171144,-0.4692873864786442,-1.090176869362269,-0.4143546663277241,-0.9027350183105727,0.469359002390997,-1.4219684339163654,0.820847128917743,0.05483278813128337,1.2392518808560637,1.545366633263906,0.41934477765089295,0.8240554271196706,0.8649157101002072,-2.1965301978204814,0.3476863183989522,-0.12640063221688605,-1.1095799572682512,-0.7608133813357494,-2.2044745973693805,-2.0304273169011986,1.2711060359943978,0.13692317269969045,-0.0583827092739993,2.4115580112408193,-2.0777630091319015,0.9344928525053398,0.3953105866307476,-1.0128314490635355,1.3925168200064224,-0.2746806087720305,-0.15873804270543176,-1.2063378835963559,1.4659391526336598,0.7259062288360807,-0.018616086991251776,-1.0972073757865193,-1.0458427688984127,0.6742520113874113,-0.9688805187614103,-2.606590225991158,0.2665069685897831,0.08035808638610199,-1.019013237251515,-0.4491197717632893,0.9587565600232877,-1.2542926097550613],\"type\":\"box\"},{\"boxpoints\":false,\"line\":{\"width\":1.3},\"marker\":{\"color\":\"rgba(55, 128, 191, 1.0)\"},\"name\":\"B\",\"orientation\":\"v\",\"y\":[0.7580307738992594,-0.8625173585817463,-1.6366635579880784,-0.026788812721112613,0.23161175849466448,1.2199293002623273,-0.7827188654461145,-0.7798390650913686,-0.12947907683514331,1.0712209025603268,-1.6383769059706026,0.25328144466334795,1.742638202990484,-0.056327495806758165,0.9437057933647285,2.8831757257521318,-0.4852972323833704,-0.4567365046026048,1.751431838705155,-2.406015038199109,0.7666963809140104,0.5834452650619113,-0.8810627750669326,-0.036135506573511146,0.31705001021648394,-0.7061871317069055,-0.3159150502367156,0.08679183834852548,-0.8773079487843657,0.34059428566701344,1.0117894523788795,-1.4223713004706713,0.3673575618258237,0.7994209827176314,-1.1402490848522213,-0.3098259650285641,0.44816075628217805,0.49225862230469863,-0.3198429663090066,0.7535928972424636,0.4062231366911554,-1.08852071659089,1.1932699862276017,-0.046812403925451065,-0.6242289885758998,0.47350489169255794,1.3140622219608786,0.7095495168694461,0.9399012385745007,-0.5384307148443165,-0.40173779338780424,0.8825797641438177,0.6310546479945338,-1.4908672034369301,1.105551235508307,-1.0855229769921029,1.8267336788316682,-1.4570122535225705,1.0784279389579425,-0.23609493119741587,-1.4518345771106087,-0.936347192855875,-0.516520118557937,1.9069306637372558,1.662383470919966,0.9539323596162675,-1.4309045262582105,0.13734272360761482,0.9725589422670315,0.19749937583635072,0.74497483397035,0.13798664679425274,-0.15382944980659588,0.42496202557755824,0.9446417743242981,1.4187557504647668,0.6373039613528989,1.0420549704138093,0.7428217879179443,-0.5985146435300484,1.3981806462267188,-0.6561336730020627,-0.4070023977511638,-0.452667589405772,-0.20514059006008803,0.011753641259448565,0.18499711275591785,0.44806318398005307,-0.7264420958566794,0.2040679431299117,-1.001927548621951,-1.2416331719420421,-1.6536030828556114,0.04634236549350992,-0.4952910163578565,0.22935390509840975,-0.9281710976792457,0.5036946030081555,-0.43453838988986104,-0.9682049615136412],\"type\":\"box\"},{\"boxpoints\":false,\"line\":{\"width\":1.3},\"marker\":{\"color\":\"rgba(50, 171, 96, 1.0)\"},\"name\":\"C\",\"orientation\":\"v\",\"y\":[-0.42328414092118744,1.0353472703466378,-0.0294408149925103,-1.3080779107417164,0.25711409791473455,0.44151315445685657,-0.3195050000927743,-0.0782500400354517,0.3676051961488906,-0.2978329257209743,-0.2766171637298272,-0.24694369601875368,-0.10309387266580315,0.7002446278340115,0.6308102905466025,2.0903240423469898,-0.2317200157760494,-0.5234257695437491,1.8548080260680004,0.4462577324476635,0.16869572021215656,-0.2016134910168743,1.136302564871149,0.09046804222624254,0.09604573434310844,0.7101795501867115,-2.2211369990891976,0.9989208680144112,-1.9128529841297661,-0.23169876192442396,1.5039552670839198,0.07453974564807933,1.6458237555562663,-1.1306690961320491,1.8809855537953806,1.132954840145376,1.896604275133463,0.5134515307830606,0.24846752386668378,-1.2813358260908256,-1.010521716642204,-2.3311459813542825,-0.6680178594950927,-0.816257723324524,-0.31215073260909865,0.2896328233261768,-0.2942037452702574,-1.024219271919298,-1.401699272632873,-0.5209246285045438,0.7320320730304343,0.5283941356938554,-1.1817292342895411,-1.3859581339557363,0.8237850642318686,0.9257312630709252,-1.599339160178483,-2.161194784895461,0.6964050088817003,1.5000282089604031,0.08725442825022327,0.20878016257964457,0.05873282026572182,0.6161988103482395,1.834148373840194,-1.2540834843384059,0.6871027942149779,0.026056859698059952,-0.4923515756312518,-0.5927746585197166,1.3610770586776446,0.47391091683380754,-1.043306889443504,-0.9509116911101757,-1.259416192419341,0.9921273537989724,0.987622646571816,-1.3342156202755444,0.619427880375424,-1.6728984990220959,-0.2707463551132399,-1.2529502080559582,-0.7971115155360949,1.5541975949074123,-1.1773786977491547,0.5423811266351756,0.24605744005141958,0.6004666442151226,0.07809251506709225,0.2266454844784491,1.6991242708513101,0.06415258070870512,-1.0142989668442808,-0.2768891447723133,0.2815421718642755,-0.8970518215859872,-1.408365328601296,-0.7172290558737238,-0.9120682724390551,-0.3758549478690623],\"type\":\"box\"},{\"boxpoints\":false,\"line\":{\"width\":1.3},\"marker\":{\"color\":\"rgba(128, 0, 128, 1.0)\"},\"name\":\"D\",\"orientation\":\"v\",\"y\":[-0.10716739297592093,0.9479447284269172,1.370449958759234,-0.3486615965666615,1.7595465505714352,1.2108974389734368,-0.2558252394530886,-0.3260742183018137,-1.0322519522885203,0.16297492715093576,-1.4054321746177054,-0.00698178770017601,2.061329468159568,0.9141131146417977,0.8540937334668862,-0.2863489155732238,-0.5347005786338509,0.890134217321711,-0.950323074305132,-0.13587532077936681,-0.12484544447554184,-0.9370911689176806,1.3146357722090332,-0.979263981063374,1.6873436206550463,0.025813178944782612,0.504914906087867,-0.6052362964597082,-1.066220133411954,1.1234871186905926,0.846274540328193,-1.0831796372168665,1.06996558045424,-0.5118601253884535,0.10609320920173515,0.535557285109827,-0.3984491458827878,0.05999073369188505,-0.0074878011174125784,0.4670072811114906,0.3457846756450776,-0.06540687218194201,0.3344504087283477,-0.36236153907488633,0.12095079414114726,-0.2864767074860481,-0.9504952195194385,-0.08660523507889167,-0.10925485119560914,-0.8138806328071769,-1.1545992931889217,0.9980930558710237,0.9183716149515965,0.6686252676065014,0.11654882546394174,0.7979385777603432,0.08313121585625391,-0.06228743418704124,1.6011316341757469,-0.3155469149620852,0.33716677390464384,0.7654842236614688,0.609143054712147,0.2542674371087768,0.38922056390307846,-1.3521129363192337,-0.4146807398899897,-0.6601327716673171,0.05342590961294951,0.03553851069847322,-0.05992784857539338,-1.046987014575927,0.619076819809439,-0.043419863957865255,-0.8376319917789405,-0.7475893747085525,-1.1474612757784273,-0.4437291270075998,0.7188952225519313,1.2749955498757781,0.6180104532009417,1.1040970559403493,-0.6904557848469052,0.9700683280446663,-2.615923999858738,0.20587985862580907,-1.2747922174592787,0.04425500071520386,-0.6111696155178268,-1.8934406758301399,0.3125770370371499,1.993201331082072,0.47292052826578557,1.758906521973015,1.2655394276257803,0.9414468603637745,0.7297611658319217,-0.29012638219263476,-0.581399645596098,0.7532369215612564],\"type\":\"box\"}],                        {\"legend\":{\"bgcolor\":\"#F5F6F9\",\"font\":{\"color\":\"#4D5663\"}},\"paper_bgcolor\":\"#F5F6F9\",\"plot_bgcolor\":\"#F5F6F9\",\"template\":{\"data\":{\"barpolar\":[{\"marker\":{\"line\":{\"color\":\"#E5ECF6\",\"width\":0.5},\"pattern\":{\"fillmode\":\"overlay\",\"size\":10,\"solidity\":0.2}},\"type\":\"barpolar\"}],\"bar\":[{\"error_x\":{\"color\":\"#2a3f5f\"},\"error_y\":{\"color\":\"#2a3f5f\"},\"marker\":{\"line\":{\"color\":\"#E5ECF6\",\"width\":0.5},\"pattern\":{\"fillmode\":\"overlay\",\"size\":10,\"solidity\":0.2}},\"type\":\"bar\"}],\"carpet\":[{\"aaxis\":{\"endlinecolor\":\"#2a3f5f\",\"gridcolor\":\"white\",\"linecolor\":\"white\",\"minorgridcolor\":\"white\",\"startlinecolor\":\"#2a3f5f\"},\"baxis\":{\"endlinecolor\":\"#2a3f5f\",\"gridcolor\":\"white\",\"linecolor\":\"white\",\"minorgridcolor\":\"white\",\"startlinecolor\":\"#2a3f5f\"},\"type\":\"carpet\"}],\"choropleth\":[{\"colorbar\":{\"outlinewidth\":0,\"ticks\":\"\"},\"type\":\"choropleth\"}],\"contourcarpet\":[{\"colorbar\":{\"outlinewidth\":0,\"ticks\":\"\"},\"type\":\"contourcarpet\"}],\"contour\":[{\"colorbar\":{\"outlinewidth\":0,\"ticks\":\"\"},\"colorscale\":[[0.0,\"#0d0887\"],[0.1111111111111111,\"#46039f\"],[0.2222222222222222,\"#7201a8\"],[0.3333333333333333,\"#9c179e\"],[0.4444444444444444,\"#bd3786\"],[0.5555555555555556,\"#d8576b\"],[0.6666666666666666,\"#ed7953\"],[0.7777777777777778,\"#fb9f3a\"],[0.8888888888888888,\"#fdca26\"],[1.0,\"#f0f921\"]],\"type\":\"contour\"}],\"heatmapgl\":[{\"colorbar\":{\"outlinewidth\":0,\"ticks\":\"\"},\"colorscale\":[[0.0,\"#0d0887\"],[0.1111111111111111,\"#46039f\"],[0.2222222222222222,\"#7201a8\"],[0.3333333333333333,\"#9c179e\"],[0.4444444444444444,\"#bd3786\"],[0.5555555555555556,\"#d8576b\"],[0.6666666666666666,\"#ed7953\"],[0.7777777777777778,\"#fb9f3a\"],[0.8888888888888888,\"#fdca26\"],[1.0,\"#f0f921\"]],\"type\":\"heatmapgl\"}],\"heatmap\":[{\"colorbar\":{\"outlinewidth\":0,\"ticks\":\"\"},\"colorscale\":[[0.0,\"#0d0887\"],[0.1111111111111111,\"#46039f\"],[0.2222222222222222,\"#7201a8\"],[0.3333333333333333,\"#9c179e\"],[0.4444444444444444,\"#bd3786\"],[0.5555555555555556,\"#d8576b\"],[0.6666666666666666,\"#ed7953\"],[0.7777777777777778,\"#fb9f3a\"],[0.8888888888888888,\"#fdca26\"],[1.0,\"#f0f921\"]],\"type\":\"heatmap\"}],\"histogram2dcontour\":[{\"colorbar\":{\"outlinewidth\":0,\"ticks\":\"\"},\"colorscale\":[[0.0,\"#0d0887\"],[0.1111111111111111,\"#46039f\"],[0.2222222222222222,\"#7201a8\"],[0.3333333333333333,\"#9c179e\"],[0.4444444444444444,\"#bd3786\"],[0.5555555555555556,\"#d8576b\"],[0.6666666666666666,\"#ed7953\"],[0.7777777777777778,\"#fb9f3a\"],[0.8888888888888888,\"#fdca26\"],[1.0,\"#f0f921\"]],\"type\":\"histogram2dcontour\"}],\"histogram2d\":[{\"colorbar\":{\"outlinewidth\":0,\"ticks\":\"\"},\"colorscale\":[[0.0,\"#0d0887\"],[0.1111111111111111,\"#46039f\"],[0.2222222222222222,\"#7201a8\"],[0.3333333333333333,\"#9c179e\"],[0.4444444444444444,\"#bd3786\"],[0.5555555555555556,\"#d8576b\"],[0.6666666666666666,\"#ed7953\"],[0.7777777777777778,\"#fb9f3a\"],[0.8888888888888888,\"#fdca26\"],[1.0,\"#f0f921\"]],\"type\":\"histogram2d\"}],\"histogram\":[{\"marker\":{\"pattern\":{\"fillmode\":\"overlay\",\"size\":10,\"solidity\":0.2}},\"type\":\"histogram\"}],\"mesh3d\":[{\"colorbar\":{\"outlinewidth\":0,\"ticks\":\"\"},\"type\":\"mesh3d\"}],\"parcoords\":[{\"line\":{\"colorbar\":{\"outlinewidth\":0,\"ticks\":\"\"}},\"type\":\"parcoords\"}],\"pie\":[{\"automargin\":true,\"type\":\"pie\"}],\"scatter3d\":[{\"line\":{\"colorbar\":{\"outlinewidth\":0,\"ticks\":\"\"}},\"marker\":{\"colorbar\":{\"outlinewidth\":0,\"ticks\":\"\"}},\"type\":\"scatter3d\"}],\"scattercarpet\":[{\"marker\":{\"colorbar\":{\"outlinewidth\":0,\"ticks\":\"\"}},\"type\":\"scattercarpet\"}],\"scattergeo\":[{\"marker\":{\"colorbar\":{\"outlinewidth\":0,\"ticks\":\"\"}},\"type\":\"scattergeo\"}],\"scattergl\":[{\"marker\":{\"colorbar\":{\"outlinewidth\":0,\"ticks\":\"\"}},\"type\":\"scattergl\"}],\"scattermapbox\":[{\"marker\":{\"colorbar\":{\"outlinewidth\":0,\"ticks\":\"\"}},\"type\":\"scattermapbox\"}],\"scatterpolargl\":[{\"marker\":{\"colorbar\":{\"outlinewidth\":0,\"ticks\":\"\"}},\"type\":\"scatterpolargl\"}],\"scatterpolar\":[{\"marker\":{\"colorbar\":{\"outlinewidth\":0,\"ticks\":\"\"}},\"type\":\"scatterpolar\"}],\"scatter\":[{\"marker\":{\"colorbar\":{\"outlinewidth\":0,\"ticks\":\"\"}},\"type\":\"scatter\"}],\"scatterternary\":[{\"marker\":{\"colorbar\":{\"outlinewidth\":0,\"ticks\":\"\"}},\"type\":\"scatterternary\"}],\"surface\":[{\"colorbar\":{\"outlinewidth\":0,\"ticks\":\"\"},\"colorscale\":[[0.0,\"#0d0887\"],[0.1111111111111111,\"#46039f\"],[0.2222222222222222,\"#7201a8\"],[0.3333333333333333,\"#9c179e\"],[0.4444444444444444,\"#bd3786\"],[0.5555555555555556,\"#d8576b\"],[0.6666666666666666,\"#ed7953\"],[0.7777777777777778,\"#fb9f3a\"],[0.8888888888888888,\"#fdca26\"],[1.0,\"#f0f921\"]],\"type\":\"surface\"}],\"table\":[{\"cells\":{\"fill\":{\"color\":\"#EBF0F8\"},\"line\":{\"color\":\"white\"}},\"header\":{\"fill\":{\"color\":\"#C8D4E3\"},\"line\":{\"color\":\"white\"}},\"type\":\"table\"}]},\"layout\":{\"annotationdefaults\":{\"arrowcolor\":\"#2a3f5f\",\"arrowhead\":0,\"arrowwidth\":1},\"autotypenumbers\":\"strict\",\"coloraxis\":{\"colorbar\":{\"outlinewidth\":0,\"ticks\":\"\"}},\"colorscale\":{\"diverging\":[[0,\"#8e0152\"],[0.1,\"#c51b7d\"],[0.2,\"#de77ae\"],[0.3,\"#f1b6da\"],[0.4,\"#fde0ef\"],[0.5,\"#f7f7f7\"],[0.6,\"#e6f5d0\"],[0.7,\"#b8e186\"],[0.8,\"#7fbc41\"],[0.9,\"#4d9221\"],[1,\"#276419\"]],\"sequential\":[[0.0,\"#0d0887\"],[0.1111111111111111,\"#46039f\"],[0.2222222222222222,\"#7201a8\"],[0.3333333333333333,\"#9c179e\"],[0.4444444444444444,\"#bd3786\"],[0.5555555555555556,\"#d8576b\"],[0.6666666666666666,\"#ed7953\"],[0.7777777777777778,\"#fb9f3a\"],[0.8888888888888888,\"#fdca26\"],[1.0,\"#f0f921\"]],\"sequentialminus\":[[0.0,\"#0d0887\"],[0.1111111111111111,\"#46039f\"],[0.2222222222222222,\"#7201a8\"],[0.3333333333333333,\"#9c179e\"],[0.4444444444444444,\"#bd3786\"],[0.5555555555555556,\"#d8576b\"],[0.6666666666666666,\"#ed7953\"],[0.7777777777777778,\"#fb9f3a\"],[0.8888888888888888,\"#fdca26\"],[1.0,\"#f0f921\"]]},\"colorway\":[\"#636efa\",\"#EF553B\",\"#00cc96\",\"#ab63fa\",\"#FFA15A\",\"#19d3f3\",\"#FF6692\",\"#B6E880\",\"#FF97FF\",\"#FECB52\"],\"font\":{\"color\":\"#2a3f5f\"},\"geo\":{\"bgcolor\":\"white\",\"lakecolor\":\"white\",\"landcolor\":\"#E5ECF6\",\"showlakes\":true,\"showland\":true,\"subunitcolor\":\"white\"},\"hoverlabel\":{\"align\":\"left\"},\"hovermode\":\"closest\",\"mapbox\":{\"style\":\"light\"},\"paper_bgcolor\":\"white\",\"plot_bgcolor\":\"#E5ECF6\",\"polar\":{\"angularaxis\":{\"gridcolor\":\"white\",\"linecolor\":\"white\",\"ticks\":\"\"},\"bgcolor\":\"#E5ECF6\",\"radialaxis\":{\"gridcolor\":\"white\",\"linecolor\":\"white\",\"ticks\":\"\"}},\"scene\":{\"xaxis\":{\"backgroundcolor\":\"#E5ECF6\",\"gridcolor\":\"white\",\"gridwidth\":2,\"linecolor\":\"white\",\"showbackground\":true,\"ticks\":\"\",\"zerolinecolor\":\"white\"},\"yaxis\":{\"backgroundcolor\":\"#E5ECF6\",\"gridcolor\":\"white\",\"gridwidth\":2,\"linecolor\":\"white\",\"showbackground\":true,\"ticks\":\"\",\"zerolinecolor\":\"white\"},\"zaxis\":{\"backgroundcolor\":\"#E5ECF6\",\"gridcolor\":\"white\",\"gridwidth\":2,\"linecolor\":\"white\",\"showbackground\":true,\"ticks\":\"\",\"zerolinecolor\":\"white\"}},\"shapedefaults\":{\"line\":{\"color\":\"#2a3f5f\"}},\"ternary\":{\"aaxis\":{\"gridcolor\":\"white\",\"linecolor\":\"white\",\"ticks\":\"\"},\"baxis\":{\"gridcolor\":\"white\",\"linecolor\":\"white\",\"ticks\":\"\"},\"bgcolor\":\"#E5ECF6\",\"caxis\":{\"gridcolor\":\"white\",\"linecolor\":\"white\",\"ticks\":\"\"}},\"title\":{\"x\":0.05},\"xaxis\":{\"automargin\":true,\"gridcolor\":\"white\",\"linecolor\":\"white\",\"ticks\":\"\",\"title\":{\"standoff\":15},\"zerolinecolor\":\"white\",\"zerolinewidth\":2},\"yaxis\":{\"automargin\":true,\"gridcolor\":\"white\",\"linecolor\":\"white\",\"ticks\":\"\",\"title\":{\"standoff\":15},\"zerolinecolor\":\"white\",\"zerolinewidth\":2}}},\"title\":{\"font\":{\"color\":\"#4D5663\"}},\"xaxis\":{\"gridcolor\":\"#E1E5ED\",\"showgrid\":true,\"tickfont\":{\"color\":\"#4D5663\"},\"title\":{\"font\":{\"color\":\"#4D5663\"},\"text\":\"\"},\"zerolinecolor\":\"#E1E5ED\"},\"yaxis\":{\"gridcolor\":\"#E1E5ED\",\"showgrid\":true,\"tickfont\":{\"color\":\"#4D5663\"},\"title\":{\"font\":{\"color\":\"#4D5663\"},\"text\":\"\"},\"zerolinecolor\":\"#E1E5ED\"}},                        {\"showLink\": true, \"linkText\": \"Export to plot.ly\", \"plotlyServerURL\": \"https://plot.ly\", \"responsive\": true}                    ).then(function(){\n",
       "                            \n",
       "var gd = document.getElementById('058c0ded-4616-4a46-81ba-6effb1ee1ff6');\n",
       "var x = new MutationObserver(function (mutations, observer) {{\n",
       "        var display = window.getComputedStyle(gd).display;\n",
       "        if (!display || display === 'none') {{\n",
       "            console.log([gd, 'removed!']);\n",
       "            Plotly.purge(gd);\n",
       "            observer.disconnect();\n",
       "        }}\n",
       "}});\n",
       "\n",
       "// Listen for the removal of the full notebook cells\n",
       "var notebookContainer = gd.closest('#notebook-container');\n",
       "if (notebookContainer) {{\n",
       "    x.observe(notebookContainer, {childList: true});\n",
       "}}\n",
       "\n",
       "// Listen for the clearing of the current output cell\n",
       "var outputEl = gd.closest('.output');\n",
       "if (outputEl) {{\n",
       "    x.observe(outputEl, {childList: true});\n",
       "}}\n",
       "\n",
       "                        })                };                });            </script>        </div>"
      ]
     },
     "metadata": {},
     "output_type": "display_data"
    }
   ],
   "source": [
    "df1.iplot(kind = 'box')"
   ]
  },
  {
   "cell_type": "markdown",
   "id": "6171e44c",
   "metadata": {},
   "source": [
    "### 3D Surface Plot"
   ]
  },
  {
   "cell_type": "markdown",
   "id": "75fa1a35",
   "metadata": {},
   "source": [
    "###### For this we will need a new Data Frame"
   ]
  },
  {
   "cell_type": "code",
   "execution_count": 19,
   "id": "36724446",
   "metadata": {},
   "outputs": [],
   "source": [
    "df3 = pd.DataFrame({'x':[1,2,3,4,5] , 'y':[10,20,30,20,10] , 'z':[5,4,3,2,1]})"
   ]
  },
  {
   "cell_type": "code",
   "execution_count": 20,
   "id": "e0837f74",
   "metadata": {},
   "outputs": [
    {
     "data": {
      "text/html": [
       "<div>\n",
       "<style scoped>\n",
       "    .dataframe tbody tr th:only-of-type {\n",
       "        vertical-align: middle;\n",
       "    }\n",
       "\n",
       "    .dataframe tbody tr th {\n",
       "        vertical-align: top;\n",
       "    }\n",
       "\n",
       "    .dataframe thead th {\n",
       "        text-align: right;\n",
       "    }\n",
       "</style>\n",
       "<table border=\"1\" class=\"dataframe\">\n",
       "  <thead>\n",
       "    <tr style=\"text-align: right;\">\n",
       "      <th></th>\n",
       "      <th>x</th>\n",
       "      <th>y</th>\n",
       "      <th>z</th>\n",
       "    </tr>\n",
       "  </thead>\n",
       "  <tbody>\n",
       "    <tr>\n",
       "      <th>0</th>\n",
       "      <td>1</td>\n",
       "      <td>10</td>\n",
       "      <td>5</td>\n",
       "    </tr>\n",
       "    <tr>\n",
       "      <th>1</th>\n",
       "      <td>2</td>\n",
       "      <td>20</td>\n",
       "      <td>4</td>\n",
       "    </tr>\n",
       "    <tr>\n",
       "      <th>2</th>\n",
       "      <td>3</td>\n",
       "      <td>30</td>\n",
       "      <td>3</td>\n",
       "    </tr>\n",
       "    <tr>\n",
       "      <th>3</th>\n",
       "      <td>4</td>\n",
       "      <td>20</td>\n",
       "      <td>2</td>\n",
       "    </tr>\n",
       "    <tr>\n",
       "      <th>4</th>\n",
       "      <td>5</td>\n",
       "      <td>10</td>\n",
       "      <td>1</td>\n",
       "    </tr>\n",
       "  </tbody>\n",
       "</table>\n",
       "</div>"
      ],
      "text/plain": [
       "   x   y  z\n",
       "0  1  10  5\n",
       "1  2  20  4\n",
       "2  3  30  3\n",
       "3  4  20  2\n",
       "4  5  10  1"
      ]
     },
     "execution_count": 20,
     "metadata": {},
     "output_type": "execute_result"
    }
   ],
   "source": [
    "df3"
   ]
  },
  {
   "cell_type": "code",
   "execution_count": 21,
   "id": "2b98aa52",
   "metadata": {
    "scrolled": true
   },
   "outputs": [
    {
     "data": {
      "application/vnd.plotly.v1+json": {
       "config": {
        "linkText": "Export to plot.ly",
        "plotlyServerURL": "https://plot.ly",
        "showLink": true
       },
       "data": [
        {
         "colorscale": [
          [
           0,
           "rgb(255, 153, 51)"
          ],
          [
           0.1111111111111111,
           "rgb(55, 128, 191)"
          ],
          [
           0.2222222222222222,
           "rgb(50, 171, 96)"
          ],
          [
           0.3333333333333333,
           "rgb(128, 0, 128)"
          ],
          [
           0.4444444444444444,
           "rgb(219, 64, 82)"
          ],
          [
           0.5555555555555556,
           "rgb(0, 128, 128)"
          ],
          [
           0.6666666666666666,
           "rgb(255, 255, 51)"
          ],
          [
           0.7777777777777778,
           "rgb(128, 128, 0)"
          ],
          [
           0.8888888888888888,
           "rgb(251, 128, 114)"
          ],
          [
           1,
           "rgb(128, 177, 211)"
          ]
         ],
         "type": "surface",
         "x": [
          0,
          1,
          2,
          3,
          4
         ],
         "y": [
          "x",
          "y",
          "z"
         ],
         "z": [
          [
           1,
           2,
           3,
           4,
           5
          ],
          [
           10,
           20,
           30,
           20,
           10
          ],
          [
           5,
           4,
           3,
           2,
           1
          ]
         ]
        }
       ],
       "layout": {
        "legend": {
         "bgcolor": "#F5F6F9",
         "font": {
          "color": "#4D5663"
         }
        },
        "paper_bgcolor": "#F5F6F9",
        "plot_bgcolor": "#F5F6F9",
        "template": {
         "data": {
          "bar": [
           {
            "error_x": {
             "color": "#2a3f5f"
            },
            "error_y": {
             "color": "#2a3f5f"
            },
            "marker": {
             "line": {
              "color": "#E5ECF6",
              "width": 0.5
             },
             "pattern": {
              "fillmode": "overlay",
              "size": 10,
              "solidity": 0.2
             }
            },
            "type": "bar"
           }
          ],
          "barpolar": [
           {
            "marker": {
             "line": {
              "color": "#E5ECF6",
              "width": 0.5
             },
             "pattern": {
              "fillmode": "overlay",
              "size": 10,
              "solidity": 0.2
             }
            },
            "type": "barpolar"
           }
          ],
          "carpet": [
           {
            "aaxis": {
             "endlinecolor": "#2a3f5f",
             "gridcolor": "white",
             "linecolor": "white",
             "minorgridcolor": "white",
             "startlinecolor": "#2a3f5f"
            },
            "baxis": {
             "endlinecolor": "#2a3f5f",
             "gridcolor": "white",
             "linecolor": "white",
             "minorgridcolor": "white",
             "startlinecolor": "#2a3f5f"
            },
            "type": "carpet"
           }
          ],
          "choropleth": [
           {
            "colorbar": {
             "outlinewidth": 0,
             "ticks": ""
            },
            "type": "choropleth"
           }
          ],
          "contour": [
           {
            "colorbar": {
             "outlinewidth": 0,
             "ticks": ""
            },
            "colorscale": [
             [
              0,
              "#0d0887"
             ],
             [
              0.1111111111111111,
              "#46039f"
             ],
             [
              0.2222222222222222,
              "#7201a8"
             ],
             [
              0.3333333333333333,
              "#9c179e"
             ],
             [
              0.4444444444444444,
              "#bd3786"
             ],
             [
              0.5555555555555556,
              "#d8576b"
             ],
             [
              0.6666666666666666,
              "#ed7953"
             ],
             [
              0.7777777777777778,
              "#fb9f3a"
             ],
             [
              0.8888888888888888,
              "#fdca26"
             ],
             [
              1,
              "#f0f921"
             ]
            ],
            "type": "contour"
           }
          ],
          "contourcarpet": [
           {
            "colorbar": {
             "outlinewidth": 0,
             "ticks": ""
            },
            "type": "contourcarpet"
           }
          ],
          "heatmap": [
           {
            "colorbar": {
             "outlinewidth": 0,
             "ticks": ""
            },
            "colorscale": [
             [
              0,
              "#0d0887"
             ],
             [
              0.1111111111111111,
              "#46039f"
             ],
             [
              0.2222222222222222,
              "#7201a8"
             ],
             [
              0.3333333333333333,
              "#9c179e"
             ],
             [
              0.4444444444444444,
              "#bd3786"
             ],
             [
              0.5555555555555556,
              "#d8576b"
             ],
             [
              0.6666666666666666,
              "#ed7953"
             ],
             [
              0.7777777777777778,
              "#fb9f3a"
             ],
             [
              0.8888888888888888,
              "#fdca26"
             ],
             [
              1,
              "#f0f921"
             ]
            ],
            "type": "heatmap"
           }
          ],
          "heatmapgl": [
           {
            "colorbar": {
             "outlinewidth": 0,
             "ticks": ""
            },
            "colorscale": [
             [
              0,
              "#0d0887"
             ],
             [
              0.1111111111111111,
              "#46039f"
             ],
             [
              0.2222222222222222,
              "#7201a8"
             ],
             [
              0.3333333333333333,
              "#9c179e"
             ],
             [
              0.4444444444444444,
              "#bd3786"
             ],
             [
              0.5555555555555556,
              "#d8576b"
             ],
             [
              0.6666666666666666,
              "#ed7953"
             ],
             [
              0.7777777777777778,
              "#fb9f3a"
             ],
             [
              0.8888888888888888,
              "#fdca26"
             ],
             [
              1,
              "#f0f921"
             ]
            ],
            "type": "heatmapgl"
           }
          ],
          "histogram": [
           {
            "marker": {
             "pattern": {
              "fillmode": "overlay",
              "size": 10,
              "solidity": 0.2
             }
            },
            "type": "histogram"
           }
          ],
          "histogram2d": [
           {
            "colorbar": {
             "outlinewidth": 0,
             "ticks": ""
            },
            "colorscale": [
             [
              0,
              "#0d0887"
             ],
             [
              0.1111111111111111,
              "#46039f"
             ],
             [
              0.2222222222222222,
              "#7201a8"
             ],
             [
              0.3333333333333333,
              "#9c179e"
             ],
             [
              0.4444444444444444,
              "#bd3786"
             ],
             [
              0.5555555555555556,
              "#d8576b"
             ],
             [
              0.6666666666666666,
              "#ed7953"
             ],
             [
              0.7777777777777778,
              "#fb9f3a"
             ],
             [
              0.8888888888888888,
              "#fdca26"
             ],
             [
              1,
              "#f0f921"
             ]
            ],
            "type": "histogram2d"
           }
          ],
          "histogram2dcontour": [
           {
            "colorbar": {
             "outlinewidth": 0,
             "ticks": ""
            },
            "colorscale": [
             [
              0,
              "#0d0887"
             ],
             [
              0.1111111111111111,
              "#46039f"
             ],
             [
              0.2222222222222222,
              "#7201a8"
             ],
             [
              0.3333333333333333,
              "#9c179e"
             ],
             [
              0.4444444444444444,
              "#bd3786"
             ],
             [
              0.5555555555555556,
              "#d8576b"
             ],
             [
              0.6666666666666666,
              "#ed7953"
             ],
             [
              0.7777777777777778,
              "#fb9f3a"
             ],
             [
              0.8888888888888888,
              "#fdca26"
             ],
             [
              1,
              "#f0f921"
             ]
            ],
            "type": "histogram2dcontour"
           }
          ],
          "mesh3d": [
           {
            "colorbar": {
             "outlinewidth": 0,
             "ticks": ""
            },
            "type": "mesh3d"
           }
          ],
          "parcoords": [
           {
            "line": {
             "colorbar": {
              "outlinewidth": 0,
              "ticks": ""
             }
            },
            "type": "parcoords"
           }
          ],
          "pie": [
           {
            "automargin": true,
            "type": "pie"
           }
          ],
          "scatter": [
           {
            "marker": {
             "colorbar": {
              "outlinewidth": 0,
              "ticks": ""
             }
            },
            "type": "scatter"
           }
          ],
          "scatter3d": [
           {
            "line": {
             "colorbar": {
              "outlinewidth": 0,
              "ticks": ""
             }
            },
            "marker": {
             "colorbar": {
              "outlinewidth": 0,
              "ticks": ""
             }
            },
            "type": "scatter3d"
           }
          ],
          "scattercarpet": [
           {
            "marker": {
             "colorbar": {
              "outlinewidth": 0,
              "ticks": ""
             }
            },
            "type": "scattercarpet"
           }
          ],
          "scattergeo": [
           {
            "marker": {
             "colorbar": {
              "outlinewidth": 0,
              "ticks": ""
             }
            },
            "type": "scattergeo"
           }
          ],
          "scattergl": [
           {
            "marker": {
             "colorbar": {
              "outlinewidth": 0,
              "ticks": ""
             }
            },
            "type": "scattergl"
           }
          ],
          "scattermapbox": [
           {
            "marker": {
             "colorbar": {
              "outlinewidth": 0,
              "ticks": ""
             }
            },
            "type": "scattermapbox"
           }
          ],
          "scatterpolar": [
           {
            "marker": {
             "colorbar": {
              "outlinewidth": 0,
              "ticks": ""
             }
            },
            "type": "scatterpolar"
           }
          ],
          "scatterpolargl": [
           {
            "marker": {
             "colorbar": {
              "outlinewidth": 0,
              "ticks": ""
             }
            },
            "type": "scatterpolargl"
           }
          ],
          "scatterternary": [
           {
            "marker": {
             "colorbar": {
              "outlinewidth": 0,
              "ticks": ""
             }
            },
            "type": "scatterternary"
           }
          ],
          "surface": [
           {
            "colorbar": {
             "outlinewidth": 0,
             "ticks": ""
            },
            "colorscale": [
             [
              0,
              "#0d0887"
             ],
             [
              0.1111111111111111,
              "#46039f"
             ],
             [
              0.2222222222222222,
              "#7201a8"
             ],
             [
              0.3333333333333333,
              "#9c179e"
             ],
             [
              0.4444444444444444,
              "#bd3786"
             ],
             [
              0.5555555555555556,
              "#d8576b"
             ],
             [
              0.6666666666666666,
              "#ed7953"
             ],
             [
              0.7777777777777778,
              "#fb9f3a"
             ],
             [
              0.8888888888888888,
              "#fdca26"
             ],
             [
              1,
              "#f0f921"
             ]
            ],
            "type": "surface"
           }
          ],
          "table": [
           {
            "cells": {
             "fill": {
              "color": "#EBF0F8"
             },
             "line": {
              "color": "white"
             }
            },
            "header": {
             "fill": {
              "color": "#C8D4E3"
             },
             "line": {
              "color": "white"
             }
            },
            "type": "table"
           }
          ]
         },
         "layout": {
          "annotationdefaults": {
           "arrowcolor": "#2a3f5f",
           "arrowhead": 0,
           "arrowwidth": 1
          },
          "autotypenumbers": "strict",
          "coloraxis": {
           "colorbar": {
            "outlinewidth": 0,
            "ticks": ""
           }
          },
          "colorscale": {
           "diverging": [
            [
             0,
             "#8e0152"
            ],
            [
             0.1,
             "#c51b7d"
            ],
            [
             0.2,
             "#de77ae"
            ],
            [
             0.3,
             "#f1b6da"
            ],
            [
             0.4,
             "#fde0ef"
            ],
            [
             0.5,
             "#f7f7f7"
            ],
            [
             0.6,
             "#e6f5d0"
            ],
            [
             0.7,
             "#b8e186"
            ],
            [
             0.8,
             "#7fbc41"
            ],
            [
             0.9,
             "#4d9221"
            ],
            [
             1,
             "#276419"
            ]
           ],
           "sequential": [
            [
             0,
             "#0d0887"
            ],
            [
             0.1111111111111111,
             "#46039f"
            ],
            [
             0.2222222222222222,
             "#7201a8"
            ],
            [
             0.3333333333333333,
             "#9c179e"
            ],
            [
             0.4444444444444444,
             "#bd3786"
            ],
            [
             0.5555555555555556,
             "#d8576b"
            ],
            [
             0.6666666666666666,
             "#ed7953"
            ],
            [
             0.7777777777777778,
             "#fb9f3a"
            ],
            [
             0.8888888888888888,
             "#fdca26"
            ],
            [
             1,
             "#f0f921"
            ]
           ],
           "sequentialminus": [
            [
             0,
             "#0d0887"
            ],
            [
             0.1111111111111111,
             "#46039f"
            ],
            [
             0.2222222222222222,
             "#7201a8"
            ],
            [
             0.3333333333333333,
             "#9c179e"
            ],
            [
             0.4444444444444444,
             "#bd3786"
            ],
            [
             0.5555555555555556,
             "#d8576b"
            ],
            [
             0.6666666666666666,
             "#ed7953"
            ],
            [
             0.7777777777777778,
             "#fb9f3a"
            ],
            [
             0.8888888888888888,
             "#fdca26"
            ],
            [
             1,
             "#f0f921"
            ]
           ]
          },
          "colorway": [
           "#636efa",
           "#EF553B",
           "#00cc96",
           "#ab63fa",
           "#FFA15A",
           "#19d3f3",
           "#FF6692",
           "#B6E880",
           "#FF97FF",
           "#FECB52"
          ],
          "font": {
           "color": "#2a3f5f"
          },
          "geo": {
           "bgcolor": "white",
           "lakecolor": "white",
           "landcolor": "#E5ECF6",
           "showlakes": true,
           "showland": true,
           "subunitcolor": "white"
          },
          "hoverlabel": {
           "align": "left"
          },
          "hovermode": "closest",
          "mapbox": {
           "style": "light"
          },
          "paper_bgcolor": "white",
          "plot_bgcolor": "#E5ECF6",
          "polar": {
           "angularaxis": {
            "gridcolor": "white",
            "linecolor": "white",
            "ticks": ""
           },
           "bgcolor": "#E5ECF6",
           "radialaxis": {
            "gridcolor": "white",
            "linecolor": "white",
            "ticks": ""
           }
          },
          "scene": {
           "xaxis": {
            "backgroundcolor": "#E5ECF6",
            "gridcolor": "white",
            "gridwidth": 2,
            "linecolor": "white",
            "showbackground": true,
            "ticks": "",
            "zerolinecolor": "white"
           },
           "yaxis": {
            "backgroundcolor": "#E5ECF6",
            "gridcolor": "white",
            "gridwidth": 2,
            "linecolor": "white",
            "showbackground": true,
            "ticks": "",
            "zerolinecolor": "white"
           },
           "zaxis": {
            "backgroundcolor": "#E5ECF6",
            "gridcolor": "white",
            "gridwidth": 2,
            "linecolor": "white",
            "showbackground": true,
            "ticks": "",
            "zerolinecolor": "white"
           }
          },
          "shapedefaults": {
           "line": {
            "color": "#2a3f5f"
           }
          },
          "ternary": {
           "aaxis": {
            "gridcolor": "white",
            "linecolor": "white",
            "ticks": ""
           },
           "baxis": {
            "gridcolor": "white",
            "linecolor": "white",
            "ticks": ""
           },
           "bgcolor": "#E5ECF6",
           "caxis": {
            "gridcolor": "white",
            "linecolor": "white",
            "ticks": ""
           }
          },
          "title": {
           "x": 0.05
          },
          "xaxis": {
           "automargin": true,
           "gridcolor": "white",
           "linecolor": "white",
           "ticks": "",
           "title": {
            "standoff": 15
           },
           "zerolinecolor": "white",
           "zerolinewidth": 2
          },
          "yaxis": {
           "automargin": true,
           "gridcolor": "white",
           "linecolor": "white",
           "ticks": "",
           "title": {
            "standoff": 15
           },
           "zerolinecolor": "white",
           "zerolinewidth": 2
          }
         }
        },
        "title": {
         "font": {
          "color": "#4D5663"
         }
        },
        "xaxis": {
         "gridcolor": "#E1E5ED",
         "showgrid": true,
         "tickfont": {
          "color": "#4D5663"
         },
         "title": {
          "font": {
           "color": "#4D5663"
          },
          "text": ""
         },
         "zerolinecolor": "#E1E5ED"
        },
        "yaxis": {
         "gridcolor": "#E1E5ED",
         "showgrid": true,
         "tickfont": {
          "color": "#4D5663"
         },
         "title": {
          "font": {
           "color": "#4D5663"
          },
          "text": ""
         },
         "zerolinecolor": "#E1E5ED"
        }
       }
      },
      "text/html": [
       "<div>                            <div id=\"f213d94c-0026-41cc-8764-17fcff0ad148\" class=\"plotly-graph-div\" style=\"height:525px; width:100%;\"></div>            <script type=\"text/javascript\">                require([\"plotly\"], function(Plotly) {                    window.PLOTLYENV=window.PLOTLYENV || {};\n",
       "                    window.PLOTLYENV.BASE_URL='https://plot.ly';                                    if (document.getElementById(\"f213d94c-0026-41cc-8764-17fcff0ad148\")) {                    Plotly.newPlot(                        \"f213d94c-0026-41cc-8764-17fcff0ad148\",                        [{\"colorscale\":[[0.0,\"rgb(255, 153, 51)\"],[0.1111111111111111,\"rgb(55, 128, 191)\"],[0.2222222222222222,\"rgb(50, 171, 96)\"],[0.3333333333333333,\"rgb(128, 0, 128)\"],[0.4444444444444444,\"rgb(219, 64, 82)\"],[0.5555555555555556,\"rgb(0, 128, 128)\"],[0.6666666666666666,\"rgb(255, 255, 51)\"],[0.7777777777777778,\"rgb(128, 128, 0)\"],[0.8888888888888888,\"rgb(251, 128, 114)\"],[1.0,\"rgb(128, 177, 211)\"]],\"x\":[0,1,2,3,4],\"y\":[\"x\",\"y\",\"z\"],\"z\":[[1,2,3,4,5],[10,20,30,20,10],[5,4,3,2,1]],\"type\":\"surface\"}],                        {\"legend\":{\"bgcolor\":\"#F5F6F9\",\"font\":{\"color\":\"#4D5663\"}},\"paper_bgcolor\":\"#F5F6F9\",\"plot_bgcolor\":\"#F5F6F9\",\"template\":{\"data\":{\"barpolar\":[{\"marker\":{\"line\":{\"color\":\"#E5ECF6\",\"width\":0.5},\"pattern\":{\"fillmode\":\"overlay\",\"size\":10,\"solidity\":0.2}},\"type\":\"barpolar\"}],\"bar\":[{\"error_x\":{\"color\":\"#2a3f5f\"},\"error_y\":{\"color\":\"#2a3f5f\"},\"marker\":{\"line\":{\"color\":\"#E5ECF6\",\"width\":0.5},\"pattern\":{\"fillmode\":\"overlay\",\"size\":10,\"solidity\":0.2}},\"type\":\"bar\"}],\"carpet\":[{\"aaxis\":{\"endlinecolor\":\"#2a3f5f\",\"gridcolor\":\"white\",\"linecolor\":\"white\",\"minorgridcolor\":\"white\",\"startlinecolor\":\"#2a3f5f\"},\"baxis\":{\"endlinecolor\":\"#2a3f5f\",\"gridcolor\":\"white\",\"linecolor\":\"white\",\"minorgridcolor\":\"white\",\"startlinecolor\":\"#2a3f5f\"},\"type\":\"carpet\"}],\"choropleth\":[{\"colorbar\":{\"outlinewidth\":0,\"ticks\":\"\"},\"type\":\"choropleth\"}],\"contourcarpet\":[{\"colorbar\":{\"outlinewidth\":0,\"ticks\":\"\"},\"type\":\"contourcarpet\"}],\"contour\":[{\"colorbar\":{\"outlinewidth\":0,\"ticks\":\"\"},\"colorscale\":[[0.0,\"#0d0887\"],[0.1111111111111111,\"#46039f\"],[0.2222222222222222,\"#7201a8\"],[0.3333333333333333,\"#9c179e\"],[0.4444444444444444,\"#bd3786\"],[0.5555555555555556,\"#d8576b\"],[0.6666666666666666,\"#ed7953\"],[0.7777777777777778,\"#fb9f3a\"],[0.8888888888888888,\"#fdca26\"],[1.0,\"#f0f921\"]],\"type\":\"contour\"}],\"heatmapgl\":[{\"colorbar\":{\"outlinewidth\":0,\"ticks\":\"\"},\"colorscale\":[[0.0,\"#0d0887\"],[0.1111111111111111,\"#46039f\"],[0.2222222222222222,\"#7201a8\"],[0.3333333333333333,\"#9c179e\"],[0.4444444444444444,\"#bd3786\"],[0.5555555555555556,\"#d8576b\"],[0.6666666666666666,\"#ed7953\"],[0.7777777777777778,\"#fb9f3a\"],[0.8888888888888888,\"#fdca26\"],[1.0,\"#f0f921\"]],\"type\":\"heatmapgl\"}],\"heatmap\":[{\"colorbar\":{\"outlinewidth\":0,\"ticks\":\"\"},\"colorscale\":[[0.0,\"#0d0887\"],[0.1111111111111111,\"#46039f\"],[0.2222222222222222,\"#7201a8\"],[0.3333333333333333,\"#9c179e\"],[0.4444444444444444,\"#bd3786\"],[0.5555555555555556,\"#d8576b\"],[0.6666666666666666,\"#ed7953\"],[0.7777777777777778,\"#fb9f3a\"],[0.8888888888888888,\"#fdca26\"],[1.0,\"#f0f921\"]],\"type\":\"heatmap\"}],\"histogram2dcontour\":[{\"colorbar\":{\"outlinewidth\":0,\"ticks\":\"\"},\"colorscale\":[[0.0,\"#0d0887\"],[0.1111111111111111,\"#46039f\"],[0.2222222222222222,\"#7201a8\"],[0.3333333333333333,\"#9c179e\"],[0.4444444444444444,\"#bd3786\"],[0.5555555555555556,\"#d8576b\"],[0.6666666666666666,\"#ed7953\"],[0.7777777777777778,\"#fb9f3a\"],[0.8888888888888888,\"#fdca26\"],[1.0,\"#f0f921\"]],\"type\":\"histogram2dcontour\"}],\"histogram2d\":[{\"colorbar\":{\"outlinewidth\":0,\"ticks\":\"\"},\"colorscale\":[[0.0,\"#0d0887\"],[0.1111111111111111,\"#46039f\"],[0.2222222222222222,\"#7201a8\"],[0.3333333333333333,\"#9c179e\"],[0.4444444444444444,\"#bd3786\"],[0.5555555555555556,\"#d8576b\"],[0.6666666666666666,\"#ed7953\"],[0.7777777777777778,\"#fb9f3a\"],[0.8888888888888888,\"#fdca26\"],[1.0,\"#f0f921\"]],\"type\":\"histogram2d\"}],\"histogram\":[{\"marker\":{\"pattern\":{\"fillmode\":\"overlay\",\"size\":10,\"solidity\":0.2}},\"type\":\"histogram\"}],\"mesh3d\":[{\"colorbar\":{\"outlinewidth\":0,\"ticks\":\"\"},\"type\":\"mesh3d\"}],\"parcoords\":[{\"line\":{\"colorbar\":{\"outlinewidth\":0,\"ticks\":\"\"}},\"type\":\"parcoords\"}],\"pie\":[{\"automargin\":true,\"type\":\"pie\"}],\"scatter3d\":[{\"line\":{\"colorbar\":{\"outlinewidth\":0,\"ticks\":\"\"}},\"marker\":{\"colorbar\":{\"outlinewidth\":0,\"ticks\":\"\"}},\"type\":\"scatter3d\"}],\"scattercarpet\":[{\"marker\":{\"colorbar\":{\"outlinewidth\":0,\"ticks\":\"\"}},\"type\":\"scattercarpet\"}],\"scattergeo\":[{\"marker\":{\"colorbar\":{\"outlinewidth\":0,\"ticks\":\"\"}},\"type\":\"scattergeo\"}],\"scattergl\":[{\"marker\":{\"colorbar\":{\"outlinewidth\":0,\"ticks\":\"\"}},\"type\":\"scattergl\"}],\"scattermapbox\":[{\"marker\":{\"colorbar\":{\"outlinewidth\":0,\"ticks\":\"\"}},\"type\":\"scattermapbox\"}],\"scatterpolargl\":[{\"marker\":{\"colorbar\":{\"outlinewidth\":0,\"ticks\":\"\"}},\"type\":\"scatterpolargl\"}],\"scatterpolar\":[{\"marker\":{\"colorbar\":{\"outlinewidth\":0,\"ticks\":\"\"}},\"type\":\"scatterpolar\"}],\"scatter\":[{\"marker\":{\"colorbar\":{\"outlinewidth\":0,\"ticks\":\"\"}},\"type\":\"scatter\"}],\"scatterternary\":[{\"marker\":{\"colorbar\":{\"outlinewidth\":0,\"ticks\":\"\"}},\"type\":\"scatterternary\"}],\"surface\":[{\"colorbar\":{\"outlinewidth\":0,\"ticks\":\"\"},\"colorscale\":[[0.0,\"#0d0887\"],[0.1111111111111111,\"#46039f\"],[0.2222222222222222,\"#7201a8\"],[0.3333333333333333,\"#9c179e\"],[0.4444444444444444,\"#bd3786\"],[0.5555555555555556,\"#d8576b\"],[0.6666666666666666,\"#ed7953\"],[0.7777777777777778,\"#fb9f3a\"],[0.8888888888888888,\"#fdca26\"],[1.0,\"#f0f921\"]],\"type\":\"surface\"}],\"table\":[{\"cells\":{\"fill\":{\"color\":\"#EBF0F8\"},\"line\":{\"color\":\"white\"}},\"header\":{\"fill\":{\"color\":\"#C8D4E3\"},\"line\":{\"color\":\"white\"}},\"type\":\"table\"}]},\"layout\":{\"annotationdefaults\":{\"arrowcolor\":\"#2a3f5f\",\"arrowhead\":0,\"arrowwidth\":1},\"autotypenumbers\":\"strict\",\"coloraxis\":{\"colorbar\":{\"outlinewidth\":0,\"ticks\":\"\"}},\"colorscale\":{\"diverging\":[[0,\"#8e0152\"],[0.1,\"#c51b7d\"],[0.2,\"#de77ae\"],[0.3,\"#f1b6da\"],[0.4,\"#fde0ef\"],[0.5,\"#f7f7f7\"],[0.6,\"#e6f5d0\"],[0.7,\"#b8e186\"],[0.8,\"#7fbc41\"],[0.9,\"#4d9221\"],[1,\"#276419\"]],\"sequential\":[[0.0,\"#0d0887\"],[0.1111111111111111,\"#46039f\"],[0.2222222222222222,\"#7201a8\"],[0.3333333333333333,\"#9c179e\"],[0.4444444444444444,\"#bd3786\"],[0.5555555555555556,\"#d8576b\"],[0.6666666666666666,\"#ed7953\"],[0.7777777777777778,\"#fb9f3a\"],[0.8888888888888888,\"#fdca26\"],[1.0,\"#f0f921\"]],\"sequentialminus\":[[0.0,\"#0d0887\"],[0.1111111111111111,\"#46039f\"],[0.2222222222222222,\"#7201a8\"],[0.3333333333333333,\"#9c179e\"],[0.4444444444444444,\"#bd3786\"],[0.5555555555555556,\"#d8576b\"],[0.6666666666666666,\"#ed7953\"],[0.7777777777777778,\"#fb9f3a\"],[0.8888888888888888,\"#fdca26\"],[1.0,\"#f0f921\"]]},\"colorway\":[\"#636efa\",\"#EF553B\",\"#00cc96\",\"#ab63fa\",\"#FFA15A\",\"#19d3f3\",\"#FF6692\",\"#B6E880\",\"#FF97FF\",\"#FECB52\"],\"font\":{\"color\":\"#2a3f5f\"},\"geo\":{\"bgcolor\":\"white\",\"lakecolor\":\"white\",\"landcolor\":\"#E5ECF6\",\"showlakes\":true,\"showland\":true,\"subunitcolor\":\"white\"},\"hoverlabel\":{\"align\":\"left\"},\"hovermode\":\"closest\",\"mapbox\":{\"style\":\"light\"},\"paper_bgcolor\":\"white\",\"plot_bgcolor\":\"#E5ECF6\",\"polar\":{\"angularaxis\":{\"gridcolor\":\"white\",\"linecolor\":\"white\",\"ticks\":\"\"},\"bgcolor\":\"#E5ECF6\",\"radialaxis\":{\"gridcolor\":\"white\",\"linecolor\":\"white\",\"ticks\":\"\"}},\"scene\":{\"xaxis\":{\"backgroundcolor\":\"#E5ECF6\",\"gridcolor\":\"white\",\"gridwidth\":2,\"linecolor\":\"white\",\"showbackground\":true,\"ticks\":\"\",\"zerolinecolor\":\"white\"},\"yaxis\":{\"backgroundcolor\":\"#E5ECF6\",\"gridcolor\":\"white\",\"gridwidth\":2,\"linecolor\":\"white\",\"showbackground\":true,\"ticks\":\"\",\"zerolinecolor\":\"white\"},\"zaxis\":{\"backgroundcolor\":\"#E5ECF6\",\"gridcolor\":\"white\",\"gridwidth\":2,\"linecolor\":\"white\",\"showbackground\":true,\"ticks\":\"\",\"zerolinecolor\":\"white\"}},\"shapedefaults\":{\"line\":{\"color\":\"#2a3f5f\"}},\"ternary\":{\"aaxis\":{\"gridcolor\":\"white\",\"linecolor\":\"white\",\"ticks\":\"\"},\"baxis\":{\"gridcolor\":\"white\",\"linecolor\":\"white\",\"ticks\":\"\"},\"bgcolor\":\"#E5ECF6\",\"caxis\":{\"gridcolor\":\"white\",\"linecolor\":\"white\",\"ticks\":\"\"}},\"title\":{\"x\":0.05},\"xaxis\":{\"automargin\":true,\"gridcolor\":\"white\",\"linecolor\":\"white\",\"ticks\":\"\",\"title\":{\"standoff\":15},\"zerolinecolor\":\"white\",\"zerolinewidth\":2},\"yaxis\":{\"automargin\":true,\"gridcolor\":\"white\",\"linecolor\":\"white\",\"ticks\":\"\",\"title\":{\"standoff\":15},\"zerolinecolor\":\"white\",\"zerolinewidth\":2}}},\"title\":{\"font\":{\"color\":\"#4D5663\"}},\"xaxis\":{\"gridcolor\":\"#E1E5ED\",\"showgrid\":true,\"tickfont\":{\"color\":\"#4D5663\"},\"title\":{\"font\":{\"color\":\"#4D5663\"},\"text\":\"\"},\"zerolinecolor\":\"#E1E5ED\"},\"yaxis\":{\"gridcolor\":\"#E1E5ED\",\"showgrid\":true,\"tickfont\":{\"color\":\"#4D5663\"},\"title\":{\"font\":{\"color\":\"#4D5663\"},\"text\":\"\"},\"zerolinecolor\":\"#E1E5ED\"}},                        {\"showLink\": true, \"linkText\": \"Export to plot.ly\", \"plotlyServerURL\": \"https://plot.ly\", \"responsive\": true}                    ).then(function(){\n",
       "                            \n",
       "var gd = document.getElementById('f213d94c-0026-41cc-8764-17fcff0ad148');\n",
       "var x = new MutationObserver(function (mutations, observer) {{\n",
       "        var display = window.getComputedStyle(gd).display;\n",
       "        if (!display || display === 'none') {{\n",
       "            console.log([gd, 'removed!']);\n",
       "            Plotly.purge(gd);\n",
       "            observer.disconnect();\n",
       "        }}\n",
       "}});\n",
       "\n",
       "// Listen for the removal of the full notebook cells\n",
       "var notebookContainer = gd.closest('#notebook-container');\n",
       "if (notebookContainer) {{\n",
       "    x.observe(notebookContainer, {childList: true});\n",
       "}}\n",
       "\n",
       "// Listen for the clearing of the current output cell\n",
       "var outputEl = gd.closest('.output');\n",
       "if (outputEl) {{\n",
       "    x.observe(outputEl, {childList: true});\n",
       "}}\n",
       "\n",
       "                        })                };                });            </script>        </div>"
      ]
     },
     "metadata": {},
     "output_type": "display_data"
    }
   ],
   "source": [
    "df3.iplot(kind = 'surface')"
   ]
  },
  {
   "cell_type": "markdown",
   "id": "f9671907",
   "metadata": {},
   "source": [
    "###### Let's change the values and make another surface plot."
   ]
  },
  {
   "cell_type": "code",
   "execution_count": 22,
   "id": "d2a7855c",
   "metadata": {},
   "outputs": [],
   "source": [
    "df4 = pd.DataFrame({'x':[1,2,3,4,5] , 'y':[10,20,30,20,10] , 'z':[500,400,300,200,100]})"
   ]
  },
  {
   "cell_type": "code",
   "execution_count": 23,
   "id": "39a17a68",
   "metadata": {
    "scrolled": true
   },
   "outputs": [
    {
     "data": {
      "application/vnd.plotly.v1+json": {
       "config": {
        "linkText": "Export to plot.ly",
        "plotlyServerURL": "https://plot.ly",
        "showLink": true
       },
       "data": [
        {
         "colorscale": [
          [
           0,
           "rgb(255, 153, 51)"
          ],
          [
           0.1111111111111111,
           "rgb(55, 128, 191)"
          ],
          [
           0.2222222222222222,
           "rgb(50, 171, 96)"
          ],
          [
           0.3333333333333333,
           "rgb(128, 0, 128)"
          ],
          [
           0.4444444444444444,
           "rgb(219, 64, 82)"
          ],
          [
           0.5555555555555556,
           "rgb(0, 128, 128)"
          ],
          [
           0.6666666666666666,
           "rgb(255, 255, 51)"
          ],
          [
           0.7777777777777778,
           "rgb(128, 128, 0)"
          ],
          [
           0.8888888888888888,
           "rgb(251, 128, 114)"
          ],
          [
           1,
           "rgb(128, 177, 211)"
          ]
         ],
         "type": "surface",
         "x": [
          0,
          1,
          2,
          3,
          4
         ],
         "y": [
          "x",
          "y",
          "z"
         ],
         "z": [
          [
           1,
           2,
           3,
           4,
           5
          ],
          [
           10,
           20,
           30,
           20,
           10
          ],
          [
           500,
           400,
           300,
           200,
           100
          ]
         ]
        }
       ],
       "layout": {
        "legend": {
         "bgcolor": "#F5F6F9",
         "font": {
          "color": "#4D5663"
         }
        },
        "paper_bgcolor": "#F5F6F9",
        "plot_bgcolor": "#F5F6F9",
        "template": {
         "data": {
          "bar": [
           {
            "error_x": {
             "color": "#2a3f5f"
            },
            "error_y": {
             "color": "#2a3f5f"
            },
            "marker": {
             "line": {
              "color": "#E5ECF6",
              "width": 0.5
             },
             "pattern": {
              "fillmode": "overlay",
              "size": 10,
              "solidity": 0.2
             }
            },
            "type": "bar"
           }
          ],
          "barpolar": [
           {
            "marker": {
             "line": {
              "color": "#E5ECF6",
              "width": 0.5
             },
             "pattern": {
              "fillmode": "overlay",
              "size": 10,
              "solidity": 0.2
             }
            },
            "type": "barpolar"
           }
          ],
          "carpet": [
           {
            "aaxis": {
             "endlinecolor": "#2a3f5f",
             "gridcolor": "white",
             "linecolor": "white",
             "minorgridcolor": "white",
             "startlinecolor": "#2a3f5f"
            },
            "baxis": {
             "endlinecolor": "#2a3f5f",
             "gridcolor": "white",
             "linecolor": "white",
             "minorgridcolor": "white",
             "startlinecolor": "#2a3f5f"
            },
            "type": "carpet"
           }
          ],
          "choropleth": [
           {
            "colorbar": {
             "outlinewidth": 0,
             "ticks": ""
            },
            "type": "choropleth"
           }
          ],
          "contour": [
           {
            "colorbar": {
             "outlinewidth": 0,
             "ticks": ""
            },
            "colorscale": [
             [
              0,
              "#0d0887"
             ],
             [
              0.1111111111111111,
              "#46039f"
             ],
             [
              0.2222222222222222,
              "#7201a8"
             ],
             [
              0.3333333333333333,
              "#9c179e"
             ],
             [
              0.4444444444444444,
              "#bd3786"
             ],
             [
              0.5555555555555556,
              "#d8576b"
             ],
             [
              0.6666666666666666,
              "#ed7953"
             ],
             [
              0.7777777777777778,
              "#fb9f3a"
             ],
             [
              0.8888888888888888,
              "#fdca26"
             ],
             [
              1,
              "#f0f921"
             ]
            ],
            "type": "contour"
           }
          ],
          "contourcarpet": [
           {
            "colorbar": {
             "outlinewidth": 0,
             "ticks": ""
            },
            "type": "contourcarpet"
           }
          ],
          "heatmap": [
           {
            "colorbar": {
             "outlinewidth": 0,
             "ticks": ""
            },
            "colorscale": [
             [
              0,
              "#0d0887"
             ],
             [
              0.1111111111111111,
              "#46039f"
             ],
             [
              0.2222222222222222,
              "#7201a8"
             ],
             [
              0.3333333333333333,
              "#9c179e"
             ],
             [
              0.4444444444444444,
              "#bd3786"
             ],
             [
              0.5555555555555556,
              "#d8576b"
             ],
             [
              0.6666666666666666,
              "#ed7953"
             ],
             [
              0.7777777777777778,
              "#fb9f3a"
             ],
             [
              0.8888888888888888,
              "#fdca26"
             ],
             [
              1,
              "#f0f921"
             ]
            ],
            "type": "heatmap"
           }
          ],
          "heatmapgl": [
           {
            "colorbar": {
             "outlinewidth": 0,
             "ticks": ""
            },
            "colorscale": [
             [
              0,
              "#0d0887"
             ],
             [
              0.1111111111111111,
              "#46039f"
             ],
             [
              0.2222222222222222,
              "#7201a8"
             ],
             [
              0.3333333333333333,
              "#9c179e"
             ],
             [
              0.4444444444444444,
              "#bd3786"
             ],
             [
              0.5555555555555556,
              "#d8576b"
             ],
             [
              0.6666666666666666,
              "#ed7953"
             ],
             [
              0.7777777777777778,
              "#fb9f3a"
             ],
             [
              0.8888888888888888,
              "#fdca26"
             ],
             [
              1,
              "#f0f921"
             ]
            ],
            "type": "heatmapgl"
           }
          ],
          "histogram": [
           {
            "marker": {
             "pattern": {
              "fillmode": "overlay",
              "size": 10,
              "solidity": 0.2
             }
            },
            "type": "histogram"
           }
          ],
          "histogram2d": [
           {
            "colorbar": {
             "outlinewidth": 0,
             "ticks": ""
            },
            "colorscale": [
             [
              0,
              "#0d0887"
             ],
             [
              0.1111111111111111,
              "#46039f"
             ],
             [
              0.2222222222222222,
              "#7201a8"
             ],
             [
              0.3333333333333333,
              "#9c179e"
             ],
             [
              0.4444444444444444,
              "#bd3786"
             ],
             [
              0.5555555555555556,
              "#d8576b"
             ],
             [
              0.6666666666666666,
              "#ed7953"
             ],
             [
              0.7777777777777778,
              "#fb9f3a"
             ],
             [
              0.8888888888888888,
              "#fdca26"
             ],
             [
              1,
              "#f0f921"
             ]
            ],
            "type": "histogram2d"
           }
          ],
          "histogram2dcontour": [
           {
            "colorbar": {
             "outlinewidth": 0,
             "ticks": ""
            },
            "colorscale": [
             [
              0,
              "#0d0887"
             ],
             [
              0.1111111111111111,
              "#46039f"
             ],
             [
              0.2222222222222222,
              "#7201a8"
             ],
             [
              0.3333333333333333,
              "#9c179e"
             ],
             [
              0.4444444444444444,
              "#bd3786"
             ],
             [
              0.5555555555555556,
              "#d8576b"
             ],
             [
              0.6666666666666666,
              "#ed7953"
             ],
             [
              0.7777777777777778,
              "#fb9f3a"
             ],
             [
              0.8888888888888888,
              "#fdca26"
             ],
             [
              1,
              "#f0f921"
             ]
            ],
            "type": "histogram2dcontour"
           }
          ],
          "mesh3d": [
           {
            "colorbar": {
             "outlinewidth": 0,
             "ticks": ""
            },
            "type": "mesh3d"
           }
          ],
          "parcoords": [
           {
            "line": {
             "colorbar": {
              "outlinewidth": 0,
              "ticks": ""
             }
            },
            "type": "parcoords"
           }
          ],
          "pie": [
           {
            "automargin": true,
            "type": "pie"
           }
          ],
          "scatter": [
           {
            "marker": {
             "colorbar": {
              "outlinewidth": 0,
              "ticks": ""
             }
            },
            "type": "scatter"
           }
          ],
          "scatter3d": [
           {
            "line": {
             "colorbar": {
              "outlinewidth": 0,
              "ticks": ""
             }
            },
            "marker": {
             "colorbar": {
              "outlinewidth": 0,
              "ticks": ""
             }
            },
            "type": "scatter3d"
           }
          ],
          "scattercarpet": [
           {
            "marker": {
             "colorbar": {
              "outlinewidth": 0,
              "ticks": ""
             }
            },
            "type": "scattercarpet"
           }
          ],
          "scattergeo": [
           {
            "marker": {
             "colorbar": {
              "outlinewidth": 0,
              "ticks": ""
             }
            },
            "type": "scattergeo"
           }
          ],
          "scattergl": [
           {
            "marker": {
             "colorbar": {
              "outlinewidth": 0,
              "ticks": ""
             }
            },
            "type": "scattergl"
           }
          ],
          "scattermapbox": [
           {
            "marker": {
             "colorbar": {
              "outlinewidth": 0,
              "ticks": ""
             }
            },
            "type": "scattermapbox"
           }
          ],
          "scatterpolar": [
           {
            "marker": {
             "colorbar": {
              "outlinewidth": 0,
              "ticks": ""
             }
            },
            "type": "scatterpolar"
           }
          ],
          "scatterpolargl": [
           {
            "marker": {
             "colorbar": {
              "outlinewidth": 0,
              "ticks": ""
             }
            },
            "type": "scatterpolargl"
           }
          ],
          "scatterternary": [
           {
            "marker": {
             "colorbar": {
              "outlinewidth": 0,
              "ticks": ""
             }
            },
            "type": "scatterternary"
           }
          ],
          "surface": [
           {
            "colorbar": {
             "outlinewidth": 0,
             "ticks": ""
            },
            "colorscale": [
             [
              0,
              "#0d0887"
             ],
             [
              0.1111111111111111,
              "#46039f"
             ],
             [
              0.2222222222222222,
              "#7201a8"
             ],
             [
              0.3333333333333333,
              "#9c179e"
             ],
             [
              0.4444444444444444,
              "#bd3786"
             ],
             [
              0.5555555555555556,
              "#d8576b"
             ],
             [
              0.6666666666666666,
              "#ed7953"
             ],
             [
              0.7777777777777778,
              "#fb9f3a"
             ],
             [
              0.8888888888888888,
              "#fdca26"
             ],
             [
              1,
              "#f0f921"
             ]
            ],
            "type": "surface"
           }
          ],
          "table": [
           {
            "cells": {
             "fill": {
              "color": "#EBF0F8"
             },
             "line": {
              "color": "white"
             }
            },
            "header": {
             "fill": {
              "color": "#C8D4E3"
             },
             "line": {
              "color": "white"
             }
            },
            "type": "table"
           }
          ]
         },
         "layout": {
          "annotationdefaults": {
           "arrowcolor": "#2a3f5f",
           "arrowhead": 0,
           "arrowwidth": 1
          },
          "autotypenumbers": "strict",
          "coloraxis": {
           "colorbar": {
            "outlinewidth": 0,
            "ticks": ""
           }
          },
          "colorscale": {
           "diverging": [
            [
             0,
             "#8e0152"
            ],
            [
             0.1,
             "#c51b7d"
            ],
            [
             0.2,
             "#de77ae"
            ],
            [
             0.3,
             "#f1b6da"
            ],
            [
             0.4,
             "#fde0ef"
            ],
            [
             0.5,
             "#f7f7f7"
            ],
            [
             0.6,
             "#e6f5d0"
            ],
            [
             0.7,
             "#b8e186"
            ],
            [
             0.8,
             "#7fbc41"
            ],
            [
             0.9,
             "#4d9221"
            ],
            [
             1,
             "#276419"
            ]
           ],
           "sequential": [
            [
             0,
             "#0d0887"
            ],
            [
             0.1111111111111111,
             "#46039f"
            ],
            [
             0.2222222222222222,
             "#7201a8"
            ],
            [
             0.3333333333333333,
             "#9c179e"
            ],
            [
             0.4444444444444444,
             "#bd3786"
            ],
            [
             0.5555555555555556,
             "#d8576b"
            ],
            [
             0.6666666666666666,
             "#ed7953"
            ],
            [
             0.7777777777777778,
             "#fb9f3a"
            ],
            [
             0.8888888888888888,
             "#fdca26"
            ],
            [
             1,
             "#f0f921"
            ]
           ],
           "sequentialminus": [
            [
             0,
             "#0d0887"
            ],
            [
             0.1111111111111111,
             "#46039f"
            ],
            [
             0.2222222222222222,
             "#7201a8"
            ],
            [
             0.3333333333333333,
             "#9c179e"
            ],
            [
             0.4444444444444444,
             "#bd3786"
            ],
            [
             0.5555555555555556,
             "#d8576b"
            ],
            [
             0.6666666666666666,
             "#ed7953"
            ],
            [
             0.7777777777777778,
             "#fb9f3a"
            ],
            [
             0.8888888888888888,
             "#fdca26"
            ],
            [
             1,
             "#f0f921"
            ]
           ]
          },
          "colorway": [
           "#636efa",
           "#EF553B",
           "#00cc96",
           "#ab63fa",
           "#FFA15A",
           "#19d3f3",
           "#FF6692",
           "#B6E880",
           "#FF97FF",
           "#FECB52"
          ],
          "font": {
           "color": "#2a3f5f"
          },
          "geo": {
           "bgcolor": "white",
           "lakecolor": "white",
           "landcolor": "#E5ECF6",
           "showlakes": true,
           "showland": true,
           "subunitcolor": "white"
          },
          "hoverlabel": {
           "align": "left"
          },
          "hovermode": "closest",
          "mapbox": {
           "style": "light"
          },
          "paper_bgcolor": "white",
          "plot_bgcolor": "#E5ECF6",
          "polar": {
           "angularaxis": {
            "gridcolor": "white",
            "linecolor": "white",
            "ticks": ""
           },
           "bgcolor": "#E5ECF6",
           "radialaxis": {
            "gridcolor": "white",
            "linecolor": "white",
            "ticks": ""
           }
          },
          "scene": {
           "xaxis": {
            "backgroundcolor": "#E5ECF6",
            "gridcolor": "white",
            "gridwidth": 2,
            "linecolor": "white",
            "showbackground": true,
            "ticks": "",
            "zerolinecolor": "white"
           },
           "yaxis": {
            "backgroundcolor": "#E5ECF6",
            "gridcolor": "white",
            "gridwidth": 2,
            "linecolor": "white",
            "showbackground": true,
            "ticks": "",
            "zerolinecolor": "white"
           },
           "zaxis": {
            "backgroundcolor": "#E5ECF6",
            "gridcolor": "white",
            "gridwidth": 2,
            "linecolor": "white",
            "showbackground": true,
            "ticks": "",
            "zerolinecolor": "white"
           }
          },
          "shapedefaults": {
           "line": {
            "color": "#2a3f5f"
           }
          },
          "ternary": {
           "aaxis": {
            "gridcolor": "white",
            "linecolor": "white",
            "ticks": ""
           },
           "baxis": {
            "gridcolor": "white",
            "linecolor": "white",
            "ticks": ""
           },
           "bgcolor": "#E5ECF6",
           "caxis": {
            "gridcolor": "white",
            "linecolor": "white",
            "ticks": ""
           }
          },
          "title": {
           "x": 0.05
          },
          "xaxis": {
           "automargin": true,
           "gridcolor": "white",
           "linecolor": "white",
           "ticks": "",
           "title": {
            "standoff": 15
           },
           "zerolinecolor": "white",
           "zerolinewidth": 2
          },
          "yaxis": {
           "automargin": true,
           "gridcolor": "white",
           "linecolor": "white",
           "ticks": "",
           "title": {
            "standoff": 15
           },
           "zerolinecolor": "white",
           "zerolinewidth": 2
          }
         }
        },
        "title": {
         "font": {
          "color": "#4D5663"
         }
        },
        "xaxis": {
         "gridcolor": "#E1E5ED",
         "showgrid": true,
         "tickfont": {
          "color": "#4D5663"
         },
         "title": {
          "font": {
           "color": "#4D5663"
          },
          "text": ""
         },
         "zerolinecolor": "#E1E5ED"
        },
        "yaxis": {
         "gridcolor": "#E1E5ED",
         "showgrid": true,
         "tickfont": {
          "color": "#4D5663"
         },
         "title": {
          "font": {
           "color": "#4D5663"
          },
          "text": ""
         },
         "zerolinecolor": "#E1E5ED"
        }
       }
      },
      "text/html": [
       "<div>                            <div id=\"153f1637-30a7-4a50-a151-6332e129943c\" class=\"plotly-graph-div\" style=\"height:525px; width:100%;\"></div>            <script type=\"text/javascript\">                require([\"plotly\"], function(Plotly) {                    window.PLOTLYENV=window.PLOTLYENV || {};\n",
       "                    window.PLOTLYENV.BASE_URL='https://plot.ly';                                    if (document.getElementById(\"153f1637-30a7-4a50-a151-6332e129943c\")) {                    Plotly.newPlot(                        \"153f1637-30a7-4a50-a151-6332e129943c\",                        [{\"colorscale\":[[0.0,\"rgb(255, 153, 51)\"],[0.1111111111111111,\"rgb(55, 128, 191)\"],[0.2222222222222222,\"rgb(50, 171, 96)\"],[0.3333333333333333,\"rgb(128, 0, 128)\"],[0.4444444444444444,\"rgb(219, 64, 82)\"],[0.5555555555555556,\"rgb(0, 128, 128)\"],[0.6666666666666666,\"rgb(255, 255, 51)\"],[0.7777777777777778,\"rgb(128, 128, 0)\"],[0.8888888888888888,\"rgb(251, 128, 114)\"],[1.0,\"rgb(128, 177, 211)\"]],\"x\":[0,1,2,3,4],\"y\":[\"x\",\"y\",\"z\"],\"z\":[[1,2,3,4,5],[10,20,30,20,10],[500,400,300,200,100]],\"type\":\"surface\"}],                        {\"legend\":{\"bgcolor\":\"#F5F6F9\",\"font\":{\"color\":\"#4D5663\"}},\"paper_bgcolor\":\"#F5F6F9\",\"plot_bgcolor\":\"#F5F6F9\",\"template\":{\"data\":{\"barpolar\":[{\"marker\":{\"line\":{\"color\":\"#E5ECF6\",\"width\":0.5},\"pattern\":{\"fillmode\":\"overlay\",\"size\":10,\"solidity\":0.2}},\"type\":\"barpolar\"}],\"bar\":[{\"error_x\":{\"color\":\"#2a3f5f\"},\"error_y\":{\"color\":\"#2a3f5f\"},\"marker\":{\"line\":{\"color\":\"#E5ECF6\",\"width\":0.5},\"pattern\":{\"fillmode\":\"overlay\",\"size\":10,\"solidity\":0.2}},\"type\":\"bar\"}],\"carpet\":[{\"aaxis\":{\"endlinecolor\":\"#2a3f5f\",\"gridcolor\":\"white\",\"linecolor\":\"white\",\"minorgridcolor\":\"white\",\"startlinecolor\":\"#2a3f5f\"},\"baxis\":{\"endlinecolor\":\"#2a3f5f\",\"gridcolor\":\"white\",\"linecolor\":\"white\",\"minorgridcolor\":\"white\",\"startlinecolor\":\"#2a3f5f\"},\"type\":\"carpet\"}],\"choropleth\":[{\"colorbar\":{\"outlinewidth\":0,\"ticks\":\"\"},\"type\":\"choropleth\"}],\"contourcarpet\":[{\"colorbar\":{\"outlinewidth\":0,\"ticks\":\"\"},\"type\":\"contourcarpet\"}],\"contour\":[{\"colorbar\":{\"outlinewidth\":0,\"ticks\":\"\"},\"colorscale\":[[0.0,\"#0d0887\"],[0.1111111111111111,\"#46039f\"],[0.2222222222222222,\"#7201a8\"],[0.3333333333333333,\"#9c179e\"],[0.4444444444444444,\"#bd3786\"],[0.5555555555555556,\"#d8576b\"],[0.6666666666666666,\"#ed7953\"],[0.7777777777777778,\"#fb9f3a\"],[0.8888888888888888,\"#fdca26\"],[1.0,\"#f0f921\"]],\"type\":\"contour\"}],\"heatmapgl\":[{\"colorbar\":{\"outlinewidth\":0,\"ticks\":\"\"},\"colorscale\":[[0.0,\"#0d0887\"],[0.1111111111111111,\"#46039f\"],[0.2222222222222222,\"#7201a8\"],[0.3333333333333333,\"#9c179e\"],[0.4444444444444444,\"#bd3786\"],[0.5555555555555556,\"#d8576b\"],[0.6666666666666666,\"#ed7953\"],[0.7777777777777778,\"#fb9f3a\"],[0.8888888888888888,\"#fdca26\"],[1.0,\"#f0f921\"]],\"type\":\"heatmapgl\"}],\"heatmap\":[{\"colorbar\":{\"outlinewidth\":0,\"ticks\":\"\"},\"colorscale\":[[0.0,\"#0d0887\"],[0.1111111111111111,\"#46039f\"],[0.2222222222222222,\"#7201a8\"],[0.3333333333333333,\"#9c179e\"],[0.4444444444444444,\"#bd3786\"],[0.5555555555555556,\"#d8576b\"],[0.6666666666666666,\"#ed7953\"],[0.7777777777777778,\"#fb9f3a\"],[0.8888888888888888,\"#fdca26\"],[1.0,\"#f0f921\"]],\"type\":\"heatmap\"}],\"histogram2dcontour\":[{\"colorbar\":{\"outlinewidth\":0,\"ticks\":\"\"},\"colorscale\":[[0.0,\"#0d0887\"],[0.1111111111111111,\"#46039f\"],[0.2222222222222222,\"#7201a8\"],[0.3333333333333333,\"#9c179e\"],[0.4444444444444444,\"#bd3786\"],[0.5555555555555556,\"#d8576b\"],[0.6666666666666666,\"#ed7953\"],[0.7777777777777778,\"#fb9f3a\"],[0.8888888888888888,\"#fdca26\"],[1.0,\"#f0f921\"]],\"type\":\"histogram2dcontour\"}],\"histogram2d\":[{\"colorbar\":{\"outlinewidth\":0,\"ticks\":\"\"},\"colorscale\":[[0.0,\"#0d0887\"],[0.1111111111111111,\"#46039f\"],[0.2222222222222222,\"#7201a8\"],[0.3333333333333333,\"#9c179e\"],[0.4444444444444444,\"#bd3786\"],[0.5555555555555556,\"#d8576b\"],[0.6666666666666666,\"#ed7953\"],[0.7777777777777778,\"#fb9f3a\"],[0.8888888888888888,\"#fdca26\"],[1.0,\"#f0f921\"]],\"type\":\"histogram2d\"}],\"histogram\":[{\"marker\":{\"pattern\":{\"fillmode\":\"overlay\",\"size\":10,\"solidity\":0.2}},\"type\":\"histogram\"}],\"mesh3d\":[{\"colorbar\":{\"outlinewidth\":0,\"ticks\":\"\"},\"type\":\"mesh3d\"}],\"parcoords\":[{\"line\":{\"colorbar\":{\"outlinewidth\":0,\"ticks\":\"\"}},\"type\":\"parcoords\"}],\"pie\":[{\"automargin\":true,\"type\":\"pie\"}],\"scatter3d\":[{\"line\":{\"colorbar\":{\"outlinewidth\":0,\"ticks\":\"\"}},\"marker\":{\"colorbar\":{\"outlinewidth\":0,\"ticks\":\"\"}},\"type\":\"scatter3d\"}],\"scattercarpet\":[{\"marker\":{\"colorbar\":{\"outlinewidth\":0,\"ticks\":\"\"}},\"type\":\"scattercarpet\"}],\"scattergeo\":[{\"marker\":{\"colorbar\":{\"outlinewidth\":0,\"ticks\":\"\"}},\"type\":\"scattergeo\"}],\"scattergl\":[{\"marker\":{\"colorbar\":{\"outlinewidth\":0,\"ticks\":\"\"}},\"type\":\"scattergl\"}],\"scattermapbox\":[{\"marker\":{\"colorbar\":{\"outlinewidth\":0,\"ticks\":\"\"}},\"type\":\"scattermapbox\"}],\"scatterpolargl\":[{\"marker\":{\"colorbar\":{\"outlinewidth\":0,\"ticks\":\"\"}},\"type\":\"scatterpolargl\"}],\"scatterpolar\":[{\"marker\":{\"colorbar\":{\"outlinewidth\":0,\"ticks\":\"\"}},\"type\":\"scatterpolar\"}],\"scatter\":[{\"marker\":{\"colorbar\":{\"outlinewidth\":0,\"ticks\":\"\"}},\"type\":\"scatter\"}],\"scatterternary\":[{\"marker\":{\"colorbar\":{\"outlinewidth\":0,\"ticks\":\"\"}},\"type\":\"scatterternary\"}],\"surface\":[{\"colorbar\":{\"outlinewidth\":0,\"ticks\":\"\"},\"colorscale\":[[0.0,\"#0d0887\"],[0.1111111111111111,\"#46039f\"],[0.2222222222222222,\"#7201a8\"],[0.3333333333333333,\"#9c179e\"],[0.4444444444444444,\"#bd3786\"],[0.5555555555555556,\"#d8576b\"],[0.6666666666666666,\"#ed7953\"],[0.7777777777777778,\"#fb9f3a\"],[0.8888888888888888,\"#fdca26\"],[1.0,\"#f0f921\"]],\"type\":\"surface\"}],\"table\":[{\"cells\":{\"fill\":{\"color\":\"#EBF0F8\"},\"line\":{\"color\":\"white\"}},\"header\":{\"fill\":{\"color\":\"#C8D4E3\"},\"line\":{\"color\":\"white\"}},\"type\":\"table\"}]},\"layout\":{\"annotationdefaults\":{\"arrowcolor\":\"#2a3f5f\",\"arrowhead\":0,\"arrowwidth\":1},\"autotypenumbers\":\"strict\",\"coloraxis\":{\"colorbar\":{\"outlinewidth\":0,\"ticks\":\"\"}},\"colorscale\":{\"diverging\":[[0,\"#8e0152\"],[0.1,\"#c51b7d\"],[0.2,\"#de77ae\"],[0.3,\"#f1b6da\"],[0.4,\"#fde0ef\"],[0.5,\"#f7f7f7\"],[0.6,\"#e6f5d0\"],[0.7,\"#b8e186\"],[0.8,\"#7fbc41\"],[0.9,\"#4d9221\"],[1,\"#276419\"]],\"sequential\":[[0.0,\"#0d0887\"],[0.1111111111111111,\"#46039f\"],[0.2222222222222222,\"#7201a8\"],[0.3333333333333333,\"#9c179e\"],[0.4444444444444444,\"#bd3786\"],[0.5555555555555556,\"#d8576b\"],[0.6666666666666666,\"#ed7953\"],[0.7777777777777778,\"#fb9f3a\"],[0.8888888888888888,\"#fdca26\"],[1.0,\"#f0f921\"]],\"sequentialminus\":[[0.0,\"#0d0887\"],[0.1111111111111111,\"#46039f\"],[0.2222222222222222,\"#7201a8\"],[0.3333333333333333,\"#9c179e\"],[0.4444444444444444,\"#bd3786\"],[0.5555555555555556,\"#d8576b\"],[0.6666666666666666,\"#ed7953\"],[0.7777777777777778,\"#fb9f3a\"],[0.8888888888888888,\"#fdca26\"],[1.0,\"#f0f921\"]]},\"colorway\":[\"#636efa\",\"#EF553B\",\"#00cc96\",\"#ab63fa\",\"#FFA15A\",\"#19d3f3\",\"#FF6692\",\"#B6E880\",\"#FF97FF\",\"#FECB52\"],\"font\":{\"color\":\"#2a3f5f\"},\"geo\":{\"bgcolor\":\"white\",\"lakecolor\":\"white\",\"landcolor\":\"#E5ECF6\",\"showlakes\":true,\"showland\":true,\"subunitcolor\":\"white\"},\"hoverlabel\":{\"align\":\"left\"},\"hovermode\":\"closest\",\"mapbox\":{\"style\":\"light\"},\"paper_bgcolor\":\"white\",\"plot_bgcolor\":\"#E5ECF6\",\"polar\":{\"angularaxis\":{\"gridcolor\":\"white\",\"linecolor\":\"white\",\"ticks\":\"\"},\"bgcolor\":\"#E5ECF6\",\"radialaxis\":{\"gridcolor\":\"white\",\"linecolor\":\"white\",\"ticks\":\"\"}},\"scene\":{\"xaxis\":{\"backgroundcolor\":\"#E5ECF6\",\"gridcolor\":\"white\",\"gridwidth\":2,\"linecolor\":\"white\",\"showbackground\":true,\"ticks\":\"\",\"zerolinecolor\":\"white\"},\"yaxis\":{\"backgroundcolor\":\"#E5ECF6\",\"gridcolor\":\"white\",\"gridwidth\":2,\"linecolor\":\"white\",\"showbackground\":true,\"ticks\":\"\",\"zerolinecolor\":\"white\"},\"zaxis\":{\"backgroundcolor\":\"#E5ECF6\",\"gridcolor\":\"white\",\"gridwidth\":2,\"linecolor\":\"white\",\"showbackground\":true,\"ticks\":\"\",\"zerolinecolor\":\"white\"}},\"shapedefaults\":{\"line\":{\"color\":\"#2a3f5f\"}},\"ternary\":{\"aaxis\":{\"gridcolor\":\"white\",\"linecolor\":\"white\",\"ticks\":\"\"},\"baxis\":{\"gridcolor\":\"white\",\"linecolor\":\"white\",\"ticks\":\"\"},\"bgcolor\":\"#E5ECF6\",\"caxis\":{\"gridcolor\":\"white\",\"linecolor\":\"white\",\"ticks\":\"\"}},\"title\":{\"x\":0.05},\"xaxis\":{\"automargin\":true,\"gridcolor\":\"white\",\"linecolor\":\"white\",\"ticks\":\"\",\"title\":{\"standoff\":15},\"zerolinecolor\":\"white\",\"zerolinewidth\":2},\"yaxis\":{\"automargin\":true,\"gridcolor\":\"white\",\"linecolor\":\"white\",\"ticks\":\"\",\"title\":{\"standoff\":15},\"zerolinecolor\":\"white\",\"zerolinewidth\":2}}},\"title\":{\"font\":{\"color\":\"#4D5663\"}},\"xaxis\":{\"gridcolor\":\"#E1E5ED\",\"showgrid\":true,\"tickfont\":{\"color\":\"#4D5663\"},\"title\":{\"font\":{\"color\":\"#4D5663\"},\"text\":\"\"},\"zerolinecolor\":\"#E1E5ED\"},\"yaxis\":{\"gridcolor\":\"#E1E5ED\",\"showgrid\":true,\"tickfont\":{\"color\":\"#4D5663\"},\"title\":{\"font\":{\"color\":\"#4D5663\"},\"text\":\"\"},\"zerolinecolor\":\"#E1E5ED\"}},                        {\"showLink\": true, \"linkText\": \"Export to plot.ly\", \"plotlyServerURL\": \"https://plot.ly\", \"responsive\": true}                    ).then(function(){\n",
       "                            \n",
       "var gd = document.getElementById('153f1637-30a7-4a50-a151-6332e129943c');\n",
       "var x = new MutationObserver(function (mutations, observer) {{\n",
       "        var display = window.getComputedStyle(gd).display;\n",
       "        if (!display || display === 'none') {{\n",
       "            console.log([gd, 'removed!']);\n",
       "            Plotly.purge(gd);\n",
       "            observer.disconnect();\n",
       "        }}\n",
       "}});\n",
       "\n",
       "// Listen for the removal of the full notebook cells\n",
       "var notebookContainer = gd.closest('#notebook-container');\n",
       "if (notebookContainer) {{\n",
       "    x.observe(notebookContainer, {childList: true});\n",
       "}}\n",
       "\n",
       "// Listen for the clearing of the current output cell\n",
       "var outputEl = gd.closest('.output');\n",
       "if (outputEl) {{\n",
       "    x.observe(outputEl, {childList: true});\n",
       "}}\n",
       "\n",
       "                        })                };                });            </script>        </div>"
      ]
     },
     "metadata": {},
     "output_type": "display_data"
    }
   ],
   "source": [
    "df4.iplot(kind = 'surface')"
   ]
  },
  {
   "cell_type": "markdown",
   "id": "f580d89d",
   "metadata": {},
   "source": [
    "###### We can also change the color scale here by adding another parameter. rd -> red, yl -> yellow, bu -> blue"
   ]
  },
  {
   "cell_type": "code",
   "execution_count": 24,
   "id": "25c8e1fd",
   "metadata": {},
   "outputs": [
    {
     "data": {
      "application/vnd.plotly.v1+json": {
       "config": {
        "linkText": "Export to plot.ly",
        "plotlyServerURL": "https://plot.ly",
        "showLink": true
       },
       "data": [
        {
         "colorscale": [
          [
           0,
           "rgb(165,0,38)"
          ],
          [
           0.1,
           "rgb(215,48,39)"
          ],
          [
           0.2,
           "rgb(244,109,67)"
          ],
          [
           0.3,
           "rgb(253,174,97)"
          ],
          [
           0.4,
           "rgb(254,224,144)"
          ],
          [
           0.5,
           "rgb(255,255,191)"
          ],
          [
           0.6,
           "rgb(224,243,248)"
          ],
          [
           0.7,
           "rgb(171,217,233)"
          ],
          [
           0.8,
           "rgb(116,173,209)"
          ],
          [
           0.9,
           "rgb(69,117,180)"
          ],
          [
           1,
           "rgb(49,54,149)"
          ]
         ],
         "type": "surface",
         "x": [
          0,
          1,
          2,
          3,
          4
         ],
         "y": [
          "x",
          "y",
          "z"
         ],
         "z": [
          [
           1,
           2,
           3,
           4,
           5
          ],
          [
           10,
           20,
           30,
           20,
           10
          ],
          [
           500,
           400,
           300,
           200,
           100
          ]
         ]
        }
       ],
       "layout": {
        "legend": {
         "bgcolor": "#F5F6F9",
         "font": {
          "color": "#4D5663"
         }
        },
        "paper_bgcolor": "#F5F6F9",
        "plot_bgcolor": "#F5F6F9",
        "template": {
         "data": {
          "bar": [
           {
            "error_x": {
             "color": "#2a3f5f"
            },
            "error_y": {
             "color": "#2a3f5f"
            },
            "marker": {
             "line": {
              "color": "#E5ECF6",
              "width": 0.5
             },
             "pattern": {
              "fillmode": "overlay",
              "size": 10,
              "solidity": 0.2
             }
            },
            "type": "bar"
           }
          ],
          "barpolar": [
           {
            "marker": {
             "line": {
              "color": "#E5ECF6",
              "width": 0.5
             },
             "pattern": {
              "fillmode": "overlay",
              "size": 10,
              "solidity": 0.2
             }
            },
            "type": "barpolar"
           }
          ],
          "carpet": [
           {
            "aaxis": {
             "endlinecolor": "#2a3f5f",
             "gridcolor": "white",
             "linecolor": "white",
             "minorgridcolor": "white",
             "startlinecolor": "#2a3f5f"
            },
            "baxis": {
             "endlinecolor": "#2a3f5f",
             "gridcolor": "white",
             "linecolor": "white",
             "minorgridcolor": "white",
             "startlinecolor": "#2a3f5f"
            },
            "type": "carpet"
           }
          ],
          "choropleth": [
           {
            "colorbar": {
             "outlinewidth": 0,
             "ticks": ""
            },
            "type": "choropleth"
           }
          ],
          "contour": [
           {
            "colorbar": {
             "outlinewidth": 0,
             "ticks": ""
            },
            "colorscale": [
             [
              0,
              "#0d0887"
             ],
             [
              0.1111111111111111,
              "#46039f"
             ],
             [
              0.2222222222222222,
              "#7201a8"
             ],
             [
              0.3333333333333333,
              "#9c179e"
             ],
             [
              0.4444444444444444,
              "#bd3786"
             ],
             [
              0.5555555555555556,
              "#d8576b"
             ],
             [
              0.6666666666666666,
              "#ed7953"
             ],
             [
              0.7777777777777778,
              "#fb9f3a"
             ],
             [
              0.8888888888888888,
              "#fdca26"
             ],
             [
              1,
              "#f0f921"
             ]
            ],
            "type": "contour"
           }
          ],
          "contourcarpet": [
           {
            "colorbar": {
             "outlinewidth": 0,
             "ticks": ""
            },
            "type": "contourcarpet"
           }
          ],
          "heatmap": [
           {
            "colorbar": {
             "outlinewidth": 0,
             "ticks": ""
            },
            "colorscale": [
             [
              0,
              "#0d0887"
             ],
             [
              0.1111111111111111,
              "#46039f"
             ],
             [
              0.2222222222222222,
              "#7201a8"
             ],
             [
              0.3333333333333333,
              "#9c179e"
             ],
             [
              0.4444444444444444,
              "#bd3786"
             ],
             [
              0.5555555555555556,
              "#d8576b"
             ],
             [
              0.6666666666666666,
              "#ed7953"
             ],
             [
              0.7777777777777778,
              "#fb9f3a"
             ],
             [
              0.8888888888888888,
              "#fdca26"
             ],
             [
              1,
              "#f0f921"
             ]
            ],
            "type": "heatmap"
           }
          ],
          "heatmapgl": [
           {
            "colorbar": {
             "outlinewidth": 0,
             "ticks": ""
            },
            "colorscale": [
             [
              0,
              "#0d0887"
             ],
             [
              0.1111111111111111,
              "#46039f"
             ],
             [
              0.2222222222222222,
              "#7201a8"
             ],
             [
              0.3333333333333333,
              "#9c179e"
             ],
             [
              0.4444444444444444,
              "#bd3786"
             ],
             [
              0.5555555555555556,
              "#d8576b"
             ],
             [
              0.6666666666666666,
              "#ed7953"
             ],
             [
              0.7777777777777778,
              "#fb9f3a"
             ],
             [
              0.8888888888888888,
              "#fdca26"
             ],
             [
              1,
              "#f0f921"
             ]
            ],
            "type": "heatmapgl"
           }
          ],
          "histogram": [
           {
            "marker": {
             "pattern": {
              "fillmode": "overlay",
              "size": 10,
              "solidity": 0.2
             }
            },
            "type": "histogram"
           }
          ],
          "histogram2d": [
           {
            "colorbar": {
             "outlinewidth": 0,
             "ticks": ""
            },
            "colorscale": [
             [
              0,
              "#0d0887"
             ],
             [
              0.1111111111111111,
              "#46039f"
             ],
             [
              0.2222222222222222,
              "#7201a8"
             ],
             [
              0.3333333333333333,
              "#9c179e"
             ],
             [
              0.4444444444444444,
              "#bd3786"
             ],
             [
              0.5555555555555556,
              "#d8576b"
             ],
             [
              0.6666666666666666,
              "#ed7953"
             ],
             [
              0.7777777777777778,
              "#fb9f3a"
             ],
             [
              0.8888888888888888,
              "#fdca26"
             ],
             [
              1,
              "#f0f921"
             ]
            ],
            "type": "histogram2d"
           }
          ],
          "histogram2dcontour": [
           {
            "colorbar": {
             "outlinewidth": 0,
             "ticks": ""
            },
            "colorscale": [
             [
              0,
              "#0d0887"
             ],
             [
              0.1111111111111111,
              "#46039f"
             ],
             [
              0.2222222222222222,
              "#7201a8"
             ],
             [
              0.3333333333333333,
              "#9c179e"
             ],
             [
              0.4444444444444444,
              "#bd3786"
             ],
             [
              0.5555555555555556,
              "#d8576b"
             ],
             [
              0.6666666666666666,
              "#ed7953"
             ],
             [
              0.7777777777777778,
              "#fb9f3a"
             ],
             [
              0.8888888888888888,
              "#fdca26"
             ],
             [
              1,
              "#f0f921"
             ]
            ],
            "type": "histogram2dcontour"
           }
          ],
          "mesh3d": [
           {
            "colorbar": {
             "outlinewidth": 0,
             "ticks": ""
            },
            "type": "mesh3d"
           }
          ],
          "parcoords": [
           {
            "line": {
             "colorbar": {
              "outlinewidth": 0,
              "ticks": ""
             }
            },
            "type": "parcoords"
           }
          ],
          "pie": [
           {
            "automargin": true,
            "type": "pie"
           }
          ],
          "scatter": [
           {
            "marker": {
             "colorbar": {
              "outlinewidth": 0,
              "ticks": ""
             }
            },
            "type": "scatter"
           }
          ],
          "scatter3d": [
           {
            "line": {
             "colorbar": {
              "outlinewidth": 0,
              "ticks": ""
             }
            },
            "marker": {
             "colorbar": {
              "outlinewidth": 0,
              "ticks": ""
             }
            },
            "type": "scatter3d"
           }
          ],
          "scattercarpet": [
           {
            "marker": {
             "colorbar": {
              "outlinewidth": 0,
              "ticks": ""
             }
            },
            "type": "scattercarpet"
           }
          ],
          "scattergeo": [
           {
            "marker": {
             "colorbar": {
              "outlinewidth": 0,
              "ticks": ""
             }
            },
            "type": "scattergeo"
           }
          ],
          "scattergl": [
           {
            "marker": {
             "colorbar": {
              "outlinewidth": 0,
              "ticks": ""
             }
            },
            "type": "scattergl"
           }
          ],
          "scattermapbox": [
           {
            "marker": {
             "colorbar": {
              "outlinewidth": 0,
              "ticks": ""
             }
            },
            "type": "scattermapbox"
           }
          ],
          "scatterpolar": [
           {
            "marker": {
             "colorbar": {
              "outlinewidth": 0,
              "ticks": ""
             }
            },
            "type": "scatterpolar"
           }
          ],
          "scatterpolargl": [
           {
            "marker": {
             "colorbar": {
              "outlinewidth": 0,
              "ticks": ""
             }
            },
            "type": "scatterpolargl"
           }
          ],
          "scatterternary": [
           {
            "marker": {
             "colorbar": {
              "outlinewidth": 0,
              "ticks": ""
             }
            },
            "type": "scatterternary"
           }
          ],
          "surface": [
           {
            "colorbar": {
             "outlinewidth": 0,
             "ticks": ""
            },
            "colorscale": [
             [
              0,
              "#0d0887"
             ],
             [
              0.1111111111111111,
              "#46039f"
             ],
             [
              0.2222222222222222,
              "#7201a8"
             ],
             [
              0.3333333333333333,
              "#9c179e"
             ],
             [
              0.4444444444444444,
              "#bd3786"
             ],
             [
              0.5555555555555556,
              "#d8576b"
             ],
             [
              0.6666666666666666,
              "#ed7953"
             ],
             [
              0.7777777777777778,
              "#fb9f3a"
             ],
             [
              0.8888888888888888,
              "#fdca26"
             ],
             [
              1,
              "#f0f921"
             ]
            ],
            "type": "surface"
           }
          ],
          "table": [
           {
            "cells": {
             "fill": {
              "color": "#EBF0F8"
             },
             "line": {
              "color": "white"
             }
            },
            "header": {
             "fill": {
              "color": "#C8D4E3"
             },
             "line": {
              "color": "white"
             }
            },
            "type": "table"
           }
          ]
         },
         "layout": {
          "annotationdefaults": {
           "arrowcolor": "#2a3f5f",
           "arrowhead": 0,
           "arrowwidth": 1
          },
          "autotypenumbers": "strict",
          "coloraxis": {
           "colorbar": {
            "outlinewidth": 0,
            "ticks": ""
           }
          },
          "colorscale": {
           "diverging": [
            [
             0,
             "#8e0152"
            ],
            [
             0.1,
             "#c51b7d"
            ],
            [
             0.2,
             "#de77ae"
            ],
            [
             0.3,
             "#f1b6da"
            ],
            [
             0.4,
             "#fde0ef"
            ],
            [
             0.5,
             "#f7f7f7"
            ],
            [
             0.6,
             "#e6f5d0"
            ],
            [
             0.7,
             "#b8e186"
            ],
            [
             0.8,
             "#7fbc41"
            ],
            [
             0.9,
             "#4d9221"
            ],
            [
             1,
             "#276419"
            ]
           ],
           "sequential": [
            [
             0,
             "#0d0887"
            ],
            [
             0.1111111111111111,
             "#46039f"
            ],
            [
             0.2222222222222222,
             "#7201a8"
            ],
            [
             0.3333333333333333,
             "#9c179e"
            ],
            [
             0.4444444444444444,
             "#bd3786"
            ],
            [
             0.5555555555555556,
             "#d8576b"
            ],
            [
             0.6666666666666666,
             "#ed7953"
            ],
            [
             0.7777777777777778,
             "#fb9f3a"
            ],
            [
             0.8888888888888888,
             "#fdca26"
            ],
            [
             1,
             "#f0f921"
            ]
           ],
           "sequentialminus": [
            [
             0,
             "#0d0887"
            ],
            [
             0.1111111111111111,
             "#46039f"
            ],
            [
             0.2222222222222222,
             "#7201a8"
            ],
            [
             0.3333333333333333,
             "#9c179e"
            ],
            [
             0.4444444444444444,
             "#bd3786"
            ],
            [
             0.5555555555555556,
             "#d8576b"
            ],
            [
             0.6666666666666666,
             "#ed7953"
            ],
            [
             0.7777777777777778,
             "#fb9f3a"
            ],
            [
             0.8888888888888888,
             "#fdca26"
            ],
            [
             1,
             "#f0f921"
            ]
           ]
          },
          "colorway": [
           "#636efa",
           "#EF553B",
           "#00cc96",
           "#ab63fa",
           "#FFA15A",
           "#19d3f3",
           "#FF6692",
           "#B6E880",
           "#FF97FF",
           "#FECB52"
          ],
          "font": {
           "color": "#2a3f5f"
          },
          "geo": {
           "bgcolor": "white",
           "lakecolor": "white",
           "landcolor": "#E5ECF6",
           "showlakes": true,
           "showland": true,
           "subunitcolor": "white"
          },
          "hoverlabel": {
           "align": "left"
          },
          "hovermode": "closest",
          "mapbox": {
           "style": "light"
          },
          "paper_bgcolor": "white",
          "plot_bgcolor": "#E5ECF6",
          "polar": {
           "angularaxis": {
            "gridcolor": "white",
            "linecolor": "white",
            "ticks": ""
           },
           "bgcolor": "#E5ECF6",
           "radialaxis": {
            "gridcolor": "white",
            "linecolor": "white",
            "ticks": ""
           }
          },
          "scene": {
           "xaxis": {
            "backgroundcolor": "#E5ECF6",
            "gridcolor": "white",
            "gridwidth": 2,
            "linecolor": "white",
            "showbackground": true,
            "ticks": "",
            "zerolinecolor": "white"
           },
           "yaxis": {
            "backgroundcolor": "#E5ECF6",
            "gridcolor": "white",
            "gridwidth": 2,
            "linecolor": "white",
            "showbackground": true,
            "ticks": "",
            "zerolinecolor": "white"
           },
           "zaxis": {
            "backgroundcolor": "#E5ECF6",
            "gridcolor": "white",
            "gridwidth": 2,
            "linecolor": "white",
            "showbackground": true,
            "ticks": "",
            "zerolinecolor": "white"
           }
          },
          "shapedefaults": {
           "line": {
            "color": "#2a3f5f"
           }
          },
          "ternary": {
           "aaxis": {
            "gridcolor": "white",
            "linecolor": "white",
            "ticks": ""
           },
           "baxis": {
            "gridcolor": "white",
            "linecolor": "white",
            "ticks": ""
           },
           "bgcolor": "#E5ECF6",
           "caxis": {
            "gridcolor": "white",
            "linecolor": "white",
            "ticks": ""
           }
          },
          "title": {
           "x": 0.05
          },
          "xaxis": {
           "automargin": true,
           "gridcolor": "white",
           "linecolor": "white",
           "ticks": "",
           "title": {
            "standoff": 15
           },
           "zerolinecolor": "white",
           "zerolinewidth": 2
          },
          "yaxis": {
           "automargin": true,
           "gridcolor": "white",
           "linecolor": "white",
           "ticks": "",
           "title": {
            "standoff": 15
           },
           "zerolinecolor": "white",
           "zerolinewidth": 2
          }
         }
        },
        "title": {
         "font": {
          "color": "#4D5663"
         }
        },
        "xaxis": {
         "gridcolor": "#E1E5ED",
         "showgrid": true,
         "tickfont": {
          "color": "#4D5663"
         },
         "title": {
          "font": {
           "color": "#4D5663"
          },
          "text": ""
         },
         "zerolinecolor": "#E1E5ED"
        },
        "yaxis": {
         "gridcolor": "#E1E5ED",
         "showgrid": true,
         "tickfont": {
          "color": "#4D5663"
         },
         "title": {
          "font": {
           "color": "#4D5663"
          },
          "text": ""
         },
         "zerolinecolor": "#E1E5ED"
        }
       }
      },
      "text/html": [
       "<div>                            <div id=\"6e7b469d-7d1f-4480-867f-9935b285f6f5\" class=\"plotly-graph-div\" style=\"height:525px; width:100%;\"></div>            <script type=\"text/javascript\">                require([\"plotly\"], function(Plotly) {                    window.PLOTLYENV=window.PLOTLYENV || {};\n",
       "                    window.PLOTLYENV.BASE_URL='https://plot.ly';                                    if (document.getElementById(\"6e7b469d-7d1f-4480-867f-9935b285f6f5\")) {                    Plotly.newPlot(                        \"6e7b469d-7d1f-4480-867f-9935b285f6f5\",                        [{\"colorscale\":[[0.0,\"rgb(165,0,38)\"],[0.1,\"rgb(215,48,39)\"],[0.2,\"rgb(244,109,67)\"],[0.3,\"rgb(253,174,97)\"],[0.4,\"rgb(254,224,144)\"],[0.5,\"rgb(255,255,191)\"],[0.6,\"rgb(224,243,248)\"],[0.7,\"rgb(171,217,233)\"],[0.8,\"rgb(116,173,209)\"],[0.9,\"rgb(69,117,180)\"],[1.0,\"rgb(49,54,149)\"]],\"x\":[0,1,2,3,4],\"y\":[\"x\",\"y\",\"z\"],\"z\":[[1,2,3,4,5],[10,20,30,20,10],[500,400,300,200,100]],\"type\":\"surface\"}],                        {\"legend\":{\"bgcolor\":\"#F5F6F9\",\"font\":{\"color\":\"#4D5663\"}},\"paper_bgcolor\":\"#F5F6F9\",\"plot_bgcolor\":\"#F5F6F9\",\"template\":{\"data\":{\"barpolar\":[{\"marker\":{\"line\":{\"color\":\"#E5ECF6\",\"width\":0.5},\"pattern\":{\"fillmode\":\"overlay\",\"size\":10,\"solidity\":0.2}},\"type\":\"barpolar\"}],\"bar\":[{\"error_x\":{\"color\":\"#2a3f5f\"},\"error_y\":{\"color\":\"#2a3f5f\"},\"marker\":{\"line\":{\"color\":\"#E5ECF6\",\"width\":0.5},\"pattern\":{\"fillmode\":\"overlay\",\"size\":10,\"solidity\":0.2}},\"type\":\"bar\"}],\"carpet\":[{\"aaxis\":{\"endlinecolor\":\"#2a3f5f\",\"gridcolor\":\"white\",\"linecolor\":\"white\",\"minorgridcolor\":\"white\",\"startlinecolor\":\"#2a3f5f\"},\"baxis\":{\"endlinecolor\":\"#2a3f5f\",\"gridcolor\":\"white\",\"linecolor\":\"white\",\"minorgridcolor\":\"white\",\"startlinecolor\":\"#2a3f5f\"},\"type\":\"carpet\"}],\"choropleth\":[{\"colorbar\":{\"outlinewidth\":0,\"ticks\":\"\"},\"type\":\"choropleth\"}],\"contourcarpet\":[{\"colorbar\":{\"outlinewidth\":0,\"ticks\":\"\"},\"type\":\"contourcarpet\"}],\"contour\":[{\"colorbar\":{\"outlinewidth\":0,\"ticks\":\"\"},\"colorscale\":[[0.0,\"#0d0887\"],[0.1111111111111111,\"#46039f\"],[0.2222222222222222,\"#7201a8\"],[0.3333333333333333,\"#9c179e\"],[0.4444444444444444,\"#bd3786\"],[0.5555555555555556,\"#d8576b\"],[0.6666666666666666,\"#ed7953\"],[0.7777777777777778,\"#fb9f3a\"],[0.8888888888888888,\"#fdca26\"],[1.0,\"#f0f921\"]],\"type\":\"contour\"}],\"heatmapgl\":[{\"colorbar\":{\"outlinewidth\":0,\"ticks\":\"\"},\"colorscale\":[[0.0,\"#0d0887\"],[0.1111111111111111,\"#46039f\"],[0.2222222222222222,\"#7201a8\"],[0.3333333333333333,\"#9c179e\"],[0.4444444444444444,\"#bd3786\"],[0.5555555555555556,\"#d8576b\"],[0.6666666666666666,\"#ed7953\"],[0.7777777777777778,\"#fb9f3a\"],[0.8888888888888888,\"#fdca26\"],[1.0,\"#f0f921\"]],\"type\":\"heatmapgl\"}],\"heatmap\":[{\"colorbar\":{\"outlinewidth\":0,\"ticks\":\"\"},\"colorscale\":[[0.0,\"#0d0887\"],[0.1111111111111111,\"#46039f\"],[0.2222222222222222,\"#7201a8\"],[0.3333333333333333,\"#9c179e\"],[0.4444444444444444,\"#bd3786\"],[0.5555555555555556,\"#d8576b\"],[0.6666666666666666,\"#ed7953\"],[0.7777777777777778,\"#fb9f3a\"],[0.8888888888888888,\"#fdca26\"],[1.0,\"#f0f921\"]],\"type\":\"heatmap\"}],\"histogram2dcontour\":[{\"colorbar\":{\"outlinewidth\":0,\"ticks\":\"\"},\"colorscale\":[[0.0,\"#0d0887\"],[0.1111111111111111,\"#46039f\"],[0.2222222222222222,\"#7201a8\"],[0.3333333333333333,\"#9c179e\"],[0.4444444444444444,\"#bd3786\"],[0.5555555555555556,\"#d8576b\"],[0.6666666666666666,\"#ed7953\"],[0.7777777777777778,\"#fb9f3a\"],[0.8888888888888888,\"#fdca26\"],[1.0,\"#f0f921\"]],\"type\":\"histogram2dcontour\"}],\"histogram2d\":[{\"colorbar\":{\"outlinewidth\":0,\"ticks\":\"\"},\"colorscale\":[[0.0,\"#0d0887\"],[0.1111111111111111,\"#46039f\"],[0.2222222222222222,\"#7201a8\"],[0.3333333333333333,\"#9c179e\"],[0.4444444444444444,\"#bd3786\"],[0.5555555555555556,\"#d8576b\"],[0.6666666666666666,\"#ed7953\"],[0.7777777777777778,\"#fb9f3a\"],[0.8888888888888888,\"#fdca26\"],[1.0,\"#f0f921\"]],\"type\":\"histogram2d\"}],\"histogram\":[{\"marker\":{\"pattern\":{\"fillmode\":\"overlay\",\"size\":10,\"solidity\":0.2}},\"type\":\"histogram\"}],\"mesh3d\":[{\"colorbar\":{\"outlinewidth\":0,\"ticks\":\"\"},\"type\":\"mesh3d\"}],\"parcoords\":[{\"line\":{\"colorbar\":{\"outlinewidth\":0,\"ticks\":\"\"}},\"type\":\"parcoords\"}],\"pie\":[{\"automargin\":true,\"type\":\"pie\"}],\"scatter3d\":[{\"line\":{\"colorbar\":{\"outlinewidth\":0,\"ticks\":\"\"}},\"marker\":{\"colorbar\":{\"outlinewidth\":0,\"ticks\":\"\"}},\"type\":\"scatter3d\"}],\"scattercarpet\":[{\"marker\":{\"colorbar\":{\"outlinewidth\":0,\"ticks\":\"\"}},\"type\":\"scattercarpet\"}],\"scattergeo\":[{\"marker\":{\"colorbar\":{\"outlinewidth\":0,\"ticks\":\"\"}},\"type\":\"scattergeo\"}],\"scattergl\":[{\"marker\":{\"colorbar\":{\"outlinewidth\":0,\"ticks\":\"\"}},\"type\":\"scattergl\"}],\"scattermapbox\":[{\"marker\":{\"colorbar\":{\"outlinewidth\":0,\"ticks\":\"\"}},\"type\":\"scattermapbox\"}],\"scatterpolargl\":[{\"marker\":{\"colorbar\":{\"outlinewidth\":0,\"ticks\":\"\"}},\"type\":\"scatterpolargl\"}],\"scatterpolar\":[{\"marker\":{\"colorbar\":{\"outlinewidth\":0,\"ticks\":\"\"}},\"type\":\"scatterpolar\"}],\"scatter\":[{\"marker\":{\"colorbar\":{\"outlinewidth\":0,\"ticks\":\"\"}},\"type\":\"scatter\"}],\"scatterternary\":[{\"marker\":{\"colorbar\":{\"outlinewidth\":0,\"ticks\":\"\"}},\"type\":\"scatterternary\"}],\"surface\":[{\"colorbar\":{\"outlinewidth\":0,\"ticks\":\"\"},\"colorscale\":[[0.0,\"#0d0887\"],[0.1111111111111111,\"#46039f\"],[0.2222222222222222,\"#7201a8\"],[0.3333333333333333,\"#9c179e\"],[0.4444444444444444,\"#bd3786\"],[0.5555555555555556,\"#d8576b\"],[0.6666666666666666,\"#ed7953\"],[0.7777777777777778,\"#fb9f3a\"],[0.8888888888888888,\"#fdca26\"],[1.0,\"#f0f921\"]],\"type\":\"surface\"}],\"table\":[{\"cells\":{\"fill\":{\"color\":\"#EBF0F8\"},\"line\":{\"color\":\"white\"}},\"header\":{\"fill\":{\"color\":\"#C8D4E3\"},\"line\":{\"color\":\"white\"}},\"type\":\"table\"}]},\"layout\":{\"annotationdefaults\":{\"arrowcolor\":\"#2a3f5f\",\"arrowhead\":0,\"arrowwidth\":1},\"autotypenumbers\":\"strict\",\"coloraxis\":{\"colorbar\":{\"outlinewidth\":0,\"ticks\":\"\"}},\"colorscale\":{\"diverging\":[[0,\"#8e0152\"],[0.1,\"#c51b7d\"],[0.2,\"#de77ae\"],[0.3,\"#f1b6da\"],[0.4,\"#fde0ef\"],[0.5,\"#f7f7f7\"],[0.6,\"#e6f5d0\"],[0.7,\"#b8e186\"],[0.8,\"#7fbc41\"],[0.9,\"#4d9221\"],[1,\"#276419\"]],\"sequential\":[[0.0,\"#0d0887\"],[0.1111111111111111,\"#46039f\"],[0.2222222222222222,\"#7201a8\"],[0.3333333333333333,\"#9c179e\"],[0.4444444444444444,\"#bd3786\"],[0.5555555555555556,\"#d8576b\"],[0.6666666666666666,\"#ed7953\"],[0.7777777777777778,\"#fb9f3a\"],[0.8888888888888888,\"#fdca26\"],[1.0,\"#f0f921\"]],\"sequentialminus\":[[0.0,\"#0d0887\"],[0.1111111111111111,\"#46039f\"],[0.2222222222222222,\"#7201a8\"],[0.3333333333333333,\"#9c179e\"],[0.4444444444444444,\"#bd3786\"],[0.5555555555555556,\"#d8576b\"],[0.6666666666666666,\"#ed7953\"],[0.7777777777777778,\"#fb9f3a\"],[0.8888888888888888,\"#fdca26\"],[1.0,\"#f0f921\"]]},\"colorway\":[\"#636efa\",\"#EF553B\",\"#00cc96\",\"#ab63fa\",\"#FFA15A\",\"#19d3f3\",\"#FF6692\",\"#B6E880\",\"#FF97FF\",\"#FECB52\"],\"font\":{\"color\":\"#2a3f5f\"},\"geo\":{\"bgcolor\":\"white\",\"lakecolor\":\"white\",\"landcolor\":\"#E5ECF6\",\"showlakes\":true,\"showland\":true,\"subunitcolor\":\"white\"},\"hoverlabel\":{\"align\":\"left\"},\"hovermode\":\"closest\",\"mapbox\":{\"style\":\"light\"},\"paper_bgcolor\":\"white\",\"plot_bgcolor\":\"#E5ECF6\",\"polar\":{\"angularaxis\":{\"gridcolor\":\"white\",\"linecolor\":\"white\",\"ticks\":\"\"},\"bgcolor\":\"#E5ECF6\",\"radialaxis\":{\"gridcolor\":\"white\",\"linecolor\":\"white\",\"ticks\":\"\"}},\"scene\":{\"xaxis\":{\"backgroundcolor\":\"#E5ECF6\",\"gridcolor\":\"white\",\"gridwidth\":2,\"linecolor\":\"white\",\"showbackground\":true,\"ticks\":\"\",\"zerolinecolor\":\"white\"},\"yaxis\":{\"backgroundcolor\":\"#E5ECF6\",\"gridcolor\":\"white\",\"gridwidth\":2,\"linecolor\":\"white\",\"showbackground\":true,\"ticks\":\"\",\"zerolinecolor\":\"white\"},\"zaxis\":{\"backgroundcolor\":\"#E5ECF6\",\"gridcolor\":\"white\",\"gridwidth\":2,\"linecolor\":\"white\",\"showbackground\":true,\"ticks\":\"\",\"zerolinecolor\":\"white\"}},\"shapedefaults\":{\"line\":{\"color\":\"#2a3f5f\"}},\"ternary\":{\"aaxis\":{\"gridcolor\":\"white\",\"linecolor\":\"white\",\"ticks\":\"\"},\"baxis\":{\"gridcolor\":\"white\",\"linecolor\":\"white\",\"ticks\":\"\"},\"bgcolor\":\"#E5ECF6\",\"caxis\":{\"gridcolor\":\"white\",\"linecolor\":\"white\",\"ticks\":\"\"}},\"title\":{\"x\":0.05},\"xaxis\":{\"automargin\":true,\"gridcolor\":\"white\",\"linecolor\":\"white\",\"ticks\":\"\",\"title\":{\"standoff\":15},\"zerolinecolor\":\"white\",\"zerolinewidth\":2},\"yaxis\":{\"automargin\":true,\"gridcolor\":\"white\",\"linecolor\":\"white\",\"ticks\":\"\",\"title\":{\"standoff\":15},\"zerolinecolor\":\"white\",\"zerolinewidth\":2}}},\"title\":{\"font\":{\"color\":\"#4D5663\"}},\"xaxis\":{\"gridcolor\":\"#E1E5ED\",\"showgrid\":true,\"tickfont\":{\"color\":\"#4D5663\"},\"title\":{\"font\":{\"color\":\"#4D5663\"},\"text\":\"\"},\"zerolinecolor\":\"#E1E5ED\"},\"yaxis\":{\"gridcolor\":\"#E1E5ED\",\"showgrid\":true,\"tickfont\":{\"color\":\"#4D5663\"},\"title\":{\"font\":{\"color\":\"#4D5663\"},\"text\":\"\"},\"zerolinecolor\":\"#E1E5ED\"}},                        {\"showLink\": true, \"linkText\": \"Export to plot.ly\", \"plotlyServerURL\": \"https://plot.ly\", \"responsive\": true}                    ).then(function(){\n",
       "                            \n",
       "var gd = document.getElementById('6e7b469d-7d1f-4480-867f-9935b285f6f5');\n",
       "var x = new MutationObserver(function (mutations, observer) {{\n",
       "        var display = window.getComputedStyle(gd).display;\n",
       "        if (!display || display === 'none') {{\n",
       "            console.log([gd, 'removed!']);\n",
       "            Plotly.purge(gd);\n",
       "            observer.disconnect();\n",
       "        }}\n",
       "}});\n",
       "\n",
       "// Listen for the removal of the full notebook cells\n",
       "var notebookContainer = gd.closest('#notebook-container');\n",
       "if (notebookContainer) {{\n",
       "    x.observe(notebookContainer, {childList: true});\n",
       "}}\n",
       "\n",
       "// Listen for the clearing of the current output cell\n",
       "var outputEl = gd.closest('.output');\n",
       "if (outputEl) {{\n",
       "    x.observe(outputEl, {childList: true});\n",
       "}}\n",
       "\n",
       "                        })                };                });            </script>        </div>"
      ]
     },
     "metadata": {},
     "output_type": "display_data"
    }
   ],
   "source": [
    "df4.iplot(kind = 'surface', colorscale = 'rdylbu')"
   ]
  },
  {
   "cell_type": "markdown",
   "id": "532412f7",
   "metadata": {},
   "source": [
    "### Histograms"
   ]
  },
  {
   "cell_type": "markdown",
   "id": "45672a53",
   "metadata": {},
   "source": [
    "###### As we know we can call a histogram from column or from the whole data frame."
   ]
  },
  {
   "cell_type": "code",
   "execution_count": 25,
   "id": "03364898",
   "metadata": {},
   "outputs": [
    {
     "data": {
      "application/vnd.plotly.v1+json": {
       "config": {
        "linkText": "Export to plot.ly",
        "plotlyServerURL": "https://plot.ly",
        "showLink": true
       },
       "data": [
        {
         "histfunc": "count",
         "histnorm": "",
         "marker": {
          "color": "rgba(255, 153, 51, 1.0)",
          "line": {
           "color": "#4D5663",
           "width": 1.3
          }
         },
         "name": "A",
         "nbinsx": 50,
         "opacity": 0.8,
         "orientation": "v",
         "type": "histogram",
         "x": [
          -0.6564744824764208,
          -0.44246018622678035,
          -1.4210529165487331,
          2.138912840106512,
          0.25578258692089706,
          0.39805143783044833,
          -0.12701603877964637,
          -0.7336425614675899,
          0.17166378867506915,
          0.2710840189785207,
          0.8534092997086261,
          -0.28423806801324436,
          0.680442831707899,
          1.0056126864042327,
          0.22345415383044398,
          1.3471504835508696,
          0.4868772969639054,
          -0.8560743163392702,
          0.2437582614308069,
          0.13615747280918256,
          1.7766279162229373,
          -0.047392212385020574,
          -1.478739271543873,
          0.6674437983342687,
          -1.0518729658163994,
          1.1450743950503413,
          0.45312446388413863,
          -2.247532593483744,
          -0.9380816730886774,
          0.5747550876841555,
          0.7445251795288704,
          -1.1397301094244776,
          -0.7330965447959531,
          0.0011163348157742902,
          -0.4384112915386252,
          -0.5103765163837336,
          0.2572701355520642,
          -0.2672705429298812,
          -0.3152386136033564,
          0.1641860318298152,
          -0.6148004002051985,
          0.07205002157098324,
          -2.3569799035568906,
          1.0536881549659127,
          0.026917841374375365,
          -1.5516053705251112,
          -0.37391562462327005,
          0.16636832151140332,
          2.1868099430258554,
          -0.41916960443056883,
          0.10496423203936313,
          0.6279926573009582,
          -0.6471640572249683,
          0.30945396871171144,
          -0.4692873864786442,
          -1.090176869362269,
          -0.4143546663277241,
          -0.9027350183105727,
          0.469359002390997,
          -1.4219684339163654,
          0.820847128917743,
          0.05483278813128337,
          1.2392518808560637,
          1.545366633263906,
          0.41934477765089295,
          0.8240554271196706,
          0.8649157101002072,
          -2.1965301978204814,
          0.3476863183989522,
          -0.12640063221688605,
          -1.1095799572682512,
          -0.7608133813357494,
          -2.2044745973693805,
          -2.0304273169011986,
          1.2711060359943978,
          0.13692317269969045,
          -0.0583827092739993,
          2.4115580112408193,
          -2.0777630091319015,
          0.9344928525053398,
          0.3953105866307476,
          -1.0128314490635355,
          1.3925168200064224,
          -0.2746806087720305,
          -0.15873804270543176,
          -1.2063378835963559,
          1.4659391526336598,
          0.7259062288360807,
          -0.018616086991251776,
          -1.0972073757865193,
          -1.0458427688984127,
          0.6742520113874113,
          -0.9688805187614103,
          -2.606590225991158,
          0.2665069685897831,
          0.08035808638610199,
          -1.019013237251515,
          -0.4491197717632893,
          0.9587565600232877,
          -1.2542926097550613
         ]
        }
       ],
       "layout": {
        "barmode": "overlay",
        "legend": {
         "bgcolor": "#F5F6F9",
         "font": {
          "color": "#4D5663"
         }
        },
        "paper_bgcolor": "#F5F6F9",
        "plot_bgcolor": "#F5F6F9",
        "template": {
         "data": {
          "bar": [
           {
            "error_x": {
             "color": "#2a3f5f"
            },
            "error_y": {
             "color": "#2a3f5f"
            },
            "marker": {
             "line": {
              "color": "#E5ECF6",
              "width": 0.5
             },
             "pattern": {
              "fillmode": "overlay",
              "size": 10,
              "solidity": 0.2
             }
            },
            "type": "bar"
           }
          ],
          "barpolar": [
           {
            "marker": {
             "line": {
              "color": "#E5ECF6",
              "width": 0.5
             },
             "pattern": {
              "fillmode": "overlay",
              "size": 10,
              "solidity": 0.2
             }
            },
            "type": "barpolar"
           }
          ],
          "carpet": [
           {
            "aaxis": {
             "endlinecolor": "#2a3f5f",
             "gridcolor": "white",
             "linecolor": "white",
             "minorgridcolor": "white",
             "startlinecolor": "#2a3f5f"
            },
            "baxis": {
             "endlinecolor": "#2a3f5f",
             "gridcolor": "white",
             "linecolor": "white",
             "minorgridcolor": "white",
             "startlinecolor": "#2a3f5f"
            },
            "type": "carpet"
           }
          ],
          "choropleth": [
           {
            "colorbar": {
             "outlinewidth": 0,
             "ticks": ""
            },
            "type": "choropleth"
           }
          ],
          "contour": [
           {
            "colorbar": {
             "outlinewidth": 0,
             "ticks": ""
            },
            "colorscale": [
             [
              0,
              "#0d0887"
             ],
             [
              0.1111111111111111,
              "#46039f"
             ],
             [
              0.2222222222222222,
              "#7201a8"
             ],
             [
              0.3333333333333333,
              "#9c179e"
             ],
             [
              0.4444444444444444,
              "#bd3786"
             ],
             [
              0.5555555555555556,
              "#d8576b"
             ],
             [
              0.6666666666666666,
              "#ed7953"
             ],
             [
              0.7777777777777778,
              "#fb9f3a"
             ],
             [
              0.8888888888888888,
              "#fdca26"
             ],
             [
              1,
              "#f0f921"
             ]
            ],
            "type": "contour"
           }
          ],
          "contourcarpet": [
           {
            "colorbar": {
             "outlinewidth": 0,
             "ticks": ""
            },
            "type": "contourcarpet"
           }
          ],
          "heatmap": [
           {
            "colorbar": {
             "outlinewidth": 0,
             "ticks": ""
            },
            "colorscale": [
             [
              0,
              "#0d0887"
             ],
             [
              0.1111111111111111,
              "#46039f"
             ],
             [
              0.2222222222222222,
              "#7201a8"
             ],
             [
              0.3333333333333333,
              "#9c179e"
             ],
             [
              0.4444444444444444,
              "#bd3786"
             ],
             [
              0.5555555555555556,
              "#d8576b"
             ],
             [
              0.6666666666666666,
              "#ed7953"
             ],
             [
              0.7777777777777778,
              "#fb9f3a"
             ],
             [
              0.8888888888888888,
              "#fdca26"
             ],
             [
              1,
              "#f0f921"
             ]
            ],
            "type": "heatmap"
           }
          ],
          "heatmapgl": [
           {
            "colorbar": {
             "outlinewidth": 0,
             "ticks": ""
            },
            "colorscale": [
             [
              0,
              "#0d0887"
             ],
             [
              0.1111111111111111,
              "#46039f"
             ],
             [
              0.2222222222222222,
              "#7201a8"
             ],
             [
              0.3333333333333333,
              "#9c179e"
             ],
             [
              0.4444444444444444,
              "#bd3786"
             ],
             [
              0.5555555555555556,
              "#d8576b"
             ],
             [
              0.6666666666666666,
              "#ed7953"
             ],
             [
              0.7777777777777778,
              "#fb9f3a"
             ],
             [
              0.8888888888888888,
              "#fdca26"
             ],
             [
              1,
              "#f0f921"
             ]
            ],
            "type": "heatmapgl"
           }
          ],
          "histogram": [
           {
            "marker": {
             "pattern": {
              "fillmode": "overlay",
              "size": 10,
              "solidity": 0.2
             }
            },
            "type": "histogram"
           }
          ],
          "histogram2d": [
           {
            "colorbar": {
             "outlinewidth": 0,
             "ticks": ""
            },
            "colorscale": [
             [
              0,
              "#0d0887"
             ],
             [
              0.1111111111111111,
              "#46039f"
             ],
             [
              0.2222222222222222,
              "#7201a8"
             ],
             [
              0.3333333333333333,
              "#9c179e"
             ],
             [
              0.4444444444444444,
              "#bd3786"
             ],
             [
              0.5555555555555556,
              "#d8576b"
             ],
             [
              0.6666666666666666,
              "#ed7953"
             ],
             [
              0.7777777777777778,
              "#fb9f3a"
             ],
             [
              0.8888888888888888,
              "#fdca26"
             ],
             [
              1,
              "#f0f921"
             ]
            ],
            "type": "histogram2d"
           }
          ],
          "histogram2dcontour": [
           {
            "colorbar": {
             "outlinewidth": 0,
             "ticks": ""
            },
            "colorscale": [
             [
              0,
              "#0d0887"
             ],
             [
              0.1111111111111111,
              "#46039f"
             ],
             [
              0.2222222222222222,
              "#7201a8"
             ],
             [
              0.3333333333333333,
              "#9c179e"
             ],
             [
              0.4444444444444444,
              "#bd3786"
             ],
             [
              0.5555555555555556,
              "#d8576b"
             ],
             [
              0.6666666666666666,
              "#ed7953"
             ],
             [
              0.7777777777777778,
              "#fb9f3a"
             ],
             [
              0.8888888888888888,
              "#fdca26"
             ],
             [
              1,
              "#f0f921"
             ]
            ],
            "type": "histogram2dcontour"
           }
          ],
          "mesh3d": [
           {
            "colorbar": {
             "outlinewidth": 0,
             "ticks": ""
            },
            "type": "mesh3d"
           }
          ],
          "parcoords": [
           {
            "line": {
             "colorbar": {
              "outlinewidth": 0,
              "ticks": ""
             }
            },
            "type": "parcoords"
           }
          ],
          "pie": [
           {
            "automargin": true,
            "type": "pie"
           }
          ],
          "scatter": [
           {
            "marker": {
             "colorbar": {
              "outlinewidth": 0,
              "ticks": ""
             }
            },
            "type": "scatter"
           }
          ],
          "scatter3d": [
           {
            "line": {
             "colorbar": {
              "outlinewidth": 0,
              "ticks": ""
             }
            },
            "marker": {
             "colorbar": {
              "outlinewidth": 0,
              "ticks": ""
             }
            },
            "type": "scatter3d"
           }
          ],
          "scattercarpet": [
           {
            "marker": {
             "colorbar": {
              "outlinewidth": 0,
              "ticks": ""
             }
            },
            "type": "scattercarpet"
           }
          ],
          "scattergeo": [
           {
            "marker": {
             "colorbar": {
              "outlinewidth": 0,
              "ticks": ""
             }
            },
            "type": "scattergeo"
           }
          ],
          "scattergl": [
           {
            "marker": {
             "colorbar": {
              "outlinewidth": 0,
              "ticks": ""
             }
            },
            "type": "scattergl"
           }
          ],
          "scattermapbox": [
           {
            "marker": {
             "colorbar": {
              "outlinewidth": 0,
              "ticks": ""
             }
            },
            "type": "scattermapbox"
           }
          ],
          "scatterpolar": [
           {
            "marker": {
             "colorbar": {
              "outlinewidth": 0,
              "ticks": ""
             }
            },
            "type": "scatterpolar"
           }
          ],
          "scatterpolargl": [
           {
            "marker": {
             "colorbar": {
              "outlinewidth": 0,
              "ticks": ""
             }
            },
            "type": "scatterpolargl"
           }
          ],
          "scatterternary": [
           {
            "marker": {
             "colorbar": {
              "outlinewidth": 0,
              "ticks": ""
             }
            },
            "type": "scatterternary"
           }
          ],
          "surface": [
           {
            "colorbar": {
             "outlinewidth": 0,
             "ticks": ""
            },
            "colorscale": [
             [
              0,
              "#0d0887"
             ],
             [
              0.1111111111111111,
              "#46039f"
             ],
             [
              0.2222222222222222,
              "#7201a8"
             ],
             [
              0.3333333333333333,
              "#9c179e"
             ],
             [
              0.4444444444444444,
              "#bd3786"
             ],
             [
              0.5555555555555556,
              "#d8576b"
             ],
             [
              0.6666666666666666,
              "#ed7953"
             ],
             [
              0.7777777777777778,
              "#fb9f3a"
             ],
             [
              0.8888888888888888,
              "#fdca26"
             ],
             [
              1,
              "#f0f921"
             ]
            ],
            "type": "surface"
           }
          ],
          "table": [
           {
            "cells": {
             "fill": {
              "color": "#EBF0F8"
             },
             "line": {
              "color": "white"
             }
            },
            "header": {
             "fill": {
              "color": "#C8D4E3"
             },
             "line": {
              "color": "white"
             }
            },
            "type": "table"
           }
          ]
         },
         "layout": {
          "annotationdefaults": {
           "arrowcolor": "#2a3f5f",
           "arrowhead": 0,
           "arrowwidth": 1
          },
          "autotypenumbers": "strict",
          "coloraxis": {
           "colorbar": {
            "outlinewidth": 0,
            "ticks": ""
           }
          },
          "colorscale": {
           "diverging": [
            [
             0,
             "#8e0152"
            ],
            [
             0.1,
             "#c51b7d"
            ],
            [
             0.2,
             "#de77ae"
            ],
            [
             0.3,
             "#f1b6da"
            ],
            [
             0.4,
             "#fde0ef"
            ],
            [
             0.5,
             "#f7f7f7"
            ],
            [
             0.6,
             "#e6f5d0"
            ],
            [
             0.7,
             "#b8e186"
            ],
            [
             0.8,
             "#7fbc41"
            ],
            [
             0.9,
             "#4d9221"
            ],
            [
             1,
             "#276419"
            ]
           ],
           "sequential": [
            [
             0,
             "#0d0887"
            ],
            [
             0.1111111111111111,
             "#46039f"
            ],
            [
             0.2222222222222222,
             "#7201a8"
            ],
            [
             0.3333333333333333,
             "#9c179e"
            ],
            [
             0.4444444444444444,
             "#bd3786"
            ],
            [
             0.5555555555555556,
             "#d8576b"
            ],
            [
             0.6666666666666666,
             "#ed7953"
            ],
            [
             0.7777777777777778,
             "#fb9f3a"
            ],
            [
             0.8888888888888888,
             "#fdca26"
            ],
            [
             1,
             "#f0f921"
            ]
           ],
           "sequentialminus": [
            [
             0,
             "#0d0887"
            ],
            [
             0.1111111111111111,
             "#46039f"
            ],
            [
             0.2222222222222222,
             "#7201a8"
            ],
            [
             0.3333333333333333,
             "#9c179e"
            ],
            [
             0.4444444444444444,
             "#bd3786"
            ],
            [
             0.5555555555555556,
             "#d8576b"
            ],
            [
             0.6666666666666666,
             "#ed7953"
            ],
            [
             0.7777777777777778,
             "#fb9f3a"
            ],
            [
             0.8888888888888888,
             "#fdca26"
            ],
            [
             1,
             "#f0f921"
            ]
           ]
          },
          "colorway": [
           "#636efa",
           "#EF553B",
           "#00cc96",
           "#ab63fa",
           "#FFA15A",
           "#19d3f3",
           "#FF6692",
           "#B6E880",
           "#FF97FF",
           "#FECB52"
          ],
          "font": {
           "color": "#2a3f5f"
          },
          "geo": {
           "bgcolor": "white",
           "lakecolor": "white",
           "landcolor": "#E5ECF6",
           "showlakes": true,
           "showland": true,
           "subunitcolor": "white"
          },
          "hoverlabel": {
           "align": "left"
          },
          "hovermode": "closest",
          "mapbox": {
           "style": "light"
          },
          "paper_bgcolor": "white",
          "plot_bgcolor": "#E5ECF6",
          "polar": {
           "angularaxis": {
            "gridcolor": "white",
            "linecolor": "white",
            "ticks": ""
           },
           "bgcolor": "#E5ECF6",
           "radialaxis": {
            "gridcolor": "white",
            "linecolor": "white",
            "ticks": ""
           }
          },
          "scene": {
           "xaxis": {
            "backgroundcolor": "#E5ECF6",
            "gridcolor": "white",
            "gridwidth": 2,
            "linecolor": "white",
            "showbackground": true,
            "ticks": "",
            "zerolinecolor": "white"
           },
           "yaxis": {
            "backgroundcolor": "#E5ECF6",
            "gridcolor": "white",
            "gridwidth": 2,
            "linecolor": "white",
            "showbackground": true,
            "ticks": "",
            "zerolinecolor": "white"
           },
           "zaxis": {
            "backgroundcolor": "#E5ECF6",
            "gridcolor": "white",
            "gridwidth": 2,
            "linecolor": "white",
            "showbackground": true,
            "ticks": "",
            "zerolinecolor": "white"
           }
          },
          "shapedefaults": {
           "line": {
            "color": "#2a3f5f"
           }
          },
          "ternary": {
           "aaxis": {
            "gridcolor": "white",
            "linecolor": "white",
            "ticks": ""
           },
           "baxis": {
            "gridcolor": "white",
            "linecolor": "white",
            "ticks": ""
           },
           "bgcolor": "#E5ECF6",
           "caxis": {
            "gridcolor": "white",
            "linecolor": "white",
            "ticks": ""
           }
          },
          "title": {
           "x": 0.05
          },
          "xaxis": {
           "automargin": true,
           "gridcolor": "white",
           "linecolor": "white",
           "ticks": "",
           "title": {
            "standoff": 15
           },
           "zerolinecolor": "white",
           "zerolinewidth": 2
          },
          "yaxis": {
           "automargin": true,
           "gridcolor": "white",
           "linecolor": "white",
           "ticks": "",
           "title": {
            "standoff": 15
           },
           "zerolinecolor": "white",
           "zerolinewidth": 2
          }
         }
        },
        "title": {
         "font": {
          "color": "#4D5663"
         }
        },
        "xaxis": {
         "gridcolor": "#E1E5ED",
         "showgrid": true,
         "tickfont": {
          "color": "#4D5663"
         },
         "title": {
          "font": {
           "color": "#4D5663"
          },
          "text": ""
         },
         "zerolinecolor": "#E1E5ED"
        },
        "yaxis": {
         "gridcolor": "#E1E5ED",
         "showgrid": true,
         "tickfont": {
          "color": "#4D5663"
         },
         "title": {
          "font": {
           "color": "#4D5663"
          },
          "text": ""
         },
         "zerolinecolor": "#E1E5ED"
        }
       }
      },
      "text/html": [
       "<div>                            <div id=\"ba709a81-f129-40e7-9ce4-60910beaa433\" class=\"plotly-graph-div\" style=\"height:525px; width:100%;\"></div>            <script type=\"text/javascript\">                require([\"plotly\"], function(Plotly) {                    window.PLOTLYENV=window.PLOTLYENV || {};\n",
       "                    window.PLOTLYENV.BASE_URL='https://plot.ly';                                    if (document.getElementById(\"ba709a81-f129-40e7-9ce4-60910beaa433\")) {                    Plotly.newPlot(                        \"ba709a81-f129-40e7-9ce4-60910beaa433\",                        [{\"histfunc\":\"count\",\"histnorm\":\"\",\"marker\":{\"color\":\"rgba(255, 153, 51, 1.0)\",\"line\":{\"color\":\"#4D5663\",\"width\":1.3}},\"name\":\"A\",\"nbinsx\":50,\"opacity\":0.8,\"orientation\":\"v\",\"x\":[-0.6564744824764208,-0.44246018622678035,-1.4210529165487331,2.138912840106512,0.25578258692089706,0.39805143783044833,-0.12701603877964637,-0.7336425614675899,0.17166378867506915,0.2710840189785207,0.8534092997086261,-0.28423806801324436,0.680442831707899,1.0056126864042327,0.22345415383044398,1.3471504835508696,0.4868772969639054,-0.8560743163392702,0.2437582614308069,0.13615747280918256,1.7766279162229373,-0.047392212385020574,-1.478739271543873,0.6674437983342687,-1.0518729658163994,1.1450743950503413,0.45312446388413863,-2.247532593483744,-0.9380816730886774,0.5747550876841555,0.7445251795288704,-1.1397301094244776,-0.7330965447959531,0.0011163348157742902,-0.4384112915386252,-0.5103765163837336,0.2572701355520642,-0.2672705429298812,-0.3152386136033564,0.1641860318298152,-0.6148004002051985,0.07205002157098324,-2.3569799035568906,1.0536881549659127,0.026917841374375365,-1.5516053705251112,-0.37391562462327005,0.16636832151140332,2.1868099430258554,-0.41916960443056883,0.10496423203936313,0.6279926573009582,-0.6471640572249683,0.30945396871171144,-0.4692873864786442,-1.090176869362269,-0.4143546663277241,-0.9027350183105727,0.469359002390997,-1.4219684339163654,0.820847128917743,0.05483278813128337,1.2392518808560637,1.545366633263906,0.41934477765089295,0.8240554271196706,0.8649157101002072,-2.1965301978204814,0.3476863183989522,-0.12640063221688605,-1.1095799572682512,-0.7608133813357494,-2.2044745973693805,-2.0304273169011986,1.2711060359943978,0.13692317269969045,-0.0583827092739993,2.4115580112408193,-2.0777630091319015,0.9344928525053398,0.3953105866307476,-1.0128314490635355,1.3925168200064224,-0.2746806087720305,-0.15873804270543176,-1.2063378835963559,1.4659391526336598,0.7259062288360807,-0.018616086991251776,-1.0972073757865193,-1.0458427688984127,0.6742520113874113,-0.9688805187614103,-2.606590225991158,0.2665069685897831,0.08035808638610199,-1.019013237251515,-0.4491197717632893,0.9587565600232877,-1.2542926097550613],\"type\":\"histogram\"}],                        {\"barmode\":\"overlay\",\"legend\":{\"bgcolor\":\"#F5F6F9\",\"font\":{\"color\":\"#4D5663\"}},\"paper_bgcolor\":\"#F5F6F9\",\"plot_bgcolor\":\"#F5F6F9\",\"template\":{\"data\":{\"barpolar\":[{\"marker\":{\"line\":{\"color\":\"#E5ECF6\",\"width\":0.5},\"pattern\":{\"fillmode\":\"overlay\",\"size\":10,\"solidity\":0.2}},\"type\":\"barpolar\"}],\"bar\":[{\"error_x\":{\"color\":\"#2a3f5f\"},\"error_y\":{\"color\":\"#2a3f5f\"},\"marker\":{\"line\":{\"color\":\"#E5ECF6\",\"width\":0.5},\"pattern\":{\"fillmode\":\"overlay\",\"size\":10,\"solidity\":0.2}},\"type\":\"bar\"}],\"carpet\":[{\"aaxis\":{\"endlinecolor\":\"#2a3f5f\",\"gridcolor\":\"white\",\"linecolor\":\"white\",\"minorgridcolor\":\"white\",\"startlinecolor\":\"#2a3f5f\"},\"baxis\":{\"endlinecolor\":\"#2a3f5f\",\"gridcolor\":\"white\",\"linecolor\":\"white\",\"minorgridcolor\":\"white\",\"startlinecolor\":\"#2a3f5f\"},\"type\":\"carpet\"}],\"choropleth\":[{\"colorbar\":{\"outlinewidth\":0,\"ticks\":\"\"},\"type\":\"choropleth\"}],\"contourcarpet\":[{\"colorbar\":{\"outlinewidth\":0,\"ticks\":\"\"},\"type\":\"contourcarpet\"}],\"contour\":[{\"colorbar\":{\"outlinewidth\":0,\"ticks\":\"\"},\"colorscale\":[[0.0,\"#0d0887\"],[0.1111111111111111,\"#46039f\"],[0.2222222222222222,\"#7201a8\"],[0.3333333333333333,\"#9c179e\"],[0.4444444444444444,\"#bd3786\"],[0.5555555555555556,\"#d8576b\"],[0.6666666666666666,\"#ed7953\"],[0.7777777777777778,\"#fb9f3a\"],[0.8888888888888888,\"#fdca26\"],[1.0,\"#f0f921\"]],\"type\":\"contour\"}],\"heatmapgl\":[{\"colorbar\":{\"outlinewidth\":0,\"ticks\":\"\"},\"colorscale\":[[0.0,\"#0d0887\"],[0.1111111111111111,\"#46039f\"],[0.2222222222222222,\"#7201a8\"],[0.3333333333333333,\"#9c179e\"],[0.4444444444444444,\"#bd3786\"],[0.5555555555555556,\"#d8576b\"],[0.6666666666666666,\"#ed7953\"],[0.7777777777777778,\"#fb9f3a\"],[0.8888888888888888,\"#fdca26\"],[1.0,\"#f0f921\"]],\"type\":\"heatmapgl\"}],\"heatmap\":[{\"colorbar\":{\"outlinewidth\":0,\"ticks\":\"\"},\"colorscale\":[[0.0,\"#0d0887\"],[0.1111111111111111,\"#46039f\"],[0.2222222222222222,\"#7201a8\"],[0.3333333333333333,\"#9c179e\"],[0.4444444444444444,\"#bd3786\"],[0.5555555555555556,\"#d8576b\"],[0.6666666666666666,\"#ed7953\"],[0.7777777777777778,\"#fb9f3a\"],[0.8888888888888888,\"#fdca26\"],[1.0,\"#f0f921\"]],\"type\":\"heatmap\"}],\"histogram2dcontour\":[{\"colorbar\":{\"outlinewidth\":0,\"ticks\":\"\"},\"colorscale\":[[0.0,\"#0d0887\"],[0.1111111111111111,\"#46039f\"],[0.2222222222222222,\"#7201a8\"],[0.3333333333333333,\"#9c179e\"],[0.4444444444444444,\"#bd3786\"],[0.5555555555555556,\"#d8576b\"],[0.6666666666666666,\"#ed7953\"],[0.7777777777777778,\"#fb9f3a\"],[0.8888888888888888,\"#fdca26\"],[1.0,\"#f0f921\"]],\"type\":\"histogram2dcontour\"}],\"histogram2d\":[{\"colorbar\":{\"outlinewidth\":0,\"ticks\":\"\"},\"colorscale\":[[0.0,\"#0d0887\"],[0.1111111111111111,\"#46039f\"],[0.2222222222222222,\"#7201a8\"],[0.3333333333333333,\"#9c179e\"],[0.4444444444444444,\"#bd3786\"],[0.5555555555555556,\"#d8576b\"],[0.6666666666666666,\"#ed7953\"],[0.7777777777777778,\"#fb9f3a\"],[0.8888888888888888,\"#fdca26\"],[1.0,\"#f0f921\"]],\"type\":\"histogram2d\"}],\"histogram\":[{\"marker\":{\"pattern\":{\"fillmode\":\"overlay\",\"size\":10,\"solidity\":0.2}},\"type\":\"histogram\"}],\"mesh3d\":[{\"colorbar\":{\"outlinewidth\":0,\"ticks\":\"\"},\"type\":\"mesh3d\"}],\"parcoords\":[{\"line\":{\"colorbar\":{\"outlinewidth\":0,\"ticks\":\"\"}},\"type\":\"parcoords\"}],\"pie\":[{\"automargin\":true,\"type\":\"pie\"}],\"scatter3d\":[{\"line\":{\"colorbar\":{\"outlinewidth\":0,\"ticks\":\"\"}},\"marker\":{\"colorbar\":{\"outlinewidth\":0,\"ticks\":\"\"}},\"type\":\"scatter3d\"}],\"scattercarpet\":[{\"marker\":{\"colorbar\":{\"outlinewidth\":0,\"ticks\":\"\"}},\"type\":\"scattercarpet\"}],\"scattergeo\":[{\"marker\":{\"colorbar\":{\"outlinewidth\":0,\"ticks\":\"\"}},\"type\":\"scattergeo\"}],\"scattergl\":[{\"marker\":{\"colorbar\":{\"outlinewidth\":0,\"ticks\":\"\"}},\"type\":\"scattergl\"}],\"scattermapbox\":[{\"marker\":{\"colorbar\":{\"outlinewidth\":0,\"ticks\":\"\"}},\"type\":\"scattermapbox\"}],\"scatterpolargl\":[{\"marker\":{\"colorbar\":{\"outlinewidth\":0,\"ticks\":\"\"}},\"type\":\"scatterpolargl\"}],\"scatterpolar\":[{\"marker\":{\"colorbar\":{\"outlinewidth\":0,\"ticks\":\"\"}},\"type\":\"scatterpolar\"}],\"scatter\":[{\"marker\":{\"colorbar\":{\"outlinewidth\":0,\"ticks\":\"\"}},\"type\":\"scatter\"}],\"scatterternary\":[{\"marker\":{\"colorbar\":{\"outlinewidth\":0,\"ticks\":\"\"}},\"type\":\"scatterternary\"}],\"surface\":[{\"colorbar\":{\"outlinewidth\":0,\"ticks\":\"\"},\"colorscale\":[[0.0,\"#0d0887\"],[0.1111111111111111,\"#46039f\"],[0.2222222222222222,\"#7201a8\"],[0.3333333333333333,\"#9c179e\"],[0.4444444444444444,\"#bd3786\"],[0.5555555555555556,\"#d8576b\"],[0.6666666666666666,\"#ed7953\"],[0.7777777777777778,\"#fb9f3a\"],[0.8888888888888888,\"#fdca26\"],[1.0,\"#f0f921\"]],\"type\":\"surface\"}],\"table\":[{\"cells\":{\"fill\":{\"color\":\"#EBF0F8\"},\"line\":{\"color\":\"white\"}},\"header\":{\"fill\":{\"color\":\"#C8D4E3\"},\"line\":{\"color\":\"white\"}},\"type\":\"table\"}]},\"layout\":{\"annotationdefaults\":{\"arrowcolor\":\"#2a3f5f\",\"arrowhead\":0,\"arrowwidth\":1},\"autotypenumbers\":\"strict\",\"coloraxis\":{\"colorbar\":{\"outlinewidth\":0,\"ticks\":\"\"}},\"colorscale\":{\"diverging\":[[0,\"#8e0152\"],[0.1,\"#c51b7d\"],[0.2,\"#de77ae\"],[0.3,\"#f1b6da\"],[0.4,\"#fde0ef\"],[0.5,\"#f7f7f7\"],[0.6,\"#e6f5d0\"],[0.7,\"#b8e186\"],[0.8,\"#7fbc41\"],[0.9,\"#4d9221\"],[1,\"#276419\"]],\"sequential\":[[0.0,\"#0d0887\"],[0.1111111111111111,\"#46039f\"],[0.2222222222222222,\"#7201a8\"],[0.3333333333333333,\"#9c179e\"],[0.4444444444444444,\"#bd3786\"],[0.5555555555555556,\"#d8576b\"],[0.6666666666666666,\"#ed7953\"],[0.7777777777777778,\"#fb9f3a\"],[0.8888888888888888,\"#fdca26\"],[1.0,\"#f0f921\"]],\"sequentialminus\":[[0.0,\"#0d0887\"],[0.1111111111111111,\"#46039f\"],[0.2222222222222222,\"#7201a8\"],[0.3333333333333333,\"#9c179e\"],[0.4444444444444444,\"#bd3786\"],[0.5555555555555556,\"#d8576b\"],[0.6666666666666666,\"#ed7953\"],[0.7777777777777778,\"#fb9f3a\"],[0.8888888888888888,\"#fdca26\"],[1.0,\"#f0f921\"]]},\"colorway\":[\"#636efa\",\"#EF553B\",\"#00cc96\",\"#ab63fa\",\"#FFA15A\",\"#19d3f3\",\"#FF6692\",\"#B6E880\",\"#FF97FF\",\"#FECB52\"],\"font\":{\"color\":\"#2a3f5f\"},\"geo\":{\"bgcolor\":\"white\",\"lakecolor\":\"white\",\"landcolor\":\"#E5ECF6\",\"showlakes\":true,\"showland\":true,\"subunitcolor\":\"white\"},\"hoverlabel\":{\"align\":\"left\"},\"hovermode\":\"closest\",\"mapbox\":{\"style\":\"light\"},\"paper_bgcolor\":\"white\",\"plot_bgcolor\":\"#E5ECF6\",\"polar\":{\"angularaxis\":{\"gridcolor\":\"white\",\"linecolor\":\"white\",\"ticks\":\"\"},\"bgcolor\":\"#E5ECF6\",\"radialaxis\":{\"gridcolor\":\"white\",\"linecolor\":\"white\",\"ticks\":\"\"}},\"scene\":{\"xaxis\":{\"backgroundcolor\":\"#E5ECF6\",\"gridcolor\":\"white\",\"gridwidth\":2,\"linecolor\":\"white\",\"showbackground\":true,\"ticks\":\"\",\"zerolinecolor\":\"white\"},\"yaxis\":{\"backgroundcolor\":\"#E5ECF6\",\"gridcolor\":\"white\",\"gridwidth\":2,\"linecolor\":\"white\",\"showbackground\":true,\"ticks\":\"\",\"zerolinecolor\":\"white\"},\"zaxis\":{\"backgroundcolor\":\"#E5ECF6\",\"gridcolor\":\"white\",\"gridwidth\":2,\"linecolor\":\"white\",\"showbackground\":true,\"ticks\":\"\",\"zerolinecolor\":\"white\"}},\"shapedefaults\":{\"line\":{\"color\":\"#2a3f5f\"}},\"ternary\":{\"aaxis\":{\"gridcolor\":\"white\",\"linecolor\":\"white\",\"ticks\":\"\"},\"baxis\":{\"gridcolor\":\"white\",\"linecolor\":\"white\",\"ticks\":\"\"},\"bgcolor\":\"#E5ECF6\",\"caxis\":{\"gridcolor\":\"white\",\"linecolor\":\"white\",\"ticks\":\"\"}},\"title\":{\"x\":0.05},\"xaxis\":{\"automargin\":true,\"gridcolor\":\"white\",\"linecolor\":\"white\",\"ticks\":\"\",\"title\":{\"standoff\":15},\"zerolinecolor\":\"white\",\"zerolinewidth\":2},\"yaxis\":{\"automargin\":true,\"gridcolor\":\"white\",\"linecolor\":\"white\",\"ticks\":\"\",\"title\":{\"standoff\":15},\"zerolinecolor\":\"white\",\"zerolinewidth\":2}}},\"title\":{\"font\":{\"color\":\"#4D5663\"}},\"xaxis\":{\"gridcolor\":\"#E1E5ED\",\"showgrid\":true,\"tickfont\":{\"color\":\"#4D5663\"},\"title\":{\"font\":{\"color\":\"#4D5663\"},\"text\":\"\"},\"zerolinecolor\":\"#E1E5ED\"},\"yaxis\":{\"gridcolor\":\"#E1E5ED\",\"showgrid\":true,\"tickfont\":{\"color\":\"#4D5663\"},\"title\":{\"font\":{\"color\":\"#4D5663\"},\"text\":\"\"},\"zerolinecolor\":\"#E1E5ED\"}},                        {\"showLink\": true, \"linkText\": \"Export to plot.ly\", \"plotlyServerURL\": \"https://plot.ly\", \"responsive\": true}                    ).then(function(){\n",
       "                            \n",
       "var gd = document.getElementById('ba709a81-f129-40e7-9ce4-60910beaa433');\n",
       "var x = new MutationObserver(function (mutations, observer) {{\n",
       "        var display = window.getComputedStyle(gd).display;\n",
       "        if (!display || display === 'none') {{\n",
       "            console.log([gd, 'removed!']);\n",
       "            Plotly.purge(gd);\n",
       "            observer.disconnect();\n",
       "        }}\n",
       "}});\n",
       "\n",
       "// Listen for the removal of the full notebook cells\n",
       "var notebookContainer = gd.closest('#notebook-container');\n",
       "if (notebookContainer) {{\n",
       "    x.observe(notebookContainer, {childList: true});\n",
       "}}\n",
       "\n",
       "// Listen for the clearing of the current output cell\n",
       "var outputEl = gd.closest('.output');\n",
       "if (outputEl) {{\n",
       "    x.observe(outputEl, {childList: true});\n",
       "}}\n",
       "\n",
       "                        })                };                });            </script>        </div>"
      ]
     },
     "metadata": {},
     "output_type": "display_data"
    }
   ],
   "source": [
    "df1['A'].iplot(kind = 'hist', bins = 50)"
   ]
  },
  {
   "cell_type": "code",
   "execution_count": 26,
   "id": "946a5922",
   "metadata": {},
   "outputs": [
    {
     "data": {
      "application/vnd.plotly.v1+json": {
       "config": {
        "linkText": "Export to plot.ly",
        "plotlyServerURL": "https://plot.ly",
        "showLink": true
       },
       "data": [
        {
         "histfunc": "count",
         "histnorm": "",
         "marker": {
          "color": "rgba(255, 153, 51, 1.0)",
          "line": {
           "color": "#4D5663",
           "width": 1.3
          }
         },
         "name": "A",
         "opacity": 0.8,
         "orientation": "v",
         "type": "histogram",
         "x": [
          -0.6564744824764208,
          -0.44246018622678035,
          -1.4210529165487331,
          2.138912840106512,
          0.25578258692089706,
          0.39805143783044833,
          -0.12701603877964637,
          -0.7336425614675899,
          0.17166378867506915,
          0.2710840189785207,
          0.8534092997086261,
          -0.28423806801324436,
          0.680442831707899,
          1.0056126864042327,
          0.22345415383044398,
          1.3471504835508696,
          0.4868772969639054,
          -0.8560743163392702,
          0.2437582614308069,
          0.13615747280918256,
          1.7766279162229373,
          -0.047392212385020574,
          -1.478739271543873,
          0.6674437983342687,
          -1.0518729658163994,
          1.1450743950503413,
          0.45312446388413863,
          -2.247532593483744,
          -0.9380816730886774,
          0.5747550876841555,
          0.7445251795288704,
          -1.1397301094244776,
          -0.7330965447959531,
          0.0011163348157742902,
          -0.4384112915386252,
          -0.5103765163837336,
          0.2572701355520642,
          -0.2672705429298812,
          -0.3152386136033564,
          0.1641860318298152,
          -0.6148004002051985,
          0.07205002157098324,
          -2.3569799035568906,
          1.0536881549659127,
          0.026917841374375365,
          -1.5516053705251112,
          -0.37391562462327005,
          0.16636832151140332,
          2.1868099430258554,
          -0.41916960443056883,
          0.10496423203936313,
          0.6279926573009582,
          -0.6471640572249683,
          0.30945396871171144,
          -0.4692873864786442,
          -1.090176869362269,
          -0.4143546663277241,
          -0.9027350183105727,
          0.469359002390997,
          -1.4219684339163654,
          0.820847128917743,
          0.05483278813128337,
          1.2392518808560637,
          1.545366633263906,
          0.41934477765089295,
          0.8240554271196706,
          0.8649157101002072,
          -2.1965301978204814,
          0.3476863183989522,
          -0.12640063221688605,
          -1.1095799572682512,
          -0.7608133813357494,
          -2.2044745973693805,
          -2.0304273169011986,
          1.2711060359943978,
          0.13692317269969045,
          -0.0583827092739993,
          2.4115580112408193,
          -2.0777630091319015,
          0.9344928525053398,
          0.3953105866307476,
          -1.0128314490635355,
          1.3925168200064224,
          -0.2746806087720305,
          -0.15873804270543176,
          -1.2063378835963559,
          1.4659391526336598,
          0.7259062288360807,
          -0.018616086991251776,
          -1.0972073757865193,
          -1.0458427688984127,
          0.6742520113874113,
          -0.9688805187614103,
          -2.606590225991158,
          0.2665069685897831,
          0.08035808638610199,
          -1.019013237251515,
          -0.4491197717632893,
          0.9587565600232877,
          -1.2542926097550613
         ]
        },
        {
         "histfunc": "count",
         "histnorm": "",
         "marker": {
          "color": "rgba(55, 128, 191, 1.0)",
          "line": {
           "color": "#4D5663",
           "width": 1.3
          }
         },
         "name": "B",
         "opacity": 0.8,
         "orientation": "v",
         "type": "histogram",
         "x": [
          0.7580307738992594,
          -0.8625173585817463,
          -1.6366635579880784,
          -0.026788812721112613,
          0.23161175849466448,
          1.2199293002623273,
          -0.7827188654461145,
          -0.7798390650913686,
          -0.12947907683514331,
          1.0712209025603268,
          -1.6383769059706026,
          0.25328144466334795,
          1.742638202990484,
          -0.056327495806758165,
          0.9437057933647285,
          2.8831757257521318,
          -0.4852972323833704,
          -0.4567365046026048,
          1.751431838705155,
          -2.406015038199109,
          0.7666963809140104,
          0.5834452650619113,
          -0.8810627750669326,
          -0.036135506573511146,
          0.31705001021648394,
          -0.7061871317069055,
          -0.3159150502367156,
          0.08679183834852548,
          -0.8773079487843657,
          0.34059428566701344,
          1.0117894523788795,
          -1.4223713004706713,
          0.3673575618258237,
          0.7994209827176314,
          -1.1402490848522213,
          -0.3098259650285641,
          0.44816075628217805,
          0.49225862230469863,
          -0.3198429663090066,
          0.7535928972424636,
          0.4062231366911554,
          -1.08852071659089,
          1.1932699862276017,
          -0.046812403925451065,
          -0.6242289885758998,
          0.47350489169255794,
          1.3140622219608786,
          0.7095495168694461,
          0.9399012385745007,
          -0.5384307148443165,
          -0.40173779338780424,
          0.8825797641438177,
          0.6310546479945338,
          -1.4908672034369301,
          1.105551235508307,
          -1.0855229769921029,
          1.8267336788316682,
          -1.4570122535225705,
          1.0784279389579425,
          -0.23609493119741587,
          -1.4518345771106087,
          -0.936347192855875,
          -0.516520118557937,
          1.9069306637372558,
          1.662383470919966,
          0.9539323596162675,
          -1.4309045262582105,
          0.13734272360761482,
          0.9725589422670315,
          0.19749937583635072,
          0.74497483397035,
          0.13798664679425274,
          -0.15382944980659588,
          0.42496202557755824,
          0.9446417743242981,
          1.4187557504647668,
          0.6373039613528989,
          1.0420549704138093,
          0.7428217879179443,
          -0.5985146435300484,
          1.3981806462267188,
          -0.6561336730020627,
          -0.4070023977511638,
          -0.452667589405772,
          -0.20514059006008803,
          0.011753641259448565,
          0.18499711275591785,
          0.44806318398005307,
          -0.7264420958566794,
          0.2040679431299117,
          -1.001927548621951,
          -1.2416331719420421,
          -1.6536030828556114,
          0.04634236549350992,
          -0.4952910163578565,
          0.22935390509840975,
          -0.9281710976792457,
          0.5036946030081555,
          -0.43453838988986104,
          -0.9682049615136412
         ]
        },
        {
         "histfunc": "count",
         "histnorm": "",
         "marker": {
          "color": "rgba(50, 171, 96, 1.0)",
          "line": {
           "color": "#4D5663",
           "width": 1.3
          }
         },
         "name": "C",
         "opacity": 0.8,
         "orientation": "v",
         "type": "histogram",
         "x": [
          -0.42328414092118744,
          1.0353472703466378,
          -0.0294408149925103,
          -1.3080779107417164,
          0.25711409791473455,
          0.44151315445685657,
          -0.3195050000927743,
          -0.0782500400354517,
          0.3676051961488906,
          -0.2978329257209743,
          -0.2766171637298272,
          -0.24694369601875368,
          -0.10309387266580315,
          0.7002446278340115,
          0.6308102905466025,
          2.0903240423469898,
          -0.2317200157760494,
          -0.5234257695437491,
          1.8548080260680004,
          0.4462577324476635,
          0.16869572021215656,
          -0.2016134910168743,
          1.136302564871149,
          0.09046804222624254,
          0.09604573434310844,
          0.7101795501867115,
          -2.2211369990891976,
          0.9989208680144112,
          -1.9128529841297661,
          -0.23169876192442396,
          1.5039552670839198,
          0.07453974564807933,
          1.6458237555562663,
          -1.1306690961320491,
          1.8809855537953806,
          1.132954840145376,
          1.896604275133463,
          0.5134515307830606,
          0.24846752386668378,
          -1.2813358260908256,
          -1.010521716642204,
          -2.3311459813542825,
          -0.6680178594950927,
          -0.816257723324524,
          -0.31215073260909865,
          0.2896328233261768,
          -0.2942037452702574,
          -1.024219271919298,
          -1.401699272632873,
          -0.5209246285045438,
          0.7320320730304343,
          0.5283941356938554,
          -1.1817292342895411,
          -1.3859581339557363,
          0.8237850642318686,
          0.9257312630709252,
          -1.599339160178483,
          -2.161194784895461,
          0.6964050088817003,
          1.5000282089604031,
          0.08725442825022327,
          0.20878016257964457,
          0.05873282026572182,
          0.6161988103482395,
          1.834148373840194,
          -1.2540834843384059,
          0.6871027942149779,
          0.026056859698059952,
          -0.4923515756312518,
          -0.5927746585197166,
          1.3610770586776446,
          0.47391091683380754,
          -1.043306889443504,
          -0.9509116911101757,
          -1.259416192419341,
          0.9921273537989724,
          0.987622646571816,
          -1.3342156202755444,
          0.619427880375424,
          -1.6728984990220959,
          -0.2707463551132399,
          -1.2529502080559582,
          -0.7971115155360949,
          1.5541975949074123,
          -1.1773786977491547,
          0.5423811266351756,
          0.24605744005141958,
          0.6004666442151226,
          0.07809251506709225,
          0.2266454844784491,
          1.6991242708513101,
          0.06415258070870512,
          -1.0142989668442808,
          -0.2768891447723133,
          0.2815421718642755,
          -0.8970518215859872,
          -1.408365328601296,
          -0.7172290558737238,
          -0.9120682724390551,
          -0.3758549478690623
         ]
        },
        {
         "histfunc": "count",
         "histnorm": "",
         "marker": {
          "color": "rgba(128, 0, 128, 1.0)",
          "line": {
           "color": "#4D5663",
           "width": 1.3
          }
         },
         "name": "D",
         "opacity": 0.8,
         "orientation": "v",
         "type": "histogram",
         "x": [
          -0.10716739297592093,
          0.9479447284269172,
          1.370449958759234,
          -0.3486615965666615,
          1.7595465505714352,
          1.2108974389734368,
          -0.2558252394530886,
          -0.3260742183018137,
          -1.0322519522885203,
          0.16297492715093576,
          -1.4054321746177054,
          -0.00698178770017601,
          2.061329468159568,
          0.9141131146417977,
          0.8540937334668862,
          -0.2863489155732238,
          -0.5347005786338509,
          0.890134217321711,
          -0.950323074305132,
          -0.13587532077936681,
          -0.12484544447554184,
          -0.9370911689176806,
          1.3146357722090332,
          -0.979263981063374,
          1.6873436206550463,
          0.025813178944782612,
          0.504914906087867,
          -0.6052362964597082,
          -1.066220133411954,
          1.1234871186905926,
          0.846274540328193,
          -1.0831796372168665,
          1.06996558045424,
          -0.5118601253884535,
          0.10609320920173515,
          0.535557285109827,
          -0.3984491458827878,
          0.05999073369188505,
          -0.0074878011174125784,
          0.4670072811114906,
          0.3457846756450776,
          -0.06540687218194201,
          0.3344504087283477,
          -0.36236153907488633,
          0.12095079414114726,
          -0.2864767074860481,
          -0.9504952195194385,
          -0.08660523507889167,
          -0.10925485119560914,
          -0.8138806328071769,
          -1.1545992931889217,
          0.9980930558710237,
          0.9183716149515965,
          0.6686252676065014,
          0.11654882546394174,
          0.7979385777603432,
          0.08313121585625391,
          -0.06228743418704124,
          1.6011316341757469,
          -0.3155469149620852,
          0.33716677390464384,
          0.7654842236614688,
          0.609143054712147,
          0.2542674371087768,
          0.38922056390307846,
          -1.3521129363192337,
          -0.4146807398899897,
          -0.6601327716673171,
          0.05342590961294951,
          0.03553851069847322,
          -0.05992784857539338,
          -1.046987014575927,
          0.619076819809439,
          -0.043419863957865255,
          -0.8376319917789405,
          -0.7475893747085525,
          -1.1474612757784273,
          -0.4437291270075998,
          0.7188952225519313,
          1.2749955498757781,
          0.6180104532009417,
          1.1040970559403493,
          -0.6904557848469052,
          0.9700683280446663,
          -2.615923999858738,
          0.20587985862580907,
          -1.2747922174592787,
          0.04425500071520386,
          -0.6111696155178268,
          -1.8934406758301399,
          0.3125770370371499,
          1.993201331082072,
          0.47292052826578557,
          1.758906521973015,
          1.2655394276257803,
          0.9414468603637745,
          0.7297611658319217,
          -0.29012638219263476,
          -0.581399645596098,
          0.7532369215612564
         ]
        }
       ],
       "layout": {
        "barmode": "overlay",
        "legend": {
         "bgcolor": "#F5F6F9",
         "font": {
          "color": "#4D5663"
         }
        },
        "paper_bgcolor": "#F5F6F9",
        "plot_bgcolor": "#F5F6F9",
        "template": {
         "data": {
          "bar": [
           {
            "error_x": {
             "color": "#2a3f5f"
            },
            "error_y": {
             "color": "#2a3f5f"
            },
            "marker": {
             "line": {
              "color": "#E5ECF6",
              "width": 0.5
             },
             "pattern": {
              "fillmode": "overlay",
              "size": 10,
              "solidity": 0.2
             }
            },
            "type": "bar"
           }
          ],
          "barpolar": [
           {
            "marker": {
             "line": {
              "color": "#E5ECF6",
              "width": 0.5
             },
             "pattern": {
              "fillmode": "overlay",
              "size": 10,
              "solidity": 0.2
             }
            },
            "type": "barpolar"
           }
          ],
          "carpet": [
           {
            "aaxis": {
             "endlinecolor": "#2a3f5f",
             "gridcolor": "white",
             "linecolor": "white",
             "minorgridcolor": "white",
             "startlinecolor": "#2a3f5f"
            },
            "baxis": {
             "endlinecolor": "#2a3f5f",
             "gridcolor": "white",
             "linecolor": "white",
             "minorgridcolor": "white",
             "startlinecolor": "#2a3f5f"
            },
            "type": "carpet"
           }
          ],
          "choropleth": [
           {
            "colorbar": {
             "outlinewidth": 0,
             "ticks": ""
            },
            "type": "choropleth"
           }
          ],
          "contour": [
           {
            "colorbar": {
             "outlinewidth": 0,
             "ticks": ""
            },
            "colorscale": [
             [
              0,
              "#0d0887"
             ],
             [
              0.1111111111111111,
              "#46039f"
             ],
             [
              0.2222222222222222,
              "#7201a8"
             ],
             [
              0.3333333333333333,
              "#9c179e"
             ],
             [
              0.4444444444444444,
              "#bd3786"
             ],
             [
              0.5555555555555556,
              "#d8576b"
             ],
             [
              0.6666666666666666,
              "#ed7953"
             ],
             [
              0.7777777777777778,
              "#fb9f3a"
             ],
             [
              0.8888888888888888,
              "#fdca26"
             ],
             [
              1,
              "#f0f921"
             ]
            ],
            "type": "contour"
           }
          ],
          "contourcarpet": [
           {
            "colorbar": {
             "outlinewidth": 0,
             "ticks": ""
            },
            "type": "contourcarpet"
           }
          ],
          "heatmap": [
           {
            "colorbar": {
             "outlinewidth": 0,
             "ticks": ""
            },
            "colorscale": [
             [
              0,
              "#0d0887"
             ],
             [
              0.1111111111111111,
              "#46039f"
             ],
             [
              0.2222222222222222,
              "#7201a8"
             ],
             [
              0.3333333333333333,
              "#9c179e"
             ],
             [
              0.4444444444444444,
              "#bd3786"
             ],
             [
              0.5555555555555556,
              "#d8576b"
             ],
             [
              0.6666666666666666,
              "#ed7953"
             ],
             [
              0.7777777777777778,
              "#fb9f3a"
             ],
             [
              0.8888888888888888,
              "#fdca26"
             ],
             [
              1,
              "#f0f921"
             ]
            ],
            "type": "heatmap"
           }
          ],
          "heatmapgl": [
           {
            "colorbar": {
             "outlinewidth": 0,
             "ticks": ""
            },
            "colorscale": [
             [
              0,
              "#0d0887"
             ],
             [
              0.1111111111111111,
              "#46039f"
             ],
             [
              0.2222222222222222,
              "#7201a8"
             ],
             [
              0.3333333333333333,
              "#9c179e"
             ],
             [
              0.4444444444444444,
              "#bd3786"
             ],
             [
              0.5555555555555556,
              "#d8576b"
             ],
             [
              0.6666666666666666,
              "#ed7953"
             ],
             [
              0.7777777777777778,
              "#fb9f3a"
             ],
             [
              0.8888888888888888,
              "#fdca26"
             ],
             [
              1,
              "#f0f921"
             ]
            ],
            "type": "heatmapgl"
           }
          ],
          "histogram": [
           {
            "marker": {
             "pattern": {
              "fillmode": "overlay",
              "size": 10,
              "solidity": 0.2
             }
            },
            "type": "histogram"
           }
          ],
          "histogram2d": [
           {
            "colorbar": {
             "outlinewidth": 0,
             "ticks": ""
            },
            "colorscale": [
             [
              0,
              "#0d0887"
             ],
             [
              0.1111111111111111,
              "#46039f"
             ],
             [
              0.2222222222222222,
              "#7201a8"
             ],
             [
              0.3333333333333333,
              "#9c179e"
             ],
             [
              0.4444444444444444,
              "#bd3786"
             ],
             [
              0.5555555555555556,
              "#d8576b"
             ],
             [
              0.6666666666666666,
              "#ed7953"
             ],
             [
              0.7777777777777778,
              "#fb9f3a"
             ],
             [
              0.8888888888888888,
              "#fdca26"
             ],
             [
              1,
              "#f0f921"
             ]
            ],
            "type": "histogram2d"
           }
          ],
          "histogram2dcontour": [
           {
            "colorbar": {
             "outlinewidth": 0,
             "ticks": ""
            },
            "colorscale": [
             [
              0,
              "#0d0887"
             ],
             [
              0.1111111111111111,
              "#46039f"
             ],
             [
              0.2222222222222222,
              "#7201a8"
             ],
             [
              0.3333333333333333,
              "#9c179e"
             ],
             [
              0.4444444444444444,
              "#bd3786"
             ],
             [
              0.5555555555555556,
              "#d8576b"
             ],
             [
              0.6666666666666666,
              "#ed7953"
             ],
             [
              0.7777777777777778,
              "#fb9f3a"
             ],
             [
              0.8888888888888888,
              "#fdca26"
             ],
             [
              1,
              "#f0f921"
             ]
            ],
            "type": "histogram2dcontour"
           }
          ],
          "mesh3d": [
           {
            "colorbar": {
             "outlinewidth": 0,
             "ticks": ""
            },
            "type": "mesh3d"
           }
          ],
          "parcoords": [
           {
            "line": {
             "colorbar": {
              "outlinewidth": 0,
              "ticks": ""
             }
            },
            "type": "parcoords"
           }
          ],
          "pie": [
           {
            "automargin": true,
            "type": "pie"
           }
          ],
          "scatter": [
           {
            "marker": {
             "colorbar": {
              "outlinewidth": 0,
              "ticks": ""
             }
            },
            "type": "scatter"
           }
          ],
          "scatter3d": [
           {
            "line": {
             "colorbar": {
              "outlinewidth": 0,
              "ticks": ""
             }
            },
            "marker": {
             "colorbar": {
              "outlinewidth": 0,
              "ticks": ""
             }
            },
            "type": "scatter3d"
           }
          ],
          "scattercarpet": [
           {
            "marker": {
             "colorbar": {
              "outlinewidth": 0,
              "ticks": ""
             }
            },
            "type": "scattercarpet"
           }
          ],
          "scattergeo": [
           {
            "marker": {
             "colorbar": {
              "outlinewidth": 0,
              "ticks": ""
             }
            },
            "type": "scattergeo"
           }
          ],
          "scattergl": [
           {
            "marker": {
             "colorbar": {
              "outlinewidth": 0,
              "ticks": ""
             }
            },
            "type": "scattergl"
           }
          ],
          "scattermapbox": [
           {
            "marker": {
             "colorbar": {
              "outlinewidth": 0,
              "ticks": ""
             }
            },
            "type": "scattermapbox"
           }
          ],
          "scatterpolar": [
           {
            "marker": {
             "colorbar": {
              "outlinewidth": 0,
              "ticks": ""
             }
            },
            "type": "scatterpolar"
           }
          ],
          "scatterpolargl": [
           {
            "marker": {
             "colorbar": {
              "outlinewidth": 0,
              "ticks": ""
             }
            },
            "type": "scatterpolargl"
           }
          ],
          "scatterternary": [
           {
            "marker": {
             "colorbar": {
              "outlinewidth": 0,
              "ticks": ""
             }
            },
            "type": "scatterternary"
           }
          ],
          "surface": [
           {
            "colorbar": {
             "outlinewidth": 0,
             "ticks": ""
            },
            "colorscale": [
             [
              0,
              "#0d0887"
             ],
             [
              0.1111111111111111,
              "#46039f"
             ],
             [
              0.2222222222222222,
              "#7201a8"
             ],
             [
              0.3333333333333333,
              "#9c179e"
             ],
             [
              0.4444444444444444,
              "#bd3786"
             ],
             [
              0.5555555555555556,
              "#d8576b"
             ],
             [
              0.6666666666666666,
              "#ed7953"
             ],
             [
              0.7777777777777778,
              "#fb9f3a"
             ],
             [
              0.8888888888888888,
              "#fdca26"
             ],
             [
              1,
              "#f0f921"
             ]
            ],
            "type": "surface"
           }
          ],
          "table": [
           {
            "cells": {
             "fill": {
              "color": "#EBF0F8"
             },
             "line": {
              "color": "white"
             }
            },
            "header": {
             "fill": {
              "color": "#C8D4E3"
             },
             "line": {
              "color": "white"
             }
            },
            "type": "table"
           }
          ]
         },
         "layout": {
          "annotationdefaults": {
           "arrowcolor": "#2a3f5f",
           "arrowhead": 0,
           "arrowwidth": 1
          },
          "autotypenumbers": "strict",
          "coloraxis": {
           "colorbar": {
            "outlinewidth": 0,
            "ticks": ""
           }
          },
          "colorscale": {
           "diverging": [
            [
             0,
             "#8e0152"
            ],
            [
             0.1,
             "#c51b7d"
            ],
            [
             0.2,
             "#de77ae"
            ],
            [
             0.3,
             "#f1b6da"
            ],
            [
             0.4,
             "#fde0ef"
            ],
            [
             0.5,
             "#f7f7f7"
            ],
            [
             0.6,
             "#e6f5d0"
            ],
            [
             0.7,
             "#b8e186"
            ],
            [
             0.8,
             "#7fbc41"
            ],
            [
             0.9,
             "#4d9221"
            ],
            [
             1,
             "#276419"
            ]
           ],
           "sequential": [
            [
             0,
             "#0d0887"
            ],
            [
             0.1111111111111111,
             "#46039f"
            ],
            [
             0.2222222222222222,
             "#7201a8"
            ],
            [
             0.3333333333333333,
             "#9c179e"
            ],
            [
             0.4444444444444444,
             "#bd3786"
            ],
            [
             0.5555555555555556,
             "#d8576b"
            ],
            [
             0.6666666666666666,
             "#ed7953"
            ],
            [
             0.7777777777777778,
             "#fb9f3a"
            ],
            [
             0.8888888888888888,
             "#fdca26"
            ],
            [
             1,
             "#f0f921"
            ]
           ],
           "sequentialminus": [
            [
             0,
             "#0d0887"
            ],
            [
             0.1111111111111111,
             "#46039f"
            ],
            [
             0.2222222222222222,
             "#7201a8"
            ],
            [
             0.3333333333333333,
             "#9c179e"
            ],
            [
             0.4444444444444444,
             "#bd3786"
            ],
            [
             0.5555555555555556,
             "#d8576b"
            ],
            [
             0.6666666666666666,
             "#ed7953"
            ],
            [
             0.7777777777777778,
             "#fb9f3a"
            ],
            [
             0.8888888888888888,
             "#fdca26"
            ],
            [
             1,
             "#f0f921"
            ]
           ]
          },
          "colorway": [
           "#636efa",
           "#EF553B",
           "#00cc96",
           "#ab63fa",
           "#FFA15A",
           "#19d3f3",
           "#FF6692",
           "#B6E880",
           "#FF97FF",
           "#FECB52"
          ],
          "font": {
           "color": "#2a3f5f"
          },
          "geo": {
           "bgcolor": "white",
           "lakecolor": "white",
           "landcolor": "#E5ECF6",
           "showlakes": true,
           "showland": true,
           "subunitcolor": "white"
          },
          "hoverlabel": {
           "align": "left"
          },
          "hovermode": "closest",
          "mapbox": {
           "style": "light"
          },
          "paper_bgcolor": "white",
          "plot_bgcolor": "#E5ECF6",
          "polar": {
           "angularaxis": {
            "gridcolor": "white",
            "linecolor": "white",
            "ticks": ""
           },
           "bgcolor": "#E5ECF6",
           "radialaxis": {
            "gridcolor": "white",
            "linecolor": "white",
            "ticks": ""
           }
          },
          "scene": {
           "xaxis": {
            "backgroundcolor": "#E5ECF6",
            "gridcolor": "white",
            "gridwidth": 2,
            "linecolor": "white",
            "showbackground": true,
            "ticks": "",
            "zerolinecolor": "white"
           },
           "yaxis": {
            "backgroundcolor": "#E5ECF6",
            "gridcolor": "white",
            "gridwidth": 2,
            "linecolor": "white",
            "showbackground": true,
            "ticks": "",
            "zerolinecolor": "white"
           },
           "zaxis": {
            "backgroundcolor": "#E5ECF6",
            "gridcolor": "white",
            "gridwidth": 2,
            "linecolor": "white",
            "showbackground": true,
            "ticks": "",
            "zerolinecolor": "white"
           }
          },
          "shapedefaults": {
           "line": {
            "color": "#2a3f5f"
           }
          },
          "ternary": {
           "aaxis": {
            "gridcolor": "white",
            "linecolor": "white",
            "ticks": ""
           },
           "baxis": {
            "gridcolor": "white",
            "linecolor": "white",
            "ticks": ""
           },
           "bgcolor": "#E5ECF6",
           "caxis": {
            "gridcolor": "white",
            "linecolor": "white",
            "ticks": ""
           }
          },
          "title": {
           "x": 0.05
          },
          "xaxis": {
           "automargin": true,
           "gridcolor": "white",
           "linecolor": "white",
           "ticks": "",
           "title": {
            "standoff": 15
           },
           "zerolinecolor": "white",
           "zerolinewidth": 2
          },
          "yaxis": {
           "automargin": true,
           "gridcolor": "white",
           "linecolor": "white",
           "ticks": "",
           "title": {
            "standoff": 15
           },
           "zerolinecolor": "white",
           "zerolinewidth": 2
          }
         }
        },
        "title": {
         "font": {
          "color": "#4D5663"
         }
        },
        "xaxis": {
         "gridcolor": "#E1E5ED",
         "showgrid": true,
         "tickfont": {
          "color": "#4D5663"
         },
         "title": {
          "font": {
           "color": "#4D5663"
          },
          "text": ""
         },
         "zerolinecolor": "#E1E5ED"
        },
        "yaxis": {
         "gridcolor": "#E1E5ED",
         "showgrid": true,
         "tickfont": {
          "color": "#4D5663"
         },
         "title": {
          "font": {
           "color": "#4D5663"
          },
          "text": ""
         },
         "zerolinecolor": "#E1E5ED"
        }
       }
      },
      "text/html": [
       "<div>                            <div id=\"9ebe5060-791f-41a7-ab7b-7aebfc30454f\" class=\"plotly-graph-div\" style=\"height:525px; width:100%;\"></div>            <script type=\"text/javascript\">                require([\"plotly\"], function(Plotly) {                    window.PLOTLYENV=window.PLOTLYENV || {};\n",
       "                    window.PLOTLYENV.BASE_URL='https://plot.ly';                                    if (document.getElementById(\"9ebe5060-791f-41a7-ab7b-7aebfc30454f\")) {                    Plotly.newPlot(                        \"9ebe5060-791f-41a7-ab7b-7aebfc30454f\",                        [{\"histfunc\":\"count\",\"histnorm\":\"\",\"marker\":{\"color\":\"rgba(255, 153, 51, 1.0)\",\"line\":{\"color\":\"#4D5663\",\"width\":1.3}},\"name\":\"A\",\"opacity\":0.8,\"orientation\":\"v\",\"x\":[-0.6564744824764208,-0.44246018622678035,-1.4210529165487331,2.138912840106512,0.25578258692089706,0.39805143783044833,-0.12701603877964637,-0.7336425614675899,0.17166378867506915,0.2710840189785207,0.8534092997086261,-0.28423806801324436,0.680442831707899,1.0056126864042327,0.22345415383044398,1.3471504835508696,0.4868772969639054,-0.8560743163392702,0.2437582614308069,0.13615747280918256,1.7766279162229373,-0.047392212385020574,-1.478739271543873,0.6674437983342687,-1.0518729658163994,1.1450743950503413,0.45312446388413863,-2.247532593483744,-0.9380816730886774,0.5747550876841555,0.7445251795288704,-1.1397301094244776,-0.7330965447959531,0.0011163348157742902,-0.4384112915386252,-0.5103765163837336,0.2572701355520642,-0.2672705429298812,-0.3152386136033564,0.1641860318298152,-0.6148004002051985,0.07205002157098324,-2.3569799035568906,1.0536881549659127,0.026917841374375365,-1.5516053705251112,-0.37391562462327005,0.16636832151140332,2.1868099430258554,-0.41916960443056883,0.10496423203936313,0.6279926573009582,-0.6471640572249683,0.30945396871171144,-0.4692873864786442,-1.090176869362269,-0.4143546663277241,-0.9027350183105727,0.469359002390997,-1.4219684339163654,0.820847128917743,0.05483278813128337,1.2392518808560637,1.545366633263906,0.41934477765089295,0.8240554271196706,0.8649157101002072,-2.1965301978204814,0.3476863183989522,-0.12640063221688605,-1.1095799572682512,-0.7608133813357494,-2.2044745973693805,-2.0304273169011986,1.2711060359943978,0.13692317269969045,-0.0583827092739993,2.4115580112408193,-2.0777630091319015,0.9344928525053398,0.3953105866307476,-1.0128314490635355,1.3925168200064224,-0.2746806087720305,-0.15873804270543176,-1.2063378835963559,1.4659391526336598,0.7259062288360807,-0.018616086991251776,-1.0972073757865193,-1.0458427688984127,0.6742520113874113,-0.9688805187614103,-2.606590225991158,0.2665069685897831,0.08035808638610199,-1.019013237251515,-0.4491197717632893,0.9587565600232877,-1.2542926097550613],\"type\":\"histogram\"},{\"histfunc\":\"count\",\"histnorm\":\"\",\"marker\":{\"color\":\"rgba(55, 128, 191, 1.0)\",\"line\":{\"color\":\"#4D5663\",\"width\":1.3}},\"name\":\"B\",\"opacity\":0.8,\"orientation\":\"v\",\"x\":[0.7580307738992594,-0.8625173585817463,-1.6366635579880784,-0.026788812721112613,0.23161175849466448,1.2199293002623273,-0.7827188654461145,-0.7798390650913686,-0.12947907683514331,1.0712209025603268,-1.6383769059706026,0.25328144466334795,1.742638202990484,-0.056327495806758165,0.9437057933647285,2.8831757257521318,-0.4852972323833704,-0.4567365046026048,1.751431838705155,-2.406015038199109,0.7666963809140104,0.5834452650619113,-0.8810627750669326,-0.036135506573511146,0.31705001021648394,-0.7061871317069055,-0.3159150502367156,0.08679183834852548,-0.8773079487843657,0.34059428566701344,1.0117894523788795,-1.4223713004706713,0.3673575618258237,0.7994209827176314,-1.1402490848522213,-0.3098259650285641,0.44816075628217805,0.49225862230469863,-0.3198429663090066,0.7535928972424636,0.4062231366911554,-1.08852071659089,1.1932699862276017,-0.046812403925451065,-0.6242289885758998,0.47350489169255794,1.3140622219608786,0.7095495168694461,0.9399012385745007,-0.5384307148443165,-0.40173779338780424,0.8825797641438177,0.6310546479945338,-1.4908672034369301,1.105551235508307,-1.0855229769921029,1.8267336788316682,-1.4570122535225705,1.0784279389579425,-0.23609493119741587,-1.4518345771106087,-0.936347192855875,-0.516520118557937,1.9069306637372558,1.662383470919966,0.9539323596162675,-1.4309045262582105,0.13734272360761482,0.9725589422670315,0.19749937583635072,0.74497483397035,0.13798664679425274,-0.15382944980659588,0.42496202557755824,0.9446417743242981,1.4187557504647668,0.6373039613528989,1.0420549704138093,0.7428217879179443,-0.5985146435300484,1.3981806462267188,-0.6561336730020627,-0.4070023977511638,-0.452667589405772,-0.20514059006008803,0.011753641259448565,0.18499711275591785,0.44806318398005307,-0.7264420958566794,0.2040679431299117,-1.001927548621951,-1.2416331719420421,-1.6536030828556114,0.04634236549350992,-0.4952910163578565,0.22935390509840975,-0.9281710976792457,0.5036946030081555,-0.43453838988986104,-0.9682049615136412],\"type\":\"histogram\"},{\"histfunc\":\"count\",\"histnorm\":\"\",\"marker\":{\"color\":\"rgba(50, 171, 96, 1.0)\",\"line\":{\"color\":\"#4D5663\",\"width\":1.3}},\"name\":\"C\",\"opacity\":0.8,\"orientation\":\"v\",\"x\":[-0.42328414092118744,1.0353472703466378,-0.0294408149925103,-1.3080779107417164,0.25711409791473455,0.44151315445685657,-0.3195050000927743,-0.0782500400354517,0.3676051961488906,-0.2978329257209743,-0.2766171637298272,-0.24694369601875368,-0.10309387266580315,0.7002446278340115,0.6308102905466025,2.0903240423469898,-0.2317200157760494,-0.5234257695437491,1.8548080260680004,0.4462577324476635,0.16869572021215656,-0.2016134910168743,1.136302564871149,0.09046804222624254,0.09604573434310844,0.7101795501867115,-2.2211369990891976,0.9989208680144112,-1.9128529841297661,-0.23169876192442396,1.5039552670839198,0.07453974564807933,1.6458237555562663,-1.1306690961320491,1.8809855537953806,1.132954840145376,1.896604275133463,0.5134515307830606,0.24846752386668378,-1.2813358260908256,-1.010521716642204,-2.3311459813542825,-0.6680178594950927,-0.816257723324524,-0.31215073260909865,0.2896328233261768,-0.2942037452702574,-1.024219271919298,-1.401699272632873,-0.5209246285045438,0.7320320730304343,0.5283941356938554,-1.1817292342895411,-1.3859581339557363,0.8237850642318686,0.9257312630709252,-1.599339160178483,-2.161194784895461,0.6964050088817003,1.5000282089604031,0.08725442825022327,0.20878016257964457,0.05873282026572182,0.6161988103482395,1.834148373840194,-1.2540834843384059,0.6871027942149779,0.026056859698059952,-0.4923515756312518,-0.5927746585197166,1.3610770586776446,0.47391091683380754,-1.043306889443504,-0.9509116911101757,-1.259416192419341,0.9921273537989724,0.987622646571816,-1.3342156202755444,0.619427880375424,-1.6728984990220959,-0.2707463551132399,-1.2529502080559582,-0.7971115155360949,1.5541975949074123,-1.1773786977491547,0.5423811266351756,0.24605744005141958,0.6004666442151226,0.07809251506709225,0.2266454844784491,1.6991242708513101,0.06415258070870512,-1.0142989668442808,-0.2768891447723133,0.2815421718642755,-0.8970518215859872,-1.408365328601296,-0.7172290558737238,-0.9120682724390551,-0.3758549478690623],\"type\":\"histogram\"},{\"histfunc\":\"count\",\"histnorm\":\"\",\"marker\":{\"color\":\"rgba(128, 0, 128, 1.0)\",\"line\":{\"color\":\"#4D5663\",\"width\":1.3}},\"name\":\"D\",\"opacity\":0.8,\"orientation\":\"v\",\"x\":[-0.10716739297592093,0.9479447284269172,1.370449958759234,-0.3486615965666615,1.7595465505714352,1.2108974389734368,-0.2558252394530886,-0.3260742183018137,-1.0322519522885203,0.16297492715093576,-1.4054321746177054,-0.00698178770017601,2.061329468159568,0.9141131146417977,0.8540937334668862,-0.2863489155732238,-0.5347005786338509,0.890134217321711,-0.950323074305132,-0.13587532077936681,-0.12484544447554184,-0.9370911689176806,1.3146357722090332,-0.979263981063374,1.6873436206550463,0.025813178944782612,0.504914906087867,-0.6052362964597082,-1.066220133411954,1.1234871186905926,0.846274540328193,-1.0831796372168665,1.06996558045424,-0.5118601253884535,0.10609320920173515,0.535557285109827,-0.3984491458827878,0.05999073369188505,-0.0074878011174125784,0.4670072811114906,0.3457846756450776,-0.06540687218194201,0.3344504087283477,-0.36236153907488633,0.12095079414114726,-0.2864767074860481,-0.9504952195194385,-0.08660523507889167,-0.10925485119560914,-0.8138806328071769,-1.1545992931889217,0.9980930558710237,0.9183716149515965,0.6686252676065014,0.11654882546394174,0.7979385777603432,0.08313121585625391,-0.06228743418704124,1.6011316341757469,-0.3155469149620852,0.33716677390464384,0.7654842236614688,0.609143054712147,0.2542674371087768,0.38922056390307846,-1.3521129363192337,-0.4146807398899897,-0.6601327716673171,0.05342590961294951,0.03553851069847322,-0.05992784857539338,-1.046987014575927,0.619076819809439,-0.043419863957865255,-0.8376319917789405,-0.7475893747085525,-1.1474612757784273,-0.4437291270075998,0.7188952225519313,1.2749955498757781,0.6180104532009417,1.1040970559403493,-0.6904557848469052,0.9700683280446663,-2.615923999858738,0.20587985862580907,-1.2747922174592787,0.04425500071520386,-0.6111696155178268,-1.8934406758301399,0.3125770370371499,1.993201331082072,0.47292052826578557,1.758906521973015,1.2655394276257803,0.9414468603637745,0.7297611658319217,-0.29012638219263476,-0.581399645596098,0.7532369215612564],\"type\":\"histogram\"}],                        {\"barmode\":\"overlay\",\"legend\":{\"bgcolor\":\"#F5F6F9\",\"font\":{\"color\":\"#4D5663\"}},\"paper_bgcolor\":\"#F5F6F9\",\"plot_bgcolor\":\"#F5F6F9\",\"template\":{\"data\":{\"barpolar\":[{\"marker\":{\"line\":{\"color\":\"#E5ECF6\",\"width\":0.5},\"pattern\":{\"fillmode\":\"overlay\",\"size\":10,\"solidity\":0.2}},\"type\":\"barpolar\"}],\"bar\":[{\"error_x\":{\"color\":\"#2a3f5f\"},\"error_y\":{\"color\":\"#2a3f5f\"},\"marker\":{\"line\":{\"color\":\"#E5ECF6\",\"width\":0.5},\"pattern\":{\"fillmode\":\"overlay\",\"size\":10,\"solidity\":0.2}},\"type\":\"bar\"}],\"carpet\":[{\"aaxis\":{\"endlinecolor\":\"#2a3f5f\",\"gridcolor\":\"white\",\"linecolor\":\"white\",\"minorgridcolor\":\"white\",\"startlinecolor\":\"#2a3f5f\"},\"baxis\":{\"endlinecolor\":\"#2a3f5f\",\"gridcolor\":\"white\",\"linecolor\":\"white\",\"minorgridcolor\":\"white\",\"startlinecolor\":\"#2a3f5f\"},\"type\":\"carpet\"}],\"choropleth\":[{\"colorbar\":{\"outlinewidth\":0,\"ticks\":\"\"},\"type\":\"choropleth\"}],\"contourcarpet\":[{\"colorbar\":{\"outlinewidth\":0,\"ticks\":\"\"},\"type\":\"contourcarpet\"}],\"contour\":[{\"colorbar\":{\"outlinewidth\":0,\"ticks\":\"\"},\"colorscale\":[[0.0,\"#0d0887\"],[0.1111111111111111,\"#46039f\"],[0.2222222222222222,\"#7201a8\"],[0.3333333333333333,\"#9c179e\"],[0.4444444444444444,\"#bd3786\"],[0.5555555555555556,\"#d8576b\"],[0.6666666666666666,\"#ed7953\"],[0.7777777777777778,\"#fb9f3a\"],[0.8888888888888888,\"#fdca26\"],[1.0,\"#f0f921\"]],\"type\":\"contour\"}],\"heatmapgl\":[{\"colorbar\":{\"outlinewidth\":0,\"ticks\":\"\"},\"colorscale\":[[0.0,\"#0d0887\"],[0.1111111111111111,\"#46039f\"],[0.2222222222222222,\"#7201a8\"],[0.3333333333333333,\"#9c179e\"],[0.4444444444444444,\"#bd3786\"],[0.5555555555555556,\"#d8576b\"],[0.6666666666666666,\"#ed7953\"],[0.7777777777777778,\"#fb9f3a\"],[0.8888888888888888,\"#fdca26\"],[1.0,\"#f0f921\"]],\"type\":\"heatmapgl\"}],\"heatmap\":[{\"colorbar\":{\"outlinewidth\":0,\"ticks\":\"\"},\"colorscale\":[[0.0,\"#0d0887\"],[0.1111111111111111,\"#46039f\"],[0.2222222222222222,\"#7201a8\"],[0.3333333333333333,\"#9c179e\"],[0.4444444444444444,\"#bd3786\"],[0.5555555555555556,\"#d8576b\"],[0.6666666666666666,\"#ed7953\"],[0.7777777777777778,\"#fb9f3a\"],[0.8888888888888888,\"#fdca26\"],[1.0,\"#f0f921\"]],\"type\":\"heatmap\"}],\"histogram2dcontour\":[{\"colorbar\":{\"outlinewidth\":0,\"ticks\":\"\"},\"colorscale\":[[0.0,\"#0d0887\"],[0.1111111111111111,\"#46039f\"],[0.2222222222222222,\"#7201a8\"],[0.3333333333333333,\"#9c179e\"],[0.4444444444444444,\"#bd3786\"],[0.5555555555555556,\"#d8576b\"],[0.6666666666666666,\"#ed7953\"],[0.7777777777777778,\"#fb9f3a\"],[0.8888888888888888,\"#fdca26\"],[1.0,\"#f0f921\"]],\"type\":\"histogram2dcontour\"}],\"histogram2d\":[{\"colorbar\":{\"outlinewidth\":0,\"ticks\":\"\"},\"colorscale\":[[0.0,\"#0d0887\"],[0.1111111111111111,\"#46039f\"],[0.2222222222222222,\"#7201a8\"],[0.3333333333333333,\"#9c179e\"],[0.4444444444444444,\"#bd3786\"],[0.5555555555555556,\"#d8576b\"],[0.6666666666666666,\"#ed7953\"],[0.7777777777777778,\"#fb9f3a\"],[0.8888888888888888,\"#fdca26\"],[1.0,\"#f0f921\"]],\"type\":\"histogram2d\"}],\"histogram\":[{\"marker\":{\"pattern\":{\"fillmode\":\"overlay\",\"size\":10,\"solidity\":0.2}},\"type\":\"histogram\"}],\"mesh3d\":[{\"colorbar\":{\"outlinewidth\":0,\"ticks\":\"\"},\"type\":\"mesh3d\"}],\"parcoords\":[{\"line\":{\"colorbar\":{\"outlinewidth\":0,\"ticks\":\"\"}},\"type\":\"parcoords\"}],\"pie\":[{\"automargin\":true,\"type\":\"pie\"}],\"scatter3d\":[{\"line\":{\"colorbar\":{\"outlinewidth\":0,\"ticks\":\"\"}},\"marker\":{\"colorbar\":{\"outlinewidth\":0,\"ticks\":\"\"}},\"type\":\"scatter3d\"}],\"scattercarpet\":[{\"marker\":{\"colorbar\":{\"outlinewidth\":0,\"ticks\":\"\"}},\"type\":\"scattercarpet\"}],\"scattergeo\":[{\"marker\":{\"colorbar\":{\"outlinewidth\":0,\"ticks\":\"\"}},\"type\":\"scattergeo\"}],\"scattergl\":[{\"marker\":{\"colorbar\":{\"outlinewidth\":0,\"ticks\":\"\"}},\"type\":\"scattergl\"}],\"scattermapbox\":[{\"marker\":{\"colorbar\":{\"outlinewidth\":0,\"ticks\":\"\"}},\"type\":\"scattermapbox\"}],\"scatterpolargl\":[{\"marker\":{\"colorbar\":{\"outlinewidth\":0,\"ticks\":\"\"}},\"type\":\"scatterpolargl\"}],\"scatterpolar\":[{\"marker\":{\"colorbar\":{\"outlinewidth\":0,\"ticks\":\"\"}},\"type\":\"scatterpolar\"}],\"scatter\":[{\"marker\":{\"colorbar\":{\"outlinewidth\":0,\"ticks\":\"\"}},\"type\":\"scatter\"}],\"scatterternary\":[{\"marker\":{\"colorbar\":{\"outlinewidth\":0,\"ticks\":\"\"}},\"type\":\"scatterternary\"}],\"surface\":[{\"colorbar\":{\"outlinewidth\":0,\"ticks\":\"\"},\"colorscale\":[[0.0,\"#0d0887\"],[0.1111111111111111,\"#46039f\"],[0.2222222222222222,\"#7201a8\"],[0.3333333333333333,\"#9c179e\"],[0.4444444444444444,\"#bd3786\"],[0.5555555555555556,\"#d8576b\"],[0.6666666666666666,\"#ed7953\"],[0.7777777777777778,\"#fb9f3a\"],[0.8888888888888888,\"#fdca26\"],[1.0,\"#f0f921\"]],\"type\":\"surface\"}],\"table\":[{\"cells\":{\"fill\":{\"color\":\"#EBF0F8\"},\"line\":{\"color\":\"white\"}},\"header\":{\"fill\":{\"color\":\"#C8D4E3\"},\"line\":{\"color\":\"white\"}},\"type\":\"table\"}]},\"layout\":{\"annotationdefaults\":{\"arrowcolor\":\"#2a3f5f\",\"arrowhead\":0,\"arrowwidth\":1},\"autotypenumbers\":\"strict\",\"coloraxis\":{\"colorbar\":{\"outlinewidth\":0,\"ticks\":\"\"}},\"colorscale\":{\"diverging\":[[0,\"#8e0152\"],[0.1,\"#c51b7d\"],[0.2,\"#de77ae\"],[0.3,\"#f1b6da\"],[0.4,\"#fde0ef\"],[0.5,\"#f7f7f7\"],[0.6,\"#e6f5d0\"],[0.7,\"#b8e186\"],[0.8,\"#7fbc41\"],[0.9,\"#4d9221\"],[1,\"#276419\"]],\"sequential\":[[0.0,\"#0d0887\"],[0.1111111111111111,\"#46039f\"],[0.2222222222222222,\"#7201a8\"],[0.3333333333333333,\"#9c179e\"],[0.4444444444444444,\"#bd3786\"],[0.5555555555555556,\"#d8576b\"],[0.6666666666666666,\"#ed7953\"],[0.7777777777777778,\"#fb9f3a\"],[0.8888888888888888,\"#fdca26\"],[1.0,\"#f0f921\"]],\"sequentialminus\":[[0.0,\"#0d0887\"],[0.1111111111111111,\"#46039f\"],[0.2222222222222222,\"#7201a8\"],[0.3333333333333333,\"#9c179e\"],[0.4444444444444444,\"#bd3786\"],[0.5555555555555556,\"#d8576b\"],[0.6666666666666666,\"#ed7953\"],[0.7777777777777778,\"#fb9f3a\"],[0.8888888888888888,\"#fdca26\"],[1.0,\"#f0f921\"]]},\"colorway\":[\"#636efa\",\"#EF553B\",\"#00cc96\",\"#ab63fa\",\"#FFA15A\",\"#19d3f3\",\"#FF6692\",\"#B6E880\",\"#FF97FF\",\"#FECB52\"],\"font\":{\"color\":\"#2a3f5f\"},\"geo\":{\"bgcolor\":\"white\",\"lakecolor\":\"white\",\"landcolor\":\"#E5ECF6\",\"showlakes\":true,\"showland\":true,\"subunitcolor\":\"white\"},\"hoverlabel\":{\"align\":\"left\"},\"hovermode\":\"closest\",\"mapbox\":{\"style\":\"light\"},\"paper_bgcolor\":\"white\",\"plot_bgcolor\":\"#E5ECF6\",\"polar\":{\"angularaxis\":{\"gridcolor\":\"white\",\"linecolor\":\"white\",\"ticks\":\"\"},\"bgcolor\":\"#E5ECF6\",\"radialaxis\":{\"gridcolor\":\"white\",\"linecolor\":\"white\",\"ticks\":\"\"}},\"scene\":{\"xaxis\":{\"backgroundcolor\":\"#E5ECF6\",\"gridcolor\":\"white\",\"gridwidth\":2,\"linecolor\":\"white\",\"showbackground\":true,\"ticks\":\"\",\"zerolinecolor\":\"white\"},\"yaxis\":{\"backgroundcolor\":\"#E5ECF6\",\"gridcolor\":\"white\",\"gridwidth\":2,\"linecolor\":\"white\",\"showbackground\":true,\"ticks\":\"\",\"zerolinecolor\":\"white\"},\"zaxis\":{\"backgroundcolor\":\"#E5ECF6\",\"gridcolor\":\"white\",\"gridwidth\":2,\"linecolor\":\"white\",\"showbackground\":true,\"ticks\":\"\",\"zerolinecolor\":\"white\"}},\"shapedefaults\":{\"line\":{\"color\":\"#2a3f5f\"}},\"ternary\":{\"aaxis\":{\"gridcolor\":\"white\",\"linecolor\":\"white\",\"ticks\":\"\"},\"baxis\":{\"gridcolor\":\"white\",\"linecolor\":\"white\",\"ticks\":\"\"},\"bgcolor\":\"#E5ECF6\",\"caxis\":{\"gridcolor\":\"white\",\"linecolor\":\"white\",\"ticks\":\"\"}},\"title\":{\"x\":0.05},\"xaxis\":{\"automargin\":true,\"gridcolor\":\"white\",\"linecolor\":\"white\",\"ticks\":\"\",\"title\":{\"standoff\":15},\"zerolinecolor\":\"white\",\"zerolinewidth\":2},\"yaxis\":{\"automargin\":true,\"gridcolor\":\"white\",\"linecolor\":\"white\",\"ticks\":\"\",\"title\":{\"standoff\":15},\"zerolinecolor\":\"white\",\"zerolinewidth\":2}}},\"title\":{\"font\":{\"color\":\"#4D5663\"}},\"xaxis\":{\"gridcolor\":\"#E1E5ED\",\"showgrid\":true,\"tickfont\":{\"color\":\"#4D5663\"},\"title\":{\"font\":{\"color\":\"#4D5663\"},\"text\":\"\"},\"zerolinecolor\":\"#E1E5ED\"},\"yaxis\":{\"gridcolor\":\"#E1E5ED\",\"showgrid\":true,\"tickfont\":{\"color\":\"#4D5663\"},\"title\":{\"font\":{\"color\":\"#4D5663\"},\"text\":\"\"},\"zerolinecolor\":\"#E1E5ED\"}},                        {\"showLink\": true, \"linkText\": \"Export to plot.ly\", \"plotlyServerURL\": \"https://plot.ly\", \"responsive\": true}                    ).then(function(){\n",
       "                            \n",
       "var gd = document.getElementById('9ebe5060-791f-41a7-ab7b-7aebfc30454f');\n",
       "var x = new MutationObserver(function (mutations, observer) {{\n",
       "        var display = window.getComputedStyle(gd).display;\n",
       "        if (!display || display === 'none') {{\n",
       "            console.log([gd, 'removed!']);\n",
       "            Plotly.purge(gd);\n",
       "            observer.disconnect();\n",
       "        }}\n",
       "}});\n",
       "\n",
       "// Listen for the removal of the full notebook cells\n",
       "var notebookContainer = gd.closest('#notebook-container');\n",
       "if (notebookContainer) {{\n",
       "    x.observe(notebookContainer, {childList: true});\n",
       "}}\n",
       "\n",
       "// Listen for the clearing of the current output cell\n",
       "var outputEl = gd.closest('.output');\n",
       "if (outputEl) {{\n",
       "    x.observe(outputEl, {childList: true});\n",
       "}}\n",
       "\n",
       "                        })                };                });            </script>        </div>"
      ]
     },
     "metadata": {},
     "output_type": "display_data"
    }
   ],
   "source": [
    "df1.iplot(kind = 'hist')"
   ]
  },
  {
   "cell_type": "markdown",
   "id": "67bfc3a9",
   "metadata": {},
   "source": [
    "### Spread Plot"
   ]
  },
  {
   "cell_type": "markdown",
   "id": "307542f5",
   "metadata": {},
   "source": [
    "###### Mainly used for stock data, for comparing 2 stocks."
   ]
  },
  {
   "cell_type": "code",
   "execution_count": 27,
   "id": "93c26b63",
   "metadata": {},
   "outputs": [
    {
     "data": {
      "text/html": [
       "<div>\n",
       "<style scoped>\n",
       "    .dataframe tbody tr th:only-of-type {\n",
       "        vertical-align: middle;\n",
       "    }\n",
       "\n",
       "    .dataframe tbody tr th {\n",
       "        vertical-align: top;\n",
       "    }\n",
       "\n",
       "    .dataframe thead th {\n",
       "        text-align: right;\n",
       "    }\n",
       "</style>\n",
       "<table border=\"1\" class=\"dataframe\">\n",
       "  <thead>\n",
       "    <tr style=\"text-align: right;\">\n",
       "      <th></th>\n",
       "      <th>A</th>\n",
       "      <th>B</th>\n",
       "      <th>C</th>\n",
       "      <th>D</th>\n",
       "    </tr>\n",
       "  </thead>\n",
       "  <tbody>\n",
       "    <tr>\n",
       "      <th>0</th>\n",
       "      <td>-0.656474</td>\n",
       "      <td>0.758031</td>\n",
       "      <td>-0.423284</td>\n",
       "      <td>-0.107167</td>\n",
       "    </tr>\n",
       "    <tr>\n",
       "      <th>1</th>\n",
       "      <td>-0.442460</td>\n",
       "      <td>-0.862517</td>\n",
       "      <td>1.035347</td>\n",
       "      <td>0.947945</td>\n",
       "    </tr>\n",
       "    <tr>\n",
       "      <th>2</th>\n",
       "      <td>-1.421053</td>\n",
       "      <td>-1.636664</td>\n",
       "      <td>-0.029441</td>\n",
       "      <td>1.370450</td>\n",
       "    </tr>\n",
       "    <tr>\n",
       "      <th>3</th>\n",
       "      <td>2.138913</td>\n",
       "      <td>-0.026789</td>\n",
       "      <td>-1.308078</td>\n",
       "      <td>-0.348662</td>\n",
       "    </tr>\n",
       "    <tr>\n",
       "      <th>4</th>\n",
       "      <td>0.255783</td>\n",
       "      <td>0.231612</td>\n",
       "      <td>0.257114</td>\n",
       "      <td>1.759547</td>\n",
       "    </tr>\n",
       "  </tbody>\n",
       "</table>\n",
       "</div>"
      ],
      "text/plain": [
       "          A         B         C         D\n",
       "0 -0.656474  0.758031 -0.423284 -0.107167\n",
       "1 -0.442460 -0.862517  1.035347  0.947945\n",
       "2 -1.421053 -1.636664 -0.029441  1.370450\n",
       "3  2.138913 -0.026789 -1.308078 -0.348662\n",
       "4  0.255783  0.231612  0.257114  1.759547"
      ]
     },
     "execution_count": 27,
     "metadata": {},
     "output_type": "execute_result"
    }
   ],
   "source": [
    "df1.head()"
   ]
  },
  {
   "cell_type": "code",
   "execution_count": 28,
   "id": "3c319e50",
   "metadata": {},
   "outputs": [
    {
     "name": "stderr",
     "output_type": "stream",
     "text": [
      "C:\\Users\\Talha\\anaconda3\\lib\\site-packages\\cufflinks\\plotlytools.py:849: FutureWarning:\n",
      "\n",
      "The pandas.np module is deprecated and will be removed from pandas in a future version. Import numpy directly instead\n",
      "\n",
      "C:\\Users\\Talha\\anaconda3\\lib\\site-packages\\cufflinks\\plotlytools.py:850: FutureWarning:\n",
      "\n",
      "The pandas.np module is deprecated and will be removed from pandas in a future version. Import numpy directly instead\n",
      "\n"
     ]
    },
    {
     "data": {
      "application/vnd.plotly.v1+json": {
       "config": {
        "linkText": "Export to plot.ly",
        "plotlyServerURL": "https://plot.ly",
        "showLink": true
       },
       "data": [
        {
         "line": {
          "color": "rgba(255, 153, 51, 1.0)",
          "dash": "solid",
          "shape": "linear",
          "width": 1.3
         },
         "mode": "lines",
         "name": "A",
         "text": "",
         "type": "scatter",
         "x": [
          0,
          1,
          2,
          3,
          4,
          5,
          6,
          7,
          8,
          9,
          10,
          11,
          12,
          13,
          14,
          15,
          16,
          17,
          18,
          19,
          20,
          21,
          22,
          23,
          24,
          25,
          26,
          27,
          28,
          29,
          30,
          31,
          32,
          33,
          34,
          35,
          36,
          37,
          38,
          39,
          40,
          41,
          42,
          43,
          44,
          45,
          46,
          47,
          48,
          49,
          50,
          51,
          52,
          53,
          54,
          55,
          56,
          57,
          58,
          59,
          60,
          61,
          62,
          63,
          64,
          65,
          66,
          67,
          68,
          69,
          70,
          71,
          72,
          73,
          74,
          75,
          76,
          77,
          78,
          79,
          80,
          81,
          82,
          83,
          84,
          85,
          86,
          87,
          88,
          89,
          90,
          91,
          92,
          93,
          94,
          95,
          96,
          97,
          98,
          99
         ],
         "y": [
          -0.6564744824764208,
          -0.44246018622678035,
          -1.4210529165487331,
          2.138912840106512,
          0.25578258692089706,
          0.39805143783044833,
          -0.12701603877964637,
          -0.7336425614675899,
          0.17166378867506915,
          0.2710840189785207,
          0.8534092997086261,
          -0.28423806801324436,
          0.680442831707899,
          1.0056126864042327,
          0.22345415383044398,
          1.3471504835508696,
          0.4868772969639054,
          -0.8560743163392702,
          0.2437582614308069,
          0.13615747280918256,
          1.7766279162229373,
          -0.047392212385020574,
          -1.478739271543873,
          0.6674437983342687,
          -1.0518729658163994,
          1.1450743950503413,
          0.45312446388413863,
          -2.247532593483744,
          -0.9380816730886774,
          0.5747550876841555,
          0.7445251795288704,
          -1.1397301094244776,
          -0.7330965447959531,
          0.0011163348157742902,
          -0.4384112915386252,
          -0.5103765163837336,
          0.2572701355520642,
          -0.2672705429298812,
          -0.3152386136033564,
          0.1641860318298152,
          -0.6148004002051985,
          0.07205002157098324,
          -2.3569799035568906,
          1.0536881549659127,
          0.026917841374375365,
          -1.5516053705251112,
          -0.37391562462327005,
          0.16636832151140332,
          2.1868099430258554,
          -0.41916960443056883,
          0.10496423203936313,
          0.6279926573009582,
          -0.6471640572249683,
          0.30945396871171144,
          -0.4692873864786442,
          -1.090176869362269,
          -0.4143546663277241,
          -0.9027350183105727,
          0.469359002390997,
          -1.4219684339163654,
          0.820847128917743,
          0.05483278813128337,
          1.2392518808560637,
          1.545366633263906,
          0.41934477765089295,
          0.8240554271196706,
          0.8649157101002072,
          -2.1965301978204814,
          0.3476863183989522,
          -0.12640063221688605,
          -1.1095799572682512,
          -0.7608133813357494,
          -2.2044745973693805,
          -2.0304273169011986,
          1.2711060359943978,
          0.13692317269969045,
          -0.0583827092739993,
          2.4115580112408193,
          -2.0777630091319015,
          0.9344928525053398,
          0.3953105866307476,
          -1.0128314490635355,
          1.3925168200064224,
          -0.2746806087720305,
          -0.15873804270543176,
          -1.2063378835963559,
          1.4659391526336598,
          0.7259062288360807,
          -0.018616086991251776,
          -1.0972073757865193,
          -1.0458427688984127,
          0.6742520113874113,
          -0.9688805187614103,
          -2.606590225991158,
          0.2665069685897831,
          0.08035808638610199,
          -1.019013237251515,
          -0.4491197717632893,
          0.9587565600232877,
          -1.2542926097550613
         ]
        },
        {
         "line": {
          "color": "rgba(55, 128, 191, 1.0)",
          "dash": "solid",
          "shape": "linear",
          "width": 1.3
         },
         "mode": "lines",
         "name": "B",
         "text": "",
         "type": "scatter",
         "x": [
          0,
          1,
          2,
          3,
          4,
          5,
          6,
          7,
          8,
          9,
          10,
          11,
          12,
          13,
          14,
          15,
          16,
          17,
          18,
          19,
          20,
          21,
          22,
          23,
          24,
          25,
          26,
          27,
          28,
          29,
          30,
          31,
          32,
          33,
          34,
          35,
          36,
          37,
          38,
          39,
          40,
          41,
          42,
          43,
          44,
          45,
          46,
          47,
          48,
          49,
          50,
          51,
          52,
          53,
          54,
          55,
          56,
          57,
          58,
          59,
          60,
          61,
          62,
          63,
          64,
          65,
          66,
          67,
          68,
          69,
          70,
          71,
          72,
          73,
          74,
          75,
          76,
          77,
          78,
          79,
          80,
          81,
          82,
          83,
          84,
          85,
          86,
          87,
          88,
          89,
          90,
          91,
          92,
          93,
          94,
          95,
          96,
          97,
          98,
          99
         ],
         "y": [
          0.7580307738992594,
          -0.8625173585817463,
          -1.6366635579880784,
          -0.026788812721112613,
          0.23161175849466448,
          1.2199293002623273,
          -0.7827188654461145,
          -0.7798390650913686,
          -0.12947907683514331,
          1.0712209025603268,
          -1.6383769059706026,
          0.25328144466334795,
          1.742638202990484,
          -0.056327495806758165,
          0.9437057933647285,
          2.8831757257521318,
          -0.4852972323833704,
          -0.4567365046026048,
          1.751431838705155,
          -2.406015038199109,
          0.7666963809140104,
          0.5834452650619113,
          -0.8810627750669326,
          -0.036135506573511146,
          0.31705001021648394,
          -0.7061871317069055,
          -0.3159150502367156,
          0.08679183834852548,
          -0.8773079487843657,
          0.34059428566701344,
          1.0117894523788795,
          -1.4223713004706713,
          0.3673575618258237,
          0.7994209827176314,
          -1.1402490848522213,
          -0.3098259650285641,
          0.44816075628217805,
          0.49225862230469863,
          -0.3198429663090066,
          0.7535928972424636,
          0.4062231366911554,
          -1.08852071659089,
          1.1932699862276017,
          -0.046812403925451065,
          -0.6242289885758998,
          0.47350489169255794,
          1.3140622219608786,
          0.7095495168694461,
          0.9399012385745007,
          -0.5384307148443165,
          -0.40173779338780424,
          0.8825797641438177,
          0.6310546479945338,
          -1.4908672034369301,
          1.105551235508307,
          -1.0855229769921029,
          1.8267336788316682,
          -1.4570122535225705,
          1.0784279389579425,
          -0.23609493119741587,
          -1.4518345771106087,
          -0.936347192855875,
          -0.516520118557937,
          1.9069306637372558,
          1.662383470919966,
          0.9539323596162675,
          -1.4309045262582105,
          0.13734272360761482,
          0.9725589422670315,
          0.19749937583635072,
          0.74497483397035,
          0.13798664679425274,
          -0.15382944980659588,
          0.42496202557755824,
          0.9446417743242981,
          1.4187557504647668,
          0.6373039613528989,
          1.0420549704138093,
          0.7428217879179443,
          -0.5985146435300484,
          1.3981806462267188,
          -0.6561336730020627,
          -0.4070023977511638,
          -0.452667589405772,
          -0.20514059006008803,
          0.011753641259448565,
          0.18499711275591785,
          0.44806318398005307,
          -0.7264420958566794,
          0.2040679431299117,
          -1.001927548621951,
          -1.2416331719420421,
          -1.6536030828556114,
          0.04634236549350992,
          -0.4952910163578565,
          0.22935390509840975,
          -0.9281710976792457,
          0.5036946030081555,
          -0.43453838988986104,
          -0.9682049615136412
         ]
        },
        {
         "connectgaps": false,
         "fill": "tozeroy",
         "line": {
          "color": "green",
          "dash": "solid",
          "shape": "linear",
          "width": 0.5
         },
         "mode": "lines",
         "name": "Spread",
         "showlegend": false,
         "type": "scatter",
         "x": [
          0,
          1,
          2,
          3,
          4,
          5,
          6,
          7,
          8,
          9,
          10,
          11,
          12,
          13,
          14,
          15,
          16,
          17,
          18,
          19,
          20,
          21,
          22,
          23,
          24,
          25,
          26,
          27,
          28,
          29,
          30,
          31,
          32,
          33,
          34,
          35,
          36,
          37,
          38,
          39,
          40,
          41,
          42,
          43,
          44,
          45,
          46,
          47,
          48,
          49,
          50,
          51,
          52,
          53,
          54,
          55,
          56,
          57,
          58,
          59,
          60,
          61,
          62,
          63,
          64,
          65,
          66,
          67,
          68,
          69,
          70,
          71,
          72,
          73,
          74,
          75,
          76,
          77,
          78,
          79,
          80,
          81,
          82,
          83,
          84,
          85,
          86,
          87,
          88,
          89,
          90,
          91,
          92,
          93,
          94,
          95,
          96,
          97,
          98,
          99
         ],
         "xaxis": "x2",
         "y": [
          "",
          0.4200571723549659,
          0.21561064143934527,
          2.1657016528276243,
          0.024170828426232582,
          "",
          0.6557028266664681,
          0.046196503623778695,
          0.30114286551021247,
          "",
          2.4917862056792286,
          "",
          "",
          1.0619401822109908,
          "",
          "",
          0.9721745293472759,
          "",
          "",
          2.5421725110082916,
          1.0099315353089269,
          "",
          "",
          0.7035793049077799,
          "",
          1.8512615267572468,
          0.7690395141208543,
          "",
          "",
          0.23416080201714207,
          "",
          0.2826411910461937,
          "",
          "",
          0.7018377933135962,
          "",
          "",
          "",
          0.004604352705650183,
          "",
          "",
          1.160570738161873,
          "",
          1.100500558891364,
          0.6511468299502752,
          "",
          "",
          "",
          1.2469087044513547,
          0.11926111041374765,
          0.5067020254271674,
          "",
          "",
          1.8003211721486416,
          "",
          "",
          "",
          0.5542772352119978,
          "",
          "",
          2.2726817060283517,
          0.9911799809871583,
          1.7557719994140006,
          "",
          "",
          "",
          2.2958202363584177,
          "",
          "",
          "",
          "",
          "",
          "",
          "",
          0.3264642616700997,
          "",
          "",
          1.36950304082701,
          "",
          1.533007496035388,
          "",
          "",
          1.7995192177575863,
          0.17798698063374152,
          0.046402547354656265,
          "",
          1.280942039877742,
          0.2778430448560276,
          0.7078260088654277,
          "",
          "",
          1.9158851833294535,
          0.6847225640942011,
          "",
          0.7617979849476396,
          "",
          "",
          "",
          1.3932949499131486,
          ""
         ],
         "yaxis": "y2"
        },
        {
         "connectgaps": false,
         "fill": "tozeroy",
         "line": {
          "color": "red",
          "dash": "solid",
          "shape": "linear",
          "width": 0.5
         },
         "mode": "lines",
         "name": "Spread",
         "showlegend": false,
         "type": "scatter",
         "x": [
          0,
          1,
          2,
          3,
          4,
          5,
          6,
          7,
          8,
          9,
          10,
          11,
          12,
          13,
          14,
          15,
          16,
          17,
          18,
          19,
          20,
          21,
          22,
          23,
          24,
          25,
          26,
          27,
          28,
          29,
          30,
          31,
          32,
          33,
          34,
          35,
          36,
          37,
          38,
          39,
          40,
          41,
          42,
          43,
          44,
          45,
          46,
          47,
          48,
          49,
          50,
          51,
          52,
          53,
          54,
          55,
          56,
          57,
          58,
          59,
          60,
          61,
          62,
          63,
          64,
          65,
          66,
          67,
          68,
          69,
          70,
          71,
          72,
          73,
          74,
          75,
          76,
          77,
          78,
          79,
          80,
          81,
          82,
          83,
          84,
          85,
          86,
          87,
          88,
          89,
          90,
          91,
          92,
          93,
          94,
          95,
          96,
          97,
          98,
          99
         ],
         "xaxis": "x2",
         "y": [
          -1.4145052563756804,
          "",
          "",
          "",
          "",
          -0.821877862431879,
          "",
          "",
          "",
          -0.8001368835818061,
          "",
          -0.5375195126765924,
          -1.0621953712825851,
          "",
          -0.7202516395342845,
          -1.5360252422012621,
          "",
          -0.39933781173666544,
          -1.5076735772743481,
          "",
          "",
          -0.6308374774469319,
          -0.5976764964769403,
          "",
          -1.3689229760328834,
          "",
          "",
          -2.3343244318322696,
          -0.060773724304311716,
          "",
          -0.2672642728500091,
          "",
          -1.1004541066217768,
          -0.7983046479018571,
          "",
          -0.20055055135516953,
          -0.19089062073011387,
          -0.7595291652345799,
          "",
          -0.5894068654126484,
          -1.021023536896354,
          "",
          -3.5502498897844923,
          "",
          "",
          -2.025110262217669,
          -1.6879778465841486,
          -0.5431811953580428,
          "",
          "",
          "",
          -0.25458710684285946,
          -1.2782187052195022,
          "",
          -1.5748386219869512,
          -0.004653892370166224,
          -2.241088345159392,
          "",
          -0.6090689365669455,
          -1.1858735027189495,
          "",
          "",
          "",
          -0.36156403047334984,
          -1.2430386932690731,
          -0.12987693249659693,
          "",
          -2.3338729214280964,
          -0.6248726238680793,
          -0.32390000805323677,
          -1.8545547912386011,
          -0.8988000281300021,
          -2.0506451475627845,
          -2.4553893424787567,
          "",
          -1.2818325777650763,
          -0.6956866706268983,
          "",
          -2.820584797049846,
          "",
          -1.0028700595959712,
          -0.3566977760614728,
          "",
          "",
          "",
          -1.2180915248558044,
          "",
          "",
          "",
          -1.301275318916431,
          -0.043915220276461664,
          "",
          "",
          -2.6529325914846678,
          "",
          -0.14899581871230777,
          -0.09084213957226939,
          -0.9528143747714448,
          "",
          -0.2860876482414201
         ],
         "yaxis": "y2"
        }
       ],
       "layout": {
        "hovermode": "x",
        "legend": {
         "bgcolor": "#F5F6F9",
         "font": {
          "color": "#4D5663"
         }
        },
        "paper_bgcolor": "#F5F6F9",
        "plot_bgcolor": "#F5F6F9",
        "template": {
         "data": {
          "bar": [
           {
            "error_x": {
             "color": "#2a3f5f"
            },
            "error_y": {
             "color": "#2a3f5f"
            },
            "marker": {
             "line": {
              "color": "#E5ECF6",
              "width": 0.5
             },
             "pattern": {
              "fillmode": "overlay",
              "size": 10,
              "solidity": 0.2
             }
            },
            "type": "bar"
           }
          ],
          "barpolar": [
           {
            "marker": {
             "line": {
              "color": "#E5ECF6",
              "width": 0.5
             },
             "pattern": {
              "fillmode": "overlay",
              "size": 10,
              "solidity": 0.2
             }
            },
            "type": "barpolar"
           }
          ],
          "carpet": [
           {
            "aaxis": {
             "endlinecolor": "#2a3f5f",
             "gridcolor": "white",
             "linecolor": "white",
             "minorgridcolor": "white",
             "startlinecolor": "#2a3f5f"
            },
            "baxis": {
             "endlinecolor": "#2a3f5f",
             "gridcolor": "white",
             "linecolor": "white",
             "minorgridcolor": "white",
             "startlinecolor": "#2a3f5f"
            },
            "type": "carpet"
           }
          ],
          "choropleth": [
           {
            "colorbar": {
             "outlinewidth": 0,
             "ticks": ""
            },
            "type": "choropleth"
           }
          ],
          "contour": [
           {
            "colorbar": {
             "outlinewidth": 0,
             "ticks": ""
            },
            "colorscale": [
             [
              0,
              "#0d0887"
             ],
             [
              0.1111111111111111,
              "#46039f"
             ],
             [
              0.2222222222222222,
              "#7201a8"
             ],
             [
              0.3333333333333333,
              "#9c179e"
             ],
             [
              0.4444444444444444,
              "#bd3786"
             ],
             [
              0.5555555555555556,
              "#d8576b"
             ],
             [
              0.6666666666666666,
              "#ed7953"
             ],
             [
              0.7777777777777778,
              "#fb9f3a"
             ],
             [
              0.8888888888888888,
              "#fdca26"
             ],
             [
              1,
              "#f0f921"
             ]
            ],
            "type": "contour"
           }
          ],
          "contourcarpet": [
           {
            "colorbar": {
             "outlinewidth": 0,
             "ticks": ""
            },
            "type": "contourcarpet"
           }
          ],
          "heatmap": [
           {
            "colorbar": {
             "outlinewidth": 0,
             "ticks": ""
            },
            "colorscale": [
             [
              0,
              "#0d0887"
             ],
             [
              0.1111111111111111,
              "#46039f"
             ],
             [
              0.2222222222222222,
              "#7201a8"
             ],
             [
              0.3333333333333333,
              "#9c179e"
             ],
             [
              0.4444444444444444,
              "#bd3786"
             ],
             [
              0.5555555555555556,
              "#d8576b"
             ],
             [
              0.6666666666666666,
              "#ed7953"
             ],
             [
              0.7777777777777778,
              "#fb9f3a"
             ],
             [
              0.8888888888888888,
              "#fdca26"
             ],
             [
              1,
              "#f0f921"
             ]
            ],
            "type": "heatmap"
           }
          ],
          "heatmapgl": [
           {
            "colorbar": {
             "outlinewidth": 0,
             "ticks": ""
            },
            "colorscale": [
             [
              0,
              "#0d0887"
             ],
             [
              0.1111111111111111,
              "#46039f"
             ],
             [
              0.2222222222222222,
              "#7201a8"
             ],
             [
              0.3333333333333333,
              "#9c179e"
             ],
             [
              0.4444444444444444,
              "#bd3786"
             ],
             [
              0.5555555555555556,
              "#d8576b"
             ],
             [
              0.6666666666666666,
              "#ed7953"
             ],
             [
              0.7777777777777778,
              "#fb9f3a"
             ],
             [
              0.8888888888888888,
              "#fdca26"
             ],
             [
              1,
              "#f0f921"
             ]
            ],
            "type": "heatmapgl"
           }
          ],
          "histogram": [
           {
            "marker": {
             "pattern": {
              "fillmode": "overlay",
              "size": 10,
              "solidity": 0.2
             }
            },
            "type": "histogram"
           }
          ],
          "histogram2d": [
           {
            "colorbar": {
             "outlinewidth": 0,
             "ticks": ""
            },
            "colorscale": [
             [
              0,
              "#0d0887"
             ],
             [
              0.1111111111111111,
              "#46039f"
             ],
             [
              0.2222222222222222,
              "#7201a8"
             ],
             [
              0.3333333333333333,
              "#9c179e"
             ],
             [
              0.4444444444444444,
              "#bd3786"
             ],
             [
              0.5555555555555556,
              "#d8576b"
             ],
             [
              0.6666666666666666,
              "#ed7953"
             ],
             [
              0.7777777777777778,
              "#fb9f3a"
             ],
             [
              0.8888888888888888,
              "#fdca26"
             ],
             [
              1,
              "#f0f921"
             ]
            ],
            "type": "histogram2d"
           }
          ],
          "histogram2dcontour": [
           {
            "colorbar": {
             "outlinewidth": 0,
             "ticks": ""
            },
            "colorscale": [
             [
              0,
              "#0d0887"
             ],
             [
              0.1111111111111111,
              "#46039f"
             ],
             [
              0.2222222222222222,
              "#7201a8"
             ],
             [
              0.3333333333333333,
              "#9c179e"
             ],
             [
              0.4444444444444444,
              "#bd3786"
             ],
             [
              0.5555555555555556,
              "#d8576b"
             ],
             [
              0.6666666666666666,
              "#ed7953"
             ],
             [
              0.7777777777777778,
              "#fb9f3a"
             ],
             [
              0.8888888888888888,
              "#fdca26"
             ],
             [
              1,
              "#f0f921"
             ]
            ],
            "type": "histogram2dcontour"
           }
          ],
          "mesh3d": [
           {
            "colorbar": {
             "outlinewidth": 0,
             "ticks": ""
            },
            "type": "mesh3d"
           }
          ],
          "parcoords": [
           {
            "line": {
             "colorbar": {
              "outlinewidth": 0,
              "ticks": ""
             }
            },
            "type": "parcoords"
           }
          ],
          "pie": [
           {
            "automargin": true,
            "type": "pie"
           }
          ],
          "scatter": [
           {
            "marker": {
             "colorbar": {
              "outlinewidth": 0,
              "ticks": ""
             }
            },
            "type": "scatter"
           }
          ],
          "scatter3d": [
           {
            "line": {
             "colorbar": {
              "outlinewidth": 0,
              "ticks": ""
             }
            },
            "marker": {
             "colorbar": {
              "outlinewidth": 0,
              "ticks": ""
             }
            },
            "type": "scatter3d"
           }
          ],
          "scattercarpet": [
           {
            "marker": {
             "colorbar": {
              "outlinewidth": 0,
              "ticks": ""
             }
            },
            "type": "scattercarpet"
           }
          ],
          "scattergeo": [
           {
            "marker": {
             "colorbar": {
              "outlinewidth": 0,
              "ticks": ""
             }
            },
            "type": "scattergeo"
           }
          ],
          "scattergl": [
           {
            "marker": {
             "colorbar": {
              "outlinewidth": 0,
              "ticks": ""
             }
            },
            "type": "scattergl"
           }
          ],
          "scattermapbox": [
           {
            "marker": {
             "colorbar": {
              "outlinewidth": 0,
              "ticks": ""
             }
            },
            "type": "scattermapbox"
           }
          ],
          "scatterpolar": [
           {
            "marker": {
             "colorbar": {
              "outlinewidth": 0,
              "ticks": ""
             }
            },
            "type": "scatterpolar"
           }
          ],
          "scatterpolargl": [
           {
            "marker": {
             "colorbar": {
              "outlinewidth": 0,
              "ticks": ""
             }
            },
            "type": "scatterpolargl"
           }
          ],
          "scatterternary": [
           {
            "marker": {
             "colorbar": {
              "outlinewidth": 0,
              "ticks": ""
             }
            },
            "type": "scatterternary"
           }
          ],
          "surface": [
           {
            "colorbar": {
             "outlinewidth": 0,
             "ticks": ""
            },
            "colorscale": [
             [
              0,
              "#0d0887"
             ],
             [
              0.1111111111111111,
              "#46039f"
             ],
             [
              0.2222222222222222,
              "#7201a8"
             ],
             [
              0.3333333333333333,
              "#9c179e"
             ],
             [
              0.4444444444444444,
              "#bd3786"
             ],
             [
              0.5555555555555556,
              "#d8576b"
             ],
             [
              0.6666666666666666,
              "#ed7953"
             ],
             [
              0.7777777777777778,
              "#fb9f3a"
             ],
             [
              0.8888888888888888,
              "#fdca26"
             ],
             [
              1,
              "#f0f921"
             ]
            ],
            "type": "surface"
           }
          ],
          "table": [
           {
            "cells": {
             "fill": {
              "color": "#EBF0F8"
             },
             "line": {
              "color": "white"
             }
            },
            "header": {
             "fill": {
              "color": "#C8D4E3"
             },
             "line": {
              "color": "white"
             }
            },
            "type": "table"
           }
          ]
         },
         "layout": {
          "annotationdefaults": {
           "arrowcolor": "#2a3f5f",
           "arrowhead": 0,
           "arrowwidth": 1
          },
          "autotypenumbers": "strict",
          "coloraxis": {
           "colorbar": {
            "outlinewidth": 0,
            "ticks": ""
           }
          },
          "colorscale": {
           "diverging": [
            [
             0,
             "#8e0152"
            ],
            [
             0.1,
             "#c51b7d"
            ],
            [
             0.2,
             "#de77ae"
            ],
            [
             0.3,
             "#f1b6da"
            ],
            [
             0.4,
             "#fde0ef"
            ],
            [
             0.5,
             "#f7f7f7"
            ],
            [
             0.6,
             "#e6f5d0"
            ],
            [
             0.7,
             "#b8e186"
            ],
            [
             0.8,
             "#7fbc41"
            ],
            [
             0.9,
             "#4d9221"
            ],
            [
             1,
             "#276419"
            ]
           ],
           "sequential": [
            [
             0,
             "#0d0887"
            ],
            [
             0.1111111111111111,
             "#46039f"
            ],
            [
             0.2222222222222222,
             "#7201a8"
            ],
            [
             0.3333333333333333,
             "#9c179e"
            ],
            [
             0.4444444444444444,
             "#bd3786"
            ],
            [
             0.5555555555555556,
             "#d8576b"
            ],
            [
             0.6666666666666666,
             "#ed7953"
            ],
            [
             0.7777777777777778,
             "#fb9f3a"
            ],
            [
             0.8888888888888888,
             "#fdca26"
            ],
            [
             1,
             "#f0f921"
            ]
           ],
           "sequentialminus": [
            [
             0,
             "#0d0887"
            ],
            [
             0.1111111111111111,
             "#46039f"
            ],
            [
             0.2222222222222222,
             "#7201a8"
            ],
            [
             0.3333333333333333,
             "#9c179e"
            ],
            [
             0.4444444444444444,
             "#bd3786"
            ],
            [
             0.5555555555555556,
             "#d8576b"
            ],
            [
             0.6666666666666666,
             "#ed7953"
            ],
            [
             0.7777777777777778,
             "#fb9f3a"
            ],
            [
             0.8888888888888888,
             "#fdca26"
            ],
            [
             1,
             "#f0f921"
            ]
           ]
          },
          "colorway": [
           "#636efa",
           "#EF553B",
           "#00cc96",
           "#ab63fa",
           "#FFA15A",
           "#19d3f3",
           "#FF6692",
           "#B6E880",
           "#FF97FF",
           "#FECB52"
          ],
          "font": {
           "color": "#2a3f5f"
          },
          "geo": {
           "bgcolor": "white",
           "lakecolor": "white",
           "landcolor": "#E5ECF6",
           "showlakes": true,
           "showland": true,
           "subunitcolor": "white"
          },
          "hoverlabel": {
           "align": "left"
          },
          "hovermode": "closest",
          "mapbox": {
           "style": "light"
          },
          "paper_bgcolor": "white",
          "plot_bgcolor": "#E5ECF6",
          "polar": {
           "angularaxis": {
            "gridcolor": "white",
            "linecolor": "white",
            "ticks": ""
           },
           "bgcolor": "#E5ECF6",
           "radialaxis": {
            "gridcolor": "white",
            "linecolor": "white",
            "ticks": ""
           }
          },
          "scene": {
           "xaxis": {
            "backgroundcolor": "#E5ECF6",
            "gridcolor": "white",
            "gridwidth": 2,
            "linecolor": "white",
            "showbackground": true,
            "ticks": "",
            "zerolinecolor": "white"
           },
           "yaxis": {
            "backgroundcolor": "#E5ECF6",
            "gridcolor": "white",
            "gridwidth": 2,
            "linecolor": "white",
            "showbackground": true,
            "ticks": "",
            "zerolinecolor": "white"
           },
           "zaxis": {
            "backgroundcolor": "#E5ECF6",
            "gridcolor": "white",
            "gridwidth": 2,
            "linecolor": "white",
            "showbackground": true,
            "ticks": "",
            "zerolinecolor": "white"
           }
          },
          "shapedefaults": {
           "line": {
            "color": "#2a3f5f"
           }
          },
          "ternary": {
           "aaxis": {
            "gridcolor": "white",
            "linecolor": "white",
            "ticks": ""
           },
           "baxis": {
            "gridcolor": "white",
            "linecolor": "white",
            "ticks": ""
           },
           "bgcolor": "#E5ECF6",
           "caxis": {
            "gridcolor": "white",
            "linecolor": "white",
            "ticks": ""
           }
          },
          "title": {
           "x": 0.05
          },
          "xaxis": {
           "automargin": true,
           "gridcolor": "white",
           "linecolor": "white",
           "ticks": "",
           "title": {
            "standoff": 15
           },
           "zerolinecolor": "white",
           "zerolinewidth": 2
          },
          "yaxis": {
           "automargin": true,
           "gridcolor": "white",
           "linecolor": "white",
           "ticks": "",
           "title": {
            "standoff": 15
           },
           "zerolinecolor": "white",
           "zerolinewidth": 2
          }
         }
        },
        "title": {
         "font": {
          "color": "#4D5663"
         }
        },
        "xaxis": {
         "gridcolor": "#E1E5ED",
         "showgrid": true,
         "tickfont": {
          "color": "#4D5663"
         },
         "title": {
          "font": {
           "color": "#4D5663"
          },
          "text": ""
         },
         "zerolinecolor": "#E1E5ED"
        },
        "xaxis2": {
         "anchor": "y2",
         "gridcolor": "#E1E5ED",
         "showgrid": true,
         "showticklabels": false,
         "tickfont": {
          "color": "#4D5663"
         },
         "title": {
          "font": {
           "color": "#4D5663"
          },
          "text": ""
         },
         "zerolinecolor": "#E1E5ED"
        },
        "yaxis": {
         "domain": [
          0.3,
          1
         ],
         "gridcolor": "#E1E5ED",
         "showgrid": true,
         "tickfont": {
          "color": "#4D5663"
         },
         "title": {
          "font": {
           "color": "#4D5663"
          },
          "text": ""
         },
         "zerolinecolor": "#E1E5ED"
        },
        "yaxis2": {
         "domain": [
          0,
          0.25
         ],
         "gridcolor": "#E1E5ED",
         "showgrid": true,
         "tickfont": {
          "color": "#4D5663"
         },
         "title": {
          "font": {
           "color": "#4D5663"
          },
          "text": "Spread"
         },
         "zerolinecolor": "#E1E5ED"
        }
       }
      },
      "text/html": [
       "<div>                            <div id=\"38cf8902-9496-44e2-8d75-427f09f5696d\" class=\"plotly-graph-div\" style=\"height:525px; width:100%;\"></div>            <script type=\"text/javascript\">                require([\"plotly\"], function(Plotly) {                    window.PLOTLYENV=window.PLOTLYENV || {};\n",
       "                    window.PLOTLYENV.BASE_URL='https://plot.ly';                                    if (document.getElementById(\"38cf8902-9496-44e2-8d75-427f09f5696d\")) {                    Plotly.newPlot(                        \"38cf8902-9496-44e2-8d75-427f09f5696d\",                        [{\"line\":{\"color\":\"rgba(255, 153, 51, 1.0)\",\"dash\":\"solid\",\"shape\":\"linear\",\"width\":1.3},\"mode\":\"lines\",\"name\":\"A\",\"text\":\"\",\"x\":[0,1,2,3,4,5,6,7,8,9,10,11,12,13,14,15,16,17,18,19,20,21,22,23,24,25,26,27,28,29,30,31,32,33,34,35,36,37,38,39,40,41,42,43,44,45,46,47,48,49,50,51,52,53,54,55,56,57,58,59,60,61,62,63,64,65,66,67,68,69,70,71,72,73,74,75,76,77,78,79,80,81,82,83,84,85,86,87,88,89,90,91,92,93,94,95,96,97,98,99],\"y\":[-0.6564744824764208,-0.44246018622678035,-1.4210529165487331,2.138912840106512,0.25578258692089706,0.39805143783044833,-0.12701603877964637,-0.7336425614675899,0.17166378867506915,0.2710840189785207,0.8534092997086261,-0.28423806801324436,0.680442831707899,1.0056126864042327,0.22345415383044398,1.3471504835508696,0.4868772969639054,-0.8560743163392702,0.2437582614308069,0.13615747280918256,1.7766279162229373,-0.047392212385020574,-1.478739271543873,0.6674437983342687,-1.0518729658163994,1.1450743950503413,0.45312446388413863,-2.247532593483744,-0.9380816730886774,0.5747550876841555,0.7445251795288704,-1.1397301094244776,-0.7330965447959531,0.0011163348157742902,-0.4384112915386252,-0.5103765163837336,0.2572701355520642,-0.2672705429298812,-0.3152386136033564,0.1641860318298152,-0.6148004002051985,0.07205002157098324,-2.3569799035568906,1.0536881549659127,0.026917841374375365,-1.5516053705251112,-0.37391562462327005,0.16636832151140332,2.1868099430258554,-0.41916960443056883,0.10496423203936313,0.6279926573009582,-0.6471640572249683,0.30945396871171144,-0.4692873864786442,-1.090176869362269,-0.4143546663277241,-0.9027350183105727,0.469359002390997,-1.4219684339163654,0.820847128917743,0.05483278813128337,1.2392518808560637,1.545366633263906,0.41934477765089295,0.8240554271196706,0.8649157101002072,-2.1965301978204814,0.3476863183989522,-0.12640063221688605,-1.1095799572682512,-0.7608133813357494,-2.2044745973693805,-2.0304273169011986,1.2711060359943978,0.13692317269969045,-0.0583827092739993,2.4115580112408193,-2.0777630091319015,0.9344928525053398,0.3953105866307476,-1.0128314490635355,1.3925168200064224,-0.2746806087720305,-0.15873804270543176,-1.2063378835963559,1.4659391526336598,0.7259062288360807,-0.018616086991251776,-1.0972073757865193,-1.0458427688984127,0.6742520113874113,-0.9688805187614103,-2.606590225991158,0.2665069685897831,0.08035808638610199,-1.019013237251515,-0.4491197717632893,0.9587565600232877,-1.2542926097550613],\"type\":\"scatter\"},{\"line\":{\"color\":\"rgba(55, 128, 191, 1.0)\",\"dash\":\"solid\",\"shape\":\"linear\",\"width\":1.3},\"mode\":\"lines\",\"name\":\"B\",\"text\":\"\",\"x\":[0,1,2,3,4,5,6,7,8,9,10,11,12,13,14,15,16,17,18,19,20,21,22,23,24,25,26,27,28,29,30,31,32,33,34,35,36,37,38,39,40,41,42,43,44,45,46,47,48,49,50,51,52,53,54,55,56,57,58,59,60,61,62,63,64,65,66,67,68,69,70,71,72,73,74,75,76,77,78,79,80,81,82,83,84,85,86,87,88,89,90,91,92,93,94,95,96,97,98,99],\"y\":[0.7580307738992594,-0.8625173585817463,-1.6366635579880784,-0.026788812721112613,0.23161175849466448,1.2199293002623273,-0.7827188654461145,-0.7798390650913686,-0.12947907683514331,1.0712209025603268,-1.6383769059706026,0.25328144466334795,1.742638202990484,-0.056327495806758165,0.9437057933647285,2.8831757257521318,-0.4852972323833704,-0.4567365046026048,1.751431838705155,-2.406015038199109,0.7666963809140104,0.5834452650619113,-0.8810627750669326,-0.036135506573511146,0.31705001021648394,-0.7061871317069055,-0.3159150502367156,0.08679183834852548,-0.8773079487843657,0.34059428566701344,1.0117894523788795,-1.4223713004706713,0.3673575618258237,0.7994209827176314,-1.1402490848522213,-0.3098259650285641,0.44816075628217805,0.49225862230469863,-0.3198429663090066,0.7535928972424636,0.4062231366911554,-1.08852071659089,1.1932699862276017,-0.046812403925451065,-0.6242289885758998,0.47350489169255794,1.3140622219608786,0.7095495168694461,0.9399012385745007,-0.5384307148443165,-0.40173779338780424,0.8825797641438177,0.6310546479945338,-1.4908672034369301,1.105551235508307,-1.0855229769921029,1.8267336788316682,-1.4570122535225705,1.0784279389579425,-0.23609493119741587,-1.4518345771106087,-0.936347192855875,-0.516520118557937,1.9069306637372558,1.662383470919966,0.9539323596162675,-1.4309045262582105,0.13734272360761482,0.9725589422670315,0.19749937583635072,0.74497483397035,0.13798664679425274,-0.15382944980659588,0.42496202557755824,0.9446417743242981,1.4187557504647668,0.6373039613528989,1.0420549704138093,0.7428217879179443,-0.5985146435300484,1.3981806462267188,-0.6561336730020627,-0.4070023977511638,-0.452667589405772,-0.20514059006008803,0.011753641259448565,0.18499711275591785,0.44806318398005307,-0.7264420958566794,0.2040679431299117,-1.001927548621951,-1.2416331719420421,-1.6536030828556114,0.04634236549350992,-0.4952910163578565,0.22935390509840975,-0.9281710976792457,0.5036946030081555,-0.43453838988986104,-0.9682049615136412],\"type\":\"scatter\"},{\"connectgaps\":false,\"fill\":\"tozeroy\",\"line\":{\"color\":\"green\",\"dash\":\"solid\",\"shape\":\"linear\",\"width\":0.5},\"mode\":\"lines\",\"name\":\"Spread\",\"showlegend\":false,\"x\":[0,1,2,3,4,5,6,7,8,9,10,11,12,13,14,15,16,17,18,19,20,21,22,23,24,25,26,27,28,29,30,31,32,33,34,35,36,37,38,39,40,41,42,43,44,45,46,47,48,49,50,51,52,53,54,55,56,57,58,59,60,61,62,63,64,65,66,67,68,69,70,71,72,73,74,75,76,77,78,79,80,81,82,83,84,85,86,87,88,89,90,91,92,93,94,95,96,97,98,99],\"xaxis\":\"x2\",\"y\":[\"\",0.4200571723549659,0.21561064143934527,2.1657016528276243,0.024170828426232582,\"\",0.6557028266664681,0.046196503623778695,0.30114286551021247,\"\",2.4917862056792286,\"\",\"\",1.0619401822109908,\"\",\"\",0.9721745293472759,\"\",\"\",2.5421725110082916,1.0099315353089269,\"\",\"\",0.7035793049077799,\"\",1.8512615267572468,0.7690395141208543,\"\",\"\",0.23416080201714207,\"\",0.2826411910461937,\"\",\"\",0.7018377933135962,\"\",\"\",\"\",0.004604352705650183,\"\",\"\",1.160570738161873,\"\",1.100500558891364,0.6511468299502752,\"\",\"\",\"\",1.2469087044513547,0.11926111041374765,0.5067020254271674,\"\",\"\",1.8003211721486416,\"\",\"\",\"\",0.5542772352119978,\"\",\"\",2.2726817060283517,0.9911799809871583,1.7557719994140006,\"\",\"\",\"\",2.2958202363584177,\"\",\"\",\"\",\"\",\"\",\"\",\"\",0.3264642616700997,\"\",\"\",1.36950304082701,\"\",1.533007496035388,\"\",\"\",1.7995192177575863,0.17798698063374152,0.046402547354656265,\"\",1.280942039877742,0.2778430448560276,0.7078260088654277,\"\",\"\",1.9158851833294535,0.6847225640942011,\"\",0.7617979849476396,\"\",\"\",\"\",1.3932949499131486,\"\"],\"yaxis\":\"y2\",\"type\":\"scatter\"},{\"connectgaps\":false,\"fill\":\"tozeroy\",\"line\":{\"color\":\"red\",\"dash\":\"solid\",\"shape\":\"linear\",\"width\":0.5},\"mode\":\"lines\",\"name\":\"Spread\",\"showlegend\":false,\"x\":[0,1,2,3,4,5,6,7,8,9,10,11,12,13,14,15,16,17,18,19,20,21,22,23,24,25,26,27,28,29,30,31,32,33,34,35,36,37,38,39,40,41,42,43,44,45,46,47,48,49,50,51,52,53,54,55,56,57,58,59,60,61,62,63,64,65,66,67,68,69,70,71,72,73,74,75,76,77,78,79,80,81,82,83,84,85,86,87,88,89,90,91,92,93,94,95,96,97,98,99],\"xaxis\":\"x2\",\"y\":[-1.4145052563756804,\"\",\"\",\"\",\"\",-0.821877862431879,\"\",\"\",\"\",-0.8001368835818061,\"\",-0.5375195126765924,-1.0621953712825851,\"\",-0.7202516395342845,-1.5360252422012621,\"\",-0.39933781173666544,-1.5076735772743481,\"\",\"\",-0.6308374774469319,-0.5976764964769403,\"\",-1.3689229760328834,\"\",\"\",-2.3343244318322696,-0.060773724304311716,\"\",-0.2672642728500091,\"\",-1.1004541066217768,-0.7983046479018571,\"\",-0.20055055135516953,-0.19089062073011387,-0.7595291652345799,\"\",-0.5894068654126484,-1.021023536896354,\"\",-3.5502498897844923,\"\",\"\",-2.025110262217669,-1.6879778465841486,-0.5431811953580428,\"\",\"\",\"\",-0.25458710684285946,-1.2782187052195022,\"\",-1.5748386219869512,-0.004653892370166224,-2.241088345159392,\"\",-0.6090689365669455,-1.1858735027189495,\"\",\"\",\"\",-0.36156403047334984,-1.2430386932690731,-0.12987693249659693,\"\",-2.3338729214280964,-0.6248726238680793,-0.32390000805323677,-1.8545547912386011,-0.8988000281300021,-2.0506451475627845,-2.4553893424787567,\"\",-1.2818325777650763,-0.6956866706268983,\"\",-2.820584797049846,\"\",-1.0028700595959712,-0.3566977760614728,\"\",\"\",\"\",-1.2180915248558044,\"\",\"\",\"\",-1.301275318916431,-0.043915220276461664,\"\",\"\",-2.6529325914846678,\"\",-0.14899581871230777,-0.09084213957226939,-0.9528143747714448,\"\",-0.2860876482414201],\"yaxis\":\"y2\",\"type\":\"scatter\"}],                        {\"hovermode\":\"x\",\"legend\":{\"bgcolor\":\"#F5F6F9\",\"font\":{\"color\":\"#4D5663\"}},\"paper_bgcolor\":\"#F5F6F9\",\"plot_bgcolor\":\"#F5F6F9\",\"template\":{\"data\":{\"barpolar\":[{\"marker\":{\"line\":{\"color\":\"#E5ECF6\",\"width\":0.5},\"pattern\":{\"fillmode\":\"overlay\",\"size\":10,\"solidity\":0.2}},\"type\":\"barpolar\"}],\"bar\":[{\"error_x\":{\"color\":\"#2a3f5f\"},\"error_y\":{\"color\":\"#2a3f5f\"},\"marker\":{\"line\":{\"color\":\"#E5ECF6\",\"width\":0.5},\"pattern\":{\"fillmode\":\"overlay\",\"size\":10,\"solidity\":0.2}},\"type\":\"bar\"}],\"carpet\":[{\"aaxis\":{\"endlinecolor\":\"#2a3f5f\",\"gridcolor\":\"white\",\"linecolor\":\"white\",\"minorgridcolor\":\"white\",\"startlinecolor\":\"#2a3f5f\"},\"baxis\":{\"endlinecolor\":\"#2a3f5f\",\"gridcolor\":\"white\",\"linecolor\":\"white\",\"minorgridcolor\":\"white\",\"startlinecolor\":\"#2a3f5f\"},\"type\":\"carpet\"}],\"choropleth\":[{\"colorbar\":{\"outlinewidth\":0,\"ticks\":\"\"},\"type\":\"choropleth\"}],\"contourcarpet\":[{\"colorbar\":{\"outlinewidth\":0,\"ticks\":\"\"},\"type\":\"contourcarpet\"}],\"contour\":[{\"colorbar\":{\"outlinewidth\":0,\"ticks\":\"\"},\"colorscale\":[[0.0,\"#0d0887\"],[0.1111111111111111,\"#46039f\"],[0.2222222222222222,\"#7201a8\"],[0.3333333333333333,\"#9c179e\"],[0.4444444444444444,\"#bd3786\"],[0.5555555555555556,\"#d8576b\"],[0.6666666666666666,\"#ed7953\"],[0.7777777777777778,\"#fb9f3a\"],[0.8888888888888888,\"#fdca26\"],[1.0,\"#f0f921\"]],\"type\":\"contour\"}],\"heatmapgl\":[{\"colorbar\":{\"outlinewidth\":0,\"ticks\":\"\"},\"colorscale\":[[0.0,\"#0d0887\"],[0.1111111111111111,\"#46039f\"],[0.2222222222222222,\"#7201a8\"],[0.3333333333333333,\"#9c179e\"],[0.4444444444444444,\"#bd3786\"],[0.5555555555555556,\"#d8576b\"],[0.6666666666666666,\"#ed7953\"],[0.7777777777777778,\"#fb9f3a\"],[0.8888888888888888,\"#fdca26\"],[1.0,\"#f0f921\"]],\"type\":\"heatmapgl\"}],\"heatmap\":[{\"colorbar\":{\"outlinewidth\":0,\"ticks\":\"\"},\"colorscale\":[[0.0,\"#0d0887\"],[0.1111111111111111,\"#46039f\"],[0.2222222222222222,\"#7201a8\"],[0.3333333333333333,\"#9c179e\"],[0.4444444444444444,\"#bd3786\"],[0.5555555555555556,\"#d8576b\"],[0.6666666666666666,\"#ed7953\"],[0.7777777777777778,\"#fb9f3a\"],[0.8888888888888888,\"#fdca26\"],[1.0,\"#f0f921\"]],\"type\":\"heatmap\"}],\"histogram2dcontour\":[{\"colorbar\":{\"outlinewidth\":0,\"ticks\":\"\"},\"colorscale\":[[0.0,\"#0d0887\"],[0.1111111111111111,\"#46039f\"],[0.2222222222222222,\"#7201a8\"],[0.3333333333333333,\"#9c179e\"],[0.4444444444444444,\"#bd3786\"],[0.5555555555555556,\"#d8576b\"],[0.6666666666666666,\"#ed7953\"],[0.7777777777777778,\"#fb9f3a\"],[0.8888888888888888,\"#fdca26\"],[1.0,\"#f0f921\"]],\"type\":\"histogram2dcontour\"}],\"histogram2d\":[{\"colorbar\":{\"outlinewidth\":0,\"ticks\":\"\"},\"colorscale\":[[0.0,\"#0d0887\"],[0.1111111111111111,\"#46039f\"],[0.2222222222222222,\"#7201a8\"],[0.3333333333333333,\"#9c179e\"],[0.4444444444444444,\"#bd3786\"],[0.5555555555555556,\"#d8576b\"],[0.6666666666666666,\"#ed7953\"],[0.7777777777777778,\"#fb9f3a\"],[0.8888888888888888,\"#fdca26\"],[1.0,\"#f0f921\"]],\"type\":\"histogram2d\"}],\"histogram\":[{\"marker\":{\"pattern\":{\"fillmode\":\"overlay\",\"size\":10,\"solidity\":0.2}},\"type\":\"histogram\"}],\"mesh3d\":[{\"colorbar\":{\"outlinewidth\":0,\"ticks\":\"\"},\"type\":\"mesh3d\"}],\"parcoords\":[{\"line\":{\"colorbar\":{\"outlinewidth\":0,\"ticks\":\"\"}},\"type\":\"parcoords\"}],\"pie\":[{\"automargin\":true,\"type\":\"pie\"}],\"scatter3d\":[{\"line\":{\"colorbar\":{\"outlinewidth\":0,\"ticks\":\"\"}},\"marker\":{\"colorbar\":{\"outlinewidth\":0,\"ticks\":\"\"}},\"type\":\"scatter3d\"}],\"scattercarpet\":[{\"marker\":{\"colorbar\":{\"outlinewidth\":0,\"ticks\":\"\"}},\"type\":\"scattercarpet\"}],\"scattergeo\":[{\"marker\":{\"colorbar\":{\"outlinewidth\":0,\"ticks\":\"\"}},\"type\":\"scattergeo\"}],\"scattergl\":[{\"marker\":{\"colorbar\":{\"outlinewidth\":0,\"ticks\":\"\"}},\"type\":\"scattergl\"}],\"scattermapbox\":[{\"marker\":{\"colorbar\":{\"outlinewidth\":0,\"ticks\":\"\"}},\"type\":\"scattermapbox\"}],\"scatterpolargl\":[{\"marker\":{\"colorbar\":{\"outlinewidth\":0,\"ticks\":\"\"}},\"type\":\"scatterpolargl\"}],\"scatterpolar\":[{\"marker\":{\"colorbar\":{\"outlinewidth\":0,\"ticks\":\"\"}},\"type\":\"scatterpolar\"}],\"scatter\":[{\"marker\":{\"colorbar\":{\"outlinewidth\":0,\"ticks\":\"\"}},\"type\":\"scatter\"}],\"scatterternary\":[{\"marker\":{\"colorbar\":{\"outlinewidth\":0,\"ticks\":\"\"}},\"type\":\"scatterternary\"}],\"surface\":[{\"colorbar\":{\"outlinewidth\":0,\"ticks\":\"\"},\"colorscale\":[[0.0,\"#0d0887\"],[0.1111111111111111,\"#46039f\"],[0.2222222222222222,\"#7201a8\"],[0.3333333333333333,\"#9c179e\"],[0.4444444444444444,\"#bd3786\"],[0.5555555555555556,\"#d8576b\"],[0.6666666666666666,\"#ed7953\"],[0.7777777777777778,\"#fb9f3a\"],[0.8888888888888888,\"#fdca26\"],[1.0,\"#f0f921\"]],\"type\":\"surface\"}],\"table\":[{\"cells\":{\"fill\":{\"color\":\"#EBF0F8\"},\"line\":{\"color\":\"white\"}},\"header\":{\"fill\":{\"color\":\"#C8D4E3\"},\"line\":{\"color\":\"white\"}},\"type\":\"table\"}]},\"layout\":{\"annotationdefaults\":{\"arrowcolor\":\"#2a3f5f\",\"arrowhead\":0,\"arrowwidth\":1},\"autotypenumbers\":\"strict\",\"coloraxis\":{\"colorbar\":{\"outlinewidth\":0,\"ticks\":\"\"}},\"colorscale\":{\"diverging\":[[0,\"#8e0152\"],[0.1,\"#c51b7d\"],[0.2,\"#de77ae\"],[0.3,\"#f1b6da\"],[0.4,\"#fde0ef\"],[0.5,\"#f7f7f7\"],[0.6,\"#e6f5d0\"],[0.7,\"#b8e186\"],[0.8,\"#7fbc41\"],[0.9,\"#4d9221\"],[1,\"#276419\"]],\"sequential\":[[0.0,\"#0d0887\"],[0.1111111111111111,\"#46039f\"],[0.2222222222222222,\"#7201a8\"],[0.3333333333333333,\"#9c179e\"],[0.4444444444444444,\"#bd3786\"],[0.5555555555555556,\"#d8576b\"],[0.6666666666666666,\"#ed7953\"],[0.7777777777777778,\"#fb9f3a\"],[0.8888888888888888,\"#fdca26\"],[1.0,\"#f0f921\"]],\"sequentialminus\":[[0.0,\"#0d0887\"],[0.1111111111111111,\"#46039f\"],[0.2222222222222222,\"#7201a8\"],[0.3333333333333333,\"#9c179e\"],[0.4444444444444444,\"#bd3786\"],[0.5555555555555556,\"#d8576b\"],[0.6666666666666666,\"#ed7953\"],[0.7777777777777778,\"#fb9f3a\"],[0.8888888888888888,\"#fdca26\"],[1.0,\"#f0f921\"]]},\"colorway\":[\"#636efa\",\"#EF553B\",\"#00cc96\",\"#ab63fa\",\"#FFA15A\",\"#19d3f3\",\"#FF6692\",\"#B6E880\",\"#FF97FF\",\"#FECB52\"],\"font\":{\"color\":\"#2a3f5f\"},\"geo\":{\"bgcolor\":\"white\",\"lakecolor\":\"white\",\"landcolor\":\"#E5ECF6\",\"showlakes\":true,\"showland\":true,\"subunitcolor\":\"white\"},\"hoverlabel\":{\"align\":\"left\"},\"hovermode\":\"closest\",\"mapbox\":{\"style\":\"light\"},\"paper_bgcolor\":\"white\",\"plot_bgcolor\":\"#E5ECF6\",\"polar\":{\"angularaxis\":{\"gridcolor\":\"white\",\"linecolor\":\"white\",\"ticks\":\"\"},\"bgcolor\":\"#E5ECF6\",\"radialaxis\":{\"gridcolor\":\"white\",\"linecolor\":\"white\",\"ticks\":\"\"}},\"scene\":{\"xaxis\":{\"backgroundcolor\":\"#E5ECF6\",\"gridcolor\":\"white\",\"gridwidth\":2,\"linecolor\":\"white\",\"showbackground\":true,\"ticks\":\"\",\"zerolinecolor\":\"white\"},\"yaxis\":{\"backgroundcolor\":\"#E5ECF6\",\"gridcolor\":\"white\",\"gridwidth\":2,\"linecolor\":\"white\",\"showbackground\":true,\"ticks\":\"\",\"zerolinecolor\":\"white\"},\"zaxis\":{\"backgroundcolor\":\"#E5ECF6\",\"gridcolor\":\"white\",\"gridwidth\":2,\"linecolor\":\"white\",\"showbackground\":true,\"ticks\":\"\",\"zerolinecolor\":\"white\"}},\"shapedefaults\":{\"line\":{\"color\":\"#2a3f5f\"}},\"ternary\":{\"aaxis\":{\"gridcolor\":\"white\",\"linecolor\":\"white\",\"ticks\":\"\"},\"baxis\":{\"gridcolor\":\"white\",\"linecolor\":\"white\",\"ticks\":\"\"},\"bgcolor\":\"#E5ECF6\",\"caxis\":{\"gridcolor\":\"white\",\"linecolor\":\"white\",\"ticks\":\"\"}},\"title\":{\"x\":0.05},\"xaxis\":{\"automargin\":true,\"gridcolor\":\"white\",\"linecolor\":\"white\",\"ticks\":\"\",\"title\":{\"standoff\":15},\"zerolinecolor\":\"white\",\"zerolinewidth\":2},\"yaxis\":{\"automargin\":true,\"gridcolor\":\"white\",\"linecolor\":\"white\",\"ticks\":\"\",\"title\":{\"standoff\":15},\"zerolinecolor\":\"white\",\"zerolinewidth\":2}}},\"title\":{\"font\":{\"color\":\"#4D5663\"}},\"xaxis\":{\"gridcolor\":\"#E1E5ED\",\"showgrid\":true,\"tickfont\":{\"color\":\"#4D5663\"},\"title\":{\"font\":{\"color\":\"#4D5663\"},\"text\":\"\"},\"zerolinecolor\":\"#E1E5ED\"},\"yaxis\":{\"domain\":[0.3,1],\"gridcolor\":\"#E1E5ED\",\"showgrid\":true,\"tickfont\":{\"color\":\"#4D5663\"},\"title\":{\"font\":{\"color\":\"#4D5663\"},\"text\":\"\"},\"zerolinecolor\":\"#E1E5ED\"},\"yaxis2\":{\"domain\":[0,0.25],\"gridcolor\":\"#E1E5ED\",\"showgrid\":true,\"tickfont\":{\"color\":\"#4D5663\"},\"title\":{\"font\":{\"color\":\"#4D5663\"},\"text\":\"Spread\"},\"zerolinecolor\":\"#E1E5ED\"},\"xaxis2\":{\"anchor\":\"y2\",\"gridcolor\":\"#E1E5ED\",\"showgrid\":true,\"showticklabels\":false,\"tickfont\":{\"color\":\"#4D5663\"},\"title\":{\"font\":{\"color\":\"#4D5663\"},\"text\":\"\"},\"zerolinecolor\":\"#E1E5ED\"}},                        {\"showLink\": true, \"linkText\": \"Export to plot.ly\", \"plotlyServerURL\": \"https://plot.ly\", \"responsive\": true}                    ).then(function(){\n",
       "                            \n",
       "var gd = document.getElementById('38cf8902-9496-44e2-8d75-427f09f5696d');\n",
       "var x = new MutationObserver(function (mutations, observer) {{\n",
       "        var display = window.getComputedStyle(gd).display;\n",
       "        if (!display || display === 'none') {{\n",
       "            console.log([gd, 'removed!']);\n",
       "            Plotly.purge(gd);\n",
       "            observer.disconnect();\n",
       "        }}\n",
       "}});\n",
       "\n",
       "// Listen for the removal of the full notebook cells\n",
       "var notebookContainer = gd.closest('#notebook-container');\n",
       "if (notebookContainer) {{\n",
       "    x.observe(notebookContainer, {childList: true});\n",
       "}}\n",
       "\n",
       "// Listen for the clearing of the current output cell\n",
       "var outputEl = gd.closest('.output');\n",
       "if (outputEl) {{\n",
       "    x.observe(outputEl, {childList: true});\n",
       "}}\n",
       "\n",
       "                        })                };                });            </script>        </div>"
      ]
     },
     "metadata": {},
     "output_type": "display_data"
    }
   ],
   "source": [
    "df1[['A','B']].iplot(kind = 'spread')"
   ]
  },
  {
   "cell_type": "markdown",
   "id": "d6183063",
   "metadata": {},
   "source": [
    "### Bubble Plot"
   ]
  },
  {
   "cell_type": "markdown",
   "id": "a0133f40",
   "metadata": {},
   "source": [
    "###### Similar to scatter plot except it will change the size of dots based on another variable. We see these kind of plots a lot for GDP in comparision to population and happiness factor."
   ]
  },
  {
   "cell_type": "code",
   "execution_count": 29,
   "id": "7651ab8e",
   "metadata": {},
   "outputs": [
    {
     "data": {
      "application/vnd.plotly.v1+json": {
       "config": {
        "linkText": "Export to plot.ly",
        "plotlyServerURL": "https://plot.ly",
        "showLink": true
       },
       "data": [
        {
         "marker": {
          "color": [
           "rgb(255, 153, 51)",
           "rgb(55, 128, 191)",
           "rgb(50, 171, 96)",
           "rgb(128, 0, 128)",
           "rgb(219, 64, 82)",
           "rgb(0, 128, 128)",
           "rgb(255, 255, 51)",
           "rgb(128, 128, 0)",
           "rgb(251, 128, 114)",
           "rgb(128, 177, 211)"
          ],
          "line": {
           "width": 1.3
          },
          "size": [
           55,
           88,
           64,
           35,
           70,
           74,
           57,
           62,
           73,
           57,
           58,
           59,
           62,
           80,
           78,
           112,
           59,
           52,
           106,
           74,
           68,
           60,
           90,
           66,
           66,
           80,
           14,
           87,
           21,
           59,
           98,
           66,
           101,
           39,
           107,
           90,
           107,
           76,
           70,
           35,
           41,
           12,
           49,
           46,
           57,
           71,
           58,
           41,
           33,
           52,
           81,
           76,
           37,
           33,
           83,
           85,
           28,
           15,
           80,
           98,
           66,
           69,
           66,
           78,
           106,
           36,
           80,
           65,
           53,
           51,
           95,
           75,
           41,
           43,
           36,
           87,
           87,
           34,
           78,
           26,
           58,
           36,
           46,
           99,
           38,
           76,
           70,
           78,
           66,
           69,
           103,
           66,
           41,
           58,
           71,
           44,
           32,
           48,
           44,
           56
          ],
          "symbol": "circle"
         },
         "mode": "markers",
         "text": "",
         "type": "scatter",
         "x": [
          -0.6564744824764208,
          -0.44246018622678035,
          -1.4210529165487331,
          2.138912840106512,
          0.25578258692089706,
          0.39805143783044833,
          -0.12701603877964637,
          -0.7336425614675899,
          0.17166378867506915,
          0.2710840189785207,
          0.8534092997086261,
          -0.28423806801324436,
          0.680442831707899,
          1.0056126864042327,
          0.22345415383044398,
          1.3471504835508696,
          0.4868772969639054,
          -0.8560743163392702,
          0.2437582614308069,
          0.13615747280918256,
          1.7766279162229373,
          -0.047392212385020574,
          -1.478739271543873,
          0.6674437983342687,
          -1.0518729658163994,
          1.1450743950503413,
          0.45312446388413863,
          -2.247532593483744,
          -0.9380816730886774,
          0.5747550876841555,
          0.7445251795288704,
          -1.1397301094244776,
          -0.7330965447959531,
          0.0011163348157742902,
          -0.4384112915386252,
          -0.5103765163837336,
          0.2572701355520642,
          -0.2672705429298812,
          -0.3152386136033564,
          0.1641860318298152,
          -0.6148004002051985,
          0.07205002157098324,
          -2.3569799035568906,
          1.0536881549659127,
          0.026917841374375365,
          -1.5516053705251112,
          -0.37391562462327005,
          0.16636832151140332,
          2.1868099430258554,
          -0.41916960443056883,
          0.10496423203936313,
          0.6279926573009582,
          -0.6471640572249683,
          0.30945396871171144,
          -0.4692873864786442,
          -1.090176869362269,
          -0.4143546663277241,
          -0.9027350183105727,
          0.469359002390997,
          -1.4219684339163654,
          0.820847128917743,
          0.05483278813128337,
          1.2392518808560637,
          1.545366633263906,
          0.41934477765089295,
          0.8240554271196706,
          0.8649157101002072,
          -2.1965301978204814,
          0.3476863183989522,
          -0.12640063221688605,
          -1.1095799572682512,
          -0.7608133813357494,
          -2.2044745973693805,
          -2.0304273169011986,
          1.2711060359943978,
          0.13692317269969045,
          -0.0583827092739993,
          2.4115580112408193,
          -2.0777630091319015,
          0.9344928525053398,
          0.3953105866307476,
          -1.0128314490635355,
          1.3925168200064224,
          -0.2746806087720305,
          -0.15873804270543176,
          -1.2063378835963559,
          1.4659391526336598,
          0.7259062288360807,
          -0.018616086991251776,
          -1.0972073757865193,
          -1.0458427688984127,
          0.6742520113874113,
          -0.9688805187614103,
          -2.606590225991158,
          0.2665069685897831,
          0.08035808638610199,
          -1.019013237251515,
          -0.4491197717632893,
          0.9587565600232877,
          -1.2542926097550613
         ],
         "y": [
          0.7580307738992594,
          -0.8625173585817463,
          -1.6366635579880784,
          -0.026788812721112613,
          0.23161175849466448,
          1.2199293002623273,
          -0.7827188654461145,
          -0.7798390650913686,
          -0.12947907683514331,
          1.0712209025603268,
          -1.6383769059706026,
          0.25328144466334795,
          1.742638202990484,
          -0.056327495806758165,
          0.9437057933647285,
          2.8831757257521318,
          -0.4852972323833704,
          -0.4567365046026048,
          1.751431838705155,
          -2.406015038199109,
          0.7666963809140104,
          0.5834452650619113,
          -0.8810627750669326,
          -0.036135506573511146,
          0.31705001021648394,
          -0.7061871317069055,
          -0.3159150502367156,
          0.08679183834852548,
          -0.8773079487843657,
          0.34059428566701344,
          1.0117894523788795,
          -1.4223713004706713,
          0.3673575618258237,
          0.7994209827176314,
          -1.1402490848522213,
          -0.3098259650285641,
          0.44816075628217805,
          0.49225862230469863,
          -0.3198429663090066,
          0.7535928972424636,
          0.4062231366911554,
          -1.08852071659089,
          1.1932699862276017,
          -0.046812403925451065,
          -0.6242289885758998,
          0.47350489169255794,
          1.3140622219608786,
          0.7095495168694461,
          0.9399012385745007,
          -0.5384307148443165,
          -0.40173779338780424,
          0.8825797641438177,
          0.6310546479945338,
          -1.4908672034369301,
          1.105551235508307,
          -1.0855229769921029,
          1.8267336788316682,
          -1.4570122535225705,
          1.0784279389579425,
          -0.23609493119741587,
          -1.4518345771106087,
          -0.936347192855875,
          -0.516520118557937,
          1.9069306637372558,
          1.662383470919966,
          0.9539323596162675,
          -1.4309045262582105,
          0.13734272360761482,
          0.9725589422670315,
          0.19749937583635072,
          0.74497483397035,
          0.13798664679425274,
          -0.15382944980659588,
          0.42496202557755824,
          0.9446417743242981,
          1.4187557504647668,
          0.6373039613528989,
          1.0420549704138093,
          0.7428217879179443,
          -0.5985146435300484,
          1.3981806462267188,
          -0.6561336730020627,
          -0.4070023977511638,
          -0.452667589405772,
          -0.20514059006008803,
          0.011753641259448565,
          0.18499711275591785,
          0.44806318398005307,
          -0.7264420958566794,
          0.2040679431299117,
          -1.001927548621951,
          -1.2416331719420421,
          -1.6536030828556114,
          0.04634236549350992,
          -0.4952910163578565,
          0.22935390509840975,
          -0.9281710976792457,
          0.5036946030081555,
          -0.43453838988986104,
          -0.9682049615136412
         ]
        }
       ],
       "layout": {
        "legend": {
         "bgcolor": "#F5F6F9",
         "font": {
          "color": "#4D5663"
         }
        },
        "paper_bgcolor": "#F5F6F9",
        "plot_bgcolor": "#F5F6F9",
        "template": {
         "data": {
          "bar": [
           {
            "error_x": {
             "color": "#2a3f5f"
            },
            "error_y": {
             "color": "#2a3f5f"
            },
            "marker": {
             "line": {
              "color": "#E5ECF6",
              "width": 0.5
             },
             "pattern": {
              "fillmode": "overlay",
              "size": 10,
              "solidity": 0.2
             }
            },
            "type": "bar"
           }
          ],
          "barpolar": [
           {
            "marker": {
             "line": {
              "color": "#E5ECF6",
              "width": 0.5
             },
             "pattern": {
              "fillmode": "overlay",
              "size": 10,
              "solidity": 0.2
             }
            },
            "type": "barpolar"
           }
          ],
          "carpet": [
           {
            "aaxis": {
             "endlinecolor": "#2a3f5f",
             "gridcolor": "white",
             "linecolor": "white",
             "minorgridcolor": "white",
             "startlinecolor": "#2a3f5f"
            },
            "baxis": {
             "endlinecolor": "#2a3f5f",
             "gridcolor": "white",
             "linecolor": "white",
             "minorgridcolor": "white",
             "startlinecolor": "#2a3f5f"
            },
            "type": "carpet"
           }
          ],
          "choropleth": [
           {
            "colorbar": {
             "outlinewidth": 0,
             "ticks": ""
            },
            "type": "choropleth"
           }
          ],
          "contour": [
           {
            "colorbar": {
             "outlinewidth": 0,
             "ticks": ""
            },
            "colorscale": [
             [
              0,
              "#0d0887"
             ],
             [
              0.1111111111111111,
              "#46039f"
             ],
             [
              0.2222222222222222,
              "#7201a8"
             ],
             [
              0.3333333333333333,
              "#9c179e"
             ],
             [
              0.4444444444444444,
              "#bd3786"
             ],
             [
              0.5555555555555556,
              "#d8576b"
             ],
             [
              0.6666666666666666,
              "#ed7953"
             ],
             [
              0.7777777777777778,
              "#fb9f3a"
             ],
             [
              0.8888888888888888,
              "#fdca26"
             ],
             [
              1,
              "#f0f921"
             ]
            ],
            "type": "contour"
           }
          ],
          "contourcarpet": [
           {
            "colorbar": {
             "outlinewidth": 0,
             "ticks": ""
            },
            "type": "contourcarpet"
           }
          ],
          "heatmap": [
           {
            "colorbar": {
             "outlinewidth": 0,
             "ticks": ""
            },
            "colorscale": [
             [
              0,
              "#0d0887"
             ],
             [
              0.1111111111111111,
              "#46039f"
             ],
             [
              0.2222222222222222,
              "#7201a8"
             ],
             [
              0.3333333333333333,
              "#9c179e"
             ],
             [
              0.4444444444444444,
              "#bd3786"
             ],
             [
              0.5555555555555556,
              "#d8576b"
             ],
             [
              0.6666666666666666,
              "#ed7953"
             ],
             [
              0.7777777777777778,
              "#fb9f3a"
             ],
             [
              0.8888888888888888,
              "#fdca26"
             ],
             [
              1,
              "#f0f921"
             ]
            ],
            "type": "heatmap"
           }
          ],
          "heatmapgl": [
           {
            "colorbar": {
             "outlinewidth": 0,
             "ticks": ""
            },
            "colorscale": [
             [
              0,
              "#0d0887"
             ],
             [
              0.1111111111111111,
              "#46039f"
             ],
             [
              0.2222222222222222,
              "#7201a8"
             ],
             [
              0.3333333333333333,
              "#9c179e"
             ],
             [
              0.4444444444444444,
              "#bd3786"
             ],
             [
              0.5555555555555556,
              "#d8576b"
             ],
             [
              0.6666666666666666,
              "#ed7953"
             ],
             [
              0.7777777777777778,
              "#fb9f3a"
             ],
             [
              0.8888888888888888,
              "#fdca26"
             ],
             [
              1,
              "#f0f921"
             ]
            ],
            "type": "heatmapgl"
           }
          ],
          "histogram": [
           {
            "marker": {
             "pattern": {
              "fillmode": "overlay",
              "size": 10,
              "solidity": 0.2
             }
            },
            "type": "histogram"
           }
          ],
          "histogram2d": [
           {
            "colorbar": {
             "outlinewidth": 0,
             "ticks": ""
            },
            "colorscale": [
             [
              0,
              "#0d0887"
             ],
             [
              0.1111111111111111,
              "#46039f"
             ],
             [
              0.2222222222222222,
              "#7201a8"
             ],
             [
              0.3333333333333333,
              "#9c179e"
             ],
             [
              0.4444444444444444,
              "#bd3786"
             ],
             [
              0.5555555555555556,
              "#d8576b"
             ],
             [
              0.6666666666666666,
              "#ed7953"
             ],
             [
              0.7777777777777778,
              "#fb9f3a"
             ],
             [
              0.8888888888888888,
              "#fdca26"
             ],
             [
              1,
              "#f0f921"
             ]
            ],
            "type": "histogram2d"
           }
          ],
          "histogram2dcontour": [
           {
            "colorbar": {
             "outlinewidth": 0,
             "ticks": ""
            },
            "colorscale": [
             [
              0,
              "#0d0887"
             ],
             [
              0.1111111111111111,
              "#46039f"
             ],
             [
              0.2222222222222222,
              "#7201a8"
             ],
             [
              0.3333333333333333,
              "#9c179e"
             ],
             [
              0.4444444444444444,
              "#bd3786"
             ],
             [
              0.5555555555555556,
              "#d8576b"
             ],
             [
              0.6666666666666666,
              "#ed7953"
             ],
             [
              0.7777777777777778,
              "#fb9f3a"
             ],
             [
              0.8888888888888888,
              "#fdca26"
             ],
             [
              1,
              "#f0f921"
             ]
            ],
            "type": "histogram2dcontour"
           }
          ],
          "mesh3d": [
           {
            "colorbar": {
             "outlinewidth": 0,
             "ticks": ""
            },
            "type": "mesh3d"
           }
          ],
          "parcoords": [
           {
            "line": {
             "colorbar": {
              "outlinewidth": 0,
              "ticks": ""
             }
            },
            "type": "parcoords"
           }
          ],
          "pie": [
           {
            "automargin": true,
            "type": "pie"
           }
          ],
          "scatter": [
           {
            "marker": {
             "colorbar": {
              "outlinewidth": 0,
              "ticks": ""
             }
            },
            "type": "scatter"
           }
          ],
          "scatter3d": [
           {
            "line": {
             "colorbar": {
              "outlinewidth": 0,
              "ticks": ""
             }
            },
            "marker": {
             "colorbar": {
              "outlinewidth": 0,
              "ticks": ""
             }
            },
            "type": "scatter3d"
           }
          ],
          "scattercarpet": [
           {
            "marker": {
             "colorbar": {
              "outlinewidth": 0,
              "ticks": ""
             }
            },
            "type": "scattercarpet"
           }
          ],
          "scattergeo": [
           {
            "marker": {
             "colorbar": {
              "outlinewidth": 0,
              "ticks": ""
             }
            },
            "type": "scattergeo"
           }
          ],
          "scattergl": [
           {
            "marker": {
             "colorbar": {
              "outlinewidth": 0,
              "ticks": ""
             }
            },
            "type": "scattergl"
           }
          ],
          "scattermapbox": [
           {
            "marker": {
             "colorbar": {
              "outlinewidth": 0,
              "ticks": ""
             }
            },
            "type": "scattermapbox"
           }
          ],
          "scatterpolar": [
           {
            "marker": {
             "colorbar": {
              "outlinewidth": 0,
              "ticks": ""
             }
            },
            "type": "scatterpolar"
           }
          ],
          "scatterpolargl": [
           {
            "marker": {
             "colorbar": {
              "outlinewidth": 0,
              "ticks": ""
             }
            },
            "type": "scatterpolargl"
           }
          ],
          "scatterternary": [
           {
            "marker": {
             "colorbar": {
              "outlinewidth": 0,
              "ticks": ""
             }
            },
            "type": "scatterternary"
           }
          ],
          "surface": [
           {
            "colorbar": {
             "outlinewidth": 0,
             "ticks": ""
            },
            "colorscale": [
             [
              0,
              "#0d0887"
             ],
             [
              0.1111111111111111,
              "#46039f"
             ],
             [
              0.2222222222222222,
              "#7201a8"
             ],
             [
              0.3333333333333333,
              "#9c179e"
             ],
             [
              0.4444444444444444,
              "#bd3786"
             ],
             [
              0.5555555555555556,
              "#d8576b"
             ],
             [
              0.6666666666666666,
              "#ed7953"
             ],
             [
              0.7777777777777778,
              "#fb9f3a"
             ],
             [
              0.8888888888888888,
              "#fdca26"
             ],
             [
              1,
              "#f0f921"
             ]
            ],
            "type": "surface"
           }
          ],
          "table": [
           {
            "cells": {
             "fill": {
              "color": "#EBF0F8"
             },
             "line": {
              "color": "white"
             }
            },
            "header": {
             "fill": {
              "color": "#C8D4E3"
             },
             "line": {
              "color": "white"
             }
            },
            "type": "table"
           }
          ]
         },
         "layout": {
          "annotationdefaults": {
           "arrowcolor": "#2a3f5f",
           "arrowhead": 0,
           "arrowwidth": 1
          },
          "autotypenumbers": "strict",
          "coloraxis": {
           "colorbar": {
            "outlinewidth": 0,
            "ticks": ""
           }
          },
          "colorscale": {
           "diverging": [
            [
             0,
             "#8e0152"
            ],
            [
             0.1,
             "#c51b7d"
            ],
            [
             0.2,
             "#de77ae"
            ],
            [
             0.3,
             "#f1b6da"
            ],
            [
             0.4,
             "#fde0ef"
            ],
            [
             0.5,
             "#f7f7f7"
            ],
            [
             0.6,
             "#e6f5d0"
            ],
            [
             0.7,
             "#b8e186"
            ],
            [
             0.8,
             "#7fbc41"
            ],
            [
             0.9,
             "#4d9221"
            ],
            [
             1,
             "#276419"
            ]
           ],
           "sequential": [
            [
             0,
             "#0d0887"
            ],
            [
             0.1111111111111111,
             "#46039f"
            ],
            [
             0.2222222222222222,
             "#7201a8"
            ],
            [
             0.3333333333333333,
             "#9c179e"
            ],
            [
             0.4444444444444444,
             "#bd3786"
            ],
            [
             0.5555555555555556,
             "#d8576b"
            ],
            [
             0.6666666666666666,
             "#ed7953"
            ],
            [
             0.7777777777777778,
             "#fb9f3a"
            ],
            [
             0.8888888888888888,
             "#fdca26"
            ],
            [
             1,
             "#f0f921"
            ]
           ],
           "sequentialminus": [
            [
             0,
             "#0d0887"
            ],
            [
             0.1111111111111111,
             "#46039f"
            ],
            [
             0.2222222222222222,
             "#7201a8"
            ],
            [
             0.3333333333333333,
             "#9c179e"
            ],
            [
             0.4444444444444444,
             "#bd3786"
            ],
            [
             0.5555555555555556,
             "#d8576b"
            ],
            [
             0.6666666666666666,
             "#ed7953"
            ],
            [
             0.7777777777777778,
             "#fb9f3a"
            ],
            [
             0.8888888888888888,
             "#fdca26"
            ],
            [
             1,
             "#f0f921"
            ]
           ]
          },
          "colorway": [
           "#636efa",
           "#EF553B",
           "#00cc96",
           "#ab63fa",
           "#FFA15A",
           "#19d3f3",
           "#FF6692",
           "#B6E880",
           "#FF97FF",
           "#FECB52"
          ],
          "font": {
           "color": "#2a3f5f"
          },
          "geo": {
           "bgcolor": "white",
           "lakecolor": "white",
           "landcolor": "#E5ECF6",
           "showlakes": true,
           "showland": true,
           "subunitcolor": "white"
          },
          "hoverlabel": {
           "align": "left"
          },
          "hovermode": "closest",
          "mapbox": {
           "style": "light"
          },
          "paper_bgcolor": "white",
          "plot_bgcolor": "#E5ECF6",
          "polar": {
           "angularaxis": {
            "gridcolor": "white",
            "linecolor": "white",
            "ticks": ""
           },
           "bgcolor": "#E5ECF6",
           "radialaxis": {
            "gridcolor": "white",
            "linecolor": "white",
            "ticks": ""
           }
          },
          "scene": {
           "xaxis": {
            "backgroundcolor": "#E5ECF6",
            "gridcolor": "white",
            "gridwidth": 2,
            "linecolor": "white",
            "showbackground": true,
            "ticks": "",
            "zerolinecolor": "white"
           },
           "yaxis": {
            "backgroundcolor": "#E5ECF6",
            "gridcolor": "white",
            "gridwidth": 2,
            "linecolor": "white",
            "showbackground": true,
            "ticks": "",
            "zerolinecolor": "white"
           },
           "zaxis": {
            "backgroundcolor": "#E5ECF6",
            "gridcolor": "white",
            "gridwidth": 2,
            "linecolor": "white",
            "showbackground": true,
            "ticks": "",
            "zerolinecolor": "white"
           }
          },
          "shapedefaults": {
           "line": {
            "color": "#2a3f5f"
           }
          },
          "ternary": {
           "aaxis": {
            "gridcolor": "white",
            "linecolor": "white",
            "ticks": ""
           },
           "baxis": {
            "gridcolor": "white",
            "linecolor": "white",
            "ticks": ""
           },
           "bgcolor": "#E5ECF6",
           "caxis": {
            "gridcolor": "white",
            "linecolor": "white",
            "ticks": ""
           }
          },
          "title": {
           "x": 0.05
          },
          "xaxis": {
           "automargin": true,
           "gridcolor": "white",
           "linecolor": "white",
           "ticks": "",
           "title": {
            "standoff": 15
           },
           "zerolinecolor": "white",
           "zerolinewidth": 2
          },
          "yaxis": {
           "automargin": true,
           "gridcolor": "white",
           "linecolor": "white",
           "ticks": "",
           "title": {
            "standoff": 15
           },
           "zerolinecolor": "white",
           "zerolinewidth": 2
          }
         }
        },
        "title": {
         "font": {
          "color": "#4D5663"
         }
        },
        "xaxis": {
         "gridcolor": "#E1E5ED",
         "showgrid": true,
         "tickfont": {
          "color": "#4D5663"
         },
         "title": {
          "font": {
           "color": "#4D5663"
          },
          "text": ""
         },
         "zerolinecolor": "#E1E5ED"
        },
        "yaxis": {
         "gridcolor": "#E1E5ED",
         "showgrid": true,
         "tickfont": {
          "color": "#4D5663"
         },
         "title": {
          "font": {
           "color": "#4D5663"
          },
          "text": ""
         },
         "zerolinecolor": "#E1E5ED"
        }
       }
      },
      "text/html": [
       "<div>                            <div id=\"14ef0c9a-eea5-4928-89ae-b87f41943396\" class=\"plotly-graph-div\" style=\"height:525px; width:100%;\"></div>            <script type=\"text/javascript\">                require([\"plotly\"], function(Plotly) {                    window.PLOTLYENV=window.PLOTLYENV || {};\n",
       "                    window.PLOTLYENV.BASE_URL='https://plot.ly';                                    if (document.getElementById(\"14ef0c9a-eea5-4928-89ae-b87f41943396\")) {                    Plotly.newPlot(                        \"14ef0c9a-eea5-4928-89ae-b87f41943396\",                        [{\"marker\":{\"color\":[\"rgb(255, 153, 51)\",\"rgb(55, 128, 191)\",\"rgb(50, 171, 96)\",\"rgb(128, 0, 128)\",\"rgb(219, 64, 82)\",\"rgb(0, 128, 128)\",\"rgb(255, 255, 51)\",\"rgb(128, 128, 0)\",\"rgb(251, 128, 114)\",\"rgb(128, 177, 211)\"],\"line\":{\"width\":1.3},\"size\":[55,88,64,35,70,74,57,62,73,57,58,59,62,80,78,112,59,52,106,74,68,60,90,66,66,80,14,87,21,59,98,66,101,39,107,90,107,76,70,35,41,12,49,46,57,71,58,41,33,52,81,76,37,33,83,85,28,15,80,98,66,69,66,78,106,36,80,65,53,51,95,75,41,43,36,87,87,34,78,26,58,36,46,99,38,76,70,78,66,69,103,66,41,58,71,44,32,48,44,56],\"symbol\":\"circle\"},\"mode\":\"markers\",\"text\":\"\",\"x\":[-0.6564744824764208,-0.44246018622678035,-1.4210529165487331,2.138912840106512,0.25578258692089706,0.39805143783044833,-0.12701603877964637,-0.7336425614675899,0.17166378867506915,0.2710840189785207,0.8534092997086261,-0.28423806801324436,0.680442831707899,1.0056126864042327,0.22345415383044398,1.3471504835508696,0.4868772969639054,-0.8560743163392702,0.2437582614308069,0.13615747280918256,1.7766279162229373,-0.047392212385020574,-1.478739271543873,0.6674437983342687,-1.0518729658163994,1.1450743950503413,0.45312446388413863,-2.247532593483744,-0.9380816730886774,0.5747550876841555,0.7445251795288704,-1.1397301094244776,-0.7330965447959531,0.0011163348157742902,-0.4384112915386252,-0.5103765163837336,0.2572701355520642,-0.2672705429298812,-0.3152386136033564,0.1641860318298152,-0.6148004002051985,0.07205002157098324,-2.3569799035568906,1.0536881549659127,0.026917841374375365,-1.5516053705251112,-0.37391562462327005,0.16636832151140332,2.1868099430258554,-0.41916960443056883,0.10496423203936313,0.6279926573009582,-0.6471640572249683,0.30945396871171144,-0.4692873864786442,-1.090176869362269,-0.4143546663277241,-0.9027350183105727,0.469359002390997,-1.4219684339163654,0.820847128917743,0.05483278813128337,1.2392518808560637,1.545366633263906,0.41934477765089295,0.8240554271196706,0.8649157101002072,-2.1965301978204814,0.3476863183989522,-0.12640063221688605,-1.1095799572682512,-0.7608133813357494,-2.2044745973693805,-2.0304273169011986,1.2711060359943978,0.13692317269969045,-0.0583827092739993,2.4115580112408193,-2.0777630091319015,0.9344928525053398,0.3953105866307476,-1.0128314490635355,1.3925168200064224,-0.2746806087720305,-0.15873804270543176,-1.2063378835963559,1.4659391526336598,0.7259062288360807,-0.018616086991251776,-1.0972073757865193,-1.0458427688984127,0.6742520113874113,-0.9688805187614103,-2.606590225991158,0.2665069685897831,0.08035808638610199,-1.019013237251515,-0.4491197717632893,0.9587565600232877,-1.2542926097550613],\"y\":[0.7580307738992594,-0.8625173585817463,-1.6366635579880784,-0.026788812721112613,0.23161175849466448,1.2199293002623273,-0.7827188654461145,-0.7798390650913686,-0.12947907683514331,1.0712209025603268,-1.6383769059706026,0.25328144466334795,1.742638202990484,-0.056327495806758165,0.9437057933647285,2.8831757257521318,-0.4852972323833704,-0.4567365046026048,1.751431838705155,-2.406015038199109,0.7666963809140104,0.5834452650619113,-0.8810627750669326,-0.036135506573511146,0.31705001021648394,-0.7061871317069055,-0.3159150502367156,0.08679183834852548,-0.8773079487843657,0.34059428566701344,1.0117894523788795,-1.4223713004706713,0.3673575618258237,0.7994209827176314,-1.1402490848522213,-0.3098259650285641,0.44816075628217805,0.49225862230469863,-0.3198429663090066,0.7535928972424636,0.4062231366911554,-1.08852071659089,1.1932699862276017,-0.046812403925451065,-0.6242289885758998,0.47350489169255794,1.3140622219608786,0.7095495168694461,0.9399012385745007,-0.5384307148443165,-0.40173779338780424,0.8825797641438177,0.6310546479945338,-1.4908672034369301,1.105551235508307,-1.0855229769921029,1.8267336788316682,-1.4570122535225705,1.0784279389579425,-0.23609493119741587,-1.4518345771106087,-0.936347192855875,-0.516520118557937,1.9069306637372558,1.662383470919966,0.9539323596162675,-1.4309045262582105,0.13734272360761482,0.9725589422670315,0.19749937583635072,0.74497483397035,0.13798664679425274,-0.15382944980659588,0.42496202557755824,0.9446417743242981,1.4187557504647668,0.6373039613528989,1.0420549704138093,0.7428217879179443,-0.5985146435300484,1.3981806462267188,-0.6561336730020627,-0.4070023977511638,-0.452667589405772,-0.20514059006008803,0.011753641259448565,0.18499711275591785,0.44806318398005307,-0.7264420958566794,0.2040679431299117,-1.001927548621951,-1.2416331719420421,-1.6536030828556114,0.04634236549350992,-0.4952910163578565,0.22935390509840975,-0.9281710976792457,0.5036946030081555,-0.43453838988986104,-0.9682049615136412],\"type\":\"scatter\"}],                        {\"legend\":{\"bgcolor\":\"#F5F6F9\",\"font\":{\"color\":\"#4D5663\"}},\"paper_bgcolor\":\"#F5F6F9\",\"plot_bgcolor\":\"#F5F6F9\",\"template\":{\"data\":{\"barpolar\":[{\"marker\":{\"line\":{\"color\":\"#E5ECF6\",\"width\":0.5},\"pattern\":{\"fillmode\":\"overlay\",\"size\":10,\"solidity\":0.2}},\"type\":\"barpolar\"}],\"bar\":[{\"error_x\":{\"color\":\"#2a3f5f\"},\"error_y\":{\"color\":\"#2a3f5f\"},\"marker\":{\"line\":{\"color\":\"#E5ECF6\",\"width\":0.5},\"pattern\":{\"fillmode\":\"overlay\",\"size\":10,\"solidity\":0.2}},\"type\":\"bar\"}],\"carpet\":[{\"aaxis\":{\"endlinecolor\":\"#2a3f5f\",\"gridcolor\":\"white\",\"linecolor\":\"white\",\"minorgridcolor\":\"white\",\"startlinecolor\":\"#2a3f5f\"},\"baxis\":{\"endlinecolor\":\"#2a3f5f\",\"gridcolor\":\"white\",\"linecolor\":\"white\",\"minorgridcolor\":\"white\",\"startlinecolor\":\"#2a3f5f\"},\"type\":\"carpet\"}],\"choropleth\":[{\"colorbar\":{\"outlinewidth\":0,\"ticks\":\"\"},\"type\":\"choropleth\"}],\"contourcarpet\":[{\"colorbar\":{\"outlinewidth\":0,\"ticks\":\"\"},\"type\":\"contourcarpet\"}],\"contour\":[{\"colorbar\":{\"outlinewidth\":0,\"ticks\":\"\"},\"colorscale\":[[0.0,\"#0d0887\"],[0.1111111111111111,\"#46039f\"],[0.2222222222222222,\"#7201a8\"],[0.3333333333333333,\"#9c179e\"],[0.4444444444444444,\"#bd3786\"],[0.5555555555555556,\"#d8576b\"],[0.6666666666666666,\"#ed7953\"],[0.7777777777777778,\"#fb9f3a\"],[0.8888888888888888,\"#fdca26\"],[1.0,\"#f0f921\"]],\"type\":\"contour\"}],\"heatmapgl\":[{\"colorbar\":{\"outlinewidth\":0,\"ticks\":\"\"},\"colorscale\":[[0.0,\"#0d0887\"],[0.1111111111111111,\"#46039f\"],[0.2222222222222222,\"#7201a8\"],[0.3333333333333333,\"#9c179e\"],[0.4444444444444444,\"#bd3786\"],[0.5555555555555556,\"#d8576b\"],[0.6666666666666666,\"#ed7953\"],[0.7777777777777778,\"#fb9f3a\"],[0.8888888888888888,\"#fdca26\"],[1.0,\"#f0f921\"]],\"type\":\"heatmapgl\"}],\"heatmap\":[{\"colorbar\":{\"outlinewidth\":0,\"ticks\":\"\"},\"colorscale\":[[0.0,\"#0d0887\"],[0.1111111111111111,\"#46039f\"],[0.2222222222222222,\"#7201a8\"],[0.3333333333333333,\"#9c179e\"],[0.4444444444444444,\"#bd3786\"],[0.5555555555555556,\"#d8576b\"],[0.6666666666666666,\"#ed7953\"],[0.7777777777777778,\"#fb9f3a\"],[0.8888888888888888,\"#fdca26\"],[1.0,\"#f0f921\"]],\"type\":\"heatmap\"}],\"histogram2dcontour\":[{\"colorbar\":{\"outlinewidth\":0,\"ticks\":\"\"},\"colorscale\":[[0.0,\"#0d0887\"],[0.1111111111111111,\"#46039f\"],[0.2222222222222222,\"#7201a8\"],[0.3333333333333333,\"#9c179e\"],[0.4444444444444444,\"#bd3786\"],[0.5555555555555556,\"#d8576b\"],[0.6666666666666666,\"#ed7953\"],[0.7777777777777778,\"#fb9f3a\"],[0.8888888888888888,\"#fdca26\"],[1.0,\"#f0f921\"]],\"type\":\"histogram2dcontour\"}],\"histogram2d\":[{\"colorbar\":{\"outlinewidth\":0,\"ticks\":\"\"},\"colorscale\":[[0.0,\"#0d0887\"],[0.1111111111111111,\"#46039f\"],[0.2222222222222222,\"#7201a8\"],[0.3333333333333333,\"#9c179e\"],[0.4444444444444444,\"#bd3786\"],[0.5555555555555556,\"#d8576b\"],[0.6666666666666666,\"#ed7953\"],[0.7777777777777778,\"#fb9f3a\"],[0.8888888888888888,\"#fdca26\"],[1.0,\"#f0f921\"]],\"type\":\"histogram2d\"}],\"histogram\":[{\"marker\":{\"pattern\":{\"fillmode\":\"overlay\",\"size\":10,\"solidity\":0.2}},\"type\":\"histogram\"}],\"mesh3d\":[{\"colorbar\":{\"outlinewidth\":0,\"ticks\":\"\"},\"type\":\"mesh3d\"}],\"parcoords\":[{\"line\":{\"colorbar\":{\"outlinewidth\":0,\"ticks\":\"\"}},\"type\":\"parcoords\"}],\"pie\":[{\"automargin\":true,\"type\":\"pie\"}],\"scatter3d\":[{\"line\":{\"colorbar\":{\"outlinewidth\":0,\"ticks\":\"\"}},\"marker\":{\"colorbar\":{\"outlinewidth\":0,\"ticks\":\"\"}},\"type\":\"scatter3d\"}],\"scattercarpet\":[{\"marker\":{\"colorbar\":{\"outlinewidth\":0,\"ticks\":\"\"}},\"type\":\"scattercarpet\"}],\"scattergeo\":[{\"marker\":{\"colorbar\":{\"outlinewidth\":0,\"ticks\":\"\"}},\"type\":\"scattergeo\"}],\"scattergl\":[{\"marker\":{\"colorbar\":{\"outlinewidth\":0,\"ticks\":\"\"}},\"type\":\"scattergl\"}],\"scattermapbox\":[{\"marker\":{\"colorbar\":{\"outlinewidth\":0,\"ticks\":\"\"}},\"type\":\"scattermapbox\"}],\"scatterpolargl\":[{\"marker\":{\"colorbar\":{\"outlinewidth\":0,\"ticks\":\"\"}},\"type\":\"scatterpolargl\"}],\"scatterpolar\":[{\"marker\":{\"colorbar\":{\"outlinewidth\":0,\"ticks\":\"\"}},\"type\":\"scatterpolar\"}],\"scatter\":[{\"marker\":{\"colorbar\":{\"outlinewidth\":0,\"ticks\":\"\"}},\"type\":\"scatter\"}],\"scatterternary\":[{\"marker\":{\"colorbar\":{\"outlinewidth\":0,\"ticks\":\"\"}},\"type\":\"scatterternary\"}],\"surface\":[{\"colorbar\":{\"outlinewidth\":0,\"ticks\":\"\"},\"colorscale\":[[0.0,\"#0d0887\"],[0.1111111111111111,\"#46039f\"],[0.2222222222222222,\"#7201a8\"],[0.3333333333333333,\"#9c179e\"],[0.4444444444444444,\"#bd3786\"],[0.5555555555555556,\"#d8576b\"],[0.6666666666666666,\"#ed7953\"],[0.7777777777777778,\"#fb9f3a\"],[0.8888888888888888,\"#fdca26\"],[1.0,\"#f0f921\"]],\"type\":\"surface\"}],\"table\":[{\"cells\":{\"fill\":{\"color\":\"#EBF0F8\"},\"line\":{\"color\":\"white\"}},\"header\":{\"fill\":{\"color\":\"#C8D4E3\"},\"line\":{\"color\":\"white\"}},\"type\":\"table\"}]},\"layout\":{\"annotationdefaults\":{\"arrowcolor\":\"#2a3f5f\",\"arrowhead\":0,\"arrowwidth\":1},\"autotypenumbers\":\"strict\",\"coloraxis\":{\"colorbar\":{\"outlinewidth\":0,\"ticks\":\"\"}},\"colorscale\":{\"diverging\":[[0,\"#8e0152\"],[0.1,\"#c51b7d\"],[0.2,\"#de77ae\"],[0.3,\"#f1b6da\"],[0.4,\"#fde0ef\"],[0.5,\"#f7f7f7\"],[0.6,\"#e6f5d0\"],[0.7,\"#b8e186\"],[0.8,\"#7fbc41\"],[0.9,\"#4d9221\"],[1,\"#276419\"]],\"sequential\":[[0.0,\"#0d0887\"],[0.1111111111111111,\"#46039f\"],[0.2222222222222222,\"#7201a8\"],[0.3333333333333333,\"#9c179e\"],[0.4444444444444444,\"#bd3786\"],[0.5555555555555556,\"#d8576b\"],[0.6666666666666666,\"#ed7953\"],[0.7777777777777778,\"#fb9f3a\"],[0.8888888888888888,\"#fdca26\"],[1.0,\"#f0f921\"]],\"sequentialminus\":[[0.0,\"#0d0887\"],[0.1111111111111111,\"#46039f\"],[0.2222222222222222,\"#7201a8\"],[0.3333333333333333,\"#9c179e\"],[0.4444444444444444,\"#bd3786\"],[0.5555555555555556,\"#d8576b\"],[0.6666666666666666,\"#ed7953\"],[0.7777777777777778,\"#fb9f3a\"],[0.8888888888888888,\"#fdca26\"],[1.0,\"#f0f921\"]]},\"colorway\":[\"#636efa\",\"#EF553B\",\"#00cc96\",\"#ab63fa\",\"#FFA15A\",\"#19d3f3\",\"#FF6692\",\"#B6E880\",\"#FF97FF\",\"#FECB52\"],\"font\":{\"color\":\"#2a3f5f\"},\"geo\":{\"bgcolor\":\"white\",\"lakecolor\":\"white\",\"landcolor\":\"#E5ECF6\",\"showlakes\":true,\"showland\":true,\"subunitcolor\":\"white\"},\"hoverlabel\":{\"align\":\"left\"},\"hovermode\":\"closest\",\"mapbox\":{\"style\":\"light\"},\"paper_bgcolor\":\"white\",\"plot_bgcolor\":\"#E5ECF6\",\"polar\":{\"angularaxis\":{\"gridcolor\":\"white\",\"linecolor\":\"white\",\"ticks\":\"\"},\"bgcolor\":\"#E5ECF6\",\"radialaxis\":{\"gridcolor\":\"white\",\"linecolor\":\"white\",\"ticks\":\"\"}},\"scene\":{\"xaxis\":{\"backgroundcolor\":\"#E5ECF6\",\"gridcolor\":\"white\",\"gridwidth\":2,\"linecolor\":\"white\",\"showbackground\":true,\"ticks\":\"\",\"zerolinecolor\":\"white\"},\"yaxis\":{\"backgroundcolor\":\"#E5ECF6\",\"gridcolor\":\"white\",\"gridwidth\":2,\"linecolor\":\"white\",\"showbackground\":true,\"ticks\":\"\",\"zerolinecolor\":\"white\"},\"zaxis\":{\"backgroundcolor\":\"#E5ECF6\",\"gridcolor\":\"white\",\"gridwidth\":2,\"linecolor\":\"white\",\"showbackground\":true,\"ticks\":\"\",\"zerolinecolor\":\"white\"}},\"shapedefaults\":{\"line\":{\"color\":\"#2a3f5f\"}},\"ternary\":{\"aaxis\":{\"gridcolor\":\"white\",\"linecolor\":\"white\",\"ticks\":\"\"},\"baxis\":{\"gridcolor\":\"white\",\"linecolor\":\"white\",\"ticks\":\"\"},\"bgcolor\":\"#E5ECF6\",\"caxis\":{\"gridcolor\":\"white\",\"linecolor\":\"white\",\"ticks\":\"\"}},\"title\":{\"x\":0.05},\"xaxis\":{\"automargin\":true,\"gridcolor\":\"white\",\"linecolor\":\"white\",\"ticks\":\"\",\"title\":{\"standoff\":15},\"zerolinecolor\":\"white\",\"zerolinewidth\":2},\"yaxis\":{\"automargin\":true,\"gridcolor\":\"white\",\"linecolor\":\"white\",\"ticks\":\"\",\"title\":{\"standoff\":15},\"zerolinecolor\":\"white\",\"zerolinewidth\":2}}},\"title\":{\"font\":{\"color\":\"#4D5663\"}},\"xaxis\":{\"gridcolor\":\"#E1E5ED\",\"showgrid\":true,\"tickfont\":{\"color\":\"#4D5663\"},\"title\":{\"font\":{\"color\":\"#4D5663\"},\"text\":\"\"},\"zerolinecolor\":\"#E1E5ED\"},\"yaxis\":{\"gridcolor\":\"#E1E5ED\",\"showgrid\":true,\"tickfont\":{\"color\":\"#4D5663\"},\"title\":{\"font\":{\"color\":\"#4D5663\"},\"text\":\"\"},\"zerolinecolor\":\"#E1E5ED\"}},                        {\"showLink\": true, \"linkText\": \"Export to plot.ly\", \"plotlyServerURL\": \"https://plot.ly\", \"responsive\": true}                    ).then(function(){\n",
       "                            \n",
       "var gd = document.getElementById('14ef0c9a-eea5-4928-89ae-b87f41943396');\n",
       "var x = new MutationObserver(function (mutations, observer) {{\n",
       "        var display = window.getComputedStyle(gd).display;\n",
       "        if (!display || display === 'none') {{\n",
       "            console.log([gd, 'removed!']);\n",
       "            Plotly.purge(gd);\n",
       "            observer.disconnect();\n",
       "        }}\n",
       "}});\n",
       "\n",
       "// Listen for the removal of the full notebook cells\n",
       "var notebookContainer = gd.closest('#notebook-container');\n",
       "if (notebookContainer) {{\n",
       "    x.observe(notebookContainer, {childList: true});\n",
       "}}\n",
       "\n",
       "// Listen for the clearing of the current output cell\n",
       "var outputEl = gd.closest('.output');\n",
       "if (outputEl) {{\n",
       "    x.observe(outputEl, {childList: true});\n",
       "}}\n",
       "\n",
       "                        })                };                });            </script>        </div>"
      ]
     },
     "metadata": {},
     "output_type": "display_data"
    }
   ],
   "source": [
    "df1.iplot(kind = 'bubble', x = 'A', y = 'B', size = 'C')"
   ]
  },
  {
   "cell_type": "markdown",
   "id": "28983862",
   "metadata": {},
   "source": [
    "### Scatter Matrix Plot"
   ]
  },
  {
   "cell_type": "markdown",
   "id": "b8433784",
   "metadata": {},
   "source": [
    "###### It is very similar to seaborn's pairplot, it just creates a scatter matrixof all the columns it can."
   ]
  },
  {
   "cell_type": "code",
   "execution_count": 30,
   "id": "60cc27f6",
   "metadata": {},
   "outputs": [
    {
     "data": {
      "application/vnd.plotly.v1+json": {
       "config": {
        "linkText": "Export to plot.ly",
        "plotlyServerURL": "https://plot.ly",
        "showLink": true
       },
       "data": [
        {
         "histfunc": "count",
         "histnorm": "",
         "marker": {
          "color": "rgba(255, 153, 51, 1.0)",
          "line": {
           "color": "#4D5663",
           "width": 1.3
          }
         },
         "name": "A",
         "nbinsx": 10,
         "opacity": 0.8,
         "orientation": "v",
         "type": "histogram",
         "x": [
          -0.6564744824764208,
          -0.44246018622678035,
          -1.4210529165487331,
          2.138912840106512,
          0.25578258692089706,
          0.39805143783044833,
          -0.12701603877964637,
          -0.7336425614675899,
          0.17166378867506915,
          0.2710840189785207,
          0.8534092997086261,
          -0.28423806801324436,
          0.680442831707899,
          1.0056126864042327,
          0.22345415383044398,
          1.3471504835508696,
          0.4868772969639054,
          -0.8560743163392702,
          0.2437582614308069,
          0.13615747280918256,
          1.7766279162229373,
          -0.047392212385020574,
          -1.478739271543873,
          0.6674437983342687,
          -1.0518729658163994,
          1.1450743950503413,
          0.45312446388413863,
          -2.247532593483744,
          -0.9380816730886774,
          0.5747550876841555,
          0.7445251795288704,
          -1.1397301094244776,
          -0.7330965447959531,
          0.0011163348157742902,
          -0.4384112915386252,
          -0.5103765163837336,
          0.2572701355520642,
          -0.2672705429298812,
          -0.3152386136033564,
          0.1641860318298152,
          -0.6148004002051985,
          0.07205002157098324,
          -2.3569799035568906,
          1.0536881549659127,
          0.026917841374375365,
          -1.5516053705251112,
          -0.37391562462327005,
          0.16636832151140332,
          2.1868099430258554,
          -0.41916960443056883,
          0.10496423203936313,
          0.6279926573009582,
          -0.6471640572249683,
          0.30945396871171144,
          -0.4692873864786442,
          -1.090176869362269,
          -0.4143546663277241,
          -0.9027350183105727,
          0.469359002390997,
          -1.4219684339163654,
          0.820847128917743,
          0.05483278813128337,
          1.2392518808560637,
          1.545366633263906,
          0.41934477765089295,
          0.8240554271196706,
          0.8649157101002072,
          -2.1965301978204814,
          0.3476863183989522,
          -0.12640063221688605,
          -1.1095799572682512,
          -0.7608133813357494,
          -2.2044745973693805,
          -2.0304273169011986,
          1.2711060359943978,
          0.13692317269969045,
          -0.0583827092739993,
          2.4115580112408193,
          -2.0777630091319015,
          0.9344928525053398,
          0.3953105866307476,
          -1.0128314490635355,
          1.3925168200064224,
          -0.2746806087720305,
          -0.15873804270543176,
          -1.2063378835963559,
          1.4659391526336598,
          0.7259062288360807,
          -0.018616086991251776,
          -1.0972073757865193,
          -1.0458427688984127,
          0.6742520113874113,
          -0.9688805187614103,
          -2.606590225991158,
          0.2665069685897831,
          0.08035808638610199,
          -1.019013237251515,
          -0.4491197717632893,
          0.9587565600232877,
          -1.2542926097550613
         ],
         "xaxis": "x",
         "yaxis": "y"
        },
        {
         "line": {
          "color": "rgba(128, 128, 128, 1.0)",
          "dash": "solid",
          "shape": "linear",
          "width": 1.3
         },
         "marker": {
          "size": 2,
          "symbol": "circle"
         },
         "mode": "markers",
         "name": "A",
         "text": "",
         "type": "scatter",
         "x": [
          0.7580307738992594,
          -0.8625173585817463,
          -1.6366635579880784,
          -0.026788812721112613,
          0.23161175849466448,
          1.2199293002623273,
          -0.7827188654461145,
          -0.7798390650913686,
          -0.12947907683514331,
          1.0712209025603268,
          -1.6383769059706026,
          0.25328144466334795,
          1.742638202990484,
          -0.056327495806758165,
          0.9437057933647285,
          2.8831757257521318,
          -0.4852972323833704,
          -0.4567365046026048,
          1.751431838705155,
          -2.406015038199109,
          0.7666963809140104,
          0.5834452650619113,
          -0.8810627750669326,
          -0.036135506573511146,
          0.31705001021648394,
          -0.7061871317069055,
          -0.3159150502367156,
          0.08679183834852548,
          -0.8773079487843657,
          0.34059428566701344,
          1.0117894523788795,
          -1.4223713004706713,
          0.3673575618258237,
          0.7994209827176314,
          -1.1402490848522213,
          -0.3098259650285641,
          0.44816075628217805,
          0.49225862230469863,
          -0.3198429663090066,
          0.7535928972424636,
          0.4062231366911554,
          -1.08852071659089,
          1.1932699862276017,
          -0.046812403925451065,
          -0.6242289885758998,
          0.47350489169255794,
          1.3140622219608786,
          0.7095495168694461,
          0.9399012385745007,
          -0.5384307148443165,
          -0.40173779338780424,
          0.8825797641438177,
          0.6310546479945338,
          -1.4908672034369301,
          1.105551235508307,
          -1.0855229769921029,
          1.8267336788316682,
          -1.4570122535225705,
          1.0784279389579425,
          -0.23609493119741587,
          -1.4518345771106087,
          -0.936347192855875,
          -0.516520118557937,
          1.9069306637372558,
          1.662383470919966,
          0.9539323596162675,
          -1.4309045262582105,
          0.13734272360761482,
          0.9725589422670315,
          0.19749937583635072,
          0.74497483397035,
          0.13798664679425274,
          -0.15382944980659588,
          0.42496202557755824,
          0.9446417743242981,
          1.4187557504647668,
          0.6373039613528989,
          1.0420549704138093,
          0.7428217879179443,
          -0.5985146435300484,
          1.3981806462267188,
          -0.6561336730020627,
          -0.4070023977511638,
          -0.452667589405772,
          -0.20514059006008803,
          0.011753641259448565,
          0.18499711275591785,
          0.44806318398005307,
          -0.7264420958566794,
          0.2040679431299117,
          -1.001927548621951,
          -1.2416331719420421,
          -1.6536030828556114,
          0.04634236549350992,
          -0.4952910163578565,
          0.22935390509840975,
          -0.9281710976792457,
          0.5036946030081555,
          -0.43453838988986104,
          -0.9682049615136412
         ],
         "xaxis": "x2",
         "y": [
          -0.6564744824764208,
          -0.44246018622678035,
          -1.4210529165487331,
          2.138912840106512,
          0.25578258692089706,
          0.39805143783044833,
          -0.12701603877964637,
          -0.7336425614675899,
          0.17166378867506915,
          0.2710840189785207,
          0.8534092997086261,
          -0.28423806801324436,
          0.680442831707899,
          1.0056126864042327,
          0.22345415383044398,
          1.3471504835508696,
          0.4868772969639054,
          -0.8560743163392702,
          0.2437582614308069,
          0.13615747280918256,
          1.7766279162229373,
          -0.047392212385020574,
          -1.478739271543873,
          0.6674437983342687,
          -1.0518729658163994,
          1.1450743950503413,
          0.45312446388413863,
          -2.247532593483744,
          -0.9380816730886774,
          0.5747550876841555,
          0.7445251795288704,
          -1.1397301094244776,
          -0.7330965447959531,
          0.0011163348157742902,
          -0.4384112915386252,
          -0.5103765163837336,
          0.2572701355520642,
          -0.2672705429298812,
          -0.3152386136033564,
          0.1641860318298152,
          -0.6148004002051985,
          0.07205002157098324,
          -2.3569799035568906,
          1.0536881549659127,
          0.026917841374375365,
          -1.5516053705251112,
          -0.37391562462327005,
          0.16636832151140332,
          2.1868099430258554,
          -0.41916960443056883,
          0.10496423203936313,
          0.6279926573009582,
          -0.6471640572249683,
          0.30945396871171144,
          -0.4692873864786442,
          -1.090176869362269,
          -0.4143546663277241,
          -0.9027350183105727,
          0.469359002390997,
          -1.4219684339163654,
          0.820847128917743,
          0.05483278813128337,
          1.2392518808560637,
          1.545366633263906,
          0.41934477765089295,
          0.8240554271196706,
          0.8649157101002072,
          -2.1965301978204814,
          0.3476863183989522,
          -0.12640063221688605,
          -1.1095799572682512,
          -0.7608133813357494,
          -2.2044745973693805,
          -2.0304273169011986,
          1.2711060359943978,
          0.13692317269969045,
          -0.0583827092739993,
          2.4115580112408193,
          -2.0777630091319015,
          0.9344928525053398,
          0.3953105866307476,
          -1.0128314490635355,
          1.3925168200064224,
          -0.2746806087720305,
          -0.15873804270543176,
          -1.2063378835963559,
          1.4659391526336598,
          0.7259062288360807,
          -0.018616086991251776,
          -1.0972073757865193,
          -1.0458427688984127,
          0.6742520113874113,
          -0.9688805187614103,
          -2.606590225991158,
          0.2665069685897831,
          0.08035808638610199,
          -1.019013237251515,
          -0.4491197717632893,
          0.9587565600232877,
          -1.2542926097550613
         ],
         "yaxis": "y2"
        },
        {
         "line": {
          "color": "rgba(128, 128, 128, 1.0)",
          "dash": "solid",
          "shape": "linear",
          "width": 1.3
         },
         "marker": {
          "size": 2,
          "symbol": "circle"
         },
         "mode": "markers",
         "name": "A",
         "text": "",
         "type": "scatter",
         "x": [
          -0.42328414092118744,
          1.0353472703466378,
          -0.0294408149925103,
          -1.3080779107417164,
          0.25711409791473455,
          0.44151315445685657,
          -0.3195050000927743,
          -0.0782500400354517,
          0.3676051961488906,
          -0.2978329257209743,
          -0.2766171637298272,
          -0.24694369601875368,
          -0.10309387266580315,
          0.7002446278340115,
          0.6308102905466025,
          2.0903240423469898,
          -0.2317200157760494,
          -0.5234257695437491,
          1.8548080260680004,
          0.4462577324476635,
          0.16869572021215656,
          -0.2016134910168743,
          1.136302564871149,
          0.09046804222624254,
          0.09604573434310844,
          0.7101795501867115,
          -2.2211369990891976,
          0.9989208680144112,
          -1.9128529841297661,
          -0.23169876192442396,
          1.5039552670839198,
          0.07453974564807933,
          1.6458237555562663,
          -1.1306690961320491,
          1.8809855537953806,
          1.132954840145376,
          1.896604275133463,
          0.5134515307830606,
          0.24846752386668378,
          -1.2813358260908256,
          -1.010521716642204,
          -2.3311459813542825,
          -0.6680178594950927,
          -0.816257723324524,
          -0.31215073260909865,
          0.2896328233261768,
          -0.2942037452702574,
          -1.024219271919298,
          -1.401699272632873,
          -0.5209246285045438,
          0.7320320730304343,
          0.5283941356938554,
          -1.1817292342895411,
          -1.3859581339557363,
          0.8237850642318686,
          0.9257312630709252,
          -1.599339160178483,
          -2.161194784895461,
          0.6964050088817003,
          1.5000282089604031,
          0.08725442825022327,
          0.20878016257964457,
          0.05873282026572182,
          0.6161988103482395,
          1.834148373840194,
          -1.2540834843384059,
          0.6871027942149779,
          0.026056859698059952,
          -0.4923515756312518,
          -0.5927746585197166,
          1.3610770586776446,
          0.47391091683380754,
          -1.043306889443504,
          -0.9509116911101757,
          -1.259416192419341,
          0.9921273537989724,
          0.987622646571816,
          -1.3342156202755444,
          0.619427880375424,
          -1.6728984990220959,
          -0.2707463551132399,
          -1.2529502080559582,
          -0.7971115155360949,
          1.5541975949074123,
          -1.1773786977491547,
          0.5423811266351756,
          0.24605744005141958,
          0.6004666442151226,
          0.07809251506709225,
          0.2266454844784491,
          1.6991242708513101,
          0.06415258070870512,
          -1.0142989668442808,
          -0.2768891447723133,
          0.2815421718642755,
          -0.8970518215859872,
          -1.408365328601296,
          -0.7172290558737238,
          -0.9120682724390551,
          -0.3758549478690623
         ],
         "xaxis": "x3",
         "y": [
          -0.6564744824764208,
          -0.44246018622678035,
          -1.4210529165487331,
          2.138912840106512,
          0.25578258692089706,
          0.39805143783044833,
          -0.12701603877964637,
          -0.7336425614675899,
          0.17166378867506915,
          0.2710840189785207,
          0.8534092997086261,
          -0.28423806801324436,
          0.680442831707899,
          1.0056126864042327,
          0.22345415383044398,
          1.3471504835508696,
          0.4868772969639054,
          -0.8560743163392702,
          0.2437582614308069,
          0.13615747280918256,
          1.7766279162229373,
          -0.047392212385020574,
          -1.478739271543873,
          0.6674437983342687,
          -1.0518729658163994,
          1.1450743950503413,
          0.45312446388413863,
          -2.247532593483744,
          -0.9380816730886774,
          0.5747550876841555,
          0.7445251795288704,
          -1.1397301094244776,
          -0.7330965447959531,
          0.0011163348157742902,
          -0.4384112915386252,
          -0.5103765163837336,
          0.2572701355520642,
          -0.2672705429298812,
          -0.3152386136033564,
          0.1641860318298152,
          -0.6148004002051985,
          0.07205002157098324,
          -2.3569799035568906,
          1.0536881549659127,
          0.026917841374375365,
          -1.5516053705251112,
          -0.37391562462327005,
          0.16636832151140332,
          2.1868099430258554,
          -0.41916960443056883,
          0.10496423203936313,
          0.6279926573009582,
          -0.6471640572249683,
          0.30945396871171144,
          -0.4692873864786442,
          -1.090176869362269,
          -0.4143546663277241,
          -0.9027350183105727,
          0.469359002390997,
          -1.4219684339163654,
          0.820847128917743,
          0.05483278813128337,
          1.2392518808560637,
          1.545366633263906,
          0.41934477765089295,
          0.8240554271196706,
          0.8649157101002072,
          -2.1965301978204814,
          0.3476863183989522,
          -0.12640063221688605,
          -1.1095799572682512,
          -0.7608133813357494,
          -2.2044745973693805,
          -2.0304273169011986,
          1.2711060359943978,
          0.13692317269969045,
          -0.0583827092739993,
          2.4115580112408193,
          -2.0777630091319015,
          0.9344928525053398,
          0.3953105866307476,
          -1.0128314490635355,
          1.3925168200064224,
          -0.2746806087720305,
          -0.15873804270543176,
          -1.2063378835963559,
          1.4659391526336598,
          0.7259062288360807,
          -0.018616086991251776,
          -1.0972073757865193,
          -1.0458427688984127,
          0.6742520113874113,
          -0.9688805187614103,
          -2.606590225991158,
          0.2665069685897831,
          0.08035808638610199,
          -1.019013237251515,
          -0.4491197717632893,
          0.9587565600232877,
          -1.2542926097550613
         ],
         "yaxis": "y3"
        },
        {
         "line": {
          "color": "rgba(128, 128, 128, 1.0)",
          "dash": "solid",
          "shape": "linear",
          "width": 1.3
         },
         "marker": {
          "size": 2,
          "symbol": "circle"
         },
         "mode": "markers",
         "name": "A",
         "text": "",
         "type": "scatter",
         "x": [
          -0.10716739297592093,
          0.9479447284269172,
          1.370449958759234,
          -0.3486615965666615,
          1.7595465505714352,
          1.2108974389734368,
          -0.2558252394530886,
          -0.3260742183018137,
          -1.0322519522885203,
          0.16297492715093576,
          -1.4054321746177054,
          -0.00698178770017601,
          2.061329468159568,
          0.9141131146417977,
          0.8540937334668862,
          -0.2863489155732238,
          -0.5347005786338509,
          0.890134217321711,
          -0.950323074305132,
          -0.13587532077936681,
          -0.12484544447554184,
          -0.9370911689176806,
          1.3146357722090332,
          -0.979263981063374,
          1.6873436206550463,
          0.025813178944782612,
          0.504914906087867,
          -0.6052362964597082,
          -1.066220133411954,
          1.1234871186905926,
          0.846274540328193,
          -1.0831796372168665,
          1.06996558045424,
          -0.5118601253884535,
          0.10609320920173515,
          0.535557285109827,
          -0.3984491458827878,
          0.05999073369188505,
          -0.0074878011174125784,
          0.4670072811114906,
          0.3457846756450776,
          -0.06540687218194201,
          0.3344504087283477,
          -0.36236153907488633,
          0.12095079414114726,
          -0.2864767074860481,
          -0.9504952195194385,
          -0.08660523507889167,
          -0.10925485119560914,
          -0.8138806328071769,
          -1.1545992931889217,
          0.9980930558710237,
          0.9183716149515965,
          0.6686252676065014,
          0.11654882546394174,
          0.7979385777603432,
          0.08313121585625391,
          -0.06228743418704124,
          1.6011316341757469,
          -0.3155469149620852,
          0.33716677390464384,
          0.7654842236614688,
          0.609143054712147,
          0.2542674371087768,
          0.38922056390307846,
          -1.3521129363192337,
          -0.4146807398899897,
          -0.6601327716673171,
          0.05342590961294951,
          0.03553851069847322,
          -0.05992784857539338,
          -1.046987014575927,
          0.619076819809439,
          -0.043419863957865255,
          -0.8376319917789405,
          -0.7475893747085525,
          -1.1474612757784273,
          -0.4437291270075998,
          0.7188952225519313,
          1.2749955498757781,
          0.6180104532009417,
          1.1040970559403493,
          -0.6904557848469052,
          0.9700683280446663,
          -2.615923999858738,
          0.20587985862580907,
          -1.2747922174592787,
          0.04425500071520386,
          -0.6111696155178268,
          -1.8934406758301399,
          0.3125770370371499,
          1.993201331082072,
          0.47292052826578557,
          1.758906521973015,
          1.2655394276257803,
          0.9414468603637745,
          0.7297611658319217,
          -0.29012638219263476,
          -0.581399645596098,
          0.7532369215612564
         ],
         "xaxis": "x4",
         "y": [
          -0.6564744824764208,
          -0.44246018622678035,
          -1.4210529165487331,
          2.138912840106512,
          0.25578258692089706,
          0.39805143783044833,
          -0.12701603877964637,
          -0.7336425614675899,
          0.17166378867506915,
          0.2710840189785207,
          0.8534092997086261,
          -0.28423806801324436,
          0.680442831707899,
          1.0056126864042327,
          0.22345415383044398,
          1.3471504835508696,
          0.4868772969639054,
          -0.8560743163392702,
          0.2437582614308069,
          0.13615747280918256,
          1.7766279162229373,
          -0.047392212385020574,
          -1.478739271543873,
          0.6674437983342687,
          -1.0518729658163994,
          1.1450743950503413,
          0.45312446388413863,
          -2.247532593483744,
          -0.9380816730886774,
          0.5747550876841555,
          0.7445251795288704,
          -1.1397301094244776,
          -0.7330965447959531,
          0.0011163348157742902,
          -0.4384112915386252,
          -0.5103765163837336,
          0.2572701355520642,
          -0.2672705429298812,
          -0.3152386136033564,
          0.1641860318298152,
          -0.6148004002051985,
          0.07205002157098324,
          -2.3569799035568906,
          1.0536881549659127,
          0.026917841374375365,
          -1.5516053705251112,
          -0.37391562462327005,
          0.16636832151140332,
          2.1868099430258554,
          -0.41916960443056883,
          0.10496423203936313,
          0.6279926573009582,
          -0.6471640572249683,
          0.30945396871171144,
          -0.4692873864786442,
          -1.090176869362269,
          -0.4143546663277241,
          -0.9027350183105727,
          0.469359002390997,
          -1.4219684339163654,
          0.820847128917743,
          0.05483278813128337,
          1.2392518808560637,
          1.545366633263906,
          0.41934477765089295,
          0.8240554271196706,
          0.8649157101002072,
          -2.1965301978204814,
          0.3476863183989522,
          -0.12640063221688605,
          -1.1095799572682512,
          -0.7608133813357494,
          -2.2044745973693805,
          -2.0304273169011986,
          1.2711060359943978,
          0.13692317269969045,
          -0.0583827092739993,
          2.4115580112408193,
          -2.0777630091319015,
          0.9344928525053398,
          0.3953105866307476,
          -1.0128314490635355,
          1.3925168200064224,
          -0.2746806087720305,
          -0.15873804270543176,
          -1.2063378835963559,
          1.4659391526336598,
          0.7259062288360807,
          -0.018616086991251776,
          -1.0972073757865193,
          -1.0458427688984127,
          0.6742520113874113,
          -0.9688805187614103,
          -2.606590225991158,
          0.2665069685897831,
          0.08035808638610199,
          -1.019013237251515,
          -0.4491197717632893,
          0.9587565600232877,
          -1.2542926097550613
         ],
         "yaxis": "y4"
        },
        {
         "line": {
          "color": "rgba(128, 128, 128, 1.0)",
          "dash": "solid",
          "shape": "linear",
          "width": 1.3
         },
         "marker": {
          "size": 2,
          "symbol": "circle"
         },
         "mode": "markers",
         "name": "B",
         "text": "",
         "type": "scatter",
         "x": [
          -0.6564744824764208,
          -0.44246018622678035,
          -1.4210529165487331,
          2.138912840106512,
          0.25578258692089706,
          0.39805143783044833,
          -0.12701603877964637,
          -0.7336425614675899,
          0.17166378867506915,
          0.2710840189785207,
          0.8534092997086261,
          -0.28423806801324436,
          0.680442831707899,
          1.0056126864042327,
          0.22345415383044398,
          1.3471504835508696,
          0.4868772969639054,
          -0.8560743163392702,
          0.2437582614308069,
          0.13615747280918256,
          1.7766279162229373,
          -0.047392212385020574,
          -1.478739271543873,
          0.6674437983342687,
          -1.0518729658163994,
          1.1450743950503413,
          0.45312446388413863,
          -2.247532593483744,
          -0.9380816730886774,
          0.5747550876841555,
          0.7445251795288704,
          -1.1397301094244776,
          -0.7330965447959531,
          0.0011163348157742902,
          -0.4384112915386252,
          -0.5103765163837336,
          0.2572701355520642,
          -0.2672705429298812,
          -0.3152386136033564,
          0.1641860318298152,
          -0.6148004002051985,
          0.07205002157098324,
          -2.3569799035568906,
          1.0536881549659127,
          0.026917841374375365,
          -1.5516053705251112,
          -0.37391562462327005,
          0.16636832151140332,
          2.1868099430258554,
          -0.41916960443056883,
          0.10496423203936313,
          0.6279926573009582,
          -0.6471640572249683,
          0.30945396871171144,
          -0.4692873864786442,
          -1.090176869362269,
          -0.4143546663277241,
          -0.9027350183105727,
          0.469359002390997,
          -1.4219684339163654,
          0.820847128917743,
          0.05483278813128337,
          1.2392518808560637,
          1.545366633263906,
          0.41934477765089295,
          0.8240554271196706,
          0.8649157101002072,
          -2.1965301978204814,
          0.3476863183989522,
          -0.12640063221688605,
          -1.1095799572682512,
          -0.7608133813357494,
          -2.2044745973693805,
          -2.0304273169011986,
          1.2711060359943978,
          0.13692317269969045,
          -0.0583827092739993,
          2.4115580112408193,
          -2.0777630091319015,
          0.9344928525053398,
          0.3953105866307476,
          -1.0128314490635355,
          1.3925168200064224,
          -0.2746806087720305,
          -0.15873804270543176,
          -1.2063378835963559,
          1.4659391526336598,
          0.7259062288360807,
          -0.018616086991251776,
          -1.0972073757865193,
          -1.0458427688984127,
          0.6742520113874113,
          -0.9688805187614103,
          -2.606590225991158,
          0.2665069685897831,
          0.08035808638610199,
          -1.019013237251515,
          -0.4491197717632893,
          0.9587565600232877,
          -1.2542926097550613
         ],
         "xaxis": "x5",
         "y": [
          0.7580307738992594,
          -0.8625173585817463,
          -1.6366635579880784,
          -0.026788812721112613,
          0.23161175849466448,
          1.2199293002623273,
          -0.7827188654461145,
          -0.7798390650913686,
          -0.12947907683514331,
          1.0712209025603268,
          -1.6383769059706026,
          0.25328144466334795,
          1.742638202990484,
          -0.056327495806758165,
          0.9437057933647285,
          2.8831757257521318,
          -0.4852972323833704,
          -0.4567365046026048,
          1.751431838705155,
          -2.406015038199109,
          0.7666963809140104,
          0.5834452650619113,
          -0.8810627750669326,
          -0.036135506573511146,
          0.31705001021648394,
          -0.7061871317069055,
          -0.3159150502367156,
          0.08679183834852548,
          -0.8773079487843657,
          0.34059428566701344,
          1.0117894523788795,
          -1.4223713004706713,
          0.3673575618258237,
          0.7994209827176314,
          -1.1402490848522213,
          -0.3098259650285641,
          0.44816075628217805,
          0.49225862230469863,
          -0.3198429663090066,
          0.7535928972424636,
          0.4062231366911554,
          -1.08852071659089,
          1.1932699862276017,
          -0.046812403925451065,
          -0.6242289885758998,
          0.47350489169255794,
          1.3140622219608786,
          0.7095495168694461,
          0.9399012385745007,
          -0.5384307148443165,
          -0.40173779338780424,
          0.8825797641438177,
          0.6310546479945338,
          -1.4908672034369301,
          1.105551235508307,
          -1.0855229769921029,
          1.8267336788316682,
          -1.4570122535225705,
          1.0784279389579425,
          -0.23609493119741587,
          -1.4518345771106087,
          -0.936347192855875,
          -0.516520118557937,
          1.9069306637372558,
          1.662383470919966,
          0.9539323596162675,
          -1.4309045262582105,
          0.13734272360761482,
          0.9725589422670315,
          0.19749937583635072,
          0.74497483397035,
          0.13798664679425274,
          -0.15382944980659588,
          0.42496202557755824,
          0.9446417743242981,
          1.4187557504647668,
          0.6373039613528989,
          1.0420549704138093,
          0.7428217879179443,
          -0.5985146435300484,
          1.3981806462267188,
          -0.6561336730020627,
          -0.4070023977511638,
          -0.452667589405772,
          -0.20514059006008803,
          0.011753641259448565,
          0.18499711275591785,
          0.44806318398005307,
          -0.7264420958566794,
          0.2040679431299117,
          -1.001927548621951,
          -1.2416331719420421,
          -1.6536030828556114,
          0.04634236549350992,
          -0.4952910163578565,
          0.22935390509840975,
          -0.9281710976792457,
          0.5036946030081555,
          -0.43453838988986104,
          -0.9682049615136412
         ],
         "yaxis": "y5"
        },
        {
         "histfunc": "count",
         "histnorm": "",
         "marker": {
          "color": "rgba(55, 128, 191, 1.0)",
          "line": {
           "color": "#4D5663",
           "width": 1.3
          }
         },
         "name": "B",
         "nbinsx": 10,
         "opacity": 0.8,
         "orientation": "v",
         "type": "histogram",
         "x": [
          0.7580307738992594,
          -0.8625173585817463,
          -1.6366635579880784,
          -0.026788812721112613,
          0.23161175849466448,
          1.2199293002623273,
          -0.7827188654461145,
          -0.7798390650913686,
          -0.12947907683514331,
          1.0712209025603268,
          -1.6383769059706026,
          0.25328144466334795,
          1.742638202990484,
          -0.056327495806758165,
          0.9437057933647285,
          2.8831757257521318,
          -0.4852972323833704,
          -0.4567365046026048,
          1.751431838705155,
          -2.406015038199109,
          0.7666963809140104,
          0.5834452650619113,
          -0.8810627750669326,
          -0.036135506573511146,
          0.31705001021648394,
          -0.7061871317069055,
          -0.3159150502367156,
          0.08679183834852548,
          -0.8773079487843657,
          0.34059428566701344,
          1.0117894523788795,
          -1.4223713004706713,
          0.3673575618258237,
          0.7994209827176314,
          -1.1402490848522213,
          -0.3098259650285641,
          0.44816075628217805,
          0.49225862230469863,
          -0.3198429663090066,
          0.7535928972424636,
          0.4062231366911554,
          -1.08852071659089,
          1.1932699862276017,
          -0.046812403925451065,
          -0.6242289885758998,
          0.47350489169255794,
          1.3140622219608786,
          0.7095495168694461,
          0.9399012385745007,
          -0.5384307148443165,
          -0.40173779338780424,
          0.8825797641438177,
          0.6310546479945338,
          -1.4908672034369301,
          1.105551235508307,
          -1.0855229769921029,
          1.8267336788316682,
          -1.4570122535225705,
          1.0784279389579425,
          -0.23609493119741587,
          -1.4518345771106087,
          -0.936347192855875,
          -0.516520118557937,
          1.9069306637372558,
          1.662383470919966,
          0.9539323596162675,
          -1.4309045262582105,
          0.13734272360761482,
          0.9725589422670315,
          0.19749937583635072,
          0.74497483397035,
          0.13798664679425274,
          -0.15382944980659588,
          0.42496202557755824,
          0.9446417743242981,
          1.4187557504647668,
          0.6373039613528989,
          1.0420549704138093,
          0.7428217879179443,
          -0.5985146435300484,
          1.3981806462267188,
          -0.6561336730020627,
          -0.4070023977511638,
          -0.452667589405772,
          -0.20514059006008803,
          0.011753641259448565,
          0.18499711275591785,
          0.44806318398005307,
          -0.7264420958566794,
          0.2040679431299117,
          -1.001927548621951,
          -1.2416331719420421,
          -1.6536030828556114,
          0.04634236549350992,
          -0.4952910163578565,
          0.22935390509840975,
          -0.9281710976792457,
          0.5036946030081555,
          -0.43453838988986104,
          -0.9682049615136412
         ],
         "xaxis": "x6",
         "yaxis": "y6"
        },
        {
         "line": {
          "color": "rgba(128, 128, 128, 1.0)",
          "dash": "solid",
          "shape": "linear",
          "width": 1.3
         },
         "marker": {
          "size": 2,
          "symbol": "circle"
         },
         "mode": "markers",
         "name": "B",
         "text": "",
         "type": "scatter",
         "x": [
          -0.42328414092118744,
          1.0353472703466378,
          -0.0294408149925103,
          -1.3080779107417164,
          0.25711409791473455,
          0.44151315445685657,
          -0.3195050000927743,
          -0.0782500400354517,
          0.3676051961488906,
          -0.2978329257209743,
          -0.2766171637298272,
          -0.24694369601875368,
          -0.10309387266580315,
          0.7002446278340115,
          0.6308102905466025,
          2.0903240423469898,
          -0.2317200157760494,
          -0.5234257695437491,
          1.8548080260680004,
          0.4462577324476635,
          0.16869572021215656,
          -0.2016134910168743,
          1.136302564871149,
          0.09046804222624254,
          0.09604573434310844,
          0.7101795501867115,
          -2.2211369990891976,
          0.9989208680144112,
          -1.9128529841297661,
          -0.23169876192442396,
          1.5039552670839198,
          0.07453974564807933,
          1.6458237555562663,
          -1.1306690961320491,
          1.8809855537953806,
          1.132954840145376,
          1.896604275133463,
          0.5134515307830606,
          0.24846752386668378,
          -1.2813358260908256,
          -1.010521716642204,
          -2.3311459813542825,
          -0.6680178594950927,
          -0.816257723324524,
          -0.31215073260909865,
          0.2896328233261768,
          -0.2942037452702574,
          -1.024219271919298,
          -1.401699272632873,
          -0.5209246285045438,
          0.7320320730304343,
          0.5283941356938554,
          -1.1817292342895411,
          -1.3859581339557363,
          0.8237850642318686,
          0.9257312630709252,
          -1.599339160178483,
          -2.161194784895461,
          0.6964050088817003,
          1.5000282089604031,
          0.08725442825022327,
          0.20878016257964457,
          0.05873282026572182,
          0.6161988103482395,
          1.834148373840194,
          -1.2540834843384059,
          0.6871027942149779,
          0.026056859698059952,
          -0.4923515756312518,
          -0.5927746585197166,
          1.3610770586776446,
          0.47391091683380754,
          -1.043306889443504,
          -0.9509116911101757,
          -1.259416192419341,
          0.9921273537989724,
          0.987622646571816,
          -1.3342156202755444,
          0.619427880375424,
          -1.6728984990220959,
          -0.2707463551132399,
          -1.2529502080559582,
          -0.7971115155360949,
          1.5541975949074123,
          -1.1773786977491547,
          0.5423811266351756,
          0.24605744005141958,
          0.6004666442151226,
          0.07809251506709225,
          0.2266454844784491,
          1.6991242708513101,
          0.06415258070870512,
          -1.0142989668442808,
          -0.2768891447723133,
          0.2815421718642755,
          -0.8970518215859872,
          -1.408365328601296,
          -0.7172290558737238,
          -0.9120682724390551,
          -0.3758549478690623
         ],
         "xaxis": "x7",
         "y": [
          0.7580307738992594,
          -0.8625173585817463,
          -1.6366635579880784,
          -0.026788812721112613,
          0.23161175849466448,
          1.2199293002623273,
          -0.7827188654461145,
          -0.7798390650913686,
          -0.12947907683514331,
          1.0712209025603268,
          -1.6383769059706026,
          0.25328144466334795,
          1.742638202990484,
          -0.056327495806758165,
          0.9437057933647285,
          2.8831757257521318,
          -0.4852972323833704,
          -0.4567365046026048,
          1.751431838705155,
          -2.406015038199109,
          0.7666963809140104,
          0.5834452650619113,
          -0.8810627750669326,
          -0.036135506573511146,
          0.31705001021648394,
          -0.7061871317069055,
          -0.3159150502367156,
          0.08679183834852548,
          -0.8773079487843657,
          0.34059428566701344,
          1.0117894523788795,
          -1.4223713004706713,
          0.3673575618258237,
          0.7994209827176314,
          -1.1402490848522213,
          -0.3098259650285641,
          0.44816075628217805,
          0.49225862230469863,
          -0.3198429663090066,
          0.7535928972424636,
          0.4062231366911554,
          -1.08852071659089,
          1.1932699862276017,
          -0.046812403925451065,
          -0.6242289885758998,
          0.47350489169255794,
          1.3140622219608786,
          0.7095495168694461,
          0.9399012385745007,
          -0.5384307148443165,
          -0.40173779338780424,
          0.8825797641438177,
          0.6310546479945338,
          -1.4908672034369301,
          1.105551235508307,
          -1.0855229769921029,
          1.8267336788316682,
          -1.4570122535225705,
          1.0784279389579425,
          -0.23609493119741587,
          -1.4518345771106087,
          -0.936347192855875,
          -0.516520118557937,
          1.9069306637372558,
          1.662383470919966,
          0.9539323596162675,
          -1.4309045262582105,
          0.13734272360761482,
          0.9725589422670315,
          0.19749937583635072,
          0.74497483397035,
          0.13798664679425274,
          -0.15382944980659588,
          0.42496202557755824,
          0.9446417743242981,
          1.4187557504647668,
          0.6373039613528989,
          1.0420549704138093,
          0.7428217879179443,
          -0.5985146435300484,
          1.3981806462267188,
          -0.6561336730020627,
          -0.4070023977511638,
          -0.452667589405772,
          -0.20514059006008803,
          0.011753641259448565,
          0.18499711275591785,
          0.44806318398005307,
          -0.7264420958566794,
          0.2040679431299117,
          -1.001927548621951,
          -1.2416331719420421,
          -1.6536030828556114,
          0.04634236549350992,
          -0.4952910163578565,
          0.22935390509840975,
          -0.9281710976792457,
          0.5036946030081555,
          -0.43453838988986104,
          -0.9682049615136412
         ],
         "yaxis": "y7"
        },
        {
         "line": {
          "color": "rgba(128, 128, 128, 1.0)",
          "dash": "solid",
          "shape": "linear",
          "width": 1.3
         },
         "marker": {
          "size": 2,
          "symbol": "circle"
         },
         "mode": "markers",
         "name": "B",
         "text": "",
         "type": "scatter",
         "x": [
          -0.10716739297592093,
          0.9479447284269172,
          1.370449958759234,
          -0.3486615965666615,
          1.7595465505714352,
          1.2108974389734368,
          -0.2558252394530886,
          -0.3260742183018137,
          -1.0322519522885203,
          0.16297492715093576,
          -1.4054321746177054,
          -0.00698178770017601,
          2.061329468159568,
          0.9141131146417977,
          0.8540937334668862,
          -0.2863489155732238,
          -0.5347005786338509,
          0.890134217321711,
          -0.950323074305132,
          -0.13587532077936681,
          -0.12484544447554184,
          -0.9370911689176806,
          1.3146357722090332,
          -0.979263981063374,
          1.6873436206550463,
          0.025813178944782612,
          0.504914906087867,
          -0.6052362964597082,
          -1.066220133411954,
          1.1234871186905926,
          0.846274540328193,
          -1.0831796372168665,
          1.06996558045424,
          -0.5118601253884535,
          0.10609320920173515,
          0.535557285109827,
          -0.3984491458827878,
          0.05999073369188505,
          -0.0074878011174125784,
          0.4670072811114906,
          0.3457846756450776,
          -0.06540687218194201,
          0.3344504087283477,
          -0.36236153907488633,
          0.12095079414114726,
          -0.2864767074860481,
          -0.9504952195194385,
          -0.08660523507889167,
          -0.10925485119560914,
          -0.8138806328071769,
          -1.1545992931889217,
          0.9980930558710237,
          0.9183716149515965,
          0.6686252676065014,
          0.11654882546394174,
          0.7979385777603432,
          0.08313121585625391,
          -0.06228743418704124,
          1.6011316341757469,
          -0.3155469149620852,
          0.33716677390464384,
          0.7654842236614688,
          0.609143054712147,
          0.2542674371087768,
          0.38922056390307846,
          -1.3521129363192337,
          -0.4146807398899897,
          -0.6601327716673171,
          0.05342590961294951,
          0.03553851069847322,
          -0.05992784857539338,
          -1.046987014575927,
          0.619076819809439,
          -0.043419863957865255,
          -0.8376319917789405,
          -0.7475893747085525,
          -1.1474612757784273,
          -0.4437291270075998,
          0.7188952225519313,
          1.2749955498757781,
          0.6180104532009417,
          1.1040970559403493,
          -0.6904557848469052,
          0.9700683280446663,
          -2.615923999858738,
          0.20587985862580907,
          -1.2747922174592787,
          0.04425500071520386,
          -0.6111696155178268,
          -1.8934406758301399,
          0.3125770370371499,
          1.993201331082072,
          0.47292052826578557,
          1.758906521973015,
          1.2655394276257803,
          0.9414468603637745,
          0.7297611658319217,
          -0.29012638219263476,
          -0.581399645596098,
          0.7532369215612564
         ],
         "xaxis": "x8",
         "y": [
          0.7580307738992594,
          -0.8625173585817463,
          -1.6366635579880784,
          -0.026788812721112613,
          0.23161175849466448,
          1.2199293002623273,
          -0.7827188654461145,
          -0.7798390650913686,
          -0.12947907683514331,
          1.0712209025603268,
          -1.6383769059706026,
          0.25328144466334795,
          1.742638202990484,
          -0.056327495806758165,
          0.9437057933647285,
          2.8831757257521318,
          -0.4852972323833704,
          -0.4567365046026048,
          1.751431838705155,
          -2.406015038199109,
          0.7666963809140104,
          0.5834452650619113,
          -0.8810627750669326,
          -0.036135506573511146,
          0.31705001021648394,
          -0.7061871317069055,
          -0.3159150502367156,
          0.08679183834852548,
          -0.8773079487843657,
          0.34059428566701344,
          1.0117894523788795,
          -1.4223713004706713,
          0.3673575618258237,
          0.7994209827176314,
          -1.1402490848522213,
          -0.3098259650285641,
          0.44816075628217805,
          0.49225862230469863,
          -0.3198429663090066,
          0.7535928972424636,
          0.4062231366911554,
          -1.08852071659089,
          1.1932699862276017,
          -0.046812403925451065,
          -0.6242289885758998,
          0.47350489169255794,
          1.3140622219608786,
          0.7095495168694461,
          0.9399012385745007,
          -0.5384307148443165,
          -0.40173779338780424,
          0.8825797641438177,
          0.6310546479945338,
          -1.4908672034369301,
          1.105551235508307,
          -1.0855229769921029,
          1.8267336788316682,
          -1.4570122535225705,
          1.0784279389579425,
          -0.23609493119741587,
          -1.4518345771106087,
          -0.936347192855875,
          -0.516520118557937,
          1.9069306637372558,
          1.662383470919966,
          0.9539323596162675,
          -1.4309045262582105,
          0.13734272360761482,
          0.9725589422670315,
          0.19749937583635072,
          0.74497483397035,
          0.13798664679425274,
          -0.15382944980659588,
          0.42496202557755824,
          0.9446417743242981,
          1.4187557504647668,
          0.6373039613528989,
          1.0420549704138093,
          0.7428217879179443,
          -0.5985146435300484,
          1.3981806462267188,
          -0.6561336730020627,
          -0.4070023977511638,
          -0.452667589405772,
          -0.20514059006008803,
          0.011753641259448565,
          0.18499711275591785,
          0.44806318398005307,
          -0.7264420958566794,
          0.2040679431299117,
          -1.001927548621951,
          -1.2416331719420421,
          -1.6536030828556114,
          0.04634236549350992,
          -0.4952910163578565,
          0.22935390509840975,
          -0.9281710976792457,
          0.5036946030081555,
          -0.43453838988986104,
          -0.9682049615136412
         ],
         "yaxis": "y8"
        },
        {
         "line": {
          "color": "rgba(128, 128, 128, 1.0)",
          "dash": "solid",
          "shape": "linear",
          "width": 1.3
         },
         "marker": {
          "size": 2,
          "symbol": "circle"
         },
         "mode": "markers",
         "name": "C",
         "text": "",
         "type": "scatter",
         "x": [
          -0.6564744824764208,
          -0.44246018622678035,
          -1.4210529165487331,
          2.138912840106512,
          0.25578258692089706,
          0.39805143783044833,
          -0.12701603877964637,
          -0.7336425614675899,
          0.17166378867506915,
          0.2710840189785207,
          0.8534092997086261,
          -0.28423806801324436,
          0.680442831707899,
          1.0056126864042327,
          0.22345415383044398,
          1.3471504835508696,
          0.4868772969639054,
          -0.8560743163392702,
          0.2437582614308069,
          0.13615747280918256,
          1.7766279162229373,
          -0.047392212385020574,
          -1.478739271543873,
          0.6674437983342687,
          -1.0518729658163994,
          1.1450743950503413,
          0.45312446388413863,
          -2.247532593483744,
          -0.9380816730886774,
          0.5747550876841555,
          0.7445251795288704,
          -1.1397301094244776,
          -0.7330965447959531,
          0.0011163348157742902,
          -0.4384112915386252,
          -0.5103765163837336,
          0.2572701355520642,
          -0.2672705429298812,
          -0.3152386136033564,
          0.1641860318298152,
          -0.6148004002051985,
          0.07205002157098324,
          -2.3569799035568906,
          1.0536881549659127,
          0.026917841374375365,
          -1.5516053705251112,
          -0.37391562462327005,
          0.16636832151140332,
          2.1868099430258554,
          -0.41916960443056883,
          0.10496423203936313,
          0.6279926573009582,
          -0.6471640572249683,
          0.30945396871171144,
          -0.4692873864786442,
          -1.090176869362269,
          -0.4143546663277241,
          -0.9027350183105727,
          0.469359002390997,
          -1.4219684339163654,
          0.820847128917743,
          0.05483278813128337,
          1.2392518808560637,
          1.545366633263906,
          0.41934477765089295,
          0.8240554271196706,
          0.8649157101002072,
          -2.1965301978204814,
          0.3476863183989522,
          -0.12640063221688605,
          -1.1095799572682512,
          -0.7608133813357494,
          -2.2044745973693805,
          -2.0304273169011986,
          1.2711060359943978,
          0.13692317269969045,
          -0.0583827092739993,
          2.4115580112408193,
          -2.0777630091319015,
          0.9344928525053398,
          0.3953105866307476,
          -1.0128314490635355,
          1.3925168200064224,
          -0.2746806087720305,
          -0.15873804270543176,
          -1.2063378835963559,
          1.4659391526336598,
          0.7259062288360807,
          -0.018616086991251776,
          -1.0972073757865193,
          -1.0458427688984127,
          0.6742520113874113,
          -0.9688805187614103,
          -2.606590225991158,
          0.2665069685897831,
          0.08035808638610199,
          -1.019013237251515,
          -0.4491197717632893,
          0.9587565600232877,
          -1.2542926097550613
         ],
         "xaxis": "x9",
         "y": [
          -0.42328414092118744,
          1.0353472703466378,
          -0.0294408149925103,
          -1.3080779107417164,
          0.25711409791473455,
          0.44151315445685657,
          -0.3195050000927743,
          -0.0782500400354517,
          0.3676051961488906,
          -0.2978329257209743,
          -0.2766171637298272,
          -0.24694369601875368,
          -0.10309387266580315,
          0.7002446278340115,
          0.6308102905466025,
          2.0903240423469898,
          -0.2317200157760494,
          -0.5234257695437491,
          1.8548080260680004,
          0.4462577324476635,
          0.16869572021215656,
          -0.2016134910168743,
          1.136302564871149,
          0.09046804222624254,
          0.09604573434310844,
          0.7101795501867115,
          -2.2211369990891976,
          0.9989208680144112,
          -1.9128529841297661,
          -0.23169876192442396,
          1.5039552670839198,
          0.07453974564807933,
          1.6458237555562663,
          -1.1306690961320491,
          1.8809855537953806,
          1.132954840145376,
          1.896604275133463,
          0.5134515307830606,
          0.24846752386668378,
          -1.2813358260908256,
          -1.010521716642204,
          -2.3311459813542825,
          -0.6680178594950927,
          -0.816257723324524,
          -0.31215073260909865,
          0.2896328233261768,
          -0.2942037452702574,
          -1.024219271919298,
          -1.401699272632873,
          -0.5209246285045438,
          0.7320320730304343,
          0.5283941356938554,
          -1.1817292342895411,
          -1.3859581339557363,
          0.8237850642318686,
          0.9257312630709252,
          -1.599339160178483,
          -2.161194784895461,
          0.6964050088817003,
          1.5000282089604031,
          0.08725442825022327,
          0.20878016257964457,
          0.05873282026572182,
          0.6161988103482395,
          1.834148373840194,
          -1.2540834843384059,
          0.6871027942149779,
          0.026056859698059952,
          -0.4923515756312518,
          -0.5927746585197166,
          1.3610770586776446,
          0.47391091683380754,
          -1.043306889443504,
          -0.9509116911101757,
          -1.259416192419341,
          0.9921273537989724,
          0.987622646571816,
          -1.3342156202755444,
          0.619427880375424,
          -1.6728984990220959,
          -0.2707463551132399,
          -1.2529502080559582,
          -0.7971115155360949,
          1.5541975949074123,
          -1.1773786977491547,
          0.5423811266351756,
          0.24605744005141958,
          0.6004666442151226,
          0.07809251506709225,
          0.2266454844784491,
          1.6991242708513101,
          0.06415258070870512,
          -1.0142989668442808,
          -0.2768891447723133,
          0.2815421718642755,
          -0.8970518215859872,
          -1.408365328601296,
          -0.7172290558737238,
          -0.9120682724390551,
          -0.3758549478690623
         ],
         "yaxis": "y9"
        },
        {
         "line": {
          "color": "rgba(128, 128, 128, 1.0)",
          "dash": "solid",
          "shape": "linear",
          "width": 1.3
         },
         "marker": {
          "size": 2,
          "symbol": "circle"
         },
         "mode": "markers",
         "name": "C",
         "text": "",
         "type": "scatter",
         "x": [
          0.7580307738992594,
          -0.8625173585817463,
          -1.6366635579880784,
          -0.026788812721112613,
          0.23161175849466448,
          1.2199293002623273,
          -0.7827188654461145,
          -0.7798390650913686,
          -0.12947907683514331,
          1.0712209025603268,
          -1.6383769059706026,
          0.25328144466334795,
          1.742638202990484,
          -0.056327495806758165,
          0.9437057933647285,
          2.8831757257521318,
          -0.4852972323833704,
          -0.4567365046026048,
          1.751431838705155,
          -2.406015038199109,
          0.7666963809140104,
          0.5834452650619113,
          -0.8810627750669326,
          -0.036135506573511146,
          0.31705001021648394,
          -0.7061871317069055,
          -0.3159150502367156,
          0.08679183834852548,
          -0.8773079487843657,
          0.34059428566701344,
          1.0117894523788795,
          -1.4223713004706713,
          0.3673575618258237,
          0.7994209827176314,
          -1.1402490848522213,
          -0.3098259650285641,
          0.44816075628217805,
          0.49225862230469863,
          -0.3198429663090066,
          0.7535928972424636,
          0.4062231366911554,
          -1.08852071659089,
          1.1932699862276017,
          -0.046812403925451065,
          -0.6242289885758998,
          0.47350489169255794,
          1.3140622219608786,
          0.7095495168694461,
          0.9399012385745007,
          -0.5384307148443165,
          -0.40173779338780424,
          0.8825797641438177,
          0.6310546479945338,
          -1.4908672034369301,
          1.105551235508307,
          -1.0855229769921029,
          1.8267336788316682,
          -1.4570122535225705,
          1.0784279389579425,
          -0.23609493119741587,
          -1.4518345771106087,
          -0.936347192855875,
          -0.516520118557937,
          1.9069306637372558,
          1.662383470919966,
          0.9539323596162675,
          -1.4309045262582105,
          0.13734272360761482,
          0.9725589422670315,
          0.19749937583635072,
          0.74497483397035,
          0.13798664679425274,
          -0.15382944980659588,
          0.42496202557755824,
          0.9446417743242981,
          1.4187557504647668,
          0.6373039613528989,
          1.0420549704138093,
          0.7428217879179443,
          -0.5985146435300484,
          1.3981806462267188,
          -0.6561336730020627,
          -0.4070023977511638,
          -0.452667589405772,
          -0.20514059006008803,
          0.011753641259448565,
          0.18499711275591785,
          0.44806318398005307,
          -0.7264420958566794,
          0.2040679431299117,
          -1.001927548621951,
          -1.2416331719420421,
          -1.6536030828556114,
          0.04634236549350992,
          -0.4952910163578565,
          0.22935390509840975,
          -0.9281710976792457,
          0.5036946030081555,
          -0.43453838988986104,
          -0.9682049615136412
         ],
         "xaxis": "x10",
         "y": [
          -0.42328414092118744,
          1.0353472703466378,
          -0.0294408149925103,
          -1.3080779107417164,
          0.25711409791473455,
          0.44151315445685657,
          -0.3195050000927743,
          -0.0782500400354517,
          0.3676051961488906,
          -0.2978329257209743,
          -0.2766171637298272,
          -0.24694369601875368,
          -0.10309387266580315,
          0.7002446278340115,
          0.6308102905466025,
          2.0903240423469898,
          -0.2317200157760494,
          -0.5234257695437491,
          1.8548080260680004,
          0.4462577324476635,
          0.16869572021215656,
          -0.2016134910168743,
          1.136302564871149,
          0.09046804222624254,
          0.09604573434310844,
          0.7101795501867115,
          -2.2211369990891976,
          0.9989208680144112,
          -1.9128529841297661,
          -0.23169876192442396,
          1.5039552670839198,
          0.07453974564807933,
          1.6458237555562663,
          -1.1306690961320491,
          1.8809855537953806,
          1.132954840145376,
          1.896604275133463,
          0.5134515307830606,
          0.24846752386668378,
          -1.2813358260908256,
          -1.010521716642204,
          -2.3311459813542825,
          -0.6680178594950927,
          -0.816257723324524,
          -0.31215073260909865,
          0.2896328233261768,
          -0.2942037452702574,
          -1.024219271919298,
          -1.401699272632873,
          -0.5209246285045438,
          0.7320320730304343,
          0.5283941356938554,
          -1.1817292342895411,
          -1.3859581339557363,
          0.8237850642318686,
          0.9257312630709252,
          -1.599339160178483,
          -2.161194784895461,
          0.6964050088817003,
          1.5000282089604031,
          0.08725442825022327,
          0.20878016257964457,
          0.05873282026572182,
          0.6161988103482395,
          1.834148373840194,
          -1.2540834843384059,
          0.6871027942149779,
          0.026056859698059952,
          -0.4923515756312518,
          -0.5927746585197166,
          1.3610770586776446,
          0.47391091683380754,
          -1.043306889443504,
          -0.9509116911101757,
          -1.259416192419341,
          0.9921273537989724,
          0.987622646571816,
          -1.3342156202755444,
          0.619427880375424,
          -1.6728984990220959,
          -0.2707463551132399,
          -1.2529502080559582,
          -0.7971115155360949,
          1.5541975949074123,
          -1.1773786977491547,
          0.5423811266351756,
          0.24605744005141958,
          0.6004666442151226,
          0.07809251506709225,
          0.2266454844784491,
          1.6991242708513101,
          0.06415258070870512,
          -1.0142989668442808,
          -0.2768891447723133,
          0.2815421718642755,
          -0.8970518215859872,
          -1.408365328601296,
          -0.7172290558737238,
          -0.9120682724390551,
          -0.3758549478690623
         ],
         "yaxis": "y10"
        },
        {
         "histfunc": "count",
         "histnorm": "",
         "marker": {
          "color": "rgba(50, 171, 96, 1.0)",
          "line": {
           "color": "#4D5663",
           "width": 1.3
          }
         },
         "name": "C",
         "nbinsx": 10,
         "opacity": 0.8,
         "orientation": "v",
         "type": "histogram",
         "x": [
          -0.42328414092118744,
          1.0353472703466378,
          -0.0294408149925103,
          -1.3080779107417164,
          0.25711409791473455,
          0.44151315445685657,
          -0.3195050000927743,
          -0.0782500400354517,
          0.3676051961488906,
          -0.2978329257209743,
          -0.2766171637298272,
          -0.24694369601875368,
          -0.10309387266580315,
          0.7002446278340115,
          0.6308102905466025,
          2.0903240423469898,
          -0.2317200157760494,
          -0.5234257695437491,
          1.8548080260680004,
          0.4462577324476635,
          0.16869572021215656,
          -0.2016134910168743,
          1.136302564871149,
          0.09046804222624254,
          0.09604573434310844,
          0.7101795501867115,
          -2.2211369990891976,
          0.9989208680144112,
          -1.9128529841297661,
          -0.23169876192442396,
          1.5039552670839198,
          0.07453974564807933,
          1.6458237555562663,
          -1.1306690961320491,
          1.8809855537953806,
          1.132954840145376,
          1.896604275133463,
          0.5134515307830606,
          0.24846752386668378,
          -1.2813358260908256,
          -1.010521716642204,
          -2.3311459813542825,
          -0.6680178594950927,
          -0.816257723324524,
          -0.31215073260909865,
          0.2896328233261768,
          -0.2942037452702574,
          -1.024219271919298,
          -1.401699272632873,
          -0.5209246285045438,
          0.7320320730304343,
          0.5283941356938554,
          -1.1817292342895411,
          -1.3859581339557363,
          0.8237850642318686,
          0.9257312630709252,
          -1.599339160178483,
          -2.161194784895461,
          0.6964050088817003,
          1.5000282089604031,
          0.08725442825022327,
          0.20878016257964457,
          0.05873282026572182,
          0.6161988103482395,
          1.834148373840194,
          -1.2540834843384059,
          0.6871027942149779,
          0.026056859698059952,
          -0.4923515756312518,
          -0.5927746585197166,
          1.3610770586776446,
          0.47391091683380754,
          -1.043306889443504,
          -0.9509116911101757,
          -1.259416192419341,
          0.9921273537989724,
          0.987622646571816,
          -1.3342156202755444,
          0.619427880375424,
          -1.6728984990220959,
          -0.2707463551132399,
          -1.2529502080559582,
          -0.7971115155360949,
          1.5541975949074123,
          -1.1773786977491547,
          0.5423811266351756,
          0.24605744005141958,
          0.6004666442151226,
          0.07809251506709225,
          0.2266454844784491,
          1.6991242708513101,
          0.06415258070870512,
          -1.0142989668442808,
          -0.2768891447723133,
          0.2815421718642755,
          -0.8970518215859872,
          -1.408365328601296,
          -0.7172290558737238,
          -0.9120682724390551,
          -0.3758549478690623
         ],
         "xaxis": "x11",
         "yaxis": "y11"
        },
        {
         "line": {
          "color": "rgba(128, 128, 128, 1.0)",
          "dash": "solid",
          "shape": "linear",
          "width": 1.3
         },
         "marker": {
          "size": 2,
          "symbol": "circle"
         },
         "mode": "markers",
         "name": "C",
         "text": "",
         "type": "scatter",
         "x": [
          -0.10716739297592093,
          0.9479447284269172,
          1.370449958759234,
          -0.3486615965666615,
          1.7595465505714352,
          1.2108974389734368,
          -0.2558252394530886,
          -0.3260742183018137,
          -1.0322519522885203,
          0.16297492715093576,
          -1.4054321746177054,
          -0.00698178770017601,
          2.061329468159568,
          0.9141131146417977,
          0.8540937334668862,
          -0.2863489155732238,
          -0.5347005786338509,
          0.890134217321711,
          -0.950323074305132,
          -0.13587532077936681,
          -0.12484544447554184,
          -0.9370911689176806,
          1.3146357722090332,
          -0.979263981063374,
          1.6873436206550463,
          0.025813178944782612,
          0.504914906087867,
          -0.6052362964597082,
          -1.066220133411954,
          1.1234871186905926,
          0.846274540328193,
          -1.0831796372168665,
          1.06996558045424,
          -0.5118601253884535,
          0.10609320920173515,
          0.535557285109827,
          -0.3984491458827878,
          0.05999073369188505,
          -0.0074878011174125784,
          0.4670072811114906,
          0.3457846756450776,
          -0.06540687218194201,
          0.3344504087283477,
          -0.36236153907488633,
          0.12095079414114726,
          -0.2864767074860481,
          -0.9504952195194385,
          -0.08660523507889167,
          -0.10925485119560914,
          -0.8138806328071769,
          -1.1545992931889217,
          0.9980930558710237,
          0.9183716149515965,
          0.6686252676065014,
          0.11654882546394174,
          0.7979385777603432,
          0.08313121585625391,
          -0.06228743418704124,
          1.6011316341757469,
          -0.3155469149620852,
          0.33716677390464384,
          0.7654842236614688,
          0.609143054712147,
          0.2542674371087768,
          0.38922056390307846,
          -1.3521129363192337,
          -0.4146807398899897,
          -0.6601327716673171,
          0.05342590961294951,
          0.03553851069847322,
          -0.05992784857539338,
          -1.046987014575927,
          0.619076819809439,
          -0.043419863957865255,
          -0.8376319917789405,
          -0.7475893747085525,
          -1.1474612757784273,
          -0.4437291270075998,
          0.7188952225519313,
          1.2749955498757781,
          0.6180104532009417,
          1.1040970559403493,
          -0.6904557848469052,
          0.9700683280446663,
          -2.615923999858738,
          0.20587985862580907,
          -1.2747922174592787,
          0.04425500071520386,
          -0.6111696155178268,
          -1.8934406758301399,
          0.3125770370371499,
          1.993201331082072,
          0.47292052826578557,
          1.758906521973015,
          1.2655394276257803,
          0.9414468603637745,
          0.7297611658319217,
          -0.29012638219263476,
          -0.581399645596098,
          0.7532369215612564
         ],
         "xaxis": "x12",
         "y": [
          -0.42328414092118744,
          1.0353472703466378,
          -0.0294408149925103,
          -1.3080779107417164,
          0.25711409791473455,
          0.44151315445685657,
          -0.3195050000927743,
          -0.0782500400354517,
          0.3676051961488906,
          -0.2978329257209743,
          -0.2766171637298272,
          -0.24694369601875368,
          -0.10309387266580315,
          0.7002446278340115,
          0.6308102905466025,
          2.0903240423469898,
          -0.2317200157760494,
          -0.5234257695437491,
          1.8548080260680004,
          0.4462577324476635,
          0.16869572021215656,
          -0.2016134910168743,
          1.136302564871149,
          0.09046804222624254,
          0.09604573434310844,
          0.7101795501867115,
          -2.2211369990891976,
          0.9989208680144112,
          -1.9128529841297661,
          -0.23169876192442396,
          1.5039552670839198,
          0.07453974564807933,
          1.6458237555562663,
          -1.1306690961320491,
          1.8809855537953806,
          1.132954840145376,
          1.896604275133463,
          0.5134515307830606,
          0.24846752386668378,
          -1.2813358260908256,
          -1.010521716642204,
          -2.3311459813542825,
          -0.6680178594950927,
          -0.816257723324524,
          -0.31215073260909865,
          0.2896328233261768,
          -0.2942037452702574,
          -1.024219271919298,
          -1.401699272632873,
          -0.5209246285045438,
          0.7320320730304343,
          0.5283941356938554,
          -1.1817292342895411,
          -1.3859581339557363,
          0.8237850642318686,
          0.9257312630709252,
          -1.599339160178483,
          -2.161194784895461,
          0.6964050088817003,
          1.5000282089604031,
          0.08725442825022327,
          0.20878016257964457,
          0.05873282026572182,
          0.6161988103482395,
          1.834148373840194,
          -1.2540834843384059,
          0.6871027942149779,
          0.026056859698059952,
          -0.4923515756312518,
          -0.5927746585197166,
          1.3610770586776446,
          0.47391091683380754,
          -1.043306889443504,
          -0.9509116911101757,
          -1.259416192419341,
          0.9921273537989724,
          0.987622646571816,
          -1.3342156202755444,
          0.619427880375424,
          -1.6728984990220959,
          -0.2707463551132399,
          -1.2529502080559582,
          -0.7971115155360949,
          1.5541975949074123,
          -1.1773786977491547,
          0.5423811266351756,
          0.24605744005141958,
          0.6004666442151226,
          0.07809251506709225,
          0.2266454844784491,
          1.6991242708513101,
          0.06415258070870512,
          -1.0142989668442808,
          -0.2768891447723133,
          0.2815421718642755,
          -0.8970518215859872,
          -1.408365328601296,
          -0.7172290558737238,
          -0.9120682724390551,
          -0.3758549478690623
         ],
         "yaxis": "y12"
        },
        {
         "line": {
          "color": "rgba(128, 128, 128, 1.0)",
          "dash": "solid",
          "shape": "linear",
          "width": 1.3
         },
         "marker": {
          "size": 2,
          "symbol": "circle"
         },
         "mode": "markers",
         "name": "D",
         "text": "",
         "type": "scatter",
         "x": [
          -0.6564744824764208,
          -0.44246018622678035,
          -1.4210529165487331,
          2.138912840106512,
          0.25578258692089706,
          0.39805143783044833,
          -0.12701603877964637,
          -0.7336425614675899,
          0.17166378867506915,
          0.2710840189785207,
          0.8534092997086261,
          -0.28423806801324436,
          0.680442831707899,
          1.0056126864042327,
          0.22345415383044398,
          1.3471504835508696,
          0.4868772969639054,
          -0.8560743163392702,
          0.2437582614308069,
          0.13615747280918256,
          1.7766279162229373,
          -0.047392212385020574,
          -1.478739271543873,
          0.6674437983342687,
          -1.0518729658163994,
          1.1450743950503413,
          0.45312446388413863,
          -2.247532593483744,
          -0.9380816730886774,
          0.5747550876841555,
          0.7445251795288704,
          -1.1397301094244776,
          -0.7330965447959531,
          0.0011163348157742902,
          -0.4384112915386252,
          -0.5103765163837336,
          0.2572701355520642,
          -0.2672705429298812,
          -0.3152386136033564,
          0.1641860318298152,
          -0.6148004002051985,
          0.07205002157098324,
          -2.3569799035568906,
          1.0536881549659127,
          0.026917841374375365,
          -1.5516053705251112,
          -0.37391562462327005,
          0.16636832151140332,
          2.1868099430258554,
          -0.41916960443056883,
          0.10496423203936313,
          0.6279926573009582,
          -0.6471640572249683,
          0.30945396871171144,
          -0.4692873864786442,
          -1.090176869362269,
          -0.4143546663277241,
          -0.9027350183105727,
          0.469359002390997,
          -1.4219684339163654,
          0.820847128917743,
          0.05483278813128337,
          1.2392518808560637,
          1.545366633263906,
          0.41934477765089295,
          0.8240554271196706,
          0.8649157101002072,
          -2.1965301978204814,
          0.3476863183989522,
          -0.12640063221688605,
          -1.1095799572682512,
          -0.7608133813357494,
          -2.2044745973693805,
          -2.0304273169011986,
          1.2711060359943978,
          0.13692317269969045,
          -0.0583827092739993,
          2.4115580112408193,
          -2.0777630091319015,
          0.9344928525053398,
          0.3953105866307476,
          -1.0128314490635355,
          1.3925168200064224,
          -0.2746806087720305,
          -0.15873804270543176,
          -1.2063378835963559,
          1.4659391526336598,
          0.7259062288360807,
          -0.018616086991251776,
          -1.0972073757865193,
          -1.0458427688984127,
          0.6742520113874113,
          -0.9688805187614103,
          -2.606590225991158,
          0.2665069685897831,
          0.08035808638610199,
          -1.019013237251515,
          -0.4491197717632893,
          0.9587565600232877,
          -1.2542926097550613
         ],
         "xaxis": "x13",
         "y": [
          -0.10716739297592093,
          0.9479447284269172,
          1.370449958759234,
          -0.3486615965666615,
          1.7595465505714352,
          1.2108974389734368,
          -0.2558252394530886,
          -0.3260742183018137,
          -1.0322519522885203,
          0.16297492715093576,
          -1.4054321746177054,
          -0.00698178770017601,
          2.061329468159568,
          0.9141131146417977,
          0.8540937334668862,
          -0.2863489155732238,
          -0.5347005786338509,
          0.890134217321711,
          -0.950323074305132,
          -0.13587532077936681,
          -0.12484544447554184,
          -0.9370911689176806,
          1.3146357722090332,
          -0.979263981063374,
          1.6873436206550463,
          0.025813178944782612,
          0.504914906087867,
          -0.6052362964597082,
          -1.066220133411954,
          1.1234871186905926,
          0.846274540328193,
          -1.0831796372168665,
          1.06996558045424,
          -0.5118601253884535,
          0.10609320920173515,
          0.535557285109827,
          -0.3984491458827878,
          0.05999073369188505,
          -0.0074878011174125784,
          0.4670072811114906,
          0.3457846756450776,
          -0.06540687218194201,
          0.3344504087283477,
          -0.36236153907488633,
          0.12095079414114726,
          -0.2864767074860481,
          -0.9504952195194385,
          -0.08660523507889167,
          -0.10925485119560914,
          -0.8138806328071769,
          -1.1545992931889217,
          0.9980930558710237,
          0.9183716149515965,
          0.6686252676065014,
          0.11654882546394174,
          0.7979385777603432,
          0.08313121585625391,
          -0.06228743418704124,
          1.6011316341757469,
          -0.3155469149620852,
          0.33716677390464384,
          0.7654842236614688,
          0.609143054712147,
          0.2542674371087768,
          0.38922056390307846,
          -1.3521129363192337,
          -0.4146807398899897,
          -0.6601327716673171,
          0.05342590961294951,
          0.03553851069847322,
          -0.05992784857539338,
          -1.046987014575927,
          0.619076819809439,
          -0.043419863957865255,
          -0.8376319917789405,
          -0.7475893747085525,
          -1.1474612757784273,
          -0.4437291270075998,
          0.7188952225519313,
          1.2749955498757781,
          0.6180104532009417,
          1.1040970559403493,
          -0.6904557848469052,
          0.9700683280446663,
          -2.615923999858738,
          0.20587985862580907,
          -1.2747922174592787,
          0.04425500071520386,
          -0.6111696155178268,
          -1.8934406758301399,
          0.3125770370371499,
          1.993201331082072,
          0.47292052826578557,
          1.758906521973015,
          1.2655394276257803,
          0.9414468603637745,
          0.7297611658319217,
          -0.29012638219263476,
          -0.581399645596098,
          0.7532369215612564
         ],
         "yaxis": "y13"
        },
        {
         "line": {
          "color": "rgba(128, 128, 128, 1.0)",
          "dash": "solid",
          "shape": "linear",
          "width": 1.3
         },
         "marker": {
          "size": 2,
          "symbol": "circle"
         },
         "mode": "markers",
         "name": "D",
         "text": "",
         "type": "scatter",
         "x": [
          0.7580307738992594,
          -0.8625173585817463,
          -1.6366635579880784,
          -0.026788812721112613,
          0.23161175849466448,
          1.2199293002623273,
          -0.7827188654461145,
          -0.7798390650913686,
          -0.12947907683514331,
          1.0712209025603268,
          -1.6383769059706026,
          0.25328144466334795,
          1.742638202990484,
          -0.056327495806758165,
          0.9437057933647285,
          2.8831757257521318,
          -0.4852972323833704,
          -0.4567365046026048,
          1.751431838705155,
          -2.406015038199109,
          0.7666963809140104,
          0.5834452650619113,
          -0.8810627750669326,
          -0.036135506573511146,
          0.31705001021648394,
          -0.7061871317069055,
          -0.3159150502367156,
          0.08679183834852548,
          -0.8773079487843657,
          0.34059428566701344,
          1.0117894523788795,
          -1.4223713004706713,
          0.3673575618258237,
          0.7994209827176314,
          -1.1402490848522213,
          -0.3098259650285641,
          0.44816075628217805,
          0.49225862230469863,
          -0.3198429663090066,
          0.7535928972424636,
          0.4062231366911554,
          -1.08852071659089,
          1.1932699862276017,
          -0.046812403925451065,
          -0.6242289885758998,
          0.47350489169255794,
          1.3140622219608786,
          0.7095495168694461,
          0.9399012385745007,
          -0.5384307148443165,
          -0.40173779338780424,
          0.8825797641438177,
          0.6310546479945338,
          -1.4908672034369301,
          1.105551235508307,
          -1.0855229769921029,
          1.8267336788316682,
          -1.4570122535225705,
          1.0784279389579425,
          -0.23609493119741587,
          -1.4518345771106087,
          -0.936347192855875,
          -0.516520118557937,
          1.9069306637372558,
          1.662383470919966,
          0.9539323596162675,
          -1.4309045262582105,
          0.13734272360761482,
          0.9725589422670315,
          0.19749937583635072,
          0.74497483397035,
          0.13798664679425274,
          -0.15382944980659588,
          0.42496202557755824,
          0.9446417743242981,
          1.4187557504647668,
          0.6373039613528989,
          1.0420549704138093,
          0.7428217879179443,
          -0.5985146435300484,
          1.3981806462267188,
          -0.6561336730020627,
          -0.4070023977511638,
          -0.452667589405772,
          -0.20514059006008803,
          0.011753641259448565,
          0.18499711275591785,
          0.44806318398005307,
          -0.7264420958566794,
          0.2040679431299117,
          -1.001927548621951,
          -1.2416331719420421,
          -1.6536030828556114,
          0.04634236549350992,
          -0.4952910163578565,
          0.22935390509840975,
          -0.9281710976792457,
          0.5036946030081555,
          -0.43453838988986104,
          -0.9682049615136412
         ],
         "xaxis": "x14",
         "y": [
          -0.10716739297592093,
          0.9479447284269172,
          1.370449958759234,
          -0.3486615965666615,
          1.7595465505714352,
          1.2108974389734368,
          -0.2558252394530886,
          -0.3260742183018137,
          -1.0322519522885203,
          0.16297492715093576,
          -1.4054321746177054,
          -0.00698178770017601,
          2.061329468159568,
          0.9141131146417977,
          0.8540937334668862,
          -0.2863489155732238,
          -0.5347005786338509,
          0.890134217321711,
          -0.950323074305132,
          -0.13587532077936681,
          -0.12484544447554184,
          -0.9370911689176806,
          1.3146357722090332,
          -0.979263981063374,
          1.6873436206550463,
          0.025813178944782612,
          0.504914906087867,
          -0.6052362964597082,
          -1.066220133411954,
          1.1234871186905926,
          0.846274540328193,
          -1.0831796372168665,
          1.06996558045424,
          -0.5118601253884535,
          0.10609320920173515,
          0.535557285109827,
          -0.3984491458827878,
          0.05999073369188505,
          -0.0074878011174125784,
          0.4670072811114906,
          0.3457846756450776,
          -0.06540687218194201,
          0.3344504087283477,
          -0.36236153907488633,
          0.12095079414114726,
          -0.2864767074860481,
          -0.9504952195194385,
          -0.08660523507889167,
          -0.10925485119560914,
          -0.8138806328071769,
          -1.1545992931889217,
          0.9980930558710237,
          0.9183716149515965,
          0.6686252676065014,
          0.11654882546394174,
          0.7979385777603432,
          0.08313121585625391,
          -0.06228743418704124,
          1.6011316341757469,
          -0.3155469149620852,
          0.33716677390464384,
          0.7654842236614688,
          0.609143054712147,
          0.2542674371087768,
          0.38922056390307846,
          -1.3521129363192337,
          -0.4146807398899897,
          -0.6601327716673171,
          0.05342590961294951,
          0.03553851069847322,
          -0.05992784857539338,
          -1.046987014575927,
          0.619076819809439,
          -0.043419863957865255,
          -0.8376319917789405,
          -0.7475893747085525,
          -1.1474612757784273,
          -0.4437291270075998,
          0.7188952225519313,
          1.2749955498757781,
          0.6180104532009417,
          1.1040970559403493,
          -0.6904557848469052,
          0.9700683280446663,
          -2.615923999858738,
          0.20587985862580907,
          -1.2747922174592787,
          0.04425500071520386,
          -0.6111696155178268,
          -1.8934406758301399,
          0.3125770370371499,
          1.993201331082072,
          0.47292052826578557,
          1.758906521973015,
          1.2655394276257803,
          0.9414468603637745,
          0.7297611658319217,
          -0.29012638219263476,
          -0.581399645596098,
          0.7532369215612564
         ],
         "yaxis": "y14"
        },
        {
         "line": {
          "color": "rgba(128, 128, 128, 1.0)",
          "dash": "solid",
          "shape": "linear",
          "width": 1.3
         },
         "marker": {
          "size": 2,
          "symbol": "circle"
         },
         "mode": "markers",
         "name": "D",
         "text": "",
         "type": "scatter",
         "x": [
          -0.42328414092118744,
          1.0353472703466378,
          -0.0294408149925103,
          -1.3080779107417164,
          0.25711409791473455,
          0.44151315445685657,
          -0.3195050000927743,
          -0.0782500400354517,
          0.3676051961488906,
          -0.2978329257209743,
          -0.2766171637298272,
          -0.24694369601875368,
          -0.10309387266580315,
          0.7002446278340115,
          0.6308102905466025,
          2.0903240423469898,
          -0.2317200157760494,
          -0.5234257695437491,
          1.8548080260680004,
          0.4462577324476635,
          0.16869572021215656,
          -0.2016134910168743,
          1.136302564871149,
          0.09046804222624254,
          0.09604573434310844,
          0.7101795501867115,
          -2.2211369990891976,
          0.9989208680144112,
          -1.9128529841297661,
          -0.23169876192442396,
          1.5039552670839198,
          0.07453974564807933,
          1.6458237555562663,
          -1.1306690961320491,
          1.8809855537953806,
          1.132954840145376,
          1.896604275133463,
          0.5134515307830606,
          0.24846752386668378,
          -1.2813358260908256,
          -1.010521716642204,
          -2.3311459813542825,
          -0.6680178594950927,
          -0.816257723324524,
          -0.31215073260909865,
          0.2896328233261768,
          -0.2942037452702574,
          -1.024219271919298,
          -1.401699272632873,
          -0.5209246285045438,
          0.7320320730304343,
          0.5283941356938554,
          -1.1817292342895411,
          -1.3859581339557363,
          0.8237850642318686,
          0.9257312630709252,
          -1.599339160178483,
          -2.161194784895461,
          0.6964050088817003,
          1.5000282089604031,
          0.08725442825022327,
          0.20878016257964457,
          0.05873282026572182,
          0.6161988103482395,
          1.834148373840194,
          -1.2540834843384059,
          0.6871027942149779,
          0.026056859698059952,
          -0.4923515756312518,
          -0.5927746585197166,
          1.3610770586776446,
          0.47391091683380754,
          -1.043306889443504,
          -0.9509116911101757,
          -1.259416192419341,
          0.9921273537989724,
          0.987622646571816,
          -1.3342156202755444,
          0.619427880375424,
          -1.6728984990220959,
          -0.2707463551132399,
          -1.2529502080559582,
          -0.7971115155360949,
          1.5541975949074123,
          -1.1773786977491547,
          0.5423811266351756,
          0.24605744005141958,
          0.6004666442151226,
          0.07809251506709225,
          0.2266454844784491,
          1.6991242708513101,
          0.06415258070870512,
          -1.0142989668442808,
          -0.2768891447723133,
          0.2815421718642755,
          -0.8970518215859872,
          -1.408365328601296,
          -0.7172290558737238,
          -0.9120682724390551,
          -0.3758549478690623
         ],
         "xaxis": "x15",
         "y": [
          -0.10716739297592093,
          0.9479447284269172,
          1.370449958759234,
          -0.3486615965666615,
          1.7595465505714352,
          1.2108974389734368,
          -0.2558252394530886,
          -0.3260742183018137,
          -1.0322519522885203,
          0.16297492715093576,
          -1.4054321746177054,
          -0.00698178770017601,
          2.061329468159568,
          0.9141131146417977,
          0.8540937334668862,
          -0.2863489155732238,
          -0.5347005786338509,
          0.890134217321711,
          -0.950323074305132,
          -0.13587532077936681,
          -0.12484544447554184,
          -0.9370911689176806,
          1.3146357722090332,
          -0.979263981063374,
          1.6873436206550463,
          0.025813178944782612,
          0.504914906087867,
          -0.6052362964597082,
          -1.066220133411954,
          1.1234871186905926,
          0.846274540328193,
          -1.0831796372168665,
          1.06996558045424,
          -0.5118601253884535,
          0.10609320920173515,
          0.535557285109827,
          -0.3984491458827878,
          0.05999073369188505,
          -0.0074878011174125784,
          0.4670072811114906,
          0.3457846756450776,
          -0.06540687218194201,
          0.3344504087283477,
          -0.36236153907488633,
          0.12095079414114726,
          -0.2864767074860481,
          -0.9504952195194385,
          -0.08660523507889167,
          -0.10925485119560914,
          -0.8138806328071769,
          -1.1545992931889217,
          0.9980930558710237,
          0.9183716149515965,
          0.6686252676065014,
          0.11654882546394174,
          0.7979385777603432,
          0.08313121585625391,
          -0.06228743418704124,
          1.6011316341757469,
          -0.3155469149620852,
          0.33716677390464384,
          0.7654842236614688,
          0.609143054712147,
          0.2542674371087768,
          0.38922056390307846,
          -1.3521129363192337,
          -0.4146807398899897,
          -0.6601327716673171,
          0.05342590961294951,
          0.03553851069847322,
          -0.05992784857539338,
          -1.046987014575927,
          0.619076819809439,
          -0.043419863957865255,
          -0.8376319917789405,
          -0.7475893747085525,
          -1.1474612757784273,
          -0.4437291270075998,
          0.7188952225519313,
          1.2749955498757781,
          0.6180104532009417,
          1.1040970559403493,
          -0.6904557848469052,
          0.9700683280446663,
          -2.615923999858738,
          0.20587985862580907,
          -1.2747922174592787,
          0.04425500071520386,
          -0.6111696155178268,
          -1.8934406758301399,
          0.3125770370371499,
          1.993201331082072,
          0.47292052826578557,
          1.758906521973015,
          1.2655394276257803,
          0.9414468603637745,
          0.7297611658319217,
          -0.29012638219263476,
          -0.581399645596098,
          0.7532369215612564
         ],
         "yaxis": "y15"
        },
        {
         "histfunc": "count",
         "histnorm": "",
         "marker": {
          "color": "rgba(128, 0, 128, 1.0)",
          "line": {
           "color": "#4D5663",
           "width": 1.3
          }
         },
         "name": "D",
         "nbinsx": 10,
         "opacity": 0.8,
         "orientation": "v",
         "type": "histogram",
         "x": [
          -0.10716739297592093,
          0.9479447284269172,
          1.370449958759234,
          -0.3486615965666615,
          1.7595465505714352,
          1.2108974389734368,
          -0.2558252394530886,
          -0.3260742183018137,
          -1.0322519522885203,
          0.16297492715093576,
          -1.4054321746177054,
          -0.00698178770017601,
          2.061329468159568,
          0.9141131146417977,
          0.8540937334668862,
          -0.2863489155732238,
          -0.5347005786338509,
          0.890134217321711,
          -0.950323074305132,
          -0.13587532077936681,
          -0.12484544447554184,
          -0.9370911689176806,
          1.3146357722090332,
          -0.979263981063374,
          1.6873436206550463,
          0.025813178944782612,
          0.504914906087867,
          -0.6052362964597082,
          -1.066220133411954,
          1.1234871186905926,
          0.846274540328193,
          -1.0831796372168665,
          1.06996558045424,
          -0.5118601253884535,
          0.10609320920173515,
          0.535557285109827,
          -0.3984491458827878,
          0.05999073369188505,
          -0.0074878011174125784,
          0.4670072811114906,
          0.3457846756450776,
          -0.06540687218194201,
          0.3344504087283477,
          -0.36236153907488633,
          0.12095079414114726,
          -0.2864767074860481,
          -0.9504952195194385,
          -0.08660523507889167,
          -0.10925485119560914,
          -0.8138806328071769,
          -1.1545992931889217,
          0.9980930558710237,
          0.9183716149515965,
          0.6686252676065014,
          0.11654882546394174,
          0.7979385777603432,
          0.08313121585625391,
          -0.06228743418704124,
          1.6011316341757469,
          -0.3155469149620852,
          0.33716677390464384,
          0.7654842236614688,
          0.609143054712147,
          0.2542674371087768,
          0.38922056390307846,
          -1.3521129363192337,
          -0.4146807398899897,
          -0.6601327716673171,
          0.05342590961294951,
          0.03553851069847322,
          -0.05992784857539338,
          -1.046987014575927,
          0.619076819809439,
          -0.043419863957865255,
          -0.8376319917789405,
          -0.7475893747085525,
          -1.1474612757784273,
          -0.4437291270075998,
          0.7188952225519313,
          1.2749955498757781,
          0.6180104532009417,
          1.1040970559403493,
          -0.6904557848469052,
          0.9700683280446663,
          -2.615923999858738,
          0.20587985862580907,
          -1.2747922174592787,
          0.04425500071520386,
          -0.6111696155178268,
          -1.8934406758301399,
          0.3125770370371499,
          1.993201331082072,
          0.47292052826578557,
          1.758906521973015,
          1.2655394276257803,
          0.9414468603637745,
          0.7297611658319217,
          -0.29012638219263476,
          -0.581399645596098,
          0.7532369215612564
         ],
         "xaxis": "x16",
         "yaxis": "y16"
        }
       ],
       "layout": {
        "bargap": 0.02,
        "legend": {
         "bgcolor": "#F5F6F9",
         "font": {
          "color": "#4D5663"
         }
        },
        "paper_bgcolor": "#F5F6F9",
        "plot_bgcolor": "#F5F6F9",
        "showlegend": false,
        "template": {
         "data": {
          "bar": [
           {
            "error_x": {
             "color": "#2a3f5f"
            },
            "error_y": {
             "color": "#2a3f5f"
            },
            "marker": {
             "line": {
              "color": "#E5ECF6",
              "width": 0.5
             },
             "pattern": {
              "fillmode": "overlay",
              "size": 10,
              "solidity": 0.2
             }
            },
            "type": "bar"
           }
          ],
          "barpolar": [
           {
            "marker": {
             "line": {
              "color": "#E5ECF6",
              "width": 0.5
             },
             "pattern": {
              "fillmode": "overlay",
              "size": 10,
              "solidity": 0.2
             }
            },
            "type": "barpolar"
           }
          ],
          "carpet": [
           {
            "aaxis": {
             "endlinecolor": "#2a3f5f",
             "gridcolor": "white",
             "linecolor": "white",
             "minorgridcolor": "white",
             "startlinecolor": "#2a3f5f"
            },
            "baxis": {
             "endlinecolor": "#2a3f5f",
             "gridcolor": "white",
             "linecolor": "white",
             "minorgridcolor": "white",
             "startlinecolor": "#2a3f5f"
            },
            "type": "carpet"
           }
          ],
          "choropleth": [
           {
            "colorbar": {
             "outlinewidth": 0,
             "ticks": ""
            },
            "type": "choropleth"
           }
          ],
          "contour": [
           {
            "colorbar": {
             "outlinewidth": 0,
             "ticks": ""
            },
            "colorscale": [
             [
              0,
              "#0d0887"
             ],
             [
              0.1111111111111111,
              "#46039f"
             ],
             [
              0.2222222222222222,
              "#7201a8"
             ],
             [
              0.3333333333333333,
              "#9c179e"
             ],
             [
              0.4444444444444444,
              "#bd3786"
             ],
             [
              0.5555555555555556,
              "#d8576b"
             ],
             [
              0.6666666666666666,
              "#ed7953"
             ],
             [
              0.7777777777777778,
              "#fb9f3a"
             ],
             [
              0.8888888888888888,
              "#fdca26"
             ],
             [
              1,
              "#f0f921"
             ]
            ],
            "type": "contour"
           }
          ],
          "contourcarpet": [
           {
            "colorbar": {
             "outlinewidth": 0,
             "ticks": ""
            },
            "type": "contourcarpet"
           }
          ],
          "heatmap": [
           {
            "colorbar": {
             "outlinewidth": 0,
             "ticks": ""
            },
            "colorscale": [
             [
              0,
              "#0d0887"
             ],
             [
              0.1111111111111111,
              "#46039f"
             ],
             [
              0.2222222222222222,
              "#7201a8"
             ],
             [
              0.3333333333333333,
              "#9c179e"
             ],
             [
              0.4444444444444444,
              "#bd3786"
             ],
             [
              0.5555555555555556,
              "#d8576b"
             ],
             [
              0.6666666666666666,
              "#ed7953"
             ],
             [
              0.7777777777777778,
              "#fb9f3a"
             ],
             [
              0.8888888888888888,
              "#fdca26"
             ],
             [
              1,
              "#f0f921"
             ]
            ],
            "type": "heatmap"
           }
          ],
          "heatmapgl": [
           {
            "colorbar": {
             "outlinewidth": 0,
             "ticks": ""
            },
            "colorscale": [
             [
              0,
              "#0d0887"
             ],
             [
              0.1111111111111111,
              "#46039f"
             ],
             [
              0.2222222222222222,
              "#7201a8"
             ],
             [
              0.3333333333333333,
              "#9c179e"
             ],
             [
              0.4444444444444444,
              "#bd3786"
             ],
             [
              0.5555555555555556,
              "#d8576b"
             ],
             [
              0.6666666666666666,
              "#ed7953"
             ],
             [
              0.7777777777777778,
              "#fb9f3a"
             ],
             [
              0.8888888888888888,
              "#fdca26"
             ],
             [
              1,
              "#f0f921"
             ]
            ],
            "type": "heatmapgl"
           }
          ],
          "histogram": [
           {
            "marker": {
             "pattern": {
              "fillmode": "overlay",
              "size": 10,
              "solidity": 0.2
             }
            },
            "type": "histogram"
           }
          ],
          "histogram2d": [
           {
            "colorbar": {
             "outlinewidth": 0,
             "ticks": ""
            },
            "colorscale": [
             [
              0,
              "#0d0887"
             ],
             [
              0.1111111111111111,
              "#46039f"
             ],
             [
              0.2222222222222222,
              "#7201a8"
             ],
             [
              0.3333333333333333,
              "#9c179e"
             ],
             [
              0.4444444444444444,
              "#bd3786"
             ],
             [
              0.5555555555555556,
              "#d8576b"
             ],
             [
              0.6666666666666666,
              "#ed7953"
             ],
             [
              0.7777777777777778,
              "#fb9f3a"
             ],
             [
              0.8888888888888888,
              "#fdca26"
             ],
             [
              1,
              "#f0f921"
             ]
            ],
            "type": "histogram2d"
           }
          ],
          "histogram2dcontour": [
           {
            "colorbar": {
             "outlinewidth": 0,
             "ticks": ""
            },
            "colorscale": [
             [
              0,
              "#0d0887"
             ],
             [
              0.1111111111111111,
              "#46039f"
             ],
             [
              0.2222222222222222,
              "#7201a8"
             ],
             [
              0.3333333333333333,
              "#9c179e"
             ],
             [
              0.4444444444444444,
              "#bd3786"
             ],
             [
              0.5555555555555556,
              "#d8576b"
             ],
             [
              0.6666666666666666,
              "#ed7953"
             ],
             [
              0.7777777777777778,
              "#fb9f3a"
             ],
             [
              0.8888888888888888,
              "#fdca26"
             ],
             [
              1,
              "#f0f921"
             ]
            ],
            "type": "histogram2dcontour"
           }
          ],
          "mesh3d": [
           {
            "colorbar": {
             "outlinewidth": 0,
             "ticks": ""
            },
            "type": "mesh3d"
           }
          ],
          "parcoords": [
           {
            "line": {
             "colorbar": {
              "outlinewidth": 0,
              "ticks": ""
             }
            },
            "type": "parcoords"
           }
          ],
          "pie": [
           {
            "automargin": true,
            "type": "pie"
           }
          ],
          "scatter": [
           {
            "marker": {
             "colorbar": {
              "outlinewidth": 0,
              "ticks": ""
             }
            },
            "type": "scatter"
           }
          ],
          "scatter3d": [
           {
            "line": {
             "colorbar": {
              "outlinewidth": 0,
              "ticks": ""
             }
            },
            "marker": {
             "colorbar": {
              "outlinewidth": 0,
              "ticks": ""
             }
            },
            "type": "scatter3d"
           }
          ],
          "scattercarpet": [
           {
            "marker": {
             "colorbar": {
              "outlinewidth": 0,
              "ticks": ""
             }
            },
            "type": "scattercarpet"
           }
          ],
          "scattergeo": [
           {
            "marker": {
             "colorbar": {
              "outlinewidth": 0,
              "ticks": ""
             }
            },
            "type": "scattergeo"
           }
          ],
          "scattergl": [
           {
            "marker": {
             "colorbar": {
              "outlinewidth": 0,
              "ticks": ""
             }
            },
            "type": "scattergl"
           }
          ],
          "scattermapbox": [
           {
            "marker": {
             "colorbar": {
              "outlinewidth": 0,
              "ticks": ""
             }
            },
            "type": "scattermapbox"
           }
          ],
          "scatterpolar": [
           {
            "marker": {
             "colorbar": {
              "outlinewidth": 0,
              "ticks": ""
             }
            },
            "type": "scatterpolar"
           }
          ],
          "scatterpolargl": [
           {
            "marker": {
             "colorbar": {
              "outlinewidth": 0,
              "ticks": ""
             }
            },
            "type": "scatterpolargl"
           }
          ],
          "scatterternary": [
           {
            "marker": {
             "colorbar": {
              "outlinewidth": 0,
              "ticks": ""
             }
            },
            "type": "scatterternary"
           }
          ],
          "surface": [
           {
            "colorbar": {
             "outlinewidth": 0,
             "ticks": ""
            },
            "colorscale": [
             [
              0,
              "#0d0887"
             ],
             [
              0.1111111111111111,
              "#46039f"
             ],
             [
              0.2222222222222222,
              "#7201a8"
             ],
             [
              0.3333333333333333,
              "#9c179e"
             ],
             [
              0.4444444444444444,
              "#bd3786"
             ],
             [
              0.5555555555555556,
              "#d8576b"
             ],
             [
              0.6666666666666666,
              "#ed7953"
             ],
             [
              0.7777777777777778,
              "#fb9f3a"
             ],
             [
              0.8888888888888888,
              "#fdca26"
             ],
             [
              1,
              "#f0f921"
             ]
            ],
            "type": "surface"
           }
          ],
          "table": [
           {
            "cells": {
             "fill": {
              "color": "#EBF0F8"
             },
             "line": {
              "color": "white"
             }
            },
            "header": {
             "fill": {
              "color": "#C8D4E3"
             },
             "line": {
              "color": "white"
             }
            },
            "type": "table"
           }
          ]
         },
         "layout": {
          "annotationdefaults": {
           "arrowcolor": "#2a3f5f",
           "arrowhead": 0,
           "arrowwidth": 1
          },
          "autotypenumbers": "strict",
          "coloraxis": {
           "colorbar": {
            "outlinewidth": 0,
            "ticks": ""
           }
          },
          "colorscale": {
           "diverging": [
            [
             0,
             "#8e0152"
            ],
            [
             0.1,
             "#c51b7d"
            ],
            [
             0.2,
             "#de77ae"
            ],
            [
             0.3,
             "#f1b6da"
            ],
            [
             0.4,
             "#fde0ef"
            ],
            [
             0.5,
             "#f7f7f7"
            ],
            [
             0.6,
             "#e6f5d0"
            ],
            [
             0.7,
             "#b8e186"
            ],
            [
             0.8,
             "#7fbc41"
            ],
            [
             0.9,
             "#4d9221"
            ],
            [
             1,
             "#276419"
            ]
           ],
           "sequential": [
            [
             0,
             "#0d0887"
            ],
            [
             0.1111111111111111,
             "#46039f"
            ],
            [
             0.2222222222222222,
             "#7201a8"
            ],
            [
             0.3333333333333333,
             "#9c179e"
            ],
            [
             0.4444444444444444,
             "#bd3786"
            ],
            [
             0.5555555555555556,
             "#d8576b"
            ],
            [
             0.6666666666666666,
             "#ed7953"
            ],
            [
             0.7777777777777778,
             "#fb9f3a"
            ],
            [
             0.8888888888888888,
             "#fdca26"
            ],
            [
             1,
             "#f0f921"
            ]
           ],
           "sequentialminus": [
            [
             0,
             "#0d0887"
            ],
            [
             0.1111111111111111,
             "#46039f"
            ],
            [
             0.2222222222222222,
             "#7201a8"
            ],
            [
             0.3333333333333333,
             "#9c179e"
            ],
            [
             0.4444444444444444,
             "#bd3786"
            ],
            [
             0.5555555555555556,
             "#d8576b"
            ],
            [
             0.6666666666666666,
             "#ed7953"
            ],
            [
             0.7777777777777778,
             "#fb9f3a"
            ],
            [
             0.8888888888888888,
             "#fdca26"
            ],
            [
             1,
             "#f0f921"
            ]
           ]
          },
          "colorway": [
           "#636efa",
           "#EF553B",
           "#00cc96",
           "#ab63fa",
           "#FFA15A",
           "#19d3f3",
           "#FF6692",
           "#B6E880",
           "#FF97FF",
           "#FECB52"
          ],
          "font": {
           "color": "#2a3f5f"
          },
          "geo": {
           "bgcolor": "white",
           "lakecolor": "white",
           "landcolor": "#E5ECF6",
           "showlakes": true,
           "showland": true,
           "subunitcolor": "white"
          },
          "hoverlabel": {
           "align": "left"
          },
          "hovermode": "closest",
          "mapbox": {
           "style": "light"
          },
          "paper_bgcolor": "white",
          "plot_bgcolor": "#E5ECF6",
          "polar": {
           "angularaxis": {
            "gridcolor": "white",
            "linecolor": "white",
            "ticks": ""
           },
           "bgcolor": "#E5ECF6",
           "radialaxis": {
            "gridcolor": "white",
            "linecolor": "white",
            "ticks": ""
           }
          },
          "scene": {
           "xaxis": {
            "backgroundcolor": "#E5ECF6",
            "gridcolor": "white",
            "gridwidth": 2,
            "linecolor": "white",
            "showbackground": true,
            "ticks": "",
            "zerolinecolor": "white"
           },
           "yaxis": {
            "backgroundcolor": "#E5ECF6",
            "gridcolor": "white",
            "gridwidth": 2,
            "linecolor": "white",
            "showbackground": true,
            "ticks": "",
            "zerolinecolor": "white"
           },
           "zaxis": {
            "backgroundcolor": "#E5ECF6",
            "gridcolor": "white",
            "gridwidth": 2,
            "linecolor": "white",
            "showbackground": true,
            "ticks": "",
            "zerolinecolor": "white"
           }
          },
          "shapedefaults": {
           "line": {
            "color": "#2a3f5f"
           }
          },
          "ternary": {
           "aaxis": {
            "gridcolor": "white",
            "linecolor": "white",
            "ticks": ""
           },
           "baxis": {
            "gridcolor": "white",
            "linecolor": "white",
            "ticks": ""
           },
           "bgcolor": "#E5ECF6",
           "caxis": {
            "gridcolor": "white",
            "linecolor": "white",
            "ticks": ""
           }
          },
          "title": {
           "x": 0.05
          },
          "xaxis": {
           "automargin": true,
           "gridcolor": "white",
           "linecolor": "white",
           "ticks": "",
           "title": {
            "standoff": 15
           },
           "zerolinecolor": "white",
           "zerolinewidth": 2
          },
          "yaxis": {
           "automargin": true,
           "gridcolor": "white",
           "linecolor": "white",
           "ticks": "",
           "title": {
            "standoff": 15
           },
           "zerolinecolor": "white",
           "zerolinewidth": 2
          }
         }
        },
        "title": {
         "font": {
          "color": "#4D5663"
         }
        },
        "xaxis": {
         "anchor": "y",
         "domain": [
          0,
          0.2125
         ],
         "gridcolor": "#E1E5ED",
         "showgrid": false,
         "tickfont": {
          "color": "#4D5663"
         },
         "title": {
          "font": {
           "color": "#4D5663"
          },
          "text": ""
         },
         "zerolinecolor": "#E1E5ED"
        },
        "xaxis10": {
         "anchor": "y10",
         "domain": [
          0.2625,
          0.475
         ],
         "gridcolor": "#E1E5ED",
         "showgrid": false,
         "tickfont": {
          "color": "#4D5663"
         },
         "title": {
          "font": {
           "color": "#4D5663"
          },
          "text": ""
         },
         "zerolinecolor": "#E1E5ED"
        },
        "xaxis11": {
         "anchor": "y11",
         "domain": [
          0.525,
          0.7375
         ],
         "gridcolor": "#E1E5ED",
         "showgrid": false,
         "tickfont": {
          "color": "#4D5663"
         },
         "title": {
          "font": {
           "color": "#4D5663"
          },
          "text": ""
         },
         "zerolinecolor": "#E1E5ED"
        },
        "xaxis12": {
         "anchor": "y12",
         "domain": [
          0.7875,
          1
         ],
         "gridcolor": "#E1E5ED",
         "showgrid": false,
         "tickfont": {
          "color": "#4D5663"
         },
         "title": {
          "font": {
           "color": "#4D5663"
          },
          "text": ""
         },
         "zerolinecolor": "#E1E5ED"
        },
        "xaxis13": {
         "anchor": "y13",
         "domain": [
          0,
          0.2125
         ],
         "gridcolor": "#E1E5ED",
         "showgrid": false,
         "tickfont": {
          "color": "#4D5663"
         },
         "title": {
          "font": {
           "color": "#4D5663"
          },
          "text": ""
         },
         "zerolinecolor": "#E1E5ED"
        },
        "xaxis14": {
         "anchor": "y14",
         "domain": [
          0.2625,
          0.475
         ],
         "gridcolor": "#E1E5ED",
         "showgrid": false,
         "tickfont": {
          "color": "#4D5663"
         },
         "title": {
          "font": {
           "color": "#4D5663"
          },
          "text": ""
         },
         "zerolinecolor": "#E1E5ED"
        },
        "xaxis15": {
         "anchor": "y15",
         "domain": [
          0.525,
          0.7375
         ],
         "gridcolor": "#E1E5ED",
         "showgrid": false,
         "tickfont": {
          "color": "#4D5663"
         },
         "title": {
          "font": {
           "color": "#4D5663"
          },
          "text": ""
         },
         "zerolinecolor": "#E1E5ED"
        },
        "xaxis16": {
         "anchor": "y16",
         "domain": [
          0.7875,
          1
         ],
         "gridcolor": "#E1E5ED",
         "showgrid": false,
         "tickfont": {
          "color": "#4D5663"
         },
         "title": {
          "font": {
           "color": "#4D5663"
          },
          "text": ""
         },
         "zerolinecolor": "#E1E5ED"
        },
        "xaxis2": {
         "anchor": "y2",
         "domain": [
          0.2625,
          0.475
         ],
         "gridcolor": "#E1E5ED",
         "showgrid": false,
         "tickfont": {
          "color": "#4D5663"
         },
         "title": {
          "font": {
           "color": "#4D5663"
          },
          "text": ""
         },
         "zerolinecolor": "#E1E5ED"
        },
        "xaxis3": {
         "anchor": "y3",
         "domain": [
          0.525,
          0.7375
         ],
         "gridcolor": "#E1E5ED",
         "showgrid": false,
         "tickfont": {
          "color": "#4D5663"
         },
         "title": {
          "font": {
           "color": "#4D5663"
          },
          "text": ""
         },
         "zerolinecolor": "#E1E5ED"
        },
        "xaxis4": {
         "anchor": "y4",
         "domain": [
          0.7875,
          1
         ],
         "gridcolor": "#E1E5ED",
         "showgrid": false,
         "tickfont": {
          "color": "#4D5663"
         },
         "title": {
          "font": {
           "color": "#4D5663"
          },
          "text": ""
         },
         "zerolinecolor": "#E1E5ED"
        },
        "xaxis5": {
         "anchor": "y5",
         "domain": [
          0,
          0.2125
         ],
         "gridcolor": "#E1E5ED",
         "showgrid": false,
         "tickfont": {
          "color": "#4D5663"
         },
         "title": {
          "font": {
           "color": "#4D5663"
          },
          "text": ""
         },
         "zerolinecolor": "#E1E5ED"
        },
        "xaxis6": {
         "anchor": "y6",
         "domain": [
          0.2625,
          0.475
         ],
         "gridcolor": "#E1E5ED",
         "showgrid": false,
         "tickfont": {
          "color": "#4D5663"
         },
         "title": {
          "font": {
           "color": "#4D5663"
          },
          "text": ""
         },
         "zerolinecolor": "#E1E5ED"
        },
        "xaxis7": {
         "anchor": "y7",
         "domain": [
          0.525,
          0.7375
         ],
         "gridcolor": "#E1E5ED",
         "showgrid": false,
         "tickfont": {
          "color": "#4D5663"
         },
         "title": {
          "font": {
           "color": "#4D5663"
          },
          "text": ""
         },
         "zerolinecolor": "#E1E5ED"
        },
        "xaxis8": {
         "anchor": "y8",
         "domain": [
          0.7875,
          1
         ],
         "gridcolor": "#E1E5ED",
         "showgrid": false,
         "tickfont": {
          "color": "#4D5663"
         },
         "title": {
          "font": {
           "color": "#4D5663"
          },
          "text": ""
         },
         "zerolinecolor": "#E1E5ED"
        },
        "xaxis9": {
         "anchor": "y9",
         "domain": [
          0,
          0.2125
         ],
         "gridcolor": "#E1E5ED",
         "showgrid": false,
         "tickfont": {
          "color": "#4D5663"
         },
         "title": {
          "font": {
           "color": "#4D5663"
          },
          "text": ""
         },
         "zerolinecolor": "#E1E5ED"
        },
        "yaxis": {
         "anchor": "x",
         "domain": [
          0.8025,
          1
         ],
         "gridcolor": "#E1E5ED",
         "showgrid": false,
         "tickfont": {
          "color": "#4D5663"
         },
         "title": {
          "font": {
           "color": "#4D5663"
          },
          "text": ""
         },
         "zerolinecolor": "#E1E5ED"
        },
        "yaxis10": {
         "anchor": "x10",
         "domain": [
          0.2675,
          0.465
         ],
         "gridcolor": "#E1E5ED",
         "showgrid": false,
         "tickfont": {
          "color": "#4D5663"
         },
         "title": {
          "font": {
           "color": "#4D5663"
          },
          "text": ""
         },
         "zerolinecolor": "#E1E5ED"
        },
        "yaxis11": {
         "anchor": "x11",
         "domain": [
          0.2675,
          0.465
         ],
         "gridcolor": "#E1E5ED",
         "showgrid": false,
         "tickfont": {
          "color": "#4D5663"
         },
         "title": {
          "font": {
           "color": "#4D5663"
          },
          "text": ""
         },
         "zerolinecolor": "#E1E5ED"
        },
        "yaxis12": {
         "anchor": "x12",
         "domain": [
          0.2675,
          0.465
         ],
         "gridcolor": "#E1E5ED",
         "showgrid": false,
         "tickfont": {
          "color": "#4D5663"
         },
         "title": {
          "font": {
           "color": "#4D5663"
          },
          "text": ""
         },
         "zerolinecolor": "#E1E5ED"
        },
        "yaxis13": {
         "anchor": "x13",
         "domain": [
          0,
          0.1975
         ],
         "gridcolor": "#E1E5ED",
         "showgrid": false,
         "tickfont": {
          "color": "#4D5663"
         },
         "title": {
          "font": {
           "color": "#4D5663"
          },
          "text": ""
         },
         "zerolinecolor": "#E1E5ED"
        },
        "yaxis14": {
         "anchor": "x14",
         "domain": [
          0,
          0.1975
         ],
         "gridcolor": "#E1E5ED",
         "showgrid": false,
         "tickfont": {
          "color": "#4D5663"
         },
         "title": {
          "font": {
           "color": "#4D5663"
          },
          "text": ""
         },
         "zerolinecolor": "#E1E5ED"
        },
        "yaxis15": {
         "anchor": "x15",
         "domain": [
          0,
          0.1975
         ],
         "gridcolor": "#E1E5ED",
         "showgrid": false,
         "tickfont": {
          "color": "#4D5663"
         },
         "title": {
          "font": {
           "color": "#4D5663"
          },
          "text": ""
         },
         "zerolinecolor": "#E1E5ED"
        },
        "yaxis16": {
         "anchor": "x16",
         "domain": [
          0,
          0.1975
         ],
         "gridcolor": "#E1E5ED",
         "showgrid": false,
         "tickfont": {
          "color": "#4D5663"
         },
         "title": {
          "font": {
           "color": "#4D5663"
          },
          "text": ""
         },
         "zerolinecolor": "#E1E5ED"
        },
        "yaxis2": {
         "anchor": "x2",
         "domain": [
          0.8025,
          1
         ],
         "gridcolor": "#E1E5ED",
         "showgrid": false,
         "tickfont": {
          "color": "#4D5663"
         },
         "title": {
          "font": {
           "color": "#4D5663"
          },
          "text": ""
         },
         "zerolinecolor": "#E1E5ED"
        },
        "yaxis3": {
         "anchor": "x3",
         "domain": [
          0.8025,
          1
         ],
         "gridcolor": "#E1E5ED",
         "showgrid": false,
         "tickfont": {
          "color": "#4D5663"
         },
         "title": {
          "font": {
           "color": "#4D5663"
          },
          "text": ""
         },
         "zerolinecolor": "#E1E5ED"
        },
        "yaxis4": {
         "anchor": "x4",
         "domain": [
          0.8025,
          1
         ],
         "gridcolor": "#E1E5ED",
         "showgrid": false,
         "tickfont": {
          "color": "#4D5663"
         },
         "title": {
          "font": {
           "color": "#4D5663"
          },
          "text": ""
         },
         "zerolinecolor": "#E1E5ED"
        },
        "yaxis5": {
         "anchor": "x5",
         "domain": [
          0.535,
          0.7325
         ],
         "gridcolor": "#E1E5ED",
         "showgrid": false,
         "tickfont": {
          "color": "#4D5663"
         },
         "title": {
          "font": {
           "color": "#4D5663"
          },
          "text": ""
         },
         "zerolinecolor": "#E1E5ED"
        },
        "yaxis6": {
         "anchor": "x6",
         "domain": [
          0.535,
          0.7325
         ],
         "gridcolor": "#E1E5ED",
         "showgrid": false,
         "tickfont": {
          "color": "#4D5663"
         },
         "title": {
          "font": {
           "color": "#4D5663"
          },
          "text": ""
         },
         "zerolinecolor": "#E1E5ED"
        },
        "yaxis7": {
         "anchor": "x7",
         "domain": [
          0.535,
          0.7325
         ],
         "gridcolor": "#E1E5ED",
         "showgrid": false,
         "tickfont": {
          "color": "#4D5663"
         },
         "title": {
          "font": {
           "color": "#4D5663"
          },
          "text": ""
         },
         "zerolinecolor": "#E1E5ED"
        },
        "yaxis8": {
         "anchor": "x8",
         "domain": [
          0.535,
          0.7325
         ],
         "gridcolor": "#E1E5ED",
         "showgrid": false,
         "tickfont": {
          "color": "#4D5663"
         },
         "title": {
          "font": {
           "color": "#4D5663"
          },
          "text": ""
         },
         "zerolinecolor": "#E1E5ED"
        },
        "yaxis9": {
         "anchor": "x9",
         "domain": [
          0.2675,
          0.465
         ],
         "gridcolor": "#E1E5ED",
         "showgrid": false,
         "tickfont": {
          "color": "#4D5663"
         },
         "title": {
          "font": {
           "color": "#4D5663"
          },
          "text": ""
         },
         "zerolinecolor": "#E1E5ED"
        }
       }
      },
      "text/html": [
       "<div>                            <div id=\"3ba2f924-66de-4005-921b-5f205b86c67c\" class=\"plotly-graph-div\" style=\"height:525px; width:100%;\"></div>            <script type=\"text/javascript\">                require([\"plotly\"], function(Plotly) {                    window.PLOTLYENV=window.PLOTLYENV || {};\n",
       "                    window.PLOTLYENV.BASE_URL='https://plot.ly';                                    if (document.getElementById(\"3ba2f924-66de-4005-921b-5f205b86c67c\")) {                    Plotly.newPlot(                        \"3ba2f924-66de-4005-921b-5f205b86c67c\",                        [{\"histfunc\":\"count\",\"histnorm\":\"\",\"marker\":{\"color\":\"rgba(255, 153, 51, 1.0)\",\"line\":{\"color\":\"#4D5663\",\"width\":1.3}},\"name\":\"A\",\"nbinsx\":10,\"opacity\":0.8,\"orientation\":\"v\",\"x\":[-0.6564744824764208,-0.44246018622678035,-1.4210529165487331,2.138912840106512,0.25578258692089706,0.39805143783044833,-0.12701603877964637,-0.7336425614675899,0.17166378867506915,0.2710840189785207,0.8534092997086261,-0.28423806801324436,0.680442831707899,1.0056126864042327,0.22345415383044398,1.3471504835508696,0.4868772969639054,-0.8560743163392702,0.2437582614308069,0.13615747280918256,1.7766279162229373,-0.047392212385020574,-1.478739271543873,0.6674437983342687,-1.0518729658163994,1.1450743950503413,0.45312446388413863,-2.247532593483744,-0.9380816730886774,0.5747550876841555,0.7445251795288704,-1.1397301094244776,-0.7330965447959531,0.0011163348157742902,-0.4384112915386252,-0.5103765163837336,0.2572701355520642,-0.2672705429298812,-0.3152386136033564,0.1641860318298152,-0.6148004002051985,0.07205002157098324,-2.3569799035568906,1.0536881549659127,0.026917841374375365,-1.5516053705251112,-0.37391562462327005,0.16636832151140332,2.1868099430258554,-0.41916960443056883,0.10496423203936313,0.6279926573009582,-0.6471640572249683,0.30945396871171144,-0.4692873864786442,-1.090176869362269,-0.4143546663277241,-0.9027350183105727,0.469359002390997,-1.4219684339163654,0.820847128917743,0.05483278813128337,1.2392518808560637,1.545366633263906,0.41934477765089295,0.8240554271196706,0.8649157101002072,-2.1965301978204814,0.3476863183989522,-0.12640063221688605,-1.1095799572682512,-0.7608133813357494,-2.2044745973693805,-2.0304273169011986,1.2711060359943978,0.13692317269969045,-0.0583827092739993,2.4115580112408193,-2.0777630091319015,0.9344928525053398,0.3953105866307476,-1.0128314490635355,1.3925168200064224,-0.2746806087720305,-0.15873804270543176,-1.2063378835963559,1.4659391526336598,0.7259062288360807,-0.018616086991251776,-1.0972073757865193,-1.0458427688984127,0.6742520113874113,-0.9688805187614103,-2.606590225991158,0.2665069685897831,0.08035808638610199,-1.019013237251515,-0.4491197717632893,0.9587565600232877,-1.2542926097550613],\"xaxis\":\"x\",\"yaxis\":\"y\",\"type\":\"histogram\"},{\"line\":{\"color\":\"rgba(128, 128, 128, 1.0)\",\"dash\":\"solid\",\"shape\":\"linear\",\"width\":1.3},\"marker\":{\"size\":2,\"symbol\":\"circle\"},\"mode\":\"markers\",\"name\":\"A\",\"text\":\"\",\"x\":[0.7580307738992594,-0.8625173585817463,-1.6366635579880784,-0.026788812721112613,0.23161175849466448,1.2199293002623273,-0.7827188654461145,-0.7798390650913686,-0.12947907683514331,1.0712209025603268,-1.6383769059706026,0.25328144466334795,1.742638202990484,-0.056327495806758165,0.9437057933647285,2.8831757257521318,-0.4852972323833704,-0.4567365046026048,1.751431838705155,-2.406015038199109,0.7666963809140104,0.5834452650619113,-0.8810627750669326,-0.036135506573511146,0.31705001021648394,-0.7061871317069055,-0.3159150502367156,0.08679183834852548,-0.8773079487843657,0.34059428566701344,1.0117894523788795,-1.4223713004706713,0.3673575618258237,0.7994209827176314,-1.1402490848522213,-0.3098259650285641,0.44816075628217805,0.49225862230469863,-0.3198429663090066,0.7535928972424636,0.4062231366911554,-1.08852071659089,1.1932699862276017,-0.046812403925451065,-0.6242289885758998,0.47350489169255794,1.3140622219608786,0.7095495168694461,0.9399012385745007,-0.5384307148443165,-0.40173779338780424,0.8825797641438177,0.6310546479945338,-1.4908672034369301,1.105551235508307,-1.0855229769921029,1.8267336788316682,-1.4570122535225705,1.0784279389579425,-0.23609493119741587,-1.4518345771106087,-0.936347192855875,-0.516520118557937,1.9069306637372558,1.662383470919966,0.9539323596162675,-1.4309045262582105,0.13734272360761482,0.9725589422670315,0.19749937583635072,0.74497483397035,0.13798664679425274,-0.15382944980659588,0.42496202557755824,0.9446417743242981,1.4187557504647668,0.6373039613528989,1.0420549704138093,0.7428217879179443,-0.5985146435300484,1.3981806462267188,-0.6561336730020627,-0.4070023977511638,-0.452667589405772,-0.20514059006008803,0.011753641259448565,0.18499711275591785,0.44806318398005307,-0.7264420958566794,0.2040679431299117,-1.001927548621951,-1.2416331719420421,-1.6536030828556114,0.04634236549350992,-0.4952910163578565,0.22935390509840975,-0.9281710976792457,0.5036946030081555,-0.43453838988986104,-0.9682049615136412],\"xaxis\":\"x2\",\"y\":[-0.6564744824764208,-0.44246018622678035,-1.4210529165487331,2.138912840106512,0.25578258692089706,0.39805143783044833,-0.12701603877964637,-0.7336425614675899,0.17166378867506915,0.2710840189785207,0.8534092997086261,-0.28423806801324436,0.680442831707899,1.0056126864042327,0.22345415383044398,1.3471504835508696,0.4868772969639054,-0.8560743163392702,0.2437582614308069,0.13615747280918256,1.7766279162229373,-0.047392212385020574,-1.478739271543873,0.6674437983342687,-1.0518729658163994,1.1450743950503413,0.45312446388413863,-2.247532593483744,-0.9380816730886774,0.5747550876841555,0.7445251795288704,-1.1397301094244776,-0.7330965447959531,0.0011163348157742902,-0.4384112915386252,-0.5103765163837336,0.2572701355520642,-0.2672705429298812,-0.3152386136033564,0.1641860318298152,-0.6148004002051985,0.07205002157098324,-2.3569799035568906,1.0536881549659127,0.026917841374375365,-1.5516053705251112,-0.37391562462327005,0.16636832151140332,2.1868099430258554,-0.41916960443056883,0.10496423203936313,0.6279926573009582,-0.6471640572249683,0.30945396871171144,-0.4692873864786442,-1.090176869362269,-0.4143546663277241,-0.9027350183105727,0.469359002390997,-1.4219684339163654,0.820847128917743,0.05483278813128337,1.2392518808560637,1.545366633263906,0.41934477765089295,0.8240554271196706,0.8649157101002072,-2.1965301978204814,0.3476863183989522,-0.12640063221688605,-1.1095799572682512,-0.7608133813357494,-2.2044745973693805,-2.0304273169011986,1.2711060359943978,0.13692317269969045,-0.0583827092739993,2.4115580112408193,-2.0777630091319015,0.9344928525053398,0.3953105866307476,-1.0128314490635355,1.3925168200064224,-0.2746806087720305,-0.15873804270543176,-1.2063378835963559,1.4659391526336598,0.7259062288360807,-0.018616086991251776,-1.0972073757865193,-1.0458427688984127,0.6742520113874113,-0.9688805187614103,-2.606590225991158,0.2665069685897831,0.08035808638610199,-1.019013237251515,-0.4491197717632893,0.9587565600232877,-1.2542926097550613],\"yaxis\":\"y2\",\"type\":\"scatter\"},{\"line\":{\"color\":\"rgba(128, 128, 128, 1.0)\",\"dash\":\"solid\",\"shape\":\"linear\",\"width\":1.3},\"marker\":{\"size\":2,\"symbol\":\"circle\"},\"mode\":\"markers\",\"name\":\"A\",\"text\":\"\",\"x\":[-0.42328414092118744,1.0353472703466378,-0.0294408149925103,-1.3080779107417164,0.25711409791473455,0.44151315445685657,-0.3195050000927743,-0.0782500400354517,0.3676051961488906,-0.2978329257209743,-0.2766171637298272,-0.24694369601875368,-0.10309387266580315,0.7002446278340115,0.6308102905466025,2.0903240423469898,-0.2317200157760494,-0.5234257695437491,1.8548080260680004,0.4462577324476635,0.16869572021215656,-0.2016134910168743,1.136302564871149,0.09046804222624254,0.09604573434310844,0.7101795501867115,-2.2211369990891976,0.9989208680144112,-1.9128529841297661,-0.23169876192442396,1.5039552670839198,0.07453974564807933,1.6458237555562663,-1.1306690961320491,1.8809855537953806,1.132954840145376,1.896604275133463,0.5134515307830606,0.24846752386668378,-1.2813358260908256,-1.010521716642204,-2.3311459813542825,-0.6680178594950927,-0.816257723324524,-0.31215073260909865,0.2896328233261768,-0.2942037452702574,-1.024219271919298,-1.401699272632873,-0.5209246285045438,0.7320320730304343,0.5283941356938554,-1.1817292342895411,-1.3859581339557363,0.8237850642318686,0.9257312630709252,-1.599339160178483,-2.161194784895461,0.6964050088817003,1.5000282089604031,0.08725442825022327,0.20878016257964457,0.05873282026572182,0.6161988103482395,1.834148373840194,-1.2540834843384059,0.6871027942149779,0.026056859698059952,-0.4923515756312518,-0.5927746585197166,1.3610770586776446,0.47391091683380754,-1.043306889443504,-0.9509116911101757,-1.259416192419341,0.9921273537989724,0.987622646571816,-1.3342156202755444,0.619427880375424,-1.6728984990220959,-0.2707463551132399,-1.2529502080559582,-0.7971115155360949,1.5541975949074123,-1.1773786977491547,0.5423811266351756,0.24605744005141958,0.6004666442151226,0.07809251506709225,0.2266454844784491,1.6991242708513101,0.06415258070870512,-1.0142989668442808,-0.2768891447723133,0.2815421718642755,-0.8970518215859872,-1.408365328601296,-0.7172290558737238,-0.9120682724390551,-0.3758549478690623],\"xaxis\":\"x3\",\"y\":[-0.6564744824764208,-0.44246018622678035,-1.4210529165487331,2.138912840106512,0.25578258692089706,0.39805143783044833,-0.12701603877964637,-0.7336425614675899,0.17166378867506915,0.2710840189785207,0.8534092997086261,-0.28423806801324436,0.680442831707899,1.0056126864042327,0.22345415383044398,1.3471504835508696,0.4868772969639054,-0.8560743163392702,0.2437582614308069,0.13615747280918256,1.7766279162229373,-0.047392212385020574,-1.478739271543873,0.6674437983342687,-1.0518729658163994,1.1450743950503413,0.45312446388413863,-2.247532593483744,-0.9380816730886774,0.5747550876841555,0.7445251795288704,-1.1397301094244776,-0.7330965447959531,0.0011163348157742902,-0.4384112915386252,-0.5103765163837336,0.2572701355520642,-0.2672705429298812,-0.3152386136033564,0.1641860318298152,-0.6148004002051985,0.07205002157098324,-2.3569799035568906,1.0536881549659127,0.026917841374375365,-1.5516053705251112,-0.37391562462327005,0.16636832151140332,2.1868099430258554,-0.41916960443056883,0.10496423203936313,0.6279926573009582,-0.6471640572249683,0.30945396871171144,-0.4692873864786442,-1.090176869362269,-0.4143546663277241,-0.9027350183105727,0.469359002390997,-1.4219684339163654,0.820847128917743,0.05483278813128337,1.2392518808560637,1.545366633263906,0.41934477765089295,0.8240554271196706,0.8649157101002072,-2.1965301978204814,0.3476863183989522,-0.12640063221688605,-1.1095799572682512,-0.7608133813357494,-2.2044745973693805,-2.0304273169011986,1.2711060359943978,0.13692317269969045,-0.0583827092739993,2.4115580112408193,-2.0777630091319015,0.9344928525053398,0.3953105866307476,-1.0128314490635355,1.3925168200064224,-0.2746806087720305,-0.15873804270543176,-1.2063378835963559,1.4659391526336598,0.7259062288360807,-0.018616086991251776,-1.0972073757865193,-1.0458427688984127,0.6742520113874113,-0.9688805187614103,-2.606590225991158,0.2665069685897831,0.08035808638610199,-1.019013237251515,-0.4491197717632893,0.9587565600232877,-1.2542926097550613],\"yaxis\":\"y3\",\"type\":\"scatter\"},{\"line\":{\"color\":\"rgba(128, 128, 128, 1.0)\",\"dash\":\"solid\",\"shape\":\"linear\",\"width\":1.3},\"marker\":{\"size\":2,\"symbol\":\"circle\"},\"mode\":\"markers\",\"name\":\"A\",\"text\":\"\",\"x\":[-0.10716739297592093,0.9479447284269172,1.370449958759234,-0.3486615965666615,1.7595465505714352,1.2108974389734368,-0.2558252394530886,-0.3260742183018137,-1.0322519522885203,0.16297492715093576,-1.4054321746177054,-0.00698178770017601,2.061329468159568,0.9141131146417977,0.8540937334668862,-0.2863489155732238,-0.5347005786338509,0.890134217321711,-0.950323074305132,-0.13587532077936681,-0.12484544447554184,-0.9370911689176806,1.3146357722090332,-0.979263981063374,1.6873436206550463,0.025813178944782612,0.504914906087867,-0.6052362964597082,-1.066220133411954,1.1234871186905926,0.846274540328193,-1.0831796372168665,1.06996558045424,-0.5118601253884535,0.10609320920173515,0.535557285109827,-0.3984491458827878,0.05999073369188505,-0.0074878011174125784,0.4670072811114906,0.3457846756450776,-0.06540687218194201,0.3344504087283477,-0.36236153907488633,0.12095079414114726,-0.2864767074860481,-0.9504952195194385,-0.08660523507889167,-0.10925485119560914,-0.8138806328071769,-1.1545992931889217,0.9980930558710237,0.9183716149515965,0.6686252676065014,0.11654882546394174,0.7979385777603432,0.08313121585625391,-0.06228743418704124,1.6011316341757469,-0.3155469149620852,0.33716677390464384,0.7654842236614688,0.609143054712147,0.2542674371087768,0.38922056390307846,-1.3521129363192337,-0.4146807398899897,-0.6601327716673171,0.05342590961294951,0.03553851069847322,-0.05992784857539338,-1.046987014575927,0.619076819809439,-0.043419863957865255,-0.8376319917789405,-0.7475893747085525,-1.1474612757784273,-0.4437291270075998,0.7188952225519313,1.2749955498757781,0.6180104532009417,1.1040970559403493,-0.6904557848469052,0.9700683280446663,-2.615923999858738,0.20587985862580907,-1.2747922174592787,0.04425500071520386,-0.6111696155178268,-1.8934406758301399,0.3125770370371499,1.993201331082072,0.47292052826578557,1.758906521973015,1.2655394276257803,0.9414468603637745,0.7297611658319217,-0.29012638219263476,-0.581399645596098,0.7532369215612564],\"xaxis\":\"x4\",\"y\":[-0.6564744824764208,-0.44246018622678035,-1.4210529165487331,2.138912840106512,0.25578258692089706,0.39805143783044833,-0.12701603877964637,-0.7336425614675899,0.17166378867506915,0.2710840189785207,0.8534092997086261,-0.28423806801324436,0.680442831707899,1.0056126864042327,0.22345415383044398,1.3471504835508696,0.4868772969639054,-0.8560743163392702,0.2437582614308069,0.13615747280918256,1.7766279162229373,-0.047392212385020574,-1.478739271543873,0.6674437983342687,-1.0518729658163994,1.1450743950503413,0.45312446388413863,-2.247532593483744,-0.9380816730886774,0.5747550876841555,0.7445251795288704,-1.1397301094244776,-0.7330965447959531,0.0011163348157742902,-0.4384112915386252,-0.5103765163837336,0.2572701355520642,-0.2672705429298812,-0.3152386136033564,0.1641860318298152,-0.6148004002051985,0.07205002157098324,-2.3569799035568906,1.0536881549659127,0.026917841374375365,-1.5516053705251112,-0.37391562462327005,0.16636832151140332,2.1868099430258554,-0.41916960443056883,0.10496423203936313,0.6279926573009582,-0.6471640572249683,0.30945396871171144,-0.4692873864786442,-1.090176869362269,-0.4143546663277241,-0.9027350183105727,0.469359002390997,-1.4219684339163654,0.820847128917743,0.05483278813128337,1.2392518808560637,1.545366633263906,0.41934477765089295,0.8240554271196706,0.8649157101002072,-2.1965301978204814,0.3476863183989522,-0.12640063221688605,-1.1095799572682512,-0.7608133813357494,-2.2044745973693805,-2.0304273169011986,1.2711060359943978,0.13692317269969045,-0.0583827092739993,2.4115580112408193,-2.0777630091319015,0.9344928525053398,0.3953105866307476,-1.0128314490635355,1.3925168200064224,-0.2746806087720305,-0.15873804270543176,-1.2063378835963559,1.4659391526336598,0.7259062288360807,-0.018616086991251776,-1.0972073757865193,-1.0458427688984127,0.6742520113874113,-0.9688805187614103,-2.606590225991158,0.2665069685897831,0.08035808638610199,-1.019013237251515,-0.4491197717632893,0.9587565600232877,-1.2542926097550613],\"yaxis\":\"y4\",\"type\":\"scatter\"},{\"line\":{\"color\":\"rgba(128, 128, 128, 1.0)\",\"dash\":\"solid\",\"shape\":\"linear\",\"width\":1.3},\"marker\":{\"size\":2,\"symbol\":\"circle\"},\"mode\":\"markers\",\"name\":\"B\",\"text\":\"\",\"x\":[-0.6564744824764208,-0.44246018622678035,-1.4210529165487331,2.138912840106512,0.25578258692089706,0.39805143783044833,-0.12701603877964637,-0.7336425614675899,0.17166378867506915,0.2710840189785207,0.8534092997086261,-0.28423806801324436,0.680442831707899,1.0056126864042327,0.22345415383044398,1.3471504835508696,0.4868772969639054,-0.8560743163392702,0.2437582614308069,0.13615747280918256,1.7766279162229373,-0.047392212385020574,-1.478739271543873,0.6674437983342687,-1.0518729658163994,1.1450743950503413,0.45312446388413863,-2.247532593483744,-0.9380816730886774,0.5747550876841555,0.7445251795288704,-1.1397301094244776,-0.7330965447959531,0.0011163348157742902,-0.4384112915386252,-0.5103765163837336,0.2572701355520642,-0.2672705429298812,-0.3152386136033564,0.1641860318298152,-0.6148004002051985,0.07205002157098324,-2.3569799035568906,1.0536881549659127,0.026917841374375365,-1.5516053705251112,-0.37391562462327005,0.16636832151140332,2.1868099430258554,-0.41916960443056883,0.10496423203936313,0.6279926573009582,-0.6471640572249683,0.30945396871171144,-0.4692873864786442,-1.090176869362269,-0.4143546663277241,-0.9027350183105727,0.469359002390997,-1.4219684339163654,0.820847128917743,0.05483278813128337,1.2392518808560637,1.545366633263906,0.41934477765089295,0.8240554271196706,0.8649157101002072,-2.1965301978204814,0.3476863183989522,-0.12640063221688605,-1.1095799572682512,-0.7608133813357494,-2.2044745973693805,-2.0304273169011986,1.2711060359943978,0.13692317269969045,-0.0583827092739993,2.4115580112408193,-2.0777630091319015,0.9344928525053398,0.3953105866307476,-1.0128314490635355,1.3925168200064224,-0.2746806087720305,-0.15873804270543176,-1.2063378835963559,1.4659391526336598,0.7259062288360807,-0.018616086991251776,-1.0972073757865193,-1.0458427688984127,0.6742520113874113,-0.9688805187614103,-2.606590225991158,0.2665069685897831,0.08035808638610199,-1.019013237251515,-0.4491197717632893,0.9587565600232877,-1.2542926097550613],\"xaxis\":\"x5\",\"y\":[0.7580307738992594,-0.8625173585817463,-1.6366635579880784,-0.026788812721112613,0.23161175849466448,1.2199293002623273,-0.7827188654461145,-0.7798390650913686,-0.12947907683514331,1.0712209025603268,-1.6383769059706026,0.25328144466334795,1.742638202990484,-0.056327495806758165,0.9437057933647285,2.8831757257521318,-0.4852972323833704,-0.4567365046026048,1.751431838705155,-2.406015038199109,0.7666963809140104,0.5834452650619113,-0.8810627750669326,-0.036135506573511146,0.31705001021648394,-0.7061871317069055,-0.3159150502367156,0.08679183834852548,-0.8773079487843657,0.34059428566701344,1.0117894523788795,-1.4223713004706713,0.3673575618258237,0.7994209827176314,-1.1402490848522213,-0.3098259650285641,0.44816075628217805,0.49225862230469863,-0.3198429663090066,0.7535928972424636,0.4062231366911554,-1.08852071659089,1.1932699862276017,-0.046812403925451065,-0.6242289885758998,0.47350489169255794,1.3140622219608786,0.7095495168694461,0.9399012385745007,-0.5384307148443165,-0.40173779338780424,0.8825797641438177,0.6310546479945338,-1.4908672034369301,1.105551235508307,-1.0855229769921029,1.8267336788316682,-1.4570122535225705,1.0784279389579425,-0.23609493119741587,-1.4518345771106087,-0.936347192855875,-0.516520118557937,1.9069306637372558,1.662383470919966,0.9539323596162675,-1.4309045262582105,0.13734272360761482,0.9725589422670315,0.19749937583635072,0.74497483397035,0.13798664679425274,-0.15382944980659588,0.42496202557755824,0.9446417743242981,1.4187557504647668,0.6373039613528989,1.0420549704138093,0.7428217879179443,-0.5985146435300484,1.3981806462267188,-0.6561336730020627,-0.4070023977511638,-0.452667589405772,-0.20514059006008803,0.011753641259448565,0.18499711275591785,0.44806318398005307,-0.7264420958566794,0.2040679431299117,-1.001927548621951,-1.2416331719420421,-1.6536030828556114,0.04634236549350992,-0.4952910163578565,0.22935390509840975,-0.9281710976792457,0.5036946030081555,-0.43453838988986104,-0.9682049615136412],\"yaxis\":\"y5\",\"type\":\"scatter\"},{\"histfunc\":\"count\",\"histnorm\":\"\",\"marker\":{\"color\":\"rgba(55, 128, 191, 1.0)\",\"line\":{\"color\":\"#4D5663\",\"width\":1.3}},\"name\":\"B\",\"nbinsx\":10,\"opacity\":0.8,\"orientation\":\"v\",\"x\":[0.7580307738992594,-0.8625173585817463,-1.6366635579880784,-0.026788812721112613,0.23161175849466448,1.2199293002623273,-0.7827188654461145,-0.7798390650913686,-0.12947907683514331,1.0712209025603268,-1.6383769059706026,0.25328144466334795,1.742638202990484,-0.056327495806758165,0.9437057933647285,2.8831757257521318,-0.4852972323833704,-0.4567365046026048,1.751431838705155,-2.406015038199109,0.7666963809140104,0.5834452650619113,-0.8810627750669326,-0.036135506573511146,0.31705001021648394,-0.7061871317069055,-0.3159150502367156,0.08679183834852548,-0.8773079487843657,0.34059428566701344,1.0117894523788795,-1.4223713004706713,0.3673575618258237,0.7994209827176314,-1.1402490848522213,-0.3098259650285641,0.44816075628217805,0.49225862230469863,-0.3198429663090066,0.7535928972424636,0.4062231366911554,-1.08852071659089,1.1932699862276017,-0.046812403925451065,-0.6242289885758998,0.47350489169255794,1.3140622219608786,0.7095495168694461,0.9399012385745007,-0.5384307148443165,-0.40173779338780424,0.8825797641438177,0.6310546479945338,-1.4908672034369301,1.105551235508307,-1.0855229769921029,1.8267336788316682,-1.4570122535225705,1.0784279389579425,-0.23609493119741587,-1.4518345771106087,-0.936347192855875,-0.516520118557937,1.9069306637372558,1.662383470919966,0.9539323596162675,-1.4309045262582105,0.13734272360761482,0.9725589422670315,0.19749937583635072,0.74497483397035,0.13798664679425274,-0.15382944980659588,0.42496202557755824,0.9446417743242981,1.4187557504647668,0.6373039613528989,1.0420549704138093,0.7428217879179443,-0.5985146435300484,1.3981806462267188,-0.6561336730020627,-0.4070023977511638,-0.452667589405772,-0.20514059006008803,0.011753641259448565,0.18499711275591785,0.44806318398005307,-0.7264420958566794,0.2040679431299117,-1.001927548621951,-1.2416331719420421,-1.6536030828556114,0.04634236549350992,-0.4952910163578565,0.22935390509840975,-0.9281710976792457,0.5036946030081555,-0.43453838988986104,-0.9682049615136412],\"xaxis\":\"x6\",\"yaxis\":\"y6\",\"type\":\"histogram\"},{\"line\":{\"color\":\"rgba(128, 128, 128, 1.0)\",\"dash\":\"solid\",\"shape\":\"linear\",\"width\":1.3},\"marker\":{\"size\":2,\"symbol\":\"circle\"},\"mode\":\"markers\",\"name\":\"B\",\"text\":\"\",\"x\":[-0.42328414092118744,1.0353472703466378,-0.0294408149925103,-1.3080779107417164,0.25711409791473455,0.44151315445685657,-0.3195050000927743,-0.0782500400354517,0.3676051961488906,-0.2978329257209743,-0.2766171637298272,-0.24694369601875368,-0.10309387266580315,0.7002446278340115,0.6308102905466025,2.0903240423469898,-0.2317200157760494,-0.5234257695437491,1.8548080260680004,0.4462577324476635,0.16869572021215656,-0.2016134910168743,1.136302564871149,0.09046804222624254,0.09604573434310844,0.7101795501867115,-2.2211369990891976,0.9989208680144112,-1.9128529841297661,-0.23169876192442396,1.5039552670839198,0.07453974564807933,1.6458237555562663,-1.1306690961320491,1.8809855537953806,1.132954840145376,1.896604275133463,0.5134515307830606,0.24846752386668378,-1.2813358260908256,-1.010521716642204,-2.3311459813542825,-0.6680178594950927,-0.816257723324524,-0.31215073260909865,0.2896328233261768,-0.2942037452702574,-1.024219271919298,-1.401699272632873,-0.5209246285045438,0.7320320730304343,0.5283941356938554,-1.1817292342895411,-1.3859581339557363,0.8237850642318686,0.9257312630709252,-1.599339160178483,-2.161194784895461,0.6964050088817003,1.5000282089604031,0.08725442825022327,0.20878016257964457,0.05873282026572182,0.6161988103482395,1.834148373840194,-1.2540834843384059,0.6871027942149779,0.026056859698059952,-0.4923515756312518,-0.5927746585197166,1.3610770586776446,0.47391091683380754,-1.043306889443504,-0.9509116911101757,-1.259416192419341,0.9921273537989724,0.987622646571816,-1.3342156202755444,0.619427880375424,-1.6728984990220959,-0.2707463551132399,-1.2529502080559582,-0.7971115155360949,1.5541975949074123,-1.1773786977491547,0.5423811266351756,0.24605744005141958,0.6004666442151226,0.07809251506709225,0.2266454844784491,1.6991242708513101,0.06415258070870512,-1.0142989668442808,-0.2768891447723133,0.2815421718642755,-0.8970518215859872,-1.408365328601296,-0.7172290558737238,-0.9120682724390551,-0.3758549478690623],\"xaxis\":\"x7\",\"y\":[0.7580307738992594,-0.8625173585817463,-1.6366635579880784,-0.026788812721112613,0.23161175849466448,1.2199293002623273,-0.7827188654461145,-0.7798390650913686,-0.12947907683514331,1.0712209025603268,-1.6383769059706026,0.25328144466334795,1.742638202990484,-0.056327495806758165,0.9437057933647285,2.8831757257521318,-0.4852972323833704,-0.4567365046026048,1.751431838705155,-2.406015038199109,0.7666963809140104,0.5834452650619113,-0.8810627750669326,-0.036135506573511146,0.31705001021648394,-0.7061871317069055,-0.3159150502367156,0.08679183834852548,-0.8773079487843657,0.34059428566701344,1.0117894523788795,-1.4223713004706713,0.3673575618258237,0.7994209827176314,-1.1402490848522213,-0.3098259650285641,0.44816075628217805,0.49225862230469863,-0.3198429663090066,0.7535928972424636,0.4062231366911554,-1.08852071659089,1.1932699862276017,-0.046812403925451065,-0.6242289885758998,0.47350489169255794,1.3140622219608786,0.7095495168694461,0.9399012385745007,-0.5384307148443165,-0.40173779338780424,0.8825797641438177,0.6310546479945338,-1.4908672034369301,1.105551235508307,-1.0855229769921029,1.8267336788316682,-1.4570122535225705,1.0784279389579425,-0.23609493119741587,-1.4518345771106087,-0.936347192855875,-0.516520118557937,1.9069306637372558,1.662383470919966,0.9539323596162675,-1.4309045262582105,0.13734272360761482,0.9725589422670315,0.19749937583635072,0.74497483397035,0.13798664679425274,-0.15382944980659588,0.42496202557755824,0.9446417743242981,1.4187557504647668,0.6373039613528989,1.0420549704138093,0.7428217879179443,-0.5985146435300484,1.3981806462267188,-0.6561336730020627,-0.4070023977511638,-0.452667589405772,-0.20514059006008803,0.011753641259448565,0.18499711275591785,0.44806318398005307,-0.7264420958566794,0.2040679431299117,-1.001927548621951,-1.2416331719420421,-1.6536030828556114,0.04634236549350992,-0.4952910163578565,0.22935390509840975,-0.9281710976792457,0.5036946030081555,-0.43453838988986104,-0.9682049615136412],\"yaxis\":\"y7\",\"type\":\"scatter\"},{\"line\":{\"color\":\"rgba(128, 128, 128, 1.0)\",\"dash\":\"solid\",\"shape\":\"linear\",\"width\":1.3},\"marker\":{\"size\":2,\"symbol\":\"circle\"},\"mode\":\"markers\",\"name\":\"B\",\"text\":\"\",\"x\":[-0.10716739297592093,0.9479447284269172,1.370449958759234,-0.3486615965666615,1.7595465505714352,1.2108974389734368,-0.2558252394530886,-0.3260742183018137,-1.0322519522885203,0.16297492715093576,-1.4054321746177054,-0.00698178770017601,2.061329468159568,0.9141131146417977,0.8540937334668862,-0.2863489155732238,-0.5347005786338509,0.890134217321711,-0.950323074305132,-0.13587532077936681,-0.12484544447554184,-0.9370911689176806,1.3146357722090332,-0.979263981063374,1.6873436206550463,0.025813178944782612,0.504914906087867,-0.6052362964597082,-1.066220133411954,1.1234871186905926,0.846274540328193,-1.0831796372168665,1.06996558045424,-0.5118601253884535,0.10609320920173515,0.535557285109827,-0.3984491458827878,0.05999073369188505,-0.0074878011174125784,0.4670072811114906,0.3457846756450776,-0.06540687218194201,0.3344504087283477,-0.36236153907488633,0.12095079414114726,-0.2864767074860481,-0.9504952195194385,-0.08660523507889167,-0.10925485119560914,-0.8138806328071769,-1.1545992931889217,0.9980930558710237,0.9183716149515965,0.6686252676065014,0.11654882546394174,0.7979385777603432,0.08313121585625391,-0.06228743418704124,1.6011316341757469,-0.3155469149620852,0.33716677390464384,0.7654842236614688,0.609143054712147,0.2542674371087768,0.38922056390307846,-1.3521129363192337,-0.4146807398899897,-0.6601327716673171,0.05342590961294951,0.03553851069847322,-0.05992784857539338,-1.046987014575927,0.619076819809439,-0.043419863957865255,-0.8376319917789405,-0.7475893747085525,-1.1474612757784273,-0.4437291270075998,0.7188952225519313,1.2749955498757781,0.6180104532009417,1.1040970559403493,-0.6904557848469052,0.9700683280446663,-2.615923999858738,0.20587985862580907,-1.2747922174592787,0.04425500071520386,-0.6111696155178268,-1.8934406758301399,0.3125770370371499,1.993201331082072,0.47292052826578557,1.758906521973015,1.2655394276257803,0.9414468603637745,0.7297611658319217,-0.29012638219263476,-0.581399645596098,0.7532369215612564],\"xaxis\":\"x8\",\"y\":[0.7580307738992594,-0.8625173585817463,-1.6366635579880784,-0.026788812721112613,0.23161175849466448,1.2199293002623273,-0.7827188654461145,-0.7798390650913686,-0.12947907683514331,1.0712209025603268,-1.6383769059706026,0.25328144466334795,1.742638202990484,-0.056327495806758165,0.9437057933647285,2.8831757257521318,-0.4852972323833704,-0.4567365046026048,1.751431838705155,-2.406015038199109,0.7666963809140104,0.5834452650619113,-0.8810627750669326,-0.036135506573511146,0.31705001021648394,-0.7061871317069055,-0.3159150502367156,0.08679183834852548,-0.8773079487843657,0.34059428566701344,1.0117894523788795,-1.4223713004706713,0.3673575618258237,0.7994209827176314,-1.1402490848522213,-0.3098259650285641,0.44816075628217805,0.49225862230469863,-0.3198429663090066,0.7535928972424636,0.4062231366911554,-1.08852071659089,1.1932699862276017,-0.046812403925451065,-0.6242289885758998,0.47350489169255794,1.3140622219608786,0.7095495168694461,0.9399012385745007,-0.5384307148443165,-0.40173779338780424,0.8825797641438177,0.6310546479945338,-1.4908672034369301,1.105551235508307,-1.0855229769921029,1.8267336788316682,-1.4570122535225705,1.0784279389579425,-0.23609493119741587,-1.4518345771106087,-0.936347192855875,-0.516520118557937,1.9069306637372558,1.662383470919966,0.9539323596162675,-1.4309045262582105,0.13734272360761482,0.9725589422670315,0.19749937583635072,0.74497483397035,0.13798664679425274,-0.15382944980659588,0.42496202557755824,0.9446417743242981,1.4187557504647668,0.6373039613528989,1.0420549704138093,0.7428217879179443,-0.5985146435300484,1.3981806462267188,-0.6561336730020627,-0.4070023977511638,-0.452667589405772,-0.20514059006008803,0.011753641259448565,0.18499711275591785,0.44806318398005307,-0.7264420958566794,0.2040679431299117,-1.001927548621951,-1.2416331719420421,-1.6536030828556114,0.04634236549350992,-0.4952910163578565,0.22935390509840975,-0.9281710976792457,0.5036946030081555,-0.43453838988986104,-0.9682049615136412],\"yaxis\":\"y8\",\"type\":\"scatter\"},{\"line\":{\"color\":\"rgba(128, 128, 128, 1.0)\",\"dash\":\"solid\",\"shape\":\"linear\",\"width\":1.3},\"marker\":{\"size\":2,\"symbol\":\"circle\"},\"mode\":\"markers\",\"name\":\"C\",\"text\":\"\",\"x\":[-0.6564744824764208,-0.44246018622678035,-1.4210529165487331,2.138912840106512,0.25578258692089706,0.39805143783044833,-0.12701603877964637,-0.7336425614675899,0.17166378867506915,0.2710840189785207,0.8534092997086261,-0.28423806801324436,0.680442831707899,1.0056126864042327,0.22345415383044398,1.3471504835508696,0.4868772969639054,-0.8560743163392702,0.2437582614308069,0.13615747280918256,1.7766279162229373,-0.047392212385020574,-1.478739271543873,0.6674437983342687,-1.0518729658163994,1.1450743950503413,0.45312446388413863,-2.247532593483744,-0.9380816730886774,0.5747550876841555,0.7445251795288704,-1.1397301094244776,-0.7330965447959531,0.0011163348157742902,-0.4384112915386252,-0.5103765163837336,0.2572701355520642,-0.2672705429298812,-0.3152386136033564,0.1641860318298152,-0.6148004002051985,0.07205002157098324,-2.3569799035568906,1.0536881549659127,0.026917841374375365,-1.5516053705251112,-0.37391562462327005,0.16636832151140332,2.1868099430258554,-0.41916960443056883,0.10496423203936313,0.6279926573009582,-0.6471640572249683,0.30945396871171144,-0.4692873864786442,-1.090176869362269,-0.4143546663277241,-0.9027350183105727,0.469359002390997,-1.4219684339163654,0.820847128917743,0.05483278813128337,1.2392518808560637,1.545366633263906,0.41934477765089295,0.8240554271196706,0.8649157101002072,-2.1965301978204814,0.3476863183989522,-0.12640063221688605,-1.1095799572682512,-0.7608133813357494,-2.2044745973693805,-2.0304273169011986,1.2711060359943978,0.13692317269969045,-0.0583827092739993,2.4115580112408193,-2.0777630091319015,0.9344928525053398,0.3953105866307476,-1.0128314490635355,1.3925168200064224,-0.2746806087720305,-0.15873804270543176,-1.2063378835963559,1.4659391526336598,0.7259062288360807,-0.018616086991251776,-1.0972073757865193,-1.0458427688984127,0.6742520113874113,-0.9688805187614103,-2.606590225991158,0.2665069685897831,0.08035808638610199,-1.019013237251515,-0.4491197717632893,0.9587565600232877,-1.2542926097550613],\"xaxis\":\"x9\",\"y\":[-0.42328414092118744,1.0353472703466378,-0.0294408149925103,-1.3080779107417164,0.25711409791473455,0.44151315445685657,-0.3195050000927743,-0.0782500400354517,0.3676051961488906,-0.2978329257209743,-0.2766171637298272,-0.24694369601875368,-0.10309387266580315,0.7002446278340115,0.6308102905466025,2.0903240423469898,-0.2317200157760494,-0.5234257695437491,1.8548080260680004,0.4462577324476635,0.16869572021215656,-0.2016134910168743,1.136302564871149,0.09046804222624254,0.09604573434310844,0.7101795501867115,-2.2211369990891976,0.9989208680144112,-1.9128529841297661,-0.23169876192442396,1.5039552670839198,0.07453974564807933,1.6458237555562663,-1.1306690961320491,1.8809855537953806,1.132954840145376,1.896604275133463,0.5134515307830606,0.24846752386668378,-1.2813358260908256,-1.010521716642204,-2.3311459813542825,-0.6680178594950927,-0.816257723324524,-0.31215073260909865,0.2896328233261768,-0.2942037452702574,-1.024219271919298,-1.401699272632873,-0.5209246285045438,0.7320320730304343,0.5283941356938554,-1.1817292342895411,-1.3859581339557363,0.8237850642318686,0.9257312630709252,-1.599339160178483,-2.161194784895461,0.6964050088817003,1.5000282089604031,0.08725442825022327,0.20878016257964457,0.05873282026572182,0.6161988103482395,1.834148373840194,-1.2540834843384059,0.6871027942149779,0.026056859698059952,-0.4923515756312518,-0.5927746585197166,1.3610770586776446,0.47391091683380754,-1.043306889443504,-0.9509116911101757,-1.259416192419341,0.9921273537989724,0.987622646571816,-1.3342156202755444,0.619427880375424,-1.6728984990220959,-0.2707463551132399,-1.2529502080559582,-0.7971115155360949,1.5541975949074123,-1.1773786977491547,0.5423811266351756,0.24605744005141958,0.6004666442151226,0.07809251506709225,0.2266454844784491,1.6991242708513101,0.06415258070870512,-1.0142989668442808,-0.2768891447723133,0.2815421718642755,-0.8970518215859872,-1.408365328601296,-0.7172290558737238,-0.9120682724390551,-0.3758549478690623],\"yaxis\":\"y9\",\"type\":\"scatter\"},{\"line\":{\"color\":\"rgba(128, 128, 128, 1.0)\",\"dash\":\"solid\",\"shape\":\"linear\",\"width\":1.3},\"marker\":{\"size\":2,\"symbol\":\"circle\"},\"mode\":\"markers\",\"name\":\"C\",\"text\":\"\",\"x\":[0.7580307738992594,-0.8625173585817463,-1.6366635579880784,-0.026788812721112613,0.23161175849466448,1.2199293002623273,-0.7827188654461145,-0.7798390650913686,-0.12947907683514331,1.0712209025603268,-1.6383769059706026,0.25328144466334795,1.742638202990484,-0.056327495806758165,0.9437057933647285,2.8831757257521318,-0.4852972323833704,-0.4567365046026048,1.751431838705155,-2.406015038199109,0.7666963809140104,0.5834452650619113,-0.8810627750669326,-0.036135506573511146,0.31705001021648394,-0.7061871317069055,-0.3159150502367156,0.08679183834852548,-0.8773079487843657,0.34059428566701344,1.0117894523788795,-1.4223713004706713,0.3673575618258237,0.7994209827176314,-1.1402490848522213,-0.3098259650285641,0.44816075628217805,0.49225862230469863,-0.3198429663090066,0.7535928972424636,0.4062231366911554,-1.08852071659089,1.1932699862276017,-0.046812403925451065,-0.6242289885758998,0.47350489169255794,1.3140622219608786,0.7095495168694461,0.9399012385745007,-0.5384307148443165,-0.40173779338780424,0.8825797641438177,0.6310546479945338,-1.4908672034369301,1.105551235508307,-1.0855229769921029,1.8267336788316682,-1.4570122535225705,1.0784279389579425,-0.23609493119741587,-1.4518345771106087,-0.936347192855875,-0.516520118557937,1.9069306637372558,1.662383470919966,0.9539323596162675,-1.4309045262582105,0.13734272360761482,0.9725589422670315,0.19749937583635072,0.74497483397035,0.13798664679425274,-0.15382944980659588,0.42496202557755824,0.9446417743242981,1.4187557504647668,0.6373039613528989,1.0420549704138093,0.7428217879179443,-0.5985146435300484,1.3981806462267188,-0.6561336730020627,-0.4070023977511638,-0.452667589405772,-0.20514059006008803,0.011753641259448565,0.18499711275591785,0.44806318398005307,-0.7264420958566794,0.2040679431299117,-1.001927548621951,-1.2416331719420421,-1.6536030828556114,0.04634236549350992,-0.4952910163578565,0.22935390509840975,-0.9281710976792457,0.5036946030081555,-0.43453838988986104,-0.9682049615136412],\"xaxis\":\"x10\",\"y\":[-0.42328414092118744,1.0353472703466378,-0.0294408149925103,-1.3080779107417164,0.25711409791473455,0.44151315445685657,-0.3195050000927743,-0.0782500400354517,0.3676051961488906,-0.2978329257209743,-0.2766171637298272,-0.24694369601875368,-0.10309387266580315,0.7002446278340115,0.6308102905466025,2.0903240423469898,-0.2317200157760494,-0.5234257695437491,1.8548080260680004,0.4462577324476635,0.16869572021215656,-0.2016134910168743,1.136302564871149,0.09046804222624254,0.09604573434310844,0.7101795501867115,-2.2211369990891976,0.9989208680144112,-1.9128529841297661,-0.23169876192442396,1.5039552670839198,0.07453974564807933,1.6458237555562663,-1.1306690961320491,1.8809855537953806,1.132954840145376,1.896604275133463,0.5134515307830606,0.24846752386668378,-1.2813358260908256,-1.010521716642204,-2.3311459813542825,-0.6680178594950927,-0.816257723324524,-0.31215073260909865,0.2896328233261768,-0.2942037452702574,-1.024219271919298,-1.401699272632873,-0.5209246285045438,0.7320320730304343,0.5283941356938554,-1.1817292342895411,-1.3859581339557363,0.8237850642318686,0.9257312630709252,-1.599339160178483,-2.161194784895461,0.6964050088817003,1.5000282089604031,0.08725442825022327,0.20878016257964457,0.05873282026572182,0.6161988103482395,1.834148373840194,-1.2540834843384059,0.6871027942149779,0.026056859698059952,-0.4923515756312518,-0.5927746585197166,1.3610770586776446,0.47391091683380754,-1.043306889443504,-0.9509116911101757,-1.259416192419341,0.9921273537989724,0.987622646571816,-1.3342156202755444,0.619427880375424,-1.6728984990220959,-0.2707463551132399,-1.2529502080559582,-0.7971115155360949,1.5541975949074123,-1.1773786977491547,0.5423811266351756,0.24605744005141958,0.6004666442151226,0.07809251506709225,0.2266454844784491,1.6991242708513101,0.06415258070870512,-1.0142989668442808,-0.2768891447723133,0.2815421718642755,-0.8970518215859872,-1.408365328601296,-0.7172290558737238,-0.9120682724390551,-0.3758549478690623],\"yaxis\":\"y10\",\"type\":\"scatter\"},{\"histfunc\":\"count\",\"histnorm\":\"\",\"marker\":{\"color\":\"rgba(50, 171, 96, 1.0)\",\"line\":{\"color\":\"#4D5663\",\"width\":1.3}},\"name\":\"C\",\"nbinsx\":10,\"opacity\":0.8,\"orientation\":\"v\",\"x\":[-0.42328414092118744,1.0353472703466378,-0.0294408149925103,-1.3080779107417164,0.25711409791473455,0.44151315445685657,-0.3195050000927743,-0.0782500400354517,0.3676051961488906,-0.2978329257209743,-0.2766171637298272,-0.24694369601875368,-0.10309387266580315,0.7002446278340115,0.6308102905466025,2.0903240423469898,-0.2317200157760494,-0.5234257695437491,1.8548080260680004,0.4462577324476635,0.16869572021215656,-0.2016134910168743,1.136302564871149,0.09046804222624254,0.09604573434310844,0.7101795501867115,-2.2211369990891976,0.9989208680144112,-1.9128529841297661,-0.23169876192442396,1.5039552670839198,0.07453974564807933,1.6458237555562663,-1.1306690961320491,1.8809855537953806,1.132954840145376,1.896604275133463,0.5134515307830606,0.24846752386668378,-1.2813358260908256,-1.010521716642204,-2.3311459813542825,-0.6680178594950927,-0.816257723324524,-0.31215073260909865,0.2896328233261768,-0.2942037452702574,-1.024219271919298,-1.401699272632873,-0.5209246285045438,0.7320320730304343,0.5283941356938554,-1.1817292342895411,-1.3859581339557363,0.8237850642318686,0.9257312630709252,-1.599339160178483,-2.161194784895461,0.6964050088817003,1.5000282089604031,0.08725442825022327,0.20878016257964457,0.05873282026572182,0.6161988103482395,1.834148373840194,-1.2540834843384059,0.6871027942149779,0.026056859698059952,-0.4923515756312518,-0.5927746585197166,1.3610770586776446,0.47391091683380754,-1.043306889443504,-0.9509116911101757,-1.259416192419341,0.9921273537989724,0.987622646571816,-1.3342156202755444,0.619427880375424,-1.6728984990220959,-0.2707463551132399,-1.2529502080559582,-0.7971115155360949,1.5541975949074123,-1.1773786977491547,0.5423811266351756,0.24605744005141958,0.6004666442151226,0.07809251506709225,0.2266454844784491,1.6991242708513101,0.06415258070870512,-1.0142989668442808,-0.2768891447723133,0.2815421718642755,-0.8970518215859872,-1.408365328601296,-0.7172290558737238,-0.9120682724390551,-0.3758549478690623],\"xaxis\":\"x11\",\"yaxis\":\"y11\",\"type\":\"histogram\"},{\"line\":{\"color\":\"rgba(128, 128, 128, 1.0)\",\"dash\":\"solid\",\"shape\":\"linear\",\"width\":1.3},\"marker\":{\"size\":2,\"symbol\":\"circle\"},\"mode\":\"markers\",\"name\":\"C\",\"text\":\"\",\"x\":[-0.10716739297592093,0.9479447284269172,1.370449958759234,-0.3486615965666615,1.7595465505714352,1.2108974389734368,-0.2558252394530886,-0.3260742183018137,-1.0322519522885203,0.16297492715093576,-1.4054321746177054,-0.00698178770017601,2.061329468159568,0.9141131146417977,0.8540937334668862,-0.2863489155732238,-0.5347005786338509,0.890134217321711,-0.950323074305132,-0.13587532077936681,-0.12484544447554184,-0.9370911689176806,1.3146357722090332,-0.979263981063374,1.6873436206550463,0.025813178944782612,0.504914906087867,-0.6052362964597082,-1.066220133411954,1.1234871186905926,0.846274540328193,-1.0831796372168665,1.06996558045424,-0.5118601253884535,0.10609320920173515,0.535557285109827,-0.3984491458827878,0.05999073369188505,-0.0074878011174125784,0.4670072811114906,0.3457846756450776,-0.06540687218194201,0.3344504087283477,-0.36236153907488633,0.12095079414114726,-0.2864767074860481,-0.9504952195194385,-0.08660523507889167,-0.10925485119560914,-0.8138806328071769,-1.1545992931889217,0.9980930558710237,0.9183716149515965,0.6686252676065014,0.11654882546394174,0.7979385777603432,0.08313121585625391,-0.06228743418704124,1.6011316341757469,-0.3155469149620852,0.33716677390464384,0.7654842236614688,0.609143054712147,0.2542674371087768,0.38922056390307846,-1.3521129363192337,-0.4146807398899897,-0.6601327716673171,0.05342590961294951,0.03553851069847322,-0.05992784857539338,-1.046987014575927,0.619076819809439,-0.043419863957865255,-0.8376319917789405,-0.7475893747085525,-1.1474612757784273,-0.4437291270075998,0.7188952225519313,1.2749955498757781,0.6180104532009417,1.1040970559403493,-0.6904557848469052,0.9700683280446663,-2.615923999858738,0.20587985862580907,-1.2747922174592787,0.04425500071520386,-0.6111696155178268,-1.8934406758301399,0.3125770370371499,1.993201331082072,0.47292052826578557,1.758906521973015,1.2655394276257803,0.9414468603637745,0.7297611658319217,-0.29012638219263476,-0.581399645596098,0.7532369215612564],\"xaxis\":\"x12\",\"y\":[-0.42328414092118744,1.0353472703466378,-0.0294408149925103,-1.3080779107417164,0.25711409791473455,0.44151315445685657,-0.3195050000927743,-0.0782500400354517,0.3676051961488906,-0.2978329257209743,-0.2766171637298272,-0.24694369601875368,-0.10309387266580315,0.7002446278340115,0.6308102905466025,2.0903240423469898,-0.2317200157760494,-0.5234257695437491,1.8548080260680004,0.4462577324476635,0.16869572021215656,-0.2016134910168743,1.136302564871149,0.09046804222624254,0.09604573434310844,0.7101795501867115,-2.2211369990891976,0.9989208680144112,-1.9128529841297661,-0.23169876192442396,1.5039552670839198,0.07453974564807933,1.6458237555562663,-1.1306690961320491,1.8809855537953806,1.132954840145376,1.896604275133463,0.5134515307830606,0.24846752386668378,-1.2813358260908256,-1.010521716642204,-2.3311459813542825,-0.6680178594950927,-0.816257723324524,-0.31215073260909865,0.2896328233261768,-0.2942037452702574,-1.024219271919298,-1.401699272632873,-0.5209246285045438,0.7320320730304343,0.5283941356938554,-1.1817292342895411,-1.3859581339557363,0.8237850642318686,0.9257312630709252,-1.599339160178483,-2.161194784895461,0.6964050088817003,1.5000282089604031,0.08725442825022327,0.20878016257964457,0.05873282026572182,0.6161988103482395,1.834148373840194,-1.2540834843384059,0.6871027942149779,0.026056859698059952,-0.4923515756312518,-0.5927746585197166,1.3610770586776446,0.47391091683380754,-1.043306889443504,-0.9509116911101757,-1.259416192419341,0.9921273537989724,0.987622646571816,-1.3342156202755444,0.619427880375424,-1.6728984990220959,-0.2707463551132399,-1.2529502080559582,-0.7971115155360949,1.5541975949074123,-1.1773786977491547,0.5423811266351756,0.24605744005141958,0.6004666442151226,0.07809251506709225,0.2266454844784491,1.6991242708513101,0.06415258070870512,-1.0142989668442808,-0.2768891447723133,0.2815421718642755,-0.8970518215859872,-1.408365328601296,-0.7172290558737238,-0.9120682724390551,-0.3758549478690623],\"yaxis\":\"y12\",\"type\":\"scatter\"},{\"line\":{\"color\":\"rgba(128, 128, 128, 1.0)\",\"dash\":\"solid\",\"shape\":\"linear\",\"width\":1.3},\"marker\":{\"size\":2,\"symbol\":\"circle\"},\"mode\":\"markers\",\"name\":\"D\",\"text\":\"\",\"x\":[-0.6564744824764208,-0.44246018622678035,-1.4210529165487331,2.138912840106512,0.25578258692089706,0.39805143783044833,-0.12701603877964637,-0.7336425614675899,0.17166378867506915,0.2710840189785207,0.8534092997086261,-0.28423806801324436,0.680442831707899,1.0056126864042327,0.22345415383044398,1.3471504835508696,0.4868772969639054,-0.8560743163392702,0.2437582614308069,0.13615747280918256,1.7766279162229373,-0.047392212385020574,-1.478739271543873,0.6674437983342687,-1.0518729658163994,1.1450743950503413,0.45312446388413863,-2.247532593483744,-0.9380816730886774,0.5747550876841555,0.7445251795288704,-1.1397301094244776,-0.7330965447959531,0.0011163348157742902,-0.4384112915386252,-0.5103765163837336,0.2572701355520642,-0.2672705429298812,-0.3152386136033564,0.1641860318298152,-0.6148004002051985,0.07205002157098324,-2.3569799035568906,1.0536881549659127,0.026917841374375365,-1.5516053705251112,-0.37391562462327005,0.16636832151140332,2.1868099430258554,-0.41916960443056883,0.10496423203936313,0.6279926573009582,-0.6471640572249683,0.30945396871171144,-0.4692873864786442,-1.090176869362269,-0.4143546663277241,-0.9027350183105727,0.469359002390997,-1.4219684339163654,0.820847128917743,0.05483278813128337,1.2392518808560637,1.545366633263906,0.41934477765089295,0.8240554271196706,0.8649157101002072,-2.1965301978204814,0.3476863183989522,-0.12640063221688605,-1.1095799572682512,-0.7608133813357494,-2.2044745973693805,-2.0304273169011986,1.2711060359943978,0.13692317269969045,-0.0583827092739993,2.4115580112408193,-2.0777630091319015,0.9344928525053398,0.3953105866307476,-1.0128314490635355,1.3925168200064224,-0.2746806087720305,-0.15873804270543176,-1.2063378835963559,1.4659391526336598,0.7259062288360807,-0.018616086991251776,-1.0972073757865193,-1.0458427688984127,0.6742520113874113,-0.9688805187614103,-2.606590225991158,0.2665069685897831,0.08035808638610199,-1.019013237251515,-0.4491197717632893,0.9587565600232877,-1.2542926097550613],\"xaxis\":\"x13\",\"y\":[-0.10716739297592093,0.9479447284269172,1.370449958759234,-0.3486615965666615,1.7595465505714352,1.2108974389734368,-0.2558252394530886,-0.3260742183018137,-1.0322519522885203,0.16297492715093576,-1.4054321746177054,-0.00698178770017601,2.061329468159568,0.9141131146417977,0.8540937334668862,-0.2863489155732238,-0.5347005786338509,0.890134217321711,-0.950323074305132,-0.13587532077936681,-0.12484544447554184,-0.9370911689176806,1.3146357722090332,-0.979263981063374,1.6873436206550463,0.025813178944782612,0.504914906087867,-0.6052362964597082,-1.066220133411954,1.1234871186905926,0.846274540328193,-1.0831796372168665,1.06996558045424,-0.5118601253884535,0.10609320920173515,0.535557285109827,-0.3984491458827878,0.05999073369188505,-0.0074878011174125784,0.4670072811114906,0.3457846756450776,-0.06540687218194201,0.3344504087283477,-0.36236153907488633,0.12095079414114726,-0.2864767074860481,-0.9504952195194385,-0.08660523507889167,-0.10925485119560914,-0.8138806328071769,-1.1545992931889217,0.9980930558710237,0.9183716149515965,0.6686252676065014,0.11654882546394174,0.7979385777603432,0.08313121585625391,-0.06228743418704124,1.6011316341757469,-0.3155469149620852,0.33716677390464384,0.7654842236614688,0.609143054712147,0.2542674371087768,0.38922056390307846,-1.3521129363192337,-0.4146807398899897,-0.6601327716673171,0.05342590961294951,0.03553851069847322,-0.05992784857539338,-1.046987014575927,0.619076819809439,-0.043419863957865255,-0.8376319917789405,-0.7475893747085525,-1.1474612757784273,-0.4437291270075998,0.7188952225519313,1.2749955498757781,0.6180104532009417,1.1040970559403493,-0.6904557848469052,0.9700683280446663,-2.615923999858738,0.20587985862580907,-1.2747922174592787,0.04425500071520386,-0.6111696155178268,-1.8934406758301399,0.3125770370371499,1.993201331082072,0.47292052826578557,1.758906521973015,1.2655394276257803,0.9414468603637745,0.7297611658319217,-0.29012638219263476,-0.581399645596098,0.7532369215612564],\"yaxis\":\"y13\",\"type\":\"scatter\"},{\"line\":{\"color\":\"rgba(128, 128, 128, 1.0)\",\"dash\":\"solid\",\"shape\":\"linear\",\"width\":1.3},\"marker\":{\"size\":2,\"symbol\":\"circle\"},\"mode\":\"markers\",\"name\":\"D\",\"text\":\"\",\"x\":[0.7580307738992594,-0.8625173585817463,-1.6366635579880784,-0.026788812721112613,0.23161175849466448,1.2199293002623273,-0.7827188654461145,-0.7798390650913686,-0.12947907683514331,1.0712209025603268,-1.6383769059706026,0.25328144466334795,1.742638202990484,-0.056327495806758165,0.9437057933647285,2.8831757257521318,-0.4852972323833704,-0.4567365046026048,1.751431838705155,-2.406015038199109,0.7666963809140104,0.5834452650619113,-0.8810627750669326,-0.036135506573511146,0.31705001021648394,-0.7061871317069055,-0.3159150502367156,0.08679183834852548,-0.8773079487843657,0.34059428566701344,1.0117894523788795,-1.4223713004706713,0.3673575618258237,0.7994209827176314,-1.1402490848522213,-0.3098259650285641,0.44816075628217805,0.49225862230469863,-0.3198429663090066,0.7535928972424636,0.4062231366911554,-1.08852071659089,1.1932699862276017,-0.046812403925451065,-0.6242289885758998,0.47350489169255794,1.3140622219608786,0.7095495168694461,0.9399012385745007,-0.5384307148443165,-0.40173779338780424,0.8825797641438177,0.6310546479945338,-1.4908672034369301,1.105551235508307,-1.0855229769921029,1.8267336788316682,-1.4570122535225705,1.0784279389579425,-0.23609493119741587,-1.4518345771106087,-0.936347192855875,-0.516520118557937,1.9069306637372558,1.662383470919966,0.9539323596162675,-1.4309045262582105,0.13734272360761482,0.9725589422670315,0.19749937583635072,0.74497483397035,0.13798664679425274,-0.15382944980659588,0.42496202557755824,0.9446417743242981,1.4187557504647668,0.6373039613528989,1.0420549704138093,0.7428217879179443,-0.5985146435300484,1.3981806462267188,-0.6561336730020627,-0.4070023977511638,-0.452667589405772,-0.20514059006008803,0.011753641259448565,0.18499711275591785,0.44806318398005307,-0.7264420958566794,0.2040679431299117,-1.001927548621951,-1.2416331719420421,-1.6536030828556114,0.04634236549350992,-0.4952910163578565,0.22935390509840975,-0.9281710976792457,0.5036946030081555,-0.43453838988986104,-0.9682049615136412],\"xaxis\":\"x14\",\"y\":[-0.10716739297592093,0.9479447284269172,1.370449958759234,-0.3486615965666615,1.7595465505714352,1.2108974389734368,-0.2558252394530886,-0.3260742183018137,-1.0322519522885203,0.16297492715093576,-1.4054321746177054,-0.00698178770017601,2.061329468159568,0.9141131146417977,0.8540937334668862,-0.2863489155732238,-0.5347005786338509,0.890134217321711,-0.950323074305132,-0.13587532077936681,-0.12484544447554184,-0.9370911689176806,1.3146357722090332,-0.979263981063374,1.6873436206550463,0.025813178944782612,0.504914906087867,-0.6052362964597082,-1.066220133411954,1.1234871186905926,0.846274540328193,-1.0831796372168665,1.06996558045424,-0.5118601253884535,0.10609320920173515,0.535557285109827,-0.3984491458827878,0.05999073369188505,-0.0074878011174125784,0.4670072811114906,0.3457846756450776,-0.06540687218194201,0.3344504087283477,-0.36236153907488633,0.12095079414114726,-0.2864767074860481,-0.9504952195194385,-0.08660523507889167,-0.10925485119560914,-0.8138806328071769,-1.1545992931889217,0.9980930558710237,0.9183716149515965,0.6686252676065014,0.11654882546394174,0.7979385777603432,0.08313121585625391,-0.06228743418704124,1.6011316341757469,-0.3155469149620852,0.33716677390464384,0.7654842236614688,0.609143054712147,0.2542674371087768,0.38922056390307846,-1.3521129363192337,-0.4146807398899897,-0.6601327716673171,0.05342590961294951,0.03553851069847322,-0.05992784857539338,-1.046987014575927,0.619076819809439,-0.043419863957865255,-0.8376319917789405,-0.7475893747085525,-1.1474612757784273,-0.4437291270075998,0.7188952225519313,1.2749955498757781,0.6180104532009417,1.1040970559403493,-0.6904557848469052,0.9700683280446663,-2.615923999858738,0.20587985862580907,-1.2747922174592787,0.04425500071520386,-0.6111696155178268,-1.8934406758301399,0.3125770370371499,1.993201331082072,0.47292052826578557,1.758906521973015,1.2655394276257803,0.9414468603637745,0.7297611658319217,-0.29012638219263476,-0.581399645596098,0.7532369215612564],\"yaxis\":\"y14\",\"type\":\"scatter\"},{\"line\":{\"color\":\"rgba(128, 128, 128, 1.0)\",\"dash\":\"solid\",\"shape\":\"linear\",\"width\":1.3},\"marker\":{\"size\":2,\"symbol\":\"circle\"},\"mode\":\"markers\",\"name\":\"D\",\"text\":\"\",\"x\":[-0.42328414092118744,1.0353472703466378,-0.0294408149925103,-1.3080779107417164,0.25711409791473455,0.44151315445685657,-0.3195050000927743,-0.0782500400354517,0.3676051961488906,-0.2978329257209743,-0.2766171637298272,-0.24694369601875368,-0.10309387266580315,0.7002446278340115,0.6308102905466025,2.0903240423469898,-0.2317200157760494,-0.5234257695437491,1.8548080260680004,0.4462577324476635,0.16869572021215656,-0.2016134910168743,1.136302564871149,0.09046804222624254,0.09604573434310844,0.7101795501867115,-2.2211369990891976,0.9989208680144112,-1.9128529841297661,-0.23169876192442396,1.5039552670839198,0.07453974564807933,1.6458237555562663,-1.1306690961320491,1.8809855537953806,1.132954840145376,1.896604275133463,0.5134515307830606,0.24846752386668378,-1.2813358260908256,-1.010521716642204,-2.3311459813542825,-0.6680178594950927,-0.816257723324524,-0.31215073260909865,0.2896328233261768,-0.2942037452702574,-1.024219271919298,-1.401699272632873,-0.5209246285045438,0.7320320730304343,0.5283941356938554,-1.1817292342895411,-1.3859581339557363,0.8237850642318686,0.9257312630709252,-1.599339160178483,-2.161194784895461,0.6964050088817003,1.5000282089604031,0.08725442825022327,0.20878016257964457,0.05873282026572182,0.6161988103482395,1.834148373840194,-1.2540834843384059,0.6871027942149779,0.026056859698059952,-0.4923515756312518,-0.5927746585197166,1.3610770586776446,0.47391091683380754,-1.043306889443504,-0.9509116911101757,-1.259416192419341,0.9921273537989724,0.987622646571816,-1.3342156202755444,0.619427880375424,-1.6728984990220959,-0.2707463551132399,-1.2529502080559582,-0.7971115155360949,1.5541975949074123,-1.1773786977491547,0.5423811266351756,0.24605744005141958,0.6004666442151226,0.07809251506709225,0.2266454844784491,1.6991242708513101,0.06415258070870512,-1.0142989668442808,-0.2768891447723133,0.2815421718642755,-0.8970518215859872,-1.408365328601296,-0.7172290558737238,-0.9120682724390551,-0.3758549478690623],\"xaxis\":\"x15\",\"y\":[-0.10716739297592093,0.9479447284269172,1.370449958759234,-0.3486615965666615,1.7595465505714352,1.2108974389734368,-0.2558252394530886,-0.3260742183018137,-1.0322519522885203,0.16297492715093576,-1.4054321746177054,-0.00698178770017601,2.061329468159568,0.9141131146417977,0.8540937334668862,-0.2863489155732238,-0.5347005786338509,0.890134217321711,-0.950323074305132,-0.13587532077936681,-0.12484544447554184,-0.9370911689176806,1.3146357722090332,-0.979263981063374,1.6873436206550463,0.025813178944782612,0.504914906087867,-0.6052362964597082,-1.066220133411954,1.1234871186905926,0.846274540328193,-1.0831796372168665,1.06996558045424,-0.5118601253884535,0.10609320920173515,0.535557285109827,-0.3984491458827878,0.05999073369188505,-0.0074878011174125784,0.4670072811114906,0.3457846756450776,-0.06540687218194201,0.3344504087283477,-0.36236153907488633,0.12095079414114726,-0.2864767074860481,-0.9504952195194385,-0.08660523507889167,-0.10925485119560914,-0.8138806328071769,-1.1545992931889217,0.9980930558710237,0.9183716149515965,0.6686252676065014,0.11654882546394174,0.7979385777603432,0.08313121585625391,-0.06228743418704124,1.6011316341757469,-0.3155469149620852,0.33716677390464384,0.7654842236614688,0.609143054712147,0.2542674371087768,0.38922056390307846,-1.3521129363192337,-0.4146807398899897,-0.6601327716673171,0.05342590961294951,0.03553851069847322,-0.05992784857539338,-1.046987014575927,0.619076819809439,-0.043419863957865255,-0.8376319917789405,-0.7475893747085525,-1.1474612757784273,-0.4437291270075998,0.7188952225519313,1.2749955498757781,0.6180104532009417,1.1040970559403493,-0.6904557848469052,0.9700683280446663,-2.615923999858738,0.20587985862580907,-1.2747922174592787,0.04425500071520386,-0.6111696155178268,-1.8934406758301399,0.3125770370371499,1.993201331082072,0.47292052826578557,1.758906521973015,1.2655394276257803,0.9414468603637745,0.7297611658319217,-0.29012638219263476,-0.581399645596098,0.7532369215612564],\"yaxis\":\"y15\",\"type\":\"scatter\"},{\"histfunc\":\"count\",\"histnorm\":\"\",\"marker\":{\"color\":\"rgba(128, 0, 128, 1.0)\",\"line\":{\"color\":\"#4D5663\",\"width\":1.3}},\"name\":\"D\",\"nbinsx\":10,\"opacity\":0.8,\"orientation\":\"v\",\"x\":[-0.10716739297592093,0.9479447284269172,1.370449958759234,-0.3486615965666615,1.7595465505714352,1.2108974389734368,-0.2558252394530886,-0.3260742183018137,-1.0322519522885203,0.16297492715093576,-1.4054321746177054,-0.00698178770017601,2.061329468159568,0.9141131146417977,0.8540937334668862,-0.2863489155732238,-0.5347005786338509,0.890134217321711,-0.950323074305132,-0.13587532077936681,-0.12484544447554184,-0.9370911689176806,1.3146357722090332,-0.979263981063374,1.6873436206550463,0.025813178944782612,0.504914906087867,-0.6052362964597082,-1.066220133411954,1.1234871186905926,0.846274540328193,-1.0831796372168665,1.06996558045424,-0.5118601253884535,0.10609320920173515,0.535557285109827,-0.3984491458827878,0.05999073369188505,-0.0074878011174125784,0.4670072811114906,0.3457846756450776,-0.06540687218194201,0.3344504087283477,-0.36236153907488633,0.12095079414114726,-0.2864767074860481,-0.9504952195194385,-0.08660523507889167,-0.10925485119560914,-0.8138806328071769,-1.1545992931889217,0.9980930558710237,0.9183716149515965,0.6686252676065014,0.11654882546394174,0.7979385777603432,0.08313121585625391,-0.06228743418704124,1.6011316341757469,-0.3155469149620852,0.33716677390464384,0.7654842236614688,0.609143054712147,0.2542674371087768,0.38922056390307846,-1.3521129363192337,-0.4146807398899897,-0.6601327716673171,0.05342590961294951,0.03553851069847322,-0.05992784857539338,-1.046987014575927,0.619076819809439,-0.043419863957865255,-0.8376319917789405,-0.7475893747085525,-1.1474612757784273,-0.4437291270075998,0.7188952225519313,1.2749955498757781,0.6180104532009417,1.1040970559403493,-0.6904557848469052,0.9700683280446663,-2.615923999858738,0.20587985862580907,-1.2747922174592787,0.04425500071520386,-0.6111696155178268,-1.8934406758301399,0.3125770370371499,1.993201331082072,0.47292052826578557,1.758906521973015,1.2655394276257803,0.9414468603637745,0.7297611658319217,-0.29012638219263476,-0.581399645596098,0.7532369215612564],\"xaxis\":\"x16\",\"yaxis\":\"y16\",\"type\":\"histogram\"}],                        {\"bargap\":0.02,\"legend\":{\"bgcolor\":\"#F5F6F9\",\"font\":{\"color\":\"#4D5663\"}},\"paper_bgcolor\":\"#F5F6F9\",\"plot_bgcolor\":\"#F5F6F9\",\"showlegend\":false,\"template\":{\"data\":{\"barpolar\":[{\"marker\":{\"line\":{\"color\":\"#E5ECF6\",\"width\":0.5},\"pattern\":{\"fillmode\":\"overlay\",\"size\":10,\"solidity\":0.2}},\"type\":\"barpolar\"}],\"bar\":[{\"error_x\":{\"color\":\"#2a3f5f\"},\"error_y\":{\"color\":\"#2a3f5f\"},\"marker\":{\"line\":{\"color\":\"#E5ECF6\",\"width\":0.5},\"pattern\":{\"fillmode\":\"overlay\",\"size\":10,\"solidity\":0.2}},\"type\":\"bar\"}],\"carpet\":[{\"aaxis\":{\"endlinecolor\":\"#2a3f5f\",\"gridcolor\":\"white\",\"linecolor\":\"white\",\"minorgridcolor\":\"white\",\"startlinecolor\":\"#2a3f5f\"},\"baxis\":{\"endlinecolor\":\"#2a3f5f\",\"gridcolor\":\"white\",\"linecolor\":\"white\",\"minorgridcolor\":\"white\",\"startlinecolor\":\"#2a3f5f\"},\"type\":\"carpet\"}],\"choropleth\":[{\"colorbar\":{\"outlinewidth\":0,\"ticks\":\"\"},\"type\":\"choropleth\"}],\"contourcarpet\":[{\"colorbar\":{\"outlinewidth\":0,\"ticks\":\"\"},\"type\":\"contourcarpet\"}],\"contour\":[{\"colorbar\":{\"outlinewidth\":0,\"ticks\":\"\"},\"colorscale\":[[0.0,\"#0d0887\"],[0.1111111111111111,\"#46039f\"],[0.2222222222222222,\"#7201a8\"],[0.3333333333333333,\"#9c179e\"],[0.4444444444444444,\"#bd3786\"],[0.5555555555555556,\"#d8576b\"],[0.6666666666666666,\"#ed7953\"],[0.7777777777777778,\"#fb9f3a\"],[0.8888888888888888,\"#fdca26\"],[1.0,\"#f0f921\"]],\"type\":\"contour\"}],\"heatmapgl\":[{\"colorbar\":{\"outlinewidth\":0,\"ticks\":\"\"},\"colorscale\":[[0.0,\"#0d0887\"],[0.1111111111111111,\"#46039f\"],[0.2222222222222222,\"#7201a8\"],[0.3333333333333333,\"#9c179e\"],[0.4444444444444444,\"#bd3786\"],[0.5555555555555556,\"#d8576b\"],[0.6666666666666666,\"#ed7953\"],[0.7777777777777778,\"#fb9f3a\"],[0.8888888888888888,\"#fdca26\"],[1.0,\"#f0f921\"]],\"type\":\"heatmapgl\"}],\"heatmap\":[{\"colorbar\":{\"outlinewidth\":0,\"ticks\":\"\"},\"colorscale\":[[0.0,\"#0d0887\"],[0.1111111111111111,\"#46039f\"],[0.2222222222222222,\"#7201a8\"],[0.3333333333333333,\"#9c179e\"],[0.4444444444444444,\"#bd3786\"],[0.5555555555555556,\"#d8576b\"],[0.6666666666666666,\"#ed7953\"],[0.7777777777777778,\"#fb9f3a\"],[0.8888888888888888,\"#fdca26\"],[1.0,\"#f0f921\"]],\"type\":\"heatmap\"}],\"histogram2dcontour\":[{\"colorbar\":{\"outlinewidth\":0,\"ticks\":\"\"},\"colorscale\":[[0.0,\"#0d0887\"],[0.1111111111111111,\"#46039f\"],[0.2222222222222222,\"#7201a8\"],[0.3333333333333333,\"#9c179e\"],[0.4444444444444444,\"#bd3786\"],[0.5555555555555556,\"#d8576b\"],[0.6666666666666666,\"#ed7953\"],[0.7777777777777778,\"#fb9f3a\"],[0.8888888888888888,\"#fdca26\"],[1.0,\"#f0f921\"]],\"type\":\"histogram2dcontour\"}],\"histogram2d\":[{\"colorbar\":{\"outlinewidth\":0,\"ticks\":\"\"},\"colorscale\":[[0.0,\"#0d0887\"],[0.1111111111111111,\"#46039f\"],[0.2222222222222222,\"#7201a8\"],[0.3333333333333333,\"#9c179e\"],[0.4444444444444444,\"#bd3786\"],[0.5555555555555556,\"#d8576b\"],[0.6666666666666666,\"#ed7953\"],[0.7777777777777778,\"#fb9f3a\"],[0.8888888888888888,\"#fdca26\"],[1.0,\"#f0f921\"]],\"type\":\"histogram2d\"}],\"histogram\":[{\"marker\":{\"pattern\":{\"fillmode\":\"overlay\",\"size\":10,\"solidity\":0.2}},\"type\":\"histogram\"}],\"mesh3d\":[{\"colorbar\":{\"outlinewidth\":0,\"ticks\":\"\"},\"type\":\"mesh3d\"}],\"parcoords\":[{\"line\":{\"colorbar\":{\"outlinewidth\":0,\"ticks\":\"\"}},\"type\":\"parcoords\"}],\"pie\":[{\"automargin\":true,\"type\":\"pie\"}],\"scatter3d\":[{\"line\":{\"colorbar\":{\"outlinewidth\":0,\"ticks\":\"\"}},\"marker\":{\"colorbar\":{\"outlinewidth\":0,\"ticks\":\"\"}},\"type\":\"scatter3d\"}],\"scattercarpet\":[{\"marker\":{\"colorbar\":{\"outlinewidth\":0,\"ticks\":\"\"}},\"type\":\"scattercarpet\"}],\"scattergeo\":[{\"marker\":{\"colorbar\":{\"outlinewidth\":0,\"ticks\":\"\"}},\"type\":\"scattergeo\"}],\"scattergl\":[{\"marker\":{\"colorbar\":{\"outlinewidth\":0,\"ticks\":\"\"}},\"type\":\"scattergl\"}],\"scattermapbox\":[{\"marker\":{\"colorbar\":{\"outlinewidth\":0,\"ticks\":\"\"}},\"type\":\"scattermapbox\"}],\"scatterpolargl\":[{\"marker\":{\"colorbar\":{\"outlinewidth\":0,\"ticks\":\"\"}},\"type\":\"scatterpolargl\"}],\"scatterpolar\":[{\"marker\":{\"colorbar\":{\"outlinewidth\":0,\"ticks\":\"\"}},\"type\":\"scatterpolar\"}],\"scatter\":[{\"marker\":{\"colorbar\":{\"outlinewidth\":0,\"ticks\":\"\"}},\"type\":\"scatter\"}],\"scatterternary\":[{\"marker\":{\"colorbar\":{\"outlinewidth\":0,\"ticks\":\"\"}},\"type\":\"scatterternary\"}],\"surface\":[{\"colorbar\":{\"outlinewidth\":0,\"ticks\":\"\"},\"colorscale\":[[0.0,\"#0d0887\"],[0.1111111111111111,\"#46039f\"],[0.2222222222222222,\"#7201a8\"],[0.3333333333333333,\"#9c179e\"],[0.4444444444444444,\"#bd3786\"],[0.5555555555555556,\"#d8576b\"],[0.6666666666666666,\"#ed7953\"],[0.7777777777777778,\"#fb9f3a\"],[0.8888888888888888,\"#fdca26\"],[1.0,\"#f0f921\"]],\"type\":\"surface\"}],\"table\":[{\"cells\":{\"fill\":{\"color\":\"#EBF0F8\"},\"line\":{\"color\":\"white\"}},\"header\":{\"fill\":{\"color\":\"#C8D4E3\"},\"line\":{\"color\":\"white\"}},\"type\":\"table\"}]},\"layout\":{\"annotationdefaults\":{\"arrowcolor\":\"#2a3f5f\",\"arrowhead\":0,\"arrowwidth\":1},\"autotypenumbers\":\"strict\",\"coloraxis\":{\"colorbar\":{\"outlinewidth\":0,\"ticks\":\"\"}},\"colorscale\":{\"diverging\":[[0,\"#8e0152\"],[0.1,\"#c51b7d\"],[0.2,\"#de77ae\"],[0.3,\"#f1b6da\"],[0.4,\"#fde0ef\"],[0.5,\"#f7f7f7\"],[0.6,\"#e6f5d0\"],[0.7,\"#b8e186\"],[0.8,\"#7fbc41\"],[0.9,\"#4d9221\"],[1,\"#276419\"]],\"sequential\":[[0.0,\"#0d0887\"],[0.1111111111111111,\"#46039f\"],[0.2222222222222222,\"#7201a8\"],[0.3333333333333333,\"#9c179e\"],[0.4444444444444444,\"#bd3786\"],[0.5555555555555556,\"#d8576b\"],[0.6666666666666666,\"#ed7953\"],[0.7777777777777778,\"#fb9f3a\"],[0.8888888888888888,\"#fdca26\"],[1.0,\"#f0f921\"]],\"sequentialminus\":[[0.0,\"#0d0887\"],[0.1111111111111111,\"#46039f\"],[0.2222222222222222,\"#7201a8\"],[0.3333333333333333,\"#9c179e\"],[0.4444444444444444,\"#bd3786\"],[0.5555555555555556,\"#d8576b\"],[0.6666666666666666,\"#ed7953\"],[0.7777777777777778,\"#fb9f3a\"],[0.8888888888888888,\"#fdca26\"],[1.0,\"#f0f921\"]]},\"colorway\":[\"#636efa\",\"#EF553B\",\"#00cc96\",\"#ab63fa\",\"#FFA15A\",\"#19d3f3\",\"#FF6692\",\"#B6E880\",\"#FF97FF\",\"#FECB52\"],\"font\":{\"color\":\"#2a3f5f\"},\"geo\":{\"bgcolor\":\"white\",\"lakecolor\":\"white\",\"landcolor\":\"#E5ECF6\",\"showlakes\":true,\"showland\":true,\"subunitcolor\":\"white\"},\"hoverlabel\":{\"align\":\"left\"},\"hovermode\":\"closest\",\"mapbox\":{\"style\":\"light\"},\"paper_bgcolor\":\"white\",\"plot_bgcolor\":\"#E5ECF6\",\"polar\":{\"angularaxis\":{\"gridcolor\":\"white\",\"linecolor\":\"white\",\"ticks\":\"\"},\"bgcolor\":\"#E5ECF6\",\"radialaxis\":{\"gridcolor\":\"white\",\"linecolor\":\"white\",\"ticks\":\"\"}},\"scene\":{\"xaxis\":{\"backgroundcolor\":\"#E5ECF6\",\"gridcolor\":\"white\",\"gridwidth\":2,\"linecolor\":\"white\",\"showbackground\":true,\"ticks\":\"\",\"zerolinecolor\":\"white\"},\"yaxis\":{\"backgroundcolor\":\"#E5ECF6\",\"gridcolor\":\"white\",\"gridwidth\":2,\"linecolor\":\"white\",\"showbackground\":true,\"ticks\":\"\",\"zerolinecolor\":\"white\"},\"zaxis\":{\"backgroundcolor\":\"#E5ECF6\",\"gridcolor\":\"white\",\"gridwidth\":2,\"linecolor\":\"white\",\"showbackground\":true,\"ticks\":\"\",\"zerolinecolor\":\"white\"}},\"shapedefaults\":{\"line\":{\"color\":\"#2a3f5f\"}},\"ternary\":{\"aaxis\":{\"gridcolor\":\"white\",\"linecolor\":\"white\",\"ticks\":\"\"},\"baxis\":{\"gridcolor\":\"white\",\"linecolor\":\"white\",\"ticks\":\"\"},\"bgcolor\":\"#E5ECF6\",\"caxis\":{\"gridcolor\":\"white\",\"linecolor\":\"white\",\"ticks\":\"\"}},\"title\":{\"x\":0.05},\"xaxis\":{\"automargin\":true,\"gridcolor\":\"white\",\"linecolor\":\"white\",\"ticks\":\"\",\"title\":{\"standoff\":15},\"zerolinecolor\":\"white\",\"zerolinewidth\":2},\"yaxis\":{\"automargin\":true,\"gridcolor\":\"white\",\"linecolor\":\"white\",\"ticks\":\"\",\"title\":{\"standoff\":15},\"zerolinecolor\":\"white\",\"zerolinewidth\":2}}},\"title\":{\"font\":{\"color\":\"#4D5663\"}},\"xaxis\":{\"anchor\":\"y\",\"domain\":[0.0,0.2125],\"gridcolor\":\"#E1E5ED\",\"showgrid\":false,\"tickfont\":{\"color\":\"#4D5663\"},\"title\":{\"font\":{\"color\":\"#4D5663\"},\"text\":\"\"},\"zerolinecolor\":\"#E1E5ED\"},\"yaxis\":{\"anchor\":\"x\",\"domain\":[0.8025,1.0],\"gridcolor\":\"#E1E5ED\",\"showgrid\":false,\"tickfont\":{\"color\":\"#4D5663\"},\"title\":{\"font\":{\"color\":\"#4D5663\"},\"text\":\"\"},\"zerolinecolor\":\"#E1E5ED\"},\"xaxis2\":{\"anchor\":\"y2\",\"domain\":[0.2625,0.475],\"gridcolor\":\"#E1E5ED\",\"showgrid\":false,\"tickfont\":{\"color\":\"#4D5663\"},\"title\":{\"font\":{\"color\":\"#4D5663\"},\"text\":\"\"},\"zerolinecolor\":\"#E1E5ED\"},\"yaxis2\":{\"anchor\":\"x2\",\"domain\":[0.8025,1.0],\"gridcolor\":\"#E1E5ED\",\"showgrid\":false,\"tickfont\":{\"color\":\"#4D5663\"},\"title\":{\"font\":{\"color\":\"#4D5663\"},\"text\":\"\"},\"zerolinecolor\":\"#E1E5ED\"},\"xaxis3\":{\"anchor\":\"y3\",\"domain\":[0.525,0.7375],\"gridcolor\":\"#E1E5ED\",\"showgrid\":false,\"tickfont\":{\"color\":\"#4D5663\"},\"title\":{\"font\":{\"color\":\"#4D5663\"},\"text\":\"\"},\"zerolinecolor\":\"#E1E5ED\"},\"yaxis3\":{\"anchor\":\"x3\",\"domain\":[0.8025,1.0],\"gridcolor\":\"#E1E5ED\",\"showgrid\":false,\"tickfont\":{\"color\":\"#4D5663\"},\"title\":{\"font\":{\"color\":\"#4D5663\"},\"text\":\"\"},\"zerolinecolor\":\"#E1E5ED\"},\"xaxis4\":{\"anchor\":\"y4\",\"domain\":[0.7875,1.0],\"gridcolor\":\"#E1E5ED\",\"showgrid\":false,\"tickfont\":{\"color\":\"#4D5663\"},\"title\":{\"font\":{\"color\":\"#4D5663\"},\"text\":\"\"},\"zerolinecolor\":\"#E1E5ED\"},\"yaxis4\":{\"anchor\":\"x4\",\"domain\":[0.8025,1.0],\"gridcolor\":\"#E1E5ED\",\"showgrid\":false,\"tickfont\":{\"color\":\"#4D5663\"},\"title\":{\"font\":{\"color\":\"#4D5663\"},\"text\":\"\"},\"zerolinecolor\":\"#E1E5ED\"},\"xaxis5\":{\"anchor\":\"y5\",\"domain\":[0.0,0.2125],\"gridcolor\":\"#E1E5ED\",\"showgrid\":false,\"tickfont\":{\"color\":\"#4D5663\"},\"title\":{\"font\":{\"color\":\"#4D5663\"},\"text\":\"\"},\"zerolinecolor\":\"#E1E5ED\"},\"yaxis5\":{\"anchor\":\"x5\",\"domain\":[0.535,0.7325],\"gridcolor\":\"#E1E5ED\",\"showgrid\":false,\"tickfont\":{\"color\":\"#4D5663\"},\"title\":{\"font\":{\"color\":\"#4D5663\"},\"text\":\"\"},\"zerolinecolor\":\"#E1E5ED\"},\"xaxis6\":{\"anchor\":\"y6\",\"domain\":[0.2625,0.475],\"gridcolor\":\"#E1E5ED\",\"showgrid\":false,\"tickfont\":{\"color\":\"#4D5663\"},\"title\":{\"font\":{\"color\":\"#4D5663\"},\"text\":\"\"},\"zerolinecolor\":\"#E1E5ED\"},\"yaxis6\":{\"anchor\":\"x6\",\"domain\":[0.535,0.7325],\"gridcolor\":\"#E1E5ED\",\"showgrid\":false,\"tickfont\":{\"color\":\"#4D5663\"},\"title\":{\"font\":{\"color\":\"#4D5663\"},\"text\":\"\"},\"zerolinecolor\":\"#E1E5ED\"},\"xaxis7\":{\"anchor\":\"y7\",\"domain\":[0.525,0.7375],\"gridcolor\":\"#E1E5ED\",\"showgrid\":false,\"tickfont\":{\"color\":\"#4D5663\"},\"title\":{\"font\":{\"color\":\"#4D5663\"},\"text\":\"\"},\"zerolinecolor\":\"#E1E5ED\"},\"yaxis7\":{\"anchor\":\"x7\",\"domain\":[0.535,0.7325],\"gridcolor\":\"#E1E5ED\",\"showgrid\":false,\"tickfont\":{\"color\":\"#4D5663\"},\"title\":{\"font\":{\"color\":\"#4D5663\"},\"text\":\"\"},\"zerolinecolor\":\"#E1E5ED\"},\"xaxis8\":{\"anchor\":\"y8\",\"domain\":[0.7875,1.0],\"gridcolor\":\"#E1E5ED\",\"showgrid\":false,\"tickfont\":{\"color\":\"#4D5663\"},\"title\":{\"font\":{\"color\":\"#4D5663\"},\"text\":\"\"},\"zerolinecolor\":\"#E1E5ED\"},\"yaxis8\":{\"anchor\":\"x8\",\"domain\":[0.535,0.7325],\"gridcolor\":\"#E1E5ED\",\"showgrid\":false,\"tickfont\":{\"color\":\"#4D5663\"},\"title\":{\"font\":{\"color\":\"#4D5663\"},\"text\":\"\"},\"zerolinecolor\":\"#E1E5ED\"},\"xaxis9\":{\"anchor\":\"y9\",\"domain\":[0.0,0.2125],\"gridcolor\":\"#E1E5ED\",\"showgrid\":false,\"tickfont\":{\"color\":\"#4D5663\"},\"title\":{\"font\":{\"color\":\"#4D5663\"},\"text\":\"\"},\"zerolinecolor\":\"#E1E5ED\"},\"yaxis9\":{\"anchor\":\"x9\",\"domain\":[0.2675,0.465],\"gridcolor\":\"#E1E5ED\",\"showgrid\":false,\"tickfont\":{\"color\":\"#4D5663\"},\"title\":{\"font\":{\"color\":\"#4D5663\"},\"text\":\"\"},\"zerolinecolor\":\"#E1E5ED\"},\"xaxis10\":{\"anchor\":\"y10\",\"domain\":[0.2625,0.475],\"gridcolor\":\"#E1E5ED\",\"showgrid\":false,\"tickfont\":{\"color\":\"#4D5663\"},\"title\":{\"font\":{\"color\":\"#4D5663\"},\"text\":\"\"},\"zerolinecolor\":\"#E1E5ED\"},\"yaxis10\":{\"anchor\":\"x10\",\"domain\":[0.2675,0.465],\"gridcolor\":\"#E1E5ED\",\"showgrid\":false,\"tickfont\":{\"color\":\"#4D5663\"},\"title\":{\"font\":{\"color\":\"#4D5663\"},\"text\":\"\"},\"zerolinecolor\":\"#E1E5ED\"},\"xaxis11\":{\"anchor\":\"y11\",\"domain\":[0.525,0.7375],\"gridcolor\":\"#E1E5ED\",\"showgrid\":false,\"tickfont\":{\"color\":\"#4D5663\"},\"title\":{\"font\":{\"color\":\"#4D5663\"},\"text\":\"\"},\"zerolinecolor\":\"#E1E5ED\"},\"yaxis11\":{\"anchor\":\"x11\",\"domain\":[0.2675,0.465],\"gridcolor\":\"#E1E5ED\",\"showgrid\":false,\"tickfont\":{\"color\":\"#4D5663\"},\"title\":{\"font\":{\"color\":\"#4D5663\"},\"text\":\"\"},\"zerolinecolor\":\"#E1E5ED\"},\"xaxis12\":{\"anchor\":\"y12\",\"domain\":[0.7875,1.0],\"gridcolor\":\"#E1E5ED\",\"showgrid\":false,\"tickfont\":{\"color\":\"#4D5663\"},\"title\":{\"font\":{\"color\":\"#4D5663\"},\"text\":\"\"},\"zerolinecolor\":\"#E1E5ED\"},\"yaxis12\":{\"anchor\":\"x12\",\"domain\":[0.2675,0.465],\"gridcolor\":\"#E1E5ED\",\"showgrid\":false,\"tickfont\":{\"color\":\"#4D5663\"},\"title\":{\"font\":{\"color\":\"#4D5663\"},\"text\":\"\"},\"zerolinecolor\":\"#E1E5ED\"},\"xaxis13\":{\"anchor\":\"y13\",\"domain\":[0.0,0.2125],\"gridcolor\":\"#E1E5ED\",\"showgrid\":false,\"tickfont\":{\"color\":\"#4D5663\"},\"title\":{\"font\":{\"color\":\"#4D5663\"},\"text\":\"\"},\"zerolinecolor\":\"#E1E5ED\"},\"yaxis13\":{\"anchor\":\"x13\",\"domain\":[0.0,0.1975],\"gridcolor\":\"#E1E5ED\",\"showgrid\":false,\"tickfont\":{\"color\":\"#4D5663\"},\"title\":{\"font\":{\"color\":\"#4D5663\"},\"text\":\"\"},\"zerolinecolor\":\"#E1E5ED\"},\"xaxis14\":{\"anchor\":\"y14\",\"domain\":[0.2625,0.475],\"gridcolor\":\"#E1E5ED\",\"showgrid\":false,\"tickfont\":{\"color\":\"#4D5663\"},\"title\":{\"font\":{\"color\":\"#4D5663\"},\"text\":\"\"},\"zerolinecolor\":\"#E1E5ED\"},\"yaxis14\":{\"anchor\":\"x14\",\"domain\":[0.0,0.1975],\"gridcolor\":\"#E1E5ED\",\"showgrid\":false,\"tickfont\":{\"color\":\"#4D5663\"},\"title\":{\"font\":{\"color\":\"#4D5663\"},\"text\":\"\"},\"zerolinecolor\":\"#E1E5ED\"},\"xaxis15\":{\"anchor\":\"y15\",\"domain\":[0.525,0.7375],\"gridcolor\":\"#E1E5ED\",\"showgrid\":false,\"tickfont\":{\"color\":\"#4D5663\"},\"title\":{\"font\":{\"color\":\"#4D5663\"},\"text\":\"\"},\"zerolinecolor\":\"#E1E5ED\"},\"yaxis15\":{\"anchor\":\"x15\",\"domain\":[0.0,0.1975],\"gridcolor\":\"#E1E5ED\",\"showgrid\":false,\"tickfont\":{\"color\":\"#4D5663\"},\"title\":{\"font\":{\"color\":\"#4D5663\"},\"text\":\"\"},\"zerolinecolor\":\"#E1E5ED\"},\"xaxis16\":{\"anchor\":\"y16\",\"domain\":[0.7875,1.0],\"gridcolor\":\"#E1E5ED\",\"showgrid\":false,\"tickfont\":{\"color\":\"#4D5663\"},\"title\":{\"font\":{\"color\":\"#4D5663\"},\"text\":\"\"},\"zerolinecolor\":\"#E1E5ED\"},\"yaxis16\":{\"anchor\":\"x16\",\"domain\":[0.0,0.1975],\"gridcolor\":\"#E1E5ED\",\"showgrid\":false,\"tickfont\":{\"color\":\"#4D5663\"},\"title\":{\"font\":{\"color\":\"#4D5663\"},\"text\":\"\"},\"zerolinecolor\":\"#E1E5ED\"}},                        {\"showLink\": true, \"linkText\": \"Export to plot.ly\", \"plotlyServerURL\": \"https://plot.ly\", \"responsive\": true}                    ).then(function(){\n",
       "                            \n",
       "var gd = document.getElementById('3ba2f924-66de-4005-921b-5f205b86c67c');\n",
       "var x = new MutationObserver(function (mutations, observer) {{\n",
       "        var display = window.getComputedStyle(gd).display;\n",
       "        if (!display || display === 'none') {{\n",
       "            console.log([gd, 'removed!']);\n",
       "            Plotly.purge(gd);\n",
       "            observer.disconnect();\n",
       "        }}\n",
       "}});\n",
       "\n",
       "// Listen for the removal of the full notebook cells\n",
       "var notebookContainer = gd.closest('#notebook-container');\n",
       "if (notebookContainer) {{\n",
       "    x.observe(notebookContainer, {childList: true});\n",
       "}}\n",
       "\n",
       "// Listen for the clearing of the current output cell\n",
       "var outputEl = gd.closest('.output');\n",
       "if (outputEl) {{\n",
       "    x.observe(outputEl, {childList: true});\n",
       "}}\n",
       "\n",
       "                        })                };                });            </script>        </div>"
      ]
     },
     "metadata": {},
     "output_type": "display_data"
    }
   ],
   "source": [
    "df1.scatter_matrix()"
   ]
  }
 ],
 "metadata": {
  "kernelspec": {
   "display_name": "Python 3 (ipykernel)",
   "language": "python",
   "name": "python3"
  },
  "language_info": {
   "codemirror_mode": {
    "name": "ipython",
    "version": 3
   },
   "file_extension": ".py",
   "mimetype": "text/x-python",
   "name": "python",
   "nbconvert_exporter": "python",
   "pygments_lexer": "ipython3",
   "version": "3.8.11"
  }
 },
 "nbformat": 4,
 "nbformat_minor": 5
}
